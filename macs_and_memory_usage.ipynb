{
  "nbformat": 4,
  "nbformat_minor": 0,
  "metadata": {
    "colab": {
      "provenance": []
    },
    "kernelspec": {
      "name": "python3",
      "display_name": "Python 3"
    },
    "language_info": {
      "name": "python"
    }
  },
  "cells": [
    {
      "cell_type": "markdown",
      "source": [
        "#Setup"
      ],
      "metadata": {
        "id": "JYjopqhj5nZH"
      }
    },
    {
      "cell_type": "code",
      "execution_count": 1,
      "metadata": {
        "colab": {
          "base_uri": "https://localhost:8080/"
        },
        "id": "JMalmLxgaWwf",
        "outputId": "faad74c6-9084-49b9-a774-2a99aece66be"
      },
      "outputs": [
        {
          "output_type": "stream",
          "name": "stdout",
          "text": [
            "Requirement already satisfied: flatbuffers in /usr/local/lib/python3.10/dist-packages (23.5.26)\n",
            "Requirement already satisfied: prettytable in /usr/local/lib/python3.10/dist-packages (3.9.0)\n",
            "Requirement already satisfied: wcwidth in /usr/local/lib/python3.10/dist-packages (from prettytable) (0.2.12)\n",
            "Cloning into 'tflite_tools'...\n",
            "remote: Enumerating objects: 320, done.\u001b[K\n",
            "remote: Counting objects: 100% (320/320), done.\u001b[K\n",
            "remote: Compressing objects: 100% (81/81), done.\u001b[K\n",
            "remote: Total 320 (delta 262), reused 283 (delta 236), pack-reused 0\u001b[K\n",
            "Receiving objects: 100% (320/320), 164.03 KiB | 2.93 MiB/s, done.\n",
            "Resolving deltas: 100% (262/262), done.\n"
          ]
        }
      ],
      "source": [
        "!pip install flatbuffers prettytable\n",
        "!git clone https://github.com/eliberis/tflite-tools.git tflite_tools"
      ]
    },
    {
      "cell_type": "code",
      "source": [
        "!pip install -U tensorboard_plugin_profile tensorflow-addons\n",
        "!pip install -q tensorflow-model-optimization\n",
        "\n",
        "%load_ext tensorboard"
      ],
      "metadata": {
        "colab": {
          "base_uri": "https://localhost:8080/"
        },
        "id": "RNfLAjJ4adS6",
        "outputId": "1a65acbe-b457-42d9-8e6e-4649285320c0"
      },
      "execution_count": 2,
      "outputs": [
        {
          "output_type": "stream",
          "name": "stdout",
          "text": [
            "Collecting tensorboard_plugin_profile\n",
            "  Downloading tensorboard_plugin_profile-2.15.0-py3-none-any.whl (5.6 MB)\n",
            "\u001b[2K     \u001b[90m━━━━━━━━━━━━━━━━━━━━━━━━━━━━━━━━━━━━━━━━\u001b[0m \u001b[32m5.6/5.6 MB\u001b[0m \u001b[31m18.9 MB/s\u001b[0m eta \u001b[36m0:00:00\u001b[0m\n",
            "\u001b[?25hCollecting tensorflow-addons\n",
            "  Downloading tensorflow_addons-0.23.0-cp310-cp310-manylinux_2_17_x86_64.manylinux2014_x86_64.whl (611 kB)\n",
            "\u001b[2K     \u001b[90m━━━━━━━━━━━━━━━━━━━━━━━━━━━━━━━━━━━━━━━━\u001b[0m \u001b[32m611.8/611.8 kB\u001b[0m \u001b[31m20.3 MB/s\u001b[0m eta \u001b[36m0:00:00\u001b[0m\n",
            "\u001b[?25hCollecting gviz-api>=1.9.0 (from tensorboard_plugin_profile)\n",
            "  Downloading gviz_api-1.10.0-py2.py3-none-any.whl (13 kB)\n",
            "Requirement already satisfied: protobuf<5.0.0dev,>=3.19.6 in /usr/local/lib/python3.10/dist-packages (from tensorboard_plugin_profile) (3.20.3)\n",
            "Requirement already satisfied: setuptools>=41.0.0 in /usr/local/lib/python3.10/dist-packages (from tensorboard_plugin_profile) (67.7.2)\n",
            "Requirement already satisfied: six>=1.10.0 in /usr/local/lib/python3.10/dist-packages (from tensorboard_plugin_profile) (1.16.0)\n",
            "Requirement already satisfied: werkzeug>=0.11.15 in /usr/local/lib/python3.10/dist-packages (from tensorboard_plugin_profile) (3.0.1)\n",
            "Requirement already satisfied: packaging in /usr/local/lib/python3.10/dist-packages (from tensorflow-addons) (23.2)\n",
            "Collecting typeguard<3.0.0,>=2.7 (from tensorflow-addons)\n",
            "  Downloading typeguard-2.13.3-py3-none-any.whl (17 kB)\n",
            "Requirement already satisfied: MarkupSafe>=2.1.1 in /usr/local/lib/python3.10/dist-packages (from werkzeug>=0.11.15->tensorboard_plugin_profile) (2.1.3)\n",
            "Installing collected packages: typeguard, gviz-api, tensorflow-addons, tensorboard_plugin_profile\n",
            "Successfully installed gviz-api-1.10.0 tensorboard_plugin_profile-2.15.0 tensorflow-addons-0.23.0 typeguard-2.13.3\n",
            "\u001b[2K     \u001b[90m━━━━━━━━━━━━━━━━━━━━━━━━━━━━━━━━━━━━━━━━\u001b[0m \u001b[32m241.2/241.2 kB\u001b[0m \u001b[31m3.8 MB/s\u001b[0m eta \u001b[36m0:00:00\u001b[0m\n",
            "\u001b[?25h"
          ]
        }
      ]
    },
    {
      "cell_type": "code",
      "source": [
        "import tensorflow as tf\n",
        "import tensorflow_addons as tfa\n",
        "import numpy as np\n",
        "import os"
      ],
      "metadata": {
        "colab": {
          "base_uri": "https://localhost:8080/"
        },
        "id": "PxFQqkaYalE7",
        "outputId": "7a966105-4fbe-4ed1-ee8f-4d4f06c763c1"
      },
      "execution_count": 3,
      "outputs": [
        {
          "output_type": "stream",
          "name": "stderr",
          "text": [
            "/usr/local/lib/python3.10/dist-packages/tensorflow_addons/utils/tfa_eol_msg.py:23: UserWarning: \n",
            "\n",
            "TensorFlow Addons (TFA) has ended development and introduction of new features.\n",
            "TFA has entered a minimal maintenance and release mode until a planned end of life in May 2024.\n",
            "Please modify downstream libraries to take dependencies from other repositories in our TensorFlow community (e.g. Keras, Keras-CV, and Keras-NLP). \n",
            "\n",
            "For more information see: https://github.com/tensorflow/addons/issues/2807 \n",
            "\n",
            "  warnings.warn(\n"
          ]
        }
      ]
    },
    {
      "cell_type": "markdown",
      "source": [
        "#Data Preprocessing"
      ],
      "metadata": {
        "id": "1JlyQLhq5slS"
      }
    },
    {
      "cell_type": "code",
      "source": [
        "class_map = {\n",
        "    0: \"airplane\",\n",
        "    1: \"automobile\",\n",
        "    2: \"bird\",\n",
        "    3: \"cat\",\n",
        "    4: \"deer\",\n",
        "    5: \"dog\",\n",
        "    6: \"frog\",\n",
        "    7: \"horse\",\n",
        "    8: \"ship\",\n",
        "    9: \"truck\"\n",
        "}\n",
        "\n",
        "(x_train, y_train), (x_test, y_test) = tf.keras.datasets.cifar10.load_data()\n",
        "\n",
        "def preprocess(x):\n",
        "    x = x.astype('float32') / 255\n",
        "    return x\n",
        "\n",
        "x_train = preprocess(x_train)\n",
        "x_test = preprocess(x_test)\n",
        "\n",
        "subsample_ratio = 1.0\n",
        "subsample_index = int(len(x_train) * subsample_ratio)\n",
        "x_train = x_train[:subsample_index]\n",
        "y_train = y_train[:subsample_index]\n",
        "\n",
        "subsample_index = int(len(x_test) * subsample_ratio)\n",
        "x_test = x_test[:subsample_index]\n",
        "y_test = y_test[:subsample_index]\n"
      ],
      "metadata": {
        "colab": {
          "base_uri": "https://localhost:8080/"
        },
        "id": "WyhpKCQQat4L",
        "outputId": "ab6ebc3b-71a8-4ef8-cfa9-f6efd03ae559"
      },
      "execution_count": 4,
      "outputs": [
        {
          "output_type": "stream",
          "name": "stdout",
          "text": [
            "Downloading data from https://www.cs.toronto.edu/~kriz/cifar-10-python.tar.gz\n",
            "170498071/170498071 [==============================] - 4s 0us/step\n"
          ]
        }
      ]
    },
    {
      "cell_type": "code",
      "source": [
        "train_data = tf.data.Dataset.from_tensor_slices((x_train, y_train))\n",
        "test_data = tf.data.Dataset.from_tensor_slices((x_test, y_test))\n",
        "\n",
        "batch_size = 128\n",
        "\n",
        "train_data = train_data.shuffle(16 * batch_size)\n",
        "\n",
        "train_data = train_data.batch(batch_size)\n",
        "test_data = test_data.batch(batch_size)\n",
        "\n",
        "cifar10_means = np.array([np.mean(x_train[:, :, :, 0]), np.mean(x_train[:, :, :, 1]), np.mean(x_train[:, :, :, 2])])\n",
        "cifar10_stds = np.array([np.std(x_train[:, :, :, 0]), np.std(x_train[:, :, :, 1]), np.std(x_train[:, :, :, 2])])\n",
        "\n",
        "def random_shift(x, shift_amount):\n",
        "    \"\"\" Randomly shifts images by up to HxW pixels = `shift_amount`. \"\"\"\n",
        "    h_pixels, w_pixels = shift_amount\n",
        "    orig = tf.shape(x)\n",
        "    paddings = tf.constant([[0, 0], [w_pixels, w_pixels], [h_pixels, h_pixels], [0, 0]])\n",
        "    x = tf.pad(x, mode=\"SYMMETRIC\", paddings=paddings)\n",
        "    return tf.image.random_crop(x, size=orig)\n",
        "\n",
        "def transform_data(xs, ys):\n",
        "\n",
        "    xs = tf.image.random_flip_left_right(xs)\n",
        "    xs = tfa.image.random_cutout(xs, mask_size=(12, 12))\n",
        "    xs = random_shift(xs, (4, 4))\n",
        "\n",
        "    return xs, ys\n",
        "\n",
        "def normalise(xs, ys):\n",
        "\n",
        "    xs = (xs - cifar10_means) / cifar10_stds\n",
        "    return xs, ys\n",
        "\n",
        "def undo_normalisation(x):\n",
        "    return np.clip(x * cifar10_stds + cifar10_means, 0.0, 1.0)\n",
        "\n",
        "# Augmentation and normalisation\n",
        "train_data = train_data.map(transform_data).map(normalise)\n",
        "test_data = test_data.map(normalise)"
      ],
      "metadata": {
        "id": "5Rw4iG6Gaw08"
      },
      "execution_count": 5,
      "outputs": []
    },
    {
      "cell_type": "code",
      "source": [
        "# Visualise data\n",
        "import matplotlib.pyplot as plt\n",
        "import numpy as np\n",
        "\n",
        "train_batch, train_target = next(train_data.as_numpy_iterator())\n",
        "test_batch, test_target = next(test_data.as_numpy_iterator())\n",
        "\n",
        "print(\"Train batch:\")\n",
        "for i in range(3):\n",
        "    print(f\"\\t{class_map[train_target[i][0]]}\")\n",
        "    plt.imshow(undo_normalisation(train_batch[i]))\n",
        "    plt.show()\n",
        "\n",
        "print(\"Test batch:\")\n",
        "for i in range(3):\n",
        "    print(f\"\\t{class_map[test_target[i][0]]}\")\n",
        "    plt.imshow(undo_normalisation(test_batch[i]))\n",
        "    plt.show()"
      ],
      "metadata": {
        "colab": {
          "base_uri": "https://localhost:8080/",
          "height": 1000
        },
        "id": "qsykhsK7azg3",
        "outputId": "b423bd70-4ab5-4fee-ed7f-274595a6237a"
      },
      "execution_count": 6,
      "outputs": [
        {
          "output_type": "stream",
          "name": "stdout",
          "text": [
            "Train batch:\n",
            "\tautomobile\n"
          ]
        },
        {
          "output_type": "display_data",
          "data": {
            "text/plain": [
              "<Figure size 640x480 with 1 Axes>"
            ],
            "image/png": "[encoded data removed]"
          },
          "metadata": {}
        },
        {
          "output_type": "stream",
          "name": "stdout",
          "text": [
            "\tship\n"
          ]
        },
        {
          "output_type": "display_data",
          "data": {
            "text/plain": [
              "<Figure size 640x480 with 1 Axes>"
            ],
            "image/png": "[encoded data removed]"
          },
          "metadata": {}
        },
        {
          "output_type": "stream",
          "name": "stdout",
          "text": [
            "\thorse\n"
          ]
        },
        {
          "output_type": "display_data",
          "data": {
            "text/plain": [
              "<Figure size 640x480 with 1 Axes>"
            ],
            "image/png": "[encoded data removed]"
          },
          "metadata": {}
        },
        {
          "output_type": "stream",
          "name": "stdout",
          "text": [
            "Test batch:\n",
            "\tcat\n"
          ]
        },
        {
          "output_type": "display_data",
          "data": {
            "text/plain": [
              "<Figure size 640x480 with 1 Axes>"
            ],
            "image/png": "[encoded data removed]"
          },
          "metadata": {}
        },
        {
          "output_type": "stream",
          "name": "stdout",
          "text": [
            "\tship\n"
          ]
        },
        {
          "output_type": "display_data",
          "data": {
            "text/plain": [
              "<Figure size 640x480 with 1 Axes>"
            ],
            "image/png": "[encoded data removed]"
          },
          "metadata": {}
        },
        {
          "output_type": "stream",
          "name": "stdout",
          "text": [
            "\tship\n"
          ]
        },
        {
          "output_type": "display_data",
          "data": {
            "text/plain": [
              "<Figure size 640x480 with 1 Axes>"
            ],
            "image/png": "[encoded data removed]"
          },
          "metadata": {}
        }
      ]
    },
    {
      "cell_type": "code",
      "source": [
        "from tensorflow.keras import layers\n",
        "from tensorflow.keras.models import Model\n",
        "\n",
        "def mobilenet_v2_like(input_shape=(32, 32, 3), num_classes=10):\n",
        "    def _inverted_res_block(i, filters, alpha, stride, expansion, block_id):\n",
        "        prefix = 'block_{}_'.format(block_id)\n",
        "        in_channels = i.shape[-1]\n",
        "        x = i\n",
        "\n",
        "        # Expand\n",
        "        x = layers.Conv2D(expansion * in_channels, kernel_size=1, padding='valid',\n",
        "                          use_bias=False, activation=None, name=prefix + 'expand')(x)\n",
        "        x = layers.BatchNormalization(name=prefix + 'expand_BN')(x)\n",
        "        x = layers.ReLU(name=prefix + 'expand_relu')(x)\n",
        "\n",
        "        # Depthwise\n",
        "        x = layers.DepthwiseConv2D(kernel_size=3, strides=stride, activation=None,\n",
        "                                   use_bias=False, padding='same', name=prefix + 'depthwise')(x)\n",
        "        x = layers.BatchNormalization(name=prefix + 'depthwise_BN')(x)\n",
        "        x = layers.ReLU(name=prefix + 'depthwise_relu')(x)\n",
        "\n",
        "        # Project\n",
        "        pointwise_filters = int(filters * alpha)\n",
        "        x = layers.Conv2D(pointwise_filters, kernel_size=1, padding='valid', use_bias=False,\n",
        "                          activation=None, name=prefix + 'project')(x)\n",
        "        x = layers.BatchNormalization(name=prefix + 'project_BN')(x)\n",
        "\n",
        "        if stride == 1:\n",
        "            if in_channels != pointwise_filters:\n",
        "                i = layers.Conv2D(pointwise_filters, kernel_size=1, padding='valid', use_bias=False,\n",
        "                                  activation=None, name=prefix + 'adjust')(i)\n",
        "            x = layers.Add(name=prefix + 'add')([i, x])\n",
        "        return x\n",
        "\n",
        "    i = layers.Input(shape=input_shape)\n",
        "    x = i\n",
        "\n",
        "    alpha = 1.0\n",
        "    x = layers.Conv2D(32, kernel_size=3, strides=(1, 1),\n",
        "                      padding='same', use_bias=False, name='Conv1')(x)\n",
        "    x = layers.BatchNormalization(name='bn_Conv1')(x)\n",
        "    x = layers.ReLU(name='Conv1_relu')(x)\n",
        "\n",
        "    x = _inverted_res_block(x, filters=16, alpha=alpha, stride=1, expansion=1, block_id=0)\n",
        "\n",
        "    x = _inverted_res_block(x, filters=24, alpha=alpha, stride=1, expansion=6, block_id=1)\n",
        "    x = _inverted_res_block(x, filters=24, alpha=alpha, stride=1, expansion=6, block_id=2)\n",
        "\n",
        "    x = _inverted_res_block(x, filters=32, alpha=alpha, stride=2, expansion=6, block_id=3)\n",
        "    x = _inverted_res_block(x, filters=32, alpha=alpha, stride=1, expansion=6, block_id=4)\n",
        "    x = _inverted_res_block(x, filters=32, alpha=alpha, stride=1, expansion=6, block_id=5)\n",
        "\n",
        "    x = _inverted_res_block(x, filters=64, alpha=alpha, stride=2, expansion=6, block_id=6)\n",
        "    x = _inverted_res_block(x, filters=64, alpha=alpha, stride=1, expansion=6, block_id=7)\n",
        "    x = _inverted_res_block(x, filters=64, alpha=alpha, stride=1, expansion=6, block_id=8)\n",
        "    x = _inverted_res_block(x, filters=64, alpha=alpha, stride=1, expansion=6, block_id=9)\n",
        "\n",
        "    x = _inverted_res_block(x, filters=96, alpha=alpha, stride=1, expansion=6, block_id=10)\n",
        "    x = _inverted_res_block(x, filters=96, alpha=alpha, stride=1, expansion=6, block_id=11)\n",
        "    x = _inverted_res_block(x, filters=96, alpha=alpha, stride=1, expansion=6, block_id=12)\n",
        "\n",
        "    x = _inverted_res_block(x, filters=160, alpha=alpha, stride=2, expansion=6, block_id=13)\n",
        "    x = _inverted_res_block(x, filters=160, alpha=alpha, stride=1, expansion=6, block_id=14)\n",
        "    x = _inverted_res_block(x, filters=160, alpha=alpha, stride=1, expansion=6, block_id=15)\n",
        "\n",
        "    x = _inverted_res_block(x, filters=320, alpha=alpha, stride=1, expansion=6, block_id=16)\n",
        "\n",
        "    x = layers.Conv2D(1280, kernel_size=1, use_bias=False, name='Conv_1', padding=\"valid\")(x)\n",
        "    x = layers.BatchNormalization(name='Conv_1_bn')(x)\n",
        "    x = layers.ReLU(name='out_relu')(x)\n",
        "\n",
        "    x = layers.GlobalAveragePooling2D()(x)\n",
        "    x = layers.Dense(num_classes, name='predictions')(x)\n",
        "\n",
        "    return Model(i, x)\n"
      ],
      "metadata": {
        "id": "BVOsOJX2a15R"
      },
      "execution_count": 7,
      "outputs": []
    },
    {
      "cell_type": "code",
      "source": [
        "from tensorflow.keras.callbacks import LearningRateScheduler, TensorBoard\n",
        "from tensorflow.keras.losses import SparseCategoricalCrossentropy\n",
        "from tensorflow.keras.optimizers import SGD\n",
        "\n",
        "tf.config.optimizer.set_jit(True)\n",
        "\n",
        "train_data = train_data.prefetch(1)\n",
        "test_data = test_data.prefetch(1)\n",
        "\n",
        "model_mobilenet = mobilenet_v2_like()\n",
        "model_mobilenet.compile(loss=SparseCategoricalCrossentropy(from_logits=True),\n",
        "              optimizer=SGD(learning_rate=0.1, momentum=0.9, weight_decay=0.0, nesterov=False),\n",
        "              metrics=['accuracy'])\n",
        "\n",
        "def train_model(model):\n",
        "    def lr_schedule(epoch):\n",
        "        if 0 <= epoch < 35:\n",
        "            return 0.1\n",
        "        if 35 <= epoch < 65:\n",
        "            return 0.01\n",
        "        return 0.001\n",
        "\n",
        "    model.fit(\n",
        "        train_data, validation_data=test_data,\n",
        "        epochs=60, # Set no. of epochs\n",
        "        callbacks=[\n",
        "            LearningRateScheduler(lr_schedule),\n",
        "            TensorBoard(log_dir=\"./tb_logs\", profile_batch='25, 35')  # Profile between the 25th and 35th forward pass\n",
        "        ])"
      ],
      "metadata": {
        "id": "20S2sxqObGWB"
      },
      "execution_count": 8,
      "outputs": []
    },
    {
      "cell_type": "markdown",
      "source": [
        "#Load models and convert to TFLite"
      ],
      "metadata": {
        "id": "Tz0nKEtzbfnu"
      }
    },
    {
      "cell_type": "code",
      "source": [
        "import pathlib\n",
        "import os"
      ],
      "metadata": {
        "id": "hcG_O66OdGq0"
      },
      "execution_count": 9,
      "outputs": []
    },
    {
      "cell_type": "code",
      "source": [
        "# Helper function to evaluate the TF Lite model using \"test\" dataset.\n",
        "def evaluate_model(interpreter):\n",
        "  input_index = interpreter.get_input_details()[0][\"index\"]\n",
        "  output_index = interpreter.get_output_details()[0][\"index\"]\n",
        "\n",
        "  # Run predictions on every image in the \"test\" dataset.\n",
        "  td = list(test_data.as_numpy_iterator())\n",
        "\n",
        "  accuracy_list = []\n",
        "  for i in td:\n",
        "    prediction_digits = []\n",
        "    #for test_image in x_test:\n",
        "    for test_image in i[0]:\n",
        "      # Pre-processing: add batch dimension and convert to float32 to match with\n",
        "      # the model's input data format.\n",
        "      test_image = np.expand_dims(test_image, axis=0).astype(np.float32)\n",
        "      interpreter.set_tensor(input_index, test_image)\n",
        "\n",
        "      # Run inference.\n",
        "      interpreter.invoke()\n",
        "\n",
        "      # Post-processing: remove batch dimension and find the digit with highest\n",
        "      # probability.\n",
        "      output = interpreter.tensor(output_index)\n",
        "      digit = np.argmax(output()[0])\n",
        "      prediction_digits.append(digit)\n",
        "\n",
        "    # Compare prediction results with ground truth labels to calculate accuracy.\n",
        "    prediction_digits = np.array(prediction_digits).reshape(-1,1)\n",
        "    accuracy = (prediction_digits == i[1]).mean()\n",
        "    #print(accuracy)\n",
        "    accuracy_list.append(accuracy)\n",
        "\n",
        "  return np.mean(accuracy_list)"
      ],
      "metadata": {
        "id": "mMH0IUVspIoZ"
      },
      "execution_count": 10,
      "outputs": []
    },
    {
      "cell_type": "code",
      "source": [
        "models_dir = pathlib.Path(\"./models/\")\n",
        "models_dir.mkdir(exist_ok=True, parents=True)"
      ],
      "metadata": {
        "id": "N28iZuGmbiF4"
      },
      "execution_count": 11,
      "outputs": []
    },
    {
      "cell_type": "code",
      "source": [
        "def convert_to_tflite(path):\n",
        "  model = tf.keras.models.load_model(path)\n",
        "  model.compile(loss=SparseCategoricalCrossentropy(from_logits=True),\n",
        "                optimizer=SGD(learning_rate=0.1, momentum=0.9, weight_decay=0.0, nesterov=False),\n",
        "                metrics=['accuracy'])\n",
        "  model.evaluate(test_data)\n",
        "  print(f\"Total params: {model.count_params()}\")\n",
        "\n",
        "  # Convert model to a TensorFlow Lite model and save\n",
        "  converter = tf.lite.TFLiteConverter.from_keras_model(model)\n",
        "  model_tflite = converter.convert()\n",
        "\n",
        "  models_dir = pathlib.Path(\"./models/\")\n",
        "  model_tflite_file = models_dir/\"\".join([path.split(\"/\")[-1].split(\".\")[0], '.tflite'])\n",
        "  model_tflite_file.write_bytes(model_tflite)\n",
        "  return str(model_tflite_file)"
      ],
      "metadata": {
        "id": "VxhAvBzwn5wE"
      },
      "execution_count": 12,
      "outputs": []
    },
    {
      "cell_type": "code",
      "source": [
        "path = convert_to_tflite('/content/model_mobilenet.h5')\n",
        "print(path)"
      ],
      "metadata": {
        "colab": {
          "base_uri": "https://localhost:8080/"
        },
        "id": "ZSoM0vzOb9Kc",
        "outputId": "ccf8a0b3-ece3-4b75-8f97-4cc7c6483a09"
      },
      "execution_count": 13,
      "outputs": [
        {
          "output_type": "stream",
          "name": "stderr",
          "text": [
            "WARNING:tensorflow:No training configuration found in the save file, so the model was *not* compiled. Compile it manually.\n"
          ]
        },
        {
          "output_type": "stream",
          "name": "stdout",
          "text": [
            "79/79 [==============================] - 18s 44ms/step - loss: 0.2422 - accuracy: 0.9289\n",
            "Total params: 2330186\n",
            "models/model_mobilenet.tflite\n"
          ]
        }
      ]
    },
    {
      "cell_type": "code",
      "source": [
        "# Evaluate accuracy\n",
        "interpreter = tf.lite.Interpreter(model_path=path)\n",
        "interpreter.allocate_tensors()\n",
        "print(f\"{path} accuracy: {evaluate_model(interpreter)}\")"
      ],
      "metadata": {
        "id": "rHm3jKp8cI0u"
      },
      "execution_count": null,
      "outputs": []
    },
    {
      "cell_type": "code",
      "source": [
        "!python tflite_tools/tflite_tools.py -i /content/model_mobilenet.tflite --calc-macs --calc-size"
      ],
      "metadata": {
        "colab": {
          "base_uri": "https://localhost:8080/"
        },
        "id": "9qnj42r4cieE",
        "outputId": "308f031b-6551-42e1-b904-d2642024be53"
      },
      "execution_count": 4,
      "outputs": [
        {
          "output_type": "stream",
          "name": "stdout",
          "text": [
            "Tensor information (weights excluded):\n",
            "+-----+----------------------------------------------------------------------------------+------------------+-----------------+\n",
            "|  Id |                                      Tensor                                      |      Shape       | Size in RAM (B) |\n",
            "+-----+----------------------------------------------------------------------------------+------------------+-----------------+\n",
            "|   0 |                            serving_default_input_1:0                             |  (1, 32, 32, 3)  |          12,288 |\n",
            "| 118 | model/Conv1_relu/Relu;model/bn_Conv1/F...ock_5_project/Conv2D;model/Conv1/Conv2D | (1, 32, 32, 32)  |         131,072 |\n",
            "| 119 |                           model/block_0_adjust/Conv2D1                           | (1, 32, 32, 16)  |          65,536 |\n",
            "| 120 | model/block_0_expand_relu/Relu;model/b...ject/Conv2D;model/block_0_expand/Conv2D | (1, 32, 32, 32)  |         131,072 |\n",
            "| 121 | model/block_0_depthwise_relu/Relu;mode...onv2D;model/block_0_depthwise/depthwise | (1, 32, 32, 32)  |         131,072 |\n",
            "| 122 |      model/block_0_project_BN/FusedBatchNormV3;model/block_0_project/Conv2D      | (1, 32, 32, 16)  |          65,536 |\n",
            "| 123 |                              model/block_0_add/add                               | (1, 32, 32, 16)  |          65,536 |\n",
            "| 124 |                           model/block_1_adjust/Conv2D1                           | (1, 32, 32, 24)  |          98,304 |\n",
            "| 125 | model/block_1_expand_relu/Relu;model/b...ject/Conv2D;model/block_1_expand/Conv2D | (1, 32, 32, 96)  |         393,216 |\n",
            "| 126 | model/block_1_depthwise_relu/Relu;mode...onv2D;model/block_1_depthwise/depthwise | (1, 32, 32, 96)  |         393,216 |\n",
            "| 127 | model/block_1_project_BN/FusedBatchNor...ect/Conv2D;model/block_1_project/Conv2D | (1, 32, 32, 24)  |          98,304 |\n",
            "| 128 |                              model/block_1_add/add                               | (1, 32, 32, 24)  |          98,304 |\n",
            "| 129 | model/block_2_expand_relu/Relu;model/b...e/depthwise;model/block_2_expand/Conv2D | (1, 32, 32, 144) |         589,824 |\n",
            "| 130 | model/block_2_depthwise_relu/Relu;mode...hwise;model/block_2_depthwise/depthwise | (1, 32, 32, 144) |         589,824 |\n",
            "| 131 |      model/block_2_project_BN/FusedBatchNormV3;model/block_2_project/Conv2D      | (1, 32, 32, 24)  |          98,304 |\n",
            "| 132 |                              model/block_2_add/add                               | (1, 32, 32, 24)  |          98,304 |\n",
            "| 133 | model/block_3_expand_relu/Relu;model/b...e/depthwise;model/block_3_expand/Conv2D | (1, 32, 32, 144) |         589,824 |\n",
            "| 134 | model/block_3_depthwise_relu/Relu;mode...ormV3;model/block_3_depthwise/depthwise | (1, 16, 16, 144) |         147,456 |\n",
            "| 135 | model/block_3_project_BN/FusedBatchNor...ect/Conv2D;model/block_3_project/Conv2D | (1, 16, 16, 32)  |          32,768 |\n",
            "| 136 | model/block_4_expand_relu/Relu;model/b...e/depthwise;model/block_4_expand/Conv2D | (1, 16, 16, 192) |         196,608 |\n",
            "| 137 | model/block_4_depthwise_relu/Relu;mode...hwise;model/block_4_depthwise/depthwise | (1, 16, 16, 192) |         196,608 |\n",
            "| 138 | model/block_4_project_BN/FusedBatchNor...ect/Conv2D;model/block_4_project/Conv2D | (1, 16, 16, 32)  |          32,768 |\n",
            "| 139 |                              model/block_4_add/add                               | (1, 16, 16, 32)  |          32,768 |\n",
            "| 140 | model/block_5_expand_relu/Relu;model/b...e/depthwise;model/block_5_expand/Conv2D | (1, 16, 16, 192) |         196,608 |\n",
            "| 141 | model/block_5_depthwise_relu/Relu;mode...hwise;model/block_5_depthwise/depthwise | (1, 16, 16, 192) |         196,608 |\n",
            "| 142 |      model/block_5_project_BN/FusedBatchNormV3;model/block_5_project/Conv2D      | (1, 16, 16, 32)  |          32,768 |\n",
            "| 143 |                              model/block_5_add/add                               | (1, 16, 16, 32)  |          32,768 |\n",
            "| 144 | model/block_6_expand_relu/Relu;model/b...e/depthwise;model/block_6_expand/Conv2D | (1, 16, 16, 192) |         196,608 |\n",
            "| 145 | model/block_6_depthwise_relu/Relu;mode...ormV3;model/block_6_depthwise/depthwise |  (1, 8, 8, 192)  |          49,152 |\n",
            "| 146 | model/block_6_project_BN/FusedBatchNor...ect/Conv2D;model/block_6_project/Conv2D |  (1, 8, 8, 64)   |          16,384 |\n",
            "| 147 | model/block_7_expand_relu/Relu;model/b...e/depthwise;model/block_7_expand/Conv2D |  (1, 8, 8, 384)  |          98,304 |\n",
            "| 148 | model/block_7_depthwise_relu/Relu;mode...hwise;model/block_7_depthwise/depthwise |  (1, 8, 8, 384)  |          98,304 |\n",
            "| 149 | model/block_7_project_BN/FusedBatchNor...ect/Conv2D;model/block_7_project/Conv2D |  (1, 8, 8, 64)   |          16,384 |\n",
            "| 150 |                              model/block_7_add/add                               |  (1, 8, 8, 64)   |          16,384 |\n",
            "| 151 | model/block_8_expand_relu/Relu;model/b...e/depthwise;model/block_8_expand/Conv2D |  (1, 8, 8, 384)  |          98,304 |\n",
            "| 152 | model/block_8_depthwise_relu/Relu;mode...hwise;model/block_8_depthwise/depthwise |  (1, 8, 8, 384)  |          98,304 |\n",
            "| 153 | model/block_8_project_BN/FusedBatchNor...ect/Conv2D;model/block_8_project/Conv2D |  (1, 8, 8, 64)   |          16,384 |\n",
            "| 154 |                              model/block_8_add/add                               |  (1, 8, 8, 64)   |          16,384 |\n",
            "| 155 | model/block_9_expand_relu/Relu;model/b...e/depthwise;model/block_9_expand/Conv2D |  (1, 8, 8, 384)  |          98,304 |\n",
            "| 156 | model/block_9_depthwise_relu/Relu;mode...hwise;model/block_9_depthwise/depthwise |  (1, 8, 8, 384)  |          98,304 |\n",
            "| 157 |      model/block_9_project_BN/FusedBatchNormV3;model/block_9_project/Conv2D      |  (1, 8, 8, 64)   |          16,384 |\n",
            "| 158 |                              model/block_9_add/add                               |  (1, 8, 8, 64)   |          16,384 |\n",
            "| 159 |                          model/block_10_adjust/Conv2D1                           |  (1, 8, 8, 96)   |          24,576 |\n",
            "| 160 | model/block_10_expand_relu/Relu;model/.../depthwise;model/block_10_expand/Conv2D |  (1, 8, 8, 384)  |          98,304 |\n",
            "| 161 | model/block_10_depthwise_relu/Relu;mod...rmV3;model/block_10_depthwise/depthwise |  (1, 8, 8, 384)  |          98,304 |\n",
            "| 162 | model/block_10_project_BN/FusedBatchNo...ct/Conv2D;model/block_10_project/Conv2D |  (1, 8, 8, 96)   |          24,576 |\n",
            "| 163 |                              model/block_10_add/add                              |  (1, 8, 8, 96)   |          24,576 |\n",
            "| 164 | model/block_11_expand_relu/Relu;model/.../depthwise;model/block_11_expand/Conv2D |  (1, 8, 8, 576)  |         147,456 |\n",
            "| 165 | model/block_11_depthwise_relu/Relu;mod...wise;model/block_11_depthwise/depthwise |  (1, 8, 8, 576)  |         147,456 |\n",
            "| 166 | model/block_11_project_BN/FusedBatchNo...ct/Conv2D;model/block_11_project/Conv2D |  (1, 8, 8, 96)   |          24,576 |\n",
            "| 167 |                              model/block_11_add/add                              |  (1, 8, 8, 96)   |          24,576 |\n",
            "| 168 | model/block_12_expand_relu/Relu;model/.../depthwise;model/block_12_expand/Conv2D |  (1, 8, 8, 576)  |         147,456 |\n",
            "| 169 | model/block_12_depthwise_relu/Relu;mod...wise;model/block_12_depthwise/depthwise |  (1, 8, 8, 576)  |         147,456 |\n",
            "| 170 |     model/block_12_project_BN/FusedBatchNormV3;model/block_12_project/Conv2D     |  (1, 8, 8, 96)   |          24,576 |\n",
            "| 171 |                              model/block_12_add/add                              |  (1, 8, 8, 96)   |          24,576 |\n",
            "| 172 | model/block_13_expand_relu/Relu;model/.../depthwise;model/block_13_expand/Conv2D |  (1, 8, 8, 576)  |         147,456 |\n",
            "| 173 | model/block_13_depthwise_relu/Relu;mod...rmV3;model/block_13_depthwise/depthwise |  (1, 4, 4, 576)  |          36,864 |\n",
            "| 174 | model/block_13_project_BN/FusedBatchNo...ct/Conv2D;model/block_13_project/Conv2D |  (1, 4, 4, 160)  |          10,240 |\n",
            "| 175 | model/block_14_expand_relu/Relu;model/.../depthwise;model/block_14_expand/Conv2D |  (1, 4, 4, 960)  |          61,440 |\n",
            "| 176 | model/block_14_depthwise_relu/Relu;mod...wise;model/block_14_depthwise/depthwise |  (1, 4, 4, 960)  |          61,440 |\n",
            "| 177 | model/block_14_project_BN/FusedBatchNo...ct/Conv2D;model/block_14_project/Conv2D |  (1, 4, 4, 160)  |          10,240 |\n",
            "| 178 |                              model/block_14_add/add                              |  (1, 4, 4, 160)  |          10,240 |\n",
            "| 179 | model/block_15_expand_relu/Relu;model/.../depthwise;model/block_15_expand/Conv2D |  (1, 4, 4, 960)  |          61,440 |\n",
            "| 180 | model/block_15_depthwise_relu/Relu;mod...wise;model/block_15_depthwise/depthwise |  (1, 4, 4, 960)  |          61,440 |\n",
            "| 181 |     model/block_15_project_BN/FusedBatchNormV3;model/block_15_project/Conv2D     |  (1, 4, 4, 160)  |          10,240 |\n",
            "| 182 |                              model/block_15_add/add                              |  (1, 4, 4, 160)  |          10,240 |\n",
            "| 183 |                          model/block_16_adjust/Conv2D1                           |  (1, 4, 4, 320)  |          20,480 |\n",
            "| 184 | model/block_16_expand_relu/Relu;model/.../depthwise;model/block_16_expand/Conv2D |  (1, 4, 4, 960)  |          61,440 |\n",
            "| 185 | model/block_16_depthwise_relu/Relu;mod...rmV3;model/block_16_depthwise/depthwise |  (1, 4, 4, 960)  |          61,440 |\n",
            "| 186 |     model/block_16_project_BN/FusedBatchNormV3;model/block_16_project/Conv2D     |  (1, 4, 4, 320)  |          20,480 |\n",
            "| 187 |                              model/block_16_add/add                              |  (1, 4, 4, 320)  |          20,480 |\n",
            "| 188 |     model/out_relu/Relu;model/Conv_1_bn/FusedBatchNormV3;model/Conv_1/Conv2D     | (1, 4, 4, 1280)  |          81,920 |\n",
            "| 189 |                       model/global_average_pooling2d/Mean                        |    (1, 1280)     |           5,120 |\n",
            "| 190 |                            StatefulPartitionedCall:0                             |     (1, 10)      |              40 |\n",
            "+-----+----------------------------------------------------------------------------------+------------------+-----------------+\n",
            "\n",
            "Operator execution schedule:\n",
            "+----------------------------------------------------------------------------------+-------------------------+----------------+-----------+-----------+\n",
            "|                              Operator (output name)                              | Tensors in memory (IDs) | Memory use (B) |      MACs |      Size |\n",
            "+----------------------------------------------------------------------------------+-------------------------+----------------+-----------+-----------+\n",
            "| model/Conv1_relu/Relu;model/bn_Conv1/F...ock_5_project/Conv2D;model/Conv1/Conv2D |         [0, 118]        |        143,360 |   884,736 |     3,584 |\n",
            "|                           model/block_0_adjust/Conv2D1                           |        [118, 119]       |        196,608 |   524,288 |     2,112 |\n",
            "| model/block_0_expand_relu/Relu;model/b...ject/Conv2D;model/block_0_expand/Conv2D |     [118, 119, 120]     |        327,680 | 1,048,576 |     4,224 |\n",
            "| model/block_0_depthwise_relu/Relu;mode...onv2D;model/block_0_depthwise/depthwise |     [119, 120, 121]     |        327,680 |   294,912 |     1,280 |\n",
            "|      model/block_0_project_BN/FusedBatchNormV3;model/block_0_project/Conv2D      |     [119, 121, 122]     |        262,144 |   524,288 |     2,112 |\n",
            "|                              model/block_0_add/add                               |     [119, 122, 123]     |        196,608 |    16,384 |         0 |\n",
            "|                           model/block_1_adjust/Conv2D1                           |        [123, 124]       |        163,840 |   393,216 |     1,632 |\n",
            "| model/block_1_expand_relu/Relu;model/b...ject/Conv2D;model/block_1_expand/Conv2D |     [123, 124, 125]     |        557,056 | 1,572,864 |     6,528 |\n",
            "| model/block_1_depthwise_relu/Relu;mode...onv2D;model/block_1_depthwise/depthwise |     [124, 125, 126]     |        884,736 |   884,736 |     3,840 |\n",
            "| model/block_1_project_BN/FusedBatchNor...ect/Conv2D;model/block_1_project/Conv2D |     [124, 126, 127]     |        589,824 | 2,359,296 |     9,312 |\n",
            "|                              model/block_1_add/add                               |     [124, 127, 128]     |        294,912 |    24,576 |         0 |\n",
            "| model/block_2_expand_relu/Relu;model/b...e/depthwise;model/block_2_expand/Conv2D |        [128, 129]       |        688,128 | 3,538,944 |    14,400 |\n",
            "| model/block_2_depthwise_relu/Relu;mode...hwise;model/block_2_depthwise/depthwise |     [128, 129, 130]     |      1,277,952 | 1,327,104 |     5,760 |\n",
            "|      model/block_2_project_BN/FusedBatchNormV3;model/block_2_project/Conv2D      |     [128, 130, 131]     |        786,432 | 3,538,944 |    13,920 |\n",
            "|                              model/block_2_add/add                               |     [128, 131, 132]     |        294,912 |    24,576 |         0 |\n",
            "| model/block_3_expand_relu/Relu;model/b...e/depthwise;model/block_3_expand/Conv2D |        [132, 133]       |        688,128 | 3,538,944 |    14,400 |\n",
            "| model/block_3_depthwise_relu/Relu;mode...ormV3;model/block_3_depthwise/depthwise |        [133, 134]       |        737,280 |   331,776 |     5,760 |\n",
            "| model/block_3_project_BN/FusedBatchNor...ect/Conv2D;model/block_3_project/Conv2D |        [134, 135]       |        180,224 | 1,179,648 |    18,560 |\n",
            "| model/block_4_expand_relu/Relu;model/b...e/depthwise;model/block_4_expand/Conv2D |        [135, 136]       |        229,376 | 1,572,864 |    25,344 |\n",
            "| model/block_4_depthwise_relu/Relu;mode...hwise;model/block_4_depthwise/depthwise |     [135, 136, 137]     |        425,984 |   442,368 |     7,680 |\n",
            "| model/block_4_project_BN/FusedBatchNor...ect/Conv2D;model/block_4_project/Conv2D |     [135, 137, 138]     |        262,144 | 1,572,864 |    24,704 |\n",
            "|                              model/block_4_add/add                               |     [135, 138, 139]     |         98,304 |     8,192 |         0 |\n",
            "| model/block_5_expand_relu/Relu;model/b...e/depthwise;model/block_5_expand/Conv2D |        [139, 140]       |        229,376 | 1,572,864 |    25,344 |\n",
            "| model/block_5_depthwise_relu/Relu;mode...hwise;model/block_5_depthwise/depthwise |     [139, 140, 141]     |        425,984 |   442,368 |     7,680 |\n",
            "|      model/block_5_project_BN/FusedBatchNormV3;model/block_5_project/Conv2D      |     [139, 141, 142]     |        262,144 | 1,572,864 |    24,704 |\n",
            "|                              model/block_5_add/add                               |     [139, 142, 143]     |         98,304 |     8,192 |         0 |\n",
            "| model/block_6_expand_relu/Relu;model/b...e/depthwise;model/block_6_expand/Conv2D |        [143, 144]       |        229,376 | 1,572,864 |    25,344 |\n",
            "| model/block_6_depthwise_relu/Relu;mode...ormV3;model/block_6_depthwise/depthwise |        [145, 144]       |        245,760 |   110,592 |     7,680 |\n",
            "| model/block_6_project_BN/FusedBatchNor...ect/Conv2D;model/block_6_project/Conv2D |        [145, 146]       |         65,536 |   786,432 |    49,408 |\n",
            "| model/block_7_expand_relu/Relu;model/b...e/depthwise;model/block_7_expand/Conv2D |        [146, 147]       |        114,688 | 1,572,864 |    99,840 |\n",
            "| model/block_7_depthwise_relu/Relu;mode...hwise;model/block_7_depthwise/depthwise |     [148, 146, 147]     |        212,992 |   221,184 |    15,360 |\n",
            "| model/block_7_project_BN/FusedBatchNor...ect/Conv2D;model/block_7_project/Conv2D |     [148, 146, 149]     |        131,072 | 1,572,864 |    98,560 |\n",
            "|                              model/block_7_add/add                               |     [146, 149, 150]     |         49,152 |     4,096 |         0 |\n",
            "| model/block_8_expand_relu/Relu;model/b...e/depthwise;model/block_8_expand/Conv2D |        [150, 151]       |        114,688 | 1,572,864 |    99,840 |\n",
            "| model/block_8_depthwise_relu/Relu;mode...hwise;model/block_8_depthwise/depthwise |     [150, 151, 152]     |        212,992 |   221,184 |    15,360 |\n",
            "| model/block_8_project_BN/FusedBatchNor...ect/Conv2D;model/block_8_project/Conv2D |     [153, 150, 152]     |        131,072 | 1,572,864 |    98,560 |\n",
            "|                              model/block_8_add/add                               |     [153, 154, 150]     |         49,152 |     4,096 |         0 |\n",
            "| model/block_9_expand_relu/Relu;model/b...e/depthwise;model/block_9_expand/Conv2D |        [154, 155]       |        114,688 | 1,572,864 |    99,840 |\n",
            "| model/block_9_depthwise_relu/Relu;mode...hwise;model/block_9_depthwise/depthwise |     [154, 155, 156]     |        212,992 |   221,184 |    15,360 |\n",
            "|      model/block_9_project_BN/FusedBatchNormV3;model/block_9_project/Conv2D      |     [154, 156, 157]     |        131,072 | 1,572,864 |    98,560 |\n",
            "|                              model/block_9_add/add                               |     [154, 157, 158]     |         49,152 |     4,096 |         0 |\n",
            "|                          model/block_10_adjust/Conv2D1                           |        [158, 159]       |         40,960 |   393,216 |    24,960 |\n",
            "| model/block_10_expand_relu/Relu;model/.../depthwise;model/block_10_expand/Conv2D |     [158, 159, 160]     |        139,264 | 1,572,864 |    99,840 |\n",
            "| model/block_10_depthwise_relu/Relu;mod...rmV3;model/block_10_depthwise/depthwise |     [159, 160, 161]     |        221,184 |   221,184 |    15,360 |\n",
            "| model/block_10_project_BN/FusedBatchNo...ct/Conv2D;model/block_10_project/Conv2D |     [159, 161, 162]     |        147,456 | 2,359,296 |   147,840 |\n",
            "|                              model/block_10_add/add                              |     [159, 162, 163]     |         73,728 |     6,144 |         0 |\n",
            "| model/block_11_expand_relu/Relu;model/.../depthwise;model/block_11_expand/Conv2D |        [163, 164]       |        172,032 | 3,538,944 |   223,488 |\n",
            "| model/block_11_depthwise_relu/Relu;mod...wise;model/block_11_depthwise/depthwise |     [163, 164, 165]     |        319,488 |   331,776 |    23,040 |\n",
            "| model/block_11_project_BN/FusedBatchNo...ct/Conv2D;model/block_11_project/Conv2D |     [163, 165, 166]     |        196,608 | 3,538,944 |   221,568 |\n",
            "|                              model/block_11_add/add                              |     [163, 166, 167]     |         73,728 |     6,144 |         0 |\n",
            "| model/block_12_expand_relu/Relu;model/.../depthwise;model/block_12_expand/Conv2D |        [167, 168]       |        172,032 | 3,538,944 |   223,488 |\n",
            "| model/block_12_depthwise_relu/Relu;mod...wise;model/block_12_depthwise/depthwise |     [167, 168, 169]     |        319,488 |   331,776 |    23,040 |\n",
            "|     model/block_12_project_BN/FusedBatchNormV3;model/block_12_project/Conv2D     |     [167, 169, 170]     |        196,608 | 3,538,944 |   221,568 |\n",
            "|                              model/block_12_add/add                              |     [167, 170, 171]     |         73,728 |     6,144 |         0 |\n",
            "| model/block_13_expand_relu/Relu;model/.../depthwise;model/block_13_expand/Conv2D |        [171, 172]       |        172,032 | 3,538,944 |   223,488 |\n",
            "| model/block_13_depthwise_relu/Relu;mod...rmV3;model/block_13_depthwise/depthwise |        [172, 173]       |        184,320 |    82,944 |    23,040 |\n",
            "| model/block_13_project_BN/FusedBatchNo...ct/Conv2D;model/block_13_project/Conv2D |        [173, 174]       |         47,104 | 1,474,560 |   369,280 |\n",
            "| model/block_14_expand_relu/Relu;model/.../depthwise;model/block_14_expand/Conv2D |        [174, 175]       |         71,680 | 2,457,600 |   618,240 |\n",
            "| model/block_14_depthwise_relu/Relu;mod...wise;model/block_14_depthwise/depthwise |     [174, 175, 176]     |        133,120 |   138,240 |    38,400 |\n",
            "| model/block_14_project_BN/FusedBatchNo...ct/Conv2D;model/block_14_project/Conv2D |     [174, 176, 177]     |         81,920 | 2,457,600 |   615,040 |\n",
            "|                              model/block_14_add/add                              |     [174, 177, 178]     |         30,720 |     2,560 |         0 |\n",
            "| model/block_15_expand_relu/Relu;model/.../depthwise;model/block_15_expand/Conv2D |        [178, 179]       |         71,680 | 2,457,600 |   618,240 |\n",
            "| model/block_15_depthwise_relu/Relu;mod...wise;model/block_15_depthwise/depthwise |     [178, 179, 180]     |        133,120 |   138,240 |    38,400 |\n",
            "|     model/block_15_project_BN/FusedBatchNormV3;model/block_15_project/Conv2D     |     [178, 180, 181]     |         81,920 | 2,457,600 |   615,040 |\n",
            "|                              model/block_15_add/add                              |     [178, 181, 182]     |         30,720 |     2,560 |         0 |\n",
            "|                          model/block_16_adjust/Conv2D1                           |        [182, 183]       |         30,720 |   819,200 |   206,080 |\n",
            "| model/block_16_expand_relu/Relu;model/.../depthwise;model/block_16_expand/Conv2D |     [182, 183, 184]     |         92,160 | 2,457,600 |   618,240 |\n",
            "| model/block_16_depthwise_relu/Relu;mod...rmV3;model/block_16_depthwise/depthwise |     [183, 184, 185]     |        143,360 |   138,240 |    38,400 |\n",
            "|     model/block_16_project_BN/FusedBatchNormV3;model/block_16_project/Conv2D     |     [183, 185, 186]     |        102,400 | 4,915,200 | 1,230,080 |\n",
            "|                              model/block_16_add/add                              |     [183, 186, 187]     |         61,440 |     5,120 |         0 |\n",
            "|     model/out_relu/Relu;model/Conv_1_bn/FusedBatchNormV3;model/Conv_1/Conv2D     |        [187, 188]       |        102,400 | 6,553,600 | 1,643,520 |\n",
            "|                       model/global_average_pooling2d/Mean                        |        [188, 189]       |         87,040 |    20,480 |         8 |\n",
            "|                            StatefulPartitionedCall:0                             |        [190, 189]       |          5,160 |    12,800 |    51,240 |\n",
            "+----------------------------------------------------------------------------------+-------------------------+----------------+-----------+-----------+\n",
            "Current peak memory usage: 1,277,952 B\n",
            "Total MACs: 91,298,304\n",
            "Total weight size: 9,117,520\n",
            "\n"
          ]
        }
      ]
    },
    {
      "cell_type": "markdown",
      "source": [
        "###Knowledge distillation"
      ],
      "metadata": {
        "id": "0sUs_N_Tti34"
      }
    },
    {
      "cell_type": "code",
      "source": [
        "path = convert_to_tflite('/content/model_student1.h5')\n",
        "print(path)"
      ],
      "metadata": {
        "colab": {
          "base_uri": "https://localhost:8080/"
        },
        "id": "jYXRSM8Es_eI",
        "outputId": "4f73e400-50e9-41fa-dfdd-e5612edceec1"
      },
      "execution_count": 15,
      "outputs": [
        {
          "output_type": "stream",
          "name": "stderr",
          "text": [
            "WARNING:tensorflow:No training configuration found in the save file, so the model was *not* compiled. Compile it manually.\n"
          ]
        },
        {
          "output_type": "stream",
          "name": "stdout",
          "text": [
            "79/79 [==============================] - 5s 25ms/step - loss: 0.3713 - accuracy: 0.8997\n",
            "Total params: 1384394\n",
            "models/model_student1.tflite\n"
          ]
        }
      ]
    },
    {
      "cell_type": "code",
      "source": [
        "!python tflite_tools/tflite_tools.py -i /content/models/model_student1.tflite --calc-macs --calc-size"
      ],
      "metadata": {
        "colab": {
          "base_uri": "https://localhost:8080/"
        },
        "id": "RPyTdh2DtqaY",
        "outputId": "f56ebe78-2f07-4ded-e64e-d7a88048bc4b"
      },
      "execution_count": 16,
      "outputs": [
        {
          "output_type": "stream",
          "name": "stdout",
          "text": [
            "Tensor information (weights excluded):\n",
            "+-----+----------------------------------------------------------------------------------+------------------+-----------------+\n",
            "|  Id |                                      Tensor                                      |      Shape       | Size in RAM (B) |\n",
            "+-----+----------------------------------------------------------------------------------+------------------+-----------------+\n",
            "|   0 |                            serving_default_input_2:0                             |  (1, 32, 32, 3)  |          12,288 |\n",
            "|  88 | model_1/Conv1_relu/Relu;model_1/bn_Con...k_5_project/Conv2D;model_1/Conv1/Conv2D | (1, 32, 32, 32)  |         131,072 |\n",
            "|  89 |                          model_1/block_0_adjust/Conv2D1                          | (1, 32, 32, 16)  |          65,536 |\n",
            "|  90 | model_1/block_0_expand_relu/Relu;model...ct/Conv2D;model_1/block_0_expand/Conv2D | (1, 32, 32, 32)  |         131,072 |\n",
            "|  91 | model_1/block_0_depthwise_relu/Relu;mo...v2D;model_1/block_0_depthwise/depthwise | (1, 32, 32, 32)  |         131,072 |\n",
            "|  92 |    model_1/block_0_project_BN/FusedBatchNormV3;model_1/block_0_project/Conv2D    | (1, 32, 32, 16)  |          65,536 |\n",
            "|  93 |                             model_1/block_0_add/add                              | (1, 32, 32, 16)  |          65,536 |\n",
            "|  94 |                          model_1/block_1_adjust/Conv2D1                          | (1, 32, 32, 24)  |          98,304 |\n",
            "|  95 | model_1/block_1_expand_relu/Relu;model...ct/Conv2D;model_1/block_1_expand/Conv2D | (1, 32, 32, 96)  |         393,216 |\n",
            "|  96 | model_1/block_1_depthwise_relu/Relu;mo...v2D;model_1/block_1_depthwise/depthwise | (1, 32, 32, 96)  |         393,216 |\n",
            "|  97 | model_1/block_1_project_BN/FusedBatchN...t/Conv2D;model_1/block_1_project/Conv2D | (1, 32, 32, 24)  |          98,304 |\n",
            "|  98 |                             model_1/block_1_add/add                              | (1, 32, 32, 24)  |          98,304 |\n",
            "|  99 | model_1/block_2_expand_relu/Relu;model...depthwise;model_1/block_2_expand/Conv2D | (1, 32, 32, 144) |         589,824 |\n",
            "| 100 | model_1/block_2_depthwise_relu/Relu;mo...ise;model_1/block_2_depthwise/depthwise | (1, 32, 32, 144) |         589,824 |\n",
            "| 101 |    model_1/block_2_project_BN/FusedBatchNormV3;model_1/block_2_project/Conv2D    | (1, 32, 32, 24)  |          98,304 |\n",
            "| 102 |                             model_1/block_2_add/add                              | (1, 32, 32, 24)  |          98,304 |\n",
            "| 103 | model_1/block_3_expand_relu/Relu;model...depthwise;model_1/block_3_expand/Conv2D | (1, 32, 32, 144) |         589,824 |\n",
            "| 104 | model_1/block_3_depthwise_relu/Relu;mo...mV3;model_1/block_3_depthwise/depthwise | (1, 16, 16, 144) |         147,456 |\n",
            "| 105 | model_1/block_3_project_BN/FusedBatchN...t/Conv2D;model_1/block_3_project/Conv2D | (1, 16, 16, 32)  |          32,768 |\n",
            "| 106 | model_1/block_4_expand_relu/Relu;model...depthwise;model_1/block_4_expand/Conv2D | (1, 16, 16, 192) |         196,608 |\n",
            "| 107 | model_1/block_4_depthwise_relu/Relu;mo...ise;model_1/block_4_depthwise/depthwise | (1, 16, 16, 192) |         196,608 |\n",
            "| 108 | model_1/block_4_project_BN/FusedBatchN...t/Conv2D;model_1/block_4_project/Conv2D | (1, 16, 16, 32)  |          32,768 |\n",
            "| 109 |                             model_1/block_4_add/add                              | (1, 16, 16, 32)  |          32,768 |\n",
            "| 110 | model_1/block_5_expand_relu/Relu;model...depthwise;model_1/block_5_expand/Conv2D | (1, 16, 16, 192) |         196,608 |\n",
            "| 111 | model_1/block_5_depthwise_relu/Relu;mo...ise;model_1/block_5_depthwise/depthwise | (1, 16, 16, 192) |         196,608 |\n",
            "| 112 |    model_1/block_5_project_BN/FusedBatchNormV3;model_1/block_5_project/Conv2D    | (1, 16, 16, 32)  |          32,768 |\n",
            "| 113 |                             model_1/block_5_add/add                              | (1, 16, 16, 32)  |          32,768 |\n",
            "| 114 | model_1/block_6_expand_relu/Relu;model...depthwise;model_1/block_6_expand/Conv2D | (1, 16, 16, 192) |         196,608 |\n",
            "| 115 | model_1/block_6_depthwise_relu/Relu;mo...mV3;model_1/block_6_depthwise/depthwise |  (1, 8, 8, 192)  |          49,152 |\n",
            "| 116 | model_1/block_6_project_BN/FusedBatchN...t/Conv2D;model_1/block_6_project/Conv2D |  (1, 8, 8, 64)   |          16,384 |\n",
            "| 117 | model_1/block_7_expand_relu/Relu;model...depthwise;model_1/block_7_expand/Conv2D |  (1, 8, 8, 384)  |          98,304 |\n",
            "| 118 | model_1/block_7_depthwise_relu/Relu;mo...ise;model_1/block_7_depthwise/depthwise |  (1, 8, 8, 384)  |          98,304 |\n",
            "| 119 | model_1/block_7_project_BN/FusedBatchN...t/Conv2D;model_1/block_7_project/Conv2D |  (1, 8, 8, 64)   |          16,384 |\n",
            "| 120 |                             model_1/block_7_add/add                              |  (1, 8, 8, 64)   |          16,384 |\n",
            "| 121 | model_1/block_9_expand_relu/Relu;model...depthwise;model_1/block_9_expand/Conv2D |  (1, 8, 8, 384)  |          98,304 |\n",
            "| 122 | model_1/block_9_depthwise_relu/Relu;mo...ise;model_1/block_9_depthwise/depthwise |  (1, 8, 8, 384)  |          98,304 |\n",
            "| 123 |    model_1/block_9_project_BN/FusedBatchNormV3;model_1/block_9_project/Conv2D    |  (1, 8, 8, 64)   |          16,384 |\n",
            "| 124 |                             model_1/block_9_add/add                              |  (1, 8, 8, 64)   |          16,384 |\n",
            "| 125 |                         model_1/block_10_adjust/Conv2D1                          |  (1, 8, 8, 96)   |          24,576 |\n",
            "| 126 | model_1/block_10_expand_relu/Relu;mode...epthwise;model_1/block_10_expand/Conv2D |  (1, 8, 8, 384)  |          98,304 |\n",
            "| 127 | model_1/block_10_depthwise_relu/Relu;m...V3;model_1/block_10_depthwise/depthwise |  (1, 8, 8, 384)  |          98,304 |\n",
            "| 128 |   model_1/block_10_project_BN/FusedBatchNormV3;model_1/block_10_project/Conv2D   |  (1, 8, 8, 96)   |          24,576 |\n",
            "| 129 |                             model_1/block_10_add/add                             |  (1, 8, 8, 96)   |          24,576 |\n",
            "| 130 | model_1/block_13_expand_relu/Relu;mode...epthwise;model_1/block_13_expand/Conv2D |  (1, 8, 8, 576)  |         147,456 |\n",
            "| 131 | model_1/block_13_depthwise_relu/Relu;m...V3;model_1/block_13_depthwise/depthwise |  (1, 4, 4, 576)  |          36,864 |\n",
            "| 132 |   model_1/block_13_project_BN/FusedBatchNormV3;model_1/block_13_project/Conv2D   |  (1, 4, 4, 160)  |          10,240 |\n",
            "| 133 |                         model_1/block_16_adjust/Conv2D1                          |  (1, 4, 4, 320)  |          20,480 |\n",
            "| 134 | model_1/block_16_expand_relu/Relu;mode...epthwise;model_1/block_16_expand/Conv2D |  (1, 4, 4, 960)  |          61,440 |\n",
            "| 135 | model_1/block_16_depthwise_relu/Relu;m...V3;model_1/block_16_depthwise/depthwise |  (1, 4, 4, 960)  |          61,440 |\n",
            "| 136 |   model_1/block_16_project_BN/FusedBatchNormV3;model_1/block_16_project/Conv2D   |  (1, 4, 4, 320)  |          20,480 |\n",
            "| 137 |                             model_1/block_16_add/add                             |  (1, 4, 4, 320)  |          20,480 |\n",
            "| 138 |  model_1/out_relu/Relu;model_1/Conv_1_bn/FusedBatchNormV3;model_1/Conv_1/Conv2D  | (1, 4, 4, 1280)  |          81,920 |\n",
            "| 139 |                     model_1/global_average_pooling2d_1/Mean                      |    (1, 1280)     |           5,120 |\n",
            "| 140 |                            StatefulPartitionedCall:0                             |     (1, 10)      |              40 |\n",
            "+-----+----------------------------------------------------------------------------------+------------------+-----------------+\n",
            "\n",
            "Operator execution schedule:\n",
            "+----------------------------------------------------------------------------------+-------------------------+----------------+-----------+-----------+\n",
            "|                              Operator (output name)                              | Tensors in memory (IDs) | Memory use (B) |      MACs |      Size |\n",
            "+----------------------------------------------------------------------------------+-------------------------+----------------+-----------+-----------+\n",
            "| model_1/Conv1_relu/Relu;model_1/bn_Con...k_5_project/Conv2D;model_1/Conv1/Conv2D |         [0, 88]         |        143,360 |   884,736 |     3,584 |\n",
            "|                          model_1/block_0_adjust/Conv2D1                          |         [88, 89]        |        196,608 |   524,288 |     2,112 |\n",
            "| model_1/block_0_expand_relu/Relu;model...ct/Conv2D;model_1/block_0_expand/Conv2D |       [88, 89, 90]      |        327,680 | 1,048,576 |     4,224 |\n",
            "| model_1/block_0_depthwise_relu/Relu;mo...v2D;model_1/block_0_depthwise/depthwise |       [89, 90, 91]      |        327,680 |   294,912 |     1,280 |\n",
            "|    model_1/block_0_project_BN/FusedBatchNormV3;model_1/block_0_project/Conv2D    |       [89, 91, 92]      |        262,144 |   524,288 |     2,112 |\n",
            "|                             model_1/block_0_add/add                              |       [89, 92, 93]      |        196,608 |    16,384 |         0 |\n",
            "|                          model_1/block_1_adjust/Conv2D1                          |         [93, 94]        |        163,840 |   393,216 |     1,632 |\n",
            "| model_1/block_1_expand_relu/Relu;model...ct/Conv2D;model_1/block_1_expand/Conv2D |       [93, 94, 95]      |        557,056 | 1,572,864 |     6,528 |\n",
            "| model_1/block_1_depthwise_relu/Relu;mo...v2D;model_1/block_1_depthwise/depthwise |       [94, 95, 96]      |        884,736 |   884,736 |     3,840 |\n",
            "| model_1/block_1_project_BN/FusedBatchN...t/Conv2D;model_1/block_1_project/Conv2D |       [94, 96, 97]      |        589,824 | 2,359,296 |     9,312 |\n",
            "|                             model_1/block_1_add/add                              |       [94, 97, 98]      |        294,912 |    24,576 |         0 |\n",
            "| model_1/block_2_expand_relu/Relu;model...depthwise;model_1/block_2_expand/Conv2D |         [98, 99]        |        688,128 | 3,538,944 |    14,400 |\n",
            "| model_1/block_2_depthwise_relu/Relu;mo...ise;model_1/block_2_depthwise/depthwise |      [98, 99, 100]      |      1,277,952 | 1,327,104 |     5,760 |\n",
            "|    model_1/block_2_project_BN/FusedBatchNormV3;model_1/block_2_project/Conv2D    |      [98, 100, 101]     |        786,432 | 3,538,944 |    13,920 |\n",
            "|                             model_1/block_2_add/add                              |      [98, 101, 102]     |        294,912 |    24,576 |         0 |\n",
            "| model_1/block_3_expand_relu/Relu;model...depthwise;model_1/block_3_expand/Conv2D |        [102, 103]       |        688,128 | 3,538,944 |    14,400 |\n",
            "| model_1/block_3_depthwise_relu/Relu;mo...mV3;model_1/block_3_depthwise/depthwise |        [103, 104]       |        737,280 |   331,776 |     5,760 |\n",
            "| model_1/block_3_project_BN/FusedBatchN...t/Conv2D;model_1/block_3_project/Conv2D |        [104, 105]       |        180,224 | 1,179,648 |    18,560 |\n",
            "| model_1/block_4_expand_relu/Relu;model...depthwise;model_1/block_4_expand/Conv2D |        [105, 106]       |        229,376 | 1,572,864 |    25,344 |\n",
            "| model_1/block_4_depthwise_relu/Relu;mo...ise;model_1/block_4_depthwise/depthwise |     [105, 106, 107]     |        425,984 |   442,368 |     7,680 |\n",
            "| model_1/block_4_project_BN/FusedBatchN...t/Conv2D;model_1/block_4_project/Conv2D |     [105, 107, 108]     |        262,144 | 1,572,864 |    24,704 |\n",
            "|                             model_1/block_4_add/add                              |     [105, 108, 109]     |         98,304 |     8,192 |         0 |\n",
            "| model_1/block_5_expand_relu/Relu;model...depthwise;model_1/block_5_expand/Conv2D |        [109, 110]       |        229,376 | 1,572,864 |    25,344 |\n",
            "| model_1/block_5_depthwise_relu/Relu;mo...ise;model_1/block_5_depthwise/depthwise |     [109, 110, 111]     |        425,984 |   442,368 |     7,680 |\n",
            "|    model_1/block_5_project_BN/FusedBatchNormV3;model_1/block_5_project/Conv2D    |     [109, 111, 112]     |        262,144 | 1,572,864 |    24,704 |\n",
            "|                             model_1/block_5_add/add                              |     [109, 112, 113]     |         98,304 |     8,192 |         0 |\n",
            "| model_1/block_6_expand_relu/Relu;model...depthwise;model_1/block_6_expand/Conv2D |        [113, 114]       |        229,376 | 1,572,864 |    25,344 |\n",
            "| model_1/block_6_depthwise_relu/Relu;mo...mV3;model_1/block_6_depthwise/depthwise |        [114, 115]       |        245,760 |   110,592 |     7,680 |\n",
            "| model_1/block_6_project_BN/FusedBatchN...t/Conv2D;model_1/block_6_project/Conv2D |        [115, 116]       |         65,536 |   786,432 |    49,408 |\n",
            "| model_1/block_7_expand_relu/Relu;model...depthwise;model_1/block_7_expand/Conv2D |        [116, 117]       |        114,688 | 1,572,864 |    99,840 |\n",
            "| model_1/block_7_depthwise_relu/Relu;mo...ise;model_1/block_7_depthwise/depthwise |     [116, 117, 118]     |        212,992 |   221,184 |    15,360 |\n",
            "| model_1/block_7_project_BN/FusedBatchN...t/Conv2D;model_1/block_7_project/Conv2D |     [116, 118, 119]     |        131,072 | 1,572,864 |    98,560 |\n",
            "|                             model_1/block_7_add/add                              |     [116, 119, 120]     |         49,152 |     4,096 |         0 |\n",
            "| model_1/block_9_expand_relu/Relu;model...depthwise;model_1/block_9_expand/Conv2D |        [120, 121]       |        114,688 | 1,572,864 |    99,840 |\n",
            "| model_1/block_9_depthwise_relu/Relu;mo...ise;model_1/block_9_depthwise/depthwise |     [120, 121, 122]     |        212,992 |   221,184 |    15,360 |\n",
            "|    model_1/block_9_project_BN/FusedBatchNormV3;model_1/block_9_project/Conv2D    |     [120, 122, 123]     |        131,072 | 1,572,864 |    98,560 |\n",
            "|                             model_1/block_9_add/add                              |     [120, 123, 124]     |         49,152 |     4,096 |         0 |\n",
            "|                         model_1/block_10_adjust/Conv2D1                          |        [124, 125]       |         40,960 |   393,216 |    24,960 |\n",
            "| model_1/block_10_expand_relu/Relu;mode...epthwise;model_1/block_10_expand/Conv2D |     [124, 125, 126]     |        139,264 | 1,572,864 |    99,840 |\n",
            "| model_1/block_10_depthwise_relu/Relu;m...V3;model_1/block_10_depthwise/depthwise |     [125, 126, 127]     |        221,184 |   221,184 |    15,360 |\n",
            "|   model_1/block_10_project_BN/FusedBatchNormV3;model_1/block_10_project/Conv2D   |     [128, 125, 127]     |        147,456 | 2,359,296 |   147,840 |\n",
            "|                             model_1/block_10_add/add                             |     [128, 129, 125]     |         73,728 |     6,144 |         0 |\n",
            "| model_1/block_13_expand_relu/Relu;mode...epthwise;model_1/block_13_expand/Conv2D |        [129, 130]       |        172,032 | 3,538,944 |   223,488 |\n",
            "| model_1/block_13_depthwise_relu/Relu;m...V3;model_1/block_13_depthwise/depthwise |        [130, 131]       |        184,320 |    82,944 |    23,040 |\n",
            "|   model_1/block_13_project_BN/FusedBatchNormV3;model_1/block_13_project/Conv2D   |        [131, 132]       |         47,104 | 1,474,560 |   369,280 |\n",
            "|                         model_1/block_16_adjust/Conv2D1                          |        [132, 133]       |         30,720 |   819,200 |   206,080 |\n",
            "| model_1/block_16_expand_relu/Relu;mode...epthwise;model_1/block_16_expand/Conv2D |     [132, 133, 134]     |         92,160 | 2,457,600 |   618,240 |\n",
            "| model_1/block_16_depthwise_relu/Relu;m...V3;model_1/block_16_depthwise/depthwise |     [133, 134, 135]     |        143,360 |   138,240 |    38,400 |\n",
            "|   model_1/block_16_project_BN/FusedBatchNormV3;model_1/block_16_project/Conv2D   |     [133, 135, 136]     |        102,400 | 4,915,200 | 1,230,080 |\n",
            "|                             model_1/block_16_add/add                             |     [133, 136, 137]     |         61,440 |     5,120 |         0 |\n",
            "|  model_1/out_relu/Relu;model_1/Conv_1_bn/FusedBatchNormV3;model_1/Conv_1/Conv2D  |        [137, 138]       |        102,400 | 6,553,600 | 1,643,520 |\n",
            "|                     model_1/global_average_pooling2d_1/Mean                      |        [138, 139]       |         87,040 |    20,480 |         8 |\n",
            "|                            StatefulPartitionedCall:0                             |        [139, 140]       |          5,160 |    12,800 |    51,240 |\n",
            "+----------------------------------------------------------------------------------+-------------------------+----------------+-----------+-----------+\n",
            "Current peak memory usage: 1,277,952 B\n",
            "Total MACs: 62,983,680\n",
            "Total weight size: 5,424,208\n",
            "\n"
          ]
        }
      ]
    },
    {
      "cell_type": "code",
      "source": [
        "path = convert_to_tflite('/content/model_student2.h5')\n",
        "print(path)"
      ],
      "metadata": {
        "colab": {
          "base_uri": "https://localhost:8080/"
        },
        "id": "tywzeprMtmYI",
        "outputId": "8ec49594-dc24-4364-b464-aeba1b7d295d"
      },
      "execution_count": 17,
      "outputs": [
        {
          "output_type": "stream",
          "name": "stderr",
          "text": [
            "WARNING:tensorflow:No training configuration found in the save file, so the model was *not* compiled. Compile it manually.\n"
          ]
        },
        {
          "output_type": "stream",
          "name": "stdout",
          "text": [
            "79/79 [==============================] - 4s 19ms/step - loss: 0.3774 - accuracy: 0.8926\n",
            "Total params: 1303322\n",
            "models/model_student2.tflite\n"
          ]
        }
      ]
    },
    {
      "cell_type": "code",
      "source": [
        "!python tflite_tools/tflite_tools.py -i /content/models/model_student2.tflite --calc-macs --calc-size"
      ],
      "metadata": {
        "colab": {
          "base_uri": "https://localhost:8080/"
        },
        "id": "AxKQsVN9trXG",
        "outputId": "7c22f9b3-9b42-450a-b948-6f30755e7cc5"
      },
      "execution_count": 18,
      "outputs": [
        {
          "output_type": "stream",
          "name": "stdout",
          "text": [
            "Tensor information (weights excluded):\n",
            "+-----+----------------------------------------------------------------------------------+------------------+-----------------+\n",
            "|  Id |                                      Tensor                                      |      Shape       | Size in RAM (B) |\n",
            "+-----+----------------------------------------------------------------------------------+------------------+-----------------+\n",
            "|   0 |                            serving_default_input_3:0                             |  (1, 32, 32, 3)  |          12,288 |\n",
            "|  70 | model_2/Conv1_relu/Relu;model_2/bn_Con...k_5_project/Conv2D;model_2/Conv1/Conv2D | (1, 32, 32, 32)  |         131,072 |\n",
            "|  71 |                          model_2/block_0_adjust/Conv2D1                          | (1, 32, 32, 16)  |          65,536 |\n",
            "|  72 | model_2/block_0_expand_relu/Relu;model...ct/Conv2D;model_2/block_0_expand/Conv2D | (1, 32, 32, 32)  |         131,072 |\n",
            "|  73 | model_2/block_0_depthwise_relu/Relu;mo...v2D;model_2/block_0_depthwise/depthwise | (1, 32, 32, 32)  |         131,072 |\n",
            "|  74 |    model_2/block_0_project_BN/FusedBatchNormV3;model_2/block_0_project/Conv2D    | (1, 32, 32, 16)  |          65,536 |\n",
            "|  75 |                             model_2/block_0_add/add                              | (1, 32, 32, 16)  |          65,536 |\n",
            "|  76 |                          model_2/block_1_adjust/Conv2D1                          | (1, 32, 32, 24)  |          98,304 |\n",
            "|  77 | model_2/block_1_expand_relu/Relu;model...ct/Conv2D;model_2/block_1_expand/Conv2D | (1, 32, 32, 96)  |         393,216 |\n",
            "|  78 | model_2/block_1_depthwise_relu/Relu;mo...v2D;model_2/block_1_depthwise/depthwise | (1, 32, 32, 96)  |         393,216 |\n",
            "|  79 |    model_2/block_1_project_BN/FusedBatchNormV3;model_2/block_1_project/Conv2D    | (1, 32, 32, 24)  |          98,304 |\n",
            "|  80 |                             model_2/block_1_add/add                              | (1, 32, 32, 24)  |          98,304 |\n",
            "|  81 | model_2/block_3_expand_relu/Relu;model...depthwise;model_2/block_3_expand/Conv2D | (1, 32, 32, 144) |         589,824 |\n",
            "|  82 | model_2/block_3_depthwise_relu/Relu;mo...mV3;model_2/block_3_depthwise/depthwise | (1, 16, 16, 144) |         147,456 |\n",
            "|  83 | model_2/block_3_project_BN/FusedBatchN...t/Conv2D;model_2/block_3_project/Conv2D | (1, 16, 16, 32)  |          32,768 |\n",
            "|  84 | model_2/block_5_expand_relu/Relu;model...depthwise;model_2/block_5_expand/Conv2D | (1, 16, 16, 192) |         196,608 |\n",
            "|  85 | model_2/block_5_depthwise_relu/Relu;mo...ise;model_2/block_5_depthwise/depthwise | (1, 16, 16, 192) |         196,608 |\n",
            "|  86 |    model_2/block_5_project_BN/FusedBatchNormV3;model_2/block_5_project/Conv2D    | (1, 16, 16, 32)  |          32,768 |\n",
            "|  87 |                             model_2/block_5_add/add                              | (1, 16, 16, 32)  |          32,768 |\n",
            "|  88 | model_2/block_6_expand_relu/Relu;model...depthwise;model_2/block_6_expand/Conv2D | (1, 16, 16, 192) |         196,608 |\n",
            "|  89 | model_2/block_6_depthwise_relu/Relu;mo...mV3;model_2/block_6_depthwise/depthwise |  (1, 8, 8, 192)  |          49,152 |\n",
            "|  90 | model_2/block_6_project_BN/FusedBatchN...t/Conv2D;model_2/block_6_project/Conv2D |  (1, 8, 8, 64)   |          16,384 |\n",
            "|  91 | model_2/block_9_expand_relu/Relu;model...depthwise;model_2/block_9_expand/Conv2D |  (1, 8, 8, 384)  |          98,304 |\n",
            "|  92 | model_2/block_9_depthwise_relu/Relu;mo...ise;model_2/block_9_depthwise/depthwise |  (1, 8, 8, 384)  |          98,304 |\n",
            "|  93 |    model_2/block_9_project_BN/FusedBatchNormV3;model_2/block_9_project/Conv2D    |  (1, 8, 8, 64)   |          16,384 |\n",
            "|  94 |                             model_2/block_9_add/add                              |  (1, 8, 8, 64)   |          16,384 |\n",
            "|  95 |                         model_2/block_10_adjust/Conv2D1                          |  (1, 8, 8, 96)   |          24,576 |\n",
            "|  96 | model_2/block_10_expand_relu/Relu;mode...epthwise;model_2/block_10_expand/Conv2D |  (1, 8, 8, 384)  |          98,304 |\n",
            "|  97 | model_2/block_10_depthwise_relu/Relu;m...V3;model_2/block_10_depthwise/depthwise |  (1, 8, 8, 384)  |          98,304 |\n",
            "|  98 |   model_2/block_10_project_BN/FusedBatchNormV3;model_2/block_10_project/Conv2D   |  (1, 8, 8, 96)   |          24,576 |\n",
            "|  99 |                             model_2/block_10_add/add                             |  (1, 8, 8, 96)   |          24,576 |\n",
            "| 100 | model_2/block_13_expand_relu/Relu;mode...epthwise;model_2/block_13_expand/Conv2D |  (1, 8, 8, 576)  |         147,456 |\n",
            "| 101 | model_2/block_13_depthwise_relu/Relu;m...V3;model_2/block_13_depthwise/depthwise |  (1, 4, 4, 576)  |          36,864 |\n",
            "| 102 |   model_2/block_13_project_BN/FusedBatchNormV3;model_2/block_13_project/Conv2D   |  (1, 4, 4, 160)  |          10,240 |\n",
            "| 103 |                         model_2/block_16_adjust/Conv2D1                          |  (1, 4, 4, 320)  |          20,480 |\n",
            "| 104 | model_2/block_16_expand_relu/Relu;mode...epthwise;model_2/block_16_expand/Conv2D |  (1, 4, 4, 960)  |          61,440 |\n",
            "| 105 | model_2/block_16_depthwise_relu/Relu;m...V3;model_2/block_16_depthwise/depthwise |  (1, 4, 4, 960)  |          61,440 |\n",
            "| 106 |   model_2/block_16_project_BN/FusedBatchNormV3;model_2/block_16_project/Conv2D   |  (1, 4, 4, 320)  |          20,480 |\n",
            "| 107 |                             model_2/block_16_add/add                             |  (1, 4, 4, 320)  |          20,480 |\n",
            "| 108 |  model_2/out_relu/Relu;model_2/Conv_1_bn/FusedBatchNormV3;model_2/Conv_1/Conv2D  | (1, 4, 4, 1280)  |          81,920 |\n",
            "| 109 |                     model_2/global_average_pooling2d_2/Mean                      |    (1, 1280)     |           5,120 |\n",
            "| 110 |                            StatefulPartitionedCall:0                             |     (1, 10)      |              40 |\n",
            "+-----+----------------------------------------------------------------------------------+------------------+-----------------+\n",
            "\n",
            "Operator execution schedule:\n",
            "+----------------------------------------------------------------------------------+-------------------------+----------------+-----------+-----------+\n",
            "|                              Operator (output name)                              | Tensors in memory (IDs) | Memory use (B) |      MACs |      Size |\n",
            "+----------------------------------------------------------------------------------+-------------------------+----------------+-----------+-----------+\n",
            "| model_2/Conv1_relu/Relu;model_2/bn_Con...k_5_project/Conv2D;model_2/Conv1/Conv2D |         [0, 70]         |        143,360 |   884,736 |     3,584 |\n",
            "|                          model_2/block_0_adjust/Conv2D1                          |         [70, 71]        |        196,608 |   524,288 |     2,112 |\n",
            "| model_2/block_0_expand_relu/Relu;model...ct/Conv2D;model_2/block_0_expand/Conv2D |       [70, 71, 72]      |        327,680 | 1,048,576 |     4,224 |\n",
            "| model_2/block_0_depthwise_relu/Relu;mo...v2D;model_2/block_0_depthwise/depthwise |       [71, 72, 73]      |        327,680 |   294,912 |     1,280 |\n",
            "|    model_2/block_0_project_BN/FusedBatchNormV3;model_2/block_0_project/Conv2D    |       [71, 73, 74]      |        262,144 |   524,288 |     2,112 |\n",
            "|                             model_2/block_0_add/add                              |       [71, 74, 75]      |        196,608 |    16,384 |         0 |\n",
            "|                          model_2/block_1_adjust/Conv2D1                          |         [75, 76]        |        163,840 |   393,216 |     1,632 |\n",
            "| model_2/block_1_expand_relu/Relu;model...ct/Conv2D;model_2/block_1_expand/Conv2D |       [75, 76, 77]      |        557,056 | 1,572,864 |     6,528 |\n",
            "| model_2/block_1_depthwise_relu/Relu;mo...v2D;model_2/block_1_depthwise/depthwise |       [76, 77, 78]      |        884,736 |   884,736 |     3,840 |\n",
            "|    model_2/block_1_project_BN/FusedBatchNormV3;model_2/block_1_project/Conv2D    |       [76, 78, 79]      |        589,824 | 2,359,296 |     9,312 |\n",
            "|                             model_2/block_1_add/add                              |       [76, 79, 80]      |        294,912 |    24,576 |         0 |\n",
            "| model_2/block_3_expand_relu/Relu;model...depthwise;model_2/block_3_expand/Conv2D |         [80, 81]        |        688,128 | 3,538,944 |    14,400 |\n",
            "| model_2/block_3_depthwise_relu/Relu;mo...mV3;model_2/block_3_depthwise/depthwise |         [81, 82]        |        737,280 |   331,776 |     5,760 |\n",
            "| model_2/block_3_project_BN/FusedBatchN...t/Conv2D;model_2/block_3_project/Conv2D |         [82, 83]        |        180,224 | 1,179,648 |    18,560 |\n",
            "| model_2/block_5_expand_relu/Relu;model...depthwise;model_2/block_5_expand/Conv2D |         [83, 84]        |        229,376 | 1,572,864 |    25,344 |\n",
            "| model_2/block_5_depthwise_relu/Relu;mo...ise;model_2/block_5_depthwise/depthwise |       [83, 84, 85]      |        425,984 |   442,368 |     7,680 |\n",
            "|    model_2/block_5_project_BN/FusedBatchNormV3;model_2/block_5_project/Conv2D    |       [83, 85, 86]      |        262,144 | 1,572,864 |    24,704 |\n",
            "|                             model_2/block_5_add/add                              |       [83, 86, 87]      |         98,304 |     8,192 |         0 |\n",
            "| model_2/block_6_expand_relu/Relu;model...depthwise;model_2/block_6_expand/Conv2D |         [87, 88]        |        229,376 | 1,572,864 |    25,344 |\n",
            "| model_2/block_6_depthwise_relu/Relu;mo...mV3;model_2/block_6_depthwise/depthwise |         [88, 89]        |        245,760 |   110,592 |     7,680 |\n",
            "| model_2/block_6_project_BN/FusedBatchN...t/Conv2D;model_2/block_6_project/Conv2D |         [89, 90]        |         65,536 |   786,432 |    49,408 |\n",
            "| model_2/block_9_expand_relu/Relu;model...depthwise;model_2/block_9_expand/Conv2D |         [90, 91]        |        114,688 | 1,572,864 |    99,840 |\n",
            "| model_2/block_9_depthwise_relu/Relu;mo...ise;model_2/block_9_depthwise/depthwise |       [90, 91, 92]      |        212,992 |   221,184 |    15,360 |\n",
            "|    model_2/block_9_project_BN/FusedBatchNormV3;model_2/block_9_project/Conv2D    |       [90, 92, 93]      |        131,072 | 1,572,864 |    98,560 |\n",
            "|                             model_2/block_9_add/add                              |       [90, 93, 94]      |         49,152 |     4,096 |         0 |\n",
            "|                         model_2/block_10_adjust/Conv2D1                          |         [94, 95]        |         40,960 |   393,216 |    24,960 |\n",
            "| model_2/block_10_expand_relu/Relu;mode...epthwise;model_2/block_10_expand/Conv2D |       [94, 95, 96]      |        139,264 | 1,572,864 |    99,840 |\n",
            "| model_2/block_10_depthwise_relu/Relu;m...V3;model_2/block_10_depthwise/depthwise |       [95, 96, 97]      |        221,184 |   221,184 |    15,360 |\n",
            "|   model_2/block_10_project_BN/FusedBatchNormV3;model_2/block_10_project/Conv2D   |       [95, 97, 98]      |        147,456 | 2,359,296 |   147,840 |\n",
            "|                             model_2/block_10_add/add                             |       [95, 98, 99]      |         73,728 |     6,144 |         0 |\n",
            "| model_2/block_13_expand_relu/Relu;mode...epthwise;model_2/block_13_expand/Conv2D |        [99, 100]        |        172,032 | 3,538,944 |   223,488 |\n",
            "| model_2/block_13_depthwise_relu/Relu;m...V3;model_2/block_13_depthwise/depthwise |        [100, 101]       |        184,320 |    82,944 |    23,040 |\n",
            "|   model_2/block_13_project_BN/FusedBatchNormV3;model_2/block_13_project/Conv2D   |        [101, 102]       |         47,104 | 1,474,560 |   369,280 |\n",
            "|                         model_2/block_16_adjust/Conv2D1                          |        [102, 103]       |         30,720 |   819,200 |   206,080 |\n",
            "| model_2/block_16_expand_relu/Relu;mode...epthwise;model_2/block_16_expand/Conv2D |     [102, 103, 104]     |         92,160 | 2,457,600 |   618,240 |\n",
            "| model_2/block_16_depthwise_relu/Relu;m...V3;model_2/block_16_depthwise/depthwise |     [103, 104, 105]     |        143,360 |   138,240 |    38,400 |\n",
            "|   model_2/block_16_project_BN/FusedBatchNormV3;model_2/block_16_project/Conv2D   |     [103, 105, 106]     |        102,400 | 4,915,200 | 1,230,080 |\n",
            "|                             model_2/block_16_add/add                             |     [103, 106, 107]     |         61,440 |     5,120 |         0 |\n",
            "|  model_2/out_relu/Relu;model_2/Conv_1_bn/FusedBatchNormV3;model_2/Conv_1/Conv2D  |        [107, 108]       |        102,400 | 6,553,600 | 1,643,520 |\n",
            "|                     model_2/global_average_pooling2d_2/Mean                      |        [108, 109]       |         87,040 |    20,480 |         8 |\n",
            "|                            StatefulPartitionedCall:0                             |        [109, 110]       |          5,160 |    12,800 |    51,240 |\n",
            "+----------------------------------------------------------------------------------+-------------------------+----------------+-----------+-----------+\n",
            "Current peak memory usage: 884,736 B\n",
            "Total MACs: 47,586,816\n",
            "Total weight size: 5,118,640\n",
            "\n"
          ]
        }
      ]
    },
    {
      "cell_type": "code",
      "source": [
        "path = convert_to_tflite('/content/model_student3.h5')\n",
        "print(path)"
      ],
      "metadata": {
        "colab": {
          "base_uri": "https://localhost:8080/"
        },
        "id": "Hl7U54Nytm-p",
        "outputId": "f8183be9-7380-4c6c-f35b-4e08f283622f"
      },
      "execution_count": 19,
      "outputs": [
        {
          "output_type": "stream",
          "name": "stderr",
          "text": [
            "WARNING:tensorflow:No training configuration found in the save file, so the model was *not* compiled. Compile it manually.\n"
          ]
        },
        {
          "output_type": "stream",
          "name": "stdout",
          "text": [
            "79/79 [==============================] - 4s 12ms/step - loss: 0.4602 - accuracy: 0.8714\n",
            "Total params: 635242\n",
            "models/model_student3.tflite\n"
          ]
        }
      ]
    },
    {
      "cell_type": "code",
      "source": [
        "!python tflite_tools/tflite_tools.py -i /content/models/model_student3.tflite --calc-macs --calc-size"
      ],
      "metadata": {
        "colab": {
          "base_uri": "https://localhost:8080/"
        },
        "id": "10d1URmetsRB",
        "outputId": "782b783c-86b6-448f-c5cc-2031838f08d1"
      },
      "execution_count": 20,
      "outputs": [
        {
          "output_type": "stream",
          "name": "stdout",
          "text": [
            "Tensor information (weights excluded):\n",
            "+----+----------------------------------------------------------------------------------+------------------+-----------------+\n",
            "| Id |                                      Tensor                                      |      Shape       | Size in RAM (B) |\n",
            "+----+----------------------------------------------------------------------------------+------------------+-----------------+\n",
            "|  0 |                            serving_default_input_4:0                             |  (1, 32, 32, 3)  |          12,288 |\n",
            "| 36 | model_3/Conv1_relu/Relu;model_3/bn_Con...k_3_project/Conv2D;model_3/Conv1/Conv2D | (1, 32, 32, 32)  |         131,072 |\n",
            "| 37 |                          model_3/block_0_adjust/Conv2D1                          | (1, 32, 32, 16)  |          65,536 |\n",
            "| 38 | model_3/block_0_expand_relu/Relu;model...ct/Conv2D;model_3/block_0_expand/Conv2D | (1, 32, 32, 32)  |         131,072 |\n",
            "| 39 | model_3/block_0_depthwise_relu/Relu;mo...v2D;model_3/block_0_depthwise/depthwise | (1, 32, 32, 32)  |         131,072 |\n",
            "| 40 |    model_3/block_0_project_BN/FusedBatchNormV3;model_3/block_0_project/Conv2D    | (1, 32, 32, 16)  |          65,536 |\n",
            "| 41 |                             model_3/block_0_add/add                              | (1, 32, 32, 16)  |          65,536 |\n",
            "| 42 | model_3/block_3_expand_relu/Relu;model...depthwise;model_3/block_3_expand/Conv2D | (1, 32, 32, 96)  |         393,216 |\n",
            "| 43 | model_3/block_3_depthwise_relu/Relu;mo...mV3;model_3/block_3_depthwise/depthwise | (1, 16, 16, 96)  |          98,304 |\n",
            "| 44 |    model_3/block_3_project_BN/FusedBatchNormV3;model_3/block_3_project/Conv2D    | (1, 16, 16, 32)  |          32,768 |\n",
            "| 45 | model_3/block_6_expand_relu/Relu;model...depthwise;model_3/block_6_expand/Conv2D | (1, 16, 16, 192) |         196,608 |\n",
            "| 46 | model_3/block_6_depthwise_relu/Relu;mo...mV3;model_3/block_6_depthwise/depthwise |  (1, 8, 8, 192)  |          49,152 |\n",
            "| 47 |    model_3/block_6_project_BN/FusedBatchNormV3;model_3/block_6_project/Conv2D    |  (1, 8, 8, 64)   |          16,384 |\n",
            "| 48 |                         model_3/block_16_adjust/Conv2D1                          |  (1, 8, 8, 320)  |          81,920 |\n",
            "| 49 | model_3/block_16_expand_relu/Relu;mode...epthwise;model_3/block_16_expand/Conv2D |  (1, 8, 8, 384)  |          98,304 |\n",
            "| 50 | model_3/block_16_depthwise_relu/Relu;m...V3;model_3/block_16_depthwise/depthwise |  (1, 8, 8, 384)  |          98,304 |\n",
            "| 51 |   model_3/block_16_project_BN/FusedBatchNormV3;model_3/block_16_project/Conv2D   |  (1, 8, 8, 320)  |          81,920 |\n",
            "| 52 |                             model_3/block_16_add/add                             |  (1, 8, 8, 320)  |          81,920 |\n",
            "| 53 |  model_3/out_relu/Relu;model_3/Conv_1_bn/FusedBatchNormV3;model_3/Conv_1/Conv2D  | (1, 8, 8, 1280)  |         327,680 |\n",
            "| 54 |                     model_3/global_average_pooling2d_3/Mean                      |    (1, 1280)     |           5,120 |\n",
            "| 55 |                            StatefulPartitionedCall:0                             |     (1, 10)      |              40 |\n",
            "+----+----------------------------------------------------------------------------------+------------------+-----------------+\n",
            "\n",
            "Operator execution schedule:\n",
            "+----------------------------------------------------------------------------------+-------------------------+----------------+------------+-----------+\n",
            "|                              Operator (output name)                              | Tensors in memory (IDs) | Memory use (B) |       MACs |      Size |\n",
            "+----------------------------------------------------------------------------------+-------------------------+----------------+------------+-----------+\n",
            "| model_3/Conv1_relu/Relu;model_3/bn_Con...k_3_project/Conv2D;model_3/Conv1/Conv2D |         [0, 36]         |        143,360 |    884,736 |     3,584 |\n",
            "|                          model_3/block_0_adjust/Conv2D1                          |         [36, 37]        |        196,608 |    524,288 |     2,112 |\n",
            "| model_3/block_0_expand_relu/Relu;model...ct/Conv2D;model_3/block_0_expand/Conv2D |       [36, 37, 38]      |        327,680 |  1,048,576 |     4,224 |\n",
            "| model_3/block_0_depthwise_relu/Relu;mo...v2D;model_3/block_0_depthwise/depthwise |       [37, 38, 39]      |        327,680 |    294,912 |     1,280 |\n",
            "|    model_3/block_0_project_BN/FusedBatchNormV3;model_3/block_0_project/Conv2D    |       [37, 39, 40]      |        262,144 |    524,288 |     2,112 |\n",
            "|                             model_3/block_0_add/add                              |       [37, 40, 41]      |        196,608 |     16,384 |         0 |\n",
            "| model_3/block_3_expand_relu/Relu;model...depthwise;model_3/block_3_expand/Conv2D |         [41, 42]        |        458,752 |  1,572,864 |     6,528 |\n",
            "| model_3/block_3_depthwise_relu/Relu;mo...mV3;model_3/block_3_depthwise/depthwise |         [42, 43]        |        491,520 |    221,184 |     3,840 |\n",
            "|    model_3/block_3_project_BN/FusedBatchNormV3;model_3/block_3_project/Conv2D    |         [43, 44]        |        131,072 |    786,432 |    12,416 |\n",
            "| model_3/block_6_expand_relu/Relu;model...depthwise;model_3/block_6_expand/Conv2D |         [44, 45]        |        229,376 |  1,572,864 |    25,344 |\n",
            "| model_3/block_6_depthwise_relu/Relu;mo...mV3;model_3/block_6_depthwise/depthwise |         [45, 46]        |        245,760 |    110,592 |     7,680 |\n",
            "|    model_3/block_6_project_BN/FusedBatchNormV3;model_3/block_6_project/Conv2D    |         [46, 47]        |         65,536 |    786,432 |    49,408 |\n",
            "|                         model_3/block_16_adjust/Conv2D1                          |         [47, 48]        |         98,304 |  1,310,720 |    83,200 |\n",
            "| model_3/block_16_expand_relu/Relu;mode...epthwise;model_3/block_16_expand/Conv2D |       [47, 48, 49]      |        196,608 |  1,572,864 |    99,840 |\n",
            "| model_3/block_16_depthwise_relu/Relu;m...V3;model_3/block_16_depthwise/depthwise |       [48, 49, 50]      |        278,528 |    221,184 |    15,360 |\n",
            "|   model_3/block_16_project_BN/FusedBatchNormV3;model_3/block_16_project/Conv2D   |       [48, 50, 51]      |        262,144 |  7,864,320 |   492,800 |\n",
            "|                             model_3/block_16_add/add                             |       [48, 51, 52]      |        245,760 |     20,480 |         0 |\n",
            "|  model_3/out_relu/Relu;model_3/Conv_1_bn/FusedBatchNormV3;model_3/Conv_1/Conv2D  |         [52, 53]        |        409,600 | 26,214,400 | 1,643,520 |\n",
            "|                     model_3/global_average_pooling2d_3/Mean                      |         [53, 54]        |        332,800 |     81,920 |         8 |\n",
            "|                            StatefulPartitionedCall:0                             |         [54, 55]        |          5,160 |     12,800 |    51,240 |\n",
            "+----------------------------------------------------------------------------------+-------------------------+----------------+------------+-----------+\n",
            "Current peak memory usage: 491,520 B\n",
            "Total MACs: 45,642,240\n",
            "Total weight size: 2,504,496\n",
            "\n"
          ]
        }
      ]
    },
    {
      "cell_type": "code",
      "source": [
        "# Evaluate accuracy\n",
        "interpreter = tf.lite.Interpreter(model_path='/content/models/model_student3.tflite')\n",
        "interpreter.allocate_tensors()\n",
        "print(f\"{path} accuracy: {evaluate_model(interpreter)}\")"
      ],
      "metadata": {
        "colab": {
          "base_uri": "https://localhost:8080/"
        },
        "id": "1jYsebBUuv-1",
        "outputId": "b6ffb063-b70c-49c4-d18c-1e011938c4f9"
      },
      "execution_count": 21,
      "outputs": [
        {
          "output_type": "stream",
          "name": "stdout",
          "text": [
            "models/model_student3.tflite accuracy: 0.8721321202531646\n"
          ]
        }
      ]
    },
    {
      "cell_type": "markdown",
      "source": [
        "###Pruning"
      ],
      "metadata": {
        "id": "_rR_1J_bttDk"
      }
    },
    {
      "cell_type": "code",
      "source": [
        "path = convert_to_tflite('/content/model_pruned60.h5')\n",
        "print(path)"
      ],
      "metadata": {
        "colab": {
          "base_uri": "https://localhost:8080/"
        },
        "id": "TbCG3u7ottaP",
        "outputId": "727928bc-d55d-4e69-d116-d482c00bf33b"
      },
      "execution_count": 22,
      "outputs": [
        {
          "output_type": "stream",
          "name": "stderr",
          "text": [
            "WARNING:tensorflow:No training configuration found in the save file, so the model was *not* compiled. Compile it manually.\n"
          ]
        },
        {
          "output_type": "stream",
          "name": "stdout",
          "text": [
            "79/79 [==============================] - 7s 32ms/step - loss: 0.2920 - accuracy: 0.9114\n",
            "Total params: 2330186\n",
            "models/model_pruned60.tflite\n"
          ]
        }
      ]
    },
    {
      "cell_type": "code",
      "source": [
        "!python tflite_tools/tflite_tools.py -i /content/models/model_pruned60.tflite --calc-macs --calc-size"
      ],
      "metadata": {
        "colab": {
          "base_uri": "https://localhost:8080/"
        },
        "id": "j9fy8A79vonA",
        "outputId": "6777b1e2-b696-4f81-8165-b5907555393f"
      },
      "execution_count": 23,
      "outputs": [
        {
          "output_type": "stream",
          "name": "stdout",
          "text": [
            "Tensor information (weights excluded):\n",
            "+-----+----------------------------------------------------------------------------------+------------------+-----------------+\n",
            "|  Id |                                      Tensor                                      |      Shape       | Size in RAM (B) |\n",
            "+-----+----------------------------------------------------------------------------------+------------------+-----------------+\n",
            "|   0 |                            serving_default_input_1:0                             |  (1, 32, 32, 3)  |          12,288 |\n",
            "| 118 | model/Conv1_relu/Relu;model/bn_Conv1/F...ock_5_project/Conv2D;model/Conv1/Conv2D | (1, 32, 32, 32)  |         131,072 |\n",
            "| 119 |                           model/block_0_adjust/Conv2D1                           | (1, 32, 32, 16)  |          65,536 |\n",
            "| 120 | model/block_0_expand_relu/Relu;model/b...ject/Conv2D;model/block_0_expand/Conv2D | (1, 32, 32, 32)  |         131,072 |\n",
            "| 121 | model/block_0_depthwise_relu/Relu;mode...onv2D;model/block_0_depthwise/depthwise | (1, 32, 32, 32)  |         131,072 |\n",
            "| 122 |      model/block_0_project_BN/FusedBatchNormV3;model/block_0_project/Conv2D      | (1, 32, 32, 16)  |          65,536 |\n",
            "| 123 |                              model/block_0_add/add                               | (1, 32, 32, 16)  |          65,536 |\n",
            "| 124 |                           model/block_1_adjust/Conv2D1                           | (1, 32, 32, 24)  |          98,304 |\n",
            "| 125 | model/block_1_expand_relu/Relu;model/b...ject/Conv2D;model/block_1_expand/Conv2D | (1, 32, 32, 96)  |         393,216 |\n",
            "| 126 | model/block_1_depthwise_relu/Relu;mode...onv2D;model/block_1_depthwise/depthwise | (1, 32, 32, 96)  |         393,216 |\n",
            "| 127 | model/block_1_project_BN/FusedBatchNor...ect/Conv2D;model/block_1_project/Conv2D | (1, 32, 32, 24)  |          98,304 |\n",
            "| 128 |                              model/block_1_add/add                               | (1, 32, 32, 24)  |          98,304 |\n",
            "| 129 | model/block_2_expand_relu/Relu;model/b...e/depthwise;model/block_2_expand/Conv2D | (1, 32, 32, 144) |         589,824 |\n",
            "| 130 | model/block_2_depthwise_relu/Relu;mode...hwise;model/block_2_depthwise/depthwise | (1, 32, 32, 144) |         589,824 |\n",
            "| 131 |      model/block_2_project_BN/FusedBatchNormV3;model/block_2_project/Conv2D      | (1, 32, 32, 24)  |          98,304 |\n",
            "| 132 |                              model/block_2_add/add                               | (1, 32, 32, 24)  |          98,304 |\n",
            "| 133 | model/block_3_expand_relu/Relu;model/b...e/depthwise;model/block_3_expand/Conv2D | (1, 32, 32, 144) |         589,824 |\n",
            "| 134 | model/block_3_depthwise_relu/Relu;mode...ormV3;model/block_3_depthwise/depthwise | (1, 16, 16, 144) |         147,456 |\n",
            "| 135 | model/block_3_project_BN/FusedBatchNor...ect/Conv2D;model/block_3_project/Conv2D | (1, 16, 16, 32)  |          32,768 |\n",
            "| 136 | model/block_4_expand_relu/Relu;model/b...e/depthwise;model/block_4_expand/Conv2D | (1, 16, 16, 192) |         196,608 |\n",
            "| 137 | model/block_4_depthwise_relu/Relu;mode...hwise;model/block_4_depthwise/depthwise | (1, 16, 16, 192) |         196,608 |\n",
            "| 138 | model/block_4_project_BN/FusedBatchNor...ect/Conv2D;model/block_4_project/Conv2D | (1, 16, 16, 32)  |          32,768 |\n",
            "| 139 |                              model/block_4_add/add                               | (1, 16, 16, 32)  |          32,768 |\n",
            "| 140 | model/block_5_expand_relu/Relu;model/b...e/depthwise;model/block_5_expand/Conv2D | (1, 16, 16, 192) |         196,608 |\n",
            "| 141 | model/block_5_depthwise_relu/Relu;mode...hwise;model/block_5_depthwise/depthwise | (1, 16, 16, 192) |         196,608 |\n",
            "| 142 |      model/block_5_project_BN/FusedBatchNormV3;model/block_5_project/Conv2D      | (1, 16, 16, 32)  |          32,768 |\n",
            "| 143 |                              model/block_5_add/add                               | (1, 16, 16, 32)  |          32,768 |\n",
            "| 144 | model/block_6_expand_relu/Relu;model/b...e/depthwise;model/block_6_expand/Conv2D | (1, 16, 16, 192) |         196,608 |\n",
            "| 145 | model/block_6_depthwise_relu/Relu;mode...ormV3;model/block_6_depthwise/depthwise |  (1, 8, 8, 192)  |          49,152 |\n",
            "| 146 | model/block_6_project_BN/FusedBatchNor...ect/Conv2D;model/block_6_project/Conv2D |  (1, 8, 8, 64)   |          16,384 |\n",
            "| 147 | model/block_7_expand_relu/Relu;model/b...e/depthwise;model/block_7_expand/Conv2D |  (1, 8, 8, 384)  |          98,304 |\n",
            "| 148 | model/block_7_depthwise_relu/Relu;mode...hwise;model/block_7_depthwise/depthwise |  (1, 8, 8, 384)  |          98,304 |\n",
            "| 149 | model/block_7_project_BN/FusedBatchNor...ect/Conv2D;model/block_7_project/Conv2D |  (1, 8, 8, 64)   |          16,384 |\n",
            "| 150 |                              model/block_7_add/add                               |  (1, 8, 8, 64)   |          16,384 |\n",
            "| 151 | model/block_8_expand_relu/Relu;model/b...e/depthwise;model/block_8_expand/Conv2D |  (1, 8, 8, 384)  |          98,304 |\n",
            "| 152 | model/block_8_depthwise_relu/Relu;mode...hwise;model/block_8_depthwise/depthwise |  (1, 8, 8, 384)  |          98,304 |\n",
            "| 153 | model/block_8_project_BN/FusedBatchNor...ect/Conv2D;model/block_8_project/Conv2D |  (1, 8, 8, 64)   |          16,384 |\n",
            "| 154 |                              model/block_8_add/add                               |  (1, 8, 8, 64)   |          16,384 |\n",
            "| 155 | model/block_9_expand_relu/Relu;model/b...e/depthwise;model/block_9_expand/Conv2D |  (1, 8, 8, 384)  |          98,304 |\n",
            "| 156 | model/block_9_depthwise_relu/Relu;mode...hwise;model/block_9_depthwise/depthwise |  (1, 8, 8, 384)  |          98,304 |\n",
            "| 157 |      model/block_9_project_BN/FusedBatchNormV3;model/block_9_project/Conv2D      |  (1, 8, 8, 64)   |          16,384 |\n",
            "| 158 |                              model/block_9_add/add                               |  (1, 8, 8, 64)   |          16,384 |\n",
            "| 159 |                          model/block_10_adjust/Conv2D1                           |  (1, 8, 8, 96)   |          24,576 |\n",
            "| 160 | model/block_10_expand_relu/Relu;model/.../depthwise;model/block_10_expand/Conv2D |  (1, 8, 8, 384)  |          98,304 |\n",
            "| 161 | model/block_10_depthwise_relu/Relu;mod...rmV3;model/block_10_depthwise/depthwise |  (1, 8, 8, 384)  |          98,304 |\n",
            "| 162 | model/block_10_project_BN/FusedBatchNo...ct/Conv2D;model/block_10_project/Conv2D |  (1, 8, 8, 96)   |          24,576 |\n",
            "| 163 |                              model/block_10_add/add                              |  (1, 8, 8, 96)   |          24,576 |\n",
            "| 164 | model/block_11_expand_relu/Relu;model/.../depthwise;model/block_11_expand/Conv2D |  (1, 8, 8, 576)  |         147,456 |\n",
            "| 165 | model/block_11_depthwise_relu/Relu;mod...wise;model/block_11_depthwise/depthwise |  (1, 8, 8, 576)  |         147,456 |\n",
            "| 166 | model/block_11_project_BN/FusedBatchNo...ct/Conv2D;model/block_11_project/Conv2D |  (1, 8, 8, 96)   |          24,576 |\n",
            "| 167 |                              model/block_11_add/add                              |  (1, 8, 8, 96)   |          24,576 |\n",
            "| 168 | model/block_12_expand_relu/Relu;model/.../depthwise;model/block_12_expand/Conv2D |  (1, 8, 8, 576)  |         147,456 |\n",
            "| 169 | model/block_12_depthwise_relu/Relu;mod...wise;model/block_12_depthwise/depthwise |  (1, 8, 8, 576)  |         147,456 |\n",
            "| 170 |     model/block_12_project_BN/FusedBatchNormV3;model/block_12_project/Conv2D     |  (1, 8, 8, 96)   |          24,576 |\n",
            "| 171 |                              model/block_12_add/add                              |  (1, 8, 8, 96)   |          24,576 |\n",
            "| 172 | model/block_13_expand_relu/Relu;model/.../depthwise;model/block_13_expand/Conv2D |  (1, 8, 8, 576)  |         147,456 |\n",
            "| 173 | model/block_13_depthwise_relu/Relu;mod...rmV3;model/block_13_depthwise/depthwise |  (1, 4, 4, 576)  |          36,864 |\n",
            "| 174 | model/block_13_project_BN/FusedBatchNo...ct/Conv2D;model/block_13_project/Conv2D |  (1, 4, 4, 160)  |          10,240 |\n",
            "| 175 | model/block_14_expand_relu/Relu;model/.../depthwise;model/block_14_expand/Conv2D |  (1, 4, 4, 960)  |          61,440 |\n",
            "| 176 | model/block_14_depthwise_relu/Relu;mod...wise;model/block_14_depthwise/depthwise |  (1, 4, 4, 960)  |          61,440 |\n",
            "| 177 | model/block_14_project_BN/FusedBatchNo...ct/Conv2D;model/block_14_project/Conv2D |  (1, 4, 4, 160)  |          10,240 |\n",
            "| 178 |                              model/block_14_add/add                              |  (1, 4, 4, 160)  |          10,240 |\n",
            "| 179 | model/block_15_expand_relu/Relu;model/.../depthwise;model/block_15_expand/Conv2D |  (1, 4, 4, 960)  |          61,440 |\n",
            "| 180 | model/block_15_depthwise_relu/Relu;mod...wise;model/block_15_depthwise/depthwise |  (1, 4, 4, 960)  |          61,440 |\n",
            "| 181 |     model/block_15_project_BN/FusedBatchNormV3;model/block_15_project/Conv2D     |  (1, 4, 4, 160)  |          10,240 |\n",
            "| 182 |                              model/block_15_add/add                              |  (1, 4, 4, 160)  |          10,240 |\n",
            "| 183 |                          model/block_16_adjust/Conv2D1                           |  (1, 4, 4, 320)  |          20,480 |\n",
            "| 184 | model/block_16_expand_relu/Relu;model/.../depthwise;model/block_16_expand/Conv2D |  (1, 4, 4, 960)  |          61,440 |\n",
            "| 185 | model/block_16_depthwise_relu/Relu;mod...rmV3;model/block_16_depthwise/depthwise |  (1, 4, 4, 960)  |          61,440 |\n",
            "| 186 |     model/block_16_project_BN/FusedBatchNormV3;model/block_16_project/Conv2D     |  (1, 4, 4, 320)  |          20,480 |\n",
            "| 187 |                              model/block_16_add/add                              |  (1, 4, 4, 320)  |          20,480 |\n",
            "| 188 |     model/out_relu/Relu;model/Conv_1_bn/FusedBatchNormV3;model/Conv_1/Conv2D     | (1, 4, 4, 1280)  |          81,920 |\n",
            "| 189 |                       model/global_average_pooling2d/Mean                        |    (1, 1280)     |           5,120 |\n",
            "| 190 |                            StatefulPartitionedCall:0                             |     (1, 10)      |              40 |\n",
            "+-----+----------------------------------------------------------------------------------+------------------+-----------------+\n",
            "\n",
            "Operator execution schedule:\n",
            "+----------------------------------------------------------------------------------+-------------------------+----------------+-----------+-----------+\n",
            "|                              Operator (output name)                              | Tensors in memory (IDs) | Memory use (B) |      MACs |      Size |\n",
            "+----------------------------------------------------------------------------------+-------------------------+----------------+-----------+-----------+\n",
            "| model/Conv1_relu/Relu;model/bn_Conv1/F...ock_5_project/Conv2D;model/Conv1/Conv2D |         [0, 118]        |        143,360 |   884,736 |     3,584 |\n",
            "|                           model/block_0_adjust/Conv2D1                           |        [118, 119]       |        196,608 |   524,288 |     2,112 |\n",
            "| model/block_0_expand_relu/Relu;model/b...ject/Conv2D;model/block_0_expand/Conv2D |     [118, 119, 120]     |        327,680 | 1,048,576 |     4,224 |\n",
            "| model/block_0_depthwise_relu/Relu;mode...onv2D;model/block_0_depthwise/depthwise |     [119, 120, 121]     |        327,680 |   294,912 |     1,280 |\n",
            "|      model/block_0_project_BN/FusedBatchNormV3;model/block_0_project/Conv2D      |     [119, 121, 122]     |        262,144 |   524,288 |     2,112 |\n",
            "|                              model/block_0_add/add                               |     [119, 122, 123]     |        196,608 |    16,384 |         0 |\n",
            "|                           model/block_1_adjust/Conv2D1                           |        [123, 124]       |        163,840 |   393,216 |     1,632 |\n",
            "| model/block_1_expand_relu/Relu;model/b...ject/Conv2D;model/block_1_expand/Conv2D |     [123, 124, 125]     |        557,056 | 1,572,864 |     6,528 |\n",
            "| model/block_1_depthwise_relu/Relu;mode...onv2D;model/block_1_depthwise/depthwise |     [124, 125, 126]     |        884,736 |   884,736 |     3,840 |\n",
            "| model/block_1_project_BN/FusedBatchNor...ect/Conv2D;model/block_1_project/Conv2D |     [124, 126, 127]     |        589,824 | 2,359,296 |     9,312 |\n",
            "|                              model/block_1_add/add                               |     [124, 127, 128]     |        294,912 |    24,576 |         0 |\n",
            "| model/block_2_expand_relu/Relu;model/b...e/depthwise;model/block_2_expand/Conv2D |        [128, 129]       |        688,128 | 3,538,944 |    14,400 |\n",
            "| model/block_2_depthwise_relu/Relu;mode...hwise;model/block_2_depthwise/depthwise |     [128, 129, 130]     |      1,277,952 | 1,327,104 |     5,760 |\n",
            "|      model/block_2_project_BN/FusedBatchNormV3;model/block_2_project/Conv2D      |     [128, 130, 131]     |        786,432 | 3,538,944 |    13,920 |\n",
            "|                              model/block_2_add/add                               |     [128, 131, 132]     |        294,912 |    24,576 |         0 |\n",
            "| model/block_3_expand_relu/Relu;model/b...e/depthwise;model/block_3_expand/Conv2D |        [132, 133]       |        688,128 | 3,538,944 |    14,400 |\n",
            "| model/block_3_depthwise_relu/Relu;mode...ormV3;model/block_3_depthwise/depthwise |        [133, 134]       |        737,280 |   331,776 |     5,760 |\n",
            "| model/block_3_project_BN/FusedBatchNor...ect/Conv2D;model/block_3_project/Conv2D |        [134, 135]       |        180,224 | 1,179,648 |    18,560 |\n",
            "| model/block_4_expand_relu/Relu;model/b...e/depthwise;model/block_4_expand/Conv2D |        [135, 136]       |        229,376 | 1,572,864 |    25,344 |\n",
            "| model/block_4_depthwise_relu/Relu;mode...hwise;model/block_4_depthwise/depthwise |     [135, 136, 137]     |        425,984 |   442,368 |     7,680 |\n",
            "| model/block_4_project_BN/FusedBatchNor...ect/Conv2D;model/block_4_project/Conv2D |     [135, 137, 138]     |        262,144 | 1,572,864 |    24,704 |\n",
            "|                              model/block_4_add/add                               |     [135, 138, 139]     |         98,304 |     8,192 |         0 |\n",
            "| model/block_5_expand_relu/Relu;model/b...e/depthwise;model/block_5_expand/Conv2D |        [139, 140]       |        229,376 | 1,572,864 |    25,344 |\n",
            "| model/block_5_depthwise_relu/Relu;mode...hwise;model/block_5_depthwise/depthwise |     [139, 140, 141]     |        425,984 |   442,368 |     7,680 |\n",
            "|      model/block_5_project_BN/FusedBatchNormV3;model/block_5_project/Conv2D      |     [139, 141, 142]     |        262,144 | 1,572,864 |    24,704 |\n",
            "|                              model/block_5_add/add                               |     [139, 142, 143]     |         98,304 |     8,192 |         0 |\n",
            "| model/block_6_expand_relu/Relu;model/b...e/depthwise;model/block_6_expand/Conv2D |        [143, 144]       |        229,376 | 1,572,864 |    25,344 |\n",
            "| model/block_6_depthwise_relu/Relu;mode...ormV3;model/block_6_depthwise/depthwise |        [145, 144]       |        245,760 |   110,592 |     7,680 |\n",
            "| model/block_6_project_BN/FusedBatchNor...ect/Conv2D;model/block_6_project/Conv2D |        [145, 146]       |         65,536 |   786,432 |    49,408 |\n",
            "| model/block_7_expand_relu/Relu;model/b...e/depthwise;model/block_7_expand/Conv2D |        [146, 147]       |        114,688 | 1,572,864 |    99,840 |\n",
            "| model/block_7_depthwise_relu/Relu;mode...hwise;model/block_7_depthwise/depthwise |     [148, 146, 147]     |        212,992 |   221,184 |    15,360 |\n",
            "| model/block_7_project_BN/FusedBatchNor...ect/Conv2D;model/block_7_project/Conv2D |     [148, 146, 149]     |        131,072 | 1,572,864 |    98,560 |\n",
            "|                              model/block_7_add/add                               |     [146, 149, 150]     |         49,152 |     4,096 |         0 |\n",
            "| model/block_8_expand_relu/Relu;model/b...e/depthwise;model/block_8_expand/Conv2D |        [150, 151]       |        114,688 | 1,572,864 |    99,840 |\n",
            "| model/block_8_depthwise_relu/Relu;mode...hwise;model/block_8_depthwise/depthwise |     [150, 151, 152]     |        212,992 |   221,184 |    15,360 |\n",
            "| model/block_8_project_BN/FusedBatchNor...ect/Conv2D;model/block_8_project/Conv2D |     [153, 150, 152]     |        131,072 | 1,572,864 |    98,560 |\n",
            "|                              model/block_8_add/add                               |     [153, 154, 150]     |         49,152 |     4,096 |         0 |\n",
            "| model/block_9_expand_relu/Relu;model/b...e/depthwise;model/block_9_expand/Conv2D |        [154, 155]       |        114,688 | 1,572,864 |    99,840 |\n",
            "| model/block_9_depthwise_relu/Relu;mode...hwise;model/block_9_depthwise/depthwise |     [154, 155, 156]     |        212,992 |   221,184 |    15,360 |\n",
            "|      model/block_9_project_BN/FusedBatchNormV3;model/block_9_project/Conv2D      |     [154, 156, 157]     |        131,072 | 1,572,864 |    98,560 |\n",
            "|                              model/block_9_add/add                               |     [154, 157, 158]     |         49,152 |     4,096 |         0 |\n",
            "|                          model/block_10_adjust/Conv2D1                           |        [158, 159]       |         40,960 |   393,216 |    24,960 |\n",
            "| model/block_10_expand_relu/Relu;model/.../depthwise;model/block_10_expand/Conv2D |     [158, 159, 160]     |        139,264 | 1,572,864 |    99,840 |\n",
            "| model/block_10_depthwise_relu/Relu;mod...rmV3;model/block_10_depthwise/depthwise |     [159, 160, 161]     |        221,184 |   221,184 |    15,360 |\n",
            "| model/block_10_project_BN/FusedBatchNo...ct/Conv2D;model/block_10_project/Conv2D |     [159, 161, 162]     |        147,456 | 2,359,296 |   147,840 |\n",
            "|                              model/block_10_add/add                              |     [159, 162, 163]     |         73,728 |     6,144 |         0 |\n",
            "| model/block_11_expand_relu/Relu;model/.../depthwise;model/block_11_expand/Conv2D |        [163, 164]       |        172,032 | 3,538,944 |   223,488 |\n",
            "| model/block_11_depthwise_relu/Relu;mod...wise;model/block_11_depthwise/depthwise |     [163, 164, 165]     |        319,488 |   331,776 |    23,040 |\n",
            "| model/block_11_project_BN/FusedBatchNo...ct/Conv2D;model/block_11_project/Conv2D |     [163, 165, 166]     |        196,608 | 3,538,944 |   221,568 |\n",
            "|                              model/block_11_add/add                              |     [163, 166, 167]     |         73,728 |     6,144 |         0 |\n",
            "| model/block_12_expand_relu/Relu;model/.../depthwise;model/block_12_expand/Conv2D |        [167, 168]       |        172,032 | 3,538,944 |   223,488 |\n",
            "| model/block_12_depthwise_relu/Relu;mod...wise;model/block_12_depthwise/depthwise |     [167, 168, 169]     |        319,488 |   331,776 |    23,040 |\n",
            "|     model/block_12_project_BN/FusedBatchNormV3;model/block_12_project/Conv2D     |     [167, 169, 170]     |        196,608 | 3,538,944 |   221,568 |\n",
            "|                              model/block_12_add/add                              |     [167, 170, 171]     |         73,728 |     6,144 |         0 |\n",
            "| model/block_13_expand_relu/Relu;model/.../depthwise;model/block_13_expand/Conv2D |        [171, 172]       |        172,032 | 3,538,944 |   223,488 |\n",
            "| model/block_13_depthwise_relu/Relu;mod...rmV3;model/block_13_depthwise/depthwise |        [172, 173]       |        184,320 |    82,944 |    23,040 |\n",
            "| model/block_13_project_BN/FusedBatchNo...ct/Conv2D;model/block_13_project/Conv2D |        [173, 174]       |         47,104 | 1,474,560 |   369,280 |\n",
            "| model/block_14_expand_relu/Relu;model/.../depthwise;model/block_14_expand/Conv2D |        [174, 175]       |         71,680 | 2,457,600 |   618,240 |\n",
            "| model/block_14_depthwise_relu/Relu;mod...wise;model/block_14_depthwise/depthwise |     [174, 175, 176]     |        133,120 |   138,240 |    38,400 |\n",
            "| model/block_14_project_BN/FusedBatchNo...ct/Conv2D;model/block_14_project/Conv2D |     [174, 176, 177]     |         81,920 | 2,457,600 |   615,040 |\n",
            "|                              model/block_14_add/add                              |     [174, 177, 178]     |         30,720 |     2,560 |         0 |\n",
            "| model/block_15_expand_relu/Relu;model/.../depthwise;model/block_15_expand/Conv2D |        [178, 179]       |         71,680 | 2,457,600 |   618,240 |\n",
            "| model/block_15_depthwise_relu/Relu;mod...wise;model/block_15_depthwise/depthwise |     [178, 179, 180]     |        133,120 |   138,240 |    38,400 |\n",
            "|     model/block_15_project_BN/FusedBatchNormV3;model/block_15_project/Conv2D     |     [178, 180, 181]     |         81,920 | 2,457,600 |   615,040 |\n",
            "|                              model/block_15_add/add                              |     [178, 181, 182]     |         30,720 |     2,560 |         0 |\n",
            "|                          model/block_16_adjust/Conv2D1                           |        [182, 183]       |         30,720 |   819,200 |   206,080 |\n",
            "| model/block_16_expand_relu/Relu;model/.../depthwise;model/block_16_expand/Conv2D |     [182, 183, 184]     |         92,160 | 2,457,600 |   618,240 |\n",
            "| model/block_16_depthwise_relu/Relu;mod...rmV3;model/block_16_depthwise/depthwise |     [183, 184, 185]     |        143,360 |   138,240 |    38,400 |\n",
            "|     model/block_16_project_BN/FusedBatchNormV3;model/block_16_project/Conv2D     |     [183, 185, 186]     |        102,400 | 4,915,200 | 1,230,080 |\n",
            "|                              model/block_16_add/add                              |     [183, 186, 187]     |         61,440 |     5,120 |         0 |\n",
            "|     model/out_relu/Relu;model/Conv_1_bn/FusedBatchNormV3;model/Conv_1/Conv2D     |        [187, 188]       |        102,400 | 6,553,600 | 1,643,520 |\n",
            "|                       model/global_average_pooling2d/Mean                        |        [188, 189]       |         87,040 |    20,480 |         8 |\n",
            "|                            StatefulPartitionedCall:0                             |        [190, 189]       |          5,160 |    12,800 |    51,240 |\n",
            "+----------------------------------------------------------------------------------+-------------------------+----------------+-----------+-----------+\n",
            "Current peak memory usage: 1,277,952 B\n",
            "Total MACs: 91,298,304\n",
            "Total weight size: 9,117,520\n",
            "\n"
          ]
        }
      ]
    },
    {
      "cell_type": "code",
      "source": [
        "path = convert_to_tflite('/content/model_pruned70.h5')\n",
        "print(path)"
      ],
      "metadata": {
        "colab": {
          "base_uri": "https://localhost:8080/"
        },
        "id": "vgsi0aiCv_Og",
        "outputId": "6e06f114-2814-4a89-b24b-362d1d2ec9ef"
      },
      "execution_count": 24,
      "outputs": [
        {
          "output_type": "stream",
          "name": "stderr",
          "text": [
            "WARNING:tensorflow:No training configuration found in the save file, so the model was *not* compiled. Compile it manually.\n"
          ]
        },
        {
          "output_type": "stream",
          "name": "stdout",
          "text": [
            "79/79 [==============================] - 6s 32ms/step - loss: 0.3015 - accuracy: 0.9060\n",
            "Total params: 2330186\n",
            "models/model_pruned70.tflite\n"
          ]
        }
      ]
    },
    {
      "cell_type": "code",
      "source": [
        "!python tflite_tools/tflite_tools.py -i /content/models/model_pruned70.tflite --calc-macs --calc-size"
      ],
      "metadata": {
        "colab": {
          "base_uri": "https://localhost:8080/"
        },
        "id": "f6uEsaAvwGvS",
        "outputId": "f2920c53-3367-4a9f-9043-6bb584a3e4e5"
      },
      "execution_count": 25,
      "outputs": [
        {
          "output_type": "stream",
          "name": "stdout",
          "text": [
            "Tensor information (weights excluded):\n",
            "+-----+----------------------------------------------------------------------------------+------------------+-----------------+\n",
            "|  Id |                                      Tensor                                      |      Shape       | Size in RAM (B) |\n",
            "+-----+----------------------------------------------------------------------------------+------------------+-----------------+\n",
            "|   0 |                            serving_default_input_1:0                             |  (1, 32, 32, 3)  |          12,288 |\n",
            "| 118 | model/Conv1_relu/Relu;model/bn_Conv1/F...ock_5_project/Conv2D;model/Conv1/Conv2D | (1, 32, 32, 32)  |         131,072 |\n",
            "| 119 |                           model/block_0_adjust/Conv2D1                           | (1, 32, 32, 16)  |          65,536 |\n",
            "| 120 | model/block_0_expand_relu/Relu;model/b...ject/Conv2D;model/block_0_expand/Conv2D | (1, 32, 32, 32)  |         131,072 |\n",
            "| 121 | model/block_0_depthwise_relu/Relu;mode...onv2D;model/block_0_depthwise/depthwise | (1, 32, 32, 32)  |         131,072 |\n",
            "| 122 |      model/block_0_project_BN/FusedBatchNormV3;model/block_0_project/Conv2D      | (1, 32, 32, 16)  |          65,536 |\n",
            "| 123 |                              model/block_0_add/add                               | (1, 32, 32, 16)  |          65,536 |\n",
            "| 124 |                           model/block_1_adjust/Conv2D1                           | (1, 32, 32, 24)  |          98,304 |\n",
            "| 125 | model/block_1_expand_relu/Relu;model/b...ject/Conv2D;model/block_1_expand/Conv2D | (1, 32, 32, 96)  |         393,216 |\n",
            "| 126 | model/block_1_depthwise_relu/Relu;mode...onv2D;model/block_1_depthwise/depthwise | (1, 32, 32, 96)  |         393,216 |\n",
            "| 127 | model/block_1_project_BN/FusedBatchNor...ect/Conv2D;model/block_1_project/Conv2D | (1, 32, 32, 24)  |          98,304 |\n",
            "| 128 |                              model/block_1_add/add                               | (1, 32, 32, 24)  |          98,304 |\n",
            "| 129 | model/block_2_expand_relu/Relu;model/b...e/depthwise;model/block_2_expand/Conv2D | (1, 32, 32, 144) |         589,824 |\n",
            "| 130 | model/block_2_depthwise_relu/Relu;mode...hwise;model/block_2_depthwise/depthwise | (1, 32, 32, 144) |         589,824 |\n",
            "| 131 |      model/block_2_project_BN/FusedBatchNormV3;model/block_2_project/Conv2D      | (1, 32, 32, 24)  |          98,304 |\n",
            "| 132 |                              model/block_2_add/add                               | (1, 32, 32, 24)  |          98,304 |\n",
            "| 133 | model/block_3_expand_relu/Relu;model/b...e/depthwise;model/block_3_expand/Conv2D | (1, 32, 32, 144) |         589,824 |\n",
            "| 134 | model/block_3_depthwise_relu/Relu;mode...ormV3;model/block_3_depthwise/depthwise | (1, 16, 16, 144) |         147,456 |\n",
            "| 135 | model/block_3_project_BN/FusedBatchNor...ect/Conv2D;model/block_3_project/Conv2D | (1, 16, 16, 32)  |          32,768 |\n",
            "| 136 | model/block_4_expand_relu/Relu;model/b...e/depthwise;model/block_4_expand/Conv2D | (1, 16, 16, 192) |         196,608 |\n",
            "| 137 | model/block_4_depthwise_relu/Relu;mode...hwise;model/block_4_depthwise/depthwise | (1, 16, 16, 192) |         196,608 |\n",
            "| 138 | model/block_4_project_BN/FusedBatchNor...ect/Conv2D;model/block_4_project/Conv2D | (1, 16, 16, 32)  |          32,768 |\n",
            "| 139 |                              model/block_4_add/add                               | (1, 16, 16, 32)  |          32,768 |\n",
            "| 140 | model/block_5_expand_relu/Relu;model/b...e/depthwise;model/block_5_expand/Conv2D | (1, 16, 16, 192) |         196,608 |\n",
            "| 141 | model/block_5_depthwise_relu/Relu;mode...hwise;model/block_5_depthwise/depthwise | (1, 16, 16, 192) |         196,608 |\n",
            "| 142 |      model/block_5_project_BN/FusedBatchNormV3;model/block_5_project/Conv2D      | (1, 16, 16, 32)  |          32,768 |\n",
            "| 143 |                              model/block_5_add/add                               | (1, 16, 16, 32)  |          32,768 |\n",
            "| 144 | model/block_6_expand_relu/Relu;model/b...e/depthwise;model/block_6_expand/Conv2D | (1, 16, 16, 192) |         196,608 |\n",
            "| 145 | model/block_6_depthwise_relu/Relu;mode...ormV3;model/block_6_depthwise/depthwise |  (1, 8, 8, 192)  |          49,152 |\n",
            "| 146 | model/block_6_project_BN/FusedBatchNor...ect/Conv2D;model/block_6_project/Conv2D |  (1, 8, 8, 64)   |          16,384 |\n",
            "| 147 | model/block_7_expand_relu/Relu;model/b...e/depthwise;model/block_7_expand/Conv2D |  (1, 8, 8, 384)  |          98,304 |\n",
            "| 148 | model/block_7_depthwise_relu/Relu;mode...hwise;model/block_7_depthwise/depthwise |  (1, 8, 8, 384)  |          98,304 |\n",
            "| 149 | model/block_7_project_BN/FusedBatchNor...ect/Conv2D;model/block_7_project/Conv2D |  (1, 8, 8, 64)   |          16,384 |\n",
            "| 150 |                              model/block_7_add/add                               |  (1, 8, 8, 64)   |          16,384 |\n",
            "| 151 | model/block_8_expand_relu/Relu;model/b...e/depthwise;model/block_8_expand/Conv2D |  (1, 8, 8, 384)  |          98,304 |\n",
            "| 152 | model/block_8_depthwise_relu/Relu;mode...hwise;model/block_8_depthwise/depthwise |  (1, 8, 8, 384)  |          98,304 |\n",
            "| 153 | model/block_8_project_BN/FusedBatchNor...ect/Conv2D;model/block_8_project/Conv2D |  (1, 8, 8, 64)   |          16,384 |\n",
            "| 154 |                              model/block_8_add/add                               |  (1, 8, 8, 64)   |          16,384 |\n",
            "| 155 | model/block_9_expand_relu/Relu;model/b...e/depthwise;model/block_9_expand/Conv2D |  (1, 8, 8, 384)  |          98,304 |\n",
            "| 156 | model/block_9_depthwise_relu/Relu;mode...hwise;model/block_9_depthwise/depthwise |  (1, 8, 8, 384)  |          98,304 |\n",
            "| 157 |      model/block_9_project_BN/FusedBatchNormV3;model/block_9_project/Conv2D      |  (1, 8, 8, 64)   |          16,384 |\n",
            "| 158 |                              model/block_9_add/add                               |  (1, 8, 8, 64)   |          16,384 |\n",
            "| 159 |                          model/block_10_adjust/Conv2D1                           |  (1, 8, 8, 96)   |          24,576 |\n",
            "| 160 | model/block_10_expand_relu/Relu;model/.../depthwise;model/block_10_expand/Conv2D |  (1, 8, 8, 384)  |          98,304 |\n",
            "| 161 | model/block_10_depthwise_relu/Relu;mod...rmV3;model/block_10_depthwise/depthwise |  (1, 8, 8, 384)  |          98,304 |\n",
            "| 162 | model/block_10_project_BN/FusedBatchNo...ct/Conv2D;model/block_10_project/Conv2D |  (1, 8, 8, 96)   |          24,576 |\n",
            "| 163 |                              model/block_10_add/add                              |  (1, 8, 8, 96)   |          24,576 |\n",
            "| 164 | model/block_11_expand_relu/Relu;model/.../depthwise;model/block_11_expand/Conv2D |  (1, 8, 8, 576)  |         147,456 |\n",
            "| 165 | model/block_11_depthwise_relu/Relu;mod...wise;model/block_11_depthwise/depthwise |  (1, 8, 8, 576)  |         147,456 |\n",
            "| 166 | model/block_11_project_BN/FusedBatchNo...ct/Conv2D;model/block_11_project/Conv2D |  (1, 8, 8, 96)   |          24,576 |\n",
            "| 167 |                              model/block_11_add/add                              |  (1, 8, 8, 96)   |          24,576 |\n",
            "| 168 | model/block_12_expand_relu/Relu;model/.../depthwise;model/block_12_expand/Conv2D |  (1, 8, 8, 576)  |         147,456 |\n",
            "| 169 | model/block_12_depthwise_relu/Relu;mod...wise;model/block_12_depthwise/depthwise |  (1, 8, 8, 576)  |         147,456 |\n",
            "| 170 |     model/block_12_project_BN/FusedBatchNormV3;model/block_12_project/Conv2D     |  (1, 8, 8, 96)   |          24,576 |\n",
            "| 171 |                              model/block_12_add/add                              |  (1, 8, 8, 96)   |          24,576 |\n",
            "| 172 | model/block_13_expand_relu/Relu;model/.../depthwise;model/block_13_expand/Conv2D |  (1, 8, 8, 576)  |         147,456 |\n",
            "| 173 | model/block_13_depthwise_relu/Relu;mod...rmV3;model/block_13_depthwise/depthwise |  (1, 4, 4, 576)  |          36,864 |\n",
            "| 174 | model/block_13_project_BN/FusedBatchNo...ct/Conv2D;model/block_13_project/Conv2D |  (1, 4, 4, 160)  |          10,240 |\n",
            "| 175 | model/block_14_expand_relu/Relu;model/.../depthwise;model/block_14_expand/Conv2D |  (1, 4, 4, 960)  |          61,440 |\n",
            "| 176 | model/block_14_depthwise_relu/Relu;mod...wise;model/block_14_depthwise/depthwise |  (1, 4, 4, 960)  |          61,440 |\n",
            "| 177 | model/block_14_project_BN/FusedBatchNo...ct/Conv2D;model/block_14_project/Conv2D |  (1, 4, 4, 160)  |          10,240 |\n",
            "| 178 |                              model/block_14_add/add                              |  (1, 4, 4, 160)  |          10,240 |\n",
            "| 179 | model/block_15_expand_relu/Relu;model/.../depthwise;model/block_15_expand/Conv2D |  (1, 4, 4, 960)  |          61,440 |\n",
            "| 180 | model/block_15_depthwise_relu/Relu;mod...wise;model/block_15_depthwise/depthwise |  (1, 4, 4, 960)  |          61,440 |\n",
            "| 181 |     model/block_15_project_BN/FusedBatchNormV3;model/block_15_project/Conv2D     |  (1, 4, 4, 160)  |          10,240 |\n",
            "| 182 |                              model/block_15_add/add                              |  (1, 4, 4, 160)  |          10,240 |\n",
            "| 183 |                          model/block_16_adjust/Conv2D1                           |  (1, 4, 4, 320)  |          20,480 |\n",
            "| 184 | model/block_16_expand_relu/Relu;model/.../depthwise;model/block_16_expand/Conv2D |  (1, 4, 4, 960)  |          61,440 |\n",
            "| 185 | model/block_16_depthwise_relu/Relu;mod...rmV3;model/block_16_depthwise/depthwise |  (1, 4, 4, 960)  |          61,440 |\n",
            "| 186 |     model/block_16_project_BN/FusedBatchNormV3;model/block_16_project/Conv2D     |  (1, 4, 4, 320)  |          20,480 |\n",
            "| 187 |                              model/block_16_add/add                              |  (1, 4, 4, 320)  |          20,480 |\n",
            "| 188 |     model/out_relu/Relu;model/Conv_1_bn/FusedBatchNormV3;model/Conv_1/Conv2D     | (1, 4, 4, 1280)  |          81,920 |\n",
            "| 189 |                       model/global_average_pooling2d/Mean                        |    (1, 1280)     |           5,120 |\n",
            "| 190 |                            StatefulPartitionedCall:0                             |     (1, 10)      |              40 |\n",
            "+-----+----------------------------------------------------------------------------------+------------------+-----------------+\n",
            "\n",
            "Operator execution schedule:\n",
            "+----------------------------------------------------------------------------------+-------------------------+----------------+-----------+-----------+\n",
            "|                              Operator (output name)                              | Tensors in memory (IDs) | Memory use (B) |      MACs |      Size |\n",
            "+----------------------------------------------------------------------------------+-------------------------+----------------+-----------+-----------+\n",
            "| model/Conv1_relu/Relu;model/bn_Conv1/F...ock_5_project/Conv2D;model/Conv1/Conv2D |         [0, 118]        |        143,360 |   884,736 |     3,584 |\n",
            "|                           model/block_0_adjust/Conv2D1                           |        [118, 119]       |        196,608 |   524,288 |     2,112 |\n",
            "| model/block_0_expand_relu/Relu;model/b...ject/Conv2D;model/block_0_expand/Conv2D |     [118, 119, 120]     |        327,680 | 1,048,576 |     4,224 |\n",
            "| model/block_0_depthwise_relu/Relu;mode...onv2D;model/block_0_depthwise/depthwise |     [119, 120, 121]     |        327,680 |   294,912 |     1,280 |\n",
            "|      model/block_0_project_BN/FusedBatchNormV3;model/block_0_project/Conv2D      |     [119, 121, 122]     |        262,144 |   524,288 |     2,112 |\n",
            "|                              model/block_0_add/add                               |     [119, 122, 123]     |        196,608 |    16,384 |         0 |\n",
            "|                           model/block_1_adjust/Conv2D1                           |        [123, 124]       |        163,840 |   393,216 |     1,632 |\n",
            "| model/block_1_expand_relu/Relu;model/b...ject/Conv2D;model/block_1_expand/Conv2D |     [123, 124, 125]     |        557,056 | 1,572,864 |     6,528 |\n",
            "| model/block_1_depthwise_relu/Relu;mode...onv2D;model/block_1_depthwise/depthwise |     [124, 125, 126]     |        884,736 |   884,736 |     3,840 |\n",
            "| model/block_1_project_BN/FusedBatchNor...ect/Conv2D;model/block_1_project/Conv2D |     [124, 126, 127]     |        589,824 | 2,359,296 |     9,312 |\n",
            "|                              model/block_1_add/add                               |     [124, 127, 128]     |        294,912 |    24,576 |         0 |\n",
            "| model/block_2_expand_relu/Relu;model/b...e/depthwise;model/block_2_expand/Conv2D |        [128, 129]       |        688,128 | 3,538,944 |    14,400 |\n",
            "| model/block_2_depthwise_relu/Relu;mode...hwise;model/block_2_depthwise/depthwise |     [128, 129, 130]     |      1,277,952 | 1,327,104 |     5,760 |\n",
            "|      model/block_2_project_BN/FusedBatchNormV3;model/block_2_project/Conv2D      |     [128, 130, 131]     |        786,432 | 3,538,944 |    13,920 |\n",
            "|                              model/block_2_add/add                               |     [128, 131, 132]     |        294,912 |    24,576 |         0 |\n",
            "| model/block_3_expand_relu/Relu;model/b...e/depthwise;model/block_3_expand/Conv2D |        [132, 133]       |        688,128 | 3,538,944 |    14,400 |\n",
            "| model/block_3_depthwise_relu/Relu;mode...ormV3;model/block_3_depthwise/depthwise |        [133, 134]       |        737,280 |   331,776 |     5,760 |\n",
            "| model/block_3_project_BN/FusedBatchNor...ect/Conv2D;model/block_3_project/Conv2D |        [134, 135]       |        180,224 | 1,179,648 |    18,560 |\n",
            "| model/block_4_expand_relu/Relu;model/b...e/depthwise;model/block_4_expand/Conv2D |        [135, 136]       |        229,376 | 1,572,864 |    25,344 |\n",
            "| model/block_4_depthwise_relu/Relu;mode...hwise;model/block_4_depthwise/depthwise |     [135, 136, 137]     |        425,984 |   442,368 |     7,680 |\n",
            "| model/block_4_project_BN/FusedBatchNor...ect/Conv2D;model/block_4_project/Conv2D |     [135, 137, 138]     |        262,144 | 1,572,864 |    24,704 |\n",
            "|                              model/block_4_add/add                               |     [135, 138, 139]     |         98,304 |     8,192 |         0 |\n",
            "| model/block_5_expand_relu/Relu;model/b...e/depthwise;model/block_5_expand/Conv2D |        [139, 140]       |        229,376 | 1,572,864 |    25,344 |\n",
            "| model/block_5_depthwise_relu/Relu;mode...hwise;model/block_5_depthwise/depthwise |     [139, 140, 141]     |        425,984 |   442,368 |     7,680 |\n",
            "|      model/block_5_project_BN/FusedBatchNormV3;model/block_5_project/Conv2D      |     [139, 141, 142]     |        262,144 | 1,572,864 |    24,704 |\n",
            "|                              model/block_5_add/add                               |     [139, 142, 143]     |         98,304 |     8,192 |         0 |\n",
            "| model/block_6_expand_relu/Relu;model/b...e/depthwise;model/block_6_expand/Conv2D |        [143, 144]       |        229,376 | 1,572,864 |    25,344 |\n",
            "| model/block_6_depthwise_relu/Relu;mode...ormV3;model/block_6_depthwise/depthwise |        [145, 144]       |        245,760 |   110,592 |     7,680 |\n",
            "| model/block_6_project_BN/FusedBatchNor...ect/Conv2D;model/block_6_project/Conv2D |        [145, 146]       |         65,536 |   786,432 |    49,408 |\n",
            "| model/block_7_expand_relu/Relu;model/b...e/depthwise;model/block_7_expand/Conv2D |        [146, 147]       |        114,688 | 1,572,864 |    99,840 |\n",
            "| model/block_7_depthwise_relu/Relu;mode...hwise;model/block_7_depthwise/depthwise |     [148, 146, 147]     |        212,992 |   221,184 |    15,360 |\n",
            "| model/block_7_project_BN/FusedBatchNor...ect/Conv2D;model/block_7_project/Conv2D |     [148, 146, 149]     |        131,072 | 1,572,864 |    98,560 |\n",
            "|                              model/block_7_add/add                               |     [146, 149, 150]     |         49,152 |     4,096 |         0 |\n",
            "| model/block_8_expand_relu/Relu;model/b...e/depthwise;model/block_8_expand/Conv2D |        [150, 151]       |        114,688 | 1,572,864 |    99,840 |\n",
            "| model/block_8_depthwise_relu/Relu;mode...hwise;model/block_8_depthwise/depthwise |     [150, 151, 152]     |        212,992 |   221,184 |    15,360 |\n",
            "| model/block_8_project_BN/FusedBatchNor...ect/Conv2D;model/block_8_project/Conv2D |     [153, 150, 152]     |        131,072 | 1,572,864 |    98,560 |\n",
            "|                              model/block_8_add/add                               |     [153, 154, 150]     |         49,152 |     4,096 |         0 |\n",
            "| model/block_9_expand_relu/Relu;model/b...e/depthwise;model/block_9_expand/Conv2D |        [154, 155]       |        114,688 | 1,572,864 |    99,840 |\n",
            "| model/block_9_depthwise_relu/Relu;mode...hwise;model/block_9_depthwise/depthwise |     [154, 155, 156]     |        212,992 |   221,184 |    15,360 |\n",
            "|      model/block_9_project_BN/FusedBatchNormV3;model/block_9_project/Conv2D      |     [154, 156, 157]     |        131,072 | 1,572,864 |    98,560 |\n",
            "|                              model/block_9_add/add                               |     [154, 157, 158]     |         49,152 |     4,096 |         0 |\n",
            "|                          model/block_10_adjust/Conv2D1                           |        [158, 159]       |         40,960 |   393,216 |    24,960 |\n",
            "| model/block_10_expand_relu/Relu;model/.../depthwise;model/block_10_expand/Conv2D |     [158, 159, 160]     |        139,264 | 1,572,864 |    99,840 |\n",
            "| model/block_10_depthwise_relu/Relu;mod...rmV3;model/block_10_depthwise/depthwise |     [159, 160, 161]     |        221,184 |   221,184 |    15,360 |\n",
            "| model/block_10_project_BN/FusedBatchNo...ct/Conv2D;model/block_10_project/Conv2D |     [159, 161, 162]     |        147,456 | 2,359,296 |   147,840 |\n",
            "|                              model/block_10_add/add                              |     [159, 162, 163]     |         73,728 |     6,144 |         0 |\n",
            "| model/block_11_expand_relu/Relu;model/.../depthwise;model/block_11_expand/Conv2D |        [163, 164]       |        172,032 | 3,538,944 |   223,488 |\n",
            "| model/block_11_depthwise_relu/Relu;mod...wise;model/block_11_depthwise/depthwise |     [163, 164, 165]     |        319,488 |   331,776 |    23,040 |\n",
            "| model/block_11_project_BN/FusedBatchNo...ct/Conv2D;model/block_11_project/Conv2D |     [163, 165, 166]     |        196,608 | 3,538,944 |   221,568 |\n",
            "|                              model/block_11_add/add                              |     [163, 166, 167]     |         73,728 |     6,144 |         0 |\n",
            "| model/block_12_expand_relu/Relu;model/.../depthwise;model/block_12_expand/Conv2D |        [167, 168]       |        172,032 | 3,538,944 |   223,488 |\n",
            "| model/block_12_depthwise_relu/Relu;mod...wise;model/block_12_depthwise/depthwise |     [167, 168, 169]     |        319,488 |   331,776 |    23,040 |\n",
            "|     model/block_12_project_BN/FusedBatchNormV3;model/block_12_project/Conv2D     |     [167, 169, 170]     |        196,608 | 3,538,944 |   221,568 |\n",
            "|                              model/block_12_add/add                              |     [167, 170, 171]     |         73,728 |     6,144 |         0 |\n",
            "| model/block_13_expand_relu/Relu;model/.../depthwise;model/block_13_expand/Conv2D |        [171, 172]       |        172,032 | 3,538,944 |   223,488 |\n",
            "| model/block_13_depthwise_relu/Relu;mod...rmV3;model/block_13_depthwise/depthwise |        [172, 173]       |        184,320 |    82,944 |    23,040 |\n",
            "| model/block_13_project_BN/FusedBatchNo...ct/Conv2D;model/block_13_project/Conv2D |        [173, 174]       |         47,104 | 1,474,560 |   369,280 |\n",
            "| model/block_14_expand_relu/Relu;model/.../depthwise;model/block_14_expand/Conv2D |        [174, 175]       |         71,680 | 2,457,600 |   618,240 |\n",
            "| model/block_14_depthwise_relu/Relu;mod...wise;model/block_14_depthwise/depthwise |     [174, 175, 176]     |        133,120 |   138,240 |    38,400 |\n",
            "| model/block_14_project_BN/FusedBatchNo...ct/Conv2D;model/block_14_project/Conv2D |     [174, 176, 177]     |         81,920 | 2,457,600 |   615,040 |\n",
            "|                              model/block_14_add/add                              |     [174, 177, 178]     |         30,720 |     2,560 |         0 |\n",
            "| model/block_15_expand_relu/Relu;model/.../depthwise;model/block_15_expand/Conv2D |        [178, 179]       |         71,680 | 2,457,600 |   618,240 |\n",
            "| model/block_15_depthwise_relu/Relu;mod...wise;model/block_15_depthwise/depthwise |     [178, 179, 180]     |        133,120 |   138,240 |    38,400 |\n",
            "|     model/block_15_project_BN/FusedBatchNormV3;model/block_15_project/Conv2D     |     [178, 180, 181]     |         81,920 | 2,457,600 |   615,040 |\n",
            "|                              model/block_15_add/add                              |     [178, 181, 182]     |         30,720 |     2,560 |         0 |\n",
            "|                          model/block_16_adjust/Conv2D1                           |        [182, 183]       |         30,720 |   819,200 |   206,080 |\n",
            "| model/block_16_expand_relu/Relu;model/.../depthwise;model/block_16_expand/Conv2D |     [182, 183, 184]     |         92,160 | 2,457,600 |   618,240 |\n",
            "| model/block_16_depthwise_relu/Relu;mod...rmV3;model/block_16_depthwise/depthwise |     [183, 184, 185]     |        143,360 |   138,240 |    38,400 |\n",
            "|     model/block_16_project_BN/FusedBatchNormV3;model/block_16_project/Conv2D     |     [183, 185, 186]     |        102,400 | 4,915,200 | 1,230,080 |\n",
            "|                              model/block_16_add/add                              |     [183, 186, 187]     |         61,440 |     5,120 |         0 |\n",
            "|     model/out_relu/Relu;model/Conv_1_bn/FusedBatchNormV3;model/Conv_1/Conv2D     |        [187, 188]       |        102,400 | 6,553,600 | 1,643,520 |\n",
            "|                       model/global_average_pooling2d/Mean                        |        [188, 189]       |         87,040 |    20,480 |         8 |\n",
            "|                            StatefulPartitionedCall:0                             |        [190, 189]       |          5,160 |    12,800 |    51,240 |\n",
            "+----------------------------------------------------------------------------------+-------------------------+----------------+-----------+-----------+\n",
            "Current peak memory usage: 1,277,952 B\n",
            "Total MACs: 91,298,304\n",
            "Total weight size: 9,117,520\n",
            "\n"
          ]
        }
      ]
    },
    {
      "cell_type": "code",
      "source": [
        "path = convert_to_tflite('/content/model_pruned80.h5')\n",
        "print(path)"
      ],
      "metadata": {
        "colab": {
          "base_uri": "https://localhost:8080/"
        },
        "id": "bwP4OVCuwAg7",
        "outputId": "300446ad-fa6a-41e2-d892-944d8673ad8a"
      },
      "execution_count": 26,
      "outputs": [
        {
          "output_type": "stream",
          "name": "stderr",
          "text": [
            "WARNING:tensorflow:No training configuration found in the save file, so the model was *not* compiled. Compile it manually.\n"
          ]
        },
        {
          "output_type": "stream",
          "name": "stdout",
          "text": [
            "79/79 [==============================] - 6s 32ms/step - loss: 0.2953 - accuracy: 0.9046\n",
            "Total params: 2330186\n",
            "models/model_pruned80.tflite\n"
          ]
        }
      ]
    },
    {
      "cell_type": "code",
      "source": [
        "!python tflite_tools/tflite_tools.py -i /content/models/model_pruned80.tflite --calc-macs --calc-size"
      ],
      "metadata": {
        "colab": {
          "base_uri": "https://localhost:8080/"
        },
        "id": "BpFA9sHcwHwI",
        "outputId": "016c9fab-c655-4328-85b7-b9f8ddf51c40"
      },
      "execution_count": 27,
      "outputs": [
        {
          "output_type": "stream",
          "name": "stdout",
          "text": [
            "Tensor information (weights excluded):\n",
            "+-----+----------------------------------------------------------------------------------+------------------+-----------------+\n",
            "|  Id |                                      Tensor                                      |      Shape       | Size in RAM (B) |\n",
            "+-----+----------------------------------------------------------------------------------+------------------+-----------------+\n",
            "|   0 |                            serving_default_input_1:0                             |  (1, 32, 32, 3)  |          12,288 |\n",
            "| 118 | model/Conv1_relu/Relu;model/bn_Conv1/F...ock_5_project/Conv2D;model/Conv1/Conv2D | (1, 32, 32, 32)  |         131,072 |\n",
            "| 119 |                           model/block_0_adjust/Conv2D1                           | (1, 32, 32, 16)  |          65,536 |\n",
            "| 120 | model/block_0_expand_relu/Relu;model/b...ject/Conv2D;model/block_0_expand/Conv2D | (1, 32, 32, 32)  |         131,072 |\n",
            "| 121 | model/block_0_depthwise_relu/Relu;mode...onv2D;model/block_0_depthwise/depthwise | (1, 32, 32, 32)  |         131,072 |\n",
            "| 122 |      model/block_0_project_BN/FusedBatchNormV3;model/block_0_project/Conv2D      | (1, 32, 32, 16)  |          65,536 |\n",
            "| 123 |                              model/block_0_add/add                               | (1, 32, 32, 16)  |          65,536 |\n",
            "| 124 |                           model/block_1_adjust/Conv2D1                           | (1, 32, 32, 24)  |          98,304 |\n",
            "| 125 | model/block_1_expand_relu/Relu;model/b...ject/Conv2D;model/block_1_expand/Conv2D | (1, 32, 32, 96)  |         393,216 |\n",
            "| 126 | model/block_1_depthwise_relu/Relu;mode...onv2D;model/block_1_depthwise/depthwise | (1, 32, 32, 96)  |         393,216 |\n",
            "| 127 | model/block_1_project_BN/FusedBatchNor...ect/Conv2D;model/block_1_project/Conv2D | (1, 32, 32, 24)  |          98,304 |\n",
            "| 128 |                              model/block_1_add/add                               | (1, 32, 32, 24)  |          98,304 |\n",
            "| 129 | model/block_2_expand_relu/Relu;model/b...e/depthwise;model/block_2_expand/Conv2D | (1, 32, 32, 144) |         589,824 |\n",
            "| 130 | model/block_2_depthwise_relu/Relu;mode...hwise;model/block_2_depthwise/depthwise | (1, 32, 32, 144) |         589,824 |\n",
            "| 131 |      model/block_2_project_BN/FusedBatchNormV3;model/block_2_project/Conv2D      | (1, 32, 32, 24)  |          98,304 |\n",
            "| 132 |                              model/block_2_add/add                               | (1, 32, 32, 24)  |          98,304 |\n",
            "| 133 | model/block_3_expand_relu/Relu;model/b...e/depthwise;model/block_3_expand/Conv2D | (1, 32, 32, 144) |         589,824 |\n",
            "| 134 | model/block_3_depthwise_relu/Relu;mode...ormV3;model/block_3_depthwise/depthwise | (1, 16, 16, 144) |         147,456 |\n",
            "| 135 | model/block_3_project_BN/FusedBatchNor...ect/Conv2D;model/block_3_project/Conv2D | (1, 16, 16, 32)  |          32,768 |\n",
            "| 136 | model/block_4_expand_relu/Relu;model/b...e/depthwise;model/block_4_expand/Conv2D | (1, 16, 16, 192) |         196,608 |\n",
            "| 137 | model/block_4_depthwise_relu/Relu;mode...hwise;model/block_4_depthwise/depthwise | (1, 16, 16, 192) |         196,608 |\n",
            "| 138 | model/block_4_project_BN/FusedBatchNor...ect/Conv2D;model/block_4_project/Conv2D | (1, 16, 16, 32)  |          32,768 |\n",
            "| 139 |                              model/block_4_add/add                               | (1, 16, 16, 32)  |          32,768 |\n",
            "| 140 | model/block_5_expand_relu/Relu;model/b...e/depthwise;model/block_5_expand/Conv2D | (1, 16, 16, 192) |         196,608 |\n",
            "| 141 | model/block_5_depthwise_relu/Relu;mode...hwise;model/block_5_depthwise/depthwise | (1, 16, 16, 192) |         196,608 |\n",
            "| 142 |      model/block_5_project_BN/FusedBatchNormV3;model/block_5_project/Conv2D      | (1, 16, 16, 32)  |          32,768 |\n",
            "| 143 |                              model/block_5_add/add                               | (1, 16, 16, 32)  |          32,768 |\n",
            "| 144 | model/block_6_expand_relu/Relu;model/b...e/depthwise;model/block_6_expand/Conv2D | (1, 16, 16, 192) |         196,608 |\n",
            "| 145 | model/block_6_depthwise_relu/Relu;mode...ormV3;model/block_6_depthwise/depthwise |  (1, 8, 8, 192)  |          49,152 |\n",
            "| 146 | model/block_6_project_BN/FusedBatchNor...ect/Conv2D;model/block_6_project/Conv2D |  (1, 8, 8, 64)   |          16,384 |\n",
            "| 147 | model/block_7_expand_relu/Relu;model/b...e/depthwise;model/block_7_expand/Conv2D |  (1, 8, 8, 384)  |          98,304 |\n",
            "| 148 | model/block_7_depthwise_relu/Relu;mode...hwise;model/block_7_depthwise/depthwise |  (1, 8, 8, 384)  |          98,304 |\n",
            "| 149 | model/block_7_project_BN/FusedBatchNor...ect/Conv2D;model/block_7_project/Conv2D |  (1, 8, 8, 64)   |          16,384 |\n",
            "| 150 |                              model/block_7_add/add                               |  (1, 8, 8, 64)   |          16,384 |\n",
            "| 151 | model/block_8_expand_relu/Relu;model/b...e/depthwise;model/block_8_expand/Conv2D |  (1, 8, 8, 384)  |          98,304 |\n",
            "| 152 | model/block_8_depthwise_relu/Relu;mode...hwise;model/block_8_depthwise/depthwise |  (1, 8, 8, 384)  |          98,304 |\n",
            "| 153 | model/block_8_project_BN/FusedBatchNor...ect/Conv2D;model/block_8_project/Conv2D |  (1, 8, 8, 64)   |          16,384 |\n",
            "| 154 |                              model/block_8_add/add                               |  (1, 8, 8, 64)   |          16,384 |\n",
            "| 155 | model/block_9_expand_relu/Relu;model/b...e/depthwise;model/block_9_expand/Conv2D |  (1, 8, 8, 384)  |          98,304 |\n",
            "| 156 | model/block_9_depthwise_relu/Relu;mode...hwise;model/block_9_depthwise/depthwise |  (1, 8, 8, 384)  |          98,304 |\n",
            "| 157 |      model/block_9_project_BN/FusedBatchNormV3;model/block_9_project/Conv2D      |  (1, 8, 8, 64)   |          16,384 |\n",
            "| 158 |                              model/block_9_add/add                               |  (1, 8, 8, 64)   |          16,384 |\n",
            "| 159 |                          model/block_10_adjust/Conv2D1                           |  (1, 8, 8, 96)   |          24,576 |\n",
            "| 160 | model/block_10_expand_relu/Relu;model/.../depthwise;model/block_10_expand/Conv2D |  (1, 8, 8, 384)  |          98,304 |\n",
            "| 161 | model/block_10_depthwise_relu/Relu;mod...rmV3;model/block_10_depthwise/depthwise |  (1, 8, 8, 384)  |          98,304 |\n",
            "| 162 | model/block_10_project_BN/FusedBatchNo...ct/Conv2D;model/block_10_project/Conv2D |  (1, 8, 8, 96)   |          24,576 |\n",
            "| 163 |                              model/block_10_add/add                              |  (1, 8, 8, 96)   |          24,576 |\n",
            "| 164 | model/block_11_expand_relu/Relu;model/.../depthwise;model/block_11_expand/Conv2D |  (1, 8, 8, 576)  |         147,456 |\n",
            "| 165 | model/block_11_depthwise_relu/Relu;mod...wise;model/block_11_depthwise/depthwise |  (1, 8, 8, 576)  |         147,456 |\n",
            "| 166 | model/block_11_project_BN/FusedBatchNo...ct/Conv2D;model/block_11_project/Conv2D |  (1, 8, 8, 96)   |          24,576 |\n",
            "| 167 |                              model/block_11_add/add                              |  (1, 8, 8, 96)   |          24,576 |\n",
            "| 168 | model/block_12_expand_relu/Relu;model/.../depthwise;model/block_12_expand/Conv2D |  (1, 8, 8, 576)  |         147,456 |\n",
            "| 169 | model/block_12_depthwise_relu/Relu;mod...wise;model/block_12_depthwise/depthwise |  (1, 8, 8, 576)  |         147,456 |\n",
            "| 170 |     model/block_12_project_BN/FusedBatchNormV3;model/block_12_project/Conv2D     |  (1, 8, 8, 96)   |          24,576 |\n",
            "| 171 |                              model/block_12_add/add                              |  (1, 8, 8, 96)   |          24,576 |\n",
            "| 172 | model/block_13_expand_relu/Relu;model/.../depthwise;model/block_13_expand/Conv2D |  (1, 8, 8, 576)  |         147,456 |\n",
            "| 173 | model/block_13_depthwise_relu/Relu;mod...rmV3;model/block_13_depthwise/depthwise |  (1, 4, 4, 576)  |          36,864 |\n",
            "| 174 | model/block_13_project_BN/FusedBatchNo...ct/Conv2D;model/block_13_project/Conv2D |  (1, 4, 4, 160)  |          10,240 |\n",
            "| 175 | model/block_14_expand_relu/Relu;model/.../depthwise;model/block_14_expand/Conv2D |  (1, 4, 4, 960)  |          61,440 |\n",
            "| 176 | model/block_14_depthwise_relu/Relu;mod...wise;model/block_14_depthwise/depthwise |  (1, 4, 4, 960)  |          61,440 |\n",
            "| 177 | model/block_14_project_BN/FusedBatchNo...ct/Conv2D;model/block_14_project/Conv2D |  (1, 4, 4, 160)  |          10,240 |\n",
            "| 178 |                              model/block_14_add/add                              |  (1, 4, 4, 160)  |          10,240 |\n",
            "| 179 | model/block_15_expand_relu/Relu;model/.../depthwise;model/block_15_expand/Conv2D |  (1, 4, 4, 960)  |          61,440 |\n",
            "| 180 | model/block_15_depthwise_relu/Relu;mod...wise;model/block_15_depthwise/depthwise |  (1, 4, 4, 960)  |          61,440 |\n",
            "| 181 |     model/block_15_project_BN/FusedBatchNormV3;model/block_15_project/Conv2D     |  (1, 4, 4, 160)  |          10,240 |\n",
            "| 182 |                              model/block_15_add/add                              |  (1, 4, 4, 160)  |          10,240 |\n",
            "| 183 |                          model/block_16_adjust/Conv2D1                           |  (1, 4, 4, 320)  |          20,480 |\n",
            "| 184 | model/block_16_expand_relu/Relu;model/.../depthwise;model/block_16_expand/Conv2D |  (1, 4, 4, 960)  |          61,440 |\n",
            "| 185 | model/block_16_depthwise_relu/Relu;mod...rmV3;model/block_16_depthwise/depthwise |  (1, 4, 4, 960)  |          61,440 |\n",
            "| 186 |     model/block_16_project_BN/FusedBatchNormV3;model/block_16_project/Conv2D     |  (1, 4, 4, 320)  |          20,480 |\n",
            "| 187 |                              model/block_16_add/add                              |  (1, 4, 4, 320)  |          20,480 |\n",
            "| 188 |     model/out_relu/Relu;model/Conv_1_bn/FusedBatchNormV3;model/Conv_1/Conv2D     | (1, 4, 4, 1280)  |          81,920 |\n",
            "| 189 |                       model/global_average_pooling2d/Mean                        |    (1, 1280)     |           5,120 |\n",
            "| 190 |                            StatefulPartitionedCall:0                             |     (1, 10)      |              40 |\n",
            "+-----+----------------------------------------------------------------------------------+------------------+-----------------+\n",
            "\n",
            "Operator execution schedule:\n",
            "+----------------------------------------------------------------------------------+-------------------------+----------------+-----------+-----------+\n",
            "|                              Operator (output name)                              | Tensors in memory (IDs) | Memory use (B) |      MACs |      Size |\n",
            "+----------------------------------------------------------------------------------+-------------------------+----------------+-----------+-----------+\n",
            "| model/Conv1_relu/Relu;model/bn_Conv1/F...ock_5_project/Conv2D;model/Conv1/Conv2D |         [0, 118]        |        143,360 |   884,736 |     3,584 |\n",
            "|                           model/block_0_adjust/Conv2D1                           |        [118, 119]       |        196,608 |   524,288 |     2,112 |\n",
            "| model/block_0_expand_relu/Relu;model/b...ject/Conv2D;model/block_0_expand/Conv2D |     [118, 119, 120]     |        327,680 | 1,048,576 |     4,224 |\n",
            "| model/block_0_depthwise_relu/Relu;mode...onv2D;model/block_0_depthwise/depthwise |     [119, 120, 121]     |        327,680 |   294,912 |     1,280 |\n",
            "|      model/block_0_project_BN/FusedBatchNormV3;model/block_0_project/Conv2D      |     [119, 121, 122]     |        262,144 |   524,288 |     2,112 |\n",
            "|                              model/block_0_add/add                               |     [119, 122, 123]     |        196,608 |    16,384 |         0 |\n",
            "|                           model/block_1_adjust/Conv2D1                           |        [123, 124]       |        163,840 |   393,216 |     1,632 |\n",
            "| model/block_1_expand_relu/Relu;model/b...ject/Conv2D;model/block_1_expand/Conv2D |     [123, 124, 125]     |        557,056 | 1,572,864 |     6,528 |\n",
            "| model/block_1_depthwise_relu/Relu;mode...onv2D;model/block_1_depthwise/depthwise |     [124, 125, 126]     |        884,736 |   884,736 |     3,840 |\n",
            "| model/block_1_project_BN/FusedBatchNor...ect/Conv2D;model/block_1_project/Conv2D |     [124, 126, 127]     |        589,824 | 2,359,296 |     9,312 |\n",
            "|                              model/block_1_add/add                               |     [124, 127, 128]     |        294,912 |    24,576 |         0 |\n",
            "| model/block_2_expand_relu/Relu;model/b...e/depthwise;model/block_2_expand/Conv2D |        [128, 129]       |        688,128 | 3,538,944 |    14,400 |\n",
            "| model/block_2_depthwise_relu/Relu;mode...hwise;model/block_2_depthwise/depthwise |     [128, 129, 130]     |      1,277,952 | 1,327,104 |     5,760 |\n",
            "|      model/block_2_project_BN/FusedBatchNormV3;model/block_2_project/Conv2D      |     [128, 130, 131]     |        786,432 | 3,538,944 |    13,920 |\n",
            "|                              model/block_2_add/add                               |     [128, 131, 132]     |        294,912 |    24,576 |         0 |\n",
            "| model/block_3_expand_relu/Relu;model/b...e/depthwise;model/block_3_expand/Conv2D |        [132, 133]       |        688,128 | 3,538,944 |    14,400 |\n",
            "| model/block_3_depthwise_relu/Relu;mode...ormV3;model/block_3_depthwise/depthwise |        [133, 134]       |        737,280 |   331,776 |     5,760 |\n",
            "| model/block_3_project_BN/FusedBatchNor...ect/Conv2D;model/block_3_project/Conv2D |        [134, 135]       |        180,224 | 1,179,648 |    18,560 |\n",
            "| model/block_4_expand_relu/Relu;model/b...e/depthwise;model/block_4_expand/Conv2D |        [135, 136]       |        229,376 | 1,572,864 |    25,344 |\n",
            "| model/block_4_depthwise_relu/Relu;mode...hwise;model/block_4_depthwise/depthwise |     [135, 136, 137]     |        425,984 |   442,368 |     7,680 |\n",
            "| model/block_4_project_BN/FusedBatchNor...ect/Conv2D;model/block_4_project/Conv2D |     [135, 137, 138]     |        262,144 | 1,572,864 |    24,704 |\n",
            "|                              model/block_4_add/add                               |     [135, 138, 139]     |         98,304 |     8,192 |         0 |\n",
            "| model/block_5_expand_relu/Relu;model/b...e/depthwise;model/block_5_expand/Conv2D |        [139, 140]       |        229,376 | 1,572,864 |    25,344 |\n",
            "| model/block_5_depthwise_relu/Relu;mode...hwise;model/block_5_depthwise/depthwise |     [139, 140, 141]     |        425,984 |   442,368 |     7,680 |\n",
            "|      model/block_5_project_BN/FusedBatchNormV3;model/block_5_project/Conv2D      |     [139, 141, 142]     |        262,144 | 1,572,864 |    24,704 |\n",
            "|                              model/block_5_add/add                               |     [139, 142, 143]     |         98,304 |     8,192 |         0 |\n",
            "| model/block_6_expand_relu/Relu;model/b...e/depthwise;model/block_6_expand/Conv2D |        [143, 144]       |        229,376 | 1,572,864 |    25,344 |\n",
            "| model/block_6_depthwise_relu/Relu;mode...ormV3;model/block_6_depthwise/depthwise |        [145, 144]       |        245,760 |   110,592 |     7,680 |\n",
            "| model/block_6_project_BN/FusedBatchNor...ect/Conv2D;model/block_6_project/Conv2D |        [145, 146]       |         65,536 |   786,432 |    49,408 |\n",
            "| model/block_7_expand_relu/Relu;model/b...e/depthwise;model/block_7_expand/Conv2D |        [146, 147]       |        114,688 | 1,572,864 |    99,840 |\n",
            "| model/block_7_depthwise_relu/Relu;mode...hwise;model/block_7_depthwise/depthwise |     [148, 146, 147]     |        212,992 |   221,184 |    15,360 |\n",
            "| model/block_7_project_BN/FusedBatchNor...ect/Conv2D;model/block_7_project/Conv2D |     [148, 146, 149]     |        131,072 | 1,572,864 |    98,560 |\n",
            "|                              model/block_7_add/add                               |     [146, 149, 150]     |         49,152 |     4,096 |         0 |\n",
            "| model/block_8_expand_relu/Relu;model/b...e/depthwise;model/block_8_expand/Conv2D |        [150, 151]       |        114,688 | 1,572,864 |    99,840 |\n",
            "| model/block_8_depthwise_relu/Relu;mode...hwise;model/block_8_depthwise/depthwise |     [150, 151, 152]     |        212,992 |   221,184 |    15,360 |\n",
            "| model/block_8_project_BN/FusedBatchNor...ect/Conv2D;model/block_8_project/Conv2D |     [153, 150, 152]     |        131,072 | 1,572,864 |    98,560 |\n",
            "|                              model/block_8_add/add                               |     [153, 154, 150]     |         49,152 |     4,096 |         0 |\n",
            "| model/block_9_expand_relu/Relu;model/b...e/depthwise;model/block_9_expand/Conv2D |        [154, 155]       |        114,688 | 1,572,864 |    99,840 |\n",
            "| model/block_9_depthwise_relu/Relu;mode...hwise;model/block_9_depthwise/depthwise |     [154, 155, 156]     |        212,992 |   221,184 |    15,360 |\n",
            "|      model/block_9_project_BN/FusedBatchNormV3;model/block_9_project/Conv2D      |     [154, 156, 157]     |        131,072 | 1,572,864 |    98,560 |\n",
            "|                              model/block_9_add/add                               |     [154, 157, 158]     |         49,152 |     4,096 |         0 |\n",
            "|                          model/block_10_adjust/Conv2D1                           |        [158, 159]       |         40,960 |   393,216 |    24,960 |\n",
            "| model/block_10_expand_relu/Relu;model/.../depthwise;model/block_10_expand/Conv2D |     [158, 159, 160]     |        139,264 | 1,572,864 |    99,840 |\n",
            "| model/block_10_depthwise_relu/Relu;mod...rmV3;model/block_10_depthwise/depthwise |     [159, 160, 161]     |        221,184 |   221,184 |    15,360 |\n",
            "| model/block_10_project_BN/FusedBatchNo...ct/Conv2D;model/block_10_project/Conv2D |     [159, 161, 162]     |        147,456 | 2,359,296 |   147,840 |\n",
            "|                              model/block_10_add/add                              |     [159, 162, 163]     |         73,728 |     6,144 |         0 |\n",
            "| model/block_11_expand_relu/Relu;model/.../depthwise;model/block_11_expand/Conv2D |        [163, 164]       |        172,032 | 3,538,944 |   223,488 |\n",
            "| model/block_11_depthwise_relu/Relu;mod...wise;model/block_11_depthwise/depthwise |     [163, 164, 165]     |        319,488 |   331,776 |    23,040 |\n",
            "| model/block_11_project_BN/FusedBatchNo...ct/Conv2D;model/block_11_project/Conv2D |     [163, 165, 166]     |        196,608 | 3,538,944 |   221,568 |\n",
            "|                              model/block_11_add/add                              |     [163, 166, 167]     |         73,728 |     6,144 |         0 |\n",
            "| model/block_12_expand_relu/Relu;model/.../depthwise;model/block_12_expand/Conv2D |        [167, 168]       |        172,032 | 3,538,944 |   223,488 |\n",
            "| model/block_12_depthwise_relu/Relu;mod...wise;model/block_12_depthwise/depthwise |     [167, 168, 169]     |        319,488 |   331,776 |    23,040 |\n",
            "|     model/block_12_project_BN/FusedBatchNormV3;model/block_12_project/Conv2D     |     [167, 169, 170]     |        196,608 | 3,538,944 |   221,568 |\n",
            "|                              model/block_12_add/add                              |     [167, 170, 171]     |         73,728 |     6,144 |         0 |\n",
            "| model/block_13_expand_relu/Relu;model/.../depthwise;model/block_13_expand/Conv2D |        [171, 172]       |        172,032 | 3,538,944 |   223,488 |\n",
            "| model/block_13_depthwise_relu/Relu;mod...rmV3;model/block_13_depthwise/depthwise |        [172, 173]       |        184,320 |    82,944 |    23,040 |\n",
            "| model/block_13_project_BN/FusedBatchNo...ct/Conv2D;model/block_13_project/Conv2D |        [173, 174]       |         47,104 | 1,474,560 |   369,280 |\n",
            "| model/block_14_expand_relu/Relu;model/.../depthwise;model/block_14_expand/Conv2D |        [174, 175]       |         71,680 | 2,457,600 |   618,240 |\n",
            "| model/block_14_depthwise_relu/Relu;mod...wise;model/block_14_depthwise/depthwise |     [174, 175, 176]     |        133,120 |   138,240 |    38,400 |\n",
            "| model/block_14_project_BN/FusedBatchNo...ct/Conv2D;model/block_14_project/Conv2D |     [174, 176, 177]     |         81,920 | 2,457,600 |   615,040 |\n",
            "|                              model/block_14_add/add                              |     [174, 177, 178]     |         30,720 |     2,560 |         0 |\n",
            "| model/block_15_expand_relu/Relu;model/.../depthwise;model/block_15_expand/Conv2D |        [178, 179]       |         71,680 | 2,457,600 |   618,240 |\n",
            "| model/block_15_depthwise_relu/Relu;mod...wise;model/block_15_depthwise/depthwise |     [178, 179, 180]     |        133,120 |   138,240 |    38,400 |\n",
            "|     model/block_15_project_BN/FusedBatchNormV3;model/block_15_project/Conv2D     |     [178, 180, 181]     |         81,920 | 2,457,600 |   615,040 |\n",
            "|                              model/block_15_add/add                              |     [178, 181, 182]     |         30,720 |     2,560 |         0 |\n",
            "|                          model/block_16_adjust/Conv2D1                           |        [182, 183]       |         30,720 |   819,200 |   206,080 |\n",
            "| model/block_16_expand_relu/Relu;model/.../depthwise;model/block_16_expand/Conv2D |     [182, 183, 184]     |         92,160 | 2,457,600 |   618,240 |\n",
            "| model/block_16_depthwise_relu/Relu;mod...rmV3;model/block_16_depthwise/depthwise |     [183, 184, 185]     |        143,360 |   138,240 |    38,400 |\n",
            "|     model/block_16_project_BN/FusedBatchNormV3;model/block_16_project/Conv2D     |     [183, 185, 186]     |        102,400 | 4,915,200 | 1,230,080 |\n",
            "|                              model/block_16_add/add                              |     [183, 186, 187]     |         61,440 |     5,120 |         0 |\n",
            "|     model/out_relu/Relu;model/Conv_1_bn/FusedBatchNormV3;model/Conv_1/Conv2D     |        [187, 188]       |        102,400 | 6,553,600 | 1,643,520 |\n",
            "|                       model/global_average_pooling2d/Mean                        |        [188, 189]       |         87,040 |    20,480 |         8 |\n",
            "|                            StatefulPartitionedCall:0                             |        [190, 189]       |          5,160 |    12,800 |    51,240 |\n",
            "+----------------------------------------------------------------------------------+-------------------------+----------------+-----------+-----------+\n",
            "Current peak memory usage: 1,277,952 B\n",
            "Total MACs: 91,298,304\n",
            "Total weight size: 9,117,520\n",
            "\n"
          ]
        }
      ]
    },
    {
      "cell_type": "code",
      "source": [
        "path = convert_to_tflite('/content/model_pruned90.h5')\n",
        "print(path)"
      ],
      "metadata": {
        "colab": {
          "base_uri": "https://localhost:8080/"
        },
        "id": "JuYTcwU1wCP-",
        "outputId": "f3166fa2-4736-4c59-ed50-a759691848ef"
      },
      "execution_count": 28,
      "outputs": [
        {
          "output_type": "stream",
          "name": "stderr",
          "text": [
            "WARNING:tensorflow:No training configuration found in the save file, so the model was *not* compiled. Compile it manually.\n"
          ]
        },
        {
          "output_type": "stream",
          "name": "stdout",
          "text": [
            "79/79 [==============================] - 6s 32ms/step - loss: 0.3622 - accuracy: 0.8807\n",
            "Total params: 2330186\n",
            "models/model_pruned90.tflite\n"
          ]
        }
      ]
    },
    {
      "cell_type": "code",
      "source": [
        "!python tflite_tools/tflite_tools.py -i /content/models/model_pruned90.tflite --calc-macs --calc-size"
      ],
      "metadata": {
        "colab": {
          "base_uri": "https://localhost:8080/"
        },
        "id": "XldrkW-MwI6q",
        "outputId": "545440c1-a1da-4cf6-e971-82e6c2f14730"
      },
      "execution_count": 29,
      "outputs": [
        {
          "output_type": "stream",
          "name": "stdout",
          "text": [
            "Tensor information (weights excluded):\n",
            "+-----+----------------------------------------------------------------------------------+------------------+-----------------+\n",
            "|  Id |                                      Tensor                                      |      Shape       | Size in RAM (B) |\n",
            "+-----+----------------------------------------------------------------------------------+------------------+-----------------+\n",
            "|   0 |                            serving_default_input_1:0                             |  (1, 32, 32, 3)  |          12,288 |\n",
            "| 118 | model/Conv1_relu/Relu;model/bn_Conv1/F...ock_5_project/Conv2D;model/Conv1/Conv2D | (1, 32, 32, 32)  |         131,072 |\n",
            "| 119 |                           model/block_0_adjust/Conv2D1                           | (1, 32, 32, 16)  |          65,536 |\n",
            "| 120 | model/block_0_expand_relu/Relu;model/b...ject/Conv2D;model/block_0_expand/Conv2D | (1, 32, 32, 32)  |         131,072 |\n",
            "| 121 | model/block_0_depthwise_relu/Relu;mode...onv2D;model/block_0_depthwise/depthwise | (1, 32, 32, 32)  |         131,072 |\n",
            "| 122 |      model/block_0_project_BN/FusedBatchNormV3;model/block_0_project/Conv2D      | (1, 32, 32, 16)  |          65,536 |\n",
            "| 123 |                              model/block_0_add/add                               | (1, 32, 32, 16)  |          65,536 |\n",
            "| 124 |                           model/block_1_adjust/Conv2D1                           | (1, 32, 32, 24)  |          98,304 |\n",
            "| 125 | model/block_1_expand_relu/Relu;model/b...ject/Conv2D;model/block_1_expand/Conv2D | (1, 32, 32, 96)  |         393,216 |\n",
            "| 126 | model/block_1_depthwise_relu/Relu;mode...onv2D;model/block_1_depthwise/depthwise | (1, 32, 32, 96)  |         393,216 |\n",
            "| 127 | model/block_1_project_BN/FusedBatchNor...ect/Conv2D;model/block_1_project/Conv2D | (1, 32, 32, 24)  |          98,304 |\n",
            "| 128 |                              model/block_1_add/add                               | (1, 32, 32, 24)  |          98,304 |\n",
            "| 129 | model/block_2_expand_relu/Relu;model/b...e/depthwise;model/block_2_expand/Conv2D | (1, 32, 32, 144) |         589,824 |\n",
            "| 130 | model/block_2_depthwise_relu/Relu;mode...hwise;model/block_2_depthwise/depthwise | (1, 32, 32, 144) |         589,824 |\n",
            "| 131 |      model/block_2_project_BN/FusedBatchNormV3;model/block_2_project/Conv2D      | (1, 32, 32, 24)  |          98,304 |\n",
            "| 132 |                              model/block_2_add/add                               | (1, 32, 32, 24)  |          98,304 |\n",
            "| 133 | model/block_3_expand_relu/Relu;model/b...e/depthwise;model/block_3_expand/Conv2D | (1, 32, 32, 144) |         589,824 |\n",
            "| 134 | model/block_3_depthwise_relu/Relu;mode...ormV3;model/block_3_depthwise/depthwise | (1, 16, 16, 144) |         147,456 |\n",
            "| 135 | model/block_3_project_BN/FusedBatchNor...ect/Conv2D;model/block_3_project/Conv2D | (1, 16, 16, 32)  |          32,768 |\n",
            "| 136 | model/block_4_expand_relu/Relu;model/b...e/depthwise;model/block_4_expand/Conv2D | (1, 16, 16, 192) |         196,608 |\n",
            "| 137 | model/block_4_depthwise_relu/Relu;mode...hwise;model/block_4_depthwise/depthwise | (1, 16, 16, 192) |         196,608 |\n",
            "| 138 | model/block_4_project_BN/FusedBatchNor...ect/Conv2D;model/block_4_project/Conv2D | (1, 16, 16, 32)  |          32,768 |\n",
            "| 139 |                              model/block_4_add/add                               | (1, 16, 16, 32)  |          32,768 |\n",
            "| 140 | model/block_5_expand_relu/Relu;model/b...e/depthwise;model/block_5_expand/Conv2D | (1, 16, 16, 192) |         196,608 |\n",
            "| 141 | model/block_5_depthwise_relu/Relu;mode...hwise;model/block_5_depthwise/depthwise | (1, 16, 16, 192) |         196,608 |\n",
            "| 142 |      model/block_5_project_BN/FusedBatchNormV3;model/block_5_project/Conv2D      | (1, 16, 16, 32)  |          32,768 |\n",
            "| 143 |                              model/block_5_add/add                               | (1, 16, 16, 32)  |          32,768 |\n",
            "| 144 | model/block_6_expand_relu/Relu;model/b...e/depthwise;model/block_6_expand/Conv2D | (1, 16, 16, 192) |         196,608 |\n",
            "| 145 | model/block_6_depthwise_relu/Relu;mode...ormV3;model/block_6_depthwise/depthwise |  (1, 8, 8, 192)  |          49,152 |\n",
            "| 146 | model/block_6_project_BN/FusedBatchNor...ect/Conv2D;model/block_6_project/Conv2D |  (1, 8, 8, 64)   |          16,384 |\n",
            "| 147 | model/block_7_expand_relu/Relu;model/b...e/depthwise;model/block_7_expand/Conv2D |  (1, 8, 8, 384)  |          98,304 |\n",
            "| 148 | model/block_7_depthwise_relu/Relu;mode...hwise;model/block_7_depthwise/depthwise |  (1, 8, 8, 384)  |          98,304 |\n",
            "| 149 | model/block_7_project_BN/FusedBatchNor...ect/Conv2D;model/block_7_project/Conv2D |  (1, 8, 8, 64)   |          16,384 |\n",
            "| 150 |                              model/block_7_add/add                               |  (1, 8, 8, 64)   |          16,384 |\n",
            "| 151 | model/block_8_expand_relu/Relu;model/b...e/depthwise;model/block_8_expand/Conv2D |  (1, 8, 8, 384)  |          98,304 |\n",
            "| 152 | model/block_8_depthwise_relu/Relu;mode...hwise;model/block_8_depthwise/depthwise |  (1, 8, 8, 384)  |          98,304 |\n",
            "| 153 | model/block_8_project_BN/FusedBatchNor...ect/Conv2D;model/block_8_project/Conv2D |  (1, 8, 8, 64)   |          16,384 |\n",
            "| 154 |                              model/block_8_add/add                               |  (1, 8, 8, 64)   |          16,384 |\n",
            "| 155 | model/block_9_expand_relu/Relu;model/b...e/depthwise;model/block_9_expand/Conv2D |  (1, 8, 8, 384)  |          98,304 |\n",
            "| 156 | model/block_9_depthwise_relu/Relu;mode...hwise;model/block_9_depthwise/depthwise |  (1, 8, 8, 384)  |          98,304 |\n",
            "| 157 |      model/block_9_project_BN/FusedBatchNormV3;model/block_9_project/Conv2D      |  (1, 8, 8, 64)   |          16,384 |\n",
            "| 158 |                              model/block_9_add/add                               |  (1, 8, 8, 64)   |          16,384 |\n",
            "| 159 |                          model/block_10_adjust/Conv2D1                           |  (1, 8, 8, 96)   |          24,576 |\n",
            "| 160 | model/block_10_expand_relu/Relu;model/.../depthwise;model/block_10_expand/Conv2D |  (1, 8, 8, 384)  |          98,304 |\n",
            "| 161 | model/block_10_depthwise_relu/Relu;mod...rmV3;model/block_10_depthwise/depthwise |  (1, 8, 8, 384)  |          98,304 |\n",
            "| 162 | model/block_10_project_BN/FusedBatchNo...ct/Conv2D;model/block_10_project/Conv2D |  (1, 8, 8, 96)   |          24,576 |\n",
            "| 163 |                              model/block_10_add/add                              |  (1, 8, 8, 96)   |          24,576 |\n",
            "| 164 | model/block_11_expand_relu/Relu;model/.../depthwise;model/block_11_expand/Conv2D |  (1, 8, 8, 576)  |         147,456 |\n",
            "| 165 | model/block_11_depthwise_relu/Relu;mod...wise;model/block_11_depthwise/depthwise |  (1, 8, 8, 576)  |         147,456 |\n",
            "| 166 | model/block_11_project_BN/FusedBatchNo...ct/Conv2D;model/block_11_project/Conv2D |  (1, 8, 8, 96)   |          24,576 |\n",
            "| 167 |                              model/block_11_add/add                              |  (1, 8, 8, 96)   |          24,576 |\n",
            "| 168 | model/block_12_expand_relu/Relu;model/.../depthwise;model/block_12_expand/Conv2D |  (1, 8, 8, 576)  |         147,456 |\n",
            "| 169 | model/block_12_depthwise_relu/Relu;mod...wise;model/block_12_depthwise/depthwise |  (1, 8, 8, 576)  |         147,456 |\n",
            "| 170 |     model/block_12_project_BN/FusedBatchNormV3;model/block_12_project/Conv2D     |  (1, 8, 8, 96)   |          24,576 |\n",
            "| 171 |                              model/block_12_add/add                              |  (1, 8, 8, 96)   |          24,576 |\n",
            "| 172 | model/block_13_expand_relu/Relu;model/.../depthwise;model/block_13_expand/Conv2D |  (1, 8, 8, 576)  |         147,456 |\n",
            "| 173 | model/block_13_depthwise_relu/Relu;mod...rmV3;model/block_13_depthwise/depthwise |  (1, 4, 4, 576)  |          36,864 |\n",
            "| 174 | model/block_13_project_BN/FusedBatchNo...ct/Conv2D;model/block_13_project/Conv2D |  (1, 4, 4, 160)  |          10,240 |\n",
            "| 175 | model/block_14_expand_relu/Relu;model/.../depthwise;model/block_14_expand/Conv2D |  (1, 4, 4, 960)  |          61,440 |\n",
            "| 176 | model/block_14_depthwise_relu/Relu;mod...wise;model/block_14_depthwise/depthwise |  (1, 4, 4, 960)  |          61,440 |\n",
            "| 177 | model/block_14_project_BN/FusedBatchNo...ct/Conv2D;model/block_14_project/Conv2D |  (1, 4, 4, 160)  |          10,240 |\n",
            "| 178 |                              model/block_14_add/add                              |  (1, 4, 4, 160)  |          10,240 |\n",
            "| 179 | model/block_15_expand_relu/Relu;model/.../depthwise;model/block_15_expand/Conv2D |  (1, 4, 4, 960)  |          61,440 |\n",
            "| 180 | model/block_15_depthwise_relu/Relu;mod...wise;model/block_15_depthwise/depthwise |  (1, 4, 4, 960)  |          61,440 |\n",
            "| 181 |     model/block_15_project_BN/FusedBatchNormV3;model/block_15_project/Conv2D     |  (1, 4, 4, 160)  |          10,240 |\n",
            "| 182 |                              model/block_15_add/add                              |  (1, 4, 4, 160)  |          10,240 |\n",
            "| 183 |                          model/block_16_adjust/Conv2D1                           |  (1, 4, 4, 320)  |          20,480 |\n",
            "| 184 | model/block_16_expand_relu/Relu;model/.../depthwise;model/block_16_expand/Conv2D |  (1, 4, 4, 960)  |          61,440 |\n",
            "| 185 | model/block_16_depthwise_relu/Relu;mod...rmV3;model/block_16_depthwise/depthwise |  (1, 4, 4, 960)  |          61,440 |\n",
            "| 186 |     model/block_16_project_BN/FusedBatchNormV3;model/block_16_project/Conv2D     |  (1, 4, 4, 320)  |          20,480 |\n",
            "| 187 |                              model/block_16_add/add                              |  (1, 4, 4, 320)  |          20,480 |\n",
            "| 188 |     model/out_relu/Relu;model/Conv_1_bn/FusedBatchNormV3;model/Conv_1/Conv2D     | (1, 4, 4, 1280)  |          81,920 |\n",
            "| 189 |                       model/global_average_pooling2d/Mean                        |    (1, 1280)     |           5,120 |\n",
            "| 190 |                            StatefulPartitionedCall:0                             |     (1, 10)      |              40 |\n",
            "+-----+----------------------------------------------------------------------------------+------------------+-----------------+\n",
            "\n",
            "Operator execution schedule:\n",
            "+----------------------------------------------------------------------------------+-------------------------+----------------+-----------+-----------+\n",
            "|                              Operator (output name)                              | Tensors in memory (IDs) | Memory use (B) |      MACs |      Size |\n",
            "+----------------------------------------------------------------------------------+-------------------------+----------------+-----------+-----------+\n",
            "| model/Conv1_relu/Relu;model/bn_Conv1/F...ock_5_project/Conv2D;model/Conv1/Conv2D |         [0, 118]        |        143,360 |   884,736 |     3,584 |\n",
            "|                           model/block_0_adjust/Conv2D1                           |        [118, 119]       |        196,608 |   524,288 |     2,112 |\n",
            "| model/block_0_expand_relu/Relu;model/b...ject/Conv2D;model/block_0_expand/Conv2D |     [118, 119, 120]     |        327,680 | 1,048,576 |     4,224 |\n",
            "| model/block_0_depthwise_relu/Relu;mode...onv2D;model/block_0_depthwise/depthwise |     [119, 120, 121]     |        327,680 |   294,912 |     1,280 |\n",
            "|      model/block_0_project_BN/FusedBatchNormV3;model/block_0_project/Conv2D      |     [119, 121, 122]     |        262,144 |   524,288 |     2,112 |\n",
            "|                              model/block_0_add/add                               |     [119, 122, 123]     |        196,608 |    16,384 |         0 |\n",
            "|                           model/block_1_adjust/Conv2D1                           |        [123, 124]       |        163,840 |   393,216 |     1,632 |\n",
            "| model/block_1_expand_relu/Relu;model/b...ject/Conv2D;model/block_1_expand/Conv2D |     [123, 124, 125]     |        557,056 | 1,572,864 |     6,528 |\n",
            "| model/block_1_depthwise_relu/Relu;mode...onv2D;model/block_1_depthwise/depthwise |     [124, 125, 126]     |        884,736 |   884,736 |     3,840 |\n",
            "| model/block_1_project_BN/FusedBatchNor...ect/Conv2D;model/block_1_project/Conv2D |     [124, 126, 127]     |        589,824 | 2,359,296 |     9,312 |\n",
            "|                              model/block_1_add/add                               |     [124, 127, 128]     |        294,912 |    24,576 |         0 |\n",
            "| model/block_2_expand_relu/Relu;model/b...e/depthwise;model/block_2_expand/Conv2D |        [128, 129]       |        688,128 | 3,538,944 |    14,400 |\n",
            "| model/block_2_depthwise_relu/Relu;mode...hwise;model/block_2_depthwise/depthwise |     [128, 129, 130]     |      1,277,952 | 1,327,104 |     5,760 |\n",
            "|      model/block_2_project_BN/FusedBatchNormV3;model/block_2_project/Conv2D      |     [128, 130, 131]     |        786,432 | 3,538,944 |    13,920 |\n",
            "|                              model/block_2_add/add                               |     [128, 131, 132]     |        294,912 |    24,576 |         0 |\n",
            "| model/block_3_expand_relu/Relu;model/b...e/depthwise;model/block_3_expand/Conv2D |        [132, 133]       |        688,128 | 3,538,944 |    14,400 |\n",
            "| model/block_3_depthwise_relu/Relu;mode...ormV3;model/block_3_depthwise/depthwise |        [133, 134]       |        737,280 |   331,776 |     5,760 |\n",
            "| model/block_3_project_BN/FusedBatchNor...ect/Conv2D;model/block_3_project/Conv2D |        [134, 135]       |        180,224 | 1,179,648 |    18,560 |\n",
            "| model/block_4_expand_relu/Relu;model/b...e/depthwise;model/block_4_expand/Conv2D |        [135, 136]       |        229,376 | 1,572,864 |    25,344 |\n",
            "| model/block_4_depthwise_relu/Relu;mode...hwise;model/block_4_depthwise/depthwise |     [135, 136, 137]     |        425,984 |   442,368 |     7,680 |\n",
            "| model/block_4_project_BN/FusedBatchNor...ect/Conv2D;model/block_4_project/Conv2D |     [135, 137, 138]     |        262,144 | 1,572,864 |    24,704 |\n",
            "|                              model/block_4_add/add                               |     [135, 138, 139]     |         98,304 |     8,192 |         0 |\n",
            "| model/block_5_expand_relu/Relu;model/b...e/depthwise;model/block_5_expand/Conv2D |        [139, 140]       |        229,376 | 1,572,864 |    25,344 |\n",
            "| model/block_5_depthwise_relu/Relu;mode...hwise;model/block_5_depthwise/depthwise |     [139, 140, 141]     |        425,984 |   442,368 |     7,680 |\n",
            "|      model/block_5_project_BN/FusedBatchNormV3;model/block_5_project/Conv2D      |     [139, 141, 142]     |        262,144 | 1,572,864 |    24,704 |\n",
            "|                              model/block_5_add/add                               |     [139, 142, 143]     |         98,304 |     8,192 |         0 |\n",
            "| model/block_6_expand_relu/Relu;model/b...e/depthwise;model/block_6_expand/Conv2D |        [143, 144]       |        229,376 | 1,572,864 |    25,344 |\n",
            "| model/block_6_depthwise_relu/Relu;mode...ormV3;model/block_6_depthwise/depthwise |        [145, 144]       |        245,760 |   110,592 |     7,680 |\n",
            "| model/block_6_project_BN/FusedBatchNor...ect/Conv2D;model/block_6_project/Conv2D |        [145, 146]       |         65,536 |   786,432 |    49,408 |\n",
            "| model/block_7_expand_relu/Relu;model/b...e/depthwise;model/block_7_expand/Conv2D |        [146, 147]       |        114,688 | 1,572,864 |    99,840 |\n",
            "| model/block_7_depthwise_relu/Relu;mode...hwise;model/block_7_depthwise/depthwise |     [148, 146, 147]     |        212,992 |   221,184 |    15,360 |\n",
            "| model/block_7_project_BN/FusedBatchNor...ect/Conv2D;model/block_7_project/Conv2D |     [148, 146, 149]     |        131,072 | 1,572,864 |    98,560 |\n",
            "|                              model/block_7_add/add                               |     [146, 149, 150]     |         49,152 |     4,096 |         0 |\n",
            "| model/block_8_expand_relu/Relu;model/b...e/depthwise;model/block_8_expand/Conv2D |        [150, 151]       |        114,688 | 1,572,864 |    99,840 |\n",
            "| model/block_8_depthwise_relu/Relu;mode...hwise;model/block_8_depthwise/depthwise |     [150, 151, 152]     |        212,992 |   221,184 |    15,360 |\n",
            "| model/block_8_project_BN/FusedBatchNor...ect/Conv2D;model/block_8_project/Conv2D |     [153, 150, 152]     |        131,072 | 1,572,864 |    98,560 |\n",
            "|                              model/block_8_add/add                               |     [153, 154, 150]     |         49,152 |     4,096 |         0 |\n",
            "| model/block_9_expand_relu/Relu;model/b...e/depthwise;model/block_9_expand/Conv2D |        [154, 155]       |        114,688 | 1,572,864 |    99,840 |\n",
            "| model/block_9_depthwise_relu/Relu;mode...hwise;model/block_9_depthwise/depthwise |     [154, 155, 156]     |        212,992 |   221,184 |    15,360 |\n",
            "|      model/block_9_project_BN/FusedBatchNormV3;model/block_9_project/Conv2D      |     [154, 156, 157]     |        131,072 | 1,572,864 |    98,560 |\n",
            "|                              model/block_9_add/add                               |     [154, 157, 158]     |         49,152 |     4,096 |         0 |\n",
            "|                          model/block_10_adjust/Conv2D1                           |        [158, 159]       |         40,960 |   393,216 |    24,960 |\n",
            "| model/block_10_expand_relu/Relu;model/.../depthwise;model/block_10_expand/Conv2D |     [158, 159, 160]     |        139,264 | 1,572,864 |    99,840 |\n",
            "| model/block_10_depthwise_relu/Relu;mod...rmV3;model/block_10_depthwise/depthwise |     [159, 160, 161]     |        221,184 |   221,184 |    15,360 |\n",
            "| model/block_10_project_BN/FusedBatchNo...ct/Conv2D;model/block_10_project/Conv2D |     [159, 161, 162]     |        147,456 | 2,359,296 |   147,840 |\n",
            "|                              model/block_10_add/add                              |     [159, 162, 163]     |         73,728 |     6,144 |         0 |\n",
            "| model/block_11_expand_relu/Relu;model/.../depthwise;model/block_11_expand/Conv2D |        [163, 164]       |        172,032 | 3,538,944 |   223,488 |\n",
            "| model/block_11_depthwise_relu/Relu;mod...wise;model/block_11_depthwise/depthwise |     [163, 164, 165]     |        319,488 |   331,776 |    23,040 |\n",
            "| model/block_11_project_BN/FusedBatchNo...ct/Conv2D;model/block_11_project/Conv2D |     [163, 165, 166]     |        196,608 | 3,538,944 |   221,568 |\n",
            "|                              model/block_11_add/add                              |     [163, 166, 167]     |         73,728 |     6,144 |         0 |\n",
            "| model/block_12_expand_relu/Relu;model/.../depthwise;model/block_12_expand/Conv2D |        [167, 168]       |        172,032 | 3,538,944 |   223,488 |\n",
            "| model/block_12_depthwise_relu/Relu;mod...wise;model/block_12_depthwise/depthwise |     [167, 168, 169]     |        319,488 |   331,776 |    23,040 |\n",
            "|     model/block_12_project_BN/FusedBatchNormV3;model/block_12_project/Conv2D     |     [167, 169, 170]     |        196,608 | 3,538,944 |   221,568 |\n",
            "|                              model/block_12_add/add                              |     [167, 170, 171]     |         73,728 |     6,144 |         0 |\n",
            "| model/block_13_expand_relu/Relu;model/.../depthwise;model/block_13_expand/Conv2D |        [171, 172]       |        172,032 | 3,538,944 |   223,488 |\n",
            "| model/block_13_depthwise_relu/Relu;mod...rmV3;model/block_13_depthwise/depthwise |        [172, 173]       |        184,320 |    82,944 |    23,040 |\n",
            "| model/block_13_project_BN/FusedBatchNo...ct/Conv2D;model/block_13_project/Conv2D |        [173, 174]       |         47,104 | 1,474,560 |   369,280 |\n",
            "| model/block_14_expand_relu/Relu;model/.../depthwise;model/block_14_expand/Conv2D |        [174, 175]       |         71,680 | 2,457,600 |   618,240 |\n",
            "| model/block_14_depthwise_relu/Relu;mod...wise;model/block_14_depthwise/depthwise |     [174, 175, 176]     |        133,120 |   138,240 |    38,400 |\n",
            "| model/block_14_project_BN/FusedBatchNo...ct/Conv2D;model/block_14_project/Conv2D |     [174, 176, 177]     |         81,920 | 2,457,600 |   615,040 |\n",
            "|                              model/block_14_add/add                              |     [174, 177, 178]     |         30,720 |     2,560 |         0 |\n",
            "| model/block_15_expand_relu/Relu;model/.../depthwise;model/block_15_expand/Conv2D |        [178, 179]       |         71,680 | 2,457,600 |   618,240 |\n",
            "| model/block_15_depthwise_relu/Relu;mod...wise;model/block_15_depthwise/depthwise |     [178, 179, 180]     |        133,120 |   138,240 |    38,400 |\n",
            "|     model/block_15_project_BN/FusedBatchNormV3;model/block_15_project/Conv2D     |     [178, 180, 181]     |         81,920 | 2,457,600 |   615,040 |\n",
            "|                              model/block_15_add/add                              |     [178, 181, 182]     |         30,720 |     2,560 |         0 |\n",
            "|                          model/block_16_adjust/Conv2D1                           |        [182, 183]       |         30,720 |   819,200 |   206,080 |\n",
            "| model/block_16_expand_relu/Relu;model/.../depthwise;model/block_16_expand/Conv2D |     [182, 183, 184]     |         92,160 | 2,457,600 |   618,240 |\n",
            "| model/block_16_depthwise_relu/Relu;mod...rmV3;model/block_16_depthwise/depthwise |     [183, 184, 185]     |        143,360 |   138,240 |    38,400 |\n",
            "|     model/block_16_project_BN/FusedBatchNormV3;model/block_16_project/Conv2D     |     [183, 185, 186]     |        102,400 | 4,915,200 | 1,230,080 |\n",
            "|                              model/block_16_add/add                              |     [183, 186, 187]     |         61,440 |     5,120 |         0 |\n",
            "|     model/out_relu/Relu;model/Conv_1_bn/FusedBatchNormV3;model/Conv_1/Conv2D     |        [187, 188]       |        102,400 | 6,553,600 | 1,643,520 |\n",
            "|                       model/global_average_pooling2d/Mean                        |        [188, 189]       |         87,040 |    20,480 |         8 |\n",
            "|                            StatefulPartitionedCall:0                             |        [190, 189]       |          5,160 |    12,800 |    51,240 |\n",
            "+----------------------------------------------------------------------------------+-------------------------+----------------+-----------+-----------+\n",
            "Current peak memory usage: 1,277,952 B\n",
            "Total MACs: 91,298,304\n",
            "Total weight size: 9,117,520\n",
            "\n"
          ]
        }
      ]
    },
    {
      "cell_type": "code",
      "source": [
        "path = convert_to_tflite('/content/model_pruned95.h5')\n",
        "print(path)"
      ],
      "metadata": {
        "colab": {
          "base_uri": "https://localhost:8080/"
        },
        "id": "xE2UUn1LwDEJ",
        "outputId": "90c30e66-3d50-43c9-b9bd-d8236bc6fcf9"
      },
      "execution_count": 30,
      "outputs": [
        {
          "output_type": "stream",
          "name": "stderr",
          "text": [
            "WARNING:tensorflow:No training configuration found in the save file, so the model was *not* compiled. Compile it manually.\n"
          ]
        },
        {
          "output_type": "stream",
          "name": "stdout",
          "text": [
            "79/79 [==============================] - 6s 33ms/step - loss: 2.6027 - accuracy: 0.3197\n",
            "Total params: 2330186\n",
            "models/model_pruned95.tflite\n"
          ]
        }
      ]
    },
    {
      "cell_type": "code",
      "source": [
        "!python tflite_tools/tflite_tools.py -i /content/models/model_pruned95.tflite --calc-macs --calc-size"
      ],
      "metadata": {
        "colab": {
          "base_uri": "https://localhost:8080/"
        },
        "id": "EmAHpl_-wKC2",
        "outputId": "909e3e8a-c2e3-47fd-bbca-9e7e4d4bd306"
      },
      "execution_count": 35,
      "outputs": [
        {
          "output_type": "stream",
          "name": "stdout",
          "text": [
            "Tensor information (weights excluded):\n",
            "+-----+----------------------------------------------------------------------------------+------------------+-----------------+\n",
            "|  Id |                                      Tensor                                      |      Shape       | Size in RAM (B) |\n",
            "+-----+----------------------------------------------------------------------------------+------------------+-----------------+\n",
            "|   0 |                            serving_default_input_1:0                             |  (1, 32, 32, 3)  |          12,288 |\n",
            "| 118 | model/Conv1_relu/Relu;model/bn_Conv1/F...ock_5_project/Conv2D;model/Conv1/Conv2D | (1, 32, 32, 32)  |         131,072 |\n",
            "| 119 |                           model/block_0_adjust/Conv2D1                           | (1, 32, 32, 16)  |          65,536 |\n",
            "| 120 | model/block_0_expand_relu/Relu;model/b...ject/Conv2D;model/block_0_expand/Conv2D | (1, 32, 32, 32)  |         131,072 |\n",
            "| 121 | model/block_0_depthwise_relu/Relu;mode...onv2D;model/block_0_depthwise/depthwise | (1, 32, 32, 32)  |         131,072 |\n",
            "| 122 |      model/block_0_project_BN/FusedBatchNormV3;model/block_0_project/Conv2D      | (1, 32, 32, 16)  |          65,536 |\n",
            "| 123 |                              model/block_0_add/add                               | (1, 32, 32, 16)  |          65,536 |\n",
            "| 124 |                           model/block_1_adjust/Conv2D1                           | (1, 32, 32, 24)  |          98,304 |\n",
            "| 125 | model/block_1_expand_relu/Relu;model/b...ject/Conv2D;model/block_1_expand/Conv2D | (1, 32, 32, 96)  |         393,216 |\n",
            "| 126 | model/block_1_depthwise_relu/Relu;mode...onv2D;model/block_1_depthwise/depthwise | (1, 32, 32, 96)  |         393,216 |\n",
            "| 127 | model/block_1_project_BN/FusedBatchNor...ect/Conv2D;model/block_1_project/Conv2D | (1, 32, 32, 24)  |          98,304 |\n",
            "| 128 |                              model/block_1_add/add                               | (1, 32, 32, 24)  |          98,304 |\n",
            "| 129 | model/block_2_expand_relu/Relu;model/b...e/depthwise;model/block_2_expand/Conv2D | (1, 32, 32, 144) |         589,824 |\n",
            "| 130 | model/block_2_depthwise_relu/Relu;mode...hwise;model/block_2_depthwise/depthwise | (1, 32, 32, 144) |         589,824 |\n",
            "| 131 |      model/block_2_project_BN/FusedBatchNormV3;model/block_2_project/Conv2D      | (1, 32, 32, 24)  |          98,304 |\n",
            "| 132 |                              model/block_2_add/add                               | (1, 32, 32, 24)  |          98,304 |\n",
            "| 133 | model/block_3_expand_relu/Relu;model/b...e/depthwise;model/block_3_expand/Conv2D | (1, 32, 32, 144) |         589,824 |\n",
            "| 134 | model/block_3_depthwise_relu/Relu;mode...ormV3;model/block_3_depthwise/depthwise | (1, 16, 16, 144) |         147,456 |\n",
            "| 135 | model/block_3_project_BN/FusedBatchNor...ect/Conv2D;model/block_3_project/Conv2D | (1, 16, 16, 32)  |          32,768 |\n",
            "| 136 | model/block_4_expand_relu/Relu;model/b...e/depthwise;model/block_4_expand/Conv2D | (1, 16, 16, 192) |         196,608 |\n",
            "| 137 | model/block_4_depthwise_relu/Relu;mode...hwise;model/block_4_depthwise/depthwise | (1, 16, 16, 192) |         196,608 |\n",
            "| 138 | model/block_4_project_BN/FusedBatchNor...ect/Conv2D;model/block_4_project/Conv2D | (1, 16, 16, 32)  |          32,768 |\n",
            "| 139 |                              model/block_4_add/add                               | (1, 16, 16, 32)  |          32,768 |\n",
            "| 140 | model/block_5_expand_relu/Relu;model/b...e/depthwise;model/block_5_expand/Conv2D | (1, 16, 16, 192) |         196,608 |\n",
            "| 141 | model/block_5_depthwise_relu/Relu;mode...hwise;model/block_5_depthwise/depthwise | (1, 16, 16, 192) |         196,608 |\n",
            "| 142 |      model/block_5_project_BN/FusedBatchNormV3;model/block_5_project/Conv2D      | (1, 16, 16, 32)  |          32,768 |\n",
            "| 143 |                              model/block_5_add/add                               | (1, 16, 16, 32)  |          32,768 |\n",
            "| 144 | model/block_6_expand_relu/Relu;model/b...e/depthwise;model/block_6_expand/Conv2D | (1, 16, 16, 192) |         196,608 |\n",
            "| 145 | model/block_6_depthwise_relu/Relu;mode...ormV3;model/block_6_depthwise/depthwise |  (1, 8, 8, 192)  |          49,152 |\n",
            "| 146 | model/block_6_project_BN/FusedBatchNor...ect/Conv2D;model/block_6_project/Conv2D |  (1, 8, 8, 64)   |          16,384 |\n",
            "| 147 | model/block_7_expand_relu/Relu;model/b...e/depthwise;model/block_7_expand/Conv2D |  (1, 8, 8, 384)  |          98,304 |\n",
            "| 148 | model/block_7_depthwise_relu/Relu;mode...hwise;model/block_7_depthwise/depthwise |  (1, 8, 8, 384)  |          98,304 |\n",
            "| 149 | model/block_7_project_BN/FusedBatchNor...ect/Conv2D;model/block_7_project/Conv2D |  (1, 8, 8, 64)   |          16,384 |\n",
            "| 150 |                              model/block_7_add/add                               |  (1, 8, 8, 64)   |          16,384 |\n",
            "| 151 | model/block_8_expand_relu/Relu;model/b...e/depthwise;model/block_8_expand/Conv2D |  (1, 8, 8, 384)  |          98,304 |\n",
            "| 152 | model/block_8_depthwise_relu/Relu;mode...hwise;model/block_8_depthwise/depthwise |  (1, 8, 8, 384)  |          98,304 |\n",
            "| 153 | model/block_8_project_BN/FusedBatchNor...ect/Conv2D;model/block_8_project/Conv2D |  (1, 8, 8, 64)   |          16,384 |\n",
            "| 154 |                              model/block_8_add/add                               |  (1, 8, 8, 64)   |          16,384 |\n",
            "| 155 | model/block_9_expand_relu/Relu;model/b...e/depthwise;model/block_9_expand/Conv2D |  (1, 8, 8, 384)  |          98,304 |\n",
            "| 156 | model/block_9_depthwise_relu/Relu;mode...hwise;model/block_9_depthwise/depthwise |  (1, 8, 8, 384)  |          98,304 |\n",
            "| 157 |      model/block_9_project_BN/FusedBatchNormV3;model/block_9_project/Conv2D      |  (1, 8, 8, 64)   |          16,384 |\n",
            "| 158 |                              model/block_9_add/add                               |  (1, 8, 8, 64)   |          16,384 |\n",
            "| 159 |                          model/block_10_adjust/Conv2D1                           |  (1, 8, 8, 96)   |          24,576 |\n",
            "| 160 | model/block_10_expand_relu/Relu;model/.../depthwise;model/block_10_expand/Conv2D |  (1, 8, 8, 384)  |          98,304 |\n",
            "| 161 | model/block_10_depthwise_relu/Relu;mod...rmV3;model/block_10_depthwise/depthwise |  (1, 8, 8, 384)  |          98,304 |\n",
            "| 162 | model/block_10_project_BN/FusedBatchNo...ct/Conv2D;model/block_10_project/Conv2D |  (1, 8, 8, 96)   |          24,576 |\n",
            "| 163 |                              model/block_10_add/add                              |  (1, 8, 8, 96)   |          24,576 |\n",
            "| 164 | model/block_11_expand_relu/Relu;model/.../depthwise;model/block_11_expand/Conv2D |  (1, 8, 8, 576)  |         147,456 |\n",
            "| 165 | model/block_11_depthwise_relu/Relu;mod...wise;model/block_11_depthwise/depthwise |  (1, 8, 8, 576)  |         147,456 |\n",
            "| 166 | model/block_11_project_BN/FusedBatchNo...ct/Conv2D;model/block_11_project/Conv2D |  (1, 8, 8, 96)   |          24,576 |\n",
            "| 167 |                              model/block_11_add/add                              |  (1, 8, 8, 96)   |          24,576 |\n",
            "| 168 | model/block_12_expand_relu/Relu;model/.../depthwise;model/block_12_expand/Conv2D |  (1, 8, 8, 576)  |         147,456 |\n",
            "| 169 | model/block_12_depthwise_relu/Relu;mod...wise;model/block_12_depthwise/depthwise |  (1, 8, 8, 576)  |         147,456 |\n",
            "| 170 |     model/block_12_project_BN/FusedBatchNormV3;model/block_12_project/Conv2D     |  (1, 8, 8, 96)   |          24,576 |\n",
            "| 171 |                              model/block_12_add/add                              |  (1, 8, 8, 96)   |          24,576 |\n",
            "| 172 | model/block_13_expand_relu/Relu;model/.../depthwise;model/block_13_expand/Conv2D |  (1, 8, 8, 576)  |         147,456 |\n",
            "| 173 | model/block_13_depthwise_relu/Relu;mod...rmV3;model/block_13_depthwise/depthwise |  (1, 4, 4, 576)  |          36,864 |\n",
            "| 174 | model/block_13_project_BN/FusedBatchNo...ct/Conv2D;model/block_13_project/Conv2D |  (1, 4, 4, 160)  |          10,240 |\n",
            "| 175 | model/block_14_expand_relu/Relu;model/.../depthwise;model/block_14_expand/Conv2D |  (1, 4, 4, 960)  |          61,440 |\n",
            "| 176 | model/block_14_depthwise_relu/Relu;mod...wise;model/block_14_depthwise/depthwise |  (1, 4, 4, 960)  |          61,440 |\n",
            "| 177 | model/block_14_project_BN/FusedBatchNo...ct/Conv2D;model/block_14_project/Conv2D |  (1, 4, 4, 160)  |          10,240 |\n",
            "| 178 |                              model/block_14_add/add                              |  (1, 4, 4, 160)  |          10,240 |\n",
            "| 179 | model/block_15_expand_relu/Relu;model/.../depthwise;model/block_15_expand/Conv2D |  (1, 4, 4, 960)  |          61,440 |\n",
            "| 180 | model/block_15_depthwise_relu/Relu;mod...wise;model/block_15_depthwise/depthwise |  (1, 4, 4, 960)  |          61,440 |\n",
            "| 181 |     model/block_15_project_BN/FusedBatchNormV3;model/block_15_project/Conv2D     |  (1, 4, 4, 160)  |          10,240 |\n",
            "| 182 |                              model/block_15_add/add                              |  (1, 4, 4, 160)  |          10,240 |\n",
            "| 183 |                          model/block_16_adjust/Conv2D1                           |  (1, 4, 4, 320)  |          20,480 |\n",
            "| 184 | model/block_16_expand_relu/Relu;model/.../depthwise;model/block_16_expand/Conv2D |  (1, 4, 4, 960)  |          61,440 |\n",
            "| 185 | model/block_16_depthwise_relu/Relu;mod...rmV3;model/block_16_depthwise/depthwise |  (1, 4, 4, 960)  |          61,440 |\n",
            "| 186 |     model/block_16_project_BN/FusedBatchNormV3;model/block_16_project/Conv2D     |  (1, 4, 4, 320)  |          20,480 |\n",
            "| 187 |                              model/block_16_add/add                              |  (1, 4, 4, 320)  |          20,480 |\n",
            "| 188 |     model/out_relu/Relu;model/Conv_1_bn/FusedBatchNormV3;model/Conv_1/Conv2D     | (1, 4, 4, 1280)  |          81,920 |\n",
            "| 189 |                       model/global_average_pooling2d/Mean                        |    (1, 1280)     |           5,120 |\n",
            "| 190 |                            StatefulPartitionedCall:0                             |     (1, 10)      |              40 |\n",
            "+-----+----------------------------------------------------------------------------------+------------------+-----------------+\n",
            "\n",
            "Operator execution schedule:\n",
            "+----------------------------------------------------------------------------------+-------------------------+----------------+-----------+-----------+\n",
            "|                              Operator (output name)                              | Tensors in memory (IDs) | Memory use (B) |      MACs |      Size |\n",
            "+----------------------------------------------------------------------------------+-------------------------+----------------+-----------+-----------+\n",
            "| model/Conv1_relu/Relu;model/bn_Conv1/F...ock_5_project/Conv2D;model/Conv1/Conv2D |         [0, 118]        |        143,360 |   884,736 |     3,584 |\n",
            "|                           model/block_0_adjust/Conv2D1                           |        [118, 119]       |        196,608 |   524,288 |     2,112 |\n",
            "| model/block_0_expand_relu/Relu;model/b...ject/Conv2D;model/block_0_expand/Conv2D |     [118, 119, 120]     |        327,680 | 1,048,576 |     4,224 |\n",
            "| model/block_0_depthwise_relu/Relu;mode...onv2D;model/block_0_depthwise/depthwise |     [119, 120, 121]     |        327,680 |   294,912 |     1,280 |\n",
            "|      model/block_0_project_BN/FusedBatchNormV3;model/block_0_project/Conv2D      |     [119, 121, 122]     |        262,144 |   524,288 |     2,112 |\n",
            "|                              model/block_0_add/add                               |     [119, 122, 123]     |        196,608 |    16,384 |         0 |\n",
            "|                           model/block_1_adjust/Conv2D1                           |        [123, 124]       |        163,840 |   393,216 |     1,632 |\n",
            "| model/block_1_expand_relu/Relu;model/b...ject/Conv2D;model/block_1_expand/Conv2D |     [123, 124, 125]     |        557,056 | 1,572,864 |     6,528 |\n",
            "| model/block_1_depthwise_relu/Relu;mode...onv2D;model/block_1_depthwise/depthwise |     [124, 125, 126]     |        884,736 |   884,736 |     3,840 |\n",
            "| model/block_1_project_BN/FusedBatchNor...ect/Conv2D;model/block_1_project/Conv2D |     [124, 126, 127]     |        589,824 | 2,359,296 |     9,312 |\n",
            "|                              model/block_1_add/add                               |     [124, 127, 128]     |        294,912 |    24,576 |         0 |\n",
            "| model/block_2_expand_relu/Relu;model/b...e/depthwise;model/block_2_expand/Conv2D |        [128, 129]       |        688,128 | 3,538,944 |    14,400 |\n",
            "| model/block_2_depthwise_relu/Relu;mode...hwise;model/block_2_depthwise/depthwise |     [128, 129, 130]     |      1,277,952 | 1,327,104 |     5,760 |\n",
            "|      model/block_2_project_BN/FusedBatchNormV3;model/block_2_project/Conv2D      |     [128, 130, 131]     |        786,432 | 3,538,944 |    13,920 |\n",
            "|                              model/block_2_add/add                               |     [128, 131, 132]     |        294,912 |    24,576 |         0 |\n",
            "| model/block_3_expand_relu/Relu;model/b...e/depthwise;model/block_3_expand/Conv2D |        [132, 133]       |        688,128 | 3,538,944 |    14,400 |\n",
            "| model/block_3_depthwise_relu/Relu;mode...ormV3;model/block_3_depthwise/depthwise |        [133, 134]       |        737,280 |   331,776 |     5,760 |\n",
            "| model/block_3_project_BN/FusedBatchNor...ect/Conv2D;model/block_3_project/Conv2D |        [134, 135]       |        180,224 | 1,179,648 |    18,560 |\n",
            "| model/block_4_expand_relu/Relu;model/b...e/depthwise;model/block_4_expand/Conv2D |        [135, 136]       |        229,376 | 1,572,864 |    25,344 |\n",
            "| model/block_4_depthwise_relu/Relu;mode...hwise;model/block_4_depthwise/depthwise |     [135, 136, 137]     |        425,984 |   442,368 |     7,680 |\n",
            "| model/block_4_project_BN/FusedBatchNor...ect/Conv2D;model/block_4_project/Conv2D |     [135, 137, 138]     |        262,144 | 1,572,864 |    24,704 |\n",
            "|                              model/block_4_add/add                               |     [135, 138, 139]     |         98,304 |     8,192 |         0 |\n",
            "| model/block_5_expand_relu/Relu;model/b...e/depthwise;model/block_5_expand/Conv2D |        [139, 140]       |        229,376 | 1,572,864 |    25,344 |\n",
            "| model/block_5_depthwise_relu/Relu;mode...hwise;model/block_5_depthwise/depthwise |     [139, 140, 141]     |        425,984 |   442,368 |     7,680 |\n",
            "|      model/block_5_project_BN/FusedBatchNormV3;model/block_5_project/Conv2D      |     [139, 141, 142]     |        262,144 | 1,572,864 |    24,704 |\n",
            "|                              model/block_5_add/add                               |     [139, 142, 143]     |         98,304 |     8,192 |         0 |\n",
            "| model/block_6_expand_relu/Relu;model/b...e/depthwise;model/block_6_expand/Conv2D |        [143, 144]       |        229,376 | 1,572,864 |    25,344 |\n",
            "| model/block_6_depthwise_relu/Relu;mode...ormV3;model/block_6_depthwise/depthwise |        [145, 144]       |        245,760 |   110,592 |     7,680 |\n",
            "| model/block_6_project_BN/FusedBatchNor...ect/Conv2D;model/block_6_project/Conv2D |        [145, 146]       |         65,536 |   786,432 |    49,408 |\n",
            "| model/block_7_expand_relu/Relu;model/b...e/depthwise;model/block_7_expand/Conv2D |        [146, 147]       |        114,688 | 1,572,864 |    99,840 |\n",
            "| model/block_7_depthwise_relu/Relu;mode...hwise;model/block_7_depthwise/depthwise |     [148, 146, 147]     |        212,992 |   221,184 |    15,360 |\n",
            "| model/block_7_project_BN/FusedBatchNor...ect/Conv2D;model/block_7_project/Conv2D |     [148, 146, 149]     |        131,072 | 1,572,864 |    98,560 |\n",
            "|                              model/block_7_add/add                               |     [146, 149, 150]     |         49,152 |     4,096 |         0 |\n",
            "| model/block_8_expand_relu/Relu;model/b...e/depthwise;model/block_8_expand/Conv2D |        [150, 151]       |        114,688 | 1,572,864 |    99,840 |\n",
            "| model/block_8_depthwise_relu/Relu;mode...hwise;model/block_8_depthwise/depthwise |     [150, 151, 152]     |        212,992 |   221,184 |    15,360 |\n",
            "| model/block_8_project_BN/FusedBatchNor...ect/Conv2D;model/block_8_project/Conv2D |     [153, 150, 152]     |        131,072 | 1,572,864 |    98,560 |\n",
            "|                              model/block_8_add/add                               |     [153, 154, 150]     |         49,152 |     4,096 |         0 |\n",
            "| model/block_9_expand_relu/Relu;model/b...e/depthwise;model/block_9_expand/Conv2D |        [154, 155]       |        114,688 | 1,572,864 |    99,840 |\n",
            "| model/block_9_depthwise_relu/Relu;mode...hwise;model/block_9_depthwise/depthwise |     [154, 155, 156]     |        212,992 |   221,184 |    15,360 |\n",
            "|      model/block_9_project_BN/FusedBatchNormV3;model/block_9_project/Conv2D      |     [154, 156, 157]     |        131,072 | 1,572,864 |    98,560 |\n",
            "|                              model/block_9_add/add                               |     [154, 157, 158]     |         49,152 |     4,096 |         0 |\n",
            "|                          model/block_10_adjust/Conv2D1                           |        [158, 159]       |         40,960 |   393,216 |    24,960 |\n",
            "| model/block_10_expand_relu/Relu;model/.../depthwise;model/block_10_expand/Conv2D |     [158, 159, 160]     |        139,264 | 1,572,864 |    99,840 |\n",
            "| model/block_10_depthwise_relu/Relu;mod...rmV3;model/block_10_depthwise/depthwise |     [159, 160, 161]     |        221,184 |   221,184 |    15,360 |\n",
            "| model/block_10_project_BN/FusedBatchNo...ct/Conv2D;model/block_10_project/Conv2D |     [159, 161, 162]     |        147,456 | 2,359,296 |   147,840 |\n",
            "|                              model/block_10_add/add                              |     [159, 162, 163]     |         73,728 |     6,144 |         0 |\n",
            "| model/block_11_expand_relu/Relu;model/.../depthwise;model/block_11_expand/Conv2D |        [163, 164]       |        172,032 | 3,538,944 |   223,488 |\n",
            "| model/block_11_depthwise_relu/Relu;mod...wise;model/block_11_depthwise/depthwise |     [163, 164, 165]     |        319,488 |   331,776 |    23,040 |\n",
            "| model/block_11_project_BN/FusedBatchNo...ct/Conv2D;model/block_11_project/Conv2D |     [163, 165, 166]     |        196,608 | 3,538,944 |   221,568 |\n",
            "|                              model/block_11_add/add                              |     [163, 166, 167]     |         73,728 |     6,144 |         0 |\n",
            "| model/block_12_expand_relu/Relu;model/.../depthwise;model/block_12_expand/Conv2D |        [167, 168]       |        172,032 | 3,538,944 |   223,488 |\n",
            "| model/block_12_depthwise_relu/Relu;mod...wise;model/block_12_depthwise/depthwise |     [167, 168, 169]     |        319,488 |   331,776 |    23,040 |\n",
            "|     model/block_12_project_BN/FusedBatchNormV3;model/block_12_project/Conv2D     |     [167, 169, 170]     |        196,608 | 3,538,944 |   221,568 |\n",
            "|                              model/block_12_add/add                              |     [167, 170, 171]     |         73,728 |     6,144 |         0 |\n",
            "| model/block_13_expand_relu/Relu;model/.../depthwise;model/block_13_expand/Conv2D |        [171, 172]       |        172,032 | 3,538,944 |   223,488 |\n",
            "| model/block_13_depthwise_relu/Relu;mod...rmV3;model/block_13_depthwise/depthwise |        [172, 173]       |        184,320 |    82,944 |    23,040 |\n",
            "| model/block_13_project_BN/FusedBatchNo...ct/Conv2D;model/block_13_project/Conv2D |        [173, 174]       |         47,104 | 1,474,560 |   369,280 |\n",
            "| model/block_14_expand_relu/Relu;model/.../depthwise;model/block_14_expand/Conv2D |        [174, 175]       |         71,680 | 2,457,600 |   618,240 |\n",
            "| model/block_14_depthwise_relu/Relu;mod...wise;model/block_14_depthwise/depthwise |     [174, 175, 176]     |        133,120 |   138,240 |    38,400 |\n",
            "| model/block_14_project_BN/FusedBatchNo...ct/Conv2D;model/block_14_project/Conv2D |     [174, 176, 177]     |         81,920 | 2,457,600 |   615,040 |\n",
            "|                              model/block_14_add/add                              |     [174, 177, 178]     |         30,720 |     2,560 |         0 |\n",
            "| model/block_15_expand_relu/Relu;model/.../depthwise;model/block_15_expand/Conv2D |        [178, 179]       |         71,680 | 2,457,600 |   618,240 |\n",
            "| model/block_15_depthwise_relu/Relu;mod...wise;model/block_15_depthwise/depthwise |     [178, 179, 180]     |        133,120 |   138,240 |    38,400 |\n",
            "|     model/block_15_project_BN/FusedBatchNormV3;model/block_15_project/Conv2D     |     [178, 180, 181]     |         81,920 | 2,457,600 |   615,040 |\n",
            "|                              model/block_15_add/add                              |     [178, 181, 182]     |         30,720 |     2,560 |         0 |\n",
            "|                          model/block_16_adjust/Conv2D1                           |        [182, 183]       |         30,720 |   819,200 |   206,080 |\n",
            "| model/block_16_expand_relu/Relu;model/.../depthwise;model/block_16_expand/Conv2D |     [182, 183, 184]     |         92,160 | 2,457,600 |   618,240 |\n",
            "| model/block_16_depthwise_relu/Relu;mod...rmV3;model/block_16_depthwise/depthwise |     [183, 184, 185]     |        143,360 |   138,240 |    38,400 |\n",
            "|     model/block_16_project_BN/FusedBatchNormV3;model/block_16_project/Conv2D     |     [183, 185, 186]     |        102,400 | 4,915,200 | 1,230,080 |\n",
            "|                              model/block_16_add/add                              |     [183, 186, 187]     |         61,440 |     5,120 |         0 |\n",
            "|     model/out_relu/Relu;model/Conv_1_bn/FusedBatchNormV3;model/Conv_1/Conv2D     |        [187, 188]       |        102,400 | 6,553,600 | 1,643,520 |\n",
            "|                       model/global_average_pooling2d/Mean                        |        [188, 189]       |         87,040 |    20,480 |         8 |\n",
            "|                            StatefulPartitionedCall:0                             |        [190, 189]       |          5,160 |    12,800 |    51,240 |\n",
            "+----------------------------------------------------------------------------------+-------------------------+----------------+-----------+-----------+\n",
            "Current peak memory usage: 1,277,952 B\n",
            "Total MACs: 91,298,304\n",
            "Total weight size: 9,117,520\n",
            "\n"
          ]
        }
      ]
    },
    {
      "cell_type": "markdown",
      "source": [
        "###Quantization"
      ],
      "metadata": {
        "id": "yqfBKTIswVyx"
      }
    },
    {
      "cell_type": "code",
      "source": [
        "!python tflite_tools/tflite_tools.py -i /content/model_qat.tflite --calc-macs --calc-size"
      ],
      "metadata": {
        "colab": {
          "base_uri": "https://localhost:8080/"
        },
        "id": "ysvLM9DXwe9m",
        "outputId": "e228e8ad-1699-4e2d-ccbe-2aafb9250dbe"
      },
      "execution_count": 13,
      "outputs": [
        {
          "output_type": "stream",
          "name": "stdout",
          "text": [
            "Tensor information (weights excluded):\n",
            "+-----+----------------------------------------------------------------------------------+------------------+-----------------+\n",
            "|  Id |                                      Tensor                                      |      Shape       | Size in RAM (B) |\n",
            "+-----+----------------------------------------------------------------------------------+------------------+-----------------+\n",
            "|   0 |                            serving_default_input_1:0                             |  (1, 32, 32, 3)  |          12,288 |\n",
            "|  60 | model/quantize_layer/AllValuesQuantize...akeQuantWithMinMaxVars/ReadVariableOp_1 |  (1, 32, 32, 3)  |           3,072 |\n",
            "|  62 | model/quant_Conv1_relu/Relu;model/quan...project/Conv2D;model/quant_Conv1/Conv2D | (1, 32, 32, 32)  |          32,768 |\n",
            "|  64 |                        model/quant_block_0_adjust/Conv2D                         | (1, 32, 32, 16)  |          16,384 |\n",
            "|  66 | model/quant_block_0_expand_relu/Relu;m...onv2D;model/quant_block_0_expand/Conv2D | (1, 32, 32, 32)  |          32,768 |\n",
            "|  68 | model/quant_block_0_depthwise_relu/Rel...model/quant_block_0_depthwise/depthwise | (1, 32, 32, 32)  |          32,768 |\n",
            "|  70 | model/quant_block_0_project_BN/FusedBa...rmV3;model/quant_block_0_project/Conv2D | (1, 32, 32, 16)  |          16,384 |\n",
            "|  71 |                           model/quant_block_0_add/add                            | (1, 32, 32, 16)  |          16,384 |\n",
            "|  73 |                        model/quant_block_1_adjust/Conv2D                         | (1, 32, 32, 24)  |          24,576 |\n",
            "|  75 | model/quant_block_1_expand_relu/Relu;m...onv2D;model/quant_block_1_expand/Conv2D | (1, 32, 32, 96)  |          98,304 |\n",
            "|  77 | model/quant_block_1_depthwise_relu/Rel...model/quant_block_1_depthwise/depthwise | (1, 32, 32, 96)  |          98,304 |\n",
            "|  79 | model/quant_block_1_project_BN/FusedBa...nv2D;model/quant_block_1_project/Conv2D | (1, 32, 32, 24)  |          24,576 |\n",
            "|  80 |                           model/quant_block_1_add/add                            | (1, 32, 32, 24)  |          24,576 |\n",
            "|  82 | model/quant_block_2_expand_relu/Relu;m...hwise;model/quant_block_2_expand/Conv2D | (1, 32, 32, 144) |         147,456 |\n",
            "|  84 | model/quant_block_2_depthwise_relu/Rel...model/quant_block_2_depthwise/depthwise | (1, 32, 32, 144) |         147,456 |\n",
            "|  86 | model/quant_block_2_project_BN/FusedBa...rmV3;model/quant_block_2_project/Conv2D | (1, 32, 32, 24)  |          24,576 |\n",
            "|  87 |                           model/quant_block_2_add/add                            | (1, 32, 32, 24)  |          24,576 |\n",
            "|  89 | model/quant_block_3_expand_relu/Relu;m...hwise;model/quant_block_3_expand/Conv2D | (1, 32, 32, 144) |         147,456 |\n",
            "|  91 | model/quant_block_3_depthwise_relu/Rel...model/quant_block_3_depthwise/depthwise | (1, 16, 16, 144) |          36,864 |\n",
            "|  93 | model/quant_block_3_project_BN/FusedBa...nv2D;model/quant_block_3_project/Conv2D | (1, 16, 16, 32)  |           8,192 |\n",
            "|  95 | model/quant_block_4_expand_relu/Relu;m...hwise;model/quant_block_4_expand/Conv2D | (1, 16, 16, 192) |          49,152 |\n",
            "|  97 | model/quant_block_4_depthwise_relu/Rel...model/quant_block_4_depthwise/depthwise | (1, 16, 16, 192) |          49,152 |\n",
            "|  99 | model/quant_block_4_project_BN/FusedBa...nv2D;model/quant_block_4_project/Conv2D | (1, 16, 16, 32)  |           8,192 |\n",
            "| 100 |                           model/quant_block_4_add/add                            | (1, 16, 16, 32)  |           8,192 |\n",
            "| 102 | model/quant_block_5_expand_relu/Relu;m...hwise;model/quant_block_5_expand/Conv2D | (1, 16, 16, 192) |          49,152 |\n",
            "| 104 | model/quant_block_5_depthwise_relu/Rel...model/quant_block_5_depthwise/depthwise | (1, 16, 16, 192) |          49,152 |\n",
            "| 106 | model/quant_block_5_project_BN/FusedBa...rmV3;model/quant_block_5_project/Conv2D | (1, 16, 16, 32)  |           8,192 |\n",
            "| 107 |                           model/quant_block_5_add/add                            | (1, 16, 16, 32)  |           8,192 |\n",
            "| 109 | model/quant_block_6_expand_relu/Relu;m...hwise;model/quant_block_6_expand/Conv2D | (1, 16, 16, 192) |          49,152 |\n",
            "| 111 | model/quant_block_6_depthwise_relu/Rel...model/quant_block_6_depthwise/depthwise |  (1, 8, 8, 192)  |          12,288 |\n",
            "| 113 | model/quant_block_6_project_BN/FusedBa...nv2D;model/quant_block_6_project/Conv2D |  (1, 8, 8, 64)   |           4,096 |\n",
            "| 115 | model/quant_block_7_expand_relu/Relu;m...hwise;model/quant_block_7_expand/Conv2D |  (1, 8, 8, 384)  |          24,576 |\n",
            "| 117 | model/quant_block_7_depthwise_relu/Rel...model/quant_block_7_depthwise/depthwise |  (1, 8, 8, 384)  |          24,576 |\n",
            "| 119 | model/quant_block_7_project_BN/FusedBa...nv2D;model/quant_block_7_project/Conv2D |  (1, 8, 8, 64)   |           4,096 |\n",
            "| 120 |                           model/quant_block_7_add/add                            |  (1, 8, 8, 64)   |           4,096 |\n",
            "| 122 | model/quant_block_8_expand_relu/Relu;m...hwise;model/quant_block_8_expand/Conv2D |  (1, 8, 8, 384)  |          24,576 |\n",
            "| 124 | model/quant_block_8_depthwise_relu/Rel...model/quant_block_8_depthwise/depthwise |  (1, 8, 8, 384)  |          24,576 |\n",
            "| 126 | model/quant_block_8_project_BN/FusedBa...nv2D;model/quant_block_8_project/Conv2D |  (1, 8, 8, 64)   |           4,096 |\n",
            "| 127 |                           model/quant_block_8_add/add                            |  (1, 8, 8, 64)   |           4,096 |\n",
            "| 129 | model/quant_block_9_expand_relu/Relu;m...hwise;model/quant_block_9_expand/Conv2D |  (1, 8, 8, 384)  |          24,576 |\n",
            "| 131 | model/quant_block_9_depthwise_relu/Rel...model/quant_block_9_depthwise/depthwise |  (1, 8, 8, 384)  |          24,576 |\n",
            "| 133 | model/quant_block_9_project_BN/FusedBa...rmV3;model/quant_block_9_project/Conv2D |  (1, 8, 8, 64)   |           4,096 |\n",
            "| 134 |                           model/quant_block_9_add/add                            |  (1, 8, 8, 64)   |           4,096 |\n",
            "| 136 |                        model/quant_block_10_adjust/Conv2D                        |  (1, 8, 8, 96)   |           6,144 |\n",
            "| 138 | model/quant_block_10_expand_relu/Relu;...wise;model/quant_block_10_expand/Conv2D |  (1, 8, 8, 384)  |          24,576 |\n",
            "| 140 | model/quant_block_10_depthwise_relu/Re...odel/quant_block_10_depthwise/depthwise |  (1, 8, 8, 384)  |          24,576 |\n",
            "| 142 | model/quant_block_10_project_BN/FusedB...v2D;model/quant_block_10_project/Conv2D |  (1, 8, 8, 96)   |           6,144 |\n",
            "| 143 |                           model/quant_block_10_add/add                           |  (1, 8, 8, 96)   |           6,144 |\n",
            "| 145 | model/quant_block_11_expand_relu/Relu;...wise;model/quant_block_11_expand/Conv2D |  (1, 8, 8, 576)  |          36,864 |\n",
            "| 147 | model/quant_block_11_depthwise_relu/Re...odel/quant_block_11_depthwise/depthwise |  (1, 8, 8, 576)  |          36,864 |\n",
            "| 149 | model/quant_block_11_project_BN/FusedB...v2D;model/quant_block_11_project/Conv2D |  (1, 8, 8, 96)   |           6,144 |\n",
            "| 150 |                           model/quant_block_11_add/add                           |  (1, 8, 8, 96)   |           6,144 |\n",
            "| 152 | model/quant_block_12_expand_relu/Relu;...wise;model/quant_block_12_expand/Conv2D |  (1, 8, 8, 576)  |          36,864 |\n",
            "| 154 | model/quant_block_12_depthwise_relu/Re...odel/quant_block_12_depthwise/depthwise |  (1, 8, 8, 576)  |          36,864 |\n",
            "| 156 | model/quant_block_12_project_BN/FusedB...mV3;model/quant_block_12_project/Conv2D |  (1, 8, 8, 96)   |           6,144 |\n",
            "| 157 |                           model/quant_block_12_add/add                           |  (1, 8, 8, 96)   |           6,144 |\n",
            "| 159 | model/quant_block_13_expand_relu/Relu;...wise;model/quant_block_13_expand/Conv2D |  (1, 8, 8, 576)  |          36,864 |\n",
            "| 161 | model/quant_block_13_depthwise_relu/Re...odel/quant_block_13_depthwise/depthwise |  (1, 4, 4, 576)  |           9,216 |\n",
            "| 163 | model/quant_block_13_project_BN/FusedB...v2D;model/quant_block_13_project/Conv2D |  (1, 4, 4, 160)  |           2,560 |\n",
            "| 165 | model/quant_block_14_expand_relu/Relu;...wise;model/quant_block_14_expand/Conv2D |  (1, 4, 4, 960)  |          15,360 |\n",
            "| 167 | model/quant_block_14_depthwise_relu/Re...odel/quant_block_14_depthwise/depthwise |  (1, 4, 4, 960)  |          15,360 |\n",
            "| 169 | model/quant_block_14_project_BN/FusedB...v2D;model/quant_block_14_project/Conv2D |  (1, 4, 4, 160)  |           2,560 |\n",
            "| 170 |                           model/quant_block_14_add/add                           |  (1, 4, 4, 160)  |           2,560 |\n",
            "| 172 | model/quant_block_15_expand_relu/Relu;...wise;model/quant_block_15_expand/Conv2D |  (1, 4, 4, 960)  |          15,360 |\n",
            "| 174 | model/quant_block_15_depthwise_relu/Re...odel/quant_block_15_depthwise/depthwise |  (1, 4, 4, 960)  |          15,360 |\n",
            "| 176 | model/quant_block_15_project_BN/FusedB...mV3;model/quant_block_15_project/Conv2D |  (1, 4, 4, 160)  |           2,560 |\n",
            "| 177 |                           model/quant_block_15_add/add                           |  (1, 4, 4, 160)  |           2,560 |\n",
            "| 179 |                        model/quant_block_16_adjust/Conv2D                        |  (1, 4, 4, 320)  |           5,120 |\n",
            "| 181 | model/quant_block_16_expand_relu/Relu;...wise;model/quant_block_16_expand/Conv2D |  (1, 4, 4, 960)  |          15,360 |\n",
            "| 183 | model/quant_block_16_depthwise_relu/Re...odel/quant_block_16_depthwise/depthwise |  (1, 4, 4, 960)  |          15,360 |\n",
            "| 185 | model/quant_block_16_project_BN/FusedB...mV3;model/quant_block_16_project/Conv2D |  (1, 4, 4, 320)  |           5,120 |\n",
            "| 186 |                           model/quant_block_16_add/add                           |  (1, 4, 4, 320)  |           5,120 |\n",
            "| 188 | model/quant_out_relu/Relu;model/quant_...edBatchNormV3;model/quant_Conv_1/Conv2D | (1, 4, 4, 1280)  |          20,480 |\n",
            "| 189 |                    model/quant_global_average_pooling2d/Mean                     |    (1, 1280)     |           1,280 |\n",
            "| 191 |          model/quant_predictions/MatMul;model/quant_predictions/BiasAdd          |     (1, 10)      |              10 |\n",
            "| 192 |                            StatefulPartitionedCall:0                             |     (1, 10)      |              40 |\n",
            "+-----+----------------------------------------------------------------------------------+------------------+-----------------+\n",
            "\n",
            "Operator execution schedule:\n",
            "+----------------------------------------------------------------------------------+-------------------------+----------------+-----------+---------+\n",
            "|                              Operator (output name)                              | Tensors in memory (IDs) | Memory use (B) |      MACs |    Size |\n",
            "+----------------------------------------------------------------------------------+-------------------------+----------------+-----------+---------+\n",
            "| model/quantize_layer/AllValuesQuantize...akeQuantWithMinMaxVars/ReadVariableOp_1 |         [0, 60]         |         15,360 |         0 |       0 |\n",
            "| model/quant_Conv1_relu/Relu;model/quan...project/Conv2D;model/quant_Conv1/Conv2D |         [60, 62]        |         35,840 |   884,736 |     992 |\n",
            "|                        model/quant_block_0_adjust/Conv2D                         |         [62, 64]        |         49,152 |   524,288 |     576 |\n",
            "| model/quant_block_0_expand_relu/Relu;m...onv2D;model/quant_block_0_expand/Conv2D |       [62, 64, 66]      |         81,920 | 1,048,576 |   1,152 |\n",
            "| model/quant_block_0_depthwise_relu/Rel...model/quant_block_0_depthwise/depthwise |       [64, 66, 68]      |         81,920 |   294,912 |     416 |\n",
            "| model/quant_block_0_project_BN/FusedBa...rmV3;model/quant_block_0_project/Conv2D |       [64, 68, 70]      |         65,536 |   524,288 |     576 |\n",
            "|                           model/quant_block_0_add/add                            |       [64, 70, 71]      |         49,152 |    16,384 |       0 |\n",
            "|                        model/quant_block_1_adjust/Conv2D                         |         [71, 73]        |         40,960 |   393,216 |     480 |\n",
            "| model/quant_block_1_expand_relu/Relu;m...onv2D;model/quant_block_1_expand/Conv2D |       [71, 73, 75]      |        139,264 | 1,572,864 |   1,920 |\n",
            "| model/quant_block_1_depthwise_relu/Rel...model/quant_block_1_depthwise/depthwise |       [73, 75, 77]      |        221,184 |   884,736 |   1,248 |\n",
            "| model/quant_block_1_project_BN/FusedBa...nv2D;model/quant_block_1_project/Conv2D |       [73, 77, 79]      |        147,456 | 2,359,296 |   2,400 |\n",
            "|                           model/quant_block_1_add/add                            |       [73, 79, 80]      |         73,728 |    24,576 |       0 |\n",
            "| model/quant_block_2_expand_relu/Relu;m...hwise;model/quant_block_2_expand/Conv2D |         [80, 82]        |        172,032 | 3,538,944 |   4,032 |\n",
            "| model/quant_block_2_depthwise_relu/Rel...model/quant_block_2_depthwise/depthwise |       [80, 82, 84]      |        319,488 | 1,327,104 |   1,872 |\n",
            "| model/quant_block_2_project_BN/FusedBa...rmV3;model/quant_block_2_project/Conv2D |       [80, 84, 86]      |        196,608 | 3,538,944 |   3,552 |\n",
            "|                           model/quant_block_2_add/add                            |       [80, 86, 87]      |         73,728 |    24,576 |       0 |\n",
            "| model/quant_block_3_expand_relu/Relu;m...hwise;model/quant_block_3_expand/Conv2D |         [87, 89]        |        172,032 | 3,538,944 |   4,032 |\n",
            "| model/quant_block_3_depthwise_relu/Rel...model/quant_block_3_depthwise/depthwise |         [89, 91]        |        184,320 |   331,776 |   1,872 |\n",
            "| model/quant_block_3_project_BN/FusedBa...nv2D;model/quant_block_3_project/Conv2D |         [91, 93]        |         45,056 | 1,179,648 |   4,736 |\n",
            "| model/quant_block_4_expand_relu/Relu;m...hwise;model/quant_block_4_expand/Conv2D |         [93, 95]        |         57,344 | 1,572,864 |   6,912 |\n",
            "| model/quant_block_4_depthwise_relu/Rel...model/quant_block_4_depthwise/depthwise |       [93, 95, 97]      |        106,496 |   442,368 |   2,496 |\n",
            "| model/quant_block_4_project_BN/FusedBa...nv2D;model/quant_block_4_project/Conv2D |       [93, 97, 99]      |         65,536 | 1,572,864 |   6,272 |\n",
            "|                           model/quant_block_4_add/add                            |      [93, 99, 100]      |         24,576 |     8,192 |       0 |\n",
            "| model/quant_block_5_expand_relu/Relu;m...hwise;model/quant_block_5_expand/Conv2D |        [100, 102]       |         57,344 | 1,572,864 |   6,912 |\n",
            "| model/quant_block_5_depthwise_relu/Rel...model/quant_block_5_depthwise/depthwise |     [100, 102, 104]     |        106,496 |   442,368 |   2,496 |\n",
            "| model/quant_block_5_project_BN/FusedBa...rmV3;model/quant_block_5_project/Conv2D |     [100, 104, 106]     |         65,536 | 1,572,864 |   6,272 |\n",
            "|                           model/quant_block_5_add/add                            |     [100, 106, 107]     |         24,576 |     8,192 |       0 |\n",
            "| model/quant_block_6_expand_relu/Relu;m...hwise;model/quant_block_6_expand/Conv2D |        [107, 109]       |         57,344 | 1,572,864 |   6,912 |\n",
            "| model/quant_block_6_depthwise_relu/Rel...model/quant_block_6_depthwise/depthwise |        [109, 111]       |         61,440 |   110,592 |   2,496 |\n",
            "| model/quant_block_6_project_BN/FusedBa...nv2D;model/quant_block_6_project/Conv2D |        [111, 113]       |         16,384 |   786,432 |  12,544 |\n",
            "| model/quant_block_7_expand_relu/Relu;m...hwise;model/quant_block_7_expand/Conv2D |        [113, 115]       |         28,672 | 1,572,864 |  26,112 |\n",
            "| model/quant_block_7_depthwise_relu/Rel...model/quant_block_7_depthwise/depthwise |     [113, 115, 117]     |         53,248 |   221,184 |   4,992 |\n",
            "| model/quant_block_7_project_BN/FusedBa...nv2D;model/quant_block_7_project/Conv2D |     [113, 117, 119]     |         32,768 | 1,572,864 |  24,832 |\n",
            "|                           model/quant_block_7_add/add                            |     [113, 119, 120]     |         12,288 |     4,096 |       0 |\n",
            "| model/quant_block_8_expand_relu/Relu;m...hwise;model/quant_block_8_expand/Conv2D |        [120, 122]       |         28,672 | 1,572,864 |  26,112 |\n",
            "| model/quant_block_8_depthwise_relu/Rel...model/quant_block_8_depthwise/depthwise |     [120, 122, 124]     |         53,248 |   221,184 |   4,992 |\n",
            "| model/quant_block_8_project_BN/FusedBa...nv2D;model/quant_block_8_project/Conv2D |     [120, 124, 126]     |         32,768 | 1,572,864 |  24,832 |\n",
            "|                           model/quant_block_8_add/add                            |     [120, 126, 127]     |         12,288 |     4,096 |       0 |\n",
            "| model/quant_block_9_expand_relu/Relu;m...hwise;model/quant_block_9_expand/Conv2D |        [129, 127]       |         28,672 | 1,572,864 |  26,112 |\n",
            "| model/quant_block_9_depthwise_relu/Rel...model/quant_block_9_depthwise/depthwise |     [129, 131, 127]     |         53,248 |   221,184 |   4,992 |\n",
            "| model/quant_block_9_project_BN/FusedBa...rmV3;model/quant_block_9_project/Conv2D |     [131, 133, 127]     |         32,768 | 1,572,864 |  24,832 |\n",
            "|                           model/quant_block_9_add/add                            |     [133, 134, 127]     |         12,288 |     4,096 |       0 |\n",
            "|                        model/quant_block_10_adjust/Conv2D                        |        [134, 136]       |         10,240 |   393,216 |   6,528 |\n",
            "| model/quant_block_10_expand_relu/Relu;...wise;model/quant_block_10_expand/Conv2D |     [134, 136, 138]     |         34,816 | 1,572,864 |  26,112 |\n",
            "| model/quant_block_10_depthwise_relu/Re...odel/quant_block_10_depthwise/depthwise |     [136, 138, 140]     |         55,296 |   221,184 |   4,992 |\n",
            "| model/quant_block_10_project_BN/FusedB...v2D;model/quant_block_10_project/Conv2D |     [136, 140, 142]     |         36,864 | 2,359,296 |  37,248 |\n",
            "|                           model/quant_block_10_add/add                           |     [136, 142, 143]     |         18,432 |     6,144 |       0 |\n",
            "| model/quant_block_11_expand_relu/Relu;...wise;model/quant_block_11_expand/Conv2D |        [143, 145]       |         43,008 | 3,538,944 |  57,600 |\n",
            "| model/quant_block_11_depthwise_relu/Re...odel/quant_block_11_depthwise/depthwise |     [143, 145, 147]     |         79,872 |   331,776 |   7,488 |\n",
            "| model/quant_block_11_project_BN/FusedB...v2D;model/quant_block_11_project/Conv2D |     [143, 147, 149]     |         49,152 | 3,538,944 |  55,680 |\n",
            "|                           model/quant_block_11_add/add                           |     [143, 149, 150]     |         18,432 |     6,144 |       0 |\n",
            "| model/quant_block_12_expand_relu/Relu;...wise;model/quant_block_12_expand/Conv2D |        [150, 152]       |         43,008 | 3,538,944 |  57,600 |\n",
            "| model/quant_block_12_depthwise_relu/Re...odel/quant_block_12_depthwise/depthwise |     [150, 152, 154]     |         79,872 |   331,776 |   7,488 |\n",
            "| model/quant_block_12_project_BN/FusedB...mV3;model/quant_block_12_project/Conv2D |     [150, 154, 156]     |         49,152 | 3,538,944 |  55,680 |\n",
            "|                           model/quant_block_12_add/add                           |     [150, 156, 157]     |         18,432 |     6,144 |       0 |\n",
            "| model/quant_block_13_expand_relu/Relu;...wise;model/quant_block_13_expand/Conv2D |        [157, 159]       |         43,008 | 3,538,944 |  57,600 |\n",
            "| model/quant_block_13_depthwise_relu/Re...odel/quant_block_13_depthwise/depthwise |        [159, 161]       |         46,080 |    82,944 |   7,488 |\n",
            "| model/quant_block_13_project_BN/FusedB...v2D;model/quant_block_13_project/Conv2D |        [161, 163]       |         11,776 | 1,474,560 |  92,800 |\n",
            "| model/quant_block_14_expand_relu/Relu;...wise;model/quant_block_14_expand/Conv2D |        [163, 165]       |         17,920 | 2,457,600 | 157,440 |\n",
            "| model/quant_block_14_depthwise_relu/Re...odel/quant_block_14_depthwise/depthwise |     [163, 165, 167]     |         33,280 |   138,240 |  12,480 |\n",
            "| model/quant_block_14_project_BN/FusedB...v2D;model/quant_block_14_project/Conv2D |     [163, 167, 169]     |         20,480 | 2,457,600 | 154,240 |\n",
            "|                           model/quant_block_14_add/add                           |     [163, 169, 170]     |          7,680 |     2,560 |       0 |\n",
            "| model/quant_block_15_expand_relu/Relu;...wise;model/quant_block_15_expand/Conv2D |        [170, 172]       |         17,920 | 2,457,600 | 157,440 |\n",
            "| model/quant_block_15_depthwise_relu/Re...odel/quant_block_15_depthwise/depthwise |     [170, 172, 174]     |         33,280 |   138,240 |  12,480 |\n",
            "| model/quant_block_15_project_BN/FusedB...mV3;model/quant_block_15_project/Conv2D |     [170, 174, 176]     |         20,480 | 2,457,600 | 154,240 |\n",
            "|                           model/quant_block_15_add/add                           |     [170, 176, 177]     |          7,680 |     2,560 |       0 |\n",
            "|                        model/quant_block_16_adjust/Conv2D                        |        [177, 179]       |          7,680 |   819,200 |  52,480 |\n",
            "| model/quant_block_16_expand_relu/Relu;...wise;model/quant_block_16_expand/Conv2D |     [177, 179, 181]     |         23,040 | 2,457,600 | 157,440 |\n",
            "| model/quant_block_16_depthwise_relu/Re...odel/quant_block_16_depthwise/depthwise |     [179, 181, 183]     |         35,840 |   138,240 |  12,480 |\n",
            "| model/quant_block_16_project_BN/FusedB...mV3;model/quant_block_16_project/Conv2D |     [179, 183, 185]     |         25,600 | 4,915,200 | 308,480 |\n",
            "|                           model/quant_block_16_add/add                           |     [179, 185, 186]     |         15,360 |     5,120 |       0 |\n",
            "| model/quant_out_relu/Relu;model/quant_...edBatchNormV3;model/quant_Conv_1/Conv2D |        [186, 188]       |         25,600 | 6,553,600 | 414,720 |\n",
            "|                    model/quant_global_average_pooling2d/Mean                     |        [188, 189]       |         21,760 |    20,480 |       8 |\n",
            "|          model/quant_predictions/MatMul;model/quant_predictions/BiasAdd          |        [189, 191]       |          1,290 |    12,800 |  12,840 |\n",
            "|                            StatefulPartitionedCall:0                             |        [192, 191]       |             50 |         0 |       0 |\n",
            "+----------------------------------------------------------------------------------+-------------------------+----------------+-----------+---------+\n",
            "Current peak memory usage: 319,488 B\n",
            "Total MACs: 91,298,304\n",
            "Total weight size: 2,332,048\n",
            "\n"
          ]
        }
      ]
    },
    {
      "cell_type": "code",
      "source": [
        "!python tflite_tools/tflite_tools.py -i /content/models/model_quant_dr.tflite --calc-macs --calc-size"
      ],
      "metadata": {
        "colab": {
          "base_uri": "https://localhost:8080/"
        },
        "id": "3zbI-UY417Bs",
        "outputId": "133324ed-9ba0-489d-b42f-b2b76d7eb18e"
      },
      "execution_count": 49,
      "outputs": [
        {
          "output_type": "stream",
          "name": "stdout",
          "text": [
            "Tensor information (weights excluded):\n",
            "+-----+----------------------------------------------------------------------------------+------------------+-----------------+\n",
            "|  Id |                                      Tensor                                      |      Shape       | Size in RAM (B) |\n",
            "+-----+----------------------------------------------------------------------------------+------------------+-----------------+\n",
            "|   0 |                            serving_default_input_1:0                             |  (1, 32, 32, 3)  |          12,288 |\n",
            "| 118 | model/Conv1_relu/Relu;model/bn_Conv1/F...ock_5_project/Conv2D;model/Conv1/Conv2D | (1, 32, 32, 32)  |         131,072 |\n",
            "| 119 |                           model/block_0_adjust/Conv2D1                           | (1, 32, 32, 16)  |          65,536 |\n",
            "| 120 | model/block_0_expand_relu/Relu;model/b...ject/Conv2D;model/block_0_expand/Conv2D | (1, 32, 32, 32)  |         131,072 |\n",
            "| 121 | model/block_0_depthwise_relu/Relu;mode...onv2D;model/block_0_depthwise/depthwise | (1, 32, 32, 32)  |         131,072 |\n",
            "| 122 |      model/block_0_project_BN/FusedBatchNormV3;model/block_0_project/Conv2D      | (1, 32, 32, 16)  |          65,536 |\n",
            "| 123 |                              model/block_0_add/add                               | (1, 32, 32, 16)  |          65,536 |\n",
            "| 124 |                           model/block_1_adjust/Conv2D1                           | (1, 32, 32, 24)  |          98,304 |\n",
            "| 125 | model/block_1_expand_relu/Relu;model/b...ject/Conv2D;model/block_1_expand/Conv2D | (1, 32, 32, 96)  |         393,216 |\n",
            "| 126 | model/block_1_depthwise_relu/Relu;mode...onv2D;model/block_1_depthwise/depthwise | (1, 32, 32, 96)  |         393,216 |\n",
            "| 127 | model/block_1_project_BN/FusedBatchNor...ect/Conv2D;model/block_1_project/Conv2D | (1, 32, 32, 24)  |          98,304 |\n",
            "| 128 |                              model/block_1_add/add                               | (1, 32, 32, 24)  |          98,304 |\n",
            "| 129 | model/block_2_expand_relu/Relu;model/b...e/depthwise;model/block_2_expand/Conv2D | (1, 32, 32, 144) |         589,824 |\n",
            "| 130 | model/block_2_depthwise_relu/Relu;mode...hwise;model/block_2_depthwise/depthwise | (1, 32, 32, 144) |         589,824 |\n",
            "| 131 |      model/block_2_project_BN/FusedBatchNormV3;model/block_2_project/Conv2D      | (1, 32, 32, 24)  |          98,304 |\n",
            "| 132 |                              model/block_2_add/add                               | (1, 32, 32, 24)  |          98,304 |\n",
            "| 133 | model/block_3_expand_relu/Relu;model/b...e/depthwise;model/block_3_expand/Conv2D | (1, 32, 32, 144) |         589,824 |\n",
            "| 134 | model/block_3_depthwise_relu/Relu;mode...ormV3;model/block_3_depthwise/depthwise | (1, 16, 16, 144) |         147,456 |\n",
            "| 135 | model/block_3_project_BN/FusedBatchNor...ect/Conv2D;model/block_3_project/Conv2D | (1, 16, 16, 32)  |          32,768 |\n",
            "| 136 | model/block_4_expand_relu/Relu;model/b...e/depthwise;model/block_4_expand/Conv2D | (1, 16, 16, 192) |         196,608 |\n",
            "| 137 | model/block_4_depthwise_relu/Relu;mode...hwise;model/block_4_depthwise/depthwise | (1, 16, 16, 192) |         196,608 |\n",
            "| 138 | model/block_4_project_BN/FusedBatchNor...ect/Conv2D;model/block_4_project/Conv2D | (1, 16, 16, 32)  |          32,768 |\n",
            "| 139 |                              model/block_4_add/add                               | (1, 16, 16, 32)  |          32,768 |\n",
            "| 140 | model/block_5_expand_relu/Relu;model/b...e/depthwise;model/block_5_expand/Conv2D | (1, 16, 16, 192) |         196,608 |\n",
            "| 141 | model/block_5_depthwise_relu/Relu;mode...hwise;model/block_5_depthwise/depthwise | (1, 16, 16, 192) |         196,608 |\n",
            "| 142 |      model/block_5_project_BN/FusedBatchNormV3;model/block_5_project/Conv2D      | (1, 16, 16, 32)  |          32,768 |\n",
            "| 143 |                              model/block_5_add/add                               | (1, 16, 16, 32)  |          32,768 |\n",
            "| 144 | model/block_6_expand_relu/Relu;model/b...e/depthwise;model/block_6_expand/Conv2D | (1, 16, 16, 192) |         196,608 |\n",
            "| 145 | model/block_6_depthwise_relu/Relu;mode...ormV3;model/block_6_depthwise/depthwise |  (1, 8, 8, 192)  |          49,152 |\n",
            "| 146 | model/block_6_project_BN/FusedBatchNor...ect/Conv2D;model/block_6_project/Conv2D |  (1, 8, 8, 64)   |          16,384 |\n",
            "| 147 | model/block_7_expand_relu/Relu;model/b...e/depthwise;model/block_7_expand/Conv2D |  (1, 8, 8, 384)  |          98,304 |\n",
            "| 148 | model/block_7_depthwise_relu/Relu;mode...hwise;model/block_7_depthwise/depthwise |  (1, 8, 8, 384)  |          98,304 |\n",
            "| 149 | model/block_7_project_BN/FusedBatchNor...ect/Conv2D;model/block_7_project/Conv2D |  (1, 8, 8, 64)   |          16,384 |\n",
            "| 150 |                              model/block_7_add/add                               |  (1, 8, 8, 64)   |          16,384 |\n",
            "| 151 | model/block_8_expand_relu/Relu;model/b...e/depthwise;model/block_8_expand/Conv2D |  (1, 8, 8, 384)  |          98,304 |\n",
            "| 152 | model/block_8_depthwise_relu/Relu;mode...hwise;model/block_8_depthwise/depthwise |  (1, 8, 8, 384)  |          98,304 |\n",
            "| 153 | model/block_8_project_BN/FusedBatchNor...ect/Conv2D;model/block_8_project/Conv2D |  (1, 8, 8, 64)   |          16,384 |\n",
            "| 154 |                              model/block_8_add/add                               |  (1, 8, 8, 64)   |          16,384 |\n",
            "| 155 | model/block_9_expand_relu/Relu;model/b...e/depthwise;model/block_9_expand/Conv2D |  (1, 8, 8, 384)  |          98,304 |\n",
            "| 156 | model/block_9_depthwise_relu/Relu;mode...hwise;model/block_9_depthwise/depthwise |  (1, 8, 8, 384)  |          98,304 |\n",
            "| 157 |      model/block_9_project_BN/FusedBatchNormV3;model/block_9_project/Conv2D      |  (1, 8, 8, 64)   |          16,384 |\n",
            "| 158 |                              model/block_9_add/add                               |  (1, 8, 8, 64)   |          16,384 |\n",
            "| 159 |                          model/block_10_adjust/Conv2D1                           |  (1, 8, 8, 96)   |          24,576 |\n",
            "| 160 | model/block_10_expand_relu/Relu;model/.../depthwise;model/block_10_expand/Conv2D |  (1, 8, 8, 384)  |          98,304 |\n",
            "| 161 | model/block_10_depthwise_relu/Relu;mod...rmV3;model/block_10_depthwise/depthwise |  (1, 8, 8, 384)  |          98,304 |\n",
            "| 162 | model/block_10_project_BN/FusedBatchNo...ct/Conv2D;model/block_10_project/Conv2D |  (1, 8, 8, 96)   |          24,576 |\n",
            "| 163 |                              model/block_10_add/add                              |  (1, 8, 8, 96)   |          24,576 |\n",
            "| 164 | model/block_11_expand_relu/Relu;model/.../depthwise;model/block_11_expand/Conv2D |  (1, 8, 8, 576)  |         147,456 |\n",
            "| 165 | model/block_11_depthwise_relu/Relu;mod...wise;model/block_11_depthwise/depthwise |  (1, 8, 8, 576)  |         147,456 |\n",
            "| 166 | model/block_11_project_BN/FusedBatchNo...ct/Conv2D;model/block_11_project/Conv2D |  (1, 8, 8, 96)   |          24,576 |\n",
            "| 167 |                              model/block_11_add/add                              |  (1, 8, 8, 96)   |          24,576 |\n",
            "| 168 | model/block_12_expand_relu/Relu;model/.../depthwise;model/block_12_expand/Conv2D |  (1, 8, 8, 576)  |         147,456 |\n",
            "| 169 | model/block_12_depthwise_relu/Relu;mod...wise;model/block_12_depthwise/depthwise |  (1, 8, 8, 576)  |         147,456 |\n",
            "| 170 |     model/block_12_project_BN/FusedBatchNormV3;model/block_12_project/Conv2D     |  (1, 8, 8, 96)   |          24,576 |\n",
            "| 171 |                              model/block_12_add/add                              |  (1, 8, 8, 96)   |          24,576 |\n",
            "| 172 | model/block_13_expand_relu/Relu;model/.../depthwise;model/block_13_expand/Conv2D |  (1, 8, 8, 576)  |         147,456 |\n",
            "| 173 | model/block_13_depthwise_relu/Relu;mod...rmV3;model/block_13_depthwise/depthwise |  (1, 4, 4, 576)  |          36,864 |\n",
            "| 174 | model/block_13_project_BN/FusedBatchNo...ct/Conv2D;model/block_13_project/Conv2D |  (1, 4, 4, 160)  |          10,240 |\n",
            "| 175 | model/block_14_expand_relu/Relu;model/.../depthwise;model/block_14_expand/Conv2D |  (1, 4, 4, 960)  |          61,440 |\n",
            "| 176 | model/block_14_depthwise_relu/Relu;mod...wise;model/block_14_depthwise/depthwise |  (1, 4, 4, 960)  |          61,440 |\n",
            "| 177 | model/block_14_project_BN/FusedBatchNo...ct/Conv2D;model/block_14_project/Conv2D |  (1, 4, 4, 160)  |          10,240 |\n",
            "| 178 |                              model/block_14_add/add                              |  (1, 4, 4, 160)  |          10,240 |\n",
            "| 179 | model/block_15_expand_relu/Relu;model/.../depthwise;model/block_15_expand/Conv2D |  (1, 4, 4, 960)  |          61,440 |\n",
            "| 180 | model/block_15_depthwise_relu/Relu;mod...wise;model/block_15_depthwise/depthwise |  (1, 4, 4, 960)  |          61,440 |\n",
            "| 181 |     model/block_15_project_BN/FusedBatchNormV3;model/block_15_project/Conv2D     |  (1, 4, 4, 160)  |          10,240 |\n",
            "| 182 |                              model/block_15_add/add                              |  (1, 4, 4, 160)  |          10,240 |\n",
            "| 183 |                          model/block_16_adjust/Conv2D1                           |  (1, 4, 4, 320)  |          20,480 |\n",
            "| 184 | model/block_16_expand_relu/Relu;model/.../depthwise;model/block_16_expand/Conv2D |  (1, 4, 4, 960)  |          61,440 |\n",
            "| 185 | model/block_16_depthwise_relu/Relu;mod...rmV3;model/block_16_depthwise/depthwise |  (1, 4, 4, 960)  |          61,440 |\n",
            "| 186 |     model/block_16_project_BN/FusedBatchNormV3;model/block_16_project/Conv2D     |  (1, 4, 4, 320)  |          20,480 |\n",
            "| 187 |                              model/block_16_add/add                              |  (1, 4, 4, 320)  |          20,480 |\n",
            "| 188 |     model/out_relu/Relu;model/Conv_1_bn/FusedBatchNormV3;model/Conv_1/Conv2D     | (1, 4, 4, 1280)  |          81,920 |\n",
            "| 189 |                       model/global_average_pooling2d/Mean                        |    (1, 1280)     |           5,120 |\n",
            "| 190 |                            StatefulPartitionedCall:0                             |     (1, 10)      |              40 |\n",
            "+-----+----------------------------------------------------------------------------------+------------------+-----------------+\n",
            "\n",
            "Operator execution schedule:\n",
            "+----------------------------------------------------------------------------------+-------------------------+----------------+-----------+---------+\n",
            "|                              Operator (output name)                              | Tensors in memory (IDs) | Memory use (B) |      MACs |    Size |\n",
            "+----------------------------------------------------------------------------------+-------------------------+----------------+-----------+---------+\n",
            "| model/Conv1_relu/Relu;model/bn_Conv1/F...ock_5_project/Conv2D;model/Conv1/Conv2D |         [0, 118]        |        143,360 |   884,736 |   3,584 |\n",
            "|                           model/block_0_adjust/Conv2D1                           |        [118, 119]       |        196,608 |   524,288 |   2,112 |\n",
            "| model/block_0_expand_relu/Relu;model/b...ject/Conv2D;model/block_0_expand/Conv2D |     [118, 119, 120]     |        327,680 | 1,048,576 |   1,152 |\n",
            "| model/block_0_depthwise_relu/Relu;mode...onv2D;model/block_0_depthwise/depthwise |     [119, 120, 121]     |        327,680 |   294,912 |   1,280 |\n",
            "|      model/block_0_project_BN/FusedBatchNormV3;model/block_0_project/Conv2D      |     [119, 121, 122]     |        262,144 |   524,288 |   2,112 |\n",
            "|                              model/block_0_add/add                               |     [119, 122, 123]     |        196,608 |    16,384 |       0 |\n",
            "|                           model/block_1_adjust/Conv2D1                           |        [123, 124]       |        163,840 |   393,216 |   1,632 |\n",
            "| model/block_1_expand_relu/Relu;model/b...ject/Conv2D;model/block_1_expand/Conv2D |     [123, 124, 125]     |        557,056 | 1,572,864 |   1,920 |\n",
            "| model/block_1_depthwise_relu/Relu;mode...onv2D;model/block_1_depthwise/depthwise |     [124, 125, 126]     |        884,736 |   884,736 |   3,840 |\n",
            "| model/block_1_project_BN/FusedBatchNor...ect/Conv2D;model/block_1_project/Conv2D |     [124, 126, 127]     |        589,824 | 2,359,296 |   2,400 |\n",
            "|                              model/block_1_add/add                               |     [124, 127, 128]     |        294,912 |    24,576 |       0 |\n",
            "| model/block_2_expand_relu/Relu;model/b...e/depthwise;model/block_2_expand/Conv2D |        [128, 129]       |        688,128 | 3,538,944 |   4,032 |\n",
            "| model/block_2_depthwise_relu/Relu;mode...hwise;model/block_2_depthwise/depthwise |     [128, 129, 130]     |      1,277,952 | 1,327,104 |   1,872 |\n",
            "|      model/block_2_project_BN/FusedBatchNormV3;model/block_2_project/Conv2D      |     [128, 130, 131]     |        786,432 | 3,538,944 |   3,552 |\n",
            "|                              model/block_2_add/add                               |     [128, 131, 132]     |        294,912 |    24,576 |       0 |\n",
            "| model/block_3_expand_relu/Relu;model/b...e/depthwise;model/block_3_expand/Conv2D |        [132, 133]       |        688,128 | 3,538,944 |   4,032 |\n",
            "| model/block_3_depthwise_relu/Relu;mode...ormV3;model/block_3_depthwise/depthwise |        [133, 134]       |        737,280 |   331,776 |   1,872 |\n",
            "| model/block_3_project_BN/FusedBatchNor...ect/Conv2D;model/block_3_project/Conv2D |        [134, 135]       |        180,224 | 1,179,648 |   4,736 |\n",
            "| model/block_4_expand_relu/Relu;model/b...e/depthwise;model/block_4_expand/Conv2D |        [135, 136]       |        229,376 | 1,572,864 |   6,912 |\n",
            "| model/block_4_depthwise_relu/Relu;mode...hwise;model/block_4_depthwise/depthwise |     [135, 136, 137]     |        425,984 |   442,368 |   2,496 |\n",
            "| model/block_4_project_BN/FusedBatchNor...ect/Conv2D;model/block_4_project/Conv2D |     [135, 137, 138]     |        262,144 | 1,572,864 |   6,272 |\n",
            "|                              model/block_4_add/add                               |     [135, 138, 139]     |         98,304 |     8,192 |       0 |\n",
            "| model/block_5_expand_relu/Relu;model/b...e/depthwise;model/block_5_expand/Conv2D |        [139, 140]       |        229,376 | 1,572,864 |   6,912 |\n",
            "| model/block_5_depthwise_relu/Relu;mode...hwise;model/block_5_depthwise/depthwise |     [139, 140, 141]     |        425,984 |   442,368 |   2,496 |\n",
            "|      model/block_5_project_BN/FusedBatchNormV3;model/block_5_project/Conv2D      |     [139, 141, 142]     |        262,144 | 1,572,864 |   6,272 |\n",
            "|                              model/block_5_add/add                               |     [139, 142, 143]     |         98,304 |     8,192 |       0 |\n",
            "| model/block_6_expand_relu/Relu;model/b...e/depthwise;model/block_6_expand/Conv2D |        [143, 144]       |        229,376 | 1,572,864 |   6,912 |\n",
            "| model/block_6_depthwise_relu/Relu;mode...ormV3;model/block_6_depthwise/depthwise |        [144, 145]       |        245,760 |   110,592 |   2,496 |\n",
            "| model/block_6_project_BN/FusedBatchNor...ect/Conv2D;model/block_6_project/Conv2D |        [145, 146]       |         65,536 |   786,432 |  12,544 |\n",
            "| model/block_7_expand_relu/Relu;model/b...e/depthwise;model/block_7_expand/Conv2D |        [146, 147]       |        114,688 | 1,572,864 |  26,112 |\n",
            "| model/block_7_depthwise_relu/Relu;mode...hwise;model/block_7_depthwise/depthwise |     [146, 147, 148]     |        212,992 |   221,184 |   4,992 |\n",
            "| model/block_7_project_BN/FusedBatchNor...ect/Conv2D;model/block_7_project/Conv2D |     [146, 148, 149]     |        131,072 | 1,572,864 |  24,832 |\n",
            "|                              model/block_7_add/add                               |     [146, 149, 150]     |         49,152 |     4,096 |       0 |\n",
            "| model/block_8_expand_relu/Relu;model/b...e/depthwise;model/block_8_expand/Conv2D |        [150, 151]       |        114,688 | 1,572,864 |  26,112 |\n",
            "| model/block_8_depthwise_relu/Relu;mode...hwise;model/block_8_depthwise/depthwise |     [150, 151, 152]     |        212,992 |   221,184 |   4,992 |\n",
            "| model/block_8_project_BN/FusedBatchNor...ect/Conv2D;model/block_8_project/Conv2D |     [150, 152, 153]     |        131,072 | 1,572,864 |  24,832 |\n",
            "|                              model/block_8_add/add                               |     [150, 153, 154]     |         49,152 |     4,096 |       0 |\n",
            "| model/block_9_expand_relu/Relu;model/b...e/depthwise;model/block_9_expand/Conv2D |        [154, 155]       |        114,688 | 1,572,864 |  26,112 |\n",
            "| model/block_9_depthwise_relu/Relu;mode...hwise;model/block_9_depthwise/depthwise |     [154, 155, 156]     |        212,992 |   221,184 |   4,992 |\n",
            "|      model/block_9_project_BN/FusedBatchNormV3;model/block_9_project/Conv2D      |     [154, 156, 157]     |        131,072 | 1,572,864 |  24,832 |\n",
            "|                              model/block_9_add/add                               |     [154, 157, 158]     |         49,152 |     4,096 |       0 |\n",
            "|                          model/block_10_adjust/Conv2D1                           |        [158, 159]       |         40,960 |   393,216 |   6,528 |\n",
            "| model/block_10_expand_relu/Relu;model/.../depthwise;model/block_10_expand/Conv2D |     [158, 159, 160]     |        139,264 | 1,572,864 |  26,112 |\n",
            "| model/block_10_depthwise_relu/Relu;mod...rmV3;model/block_10_depthwise/depthwise |     [159, 160, 161]     |        221,184 |   221,184 |   4,992 |\n",
            "| model/block_10_project_BN/FusedBatchNo...ct/Conv2D;model/block_10_project/Conv2D |     [159, 161, 162]     |        147,456 | 2,359,296 |  37,248 |\n",
            "|                              model/block_10_add/add                              |     [159, 162, 163]     |         73,728 |     6,144 |       0 |\n",
            "| model/block_11_expand_relu/Relu;model/.../depthwise;model/block_11_expand/Conv2D |        [163, 164]       |        172,032 | 3,538,944 |  57,600 |\n",
            "| model/block_11_depthwise_relu/Relu;mod...wise;model/block_11_depthwise/depthwise |     [163, 164, 165]     |        319,488 |   331,776 |   7,488 |\n",
            "| model/block_11_project_BN/FusedBatchNo...ct/Conv2D;model/block_11_project/Conv2D |     [163, 165, 166]     |        196,608 | 3,538,944 |  55,680 |\n",
            "|                              model/block_11_add/add                              |     [163, 166, 167]     |         73,728 |     6,144 |       0 |\n",
            "| model/block_12_expand_relu/Relu;model/.../depthwise;model/block_12_expand/Conv2D |        [167, 168]       |        172,032 | 3,538,944 |  57,600 |\n",
            "| model/block_12_depthwise_relu/Relu;mod...wise;model/block_12_depthwise/depthwise |     [167, 168, 169]     |        319,488 |   331,776 |   7,488 |\n",
            "|     model/block_12_project_BN/FusedBatchNormV3;model/block_12_project/Conv2D     |     [167, 169, 170]     |        196,608 | 3,538,944 |  55,680 |\n",
            "|                              model/block_12_add/add                              |     [167, 170, 171]     |         73,728 |     6,144 |       0 |\n",
            "| model/block_13_expand_relu/Relu;model/.../depthwise;model/block_13_expand/Conv2D |        [171, 172]       |        172,032 | 3,538,944 |  57,600 |\n",
            "| model/block_13_depthwise_relu/Relu;mod...rmV3;model/block_13_depthwise/depthwise |        [172, 173]       |        184,320 |    82,944 |   7,488 |\n",
            "| model/block_13_project_BN/FusedBatchNo...ct/Conv2D;model/block_13_project/Conv2D |        [173, 174]       |         47,104 | 1,474,560 |  92,800 |\n",
            "| model/block_14_expand_relu/Relu;model/.../depthwise;model/block_14_expand/Conv2D |        [174, 175]       |         71,680 | 2,457,600 | 157,440 |\n",
            "| model/block_14_depthwise_relu/Relu;mod...wise;model/block_14_depthwise/depthwise |     [174, 175, 176]     |        133,120 |   138,240 |  12,480 |\n",
            "| model/block_14_project_BN/FusedBatchNo...ct/Conv2D;model/block_14_project/Conv2D |     [174, 176, 177]     |         81,920 | 2,457,600 | 154,240 |\n",
            "|                              model/block_14_add/add                              |     [174, 177, 178]     |         30,720 |     2,560 |       0 |\n",
            "| model/block_15_expand_relu/Relu;model/.../depthwise;model/block_15_expand/Conv2D |        [178, 179]       |         71,680 | 2,457,600 | 157,440 |\n",
            "| model/block_15_depthwise_relu/Relu;mod...wise;model/block_15_depthwise/depthwise |     [178, 179, 180]     |        133,120 |   138,240 |  12,480 |\n",
            "|     model/block_15_project_BN/FusedBatchNormV3;model/block_15_project/Conv2D     |     [178, 180, 181]     |         81,920 | 2,457,600 | 154,240 |\n",
            "|                              model/block_15_add/add                              |     [178, 181, 182]     |         30,720 |     2,560 |       0 |\n",
            "|                          model/block_16_adjust/Conv2D1                           |        [182, 183]       |         30,720 |   819,200 |  52,480 |\n",
            "| model/block_16_expand_relu/Relu;model/.../depthwise;model/block_16_expand/Conv2D |     [182, 183, 184]     |         92,160 | 2,457,600 | 157,440 |\n",
            "| model/block_16_depthwise_relu/Relu;mod...rmV3;model/block_16_depthwise/depthwise |     [183, 184, 185]     |        143,360 |   138,240 |  12,480 |\n",
            "|     model/block_16_project_BN/FusedBatchNormV3;model/block_16_project/Conv2D     |     [183, 185, 186]     |        102,400 | 4,915,200 | 308,480 |\n",
            "|                              model/block_16_add/add                              |     [183, 186, 187]     |         61,440 |     5,120 |       0 |\n",
            "|     model/out_relu/Relu;model/Conv_1_bn/FusedBatchNormV3;model/Conv_1/Conv2D     |        [188, 187]       |        102,400 | 6,553,600 | 414,720 |\n",
            "|                       model/global_average_pooling2d/Mean                        |        [188, 189]       |         87,040 |    20,480 |       8 |\n",
            "|                            StatefulPartitionedCall:0                             |        [190, 189]       |          5,160 |    12,800 |  12,840 |\n",
            "+----------------------------------------------------------------------------------+-------------------------+----------------+-----------+---------+\n",
            "Current peak memory usage: 1,277,952 B\n",
            "Total MACs: 91,298,304\n",
            "Total weight size: 2,342,320\n",
            "\n"
          ]
        }
      ]
    },
    {
      "cell_type": "code",
      "source": [
        "!python tflite_tools/tflite_tools.py -i /content/models/model_quant_fp16.tflite --calc-macs --calc-size"
      ],
      "metadata": {
        "colab": {
          "base_uri": "https://localhost:8080/"
        },
        "id": "2WCisQHB17Nc",
        "outputId": "02ea76ee-26c3-4ce5-8072-eff55f4907a3"
      },
      "execution_count": 48,
      "outputs": [
        {
          "output_type": "stream",
          "name": "stdout",
          "text": [
            "Tensor information (weights excluded):\n",
            "+-----+----------------------------------------------------------------------------------+-------------------+-----------------+\n",
            "|  Id |                                      Tensor                                      |       Shape       | Size in RAM (B) |\n",
            "+-----+----------------------------------------------------------------------------------+-------------------+-----------------+\n",
            "|   0 |                            serving_default_input_1:0                             |   (1, 32, 32, 3)  |          12,288 |\n",
            "| 118 |                         model/bn_Conv1/FusedBatchNormV31                         |       (32,)       |             128 |\n",
            "| 119 |                    model/block_0_expand_BN/FusedBatchNormV31                     |       (32,)       |             128 |\n",
            "| 120 |                   model/block_0_depthwise_BN/FusedBatchNormV31                   |       (32,)       |             128 |\n",
            "| 121 |                    model/block_1_expand_BN/FusedBatchNormV31                     |       (96,)       |             384 |\n",
            "| 122 |                   model/block_1_depthwise_BN/FusedBatchNormV31                   |       (96,)       |             384 |\n",
            "| 123 |                    model/block_2_expand_BN/FusedBatchNormV31                     |       (144,)      |             576 |\n",
            "| 124 |                   model/block_2_depthwise_BN/FusedBatchNormV31                   |       (144,)      |             576 |\n",
            "| 125 |                    model/block_3_expand_BN/FusedBatchNormV31                     |       (144,)      |             576 |\n",
            "| 126 |                   model/block_3_depthwise_BN/FusedBatchNormV31                   |       (144,)      |             576 |\n",
            "| 127 |                    model/block_4_expand_BN/FusedBatchNormV31                     |       (192,)      |             768 |\n",
            "| 128 |                   model/block_4_depthwise_BN/FusedBatchNormV31                   |       (192,)      |             768 |\n",
            "| 129 |                    model/block_5_expand_BN/FusedBatchNormV31                     |       (192,)      |             768 |\n",
            "| 130 |                   model/block_5_depthwise_BN/FusedBatchNormV31                   |       (192,)      |             768 |\n",
            "| 131 |                    model/block_6_expand_BN/FusedBatchNormV31                     |       (192,)      |             768 |\n",
            "| 132 |                   model/block_6_depthwise_BN/FusedBatchNormV31                   |       (192,)      |             768 |\n",
            "| 133 |                    model/block_7_expand_BN/FusedBatchNormV31                     |       (384,)      |           1,536 |\n",
            "| 134 |                   model/block_7_depthwise_BN/FusedBatchNormV31                   |       (384,)      |           1,536 |\n",
            "| 135 |                    model/block_8_expand_BN/FusedBatchNormV31                     |       (384,)      |           1,536 |\n",
            "| 136 |                   model/block_8_depthwise_BN/FusedBatchNormV31                   |       (384,)      |           1,536 |\n",
            "| 137 |                    model/block_9_expand_BN/FusedBatchNormV31                     |       (384,)      |           1,536 |\n",
            "| 138 |                   model/block_9_depthwise_BN/FusedBatchNormV31                   |       (384,)      |           1,536 |\n",
            "| 139 |                    model/block_10_expand_BN/FusedBatchNormV31                    |       (384,)      |           1,536 |\n",
            "| 140 |                  model/block_10_depthwise_BN/FusedBatchNormV31                   |       (384,)      |           1,536 |\n",
            "| 141 |                    model/block_11_expand_BN/FusedBatchNormV31                    |       (576,)      |           2,304 |\n",
            "| 142 |                  model/block_11_depthwise_BN/FusedBatchNormV31                   |       (576,)      |           2,304 |\n",
            "| 143 |                    model/block_12_expand_BN/FusedBatchNormV31                    |       (576,)      |           2,304 |\n",
            "| 144 |                  model/block_12_depthwise_BN/FusedBatchNormV31                   |       (576,)      |           2,304 |\n",
            "| 145 |                    model/block_13_expand_BN/FusedBatchNormV31                    |       (576,)      |           2,304 |\n",
            "| 146 |                  model/block_13_depthwise_BN/FusedBatchNormV31                   |       (576,)      |           2,304 |\n",
            "| 147 |                    model/block_14_expand_BN/FusedBatchNormV31                    |       (960,)      |           3,840 |\n",
            "| 148 |                  model/block_14_depthwise_BN/FusedBatchNormV31                   |       (960,)      |           3,840 |\n",
            "| 149 |                    model/block_15_expand_BN/FusedBatchNormV31                    |       (960,)      |           3,840 |\n",
            "| 150 |                  model/block_15_depthwise_BN/FusedBatchNormV31                   |       (960,)      |           3,840 |\n",
            "| 151 |                    model/block_16_expand_BN/FusedBatchNormV31                    |       (960,)      |           3,840 |\n",
            "| 152 |                  model/block_16_depthwise_BN/FusedBatchNormV31                   |       (960,)      |           3,840 |\n",
            "| 153 |                        model/Conv_1_bn/FusedBatchNormV31                         |      (1280,)      |           5,120 |\n",
            "| 154 | model/block_0_depthwise_BN/FusedBatchN...depthwise;model/block_5_project/Conv2D1 |   (1, 3, 3, 32)   |           1,152 |\n",
            "| 155 |                    model/block_0_project_BN/FusedBatchNormV31                    |       (16,)       |              64 |\n",
            "| 156 | model/block_1_depthwise_BN/FusedBatchN...epthwise;model/block_12_project/Conv2D1 |   (1, 3, 3, 96)   |           3,456 |\n",
            "| 157 |                          model/block_12_project/Conv2D2                          |       (96,)       |             384 |\n",
            "| 158 |                    model/block_1_project_BN/FusedBatchNormV31                    |       (24,)       |              96 |\n",
            "| 159 | model/block_2_depthwise_BN/FusedBatchN...wise;model/block_3_depthwise/depthwise1 |   (1, 3, 3, 144)  |           5,184 |\n",
            "| 160 |                    model/block_2_project_BN/FusedBatchNormV31                    |       (24,)       |              96 |\n",
            "| 161 |  model/block_3_depthwise_BN/FusedBatchNormV3;model/block_3_depthwise/depthwise1  |   (1, 3, 3, 144)  |           5,184 |\n",
            "| 162 |                    model/block_3_project_BN/FusedBatchNormV31                    |       (32,)       |             128 |\n",
            "| 163 | model/block_4_depthwise_BN/FusedBatchN...wise;model/block_6_depthwise/depthwise1 |   (1, 3, 3, 192)  |           6,912 |\n",
            "| 164 |                    model/block_4_project_BN/FusedBatchNormV31                    |       (32,)       |             128 |\n",
            "| 165 | model/block_5_depthwise_BN/FusedBatchN...wise;model/block_6_depthwise/depthwise1 |   (1, 3, 3, 192)  |           6,912 |\n",
            "| 166 |                    model/block_5_project_BN/FusedBatchNormV31                    |       (32,)       |             128 |\n",
            "| 167 |  model/block_6_depthwise_BN/FusedBatchNormV3;model/block_6_depthwise/depthwise1  |   (1, 3, 3, 192)  |           6,912 |\n",
            "| 168 |                    model/block_6_project_BN/FusedBatchNormV31                    |       (64,)       |             256 |\n",
            "| 169 | model/block_7_depthwise_BN/FusedBatchN...ise;model/block_10_depthwise/depthwise1 |   (1, 3, 3, 384)  |          13,824 |\n",
            "| 170 |                    model/block_7_project_BN/FusedBatchNormV31                    |       (64,)       |             256 |\n",
            "| 171 | model/block_8_depthwise_BN/FusedBatchN...ise;model/block_10_depthwise/depthwise1 |   (1, 3, 3, 384)  |          13,824 |\n",
            "| 172 |                    model/block_8_project_BN/FusedBatchNormV31                    |       (64,)       |             256 |\n",
            "| 173 | model/block_9_depthwise_BN/FusedBatchN...ise;model/block_10_depthwise/depthwise1 |   (1, 3, 3, 384)  |          13,824 |\n",
            "| 174 |                    model/block_9_project_BN/FusedBatchNormV31                    |       (64,)       |             256 |\n",
            "| 175 | model/block_10_depthwise_BN/FusedBatchNormV3;model/block_10_depthwise/depthwise1 |   (1, 3, 3, 384)  |          13,824 |\n",
            "| 176 |                   model/block_10_project_BN/FusedBatchNormV31                    |       (96,)       |             384 |\n",
            "| 177 | model/block_11_depthwise_BN/FusedBatch...ise;model/block_13_depthwise/depthwise1 |   (1, 3, 3, 576)  |          20,736 |\n",
            "| 178 |                   model/block_11_project_BN/FusedBatchNormV31                    |       (96,)       |             384 |\n",
            "| 179 | model/block_12_depthwise_BN/FusedBatch...ise;model/block_13_depthwise/depthwise1 |   (1, 3, 3, 576)  |          20,736 |\n",
            "| 180 |                   model/block_12_project_BN/FusedBatchNormV31                    |       (96,)       |             384 |\n",
            "| 181 | model/block_13_depthwise_BN/FusedBatchNormV3;model/block_13_depthwise/depthwise1 |   (1, 3, 3, 576)  |          20,736 |\n",
            "| 182 |                   model/block_13_project_BN/FusedBatchNormV31                    |       (160,)      |             640 |\n",
            "| 183 | model/block_14_depthwise_BN/FusedBatch...ise;model/block_16_depthwise/depthwise1 |   (1, 3, 3, 960)  |          34,560 |\n",
            "| 184 |                   model/block_14_project_BN/FusedBatchNormV31                    |       (160,)      |             640 |\n",
            "| 185 | model/block_15_depthwise_BN/FusedBatch...ise;model/block_16_depthwise/depthwise1 |   (1, 3, 3, 960)  |          34,560 |\n",
            "| 186 |                   model/block_15_project_BN/FusedBatchNormV31                    |       (160,)      |             640 |\n",
            "| 187 | model/block_16_depthwise_BN/FusedBatchNormV3;model/block_16_depthwise/depthwise1 |   (1, 3, 3, 960)  |          34,560 |\n",
            "| 188 |                   model/block_16_project_BN/FusedBatchNormV31                    |       (320,)      |           1,280 |\n",
            "| 189 |                               model/Conv1/Conv2D1                                |   (32, 3, 3, 3)   |           3,456 |\n",
            "| 190 |                          model/block_0_project/Conv2D2                           |       (16,)       |              64 |\n",
            "| 191 |                           model/block_0_adjust/Conv2D1                           |   (16, 1, 1, 32)  |           2,048 |\n",
            "| 192 |                           model/block_0_expand/Conv2D1                           |   (32, 1, 1, 32)  |           4,096 |\n",
            "| 193 |                          model/block_0_project/Conv2D3                           |   (16, 1, 1, 32)  |           2,048 |\n",
            "| 194 |                          model/block_2_project/Conv2D2                           |       (24,)       |              96 |\n",
            "| 195 |                           model/block_1_adjust/Conv2D1                           |   (24, 1, 1, 16)  |           1,536 |\n",
            "| 196 |                           model/block_1_expand/Conv2D1                           |   (96, 1, 1, 16)  |           6,144 |\n",
            "| 197 |                          model/block_1_project/Conv2D1                           |   (24, 1, 1, 96)  |           9,216 |\n",
            "| 198 |                           model/block_2_expand/Conv2D1                           |  (144, 1, 1, 24)  |          13,824 |\n",
            "| 199 |                          model/block_2_project/Conv2D3                           |  (24, 1, 1, 144)  |          13,824 |\n",
            "| 200 |                           model/block_3_expand/Conv2D1                           |  (144, 1, 1, 24)  |          13,824 |\n",
            "| 201 |                          model/block_3_project/Conv2D1                           |  (32, 1, 1, 144)  |          18,432 |\n",
            "| 202 |                           model/block_4_expand/Conv2D1                           |  (192, 1, 1, 32)  |          24,576 |\n",
            "| 203 |                          model/block_4_project/Conv2D1                           |  (32, 1, 1, 192)  |          24,576 |\n",
            "| 204 |                           model/block_5_expand/Conv2D1                           |  (192, 1, 1, 32)  |          24,576 |\n",
            "| 205 |                          model/block_5_project/Conv2D1                           |  (32, 1, 1, 192)  |          24,576 |\n",
            "| 206 |                           model/block_6_expand/Conv2D1                           |  (192, 1, 1, 32)  |          24,576 |\n",
            "| 207 |                          model/block_6_project/Conv2D1                           |  (64, 1, 1, 192)  |          49,152 |\n",
            "| 208 |                           model/block_7_expand/Conv2D1                           |  (384, 1, 1, 64)  |          98,304 |\n",
            "| 209 |                          model/block_7_project/Conv2D1                           |  (64, 1, 1, 384)  |          98,304 |\n",
            "| 210 |                           model/block_8_expand/Conv2D1                           |  (384, 1, 1, 64)  |          98,304 |\n",
            "| 211 |                          model/block_8_project/Conv2D1                           |  (64, 1, 1, 384)  |          98,304 |\n",
            "| 212 |                           model/block_9_expand/Conv2D1                           |  (384, 1, 1, 64)  |          98,304 |\n",
            "| 213 |                          model/block_9_project/Conv2D1                           |  (64, 1, 1, 384)  |          98,304 |\n",
            "| 214 |                          model/block_10_adjust/Conv2D1                           |   (96, 1, 1, 64)  |          24,576 |\n",
            "| 215 |                          model/block_10_expand/Conv2D1                           |  (384, 1, 1, 64)  |          98,304 |\n",
            "| 216 |                          model/block_10_project/Conv2D1                          |  (96, 1, 1, 384)  |         147,456 |\n",
            "| 217 |                          model/block_11_expand/Conv2D1                           |  (576, 1, 1, 96)  |         221,184 |\n",
            "| 218 |                          model/block_11_project/Conv2D1                          |  (96, 1, 1, 576)  |         221,184 |\n",
            "| 219 |                          model/block_12_expand/Conv2D1                           |  (576, 1, 1, 96)  |         221,184 |\n",
            "| 220 |                          model/block_12_project/Conv2D3                          |  (96, 1, 1, 576)  |         221,184 |\n",
            "| 221 |                          model/block_13_expand/Conv2D1                           |  (576, 1, 1, 96)  |         221,184 |\n",
            "| 222 |                          model/block_13_project/Conv2D1                          |  (160, 1, 1, 576) |         368,640 |\n",
            "| 223 |                          model/block_14_expand/Conv2D1                           |  (960, 1, 1, 160) |         614,400 |\n",
            "| 224 |                          model/block_14_project/Conv2D1                          |  (160, 1, 1, 960) |         614,400 |\n",
            "| 225 |                          model/block_15_expand/Conv2D1                           |  (960, 1, 1, 160) |         614,400 |\n",
            "| 226 |                          model/block_15_project/Conv2D1                          |  (160, 1, 1, 960) |         614,400 |\n",
            "| 227 |                          model/block_16_project/Conv2D2                          |       (320,)      |           1,280 |\n",
            "| 228 |                          model/block_16_adjust/Conv2D1                           |  (320, 1, 1, 160) |         204,800 |\n",
            "| 229 |                          model/block_16_expand/Conv2D1                           |  (960, 1, 1, 160) |         614,400 |\n",
            "| 230 |                          model/block_16_project/Conv2D3                          |  (320, 1, 1, 960) |       1,228,800 |\n",
            "| 231 |                               model/Conv_1/Conv2D1                               | (1280, 1, 1, 320) |       1,638,400 |\n",
            "| 232 |                    model/predictions/BiasAdd/ReadVariableOp1                     |       (10,)       |              40 |\n",
            "| 233 |                            model/predictions/MatMul1                             |     (10, 1280)    |          51,200 |\n",
            "| 234 | model/Conv1_relu/Relu;model/bn_Conv1/F...ock_5_project/Conv2D;model/Conv1/Conv2D |  (1, 32, 32, 32)  |         131,072 |\n",
            "| 235 |                           model/block_0_adjust/Conv2D2                           |  (1, 32, 32, 16)  |          65,536 |\n",
            "| 236 | model/block_0_expand_relu/Relu;model/b...ject/Conv2D;model/block_0_expand/Conv2D |  (1, 32, 32, 32)  |         131,072 |\n",
            "| 237 | model/block_0_depthwise_relu/Relu;mode...onv2D;model/block_0_depthwise/depthwise |  (1, 32, 32, 32)  |         131,072 |\n",
            "| 238 |      model/block_0_project_BN/FusedBatchNormV3;model/block_0_project/Conv2D      |  (1, 32, 32, 16)  |          65,536 |\n",
            "| 239 |                              model/block_0_add/add                               |  (1, 32, 32, 16)  |          65,536 |\n",
            "| 240 |                           model/block_1_adjust/Conv2D2                           |  (1, 32, 32, 24)  |          98,304 |\n",
            "| 241 | model/block_1_expand_relu/Relu;model/b...ject/Conv2D;model/block_1_expand/Conv2D |  (1, 32, 32, 96)  |         393,216 |\n",
            "| 242 | model/block_1_depthwise_relu/Relu;mode...onv2D;model/block_1_depthwise/depthwise |  (1, 32, 32, 96)  |         393,216 |\n",
            "| 243 | model/block_1_project_BN/FusedBatchNor...ect/Conv2D;model/block_1_project/Conv2D |  (1, 32, 32, 24)  |          98,304 |\n",
            "| 244 |                              model/block_1_add/add                               |  (1, 32, 32, 24)  |          98,304 |\n",
            "| 245 | model/block_2_expand_relu/Relu;model/b...e/depthwise;model/block_2_expand/Conv2D |  (1, 32, 32, 144) |         589,824 |\n",
            "| 246 | model/block_2_depthwise_relu/Relu;mode...hwise;model/block_2_depthwise/depthwise |  (1, 32, 32, 144) |         589,824 |\n",
            "| 247 |      model/block_2_project_BN/FusedBatchNormV3;model/block_2_project/Conv2D      |  (1, 32, 32, 24)  |          98,304 |\n",
            "| 248 |                              model/block_2_add/add                               |  (1, 32, 32, 24)  |          98,304 |\n",
            "| 249 | model/block_3_expand_relu/Relu;model/b...e/depthwise;model/block_3_expand/Conv2D |  (1, 32, 32, 144) |         589,824 |\n",
            "| 250 | model/block_3_depthwise_relu/Relu;mode...ormV3;model/block_3_depthwise/depthwise |  (1, 16, 16, 144) |         147,456 |\n",
            "| 251 | model/block_3_project_BN/FusedBatchNor...ect/Conv2D;model/block_3_project/Conv2D |  (1, 16, 16, 32)  |          32,768 |\n",
            "| 252 | model/block_4_expand_relu/Relu;model/b...e/depthwise;model/block_4_expand/Conv2D |  (1, 16, 16, 192) |         196,608 |\n",
            "| 253 | model/block_4_depthwise_relu/Relu;mode...hwise;model/block_4_depthwise/depthwise |  (1, 16, 16, 192) |         196,608 |\n",
            "| 254 | model/block_4_project_BN/FusedBatchNor...ect/Conv2D;model/block_4_project/Conv2D |  (1, 16, 16, 32)  |          32,768 |\n",
            "| 255 |                              model/block_4_add/add                               |  (1, 16, 16, 32)  |          32,768 |\n",
            "| 256 | model/block_5_expand_relu/Relu;model/b...e/depthwise;model/block_5_expand/Conv2D |  (1, 16, 16, 192) |         196,608 |\n",
            "| 257 | model/block_5_depthwise_relu/Relu;mode...hwise;model/block_5_depthwise/depthwise |  (1, 16, 16, 192) |         196,608 |\n",
            "| 258 |      model/block_5_project_BN/FusedBatchNormV3;model/block_5_project/Conv2D      |  (1, 16, 16, 32)  |          32,768 |\n",
            "| 259 |                              model/block_5_add/add                               |  (1, 16, 16, 32)  |          32,768 |\n",
            "| 260 | model/block_6_expand_relu/Relu;model/b...e/depthwise;model/block_6_expand/Conv2D |  (1, 16, 16, 192) |         196,608 |\n",
            "| 261 | model/block_6_depthwise_relu/Relu;mode...ormV3;model/block_6_depthwise/depthwise |   (1, 8, 8, 192)  |          49,152 |\n",
            "| 262 | model/block_6_project_BN/FusedBatchNor...ect/Conv2D;model/block_6_project/Conv2D |   (1, 8, 8, 64)   |          16,384 |\n",
            "| 263 | model/block_7_expand_relu/Relu;model/b...e/depthwise;model/block_7_expand/Conv2D |   (1, 8, 8, 384)  |          98,304 |\n",
            "| 264 | model/block_7_depthwise_relu/Relu;mode...hwise;model/block_7_depthwise/depthwise |   (1, 8, 8, 384)  |          98,304 |\n",
            "| 265 | model/block_7_project_BN/FusedBatchNor...ect/Conv2D;model/block_7_project/Conv2D |   (1, 8, 8, 64)   |          16,384 |\n",
            "| 266 |                              model/block_7_add/add                               |   (1, 8, 8, 64)   |          16,384 |\n",
            "| 267 | model/block_8_expand_relu/Relu;model/b...e/depthwise;model/block_8_expand/Conv2D |   (1, 8, 8, 384)  |          98,304 |\n",
            "| 268 | model/block_8_depthwise_relu/Relu;mode...hwise;model/block_8_depthwise/depthwise |   (1, 8, 8, 384)  |          98,304 |\n",
            "| 269 | model/block_8_project_BN/FusedBatchNor...ect/Conv2D;model/block_8_project/Conv2D |   (1, 8, 8, 64)   |          16,384 |\n",
            "| 270 |                              model/block_8_add/add                               |   (1, 8, 8, 64)   |          16,384 |\n",
            "| 271 | model/block_9_expand_relu/Relu;model/b...e/depthwise;model/block_9_expand/Conv2D |   (1, 8, 8, 384)  |          98,304 |\n",
            "| 272 | model/block_9_depthwise_relu/Relu;mode...hwise;model/block_9_depthwise/depthwise |   (1, 8, 8, 384)  |          98,304 |\n",
            "| 273 |      model/block_9_project_BN/FusedBatchNormV3;model/block_9_project/Conv2D      |   (1, 8, 8, 64)   |          16,384 |\n",
            "| 274 |                              model/block_9_add/add                               |   (1, 8, 8, 64)   |          16,384 |\n",
            "| 275 |                          model/block_10_adjust/Conv2D2                           |   (1, 8, 8, 96)   |          24,576 |\n",
            "| 276 | model/block_10_expand_relu/Relu;model/.../depthwise;model/block_10_expand/Conv2D |   (1, 8, 8, 384)  |          98,304 |\n",
            "| 277 | model/block_10_depthwise_relu/Relu;mod...rmV3;model/block_10_depthwise/depthwise |   (1, 8, 8, 384)  |          98,304 |\n",
            "| 278 | model/block_10_project_BN/FusedBatchNo...ct/Conv2D;model/block_10_project/Conv2D |   (1, 8, 8, 96)   |          24,576 |\n",
            "| 279 |                              model/block_10_add/add                              |   (1, 8, 8, 96)   |          24,576 |\n",
            "| 280 | model/block_11_expand_relu/Relu;model/.../depthwise;model/block_11_expand/Conv2D |   (1, 8, 8, 576)  |         147,456 |\n",
            "| 281 | model/block_11_depthwise_relu/Relu;mod...wise;model/block_11_depthwise/depthwise |   (1, 8, 8, 576)  |         147,456 |\n",
            "| 282 | model/block_11_project_BN/FusedBatchNo...ct/Conv2D;model/block_11_project/Conv2D |   (1, 8, 8, 96)   |          24,576 |\n",
            "| 283 |                              model/block_11_add/add                              |   (1, 8, 8, 96)   |          24,576 |\n",
            "| 284 | model/block_12_expand_relu/Relu;model/.../depthwise;model/block_12_expand/Conv2D |   (1, 8, 8, 576)  |         147,456 |\n",
            "| 285 | model/block_12_depthwise_relu/Relu;mod...wise;model/block_12_depthwise/depthwise |   (1, 8, 8, 576)  |         147,456 |\n",
            "| 286 |     model/block_12_project_BN/FusedBatchNormV3;model/block_12_project/Conv2D     |   (1, 8, 8, 96)   |          24,576 |\n",
            "| 287 |                              model/block_12_add/add                              |   (1, 8, 8, 96)   |          24,576 |\n",
            "| 288 | model/block_13_expand_relu/Relu;model/.../depthwise;model/block_13_expand/Conv2D |   (1, 8, 8, 576)  |         147,456 |\n",
            "| 289 | model/block_13_depthwise_relu/Relu;mod...rmV3;model/block_13_depthwise/depthwise |   (1, 4, 4, 576)  |          36,864 |\n",
            "| 290 | model/block_13_project_BN/FusedBatchNo...ct/Conv2D;model/block_13_project/Conv2D |   (1, 4, 4, 160)  |          10,240 |\n",
            "| 291 | model/block_14_expand_relu/Relu;model/.../depthwise;model/block_14_expand/Conv2D |   (1, 4, 4, 960)  |          61,440 |\n",
            "| 292 | model/block_14_depthwise_relu/Relu;mod...wise;model/block_14_depthwise/depthwise |   (1, 4, 4, 960)  |          61,440 |\n",
            "| 293 | model/block_14_project_BN/FusedBatchNo...ct/Conv2D;model/block_14_project/Conv2D |   (1, 4, 4, 160)  |          10,240 |\n",
            "| 294 |                              model/block_14_add/add                              |   (1, 4, 4, 160)  |          10,240 |\n",
            "| 295 | model/block_15_expand_relu/Relu;model/.../depthwise;model/block_15_expand/Conv2D |   (1, 4, 4, 960)  |          61,440 |\n",
            "| 296 | model/block_15_depthwise_relu/Relu;mod...wise;model/block_15_depthwise/depthwise |   (1, 4, 4, 960)  |          61,440 |\n",
            "| 297 |     model/block_15_project_BN/FusedBatchNormV3;model/block_15_project/Conv2D     |   (1, 4, 4, 160)  |          10,240 |\n",
            "| 298 |                              model/block_15_add/add                              |   (1, 4, 4, 160)  |          10,240 |\n",
            "| 299 |                          model/block_16_adjust/Conv2D2                           |   (1, 4, 4, 320)  |          20,480 |\n",
            "| 300 | model/block_16_expand_relu/Relu;model/.../depthwise;model/block_16_expand/Conv2D |   (1, 4, 4, 960)  |          61,440 |\n",
            "| 301 | model/block_16_depthwise_relu/Relu;mod...rmV3;model/block_16_depthwise/depthwise |   (1, 4, 4, 960)  |          61,440 |\n",
            "| 302 |     model/block_16_project_BN/FusedBatchNormV3;model/block_16_project/Conv2D     |   (1, 4, 4, 320)  |          20,480 |\n",
            "| 303 |                              model/block_16_add/add                              |   (1, 4, 4, 320)  |          20,480 |\n",
            "| 304 |     model/out_relu/Relu;model/Conv_1_bn/FusedBatchNormV3;model/Conv_1/Conv2D     |  (1, 4, 4, 1280)  |          81,920 |\n",
            "| 305 |                       model/global_average_pooling2d/Mean                        |     (1, 1280)     |           5,120 |\n",
            "| 306 |                            StatefulPartitionedCall:0                             |      (1, 10)      |              40 |\n",
            "+-----+----------------------------------------------------------------------------------+-------------------+-----------------+\n",
            "\n",
            "Operator execution schedule:\n",
            "+----------------------------------------------------------------------------------+--------------------------------------------------------------------------------------------------------------------------------------------------------------------------------------------------------------------------------------------------------------------------------------------------------------------------------------------------------------------------------------------------------------------------------------------------------------------------------------------------------------------------------------------------------------------------------------------------------------+----------------+-----------+---------+\n",
            "|                              Operator (output name)                              |                                                                                                                                                                                                                                                                                           Tensors in memory (IDs)                                                                                                                                                                                                                                                                                            | Memory use (B) |      MACs |    Size |\n",
            "+----------------------------------------------------------------------------------+--------------------------------------------------------------------------------------------------------------------------------------------------------------------------------------------------------------------------------------------------------------------------------------------------------------------------------------------------------------------------------------------------------------------------------------------------------------------------------------------------------------------------------------------------------------------------------------------------------------+----------------+-----------+---------+\n",
            "|                         model/bn_Conv1/FusedBatchNormV31                         |                                                                                                                                                                                                                                                                                                   [0, 118]                                                                                                                                                                                                                                                                                                   |         12,416 |         0 |      64 |\n",
            "|                    model/block_0_expand_BN/FusedBatchNormV31                     |                                                                                                                                                                                                                                                                                                [0, 118, 119]                                                                                                                                                                                                                                                                                                 |         12,544 |         0 |      64 |\n",
            "|                   model/block_0_depthwise_BN/FusedBatchNormV31                   |                                                                                                                                                                                                                                                                                              [0, 118, 119, 120]                                                                                                                                                                                                                                                                                              |         12,672 |         0 |      64 |\n",
            "|                    model/block_1_expand_BN/FusedBatchNormV31                     |                                                                                                                                                                                                                                                                                           [0, 118, 119, 120, 121]                                                                                                                                                                                                                                                                                            |         13,056 |         0 |     192 |\n",
            "|                   model/block_1_depthwise_BN/FusedBatchNormV31                   |                                                                                                                                                                                                                                                                                         [0, 118, 119, 120, 121, 122]                                                                                                                                                                                                                                                                                         |         13,440 |         0 |     192 |\n",
            "|                    model/block_2_expand_BN/FusedBatchNormV31                     |                                                                                                                                                                                                                                                                                      [0, 118, 119, 120, 121, 122, 123]                                                                                                                                                                                                                                                                                       |         14,016 |         0 |     288 |\n",
            "|                   model/block_2_depthwise_BN/FusedBatchNormV31                   |                                                                                                                                                                                                                                                                                    [0, 118, 119, 120, 121, 122, 123, 124]                                                                                                                                                                                                                                                                                    |         14,592 |         0 |     288 |\n",
            "|                    model/block_3_expand_BN/FusedBatchNormV31                     |                                                                                                                                                                                                                                                                                 [0, 118, 119, 120, 121, 122, 123, 124, 125]                                                                                                                                                                                                                                                                                  |         15,168 |         0 |     288 |\n",
            "|                   model/block_3_depthwise_BN/FusedBatchNormV31                   |                                                                                                                                                                                                                                                                               [0, 118, 119, 120, 121, 122, 123, 124, 125, 126]                                                                                                                                                                                                                                                                               |         15,744 |         0 |     288 |\n",
            "|                    model/block_4_expand_BN/FusedBatchNormV31                     |                                                                                                                                                                                                                                                                            [0, 118, 119, 120, 121, 122, 123, 124, 125, 126, 127]                                                                                                                                                                                                                                                                             |         16,512 |         0 |     384 |\n",
            "|                   model/block_4_depthwise_BN/FusedBatchNormV31                   |                                                                                                                                                                                                                                                                          [0, 118, 119, 120, 121, 122, 123, 124, 125, 126, 127, 128]                                                                                                                                                                                                                                                                          |         17,280 |         0 |     384 |\n",
            "|                    model/block_5_expand_BN/FusedBatchNormV31                     |                                                                                                                                                                                                                                                                       [0, 118, 119, 120, 121, 122, 123, 124, 125, 126, 127, 128, 129]                                                                                                                                                                                                                                                                        |         18,048 |         0 |     384 |\n",
            "|                   model/block_5_depthwise_BN/FusedBatchNormV31                   |                                                                                                                                                                                                                                                                     [0, 118, 119, 120, 121, 122, 123, 124, 125, 126, 127, 128, 129, 130]                                                                                                                                                                                                                                                                     |         18,816 |         0 |     384 |\n",
            "|                    model/block_6_expand_BN/FusedBatchNormV31                     |                                                                                                                                                                                                                                                                  [0, 118, 119, 120, 121, 122, 123, 124, 125, 126, 127, 128, 129, 130, 131]                                                                                                                                                                                                                                                                   |         19,584 |         0 |     384 |\n",
            "|                   model/block_6_depthwise_BN/FusedBatchNormV31                   |                                                                                                                                                                                                                                                                [0, 118, 119, 120, 121, 122, 123, 124, 125, 126, 127, 128, 129, 130, 131, 132]                                                                                                                                                                                                                                                                |         20,352 |         0 |     384 |\n",
            "|                    model/block_7_expand_BN/FusedBatchNormV31                     |                                                                                                                                                                                                                                                             [0, 118, 119, 120, 121, 122, 123, 124, 125, 126, 127, 128, 129, 130, 131, 132, 133]                                                                                                                                                                                                                                                              |         21,888 |         0 |     768 |\n",
            "|                   model/block_7_depthwise_BN/FusedBatchNormV31                   |                                                                                                                                                                                                                                                           [0, 118, 119, 120, 121, 122, 123, 124, 125, 126, 127, 128, 129, 130, 131, 132, 133, 134]                                                                                                                                                                                                                                                           |         23,424 |         0 |     768 |\n",
            "|                    model/block_8_expand_BN/FusedBatchNormV31                     |                                                                                                                                                                                                                                                        [0, 118, 119, 120, 121, 122, 123, 124, 125, 126, 127, 128, 129, 130, 131, 132, 133, 134, 135]                                                                                                                                                                                                                                                         |         24,960 |         0 |     768 |\n",
            "|                   model/block_8_depthwise_BN/FusedBatchNormV31                   |                                                                                                                                                                                                                                                      [0, 118, 119, 120, 121, 122, 123, 124, 125, 126, 127, 128, 129, 130, 131, 132, 133, 134, 135, 136]                                                                                                                                                                                                                                                      |         26,496 |         0 |     768 |\n",
            "|                    model/block_9_expand_BN/FusedBatchNormV31                     |                                                                                                                                                                                                                                                   [0, 118, 119, 120, 121, 122, 123, 124, 125, 126, 127, 128, 129, 130, 131, 132, 133, 134, 135, 136, 137]                                                                                                                                                                                                                                                    |         28,032 |         0 |     768 |\n",
            "|                   model/block_9_depthwise_BN/FusedBatchNormV31                   |                                                                                                                                                                                                                                                 [0, 118, 119, 120, 121, 122, 123, 124, 125, 126, 127, 128, 129, 130, 131, 132, 133, 134, 135, 136, 137, 138]                                                                                                                                                                                                                                                 |         29,568 |         0 |     768 |\n",
            "|                    model/block_10_expand_BN/FusedBatchNormV31                    |                                                                                                                                                                                                                                              [0, 118, 119, 120, 121, 122, 123, 124, 125, 126, 127, 128, 129, 130, 131, 132, 133, 134, 135, 136, 137, 138, 139]                                                                                                                                                                                                                                               |         31,104 |         0 |     768 |\n",
            "|                  model/block_10_depthwise_BN/FusedBatchNormV31                   |                                                                                                                                                                                                                                            [0, 118, 119, 120, 121, 122, 123, 124, 125, 126, 127, 128, 129, 130, 131, 132, 133, 134, 135, 136, 137, 138, 139, 140]                                                                                                                                                                                                                                            |         32,640 |         0 |     768 |\n",
            "|                    model/block_11_expand_BN/FusedBatchNormV31                    |                                                                                                                                                                                                                                         [0, 118, 119, 120, 121, 122, 123, 124, 125, 126, 127, 128, 129, 130, 131, 132, 133, 134, 135, 136, 137, 138, 139, 140, 141]                                                                                                                                                                                                                                          |         34,944 |         0 |   1,152 |\n",
            "|                  model/block_11_depthwise_BN/FusedBatchNormV31                   |                                                                                                                                                                                                                                       [0, 118, 119, 120, 121, 122, 123, 124, 125, 126, 127, 128, 129, 130, 131, 132, 133, 134, 135, 136, 137, 138, 139, 140, 141, 142]                                                                                                                                                                                                                                       |         37,248 |         0 |   1,152 |\n",
            "|                    model/block_12_expand_BN/FusedBatchNormV31                    |                                                                                                                                                                                                                                    [0, 118, 119, 120, 121, 122, 123, 124, 125, 126, 127, 128, 129, 130, 131, 132, 133, 134, 135, 136, 137, 138, 139, 140, 141, 142, 143]                                                                                                                                                                                                                                     |         39,552 |         0 |   1,152 |\n",
            "|                  model/block_12_depthwise_BN/FusedBatchNormV31                   |                                                                                                                                                                                                                                  [0, 118, 119, 120, 121, 122, 123, 124, 125, 126, 127, 128, 129, 130, 131, 132, 133, 134, 135, 136, 137, 138, 139, 140, 141, 142, 143, 144]                                                                                                                                                                                                                                  |         41,856 |         0 |   1,152 |\n",
            "|                    model/block_13_expand_BN/FusedBatchNormV31                    |                                                                                                                                                                                                                               [0, 118, 119, 120, 121, 122, 123, 124, 125, 126, 127, 128, 129, 130, 131, 132, 133, 134, 135, 136, 137, 138, 139, 140, 141, 142, 143, 144, 145]                                                                                                                                                                                                                                |         44,160 |         0 |   1,152 |\n",
            "|                  model/block_13_depthwise_BN/FusedBatchNormV31                   |                                                                                                                                                                                                                             [0, 118, 119, 120, 121, 122, 123, 124, 125, 126, 127, 128, 129, 130, 131, 132, 133, 134, 135, 136, 137, 138, 139, 140, 141, 142, 143, 144, 145, 146]                                                                                                                                                                                                                             |         46,464 |         0 |   1,152 |\n",
            "|                    model/block_14_expand_BN/FusedBatchNormV31                    |                                                                                                                                                                                                                          [0, 118, 119, 120, 121, 122, 123, 124, 125, 126, 127, 128, 129, 130, 131, 132, 133, 134, 135, 136, 137, 138, 139, 140, 141, 142, 143, 144, 145, 146, 147]                                                                                                                                                                                                                           |         50,304 |         0 |   1,920 |\n",
            "|                  model/block_14_depthwise_BN/FusedBatchNormV31                   |                                                                                                                                                                                                                        [0, 118, 119, 120, 121, 122, 123, 124, 125, 126, 127, 128, 129, 130, 131, 132, 133, 134, 135, 136, 137, 138, 139, 140, 141, 142, 143, 144, 145, 146, 147, 148]                                                                                                                                                                                                                        |         54,144 |         0 |   1,920 |\n",
            "|                    model/block_15_expand_BN/FusedBatchNormV31                    |                                                                                                                                                                                                                     [0, 118, 119, 120, 121, 122, 123, 124, 125, 126, 127, 128, 129, 130, 131, 132, 133, 134, 135, 136, 137, 138, 139, 140, 141, 142, 143, 144, 145, 146, 147, 148, 149]                                                                                                                                                                                                                      |         57,984 |         0 |   1,920 |\n",
            "|                  model/block_15_depthwise_BN/FusedBatchNormV31                   |                                                                                                                                                                                                                   [0, 118, 119, 120, 121, 122, 123, 124, 125, 126, 127, 128, 129, 130, 131, 132, 133, 134, 135, 136, 137, 138, 139, 140, 141, 142, 143, 144, 145, 146, 147, 148, 149, 150]                                                                                                                                                                                                                   |         61,824 |         0 |   1,920 |\n",
            "|                    model/block_16_expand_BN/FusedBatchNormV31                    |                                                                                                                                                                                                                [0, 118, 119, 120, 121, 122, 123, 124, 125, 126, 127, 128, 129, 130, 131, 132, 133, 134, 135, 136, 137, 138, 139, 140, 141, 142, 143, 144, 145, 146, 147, 148, 149, 150, 151]                                                                                                                                                                                                                 |         65,664 |         0 |   1,920 |\n",
            "|                  model/block_16_depthwise_BN/FusedBatchNormV31                   |                                                                                                                                                                                                              [0, 118, 119, 120, 121, 122, 123, 124, 125, 126, 127, 128, 129, 130, 131, 132, 133, 134, 135, 136, 137, 138, 139, 140, 141, 142, 143, 144, 145, 146, 147, 148, 149, 150, 151, 152]                                                                                                                                                                                                              |         69,504 |         0 |   1,920 |\n",
            "|                        model/Conv_1_bn/FusedBatchNormV31                         |                                                                                                                                                                                                           [0, 118, 119, 120, 121, 122, 123, 124, 125, 126, 127, 128, 129, 130, 131, 132, 133, 134, 135, 136, 137, 138, 139, 140, 141, 142, 143, 144, 145, 146, 147, 148, 149, 150, 151, 152, 153]                                                                                                                                                                                                            |         74,624 |         0 |   2,560 |\n",
            "| model/block_0_depthwise_BN/FusedBatchN...depthwise;model/block_5_project/Conv2D1 |                                                                                                                                                                                                         [0, 118, 119, 120, 121, 122, 123, 124, 125, 126, 127, 128, 129, 130, 131, 132, 133, 134, 135, 136, 137, 138, 139, 140, 141, 142, 143, 144, 145, 146, 147, 148, 149, 150, 151, 152, 153, 154]                                                                                                                                                                                                         |         75,776 |         0 |     576 |\n",
            "|                    model/block_0_project_BN/FusedBatchNormV31                    |                                                                                                                                                                                                      [0, 118, 119, 120, 121, 122, 123, 124, 125, 126, 127, 128, 129, 130, 131, 132, 133, 134, 135, 136, 137, 138, 139, 140, 141, 142, 143, 144, 145, 146, 147, 148, 149, 150, 151, 152, 153, 154, 155]                                                                                                                                                                                                       |         75,840 |         0 |      32 |\n",
            "| model/block_1_depthwise_BN/FusedBatchN...epthwise;model/block_12_project/Conv2D1 |                                                                                                                                                                                                    [0, 118, 119, 120, 121, 122, 123, 124, 125, 126, 127, 128, 129, 130, 131, 132, 133, 134, 135, 136, 137, 138, 139, 140, 141, 142, 143, 144, 145, 146, 147, 148, 149, 150, 151, 152, 153, 154, 155, 156]                                                                                                                                                                                                    |         79,296 |         0 |   1,728 |\n",
            "|                          model/block_12_project/Conv2D2                          |                                                                                                                                                                                                 [0, 118, 119, 120, 121, 122, 123, 124, 125, 126, 127, 128, 129, 130, 131, 132, 133, 134, 135, 136, 137, 138, 139, 140, 141, 142, 143, 144, 145, 146, 147, 148, 149, 150, 151, 152, 153, 154, 155, 156, 157]                                                                                                                                                                                                  |         79,680 |         0 |     192 |\n",
            "|                    model/block_1_project_BN/FusedBatchNormV31                    |                                                                                                                                                                                               [0, 118, 119, 120, 121, 122, 123, 124, 125, 126, 127, 128, 129, 130, 131, 132, 133, 134, 135, 136, 137, 138, 139, 140, 141, 142, 143, 144, 145, 146, 147, 148, 149, 150, 151, 152, 153, 154, 155, 156, 157, 158]                                                                                                                                                                                               |         79,776 |         0 |      48 |\n",
            "| model/block_2_depthwise_BN/FusedBatchN...wise;model/block_3_depthwise/depthwise1 |                                                                                                                                                                                            [0, 118, 119, 120, 121, 122, 123, 124, 125, 126, 127, 128, 129, 130, 131, 132, 133, 134, 135, 136, 137, 138, 139, 140, 141, 142, 143, 144, 145, 146, 147, 148, 149, 150, 151, 152, 153, 154, 155, 156, 157, 158, 159]                                                                                                                                                                                             |         84,960 |         0 |   2,592 |\n",
            "|                    model/block_2_project_BN/FusedBatchNormV31                    |                                                                                                                                                                                          [0, 118, 119, 120, 121, 122, 123, 124, 125, 126, 127, 128, 129, 130, 131, 132, 133, 134, 135, 136, 137, 138, 139, 140, 141, 142, 143, 144, 145, 146, 147, 148, 149, 150, 151, 152, 153, 154, 155, 156, 157, 158, 159, 160]                                                                                                                                                                                          |         85,056 |         0 |      48 |\n",
            "|  model/block_3_depthwise_BN/FusedBatchNormV3;model/block_3_depthwise/depthwise1  |                                                                                                                                                                                       [0, 118, 119, 120, 121, 122, 123, 124, 125, 126, 127, 128, 129, 130, 131, 132, 133, 134, 135, 136, 137, 138, 139, 140, 141, 142, 143, 144, 145, 146, 147, 148, 149, 150, 151, 152, 153, 154, 155, 156, 157, 158, 159, 160, 161]                                                                                                                                                                                        |         90,240 |         0 |   2,592 |\n",
            "|                    model/block_3_project_BN/FusedBatchNormV31                    |                                                                                                                                                                                     [0, 118, 119, 120, 121, 122, 123, 124, 125, 126, 127, 128, 129, 130, 131, 132, 133, 134, 135, 136, 137, 138, 139, 140, 141, 142, 143, 144, 145, 146, 147, 148, 149, 150, 151, 152, 153, 154, 155, 156, 157, 158, 159, 160, 161, 162]                                                                                                                                                                                     |         90,368 |         0 |      64 |\n",
            "| model/block_4_depthwise_BN/FusedBatchN...wise;model/block_6_depthwise/depthwise1 |                                                                                                                                                                                  [0, 118, 119, 120, 121, 122, 123, 124, 125, 126, 127, 128, 129, 130, 131, 132, 133, 134, 135, 136, 137, 138, 139, 140, 141, 142, 143, 144, 145, 146, 147, 148, 149, 150, 151, 152, 153, 154, 155, 156, 157, 158, 159, 160, 161, 162, 163]                                                                                                                                                                                   |         97,280 |         0 |   3,456 |\n",
            "|                    model/block_4_project_BN/FusedBatchNormV31                    |                                                                                                                                                                                [0, 118, 119, 120, 121, 122, 123, 124, 125, 126, 127, 128, 129, 130, 131, 132, 133, 134, 135, 136, 137, 138, 139, 140, 141, 142, 143, 144, 145, 146, 147, 148, 149, 150, 151, 152, 153, 154, 155, 156, 157, 158, 159, 160, 161, 162, 163, 164]                                                                                                                                                                                |         97,408 |         0 |      64 |\n",
            "| model/block_5_depthwise_BN/FusedBatchN...wise;model/block_6_depthwise/depthwise1 |                                                                                                                                                                             [0, 118, 119, 120, 121, 122, 123, 124, 125, 126, 127, 128, 129, 130, 131, 132, 133, 134, 135, 136, 137, 138, 139, 140, 141, 142, 143, 144, 145, 146, 147, 148, 149, 150, 151, 152, 153, 154, 155, 156, 157, 158, 159, 160, 161, 162, 163, 164, 165]                                                                                                                                                                              |        104,320 |         0 |   3,456 |\n",
            "|                    model/block_5_project_BN/FusedBatchNormV31                    |                                                                                                                                                                           [0, 118, 119, 120, 121, 122, 123, 124, 125, 126, 127, 128, 129, 130, 131, 132, 133, 134, 135, 136, 137, 138, 139, 140, 141, 142, 143, 144, 145, 146, 147, 148, 149, 150, 151, 152, 153, 154, 155, 156, 157, 158, 159, 160, 161, 162, 163, 164, 165, 166]                                                                                                                                                                           |        104,448 |         0 |      64 |\n",
            "|  model/block_6_depthwise_BN/FusedBatchNormV3;model/block_6_depthwise/depthwise1  |                                                                                                                                                                        [0, 118, 119, 120, 121, 122, 123, 124, 125, 126, 127, 128, 129, 130, 131, 132, 133, 134, 135, 136, 137, 138, 139, 140, 141, 142, 143, 144, 145, 146, 147, 148, 149, 150, 151, 152, 153, 154, 155, 156, 157, 158, 159, 160, 161, 162, 163, 164, 165, 166, 167]                                                                                                                                                                         |        111,360 |         0 |   3,456 |\n",
            "|                    model/block_6_project_BN/FusedBatchNormV31                    |                                                                                                                                                                      [0, 118, 119, 120, 121, 122, 123, 124, 125, 126, 127, 128, 129, 130, 131, 132, 133, 134, 135, 136, 137, 138, 139, 140, 141, 142, 143, 144, 145, 146, 147, 148, 149, 150, 151, 152, 153, 154, 155, 156, 157, 158, 159, 160, 161, 162, 163, 164, 165, 166, 167, 168]                                                                                                                                                                      |        111,616 |         0 |     128 |\n",
            "| model/block_7_depthwise_BN/FusedBatchN...ise;model/block_10_depthwise/depthwise1 |                                                                                                                                                                   [0, 118, 119, 120, 121, 122, 123, 124, 125, 126, 127, 128, 129, 130, 131, 132, 133, 134, 135, 136, 137, 138, 139, 140, 141, 142, 143, 144, 145, 146, 147, 148, 149, 150, 151, 152, 153, 154, 155, 156, 157, 158, 159, 160, 161, 162, 163, 164, 165, 166, 167, 168, 169]                                                                                                                                                                    |        125,440 |         0 |   6,912 |\n",
            "|                    model/block_7_project_BN/FusedBatchNormV31                    |                                                                                                                                                                 [0, 118, 119, 120, 121, 122, 123, 124, 125, 126, 127, 128, 129, 130, 131, 132, 133, 134, 135, 136, 137, 138, 139, 140, 141, 142, 143, 144, 145, 146, 147, 148, 149, 150, 151, 152, 153, 154, 155, 156, 157, 158, 159, 160, 161, 162, 163, 164, 165, 166, 167, 168, 169, 170]                                                                                                                                                                 |        125,696 |         0 |     128 |\n",
            "| model/block_8_depthwise_BN/FusedBatchN...ise;model/block_10_depthwise/depthwise1 |                                                                                                                                                              [0, 118, 119, 120, 121, 122, 123, 124, 125, 126, 127, 128, 129, 130, 131, 132, 133, 134, 135, 136, 137, 138, 139, 140, 141, 142, 143, 144, 145, 146, 147, 148, 149, 150, 151, 152, 153, 154, 155, 156, 157, 158, 159, 160, 161, 162, 163, 164, 165, 166, 167, 168, 169, 170, 171]                                                                                                                                                               |        139,520 |         0 |   6,912 |\n",
            "|                    model/block_8_project_BN/FusedBatchNormV31                    |                                                                                                                                                            [0, 118, 119, 120, 121, 122, 123, 124, 125, 126, 127, 128, 129, 130, 131, 132, 133, 134, 135, 136, 137, 138, 139, 140, 141, 142, 143, 144, 145, 146, 147, 148, 149, 150, 151, 152, 153, 154, 155, 156, 157, 158, 159, 160, 161, 162, 163, 164, 165, 166, 167, 168, 169, 170, 171, 172]                                                                                                                                                            |        139,776 |         0 |     128 |\n",
            "| model/block_9_depthwise_BN/FusedBatchN...ise;model/block_10_depthwise/depthwise1 |                                                                                                                                                         [0, 118, 119, 120, 121, 122, 123, 124, 125, 126, 127, 128, 129, 130, 131, 132, 133, 134, 135, 136, 137, 138, 139, 140, 141, 142, 143, 144, 145, 146, 147, 148, 149, 150, 151, 152, 153, 154, 155, 156, 157, 158, 159, 160, 161, 162, 163, 164, 165, 166, 167, 168, 169, 170, 171, 172, 173]                                                                                                                                                          |        153,600 |         0 |   6,912 |\n",
            "|                    model/block_9_project_BN/FusedBatchNormV31                    |                                                                                                                                                       [0, 118, 119, 120, 121, 122, 123, 124, 125, 126, 127, 128, 129, 130, 131, 132, 133, 134, 135, 136, 137, 138, 139, 140, 141, 142, 143, 144, 145, 146, 147, 148, 149, 150, 151, 152, 153, 154, 155, 156, 157, 158, 159, 160, 161, 162, 163, 164, 165, 166, 167, 168, 169, 170, 171, 172, 173, 174]                                                                                                                                                       |        153,856 |         0 |     128 |\n",
            "| model/block_10_depthwise_BN/FusedBatchNormV3;model/block_10_depthwise/depthwise1 |                                                                                                                                                    [0, 118, 119, 120, 121, 122, 123, 124, 125, 126, 127, 128, 129, 130, 131, 132, 133, 134, 135, 136, 137, 138, 139, 140, 141, 142, 143, 144, 145, 146, 147, 148, 149, 150, 151, 152, 153, 154, 155, 156, 157, 158, 159, 160, 161, 162, 163, 164, 165, 166, 167, 168, 169, 170, 171, 172, 173, 174, 175]                                                                                                                                                     |        167,680 |         0 |   6,912 |\n",
            "|                   model/block_10_project_BN/FusedBatchNormV31                    |                                                                                                                                                  [0, 118, 119, 120, 121, 122, 123, 124, 125, 126, 127, 128, 129, 130, 131, 132, 133, 134, 135, 136, 137, 138, 139, 140, 141, 142, 143, 144, 145, 146, 147, 148, 149, 150, 151, 152, 153, 154, 155, 156, 157, 158, 159, 160, 161, 162, 163, 164, 165, 166, 167, 168, 169, 170, 171, 172, 173, 174, 175, 176]                                                                                                                                                  |        168,064 |         0 |     192 |\n",
            "| model/block_11_depthwise_BN/FusedBatch...ise;model/block_13_depthwise/depthwise1 |                                                                                                                                               [0, 118, 119, 120, 121, 122, 123, 124, 125, 126, 127, 128, 129, 130, 131, 132, 133, 134, 135, 136, 137, 138, 139, 140, 141, 142, 143, 144, 145, 146, 147, 148, 149, 150, 151, 152, 153, 154, 155, 156, 157, 158, 159, 160, 161, 162, 163, 164, 165, 166, 167, 168, 169, 170, 171, 172, 173, 174, 175, 176, 177]                                                                                                                                                |        188,800 |         0 |  10,368 |\n",
            "|                   model/block_11_project_BN/FusedBatchNormV31                    |                                                                                                                                             [0, 118, 119, 120, 121, 122, 123, 124, 125, 126, 127, 128, 129, 130, 131, 132, 133, 134, 135, 136, 137, 138, 139, 140, 141, 142, 143, 144, 145, 146, 147, 148, 149, 150, 151, 152, 153, 154, 155, 156, 157, 158, 159, 160, 161, 162, 163, 164, 165, 166, 167, 168, 169, 170, 171, 172, 173, 174, 175, 176, 177, 178]                                                                                                                                             |        189,184 |         0 |     192 |\n",
            "| model/block_12_depthwise_BN/FusedBatch...ise;model/block_13_depthwise/depthwise1 |                                                                                                                                          [0, 118, 119, 120, 121, 122, 123, 124, 125, 126, 127, 128, 129, 130, 131, 132, 133, 134, 135, 136, 137, 138, 139, 140, 141, 142, 143, 144, 145, 146, 147, 148, 149, 150, 151, 152, 153, 154, 155, 156, 157, 158, 159, 160, 161, 162, 163, 164, 165, 166, 167, 168, 169, 170, 171, 172, 173, 174, 175, 176, 177, 178, 179]                                                                                                                                           |        209,920 |         0 |  10,368 |\n",
            "|                   model/block_12_project_BN/FusedBatchNormV31                    |                                                                                                                                        [0, 118, 119, 120, 121, 122, 123, 124, 125, 126, 127, 128, 129, 130, 131, 132, 133, 134, 135, 136, 137, 138, 139, 140, 141, 142, 143, 144, 145, 146, 147, 148, 149, 150, 151, 152, 153, 154, 155, 156, 157, 158, 159, 160, 161, 162, 163, 164, 165, 166, 167, 168, 169, 170, 171, 172, 173, 174, 175, 176, 177, 178, 179, 180]                                                                                                                                        |        210,304 |         0 |     192 |\n",
            "| model/block_13_depthwise_BN/FusedBatchNormV3;model/block_13_depthwise/depthwise1 |                                                                                                                                     [0, 118, 119, 120, 121, 122, 123, 124, 125, 126, 127, 128, 129, 130, 131, 132, 133, 134, 135, 136, 137, 138, 139, 140, 141, 142, 143, 144, 145, 146, 147, 148, 149, 150, 151, 152, 153, 154, 155, 156, 157, 158, 159, 160, 161, 162, 163, 164, 165, 166, 167, 168, 169, 170, 171, 172, 173, 174, 175, 176, 177, 178, 179, 180, 181]                                                                                                                                      |        231,040 |         0 |  10,368 |\n",
            "|                   model/block_13_project_BN/FusedBatchNormV31                    |                                                                                                                                   [0, 118, 119, 120, 121, 122, 123, 124, 125, 126, 127, 128, 129, 130, 131, 132, 133, 134, 135, 136, 137, 138, 139, 140, 141, 142, 143, 144, 145, 146, 147, 148, 149, 150, 151, 152, 153, 154, 155, 156, 157, 158, 159, 160, 161, 162, 163, 164, 165, 166, 167, 168, 169, 170, 171, 172, 173, 174, 175, 176, 177, 178, 179, 180, 181, 182]                                                                                                                                   |        231,680 |         0 |     320 |\n",
            "| model/block_14_depthwise_BN/FusedBatch...ise;model/block_16_depthwise/depthwise1 |                                                                                                                                [0, 118, 119, 120, 121, 122, 123, 124, 125, 126, 127, 128, 129, 130, 131, 132, 133, 134, 135, 136, 137, 138, 139, 140, 141, 142, 143, 144, 145, 146, 147, 148, 149, 150, 151, 152, 153, 154, 155, 156, 157, 158, 159, 160, 161, 162, 163, 164, 165, 166, 167, 168, 169, 170, 171, 172, 173, 174, 175, 176, 177, 178, 179, 180, 181, 182, 183]                                                                                                                                 |        266,240 |         0 |  17,280 |\n",
            "|                   model/block_14_project_BN/FusedBatchNormV31                    |                                                                                                                              [0, 118, 119, 120, 121, 122, 123, 124, 125, 126, 127, 128, 129, 130, 131, 132, 133, 134, 135, 136, 137, 138, 139, 140, 141, 142, 143, 144, 145, 146, 147, 148, 149, 150, 151, 152, 153, 154, 155, 156, 157, 158, 159, 160, 161, 162, 163, 164, 165, 166, 167, 168, 169, 170, 171, 172, 173, 174, 175, 176, 177, 178, 179, 180, 181, 182, 183, 184]                                                                                                                              |        266,880 |         0 |     320 |\n",
            "| model/block_15_depthwise_BN/FusedBatch...ise;model/block_16_depthwise/depthwise1 |                                                                                                                           [0, 118, 119, 120, 121, 122, 123, 124, 125, 126, 127, 128, 129, 130, 131, 132, 133, 134, 135, 136, 137, 138, 139, 140, 141, 142, 143, 144, 145, 146, 147, 148, 149, 150, 151, 152, 153, 154, 155, 156, 157, 158, 159, 160, 161, 162, 163, 164, 165, 166, 167, 168, 169, 170, 171, 172, 173, 174, 175, 176, 177, 178, 179, 180, 181, 182, 183, 184, 185]                                                                                                                            |        301,440 |         0 |  17,280 |\n",
            "|                   model/block_15_project_BN/FusedBatchNormV31                    |                                                                                                                         [0, 118, 119, 120, 121, 122, 123, 124, 125, 126, 127, 128, 129, 130, 131, 132, 133, 134, 135, 136, 137, 138, 139, 140, 141, 142, 143, 144, 145, 146, 147, 148, 149, 150, 151, 152, 153, 154, 155, 156, 157, 158, 159, 160, 161, 162, 163, 164, 165, 166, 167, 168, 169, 170, 171, 172, 173, 174, 175, 176, 177, 178, 179, 180, 181, 182, 183, 184, 185, 186]                                                                                                                         |        302,080 |         0 |     320 |\n",
            "| model/block_16_depthwise_BN/FusedBatchNormV3;model/block_16_depthwise/depthwise1 |                                                                                                                      [0, 118, 119, 120, 121, 122, 123, 124, 125, 126, 127, 128, 129, 130, 131, 132, 133, 134, 135, 136, 137, 138, 139, 140, 141, 142, 143, 144, 145, 146, 147, 148, 149, 150, 151, 152, 153, 154, 155, 156, 157, 158, 159, 160, 161, 162, 163, 164, 165, 166, 167, 168, 169, 170, 171, 172, 173, 174, 175, 176, 177, 178, 179, 180, 181, 182, 183, 184, 185, 186, 187]                                                                                                                       |        336,640 |         0 |  17,280 |\n",
            "|                   model/block_16_project_BN/FusedBatchNormV31                    |                                                                                                                    [0, 118, 119, 120, 121, 122, 123, 124, 125, 126, 127, 128, 129, 130, 131, 132, 133, 134, 135, 136, 137, 138, 139, 140, 141, 142, 143, 144, 145, 146, 147, 148, 149, 150, 151, 152, 153, 154, 155, 156, 157, 158, 159, 160, 161, 162, 163, 164, 165, 166, 167, 168, 169, 170, 171, 172, 173, 174, 175, 176, 177, 178, 179, 180, 181, 182, 183, 184, 185, 186, 187, 188]                                                                                                                    |        337,920 |         0 |     640 |\n",
            "|                               model/Conv1/Conv2D1                                |                                                                                                                 [0, 118, 119, 120, 121, 122, 123, 124, 125, 126, 127, 128, 129, 130, 131, 132, 133, 134, 135, 136, 137, 138, 139, 140, 141, 142, 143, 144, 145, 146, 147, 148, 149, 150, 151, 152, 153, 154, 155, 156, 157, 158, 159, 160, 161, 162, 163, 164, 165, 166, 167, 168, 169, 170, 171, 172, 173, 174, 175, 176, 177, 178, 179, 180, 181, 182, 183, 184, 185, 186, 187, 188, 189]                                                                                                                  |        341,376 |         0 |   1,728 |\n",
            "|                          model/block_0_project/Conv2D2                           |                                                                                                               [0, 118, 119, 120, 121, 122, 123, 124, 125, 126, 127, 128, 129, 130, 131, 132, 133, 134, 135, 136, 137, 138, 139, 140, 141, 142, 143, 144, 145, 146, 147, 148, 149, 150, 151, 152, 153, 154, 155, 156, 157, 158, 159, 160, 161, 162, 163, 164, 165, 166, 167, 168, 169, 170, 171, 172, 173, 174, 175, 176, 177, 178, 179, 180, 181, 182, 183, 184, 185, 186, 187, 188, 189, 190]                                                                                                               |        341,440 |         0 |      32 |\n",
            "|                           model/block_0_adjust/Conv2D1                           |                                                                                                            [0, 118, 119, 120, 121, 122, 123, 124, 125, 126, 127, 128, 129, 130, 131, 132, 133, 134, 135, 136, 137, 138, 139, 140, 141, 142, 143, 144, 145, 146, 147, 148, 149, 150, 151, 152, 153, 154, 155, 156, 157, 158, 159, 160, 161, 162, 163, 164, 165, 166, 167, 168, 169, 170, 171, 172, 173, 174, 175, 176, 177, 178, 179, 180, 181, 182, 183, 184, 185, 186, 187, 188, 189, 190, 191]                                                                                                             |        343,488 |         0 |   1,024 |\n",
            "|                           model/block_0_expand/Conv2D1                           |                                                                                                          [0, 118, 119, 120, 121, 122, 123, 124, 125, 126, 127, 128, 129, 130, 131, 132, 133, 134, 135, 136, 137, 138, 139, 140, 141, 142, 143, 144, 145, 146, 147, 148, 149, 150, 151, 152, 153, 154, 155, 156, 157, 158, 159, 160, 161, 162, 163, 164, 165, 166, 167, 168, 169, 170, 171, 172, 173, 174, 175, 176, 177, 178, 179, 180, 181, 182, 183, 184, 185, 186, 187, 188, 189, 190, 191, 192]                                                                                                          |        347,584 |         0 |   2,048 |\n",
            "|                          model/block_0_project/Conv2D3                           |                                                                                                       [0, 118, 119, 120, 121, 122, 123, 124, 125, 126, 127, 128, 129, 130, 131, 132, 133, 134, 135, 136, 137, 138, 139, 140, 141, 142, 143, 144, 145, 146, 147, 148, 149, 150, 151, 152, 153, 154, 155, 156, 157, 158, 159, 160, 161, 162, 163, 164, 165, 166, 167, 168, 169, 170, 171, 172, 173, 174, 175, 176, 177, 178, 179, 180, 181, 182, 183, 184, 185, 186, 187, 188, 189, 190, 191, 192, 193]                                                                                                        |        349,632 |         0 |   1,024 |\n",
            "|                          model/block_2_project/Conv2D2                           |                                                                                                     [0, 118, 119, 120, 121, 122, 123, 124, 125, 126, 127, 128, 129, 130, 131, 132, 133, 134, 135, 136, 137, 138, 139, 140, 141, 142, 143, 144, 145, 146, 147, 148, 149, 150, 151, 152, 153, 154, 155, 156, 157, 158, 159, 160, 161, 162, 163, 164, 165, 166, 167, 168, 169, 170, 171, 172, 173, 174, 175, 176, 177, 178, 179, 180, 181, 182, 183, 184, 185, 186, 187, 188, 189, 190, 191, 192, 193, 194]                                                                                                     |        349,728 |         0 |      48 |\n",
            "|                           model/block_1_adjust/Conv2D1                           |                                                                                                  [0, 118, 119, 120, 121, 122, 123, 124, 125, 126, 127, 128, 129, 130, 131, 132, 133, 134, 135, 136, 137, 138, 139, 140, 141, 142, 143, 144, 145, 146, 147, 148, 149, 150, 151, 152, 153, 154, 155, 156, 157, 158, 159, 160, 161, 162, 163, 164, 165, 166, 167, 168, 169, 170, 171, 172, 173, 174, 175, 176, 177, 178, 179, 180, 181, 182, 183, 184, 185, 186, 187, 188, 189, 190, 191, 192, 193, 194, 195]                                                                                                   |        351,264 |         0 |     768 |\n",
            "|                           model/block_1_expand/Conv2D1                           |                                                                                                [0, 118, 119, 120, 121, 122, 123, 124, 125, 126, 127, 128, 129, 130, 131, 132, 133, 134, 135, 136, 137, 138, 139, 140, 141, 142, 143, 144, 145, 146, 147, 148, 149, 150, 151, 152, 153, 154, 155, 156, 157, 158, 159, 160, 161, 162, 163, 164, 165, 166, 167, 168, 169, 170, 171, 172, 173, 174, 175, 176, 177, 178, 179, 180, 181, 182, 183, 184, 185, 186, 187, 188, 189, 190, 191, 192, 193, 194, 195, 196]                                                                                                |        357,408 |         0 |   3,072 |\n",
            "|                          model/block_1_project/Conv2D1                           |                                                                                             [0, 118, 119, 120, 121, 122, 123, 124, 125, 126, 127, 128, 129, 130, 131, 132, 133, 134, 135, 136, 137, 138, 139, 140, 141, 142, 143, 144, 145, 146, 147, 148, 149, 150, 151, 152, 153, 154, 155, 156, 157, 158, 159, 160, 161, 162, 163, 164, 165, 166, 167, 168, 169, 170, 171, 172, 173, 174, 175, 176, 177, 178, 179, 180, 181, 182, 183, 184, 185, 186, 187, 188, 189, 190, 191, 192, 193, 194, 195, 196, 197]                                                                                              |        366,624 |         0 |   4,608 |\n",
            "|                           model/block_2_expand/Conv2D1                           |                                                                                           [0, 118, 119, 120, 121, 122, 123, 124, 125, 126, 127, 128, 129, 130, 131, 132, 133, 134, 135, 136, 137, 138, 139, 140, 141, 142, 143, 144, 145, 146, 147, 148, 149, 150, 151, 152, 153, 154, 155, 156, 157, 158, 159, 160, 161, 162, 163, 164, 165, 166, 167, 168, 169, 170, 171, 172, 173, 174, 175, 176, 177, 178, 179, 180, 181, 182, 183, 184, 185, 186, 187, 188, 189, 190, 191, 192, 193, 194, 195, 196, 197, 198]                                                                                           |        380,448 |         0 |   6,912 |\n",
            "|                          model/block_2_project/Conv2D3                           |                                                                                        [0, 118, 119, 120, 121, 122, 123, 124, 125, 126, 127, 128, 129, 130, 131, 132, 133, 134, 135, 136, 137, 138, 139, 140, 141, 142, 143, 144, 145, 146, 147, 148, 149, 150, 151, 152, 153, 154, 155, 156, 157, 158, 159, 160, 161, 162, 163, 164, 165, 166, 167, 168, 169, 170, 171, 172, 173, 174, 175, 176, 177, 178, 179, 180, 181, 182, 183, 184, 185, 186, 187, 188, 189, 190, 191, 192, 193, 194, 195, 196, 197, 198, 199]                                                                                         |        394,272 |         0 |   6,912 |\n",
            "|                           model/block_3_expand/Conv2D1                           |                                                                                      [0, 118, 119, 120, 121, 122, 123, 124, 125, 126, 127, 128, 129, 130, 131, 132, 133, 134, 135, 136, 137, 138, 139, 140, 141, 142, 143, 144, 145, 146, 147, 148, 149, 150, 151, 152, 153, 154, 155, 156, 157, 158, 159, 160, 161, 162, 163, 164, 165, 166, 167, 168, 169, 170, 171, 172, 173, 174, 175, 176, 177, 178, 179, 180, 181, 182, 183, 184, 185, 186, 187, 188, 189, 190, 191, 192, 193, 194, 195, 196, 197, 198, 199, 200]                                                                                      |        408,096 |         0 |   6,912 |\n",
            "|                          model/block_3_project/Conv2D1                           |                                                                                   [0, 118, 119, 120, 121, 122, 123, 124, 125, 126, 127, 128, 129, 130, 131, 132, 133, 134, 135, 136, 137, 138, 139, 140, 141, 142, 143, 144, 145, 146, 147, 148, 149, 150, 151, 152, 153, 154, 155, 156, 157, 158, 159, 160, 161, 162, 163, 164, 165, 166, 167, 168, 169, 170, 171, 172, 173, 174, 175, 176, 177, 178, 179, 180, 181, 182, 183, 184, 185, 186, 187, 188, 189, 190, 191, 192, 193, 194, 195, 196, 197, 198, 199, 200, 201]                                                                                    |        426,528 |         0 |   9,216 |\n",
            "|                           model/block_4_expand/Conv2D1                           |                                                                                 [0, 118, 119, 120, 121, 122, 123, 124, 125, 126, 127, 128, 129, 130, 131, 132, 133, 134, 135, 136, 137, 138, 139, 140, 141, 142, 143, 144, 145, 146, 147, 148, 149, 150, 151, 152, 153, 154, 155, 156, 157, 158, 159, 160, 161, 162, 163, 164, 165, 166, 167, 168, 169, 170, 171, 172, 173, 174, 175, 176, 177, 178, 179, 180, 181, 182, 183, 184, 185, 186, 187, 188, 189, 190, 191, 192, 193, 194, 195, 196, 197, 198, 199, 200, 201, 202]                                                                                 |        451,104 |         0 |  12,288 |\n",
            "|                          model/block_4_project/Conv2D1                           |                                                                              [0, 118, 119, 120, 121, 122, 123, 124, 125, 126, 127, 128, 129, 130, 131, 132, 133, 134, 135, 136, 137, 138, 139, 140, 141, 142, 143, 144, 145, 146, 147, 148, 149, 150, 151, 152, 153, 154, 155, 156, 157, 158, 159, 160, 161, 162, 163, 164, 165, 166, 167, 168, 169, 170, 171, 172, 173, 174, 175, 176, 177, 178, 179, 180, 181, 182, 183, 184, 185, 186, 187, 188, 189, 190, 191, 192, 193, 194, 195, 196, 197, 198, 199, 200, 201, 202, 203]                                                                               |        475,680 |         0 |  12,288 |\n",
            "|                           model/block_5_expand/Conv2D1                           |                                                                            [0, 118, 119, 120, 121, 122, 123, 124, 125, 126, 127, 128, 129, 130, 131, 132, 133, 134, 135, 136, 137, 138, 139, 140, 141, 142, 143, 144, 145, 146, 147, 148, 149, 150, 151, 152, 153, 154, 155, 156, 157, 158, 159, 160, 161, 162, 163, 164, 165, 166, 167, 168, 169, 170, 171, 172, 173, 174, 175, 176, 177, 178, 179, 180, 181, 182, 183, 184, 185, 186, 187, 188, 189, 190, 191, 192, 193, 194, 195, 196, 197, 198, 199, 200, 201, 202, 203, 204]                                                                            |        500,256 |         0 |  12,288 |\n",
            "|                          model/block_5_project/Conv2D1                           |                                                                         [0, 118, 119, 120, 121, 122, 123, 124, 125, 126, 127, 128, 129, 130, 131, 132, 133, 134, 135, 136, 137, 138, 139, 140, 141, 142, 143, 144, 145, 146, 147, 148, 149, 150, 151, 152, 153, 154, 155, 156, 157, 158, 159, 160, 161, 162, 163, 164, 165, 166, 167, 168, 169, 170, 171, 172, 173, 174, 175, 176, 177, 178, 179, 180, 181, 182, 183, 184, 185, 186, 187, 188, 189, 190, 191, 192, 193, 194, 195, 196, 197, 198, 199, 200, 201, 202, 203, 204, 205]                                                                          |        524,832 |         0 |  12,288 |\n",
            "|                           model/block_6_expand/Conv2D1                           |                                                                       [0, 118, 119, 120, 121, 122, 123, 124, 125, 126, 127, 128, 129, 130, 131, 132, 133, 134, 135, 136, 137, 138, 139, 140, 141, 142, 143, 144, 145, 146, 147, 148, 149, 150, 151, 152, 153, 154, 155, 156, 157, 158, 159, 160, 161, 162, 163, 164, 165, 166, 167, 168, 169, 170, 171, 172, 173, 174, 175, 176, 177, 178, 179, 180, 181, 182, 183, 184, 185, 186, 187, 188, 189, 190, 191, 192, 193, 194, 195, 196, 197, 198, 199, 200, 201, 202, 203, 204, 205, 206]                                                                       |        549,408 |         0 |  12,288 |\n",
            "|                          model/block_6_project/Conv2D1                           |                                                                    [0, 118, 119, 120, 121, 122, 123, 124, 125, 126, 127, 128, 129, 130, 131, 132, 133, 134, 135, 136, 137, 138, 139, 140, 141, 142, 143, 144, 145, 146, 147, 148, 149, 150, 151, 152, 153, 154, 155, 156, 157, 158, 159, 160, 161, 162, 163, 164, 165, 166, 167, 168, 169, 170, 171, 172, 173, 174, 175, 176, 177, 178, 179, 180, 181, 182, 183, 184, 185, 186, 187, 188, 189, 190, 191, 192, 193, 194, 195, 196, 197, 198, 199, 200, 201, 202, 203, 204, 205, 206, 207]                                                                     |        598,560 |         0 |  24,576 |\n",
            "|                           model/block_7_expand/Conv2D1                           |                                                                  [0, 118, 119, 120, 121, 122, 123, 124, 125, 126, 127, 128, 129, 130, 131, 132, 133, 134, 135, 136, 137, 138, 139, 140, 141, 142, 143, 144, 145, 146, 147, 148, 149, 150, 151, 152, 153, 154, 155, 156, 157, 158, 159, 160, 161, 162, 163, 164, 165, 166, 167, 168, 169, 170, 171, 172, 173, 174, 175, 176, 177, 178, 179, 180, 181, 182, 183, 184, 185, 186, 187, 188, 189, 190, 191, 192, 193, 194, 195, 196, 197, 198, 199, 200, 201, 202, 203, 204, 205, 206, 207, 208]                                                                  |        696,864 |         0 |  49,152 |\n",
            "|                          model/block_7_project/Conv2D1                           |                                                               [0, 118, 119, 120, 121, 122, 123, 124, 125, 126, 127, 128, 129, 130, 131, 132, 133, 134, 135, 136, 137, 138, 139, 140, 141, 142, 143, 144, 145, 146, 147, 148, 149, 150, 151, 152, 153, 154, 155, 156, 157, 158, 159, 160, 161, 162, 163, 164, 165, 166, 167, 168, 169, 170, 171, 172, 173, 174, 175, 176, 177, 178, 179, 180, 181, 182, 183, 184, 185, 186, 187, 188, 189, 190, 191, 192, 193, 194, 195, 196, 197, 198, 199, 200, 201, 202, 203, 204, 205, 206, 207, 208, 209]                                                                |        795,168 |         0 |  49,152 |\n",
            "|                           model/block_8_expand/Conv2D1                           |                                                             [0, 118, 119, 120, 121, 122, 123, 124, 125, 126, 127, 128, 129, 130, 131, 132, 133, 134, 135, 136, 137, 138, 139, 140, 141, 142, 143, 144, 145, 146, 147, 148, 149, 150, 151, 152, 153, 154, 155, 156, 157, 158, 159, 160, 161, 162, 163, 164, 165, 166, 167, 168, 169, 170, 171, 172, 173, 174, 175, 176, 177, 178, 179, 180, 181, 182, 183, 184, 185, 186, 187, 188, 189, 190, 191, 192, 193, 194, 195, 196, 197, 198, 199, 200, 201, 202, 203, 204, 205, 206, 207, 208, 209, 210]                                                             |        893,472 |         0 |  49,152 |\n",
            "|                          model/block_8_project/Conv2D1                           |                                                          [0, 118, 119, 120, 121, 122, 123, 124, 125, 126, 127, 128, 129, 130, 131, 132, 133, 134, 135, 136, 137, 138, 139, 140, 141, 142, 143, 144, 145, 146, 147, 148, 149, 150, 151, 152, 153, 154, 155, 156, 157, 158, 159, 160, 161, 162, 163, 164, 165, 166, 167, 168, 169, 170, 171, 172, 173, 174, 175, 176, 177, 178, 179, 180, 181, 182, 183, 184, 185, 186, 187, 188, 189, 190, 191, 192, 193, 194, 195, 196, 197, 198, 199, 200, 201, 202, 203, 204, 205, 206, 207, 208, 209, 210, 211]                                                           |        991,776 |         0 |  49,152 |\n",
            "|                           model/block_9_expand/Conv2D1                           |                                                        [0, 118, 119, 120, 121, 122, 123, 124, 125, 126, 127, 128, 129, 130, 131, 132, 133, 134, 135, 136, 137, 138, 139, 140, 141, 142, 143, 144, 145, 146, 147, 148, 149, 150, 151, 152, 153, 154, 155, 156, 157, 158, 159, 160, 161, 162, 163, 164, 165, 166, 167, 168, 169, 170, 171, 172, 173, 174, 175, 176, 177, 178, 179, 180, 181, 182, 183, 184, 185, 186, 187, 188, 189, 190, 191, 192, 193, 194, 195, 196, 197, 198, 199, 200, 201, 202, 203, 204, 205, 206, 207, 208, 209, 210, 211, 212]                                                        |      1,090,080 |         0 |  49,152 |\n",
            "|                          model/block_9_project/Conv2D1                           |                                                     [0, 118, 119, 120, 121, 122, 123, 124, 125, 126, 127, 128, 129, 130, 131, 132, 133, 134, 135, 136, 137, 138, 139, 140, 141, 142, 143, 144, 145, 146, 147, 148, 149, 150, 151, 152, 153, 154, 155, 156, 157, 158, 159, 160, 161, 162, 163, 164, 165, 166, 167, 168, 169, 170, 171, 172, 173, 174, 175, 176, 177, 178, 179, 180, 181, 182, 183, 184, 185, 186, 187, 188, 189, 190, 191, 192, 193, 194, 195, 196, 197, 198, 199, 200, 201, 202, 203, 204, 205, 206, 207, 208, 209, 210, 211, 212, 213]                                                      |      1,188,384 |         0 |  49,152 |\n",
            "|                          model/block_10_adjust/Conv2D1                           |                                                   [0, 118, 119, 120, 121, 122, 123, 124, 125, 126, 127, 128, 129, 130, 131, 132, 133, 134, 135, 136, 137, 138, 139, 140, 141, 142, 143, 144, 145, 146, 147, 148, 149, 150, 151, 152, 153, 154, 155, 156, 157, 158, 159, 160, 161, 162, 163, 164, 165, 166, 167, 168, 169, 170, 171, 172, 173, 174, 175, 176, 177, 178, 179, 180, 181, 182, 183, 184, 185, 186, 187, 188, 189, 190, 191, 192, 193, 194, 195, 196, 197, 198, 199, 200, 201, 202, 203, 204, 205, 206, 207, 208, 209, 210, 211, 212, 213, 214]                                                   |      1,212,960 |         0 |  12,288 |\n",
            "|                          model/block_10_expand/Conv2D1                           |                                                [0, 118, 119, 120, 121, 122, 123, 124, 125, 126, 127, 128, 129, 130, 131, 132, 133, 134, 135, 136, 137, 138, 139, 140, 141, 142, 143, 144, 145, 146, 147, 148, 149, 150, 151, 152, 153, 154, 155, 156, 157, 158, 159, 160, 161, 162, 163, 164, 165, 166, 167, 168, 169, 170, 171, 172, 173, 174, 175, 176, 177, 178, 179, 180, 181, 182, 183, 184, 185, 186, 187, 188, 189, 190, 191, 192, 193, 194, 195, 196, 197, 198, 199, 200, 201, 202, 203, 204, 205, 206, 207, 208, 209, 210, 211, 212, 213, 214, 215]                                                 |      1,311,264 |         0 |  49,152 |\n",
            "|                          model/block_10_project/Conv2D1                          |                                              [0, 118, 119, 120, 121, 122, 123, 124, 125, 126, 127, 128, 129, 130, 131, 132, 133, 134, 135, 136, 137, 138, 139, 140, 141, 142, 143, 144, 145, 146, 147, 148, 149, 150, 151, 152, 153, 154, 155, 156, 157, 158, 159, 160, 161, 162, 163, 164, 165, 166, 167, 168, 169, 170, 171, 172, 173, 174, 175, 176, 177, 178, 179, 180, 181, 182, 183, 184, 185, 186, 187, 188, 189, 190, 191, 192, 193, 194, 195, 196, 197, 198, 199, 200, 201, 202, 203, 204, 205, 206, 207, 208, 209, 210, 211, 212, 213, 214, 215, 216]                                              |      1,458,720 |         0 |  73,728 |\n",
            "|                          model/block_11_expand/Conv2D1                           |                                           [0, 118, 119, 120, 121, 122, 123, 124, 125, 126, 127, 128, 129, 130, 131, 132, 133, 134, 135, 136, 137, 138, 139, 140, 141, 142, 143, 144, 145, 146, 147, 148, 149, 150, 151, 152, 153, 154, 155, 156, 157, 158, 159, 160, 161, 162, 163, 164, 165, 166, 167, 168, 169, 170, 171, 172, 173, 174, 175, 176, 177, 178, 179, 180, 181, 182, 183, 184, 185, 186, 187, 188, 189, 190, 191, 192, 193, 194, 195, 196, 197, 198, 199, 200, 201, 202, 203, 204, 205, 206, 207, 208, 209, 210, 211, 212, 213, 214, 215, 216, 217]                                            |      1,679,904 |         0 | 110,592 |\n",
            "|                          model/block_11_project/Conv2D1                          |                                         [0, 118, 119, 120, 121, 122, 123, 124, 125, 126, 127, 128, 129, 130, 131, 132, 133, 134, 135, 136, 137, 138, 139, 140, 141, 142, 143, 144, 145, 146, 147, 148, 149, 150, 151, 152, 153, 154, 155, 156, 157, 158, 159, 160, 161, 162, 163, 164, 165, 166, 167, 168, 169, 170, 171, 172, 173, 174, 175, 176, 177, 178, 179, 180, 181, 182, 183, 184, 185, 186, 187, 188, 189, 190, 191, 192, 193, 194, 195, 196, 197, 198, 199, 200, 201, 202, 203, 204, 205, 206, 207, 208, 209, 210, 211, 212, 213, 214, 215, 216, 217, 218]                                         |      1,901,088 |         0 | 110,592 |\n",
            "|                          model/block_12_expand/Conv2D1                           |                                      [0, 118, 119, 120, 121, 122, 123, 124, 125, 126, 127, 128, 129, 130, 131, 132, 133, 134, 135, 136, 137, 138, 139, 140, 141, 142, 143, 144, 145, 146, 147, 148, 149, 150, 151, 152, 153, 154, 155, 156, 157, 158, 159, 160, 161, 162, 163, 164, 165, 166, 167, 168, 169, 170, 171, 172, 173, 174, 175, 176, 177, 178, 179, 180, 181, 182, 183, 184, 185, 186, 187, 188, 189, 190, 191, 192, 193, 194, 195, 196, 197, 198, 199, 200, 201, 202, 203, 204, 205, 206, 207, 208, 209, 210, 211, 212, 213, 214, 215, 216, 217, 218, 219]                                       |      2,122,272 |         0 | 110,592 |\n",
            "|                          model/block_12_project/Conv2D3                          |                                    [0, 118, 119, 120, 121, 122, 123, 124, 125, 126, 127, 128, 129, 130, 131, 132, 133, 134, 135, 136, 137, 138, 139, 140, 141, 142, 143, 144, 145, 146, 147, 148, 149, 150, 151, 152, 153, 154, 155, 156, 157, 158, 159, 160, 161, 162, 163, 164, 165, 166, 167, 168, 169, 170, 171, 172, 173, 174, 175, 176, 177, 178, 179, 180, 181, 182, 183, 184, 185, 186, 187, 188, 189, 190, 191, 192, 193, 194, 195, 196, 197, 198, 199, 200, 201, 202, 203, 204, 205, 206, 207, 208, 209, 210, 211, 212, 213, 214, 215, 216, 217, 218, 219, 220]                                    |      2,343,456 |         0 | 110,592 |\n",
            "|                          model/block_13_expand/Conv2D1                           |                                 [0, 118, 119, 120, 121, 122, 123, 124, 125, 126, 127, 128, 129, 130, 131, 132, 133, 134, 135, 136, 137, 138, 139, 140, 141, 142, 143, 144, 145, 146, 147, 148, 149, 150, 151, 152, 153, 154, 155, 156, 157, 158, 159, 160, 161, 162, 163, 164, 165, 166, 167, 168, 169, 170, 171, 172, 173, 174, 175, 176, 177, 178, 179, 180, 181, 182, 183, 184, 185, 186, 187, 188, 189, 190, 191, 192, 193, 194, 195, 196, 197, 198, 199, 200, 201, 202, 203, 204, 205, 206, 207, 208, 209, 210, 211, 212, 213, 214, 215, 216, 217, 218, 219, 220, 221]                                  |      2,564,640 |         0 | 110,592 |\n",
            "|                          model/block_13_project/Conv2D1                          |                               [0, 118, 119, 120, 121, 122, 123, 124, 125, 126, 127, 128, 129, 130, 131, 132, 133, 134, 135, 136, 137, 138, 139, 140, 141, 142, 143, 144, 145, 146, 147, 148, 149, 150, 151, 152, 153, 154, 155, 156, 157, 158, 159, 160, 161, 162, 163, 164, 165, 166, 167, 168, 169, 170, 171, 172, 173, 174, 175, 176, 177, 178, 179, 180, 181, 182, 183, 184, 185, 186, 187, 188, 189, 190, 191, 192, 193, 194, 195, 196, 197, 198, 199, 200, 201, 202, 203, 204, 205, 206, 207, 208, 209, 210, 211, 212, 213, 214, 215, 216, 217, 218, 219, 220, 221, 222]                               |      2,933,280 |         0 | 184,320 |\n",
            "|                          model/block_14_expand/Conv2D1                           |                            [0, 118, 119, 120, 121, 122, 123, 124, 125, 126, 127, 128, 129, 130, 131, 132, 133, 134, 135, 136, 137, 138, 139, 140, 141, 142, 143, 144, 145, 146, 147, 148, 149, 150, 151, 152, 153, 154, 155, 156, 157, 158, 159, 160, 161, 162, 163, 164, 165, 166, 167, 168, 169, 170, 171, 172, 173, 174, 175, 176, 177, 178, 179, 180, 181, 182, 183, 184, 185, 186, 187, 188, 189, 190, 191, 192, 193, 194, 195, 196, 197, 198, 199, 200, 201, 202, 203, 204, 205, 206, 207, 208, 209, 210, 211, 212, 213, 214, 215, 216, 217, 218, 219, 220, 221, 222, 223]                             |      3,547,680 |         0 | 307,200 |\n",
            "|                          model/block_14_project/Conv2D1                          |                          [0, 118, 119, 120, 121, 122, 123, 124, 125, 126, 127, 128, 129, 130, 131, 132, 133, 134, 135, 136, 137, 138, 139, 140, 141, 142, 143, 144, 145, 146, 147, 148, 149, 150, 151, 152, 153, 154, 155, 156, 157, 158, 159, 160, 161, 162, 163, 164, 165, 166, 167, 168, 169, 170, 171, 172, 173, 174, 175, 176, 177, 178, 179, 180, 181, 182, 183, 184, 185, 186, 187, 188, 189, 190, 191, 192, 193, 194, 195, 196, 197, 198, 199, 200, 201, 202, 203, 204, 205, 206, 207, 208, 209, 210, 211, 212, 213, 214, 215, 216, 217, 218, 219, 220, 221, 222, 223, 224]                          |      4,162,080 |         0 | 307,200 |\n",
            "|                          model/block_15_expand/Conv2D1                           |                       [0, 118, 119, 120, 121, 122, 123, 124, 125, 126, 127, 128, 129, 130, 131, 132, 133, 134, 135, 136, 137, 138, 139, 140, 141, 142, 143, 144, 145, 146, 147, 148, 149, 150, 151, 152, 153, 154, 155, 156, 157, 158, 159, 160, 161, 162, 163, 164, 165, 166, 167, 168, 169, 170, 171, 172, 173, 174, 175, 176, 177, 178, 179, 180, 181, 182, 183, 184, 185, 186, 187, 188, 189, 190, 191, 192, 193, 194, 195, 196, 197, 198, 199, 200, 201, 202, 203, 204, 205, 206, 207, 208, 209, 210, 211, 212, 213, 214, 215, 216, 217, 218, 219, 220, 221, 222, 223, 224, 225]                        |      4,776,480 |         0 | 307,200 |\n",
            "|                          model/block_15_project/Conv2D1                          |                     [0, 118, 119, 120, 121, 122, 123, 124, 125, 126, 127, 128, 129, 130, 131, 132, 133, 134, 135, 136, 137, 138, 139, 140, 141, 142, 143, 144, 145, 146, 147, 148, 149, 150, 151, 152, 153, 154, 155, 156, 157, 158, 159, 160, 161, 162, 163, 164, 165, 166, 167, 168, 169, 170, 171, 172, 173, 174, 175, 176, 177, 178, 179, 180, 181, 182, 183, 184, 185, 186, 187, 188, 189, 190, 191, 192, 193, 194, 195, 196, 197, 198, 199, 200, 201, 202, 203, 204, 205, 206, 207, 208, 209, 210, 211, 212, 213, 214, 215, 216, 217, 218, 219, 220, 221, 222, 223, 224, 225, 226]                     |      5,390,880 |         0 | 307,200 |\n",
            "|                          model/block_16_project/Conv2D2                          |                  [0, 118, 119, 120, 121, 122, 123, 124, 125, 126, 127, 128, 129, 130, 131, 132, 133, 134, 135, 136, 137, 138, 139, 140, 141, 142, 143, 144, 145, 146, 147, 148, 149, 150, 151, 152, 153, 154, 155, 156, 157, 158, 159, 160, 161, 162, 163, 164, 165, 166, 167, 168, 169, 170, 171, 172, 173, 174, 175, 176, 177, 178, 179, 180, 181, 182, 183, 184, 185, 186, 187, 188, 189, 190, 191, 192, 193, 194, 195, 196, 197, 198, 199, 200, 201, 202, 203, 204, 205, 206, 207, 208, 209, 210, 211, 212, 213, 214, 215, 216, 217, 218, 219, 220, 221, 222, 223, 224, 225, 226, 227]                   |      5,392,160 |         0 |     640 |\n",
            "|                          model/block_16_adjust/Conv2D1                           |                [0, 118, 119, 120, 121, 122, 123, 124, 125, 126, 127, 128, 129, 130, 131, 132, 133, 134, 135, 136, 137, 138, 139, 140, 141, 142, 143, 144, 145, 146, 147, 148, 149, 150, 151, 152, 153, 154, 155, 156, 157, 158, 159, 160, 161, 162, 163, 164, 165, 166, 167, 168, 169, 170, 171, 172, 173, 174, 175, 176, 177, 178, 179, 180, 181, 182, 183, 184, 185, 186, 187, 188, 189, 190, 191, 192, 193, 194, 195, 196, 197, 198, 199, 200, 201, 202, 203, 204, 205, 206, 207, 208, 209, 210, 211, 212, 213, 214, 215, 216, 217, 218, 219, 220, 221, 222, 223, 224, 225, 226, 227, 228]                |      5,596,960 |         0 | 102,400 |\n",
            "|                          model/block_16_expand/Conv2D1                           |             [0, 118, 119, 120, 121, 122, 123, 124, 125, 126, 127, 128, 129, 130, 131, 132, 133, 134, 135, 136, 137, 138, 139, 140, 141, 142, 143, 144, 145, 146, 147, 148, 149, 150, 151, 152, 153, 154, 155, 156, 157, 158, 159, 160, 161, 162, 163, 164, 165, 166, 167, 168, 169, 170, 171, 172, 173, 174, 175, 176, 177, 178, 179, 180, 181, 182, 183, 184, 185, 186, 187, 188, 189, 190, 191, 192, 193, 194, 195, 196, 197, 198, 199, 200, 201, 202, 203, 204, 205, 206, 207, 208, 209, 210, 211, 212, 213, 214, 215, 216, 217, 218, 219, 220, 221, 222, 223, 224, 225, 226, 227, 228, 229]              |      6,211,360 |         0 | 307,200 |\n",
            "|                          model/block_16_project/Conv2D3                          |           [0, 118, 119, 120, 121, 122, 123, 124, 125, 126, 127, 128, 129, 130, 131, 132, 133, 134, 135, 136, 137, 138, 139, 140, 141, 142, 143, 144, 145, 146, 147, 148, 149, 150, 151, 152, 153, 154, 155, 156, 157, 158, 159, 160, 161, 162, 163, 164, 165, 166, 167, 168, 169, 170, 171, 172, 173, 174, 175, 176, 177, 178, 179, 180, 181, 182, 183, 184, 185, 186, 187, 188, 189, 190, 191, 192, 193, 194, 195, 196, 197, 198, 199, 200, 201, 202, 203, 204, 205, 206, 207, 208, 209, 210, 211, 212, 213, 214, 215, 216, 217, 218, 219, 220, 221, 222, 223, 224, 225, 226, 227, 228, 229, 230]           |      7,440,160 |         0 | 614,400 |\n",
            "|                               model/Conv_1/Conv2D1                               |        [0, 118, 119, 120, 121, 122, 123, 124, 125, 126, 127, 128, 129, 130, 131, 132, 133, 134, 135, 136, 137, 138, 139, 140, 141, 142, 143, 144, 145, 146, 147, 148, 149, 150, 151, 152, 153, 154, 155, 156, 157, 158, 159, 160, 161, 162, 163, 164, 165, 166, 167, 168, 169, 170, 171, 172, 173, 174, 175, 176, 177, 178, 179, 180, 181, 182, 183, 184, 185, 186, 187, 188, 189, 190, 191, 192, 193, 194, 195, 196, 197, 198, 199, 200, 201, 202, 203, 204, 205, 206, 207, 208, 209, 210, 211, 212, 213, 214, 215, 216, 217, 218, 219, 220, 221, 222, 223, 224, 225, 226, 227, 228, 229, 230, 231]         |      9,078,560 |         0 | 819,200 |\n",
            "|                    model/predictions/BiasAdd/ReadVariableOp1                     |      [0, 118, 119, 120, 121, 122, 123, 124, 125, 126, 127, 128, 129, 130, 131, 132, 133, 134, 135, 136, 137, 138, 139, 140, 141, 142, 143, 144, 145, 146, 147, 148, 149, 150, 151, 152, 153, 154, 155, 156, 157, 158, 159, 160, 161, 162, 163, 164, 165, 166, 167, 168, 169, 170, 171, 172, 173, 174, 175, 176, 177, 178, 179, 180, 181, 182, 183, 184, 185, 186, 187, 188, 189, 190, 191, 192, 193, 194, 195, 196, 197, 198, 199, 200, 201, 202, 203, 204, 205, 206, 207, 208, 209, 210, 211, 212, 213, 214, 215, 216, 217, 218, 219, 220, 221, 222, 223, 224, 225, 226, 227, 228, 229, 230, 231, 232]      |      9,078,600 |         0 |      20 |\n",
            "|                            model/predictions/MatMul1                             |   [0, 118, 119, 120, 121, 122, 123, 124, 125, 126, 127, 128, 129, 130, 131, 132, 133, 134, 135, 136, 137, 138, 139, 140, 141, 142, 143, 144, 145, 146, 147, 148, 149, 150, 151, 152, 153, 154, 155, 156, 157, 158, 159, 160, 161, 162, 163, 164, 165, 166, 167, 168, 169, 170, 171, 172, 173, 174, 175, 176, 177, 178, 179, 180, 181, 182, 183, 184, 185, 186, 187, 188, 189, 190, 191, 192, 193, 194, 195, 196, 197, 198, 199, 200, 201, 202, 203, 204, 205, 206, 207, 208, 209, 210, 211, 212, 213, 214, 215, 216, 217, 218, 219, 220, 221, 222, 223, 224, 225, 226, 227, 228, 229, 230, 231, 232, 233]    |      9,129,800 |         0 |  25,600 |\n",
            "| model/Conv1_relu/Relu;model/bn_Conv1/F...ock_5_project/Conv2D;model/Conv1/Conv2D | [0, 118, 119, 120, 121, 122, 123, 124, 125, 126, 127, 128, 129, 130, 131, 132, 133, 134, 135, 136, 137, 138, 139, 140, 141, 142, 143, 144, 145, 146, 147, 148, 149, 150, 151, 152, 153, 154, 155, 156, 157, 158, 159, 160, 161, 162, 163, 164, 165, 166, 167, 168, 169, 170, 171, 172, 173, 174, 175, 176, 177, 178, 179, 180, 181, 182, 183, 184, 185, 186, 187, 188, 189, 190, 191, 192, 193, 194, 195, 196, 197, 198, 199, 200, 201, 202, 203, 204, 205, 206, 207, 208, 209, 210, 211, 212, 213, 214, 215, 216, 217, 218, 219, 220, 221, 222, 223, 224, 225, 226, 227, 228, 229, 230, 231, 232, 233, 234] |      9,260,872 |   884,736 |       0 |\n",
            "|                           model/block_0_adjust/Conv2D2                           |     [119, 120, 121, 122, 123, 124, 125, 126, 127, 128, 129, 130, 131, 132, 133, 134, 135, 136, 137, 138, 139, 140, 141, 142, 143, 144, 145, 146, 147, 148, 149, 150, 151, 152, 153, 154, 155, 156, 157, 158, 159, 160, 161, 162, 163, 164, 165, 166, 167, 168, 169, 170, 171, 172, 173, 174, 175, 176, 177, 178, 179, 180, 181, 182, 183, 184, 185, 186, 187, 188, 190, 191, 192, 193, 194, 195, 196, 197, 198, 199, 200, 201, 202, 203, 204, 205, 206, 207, 208, 209, 210, 211, 212, 213, 214, 215, 216, 217, 218, 219, 220, 221, 222, 223, 224, 225, 226, 227, 228, 229, 230, 231, 232, 233, 234, 235]     |      9,310,536 |   524,288 |       0 |\n",
            "| model/block_0_expand_relu/Relu;model/b...ject/Conv2D;model/block_0_expand/Conv2D |       [119, 120, 121, 122, 123, 124, 125, 126, 127, 128, 129, 130, 131, 132, 133, 134, 135, 136, 137, 138, 139, 140, 141, 142, 143, 144, 145, 146, 147, 148, 149, 150, 151, 152, 153, 154, 155, 156, 157, 158, 159, 160, 161, 162, 163, 164, 165, 166, 167, 168, 169, 170, 171, 172, 173, 174, 175, 176, 177, 178, 179, 180, 181, 182, 183, 184, 185, 186, 187, 188, 192, 193, 194, 195, 196, 197, 198, 199, 200, 201, 202, 203, 204, 205, 206, 207, 208, 209, 210, 211, 212, 213, 214, 215, 216, 217, 218, 219, 220, 221, 222, 223, 224, 225, 226, 227, 228, 229, 230, 231, 232, 233, 234, 235, 236]        |      9,439,496 | 1,048,576 |       0 |\n",
            "| model/block_0_depthwise_relu/Relu;mode...onv2D;model/block_0_depthwise/depthwise |            [120, 121, 122, 123, 124, 125, 126, 127, 128, 129, 130, 131, 132, 133, 134, 135, 136, 137, 138, 139, 140, 141, 142, 143, 144, 145, 146, 147, 148, 149, 150, 151, 152, 153, 154, 155, 156, 157, 158, 159, 160, 161, 162, 163, 164, 165, 166, 167, 168, 169, 170, 171, 172, 173, 174, 175, 176, 177, 178, 179, 180, 181, 182, 183, 184, 185, 186, 187, 188, 193, 194, 195, 196, 197, 198, 199, 200, 201, 202, 203, 204, 205, 206, 207, 208, 209, 210, 211, 212, 213, 214, 215, 216, 217, 218, 219, 220, 221, 222, 223, 224, 225, 226, 227, 228, 229, 230, 231, 232, 233, 235, 236, 237]             |      9,435,272 |   294,912 |       0 |\n",
            "|      model/block_0_project_BN/FusedBatchNormV3;model/block_0_project/Conv2D      |                 [121, 122, 123, 124, 125, 126, 127, 128, 129, 130, 131, 132, 133, 134, 135, 136, 137, 138, 139, 140, 141, 142, 143, 144, 145, 146, 147, 148, 149, 150, 151, 152, 153, 155, 156, 157, 158, 159, 160, 161, 162, 163, 164, 165, 166, 167, 168, 169, 170, 171, 172, 173, 174, 175, 176, 177, 178, 179, 180, 181, 182, 183, 184, 185, 186, 187, 188, 193, 194, 195, 196, 197, 198, 199, 200, 201, 202, 203, 204, 205, 206, 207, 208, 209, 210, 211, 212, 213, 214, 215, 216, 217, 218, 219, 220, 221, 222, 223, 224, 225, 226, 227, 228, 229, 230, 231, 232, 233, 235, 237, 238]                  |      9,368,456 |   524,288 |       0 |\n",
            "|                              model/block_0_add/add                               |                      [121, 122, 123, 124, 125, 126, 127, 128, 129, 130, 131, 132, 133, 134, 135, 136, 137, 138, 139, 140, 141, 142, 143, 144, 145, 146, 147, 148, 149, 150, 151, 152, 153, 156, 157, 158, 159, 160, 161, 162, 163, 164, 165, 166, 167, 168, 169, 170, 171, 172, 173, 174, 175, 176, 177, 178, 179, 180, 181, 182, 183, 184, 185, 186, 187, 188, 194, 195, 196, 197, 198, 199, 200, 201, 202, 203, 204, 205, 206, 207, 208, 209, 210, 211, 212, 213, 214, 215, 216, 217, 218, 219, 220, 221, 222, 223, 224, 225, 226, 227, 228, 229, 230, 231, 232, 233, 235, 238, 239]                       |      9,300,808 |    16,384 |       0 |\n",
            "|                           model/block_1_adjust/Conv2D2                           |                         [121, 122, 123, 124, 125, 126, 127, 128, 129, 130, 131, 132, 133, 134, 135, 136, 137, 138, 139, 140, 141, 142, 143, 144, 145, 146, 147, 148, 149, 150, 151, 152, 153, 156, 157, 158, 159, 160, 161, 162, 163, 164, 165, 166, 167, 168, 169, 170, 171, 172, 173, 174, 175, 176, 177, 178, 179, 180, 181, 182, 183, 184, 185, 186, 187, 188, 194, 195, 196, 197, 198, 199, 200, 201, 202, 203, 204, 205, 206, 207, 208, 209, 210, 211, 212, 213, 214, 215, 216, 217, 218, 219, 220, 221, 222, 223, 224, 225, 226, 227, 228, 229, 230, 231, 232, 233, 239, 240]                         |      9,268,040 |   393,216 |       0 |\n",
            "| model/block_1_expand_relu/Relu;model/b...ject/Conv2D;model/block_1_expand/Conv2D |                           [121, 122, 123, 124, 125, 126, 127, 128, 129, 130, 131, 132, 133, 134, 135, 136, 137, 138, 139, 140, 141, 142, 143, 144, 145, 146, 147, 148, 149, 150, 151, 152, 153, 156, 157, 158, 159, 160, 161, 162, 163, 164, 165, 166, 167, 168, 169, 170, 171, 172, 173, 174, 175, 176, 177, 178, 179, 180, 181, 182, 183, 184, 185, 186, 187, 188, 196, 197, 198, 199, 200, 201, 202, 203, 204, 205, 206, 207, 208, 209, 210, 211, 212, 213, 214, 215, 216, 217, 218, 219, 220, 221, 222, 223, 224, 225, 226, 227, 228, 229, 230, 231, 232, 233, 239, 240, 241]                            |      9,659,624 | 1,572,864 |       0 |\n",
            "| model/block_1_depthwise_relu/Relu;mode...onv2D;model/block_1_depthwise/depthwise |                                [122, 123, 124, 125, 126, 127, 128, 129, 130, 131, 132, 133, 134, 135, 136, 137, 138, 139, 140, 141, 142, 143, 144, 145, 146, 147, 148, 149, 150, 151, 152, 153, 156, 157, 158, 159, 160, 161, 162, 163, 164, 165, 166, 167, 168, 169, 170, 171, 172, 173, 174, 175, 176, 177, 178, 179, 180, 181, 182, 183, 184, 185, 186, 187, 188, 197, 198, 199, 200, 201, 202, 203, 204, 205, 206, 207, 208, 209, 210, 211, 212, 213, 214, 215, 216, 217, 218, 219, 220, 221, 222, 223, 224, 225, 226, 227, 228, 229, 230, 231, 232, 233, 240, 241, 242]                                 |      9,980,776 |   884,736 |       0 |\n",
            "| model/block_1_project_BN/FusedBatchNor...ect/Conv2D;model/block_1_project/Conv2D |                                     [123, 124, 125, 126, 127, 128, 129, 130, 131, 132, 133, 134, 135, 136, 137, 138, 139, 140, 141, 142, 143, 144, 145, 146, 147, 148, 149, 150, 151, 152, 153, 157, 158, 159, 160, 161, 162, 163, 164, 165, 166, 167, 168, 169, 170, 171, 172, 173, 174, 175, 176, 177, 178, 179, 180, 181, 182, 183, 184, 185, 186, 187, 188, 197, 198, 199, 200, 201, 202, 203, 204, 205, 206, 207, 208, 209, 210, 211, 212, 213, 214, 215, 216, 217, 218, 219, 220, 221, 222, 223, 224, 225, 226, 227, 228, 229, 230, 231, 232, 233, 240, 242, 243]                                      |      9,682,024 | 2,359,296 |       0 |\n",
            "|                              model/block_1_add/add                               |                                          [123, 124, 125, 126, 127, 128, 129, 130, 131, 132, 133, 134, 135, 136, 137, 138, 139, 140, 141, 142, 143, 144, 145, 146, 147, 148, 149, 150, 151, 152, 153, 157, 159, 160, 161, 162, 163, 164, 165, 166, 167, 168, 169, 170, 171, 172, 173, 174, 175, 176, 177, 178, 179, 180, 181, 182, 183, 184, 185, 186, 187, 188, 198, 199, 200, 201, 202, 203, 204, 205, 206, 207, 208, 209, 210, 211, 212, 213, 214, 215, 216, 217, 218, 219, 220, 221, 222, 223, 224, 225, 226, 227, 228, 229, 230, 231, 232, 233, 240, 243, 244]                                           |      9,377,800 |    24,576 |       0 |\n",
            "| model/block_2_expand_relu/Relu;model/b...e/depthwise;model/block_2_expand/Conv2D |                                             [123, 124, 125, 126, 127, 128, 129, 130, 131, 132, 133, 134, 135, 136, 137, 138, 139, 140, 141, 142, 143, 144, 145, 146, 147, 148, 149, 150, 151, 152, 153, 157, 159, 160, 161, 162, 163, 164, 165, 166, 167, 168, 169, 170, 171, 172, 173, 174, 175, 176, 177, 178, 179, 180, 181, 182, 183, 184, 185, 186, 187, 188, 198, 199, 200, 201, 202, 203, 204, 205, 206, 207, 208, 209, 210, 211, 212, 213, 214, 215, 216, 217, 218, 219, 220, 221, 222, 223, 224, 225, 226, 227, 228, 229, 230, 231, 232, 233, 244, 245]                                             |      9,771,016 | 3,538,944 |       0 |\n",
            "| model/block_2_depthwise_relu/Relu;mode...hwise;model/block_2_depthwise/depthwise |                                               [124, 125, 126, 127, 128, 129, 130, 131, 132, 133, 134, 135, 136, 137, 138, 139, 140, 141, 142, 143, 144, 145, 146, 147, 148, 149, 150, 151, 152, 153, 157, 159, 160, 161, 162, 163, 164, 165, 166, 167, 168, 169, 170, 171, 172, 173, 174, 175, 176, 177, 178, 179, 180, 181, 182, 183, 184, 185, 186, 187, 188, 199, 200, 201, 202, 203, 204, 205, 206, 207, 208, 209, 210, 211, 212, 213, 214, 215, 216, 217, 218, 219, 220, 221, 222, 223, 224, 225, 226, 227, 228, 229, 230, 231, 232, 233, 244, 245, 246]                                                |     10,346,440 | 1,327,104 |       0 |\n",
            "|      model/block_2_project_BN/FusedBatchNormV3;model/block_2_project/Conv2D      |                                                    [125, 126, 127, 128, 129, 130, 131, 132, 133, 134, 135, 136, 137, 138, 139, 140, 141, 142, 143, 144, 145, 146, 147, 148, 149, 150, 151, 152, 153, 157, 160, 161, 162, 163, 164, 165, 166, 167, 168, 169, 170, 171, 172, 173, 174, 175, 176, 177, 178, 179, 180, 181, 182, 183, 184, 185, 186, 187, 188, 199, 200, 201, 202, 203, 204, 205, 206, 207, 208, 209, 210, 211, 212, 213, 214, 215, 216, 217, 218, 219, 220, 221, 222, 223, 224, 225, 226, 227, 228, 229, 230, 231, 232, 233, 244, 246, 247]                                                     |      9,849,160 | 3,538,944 |       0 |\n",
            "|                              model/block_2_add/add                               |                                                         [125, 126, 127, 128, 129, 130, 131, 132, 133, 134, 135, 136, 137, 138, 139, 140, 141, 142, 143, 144, 145, 146, 147, 148, 149, 150, 151, 152, 153, 157, 161, 162, 163, 164, 165, 166, 167, 168, 169, 170, 171, 172, 173, 174, 175, 176, 177, 178, 179, 180, 181, 182, 183, 184, 185, 186, 187, 188, 200, 201, 202, 203, 204, 205, 206, 207, 208, 209, 210, 211, 212, 213, 214, 215, 216, 217, 218, 219, 220, 221, 222, 223, 224, 225, 226, 227, 228, 229, 230, 231, 232, 233, 244, 247, 248]                                                          |      9,343,720 |    24,576 |       0 |\n",
            "| model/block_3_expand_relu/Relu;model/b...e/depthwise;model/block_3_expand/Conv2D |                                                            [125, 126, 127, 128, 129, 130, 131, 132, 133, 134, 135, 136, 137, 138, 139, 140, 141, 142, 143, 144, 145, 146, 147, 148, 149, 150, 151, 152, 153, 157, 161, 162, 163, 164, 165, 166, 167, 168, 169, 170, 171, 172, 173, 174, 175, 176, 177, 178, 179, 180, 181, 182, 183, 184, 185, 186, 187, 188, 200, 201, 202, 203, 204, 205, 206, 207, 208, 209, 210, 211, 212, 213, 214, 215, 216, 217, 218, 219, 220, 221, 222, 223, 224, 225, 226, 227, 228, 229, 230, 231, 232, 233, 248, 249]                                                            |      9,736,936 | 3,538,944 |       0 |\n",
            "| model/block_3_depthwise_relu/Relu;mode...ormV3;model/block_3_depthwise/depthwise |                                                                 [126, 127, 128, 129, 130, 131, 132, 133, 134, 135, 136, 137, 138, 139, 140, 141, 142, 143, 144, 145, 146, 147, 148, 149, 150, 151, 152, 153, 157, 161, 162, 163, 164, 165, 166, 167, 168, 169, 170, 171, 172, 173, 174, 175, 176, 177, 178, 179, 180, 181, 182, 183, 184, 185, 186, 187, 188, 201, 202, 203, 204, 205, 206, 207, 208, 209, 210, 211, 212, 213, 214, 215, 216, 217, 218, 219, 220, 221, 222, 223, 224, 225, 226, 227, 228, 229, 230, 231, 232, 233, 249, 250]                                                                 |      9,771,688 |   331,776 |       0 |\n",
            "| model/block_3_project_BN/FusedBatchNor...ect/Conv2D;model/block_3_project/Conv2D |                                                                      [127, 128, 129, 130, 131, 132, 133, 134, 135, 136, 137, 138, 139, 140, 141, 142, 143, 144, 145, 146, 147, 148, 149, 150, 151, 152, 153, 157, 162, 163, 164, 165, 166, 167, 168, 169, 170, 171, 172, 173, 174, 175, 176, 177, 178, 179, 180, 181, 182, 183, 184, 185, 186, 187, 188, 201, 202, 203, 204, 205, 206, 207, 208, 209, 210, 211, 212, 213, 214, 215, 216, 217, 218, 219, 220, 221, 222, 223, 224, 225, 226, 227, 228, 229, 230, 231, 232, 233, 250, 251]                                                                      |      9,208,872 | 1,179,648 |       0 |\n",
            "| model/block_4_expand_relu/Relu;model/b...e/depthwise;model/block_4_expand/Conv2D |                                                                           [127, 128, 129, 130, 131, 132, 133, 134, 135, 136, 137, 138, 139, 140, 141, 142, 143, 144, 145, 146, 147, 148, 149, 150, 151, 152, 153, 157, 163, 164, 165, 166, 167, 168, 169, 170, 171, 172, 173, 174, 175, 176, 177, 178, 179, 180, 181, 182, 183, 184, 185, 186, 187, 188, 202, 203, 204, 205, 206, 207, 208, 209, 210, 211, 212, 213, 214, 215, 216, 217, 218, 219, 220, 221, 222, 223, 224, 225, 226, 227, 228, 229, 230, 231, 232, 233, 251, 252]                                                                           |      9,239,464 | 1,572,864 |       0 |\n",
            "| model/block_4_depthwise_relu/Relu;mode...hwise;model/block_4_depthwise/depthwise |                                                                             [128, 129, 130, 131, 132, 133, 134, 135, 136, 137, 138, 139, 140, 141, 142, 143, 144, 145, 146, 147, 148, 149, 150, 151, 152, 153, 157, 163, 164, 165, 166, 167, 168, 169, 170, 171, 172, 173, 174, 175, 176, 177, 178, 179, 180, 181, 182, 183, 184, 185, 186, 187, 188, 203, 204, 205, 206, 207, 208, 209, 210, 211, 212, 213, 214, 215, 216, 217, 218, 219, 220, 221, 222, 223, 224, 225, 226, 227, 228, 229, 230, 231, 232, 233, 251, 252, 253]                                                                              |      9,410,728 |   442,368 |       0 |\n",
            "| model/block_4_project_BN/FusedBatchNor...ect/Conv2D;model/block_4_project/Conv2D |                                                                                  [129, 130, 131, 132, 133, 134, 135, 136, 137, 138, 139, 140, 141, 142, 143, 144, 145, 146, 147, 148, 149, 150, 151, 152, 153, 157, 164, 165, 166, 167, 168, 169, 170, 171, 172, 173, 174, 175, 176, 177, 178, 179, 180, 181, 182, 183, 184, 185, 186, 187, 188, 203, 204, 205, 206, 207, 208, 209, 210, 211, 212, 213, 214, 215, 216, 217, 218, 219, 220, 221, 222, 223, 224, 225, 226, 227, 228, 229, 230, 231, 232, 233, 251, 253, 254]                                                                                   |      9,239,208 | 1,572,864 |       0 |\n",
            "|                              model/block_4_add/add                               |                                                                                       [129, 130, 131, 132, 133, 134, 135, 136, 137, 138, 139, 140, 141, 142, 143, 144, 145, 146, 147, 148, 149, 150, 151, 152, 153, 157, 165, 166, 167, 168, 169, 170, 171, 172, 173, 174, 175, 176, 177, 178, 179, 180, 181, 182, 183, 184, 185, 186, 187, 188, 204, 205, 206, 207, 208, 209, 210, 211, 212, 213, 214, 215, 216, 217, 218, 219, 220, 221, 222, 223, 224, 225, 226, 227, 228, 229, 230, 231, 232, 233, 251, 254, 255]                                                                                        |      9,050,664 |     8,192 |       0 |\n",
            "| model/block_5_expand_relu/Relu;model/b...e/depthwise;model/block_5_expand/Conv2D |                                                                                          [129, 130, 131, 132, 133, 134, 135, 136, 137, 138, 139, 140, 141, 142, 143, 144, 145, 146, 147, 148, 149, 150, 151, 152, 153, 157, 165, 166, 167, 168, 169, 170, 171, 172, 173, 174, 175, 176, 177, 178, 179, 180, 181, 182, 183, 184, 185, 186, 187, 188, 204, 205, 206, 207, 208, 209, 210, 211, 212, 213, 214, 215, 216, 217, 218, 219, 220, 221, 222, 223, 224, 225, 226, 227, 228, 229, 230, 231, 232, 233, 255, 256]                                                                                          |      9,181,736 | 1,572,864 |       0 |\n",
            "| model/block_5_depthwise_relu/Relu;mode...hwise;model/block_5_depthwise/depthwise |                                                                                            [130, 131, 132, 133, 134, 135, 136, 137, 138, 139, 140, 141, 142, 143, 144, 145, 146, 147, 148, 149, 150, 151, 152, 153, 157, 165, 166, 167, 168, 169, 170, 171, 172, 173, 174, 175, 176, 177, 178, 179, 180, 181, 182, 183, 184, 185, 186, 187, 188, 205, 206, 207, 208, 209, 210, 211, 212, 213, 214, 215, 216, 217, 218, 219, 220, 221, 222, 223, 224, 225, 226, 227, 228, 229, 230, 231, 232, 233, 255, 256, 257]                                                                                             |      9,353,000 |   442,368 |       0 |\n",
            "|      model/block_5_project_BN/FusedBatchNormV3;model/block_5_project/Conv2D      |                                                                                                 [131, 132, 133, 134, 135, 136, 137, 138, 139, 140, 141, 142, 143, 144, 145, 146, 147, 148, 149, 150, 151, 152, 153, 157, 166, 167, 168, 169, 170, 171, 172, 173, 174, 175, 176, 177, 178, 179, 180, 181, 182, 183, 184, 185, 186, 187, 188, 205, 206, 207, 208, 209, 210, 211, 212, 213, 214, 215, 216, 217, 218, 219, 220, 221, 222, 223, 224, 225, 226, 227, 228, 229, 230, 231, 232, 233, 255, 257, 258]                                                                                                  |      9,181,480 | 1,572,864 |       0 |\n",
            "|                              model/block_5_add/add                               |                                                                                                      [131, 132, 133, 134, 135, 136, 137, 138, 139, 140, 141, 142, 143, 144, 145, 146, 147, 148, 149, 150, 151, 152, 153, 157, 167, 168, 169, 170, 171, 172, 173, 174, 175, 176, 177, 178, 179, 180, 181, 182, 183, 184, 185, 186, 187, 188, 206, 207, 208, 209, 210, 211, 212, 213, 214, 215, 216, 217, 218, 219, 220, 221, 222, 223, 224, 225, 226, 227, 228, 229, 230, 231, 232, 233, 255, 258, 259]                                                                                                       |      8,992,936 |     8,192 |       0 |\n",
            "| model/block_6_expand_relu/Relu;model/b...e/depthwise;model/block_6_expand/Conv2D |                                                                                                         [131, 132, 133, 134, 135, 136, 137, 138, 139, 140, 141, 142, 143, 144, 145, 146, 147, 148, 149, 150, 151, 152, 153, 157, 167, 168, 169, 170, 171, 172, 173, 174, 175, 176, 177, 178, 179, 180, 181, 182, 183, 184, 185, 186, 187, 188, 206, 207, 208, 209, 210, 211, 212, 213, 214, 215, 216, 217, 218, 219, 220, 221, 222, 223, 224, 225, 226, 227, 228, 229, 230, 231, 232, 233, 259, 260]                                                                                                         |      9,124,008 | 1,572,864 |       0 |\n",
            "| model/block_6_depthwise_relu/Relu;mode...ormV3;model/block_6_depthwise/depthwise |                                                                                                              [132, 133, 134, 135, 136, 137, 138, 139, 140, 141, 142, 143, 144, 145, 146, 147, 148, 149, 150, 151, 152, 153, 157, 260, 261, 167, 168, 169, 170, 171, 172, 173, 174, 175, 176, 177, 178, 179, 180, 181, 182, 183, 184, 185, 186, 187, 188, 207, 208, 209, 210, 211, 212, 213, 214, 215, 216, 217, 218, 219, 220, 221, 222, 223, 224, 225, 226, 227, 228, 229, 230, 231, 232, 233]                                                                                                              |      9,115,048 |   110,592 |       0 |\n",
            "| model/block_6_project_BN/FusedBatchNor...ect/Conv2D;model/block_6_project/Conv2D |                                                                                                                   [133, 134, 135, 136, 137, 138, 139, 140, 141, 142, 143, 144, 145, 146, 147, 148, 149, 150, 151, 152, 153, 157, 261, 262, 168, 169, 170, 171, 172, 173, 174, 175, 176, 177, 178, 179, 180, 181, 182, 183, 184, 185, 186, 187, 188, 207, 208, 209, 210, 211, 212, 213, 214, 215, 216, 217, 218, 219, 220, 221, 222, 223, 224, 225, 226, 227, 228, 229, 230, 231, 232, 233]                                                                                                                   |      8,927,144 |   786,432 |       0 |\n",
            "| model/block_7_expand_relu/Relu;model/b...e/depthwise;model/block_7_expand/Conv2D |                                                                                                                        [133, 134, 135, 136, 137, 138, 139, 140, 141, 142, 143, 144, 145, 146, 147, 148, 149, 150, 151, 152, 153, 263, 157, 262, 169, 170, 171, 172, 173, 174, 175, 176, 177, 178, 179, 180, 181, 182, 183, 184, 185, 186, 187, 188, 208, 209, 210, 211, 212, 213, 214, 215, 216, 217, 218, 219, 220, 221, 222, 223, 224, 225, 226, 227, 228, 229, 230, 231, 232, 233]                                                                                                                        |      8,926,888 | 1,572,864 |       0 |\n",
            "| model/block_7_depthwise_relu/Relu;mode...hwise;model/block_7_depthwise/depthwise |                                                                                                                          [134, 135, 136, 137, 138, 139, 140, 141, 142, 143, 144, 145, 146, 147, 148, 149, 150, 151, 152, 153, 263, 157, 262, 169, 170, 171, 172, 173, 174, 175, 176, 177, 178, 179, 180, 181, 182, 183, 184, 185, 186, 187, 188, 209, 210, 211, 212, 213, 214, 215, 216, 217, 218, 219, 220, 221, 222, 223, 224, 225, 226, 227, 228, 229, 230, 231, 232, 233, 264]                                                                                                                           |      8,925,352 |   221,184 |       0 |\n",
            "| model/block_7_project_BN/FusedBatchNor...ect/Conv2D;model/block_7_project/Conv2D |                                                                                                                               [262, 135, 136, 137, 138, 139, 140, 141, 142, 143, 144, 145, 146, 147, 148, 149, 150, 151, 152, 153, 157, 170, 171, 172, 173, 174, 175, 176, 177, 178, 179, 180, 181, 182, 183, 184, 185, 186, 187, 188, 265, 209, 210, 211, 212, 213, 214, 215, 216, 217, 218, 219, 220, 221, 222, 223, 224, 225, 226, 227, 228, 229, 230, 231, 232, 233, 264]                                                                                                                                |      8,828,072 | 1,572,864 |       0 |\n",
            "|                              model/block_7_add/add                               |                                                                                                                                    [262, 135, 136, 137, 138, 139, 140, 141, 142, 143, 144, 145, 146, 147, 148, 149, 150, 151, 152, 153, 157, 171, 172, 173, 174, 175, 176, 177, 178, 179, 180, 181, 182, 183, 184, 185, 186, 187, 188, 265, 266, 210, 211, 212, 213, 214, 215, 216, 217, 218, 219, 220, 221, 222, 223, 224, 225, 226, 227, 228, 229, 230, 231, 232, 233]                                                                                                                                     |      8,647,592 |     4,096 |       0 |\n",
            "| model/block_8_expand_relu/Relu;model/b...e/depthwise;model/block_8_expand/Conv2D |                                                                                                                                       [135, 136, 137, 138, 139, 140, 141, 142, 143, 144, 145, 146, 147, 148, 149, 150, 151, 152, 153, 157, 171, 172, 173, 174, 175, 176, 177, 178, 179, 180, 181, 182, 183, 184, 185, 186, 187, 188, 266, 267, 210, 211, 212, 213, 214, 215, 216, 217, 218, 219, 220, 221, 222, 223, 224, 225, 226, 227, 228, 229, 230, 231, 232, 233]                                                                                                                                       |      8,713,128 | 1,572,864 |       0 |\n",
            "| model/block_8_depthwise_relu/Relu;mode...hwise;model/block_8_depthwise/depthwise |                                                                                                                                         [136, 137, 138, 139, 140, 141, 142, 143, 144, 145, 146, 147, 148, 149, 150, 151, 152, 153, 157, 171, 172, 173, 174, 175, 176, 177, 178, 179, 180, 181, 182, 183, 184, 185, 186, 187, 188, 266, 267, 268, 211, 212, 213, 214, 215, 216, 217, 218, 219, 220, 221, 222, 223, 224, 225, 226, 227, 228, 229, 230, 231, 232, 233]                                                                                                                                          |      8,711,592 |   221,184 |       0 |\n",
            "| model/block_8_project_BN/FusedBatchNor...ect/Conv2D;model/block_8_project/Conv2D |                                                                                                                                              [137, 138, 139, 140, 141, 142, 143, 144, 145, 146, 147, 148, 149, 150, 151, 152, 153, 157, 172, 173, 174, 175, 176, 177, 178, 179, 180, 181, 182, 183, 184, 185, 186, 187, 188, 266, 268, 269, 211, 212, 213, 214, 215, 216, 217, 218, 219, 220, 221, 222, 223, 224, 225, 226, 227, 228, 229, 230, 231, 232, 233]                                                                                                                                               |      8,614,312 | 1,572,864 |       0 |\n",
            "|                              model/block_8_add/add                               |                                                                                                                                                   [137, 138, 139, 140, 141, 142, 143, 144, 145, 146, 147, 148, 149, 150, 151, 152, 153, 157, 173, 174, 175, 176, 177, 178, 179, 180, 181, 182, 183, 184, 185, 186, 187, 188, 266, 269, 270, 212, 213, 214, 215, 216, 217, 218, 219, 220, 221, 222, 223, 224, 225, 226, 227, 228, 229, 230, 231, 232, 233]                                                                                                                                                    |      8,433,832 |     4,096 |       0 |\n",
            "| model/block_9_expand_relu/Relu;model/b...e/depthwise;model/block_9_expand/Conv2D |                                                                                                                                                      [137, 138, 139, 140, 141, 142, 143, 144, 145, 146, 147, 148, 149, 150, 151, 152, 153, 157, 271, 173, 174, 175, 176, 177, 178, 179, 180, 181, 182, 183, 184, 185, 186, 187, 188, 270, 212, 213, 214, 215, 216, 217, 218, 219, 220, 221, 222, 223, 224, 225, 226, 227, 228, 229, 230, 231, 232, 233]                                                                                                                                                      |      8,499,368 | 1,572,864 |       0 |\n",
            "| model/block_9_depthwise_relu/Relu;mode...hwise;model/block_9_depthwise/depthwise |                                                                                                                                                        [138, 139, 140, 141, 142, 143, 144, 145, 146, 147, 148, 149, 150, 151, 152, 153, 157, 173, 174, 175, 176, 177, 178, 179, 180, 181, 182, 183, 184, 185, 186, 187, 188, 272, 270, 271, 213, 214, 215, 216, 217, 218, 219, 220, 221, 222, 223, 224, 225, 226, 227, 228, 229, 230, 231, 232, 233]                                                                                                                                                         |      8,497,832 |   221,184 |       0 |\n",
            "|      model/block_9_project_BN/FusedBatchNormV3;model/block_9_project/Conv2D      |                                                                                                                                                             [139, 140, 141, 142, 143, 144, 145, 146, 147, 148, 149, 150, 151, 152, 153, 273, 157, 174, 175, 176, 177, 178, 179, 180, 181, 182, 183, 184, 185, 186, 187, 188, 272, 270, 213, 214, 215, 216, 217, 218, 219, 220, 221, 222, 223, 224, 225, 226, 227, 228, 229, 230, 231, 232, 233]                                                                                                                                                              |      8,400,552 | 1,572,864 |       0 |\n",
            "|                              model/block_9_add/add                               |                                                                                                                                                                  [139, 140, 141, 142, 143, 144, 145, 146, 147, 148, 149, 150, 151, 152, 153, 273, 274, 157, 175, 176, 177, 178, 179, 180, 181, 182, 183, 184, 185, 186, 187, 188, 270, 214, 215, 216, 217, 218, 219, 220, 221, 222, 223, 224, 225, 226, 227, 228, 229, 230, 231, 232, 233]                                                                                                                                                                   |      8,220,072 |     4,096 |       0 |\n",
            "|                          model/block_10_adjust/Conv2D2                           |                                                                                                                                                                     [139, 140, 141, 142, 143, 144, 145, 146, 147, 148, 149, 150, 151, 152, 153, 274, 275, 157, 175, 176, 177, 178, 179, 180, 181, 182, 183, 184, 185, 186, 187, 188, 214, 215, 216, 217, 218, 219, 220, 221, 222, 223, 224, 225, 226, 227, 228, 229, 230, 231, 232, 233]                                                                                                                                                                     |      8,211,880 |   393,216 |       0 |\n",
            "| model/block_10_expand_relu/Relu;model/.../depthwise;model/block_10_expand/Conv2D |                                                                                                                                                                       [139, 140, 141, 142, 143, 144, 145, 146, 147, 148, 149, 150, 151, 152, 153, 274, 275, 276, 175, 176, 177, 178, 179, 180, 181, 182, 183, 184, 185, 186, 187, 188, 215, 216, 217, 218, 219, 220, 221, 222, 223, 224, 225, 226, 227, 228, 229, 230, 231, 232, 233]                                                                                                                                                                        |      8,285,224 | 1,572,864 |       0 |\n",
            "| model/block_10_depthwise_relu/Relu;mod...rmV3;model/block_10_depthwise/depthwise |                                                                                                                                                                            [140, 141, 142, 143, 144, 145, 146, 147, 148, 149, 150, 151, 152, 153, 275, 276, 277, 175, 176, 177, 178, 179, 180, 181, 182, 183, 184, 185, 186, 187, 188, 216, 217, 218, 219, 220, 221, 222, 223, 224, 225, 226, 227, 228, 229, 230, 231, 232, 233]                                                                                                                                                                             |      8,267,304 |   221,184 |       0 |\n",
            "| model/block_10_project_BN/FusedBatchNo...ct/Conv2D;model/block_10_project/Conv2D |                                                                                                                                                                                 [141, 142, 143, 144, 145, 146, 147, 148, 149, 150, 151, 152, 153, 275, 277, 278, 176, 177, 178, 179, 180, 181, 182, 183, 184, 185, 186, 187, 188, 216, 217, 218, 219, 220, 221, 222, 223, 224, 225, 226, 227, 228, 229, 230, 231, 232, 233]                                                                                                                                                                                  |      8,178,216 | 2,359,296 |       0 |\n",
            "|                              model/block_10_add/add                              |                                                                                                                                                                                      [141, 142, 143, 144, 145, 146, 147, 148, 149, 150, 151, 152, 153, 275, 278, 279, 177, 178, 179, 180, 181, 182, 183, 184, 185, 186, 187, 188, 217, 218, 219, 220, 221, 222, 223, 224, 225, 226, 227, 228, 229, 230, 231, 232, 233]                                                                                                                                                                                       |      7,956,648 |     6,144 |       0 |\n",
            "| model/block_11_expand_relu/Relu;model/.../depthwise;model/block_11_expand/Conv2D |                                                                                                                                                                                         [141, 142, 143, 144, 145, 146, 147, 148, 149, 150, 151, 152, 153, 279, 280, 177, 178, 179, 180, 181, 182, 183, 184, 185, 186, 187, 188, 217, 218, 219, 220, 221, 222, 223, 224, 225, 226, 227, 228, 229, 230, 231, 232, 233]                                                                                                                                                                                         |      8,054,952 | 3,538,944 |       0 |\n",
            "| model/block_11_depthwise_relu/Relu;mod...wise;model/block_11_depthwise/depthwise |                                                                                                                                                                                           [142, 143, 144, 145, 146, 147, 148, 149, 150, 151, 152, 153, 279, 280, 281, 177, 178, 179, 180, 181, 182, 183, 184, 185, 186, 187, 188, 218, 219, 220, 221, 222, 223, 224, 225, 226, 227, 228, 229, 230, 231, 232, 233]                                                                                                                                                                                            |      7,978,920 |   331,776 |       0 |\n",
            "| model/block_11_project_BN/FusedBatchNo...ct/Conv2D;model/block_11_project/Conv2D |                                                                                                                                                                                                [143, 144, 145, 146, 147, 148, 149, 150, 151, 152, 153, 279, 281, 282, 178, 179, 180, 181, 182, 183, 184, 185, 186, 187, 188, 218, 219, 220, 221, 222, 223, 224, 225, 226, 227, 228, 229, 230, 231, 232, 233]                                                                                                                                                                                                 |      7,833,000 | 3,538,944 |       0 |\n",
            "|                              model/block_11_add/add                              |                                                                                                                                                                                                     [143, 144, 145, 146, 147, 148, 149, 150, 151, 152, 153, 279, 282, 283, 179, 180, 181, 182, 183, 184, 185, 186, 187, 188, 219, 220, 221, 222, 223, 224, 225, 226, 227, 228, 229, 230, 231, 232, 233]                                                                                                                                                                                                      |      7,488,552 |     6,144 |       0 |\n",
            "| model/block_12_expand_relu/Relu;model/.../depthwise;model/block_12_expand/Conv2D |                                                                                                                                                                                                        [143, 144, 145, 146, 147, 148, 149, 150, 151, 152, 153, 283, 284, 179, 180, 181, 182, 183, 184, 185, 186, 187, 188, 219, 220, 221, 222, 223, 224, 225, 226, 227, 228, 229, 230, 231, 232, 233]                                                                                                                                                                                                        |      7,586,856 | 3,538,944 |       0 |\n",
            "| model/block_12_depthwise_relu/Relu;mod...wise;model/block_12_depthwise/depthwise |                                                                                                                                                                                                          [144, 145, 146, 147, 148, 149, 150, 151, 152, 153, 283, 284, 285, 179, 180, 181, 182, 183, 184, 185, 186, 187, 188, 220, 221, 222, 223, 224, 225, 226, 227, 228, 229, 230, 231, 232, 233]                                                                                                                                                                                                           |      7,510,824 |   331,776 |       0 |\n",
            "|     model/block_12_project_BN/FusedBatchNormV3;model/block_12_project/Conv2D     |                                                                                                                                                                                                               [145, 146, 147, 148, 149, 150, 151, 152, 153, 283, 285, 286, 180, 181, 182, 183, 184, 185, 186, 187, 188, 220, 221, 222, 223, 224, 225, 226, 227, 228, 229, 230, 231, 232, 233]                                                                                                                                                                                                                |      7,364,904 | 3,538,944 |       0 |\n",
            "|                              model/block_12_add/add                              |                                                                                                                                                                                                                    [145, 146, 147, 148, 149, 150, 151, 152, 153, 283, 286, 287, 181, 182, 183, 184, 185, 186, 187, 188, 221, 222, 223, 224, 225, 226, 227, 228, 229, 230, 231, 232, 233]                                                                                                                                                                                                                     |      7,020,456 |     6,144 |       0 |\n",
            "| model/block_13_expand_relu/Relu;model/.../depthwise;model/block_13_expand/Conv2D |                                                                                                                                                                                                                       [145, 146, 147, 148, 149, 150, 151, 152, 153, 287, 288, 181, 182, 183, 184, 185, 186, 187, 188, 221, 222, 223, 224, 225, 226, 227, 228, 229, 230, 231, 232, 233]                                                                                                                                                                                                                       |      7,118,760 | 3,538,944 |       0 |\n",
            "| model/block_13_depthwise_relu/Relu;mod...rmV3;model/block_13_depthwise/depthwise |                                                                                                                                                                                                                            [146, 147, 148, 149, 150, 151, 152, 153, 288, 289, 181, 182, 183, 184, 185, 186, 187, 188, 222, 223, 224, 225, 226, 227, 228, 229, 230, 231, 232, 233]                                                                                                                                                                                                                            |      6,907,560 |    82,944 |       0 |\n",
            "| model/block_13_project_BN/FusedBatchNo...ct/Conv2D;model/block_13_project/Conv2D |                                                                                                                                                                                                                                 [147, 148, 149, 150, 151, 152, 153, 289, 290, 182, 183, 184, 185, 186, 187, 188, 222, 223, 224, 225, 226, 227, 228, 229, 230, 231, 232, 233]                                                                                                                                                                                                                                 |      6,747,304 | 1,474,560 |       0 |\n",
            "| model/block_14_expand_relu/Relu;model/.../depthwise;model/block_14_expand/Conv2D |                                                                                                                                                                                                                                      [147, 148, 149, 150, 151, 152, 153, 290, 291, 183, 184, 185, 186, 187, 188, 223, 224, 225, 226, 227, 228, 229, 230, 231, 232, 233]                                                                                                                                                                                                                                      |      6,402,600 | 2,457,600 |       0 |\n",
            "| model/block_14_depthwise_relu/Relu;mod...wise;model/block_14_depthwise/depthwise |                                                                                                                                                                                                                                        [148, 149, 150, 151, 152, 153, 290, 291, 292, 183, 184, 185, 186, 187, 188, 224, 225, 226, 227, 228, 229, 230, 231, 232, 233]                                                                                                                                                                                                                                         |      5,845,800 |   138,240 |       0 |\n",
            "| model/block_14_project_BN/FusedBatchNo...ct/Conv2D;model/block_14_project/Conv2D |                                                                                                                                                                                                                                             [149, 150, 151, 152, 153, 290, 292, 293, 184, 185, 186, 187, 188, 224, 225, 226, 227, 228, 229, 230, 231, 232, 233]                                                                                                                                                                                                                                              |      5,756,200 | 2,457,600 |       0 |\n",
            "|                              model/block_14_add/add                              |                                                                                                                                                                                                                                                  [149, 150, 151, 152, 153, 290, 293, 294, 185, 186, 187, 188, 225, 226, 227, 228, 229, 230, 231, 232, 233]                                                                                                                                                                                                                                                   |      5,089,960 |     2,560 |       0 |\n",
            "| model/block_15_expand_relu/Relu;model/.../depthwise;model/block_15_expand/Conv2D |                                                                                                                                                                                                                                                     [149, 150, 151, 152, 153, 294, 295, 185, 186, 187, 188, 225, 226, 227, 228, 229, 230, 231, 232, 233]                                                                                                                                                                                                                                                     |      5,130,920 | 2,457,600 |       0 |\n",
            "| model/block_15_depthwise_relu/Relu;mod...wise;model/block_15_depthwise/depthwise |                                                                                                                                                                                                                                                       [150, 151, 152, 153, 294, 295, 296, 185, 186, 187, 188, 226, 227, 228, 229, 230, 231, 232, 233]                                                                                                                                                                                                                                                        |      4,574,120 |   138,240 |       0 |\n",
            "|     model/block_15_project_BN/FusedBatchNormV3;model/block_15_project/Conv2D     |                                                                                                                                                                                                                                                            [226, 227, 228, 229, 230, 231, 232, 233, 294, 296, 297, 151, 152, 153, 186, 187, 188]                                                                                                                                                                                                                                                             |      4,484,520 | 2,457,600 |       0 |\n",
            "|                              model/block_15_add/add                              |                                                                                                                                                                                                                                                                 [227, 228, 229, 230, 231, 232, 233, 294, 297, 298, 151, 152, 153, 187, 188]                                                                                                                                                                                                                                                                  |      3,818,280 |     2,560 |       0 |\n",
            "|                          model/block_16_adjust/Conv2D2                           |                                                                                                                                                                                                                                                                    [227, 228, 229, 230, 231, 232, 233, 298, 299, 151, 152, 153, 187, 188]                                                                                                                                                                                                                                                                    |      3,818,280 |   819,200 |       0 |\n",
            "| model/block_16_expand_relu/Relu;model/.../depthwise;model/block_16_expand/Conv2D |                                                                                                                                                                                                                                                                      [229, 230, 231, 232, 233, 298, 299, 300, 151, 152, 153, 187, 188]                                                                                                                                                                                                                                                                       |      3,673,640 | 2,457,600 |       0 |\n",
            "| model/block_16_depthwise_relu/Relu;mod...rmV3;model/block_16_depthwise/depthwise |                                                                                                                                                                                                                                                                           [230, 231, 232, 233, 299, 300, 301, 152, 153, 187, 188]                                                                                                                                                                                                                                                                            |      3,106,600 |   138,240 |       0 |\n",
            "|     model/block_16_project_BN/FusedBatchNormV3;model/block_16_project/Conv2D     |                                                                                                                                                                                                                                                                                [230, 231, 232, 233, 299, 301, 302, 153, 188]                                                                                                                                                                                                                                                                                 |      3,027,240 | 4,915,200 |       0 |\n",
            "|                              model/block_16_add/add                              |                                                                                                                                                                                                                                                                                     [231, 232, 233, 299, 302, 303, 153]                                                                                                                                                                                                                                                                                      |      1,756,200 |     5,120 |       0 |\n",
            "|     model/out_relu/Relu;model/Conv_1_bn/FusedBatchNormV3;model/Conv_1/Conv2D     |                                                                                                                                                                                                                                                                                        [231, 232, 233, 303, 304, 153]                                                                                                                                                                                                                                                                                        |      1,797,160 | 6,553,600 |       0 |\n",
            "|                       model/global_average_pooling2d/Mean                        |                                                                                                                                                                                                                                                                                             [232, 233, 304, 305]                                                                                                                                                                                                                                                                                             |        138,280 |    20,480 |       8 |\n",
            "|                            StatefulPartitionedCall:0                             |                                                                                                                                                                                                                                                                                             [232, 233, 306, 305]                                                                                                                                                                                                                                                                                             |         56,400 |    12,800 |       0 |\n",
            "+----------------------------------------------------------------------------------+--------------------------------------------------------------------------------------------------------------------------------------------------------------------------------------------------------------------------------------------------------------------------------------------------------------------------------------------------------------------------------------------------------------------------------------------------------------------------------------------------------------------------------------------------------------------------------------------------------------+----------------+-----------+---------+\n",
            "Current peak memory usage: 10,346,440 B\n",
            "Total MACs: 91,298,304\n",
            "Total weight size: 4,558,764\n",
            "\n"
          ]
        }
      ]
    },
    {
      "cell_type": "markdown",
      "source": [
        "#Evaluate accuracy"
      ],
      "metadata": {
        "id": "7PSsuBMbz8Lv"
      }
    },
    {
      "cell_type": "code",
      "source": [
        "# Evaluate accuracy\n",
        "interpreter = tf.lite.Interpreter(model_path='/content/model_mobilenet.tflite')\n",
        "interpreter.allocate_tensors()\n",
        "print(f\"model_mobilenet accuracy: {evaluate_model(interpreter)}\")"
      ],
      "metadata": {
        "colab": {
          "base_uri": "https://localhost:8080/"
        },
        "id": "nsLDSLQlz-dk",
        "outputId": "9ade7d9d-2558-41d2-f3e9-4bf3901033ca"
      },
      "execution_count": 29,
      "outputs": [
        {
          "output_type": "stream",
          "name": "stdout",
          "text": [
            "model_mobilenet accuracy: 0.928995253164557\n"
          ]
        }
      ]
    },
    {
      "cell_type": "code",
      "source": [
        "# Evaluate accuracy\n",
        "interpreter = tf.lite.Interpreter(model_path='/content/model_pruned60.tflite')\n",
        "interpreter.allocate_tensors()\n",
        "print(f\"model_pruned60 accuracy: {evaluate_model(interpreter)}\")"
      ],
      "metadata": {
        "colab": {
          "base_uri": "https://localhost:8080/"
        },
        "id": "CBTDyTCK0Fn-",
        "outputId": "f8e88046-b2d6-4813-927c-bdad39814eba"
      },
      "execution_count": 30,
      "outputs": [
        {
          "output_type": "stream",
          "name": "stdout",
          "text": [
            "model_pruned60 accuracy: 0.911689082278481\n"
          ]
        }
      ]
    },
    {
      "cell_type": "code",
      "source": [
        "# Evaluate accuracy\n",
        "interpreter = tf.lite.Interpreter(model_path='/content/model_pruned70.tflite')\n",
        "interpreter.allocate_tensors()\n",
        "print(f\"model_pruned70 accuracy: {evaluate_model(interpreter)}\")"
      ],
      "metadata": {
        "colab": {
          "base_uri": "https://localhost:8080/"
        },
        "id": "DuA1-WXz0LkO",
        "outputId": "f018b168-59fd-42db-9915-a8d8f4db2c46"
      },
      "execution_count": 31,
      "outputs": [
        {
          "output_type": "stream",
          "name": "stdout",
          "text": [
            "model_pruned70 accuracy: 0.9063488924050633\n"
          ]
        }
      ]
    },
    {
      "cell_type": "code",
      "source": [
        "# Evaluate accuracy\n",
        "interpreter = tf.lite.Interpreter(model_path='/content/model_pruned80.tflite')\n",
        "interpreter.allocate_tensors()\n",
        "print(f\"model_pruned80 accuracy: {evaluate_model(interpreter)}\")"
      ],
      "metadata": {
        "colab": {
          "base_uri": "https://localhost:8080/"
        },
        "id": "yBZ-I-dm0LyS",
        "outputId": "d16ca43c-96e2-4c72-8569-14e1f738cd7e"
      },
      "execution_count": 32,
      "outputs": [
        {
          "output_type": "stream",
          "name": "stdout",
          "text": [
            "model_pruned80 accuracy: 0.9049643987341772\n"
          ]
        }
      ]
    },
    {
      "cell_type": "code",
      "source": [
        "# Evaluate accuracy\n",
        "interpreter = tf.lite.Interpreter(model_path='/content/model_pruned90.tflite')\n",
        "interpreter.allocate_tensors()\n",
        "print(f\"model_pruned90 accuracy: {evaluate_model(interpreter)}\")"
      ],
      "metadata": {
        "colab": {
          "base_uri": "https://localhost:8080/"
        },
        "id": "KiuvCSju0L_j",
        "outputId": "a72eac22-9604-49ea-e508-5890dcd67566"
      },
      "execution_count": 33,
      "outputs": [
        {
          "output_type": "stream",
          "name": "stdout",
          "text": [
            "model_pruned90 accuracy: 0.8799446202531646\n"
          ]
        }
      ]
    },
    {
      "cell_type": "code",
      "source": [
        "# Evaluate accuracy\n",
        "interpreter = tf.lite.Interpreter(model_path='/content/model_pruned95.tflite')\n",
        "interpreter.allocate_tensors()\n",
        "print(f\"model_pruned95 accuracy: {evaluate_model(interpreter)}\")"
      ],
      "metadata": {
        "colab": {
          "base_uri": "https://localhost:8080/"
        },
        "id": "ZncMXfJQ0MMo",
        "outputId": "918634fc-f6dc-4e6e-aabb-5434625f1373"
      },
      "execution_count": 34,
      "outputs": [
        {
          "output_type": "stream",
          "name": "stdout",
          "text": [
            "model_pruned95 accuracy: 0.32100474683544306\n"
          ]
        }
      ]
    },
    {
      "cell_type": "code",
      "source": [
        "# Evaluate accuracy\n",
        "interpreter = tf.lite.Interpreter(model_path='/content/model_student1.tflite')\n",
        "interpreter.allocate_tensors()\n",
        "print(f\"model_student1 accuracy: {evaluate_model(interpreter)}\")"
      ],
      "metadata": {
        "colab": {
          "base_uri": "https://localhost:8080/"
        },
        "id": "1LnOqESF0MXQ",
        "outputId": "2aab8037-be7d-4bf3-a490-e3af50b80a42"
      },
      "execution_count": 35,
      "outputs": [
        {
          "output_type": "stream",
          "name": "stdout",
          "text": [
            "model_student1 accuracy: 0.900118670886076\n"
          ]
        }
      ]
    },
    {
      "cell_type": "code",
      "source": [
        "# Evaluate accuracy\n",
        "interpreter = tf.lite.Interpreter(model_path='/content/model_student2.tflite')\n",
        "interpreter.allocate_tensors()\n",
        "print(f\"model_student2 accuracy: {evaluate_model(interpreter)}\")"
      ],
      "metadata": {
        "colab": {
          "base_uri": "https://localhost:8080/"
        },
        "id": "6BgLhh2W0Mi_",
        "outputId": "e302abde-444d-4661-b8f1-b341a696fb56"
      },
      "execution_count": 36,
      "outputs": [
        {
          "output_type": "stream",
          "name": "stdout",
          "text": [
            "model_student2 accuracy: 0.8924050632911392\n"
          ]
        }
      ]
    },
    {
      "cell_type": "code",
      "source": [
        "# Evaluate accuracy\n",
        "interpreter = tf.lite.Interpreter(model_path='/content/model_student3.tflite')\n",
        "interpreter.allocate_tensors()\n",
        "print(f\"model_student3 accuracy: {evaluate_model(interpreter)}\")"
      ],
      "metadata": {
        "colab": {
          "base_uri": "https://localhost:8080/"
        },
        "id": "NlwudNSX0MtI",
        "outputId": "6bb088a8-b6e1-43a3-bc1e-b16fd8384c9d"
      },
      "execution_count": 37,
      "outputs": [
        {
          "output_type": "stream",
          "name": "stdout",
          "text": [
            "model_student3 accuracy: 0.8721321202531646\n"
          ]
        }
      ]
    },
    {
      "cell_type": "code",
      "source": [
        "# Evaluate accuracy\n",
        "interpreter = tf.lite.Interpreter(model_path='/content/model_qat.tflite')\n",
        "interpreter.allocate_tensors()\n",
        "print(f\"/content/model_qat.tflite accuracy: {evaluate_model(interpreter)}\")"
      ],
      "metadata": {
        "colab": {
          "base_uri": "https://localhost:8080/"
        },
        "id": "Vc4vTQGo60n_",
        "outputId": "68e05d40-29b3-4182-8dd6-dfdedd36df1e"
      },
      "execution_count": 38,
      "outputs": [
        {
          "output_type": "stream",
          "name": "stdout",
          "text": [
            "/content/model_qat.tflite accuracy: 0.9139636075949367\n"
          ]
        }
      ]
    },
    {
      "cell_type": "code",
      "source": [
        "# Evaluate accuracy\n",
        "interpreter = tf.lite.Interpreter(model_path='/content/model_quant_fp16.tflite')\n",
        "interpreter.allocate_tensors()\n",
        "print(f\"/content/model_quant_fp16.tflite accuracy: {evaluate_model(interpreter)}\")"
      ],
      "metadata": {
        "colab": {
          "base_uri": "https://localhost:8080/"
        },
        "id": "oxAhGxVfETen",
        "outputId": "6a03d461-e285-428d-ca79-2fe48d2ab211"
      },
      "execution_count": 39,
      "outputs": [
        {
          "output_type": "stream",
          "name": "stdout",
          "text": [
            "/content/model_quant_fp16.tflite accuracy: 0.9288963607594937\n"
          ]
        }
      ]
    },
    {
      "cell_type": "code",
      "source": [
        "# Evaluate accuracy\n",
        "interpreter = tf.lite.Interpreter(model_path='/content/model_quant_dr.tflite')\n",
        "interpreter.allocate_tensors()\n",
        "print(f\"/content/model_quant_dr.tflite accuracy: {evaluate_model(interpreter)}\")"
      ],
      "metadata": {
        "colab": {
          "base_uri": "https://localhost:8080/"
        },
        "id": "58NjTdbiEUQK",
        "outputId": "58d21269-16eb-4631-d7d9-ddc2adb3f6e0"
      },
      "execution_count": 40,
      "outputs": [
        {
          "output_type": "stream",
          "name": "stdout",
          "text": [
            "/content/model_quant_dr.tflite accuracy: 0.928995253164557\n"
          ]
        }
      ]
    }
  ]
}