{
  "cells": [
    {
      "cell_type": "markdown",
      "source": [
        "#Setup"
      ],
      "metadata": {
        "id": "RBJ92eTEzbkt"
      }
    },
    {
      "cell_type": "code",
      "execution_count": 1,
      "metadata": {
        "colab": {
          "base_uri": "https://localhost:8080/"
        },
        "id": "VLqcSjVmKDWr",
        "outputId": "9a8d6199-4590-4240-d1d8-219375d2b13f"
      },
      "outputs": [
        {
          "output_type": "stream",
          "name": "stdout",
          "text": [
            "Collecting tensorboard_plugin_profile\n",
            "  Downloading tensorboard_plugin_profile-2.15.0-py3-none-any.whl (5.6 MB)\n",
            "\u001b[2K     \u001b[90m━━━━━━━━━━━━━━━━━━━━━━━━━━━━━━━━━━━━━━━━\u001b[0m \u001b[32m5.6/5.6 MB\u001b[0m \u001b[31m41.3 MB/s\u001b[0m eta \u001b[36m0:00:00\u001b[0m\n",
            "\u001b[?25hCollecting tensorflow-addons\n",
            "  Downloading tensorflow_addons-0.23.0-cp310-cp310-manylinux_2_17_x86_64.manylinux2014_x86_64.whl (611 kB)\n",
            "\u001b[2K     \u001b[90m━━━━━━━━━━━━━━━━━━━━━━━━━━━━━━━━━━━━━━━━\u001b[0m \u001b[32m611.8/611.8 kB\u001b[0m \u001b[31m39.8 MB/s\u001b[0m eta \u001b[36m0:00:00\u001b[0m\n",
            "\u001b[?25hCollecting gviz-api>=1.9.0 (from tensorboard_plugin_profile)\n",
            "  Downloading gviz_api-1.10.0-py2.py3-none-any.whl (13 kB)\n",
            "Requirement already satisfied: protobuf<5.0.0dev,>=3.19.6 in /usr/local/lib/python3.10/dist-packages (from tensorboard_plugin_profile) (3.20.3)\n",
            "Requirement already satisfied: setuptools>=41.0.0 in /usr/local/lib/python3.10/dist-packages (from tensorboard_plugin_profile) (67.7.2)\n",
            "Requirement already satisfied: six>=1.10.0 in /usr/local/lib/python3.10/dist-packages (from tensorboard_plugin_profile) (1.16.0)\n",
            "Requirement already satisfied: werkzeug>=0.11.15 in /usr/local/lib/python3.10/dist-packages (from tensorboard_plugin_profile) (3.0.1)\n",
            "Requirement already satisfied: packaging in /usr/local/lib/python3.10/dist-packages (from tensorflow-addons) (23.2)\n",
            "Collecting typeguard<3.0.0,>=2.7 (from tensorflow-addons)\n",
            "  Downloading typeguard-2.13.3-py3-none-any.whl (17 kB)\n",
            "Requirement already satisfied: MarkupSafe>=2.1.1 in /usr/local/lib/python3.10/dist-packages (from werkzeug>=0.11.15->tensorboard_plugin_profile) (2.1.3)\n",
            "Installing collected packages: typeguard, gviz-api, tensorflow-addons, tensorboard_plugin_profile\n",
            "Successfully installed gviz-api-1.10.0 tensorboard_plugin_profile-2.15.0 tensorflow-addons-0.23.0 typeguard-2.13.3\n",
            "\u001b[2K     \u001b[90m━━━━━━━━━━━━━━━━━━━━━━━━━━━━━━━━━━━━━━━━\u001b[0m \u001b[32m241.2/241.2 kB\u001b[0m \u001b[31m3.0 MB/s\u001b[0m eta \u001b[36m0:00:00\u001b[0m\n",
            "\u001b[?25h"
          ]
        }
      ],
      "source": [
        "!pip install -U tensorboard_plugin_profile tensorflow-addons\n",
        "!pip install -q tensorflow-model-optimization\n",
        "\n",
        "%load_ext tensorboard"
      ]
    },
    {
      "cell_type": "code",
      "execution_count": 2,
      "metadata": {
        "colab": {
          "base_uri": "https://localhost:8080/"
        },
        "id": "ErqPFzvcKZbA",
        "outputId": "b5738a12-81ac-4fe7-bff1-4e137ee56617"
      },
      "outputs": [
        {
          "output_type": "stream",
          "name": "stderr",
          "text": [
            "/usr/local/lib/python3.10/dist-packages/tensorflow_addons/utils/tfa_eol_msg.py:23: UserWarning: \n",
            "\n",
            "TensorFlow Addons (TFA) has ended development and introduction of new features.\n",
            "TFA has entered a minimal maintenance and release mode until a planned end of life in May 2024.\n",
            "Please modify downstream libraries to take dependencies from other repositories in our TensorFlow community (e.g. Keras, Keras-CV, and Keras-NLP). \n",
            "\n",
            "For more information see: https://github.com/tensorflow/addons/issues/2807 \n",
            "\n",
            "  warnings.warn(\n"
          ]
        }
      ],
      "source": [
        "import tensorflow as tf\n",
        "import tensorflow_addons as tfa\n",
        "import numpy as np\n",
        "import os"
      ]
    },
    {
      "cell_type": "markdown",
      "metadata": {
        "id": "CRw5xTt7KgzD"
      },
      "source": [
        "#Data Preprocessing"
      ]
    },
    {
      "cell_type": "code",
      "execution_count": 3,
      "metadata": {
        "colab": {
          "base_uri": "https://localhost:8080/"
        },
        "id": "dQkT3STSKcE8",
        "outputId": "c81fce8d-d7bf-427c-b7cb-f70207c45bb7"
      },
      "outputs": [
        {
          "output_type": "stream",
          "name": "stdout",
          "text": [
            "Downloading data from https://www.cs.toronto.edu/~kriz/cifar-10-python.tar.gz\n",
            "170498071/170498071 [==============================] - 13s 0us/step\n"
          ]
        }
      ],
      "source": [
        "class_map = {\n",
        "    0: \"airplane\",\n",
        "    1: \"automobile\",\n",
        "    2: \"bird\",\n",
        "    3: \"cat\",\n",
        "    4: \"deer\",\n",
        "    5: \"dog\",\n",
        "    6: \"frog\",\n",
        "    7: \"horse\",\n",
        "    8: \"ship\",\n",
        "    9: \"truck\"\n",
        "}\n",
        "\n",
        "(x_train, y_train), (x_test, y_test) = tf.keras.datasets.cifar10.load_data()\n",
        "\n",
        "def preprocess(x):\n",
        "    x = x.astype('float32') / 255\n",
        "    return x\n",
        "\n",
        "x_train = preprocess(x_train)\n",
        "x_test = preprocess(x_test)\n",
        "\n",
        "subsample_ratio = 1.0\n",
        "subsample_index = int(len(x_train) * subsample_ratio)\n",
        "x_train = x_train[:subsample_index]\n",
        "y_train = y_train[:subsample_index]\n",
        "\n",
        "subsample_index = int(len(x_test) * subsample_ratio)\n",
        "x_test = x_test[:subsample_index]\n",
        "y_test = y_test[:subsample_index]\n"
      ]
    },
    {
      "cell_type": "code",
      "execution_count": 4,
      "metadata": {
        "id": "xZcvuNf9K9XC"
      },
      "outputs": [],
      "source": [
        "train_data = tf.data.Dataset.from_tensor_slices((x_train, y_train))\n",
        "test_data = tf.data.Dataset.from_tensor_slices((x_test, y_test))\n",
        "\n",
        "batch_size = 128\n",
        "\n",
        "train_data = train_data.shuffle(16 * batch_size)\n",
        "\n",
        "train_data = train_data.batch(batch_size)\n",
        "test_data = test_data.batch(batch_size)\n",
        "\n",
        "cifar10_means = np.array([np.mean(x_train[:, :, :, 0]), np.mean(x_train[:, :, :, 1]), np.mean(x_train[:, :, :, 2])])\n",
        "cifar10_stds = np.array([np.std(x_train[:, :, :, 0]), np.std(x_train[:, :, :, 1]), np.std(x_train[:, :, :, 2])])\n",
        "\n",
        "def random_shift(x, shift_amount):\n",
        "    \"\"\" Randomly shifts images by up to HxW pixels = `shift_amount`. \"\"\"\n",
        "    h_pixels, w_pixels = shift_amount\n",
        "    orig = tf.shape(x)\n",
        "    paddings = tf.constant([[0, 0], [w_pixels, w_pixels], [h_pixels, h_pixels], [0, 0]])\n",
        "    x = tf.pad(x, mode=\"SYMMETRIC\", paddings=paddings)\n",
        "    return tf.image.random_crop(x, size=orig)\n",
        "\n",
        "def transform_data(xs, ys):\n",
        "\n",
        "    xs = tf.image.random_flip_left_right(xs)\n",
        "    xs = tfa.image.random_cutout(xs, mask_size=(12, 12))\n",
        "    xs = random_shift(xs, (4, 4))\n",
        "\n",
        "    return xs, ys\n",
        "\n",
        "def normalise(xs, ys):\n",
        "\n",
        "    xs = (xs - cifar10_means) / cifar10_stds\n",
        "    return xs, ys\n",
        "\n",
        "def undo_normalisation(x):\n",
        "    return np.clip(x * cifar10_stds + cifar10_means, 0.0, 1.0)\n",
        "\n",
        "# Augmentation and normalisation\n",
        "train_data = train_data.map(transform_data).map(normalise)\n",
        "test_data = test_data.map(normalise)"
      ]
    },
    {
      "cell_type": "code",
      "execution_count": 5,
      "metadata": {
        "colab": {
          "base_uri": "https://localhost:8080/",
          "height": 1000
        },
        "id": "vAUql5jyNe0G",
        "outputId": "fda75597-cea5-46c4-a411-7435e32bf5ce"
      },
      "outputs": [
        {
          "output_type": "stream",
          "name": "stdout",
          "text": [
            "Train batch:\n",
            "\tbird\n"
          ]
        },
        {
          "output_type": "display_data",
          "data": {
            "text/plain": [
              "<Figure size 640x480 with 1 Axes>"
            ],
            "image/png": "[encoded data removed]"
          },
          "metadata": {}
        },
        {
          "output_type": "stream",
          "name": "stdout",
          "text": [
            "\thorse\n"
          ]
        },
        {
          "output_type": "display_data",
          "data": {
            "text/plain": [
              "<Figure size 640x480 with 1 Axes>"
            ],
            "image/png": "[encoded data removed]"
          },
          "metadata": {}
        },
        {
          "output_type": "stream",
          "name": "stdout",
          "text": [
            "\thorse\n"
          ]
        },
        {
          "output_type": "display_data",
          "data": {
            "text/plain": [
              "<Figure size 640x480 with 1 Axes>"
            ],
            "image/png": "[encoded data removed]"
          },
          "metadata": {}
        },
        {
          "output_type": "stream",
          "name": "stdout",
          "text": [
            "Test batch:\n",
            "\tcat\n"
          ]
        },
        {
          "output_type": "display_data",
          "data": {
            "text/plain": [
              "<Figure size 640x480 with 1 Axes>"
            ],
            "image/png": "[encoded data removed]"
          },
          "metadata": {}
        },
        {
          "output_type": "stream",
          "name": "stdout",
          "text": [
            "\tship\n"
          ]
        },
        {
          "output_type": "display_data",
          "data": {
            "text/plain": [
              "<Figure size 640x480 with 1 Axes>"
            ],
            "image/png": "[encoded data removed]"
          },
          "metadata": {}
        },
        {
          "output_type": "stream",
          "name": "stdout",
          "text": [
            "\tship\n"
          ]
        },
        {
          "output_type": "display_data",
          "data": {
            "text/plain": [
              "<Figure size 640x480 with 1 Axes>"
            ],
            "image/png": "[encoded data removed]"
          },
          "metadata": {}
        }
      ],
      "source": [
        "# Visualise data\n",
        "import matplotlib.pyplot as plt\n",
        "import numpy as np\n",
        "\n",
        "train_batch, train_target = next(train_data.as_numpy_iterator())\n",
        "test_batch, test_target = next(test_data.as_numpy_iterator())\n",
        "\n",
        "print(\"Train batch:\")\n",
        "for i in range(3):\n",
        "    print(f\"\\t{class_map[train_target[i][0]]}\")\n",
        "    plt.imshow(undo_normalisation(train_batch[i]))\n",
        "    plt.show()\n",
        "\n",
        "print(\"Test batch:\")\n",
        "for i in range(3):\n",
        "    print(f\"\\t{class_map[test_target[i][0]]}\")\n",
        "    plt.imshow(undo_normalisation(test_batch[i]))\n",
        "    plt.show()"
      ]
    },
    {
      "cell_type": "markdown",
      "metadata": {
        "id": "ol18WQT_kKjV"
      },
      "source": [
        "#Initial CNN"
      ]
    },
    {
      "cell_type": "code",
      "execution_count": null,
      "metadata": {
        "id": "7-YMRjt0V8kU"
      },
      "outputs": [],
      "source": [
        "from tensorflow.keras import layers\n",
        "from tensorflow.keras.models import Model\n",
        "\n",
        "def conv_net(input_shape=(32, 32, 3), num_classes=10):\n",
        "\n",
        "    i = layers.Input(shape=input_shape)\n",
        "    x = i\n",
        "\n",
        "    #alpha = 1.0\n",
        "    x = layers.Conv2D(32, kernel_size=3, strides=(1, 1),\n",
        "                      padding='same', use_bias=False, name='Conv1')(x)\n",
        "    x = layers.BatchNormalization(name='bn_Conv1')(x)\n",
        "    x = layers.ReLU(name='Conv1_relu')(x)\n",
        "\n",
        "    x = layers.Conv2D(64, kernel_size=2, strides=(1, 1),\n",
        "                      padding='same', use_bias=False, name='Conv2')(x)\n",
        "    x = layers.BatchNormalization(name='bn_Conv2')(x)\n",
        "    x = layers.ReLU(name='Conv2_relu')(x)\n",
        "\n",
        "    x = layers.Conv2D(64, kernel_size=2, strides=(1, 1),\n",
        "                      padding='same', use_bias=False, name='Conv3')(x)\n",
        "    x = layers.BatchNormalization(name='bn_Conv3')(x)\n",
        "    x = layers.ReLU(name='Conv3_relu')(x)\n",
        "\n",
        "    x = layers.Conv2D(128, kernel_size=2, strides=(1, 1),\n",
        "                      padding='same', use_bias=False, name='Conv4')(x)\n",
        "    x = layers.BatchNormalization(name='bn_Conv4')(x)\n",
        "    x = layers.ReLU(name='Conv4_relu')(x)\n",
        "\n",
        "    x = layers.Conv2D(256, kernel_size=2, strides=(1, 1),\n",
        "                      padding='same', use_bias=False, name='Conv5')(x)\n",
        "    x = layers.BatchNormalization(name='bn_Conv5')(x)\n",
        "    x = layers.ReLU(name='Conv5_relu')(x)\n",
        "\n",
        "    x = layers.Conv2D(512, kernel_size=2, strides=(1, 1),\n",
        "                      padding='same', use_bias=False, name='Conv6')(x)\n",
        "    x = layers.BatchNormalization(name='bn_Conv6')(x)\n",
        "    x = layers.ReLU(name='Conv6_relu')(x)\n",
        "\n",
        "    x = layers.Conv2D(1024, kernel_size=1, use_bias=False, name='Conv_l', padding=\"valid\")(x)\n",
        "    x = layers.BatchNormalization(name='Conv_l_bn')(x)\n",
        "    x = layers.ReLU(name='conv_l_relu')(x)\n",
        "\n",
        "    x = layers.GlobalAveragePooling2D()(x)\n",
        "    x = layers.Dense(num_classes, name='predictions')(x)\n",
        "\n",
        "    return Model(i, x)\n"
      ]
    },
    {
      "cell_type": "code",
      "execution_count": null,
      "metadata": {
        "id": "X5RLgSUiWFAn"
      },
      "outputs": [],
      "source": [
        "from tensorflow.keras.callbacks import LearningRateScheduler, TensorBoard\n",
        "from tensorflow.keras.losses import SparseCategoricalCrossentropy\n",
        "from tensorflow.keras.optimizers import SGD\n",
        "\n",
        "tf.config.optimizer.set_jit(True)\n",
        "\n",
        "train_data = train_data.prefetch(1)\n",
        "test_data = test_data.prefetch(1)\n",
        "\n",
        "model_conv_net = conv_net()\n",
        "model_conv_net.compile(loss=SparseCategoricalCrossentropy(from_logits=True),\n",
        "              optimizer=SGD(learning_rate=0.1, momentum=0.9, weight_decay=0.0, nesterov=False),\n",
        "              metrics=['accuracy'])\n",
        "\n",
        "def train_model(model):\n",
        "    def lr_schedule(epoch):\n",
        "        if 0 <= epoch < 35:\n",
        "            return 0.1\n",
        "        if 35 <= epoch < 65:\n",
        "            return 0.01\n",
        "        return 0.001\n",
        "\n",
        "    model.fit(\n",
        "        train_data, validation_data=test_data,\n",
        "        epochs=90, # Set no. of epochs\n",
        "        callbacks=[\n",
        "            LearningRateScheduler(lr_schedule),\n",
        "            TensorBoard(log_dir=\"./tb_logs\", profile_batch='25, 35')  # Profile between the 25th and 35th forward pass\n",
        "        ])"
      ]
    },
    {
      "cell_type": "code",
      "execution_count": null,
      "metadata": {
        "colab": {
          "base_uri": "https://localhost:8080/"
        },
        "id": "uw69MtUgWmMa",
        "outputId": "b3c42cd3-8799-4450-e532-99b8b6af092e"
      },
      "outputs": [
        {
          "name": "stdout",
          "output_type": "stream",
          "text": [
            "Epoch 1/90\n",
            "391/391 [==============================] - 31s 35ms/step - loss: 1.7816 - accuracy: 0.3330 - val_loss: 1.7538 - val_accuracy: 0.3844 - lr: 0.1000\n",
            "Epoch 2/90\n",
            "391/391 [==============================] - 19s 48ms/step - loss: 1.4297 - accuracy: 0.4805 - val_loss: 2.4477 - val_accuracy: 0.3420 - lr: 0.1000\n",
            "Epoch 3/90\n",
            "391/391 [==============================] - 9s 23ms/step - loss: 1.2742 - accuracy: 0.5388 - val_loss: 1.2788 - val_accuracy: 0.5636 - lr: 0.1000\n",
            "Epoch 4/90\n",
            "391/391 [==============================] - 9s 23ms/step - loss: 1.1734 - accuracy: 0.5771 - val_loss: 1.3672 - val_accuracy: 0.4945 - lr: 0.1000\n",
            "Epoch 5/90\n",
            "391/391 [==============================] - 9s 23ms/step - loss: 1.0829 - accuracy: 0.6117 - val_loss: 1.0255 - val_accuracy: 0.6387 - lr: 0.1000\n",
            "Epoch 6/90\n",
            "391/391 [==============================] - 9s 23ms/step - loss: 1.0187 - accuracy: 0.6363 - val_loss: 1.6128 - val_accuracy: 0.5470 - lr: 0.1000\n",
            "Epoch 7/90\n",
            "391/391 [==============================] - 9s 23ms/step - loss: 0.9731 - accuracy: 0.6558 - val_loss: 1.2458 - val_accuracy: 0.5685 - lr: 0.1000\n",
            "Epoch 8/90\n",
            "391/391 [==============================] - 9s 23ms/step - loss: 0.9348 - accuracy: 0.6677 - val_loss: 1.0507 - val_accuracy: 0.6505 - lr: 0.1000\n",
            "Epoch 9/90\n",
            "391/391 [==============================] - 9s 23ms/step - loss: 0.8976 - accuracy: 0.6837 - val_loss: 1.2663 - val_accuracy: 0.6256 - lr: 0.1000\n",
            "Epoch 10/90\n",
            "391/391 [==============================] - 9s 23ms/step - loss: 0.8659 - accuracy: 0.6932 - val_loss: 1.0039 - val_accuracy: 0.6615 - lr: 0.1000\n",
            "Epoch 11/90\n",
            "391/391 [==============================] - 9s 23ms/step - loss: 0.8353 - accuracy: 0.7077 - val_loss: 1.1607 - val_accuracy: 0.6327 - lr: 0.1000\n",
            "Epoch 12/90\n",
            "391/391 [==============================] - 9s 23ms/step - loss: 0.8101 - accuracy: 0.7157 - val_loss: 1.0388 - val_accuracy: 0.6471 - lr: 0.1000\n",
            "Epoch 13/90\n",
            "391/391 [==============================] - 9s 23ms/step - loss: 0.7908 - accuracy: 0.7246 - val_loss: 0.8742 - val_accuracy: 0.7031 - lr: 0.1000\n",
            "Epoch 14/90\n",
            "391/391 [==============================] - 9s 23ms/step - loss: 0.7709 - accuracy: 0.7303 - val_loss: 1.1654 - val_accuracy: 0.6541 - lr: 0.1000\n",
            "Epoch 15/90\n",
            "391/391 [==============================] - 9s 23ms/step - loss: 0.7517 - accuracy: 0.7357 - val_loss: 1.0287 - val_accuracy: 0.6740 - lr: 0.1000\n",
            "Epoch 16/90\n",
            "391/391 [==============================] - 9s 23ms/step - loss: 0.7277 - accuracy: 0.7445 - val_loss: 0.9169 - val_accuracy: 0.7118 - lr: 0.1000\n",
            "Epoch 17/90\n",
            "391/391 [==============================] - 9s 23ms/step - loss: 0.7202 - accuracy: 0.7474 - val_loss: 1.0945 - val_accuracy: 0.6678 - lr: 0.1000\n",
            "Epoch 18/90\n",
            "391/391 [==============================] - 9s 23ms/step - loss: 0.6972 - accuracy: 0.7555 - val_loss: 0.8800 - val_accuracy: 0.7007 - lr: 0.1000\n",
            "Epoch 19/90\n",
            "391/391 [==============================] - 9s 23ms/step - loss: 0.6839 - accuracy: 0.7620 - val_loss: 1.1175 - val_accuracy: 0.6600 - lr: 0.1000\n",
            "Epoch 20/90\n",
            "391/391 [==============================] - 9s 23ms/step - loss: 0.6675 - accuracy: 0.7678 - val_loss: 1.0209 - val_accuracy: 0.6879 - lr: 0.1000\n",
            "Epoch 21/90\n",
            "391/391 [==============================] - 9s 23ms/step - loss: 0.6533 - accuracy: 0.7722 - val_loss: 1.0174 - val_accuracy: 0.6916 - lr: 0.1000\n",
            "Epoch 22/90\n",
            "391/391 [==============================] - 9s 23ms/step - loss: 0.6392 - accuracy: 0.7750 - val_loss: 0.9141 - val_accuracy: 0.6992 - lr: 0.1000\n",
            "Epoch 23/90\n",
            "391/391 [==============================] - 9s 23ms/step - loss: 0.6271 - accuracy: 0.7798 - val_loss: 0.7801 - val_accuracy: 0.7458 - lr: 0.1000\n",
            "Epoch 24/90\n",
            "391/391 [==============================] - 9s 23ms/step - loss: 0.6135 - accuracy: 0.7835 - val_loss: 1.5137 - val_accuracy: 0.6149 - lr: 0.1000\n",
            "Epoch 25/90\n",
            "391/391 [==============================] - 9s 23ms/step - loss: 0.6075 - accuracy: 0.7861 - val_loss: 0.8291 - val_accuracy: 0.7344 - lr: 0.1000\n",
            "Epoch 26/90\n",
            "391/391 [==============================] - 9s 23ms/step - loss: 0.5886 - accuracy: 0.7944 - val_loss: 0.8915 - val_accuracy: 0.7232 - lr: 0.1000\n",
            "Epoch 27/90\n",
            "391/391 [==============================] - 9s 23ms/step - loss: 0.5827 - accuracy: 0.7960 - val_loss: 0.6820 - val_accuracy: 0.7860 - lr: 0.1000\n",
            "Epoch 28/90\n",
            "391/391 [==============================] - 9s 23ms/step - loss: 0.5717 - accuracy: 0.7997 - val_loss: 1.0465 - val_accuracy: 0.6977 - lr: 0.1000\n",
            "Epoch 29/90\n",
            "391/391 [==============================] - 9s 23ms/step - loss: 0.5675 - accuracy: 0.8025 - val_loss: 1.4542 - val_accuracy: 0.6372 - lr: 0.1000\n",
            "Epoch 30/90\n",
            "391/391 [==============================] - 9s 23ms/step - loss: 0.5474 - accuracy: 0.8090 - val_loss: 1.2098 - val_accuracy: 0.6575 - lr: 0.1000\n",
            "Epoch 31/90\n",
            "391/391 [==============================] - 9s 23ms/step - loss: 0.5367 - accuracy: 0.8118 - val_loss: 1.3788 - val_accuracy: 0.6579 - lr: 0.1000\n",
            "Epoch 32/90\n",
            "391/391 [==============================] - 9s 23ms/step - loss: 0.5305 - accuracy: 0.8137 - val_loss: 0.7406 - val_accuracy: 0.7666 - lr: 0.1000\n",
            "Epoch 33/90\n",
            "391/391 [==============================] - 9s 23ms/step - loss: 0.5174 - accuracy: 0.8189 - val_loss: 0.7206 - val_accuracy: 0.7702 - lr: 0.1000\n",
            "Epoch 34/90\n",
            "391/391 [==============================] - 9s 23ms/step - loss: 0.5150 - accuracy: 0.8188 - val_loss: 0.9431 - val_accuracy: 0.7438 - lr: 0.1000\n",
            "Epoch 35/90\n",
            "391/391 [==============================] - 9s 23ms/step - loss: 0.5058 - accuracy: 0.8234 - val_loss: 1.3065 - val_accuracy: 0.6812 - lr: 0.1000\n",
            "Epoch 36/90\n",
            "391/391 [==============================] - 9s 23ms/step - loss: 0.4270 - accuracy: 0.8510 - val_loss: 0.4578 - val_accuracy: 0.8493 - lr: 0.0100\n",
            "Epoch 37/90\n",
            "391/391 [==============================] - 9s 23ms/step - loss: 0.3862 - accuracy: 0.8675 - val_loss: 0.4459 - val_accuracy: 0.8525 - lr: 0.0100\n",
            "Epoch 38/90\n",
            "391/391 [==============================] - 9s 23ms/step - loss: 0.3799 - accuracy: 0.8682 - val_loss: 0.4622 - val_accuracy: 0.8481 - lr: 0.0100\n",
            "Epoch 39/90\n",
            "391/391 [==============================] - 9s 23ms/step - loss: 0.3719 - accuracy: 0.8730 - val_loss: 0.4477 - val_accuracy: 0.8517 - lr: 0.0100\n",
            "Epoch 40/90\n",
            "391/391 [==============================] - 9s 23ms/step - loss: 0.3631 - accuracy: 0.8760 - val_loss: 0.4660 - val_accuracy: 0.8492 - lr: 0.0100\n",
            "Epoch 41/90\n",
            "391/391 [==============================] - 9s 23ms/step - loss: 0.3631 - accuracy: 0.8733 - val_loss: 0.4761 - val_accuracy: 0.8475 - lr: 0.0100\n",
            "Epoch 42/90\n",
            "391/391 [==============================] - 9s 23ms/step - loss: 0.3558 - accuracy: 0.8754 - val_loss: 0.4559 - val_accuracy: 0.8528 - lr: 0.0100\n",
            "Epoch 43/90\n",
            "391/391 [==============================] - 9s 23ms/step - loss: 0.3513 - accuracy: 0.8775 - val_loss: 0.4715 - val_accuracy: 0.8478 - lr: 0.0100\n",
            "Epoch 44/90\n",
            "391/391 [==============================] - 9s 23ms/step - loss: 0.3484 - accuracy: 0.8781 - val_loss: 0.4467 - val_accuracy: 0.8571 - lr: 0.0100\n",
            "Epoch 45/90\n",
            "391/391 [==============================] - 9s 23ms/step - loss: 0.3489 - accuracy: 0.8786 - val_loss: 0.4674 - val_accuracy: 0.8501 - lr: 0.0100\n",
            "Epoch 46/90\n",
            "391/391 [==============================] - 9s 23ms/step - loss: 0.3480 - accuracy: 0.8779 - val_loss: 0.4512 - val_accuracy: 0.8541 - lr: 0.0100\n",
            "Epoch 47/90\n",
            "391/391 [==============================] - 9s 23ms/step - loss: 0.3391 - accuracy: 0.8817 - val_loss: 0.4766 - val_accuracy: 0.8482 - lr: 0.0100\n",
            "Epoch 48/90\n",
            "391/391 [==============================] - 9s 23ms/step - loss: 0.3333 - accuracy: 0.8834 - val_loss: 0.4941 - val_accuracy: 0.8449 - lr: 0.0100\n",
            "Epoch 49/90\n",
            "391/391 [==============================] - 9s 23ms/step - loss: 0.3374 - accuracy: 0.8826 - val_loss: 0.4398 - val_accuracy: 0.8590 - lr: 0.0100\n",
            "Epoch 50/90\n",
            "391/391 [==============================] - 9s 23ms/step - loss: 0.3319 - accuracy: 0.8837 - val_loss: 0.4507 - val_accuracy: 0.8540 - lr: 0.0100\n",
            "Epoch 51/90\n",
            "391/391 [==============================] - 9s 23ms/step - loss: 0.3294 - accuracy: 0.8851 - val_loss: 0.4708 - val_accuracy: 0.8533 - lr: 0.0100\n",
            "Epoch 52/90\n",
            "391/391 [==============================] - 9s 23ms/step - loss: 0.3247 - accuracy: 0.8863 - val_loss: 0.4427 - val_accuracy: 0.8589 - lr: 0.0100\n",
            "Epoch 53/90\n",
            "391/391 [==============================] - 9s 23ms/step - loss: 0.3255 - accuracy: 0.8872 - val_loss: 0.4545 - val_accuracy: 0.8567 - lr: 0.0100\n",
            "Epoch 54/90\n",
            "391/391 [==============================] - 9s 23ms/step - loss: 0.3245 - accuracy: 0.8870 - val_loss: 0.4725 - val_accuracy: 0.8492 - lr: 0.0100\n",
            "Epoch 55/90\n",
            "391/391 [==============================] - 9s 23ms/step - loss: 0.3220 - accuracy: 0.8882 - val_loss: 0.4547 - val_accuracy: 0.8555 - lr: 0.0100\n",
            "Epoch 56/90\n",
            "391/391 [==============================] - 9s 23ms/step - loss: 0.3204 - accuracy: 0.8875 - val_loss: 0.4387 - val_accuracy: 0.8597 - lr: 0.0100\n",
            "Epoch 57/90\n",
            "391/391 [==============================] - 9s 23ms/step - loss: 0.3156 - accuracy: 0.8901 - val_loss: 0.4615 - val_accuracy: 0.8524 - lr: 0.0100\n",
            "Epoch 58/90\n",
            "391/391 [==============================] - 9s 23ms/step - loss: 0.3134 - accuracy: 0.8910 - val_loss: 0.4566 - val_accuracy: 0.8547 - lr: 0.0100\n",
            "Epoch 59/90\n",
            "391/391 [==============================] - 9s 23ms/step - loss: 0.3093 - accuracy: 0.8929 - val_loss: 0.4827 - val_accuracy: 0.8465 - lr: 0.0100\n",
            "Epoch 60/90\n",
            "391/391 [==============================] - 9s 23ms/step - loss: 0.3093 - accuracy: 0.8917 - val_loss: 0.4576 - val_accuracy: 0.8600 - lr: 0.0100\n",
            "Epoch 61/90\n",
            "391/391 [==============================] - 9s 23ms/step - loss: 0.3047 - accuracy: 0.8946 - val_loss: 0.4718 - val_accuracy: 0.8540 - lr: 0.0100\n",
            "Epoch 62/90\n",
            "391/391 [==============================] - 9s 23ms/step - loss: 0.2987 - accuracy: 0.8967 - val_loss: 0.4998 - val_accuracy: 0.8463 - lr: 0.0100\n",
            "Epoch 63/90\n",
            "391/391 [==============================] - 9s 23ms/step - loss: 0.3001 - accuracy: 0.8948 - val_loss: 0.4915 - val_accuracy: 0.8462 - lr: 0.0100\n",
            "Epoch 64/90\n",
            "391/391 [==============================] - 9s 23ms/step - loss: 0.3036 - accuracy: 0.8922 - val_loss: 0.4971 - val_accuracy: 0.8488 - lr: 0.0100\n",
            "Epoch 65/90\n",
            "391/391 [==============================] - 9s 23ms/step - loss: 0.2973 - accuracy: 0.8960 - val_loss: 0.4573 - val_accuracy: 0.8568 - lr: 0.0100\n",
            "Epoch 66/90\n",
            "391/391 [==============================] - 9s 23ms/step - loss: 0.2886 - accuracy: 0.8994 - val_loss: 0.4330 - val_accuracy: 0.8636 - lr: 0.0010\n",
            "Epoch 67/90\n",
            "391/391 [==============================] - 9s 23ms/step - loss: 0.2845 - accuracy: 0.9016 - val_loss: 0.4344 - val_accuracy: 0.8638 - lr: 0.0010\n",
            "Epoch 68/90\n",
            "391/391 [==============================] - 9s 23ms/step - loss: 0.2808 - accuracy: 0.9029 - val_loss: 0.4314 - val_accuracy: 0.8642 - lr: 0.0010\n",
            "Epoch 69/90\n",
            "391/391 [==============================] - 9s 23ms/step - loss: 0.2802 - accuracy: 0.9026 - val_loss: 0.4317 - val_accuracy: 0.8659 - lr: 0.0010\n",
            "Epoch 70/90\n",
            "391/391 [==============================] - 9s 23ms/step - loss: 0.2780 - accuracy: 0.9033 - val_loss: 0.4354 - val_accuracy: 0.8648 - lr: 0.0010\n",
            "Epoch 71/90\n",
            "391/391 [==============================] - 9s 23ms/step - loss: 0.2738 - accuracy: 0.9054 - val_loss: 0.4299 - val_accuracy: 0.8647 - lr: 0.0010\n",
            "Epoch 72/90\n",
            "391/391 [==============================] - 9s 23ms/step - loss: 0.2763 - accuracy: 0.9041 - val_loss: 0.4349 - val_accuracy: 0.8634 - lr: 0.0010\n",
            "Epoch 73/90\n",
            "391/391 [==============================] - 9s 23ms/step - loss: 0.2729 - accuracy: 0.9056 - val_loss: 0.4310 - val_accuracy: 0.8655 - lr: 0.0010\n",
            "Epoch 74/90\n",
            "391/391 [==============================] - 9s 23ms/step - loss: 0.2719 - accuracy: 0.9058 - val_loss: 0.4313 - val_accuracy: 0.8655 - lr: 0.0010\n",
            "Epoch 75/90\n",
            "391/391 [==============================] - 9s 23ms/step - loss: 0.2750 - accuracy: 0.9054 - val_loss: 0.4336 - val_accuracy: 0.8646 - lr: 0.0010\n",
            "Epoch 76/90\n",
            "391/391 [==============================] - 9s 23ms/step - loss: 0.2690 - accuracy: 0.9049 - val_loss: 0.4287 - val_accuracy: 0.8653 - lr: 0.0010\n",
            "Epoch 77/90\n",
            "391/391 [==============================] - 9s 23ms/step - loss: 0.2726 - accuracy: 0.9049 - val_loss: 0.4384 - val_accuracy: 0.8630 - lr: 0.0010\n",
            "Epoch 78/90\n",
            "391/391 [==============================] - 9s 23ms/step - loss: 0.2706 - accuracy: 0.9065 - val_loss: 0.4362 - val_accuracy: 0.8627 - lr: 0.0010\n",
            "Epoch 79/90\n",
            "391/391 [==============================] - 9s 23ms/step - loss: 0.2678 - accuracy: 0.9060 - val_loss: 0.4325 - val_accuracy: 0.8645 - lr: 0.0010\n",
            "Epoch 80/90\n",
            "391/391 [==============================] - 9s 23ms/step - loss: 0.2711 - accuracy: 0.9052 - val_loss: 0.4336 - val_accuracy: 0.8649 - lr: 0.0010\n",
            "Epoch 81/90\n",
            "391/391 [==============================] - 9s 23ms/step - loss: 0.2725 - accuracy: 0.9051 - val_loss: 0.4345 - val_accuracy: 0.8640 - lr: 0.0010\n",
            "Epoch 82/90\n",
            "391/391 [==============================] - 9s 23ms/step - loss: 0.2662 - accuracy: 0.9076 - val_loss: 0.4364 - val_accuracy: 0.8650 - lr: 0.0010\n",
            "Epoch 83/90\n",
            "391/391 [==============================] - 9s 23ms/step - loss: 0.2721 - accuracy: 0.9059 - val_loss: 0.4333 - val_accuracy: 0.8643 - lr: 0.0010\n",
            "Epoch 84/90\n",
            "391/391 [==============================] - 9s 23ms/step - loss: 0.2713 - accuracy: 0.9062 - val_loss: 0.4352 - val_accuracy: 0.8652 - lr: 0.0010\n",
            "Epoch 85/90\n",
            "391/391 [==============================] - 9s 23ms/step - loss: 0.2679 - accuracy: 0.9067 - val_loss: 0.4335 - val_accuracy: 0.8647 - lr: 0.0010\n",
            "Epoch 86/90\n",
            "391/391 [==============================] - 9s 23ms/step - loss: 0.2721 - accuracy: 0.9058 - val_loss: 0.4311 - val_accuracy: 0.8655 - lr: 0.0010\n",
            "Epoch 87/90\n",
            "391/391 [==============================] - 9s 23ms/step - loss: 0.2707 - accuracy: 0.9068 - val_loss: 0.4332 - val_accuracy: 0.8646 - lr: 0.0010\n",
            "Epoch 88/90\n",
            "391/391 [==============================] - 9s 23ms/step - loss: 0.2688 - accuracy: 0.9058 - val_loss: 0.4296 - val_accuracy: 0.8661 - lr: 0.0010\n",
            "Epoch 89/90\n",
            "391/391 [==============================] - 9s 23ms/step - loss: 0.2726 - accuracy: 0.9072 - val_loss: 0.4343 - val_accuracy: 0.8647 - lr: 0.0010\n",
            "Epoch 90/90\n",
            "391/391 [==============================] - 9s 23ms/step - loss: 0.2691 - accuracy: 0.9064 - val_loss: 0.4321 - val_accuracy: 0.8644 - lr: 0.0010\n"
          ]
        }
      ],
      "source": [
        "train_model(model_conv_net)"
      ]
    },
    {
      "cell_type": "markdown",
      "metadata": {
        "id": "JH1Wh4ZgkSG5"
      },
      "source": [
        "#Baseline Model"
      ]
    },
    {
      "cell_type": "code",
      "execution_count": 6,
      "metadata": {
        "id": "QSmxXIOKOxRC"
      },
      "outputs": [],
      "source": [
        "from tensorflow.keras import layers\n",
        "from tensorflow.keras.models import Model\n",
        "\n",
        "def mobilenet_v2_like(input_shape=(32, 32, 3), num_classes=10):\n",
        "    def _inverted_res_block(i, filters, alpha, stride, expansion, block_id):\n",
        "        prefix = 'block_{}_'.format(block_id)\n",
        "        in_channels = i.shape[-1]\n",
        "        x = i\n",
        "\n",
        "        # Expand\n",
        "        x = layers.Conv2D(expansion * in_channels, kernel_size=1, padding='valid',\n",
        "                          use_bias=False, activation=None, name=prefix + 'expand')(x)\n",
        "        x = layers.BatchNormalization(name=prefix + 'expand_BN')(x)\n",
        "        x = layers.ReLU(name=prefix + 'expand_relu')(x)\n",
        "\n",
        "        # Depthwise\n",
        "        x = layers.DepthwiseConv2D(kernel_size=3, strides=stride, activation=None,\n",
        "                                   use_bias=False, padding='same', name=prefix + 'depthwise')(x)\n",
        "        x = layers.BatchNormalization(name=prefix + 'depthwise_BN')(x)\n",
        "        x = layers.ReLU(name=prefix + 'depthwise_relu')(x)\n",
        "\n",
        "        # Project\n",
        "        pointwise_filters = int(filters * alpha)\n",
        "        x = layers.Conv2D(pointwise_filters, kernel_size=1, padding='valid', use_bias=False,\n",
        "                          activation=None, name=prefix + 'project')(x)\n",
        "        x = layers.BatchNormalization(name=prefix + 'project_BN')(x)\n",
        "\n",
        "        if stride == 1:\n",
        "            if in_channels != pointwise_filters:\n",
        "                i = layers.Conv2D(pointwise_filters, kernel_size=1, padding='valid', use_bias=False,\n",
        "                                  activation=None, name=prefix + 'adjust')(i)\n",
        "            x = layers.Add(name=prefix + 'add')([i, x])\n",
        "        return x\n",
        "\n",
        "    i = layers.Input(shape=input_shape)\n",
        "    x = i\n",
        "\n",
        "    alpha = 1.0\n",
        "    x = layers.Conv2D(32, kernel_size=3, strides=(1, 1),\n",
        "                      padding='same', use_bias=False, name='Conv1')(x)\n",
        "    x = layers.BatchNormalization(name='bn_Conv1')(x)\n",
        "    x = layers.ReLU(name='Conv1_relu')(x)\n",
        "\n",
        "    x = _inverted_res_block(x, filters=16, alpha=alpha, stride=1, expansion=1, block_id=0)\n",
        "\n",
        "    x = _inverted_res_block(x, filters=24, alpha=alpha, stride=1, expansion=6, block_id=1)\n",
        "    x = _inverted_res_block(x, filters=24, alpha=alpha, stride=1, expansion=6, block_id=2)\n",
        "\n",
        "    x = _inverted_res_block(x, filters=32, alpha=alpha, stride=2, expansion=6, block_id=3)\n",
        "    x = _inverted_res_block(x, filters=32, alpha=alpha, stride=1, expansion=6, block_id=4)\n",
        "    x = _inverted_res_block(x, filters=32, alpha=alpha, stride=1, expansion=6, block_id=5)\n",
        "\n",
        "    x = _inverted_res_block(x, filters=64, alpha=alpha, stride=2, expansion=6, block_id=6)\n",
        "    x = _inverted_res_block(x, filters=64, alpha=alpha, stride=1, expansion=6, block_id=7)\n",
        "    x = _inverted_res_block(x, filters=64, alpha=alpha, stride=1, expansion=6, block_id=8)\n",
        "    x = _inverted_res_block(x, filters=64, alpha=alpha, stride=1, expansion=6, block_id=9)\n",
        "\n",
        "    x = _inverted_res_block(x, filters=96, alpha=alpha, stride=1, expansion=6, block_id=10)\n",
        "    x = _inverted_res_block(x, filters=96, alpha=alpha, stride=1, expansion=6, block_id=11)\n",
        "    x = _inverted_res_block(x, filters=96, alpha=alpha, stride=1, expansion=6, block_id=12)\n",
        "\n",
        "    x = _inverted_res_block(x, filters=160, alpha=alpha, stride=2, expansion=6, block_id=13)\n",
        "    x = _inverted_res_block(x, filters=160, alpha=alpha, stride=1, expansion=6, block_id=14)\n",
        "    x = _inverted_res_block(x, filters=160, alpha=alpha, stride=1, expansion=6, block_id=15)\n",
        "\n",
        "    x = _inverted_res_block(x, filters=320, alpha=alpha, stride=1, expansion=6, block_id=16)\n",
        "\n",
        "    x = layers.Conv2D(1280, kernel_size=1, use_bias=False, name='Conv_1', padding=\"valid\")(x)\n",
        "    x = layers.BatchNormalization(name='Conv_1_bn')(x)\n",
        "    x = layers.ReLU(name='out_relu')(x)\n",
        "\n",
        "    x = layers.GlobalAveragePooling2D()(x)\n",
        "    x = layers.Dense(num_classes, name='predictions')(x)\n",
        "\n",
        "    return Model(i, x)\n"
      ]
    },
    {
      "cell_type": "code",
      "execution_count": 7,
      "metadata": {
        "id": "Z6Ffa7oHpvsn"
      },
      "outputs": [],
      "source": [
        "from tensorflow.keras.callbacks import LearningRateScheduler, TensorBoard\n",
        "from tensorflow.keras.losses import SparseCategoricalCrossentropy\n",
        "from tensorflow.keras.optimizers import SGD\n",
        "\n",
        "tf.config.optimizer.set_jit(True)\n",
        "\n",
        "train_data = train_data.prefetch(1)\n",
        "test_data = test_data.prefetch(1)\n",
        "\n",
        "model_mobilenet = mobilenet_v2_like()\n",
        "model_mobilenet.compile(loss=SparseCategoricalCrossentropy(from_logits=True),\n",
        "              optimizer=SGD(learning_rate=0.1, momentum=0.9, weight_decay=0.0, nesterov=False),\n",
        "              metrics=['accuracy'])\n",
        "\n",
        "def train_model(model):\n",
        "    def lr_schedule(epoch):\n",
        "        if 0 <= epoch < 35:\n",
        "            return 0.1\n",
        "        if 35 <= epoch < 65:\n",
        "            return 0.01\n",
        "        return 0.001\n",
        "\n",
        "    model.fit(\n",
        "        train_data, validation_data=test_data,\n",
        "        epochs=60, # Set no. of epochs\n",
        "        callbacks=[\n",
        "            LearningRateScheduler(lr_schedule),\n",
        "            TensorBoard(log_dir=\"./tb_logs\", profile_batch='25, 35')  # Profile between the 25th and 35th forward pass\n",
        "        ])"
      ]
    },
    {
      "cell_type": "code",
      "execution_count": null,
      "metadata": {
        "colab": {
          "base_uri": "https://localhost:8080/"
        },
        "id": "6Xg43Zg7p3GE",
        "outputId": "95b3365b-7d48-4c3c-c45f-926db792b027"
      },
      "outputs": [
        {
          "name": "stdout",
          "output_type": "stream",
          "text": [
            "Epoch 1/60\n",
            "391/391 [==============================] - 61s 63ms/step - loss: 1.8366 - accuracy: 0.3423 - val_loss: 1.6570 - val_accuracy: 0.4157 - lr: 0.1000\n",
            "Epoch 2/60\n",
            "391/391 [==============================] - 39s 99ms/step - loss: 1.3415 - accuracy: 0.5115 - val_loss: 1.5875 - val_accuracy: 0.4841 - lr: 0.1000\n",
            "Epoch 3/60\n",
            "391/391 [==============================] - 19s 48ms/step - loss: 1.1159 - accuracy: 0.5991 - val_loss: 1.0697 - val_accuracy: 0.6479 - lr: 0.1000\n",
            "Epoch 4/60\n",
            "391/391 [==============================] - 18s 47ms/step - loss: 0.9755 - accuracy: 0.6541 - val_loss: 0.9929 - val_accuracy: 0.6660 - lr: 0.1000\n",
            "Epoch 5/60\n",
            "391/391 [==============================] - 20s 50ms/step - loss: 0.8697 - accuracy: 0.6917 - val_loss: 0.8909 - val_accuracy: 0.7090 - lr: 0.1000\n",
            "Epoch 6/60\n",
            "391/391 [==============================] - 19s 48ms/step - loss: 0.7833 - accuracy: 0.7251 - val_loss: 0.7981 - val_accuracy: 0.7374 - lr: 0.1000\n",
            "Epoch 7/60\n",
            "391/391 [==============================] - 19s 50ms/step - loss: 0.7264 - accuracy: 0.7453 - val_loss: 0.9471 - val_accuracy: 0.6937 - lr: 0.1000\n",
            "Epoch 8/60\n",
            "391/391 [==============================] - 19s 48ms/step - loss: 0.6788 - accuracy: 0.7638 - val_loss: 0.6332 - val_accuracy: 0.7810 - lr: 0.1000\n",
            "Epoch 9/60\n",
            "391/391 [==============================] - 18s 47ms/step - loss: 0.6344 - accuracy: 0.7789 - val_loss: 0.5730 - val_accuracy: 0.8022 - lr: 0.1000\n",
            "Epoch 10/60\n",
            "391/391 [==============================] - 19s 47ms/step - loss: 0.6037 - accuracy: 0.7910 - val_loss: 0.6124 - val_accuracy: 0.7943 - lr: 0.1000\n",
            "Epoch 11/60\n",
            "391/391 [==============================] - 19s 48ms/step - loss: 0.5739 - accuracy: 0.8012 - val_loss: 0.5496 - val_accuracy: 0.8104 - lr: 0.1000\n",
            "Epoch 12/60\n",
            "391/391 [==============================] - 20s 51ms/step - loss: 0.5506 - accuracy: 0.8080 - val_loss: 0.4779 - val_accuracy: 0.8322 - lr: 0.1000\n",
            "Epoch 13/60\n",
            "391/391 [==============================] - 18s 47ms/step - loss: 0.5330 - accuracy: 0.8136 - val_loss: 0.6820 - val_accuracy: 0.7855 - lr: 0.1000\n",
            "Epoch 14/60\n",
            "391/391 [==============================] - 19s 49ms/step - loss: 0.5101 - accuracy: 0.8202 - val_loss: 0.5160 - val_accuracy: 0.8303 - lr: 0.1000\n",
            "Epoch 15/60\n",
            "391/391 [==============================] - 18s 46ms/step - loss: 0.4868 - accuracy: 0.8304 - val_loss: 0.4134 - val_accuracy: 0.8569 - lr: 0.1000\n",
            "Epoch 16/60\n",
            "391/391 [==============================] - 19s 48ms/step - loss: 0.4719 - accuracy: 0.8352 - val_loss: 0.4684 - val_accuracy: 0.8376 - lr: 0.1000\n",
            "Epoch 17/60\n",
            "391/391 [==============================] - 18s 47ms/step - loss: 0.4541 - accuracy: 0.8433 - val_loss: 0.4753 - val_accuracy: 0.8461 - lr: 0.1000\n",
            "Epoch 18/60\n",
            "391/391 [==============================] - 20s 50ms/step - loss: 0.4415 - accuracy: 0.8451 - val_loss: 0.4137 - val_accuracy: 0.8613 - lr: 0.1000\n",
            "Epoch 19/60\n",
            "391/391 [==============================] - 19s 48ms/step - loss: 0.4327 - accuracy: 0.8499 - val_loss: 0.4522 - val_accuracy: 0.8474 - lr: 0.1000\n",
            "Epoch 20/60\n",
            "391/391 [==============================] - 20s 51ms/step - loss: 0.4151 - accuracy: 0.8562 - val_loss: 0.4039 - val_accuracy: 0.8600 - lr: 0.1000\n",
            "Epoch 21/60\n",
            "391/391 [==============================] - 18s 47ms/step - loss: 0.4036 - accuracy: 0.8588 - val_loss: 0.4194 - val_accuracy: 0.8627 - lr: 0.1000\n",
            "Epoch 22/60\n",
            "391/391 [==============================] - 20s 51ms/step - loss: 0.3957 - accuracy: 0.8624 - val_loss: 0.3746 - val_accuracy: 0.8749 - lr: 0.1000\n",
            "Epoch 23/60\n",
            "391/391 [==============================] - 18s 47ms/step - loss: 0.3841 - accuracy: 0.8656 - val_loss: 0.3951 - val_accuracy: 0.8694 - lr: 0.1000\n",
            "Epoch 24/60\n",
            "391/391 [==============================] - 20s 51ms/step - loss: 0.3741 - accuracy: 0.8687 - val_loss: 0.3689 - val_accuracy: 0.8774 - lr: 0.1000\n",
            "Epoch 25/60\n",
            "391/391 [==============================] - 18s 47ms/step - loss: 0.3675 - accuracy: 0.8703 - val_loss: 0.3654 - val_accuracy: 0.8728 - lr: 0.1000\n",
            "Epoch 26/60\n",
            "391/391 [==============================] - 20s 50ms/step - loss: 0.3528 - accuracy: 0.8760 - val_loss: 0.3344 - val_accuracy: 0.8860 - lr: 0.1000\n",
            "Epoch 27/60\n",
            "391/391 [==============================] - 18s 46ms/step - loss: 0.3474 - accuracy: 0.8801 - val_loss: 0.3375 - val_accuracy: 0.8875 - lr: 0.1000\n",
            "Epoch 28/60\n",
            "391/391 [==============================] - 19s 48ms/step - loss: 0.3370 - accuracy: 0.8802 - val_loss: 0.3422 - val_accuracy: 0.8824 - lr: 0.1000\n",
            "Epoch 29/60\n",
            "391/391 [==============================] - 18s 47ms/step - loss: 0.3331 - accuracy: 0.8827 - val_loss: 0.3302 - val_accuracy: 0.8891 - lr: 0.1000\n",
            "Epoch 30/60\n",
            "391/391 [==============================] - 19s 47ms/step - loss: 0.3241 - accuracy: 0.8858 - val_loss: 0.3440 - val_accuracy: 0.8841 - lr: 0.1000\n",
            "Epoch 31/60\n",
            "391/391 [==============================] - 19s 49ms/step - loss: 0.3183 - accuracy: 0.8872 - val_loss: 0.3658 - val_accuracy: 0.8766 - lr: 0.1000\n",
            "Epoch 32/60\n",
            "391/391 [==============================] - 18s 46ms/step - loss: 0.3066 - accuracy: 0.8933 - val_loss: 0.3372 - val_accuracy: 0.8873 - lr: 0.1000\n",
            "Epoch 33/60\n",
            "391/391 [==============================] - 19s 49ms/step - loss: 0.3051 - accuracy: 0.8929 - val_loss: 0.3621 - val_accuracy: 0.8814 - lr: 0.1000\n",
            "Epoch 34/60\n",
            "391/391 [==============================] - 18s 46ms/step - loss: 0.2971 - accuracy: 0.8952 - val_loss: 0.3301 - val_accuracy: 0.8906 - lr: 0.1000\n",
            "Epoch 35/60\n",
            "391/391 [==============================] - 18s 46ms/step - loss: 0.2954 - accuracy: 0.8953 - val_loss: 0.3142 - val_accuracy: 0.8949 - lr: 0.1000\n",
            "Epoch 36/60\n",
            "391/391 [==============================] - 18s 47ms/step - loss: 0.2383 - accuracy: 0.9140 - val_loss: 0.2433 - val_accuracy: 0.9165 - lr: 0.0100\n",
            "Epoch 37/60\n",
            "391/391 [==============================] - 19s 49ms/step - loss: 0.2067 - accuracy: 0.9260 - val_loss: 0.2429 - val_accuracy: 0.9198 - lr: 0.0100\n",
            "Epoch 38/60\n",
            "391/391 [==============================] - 18s 47ms/step - loss: 0.1993 - accuracy: 0.9301 - val_loss: 0.2449 - val_accuracy: 0.9215 - lr: 0.0100\n",
            "Epoch 39/60\n",
            "391/391 [==============================] - 19s 49ms/step - loss: 0.1893 - accuracy: 0.9330 - val_loss: 0.2384 - val_accuracy: 0.9230 - lr: 0.0100\n",
            "Epoch 40/60\n",
            "391/391 [==============================] - 19s 47ms/step - loss: 0.1838 - accuracy: 0.9348 - val_loss: 0.2371 - val_accuracy: 0.9231 - lr: 0.0100\n",
            "Epoch 41/60\n",
            "391/391 [==============================] - 18s 47ms/step - loss: 0.1852 - accuracy: 0.9340 - val_loss: 0.2409 - val_accuracy: 0.9216 - lr: 0.0100\n",
            "Epoch 42/60\n",
            "391/391 [==============================] - 18s 47ms/step - loss: 0.1794 - accuracy: 0.9363 - val_loss: 0.2373 - val_accuracy: 0.9228 - lr: 0.0100\n",
            "Epoch 43/60\n",
            "391/391 [==============================] - 18s 47ms/step - loss: 0.1801 - accuracy: 0.9358 - val_loss: 0.2362 - val_accuracy: 0.9245 - lr: 0.0100\n",
            "Epoch 44/60\n",
            "391/391 [==============================] - 19s 48ms/step - loss: 0.1751 - accuracy: 0.9372 - val_loss: 0.2372 - val_accuracy: 0.9237 - lr: 0.0100\n",
            "Epoch 45/60\n",
            "391/391 [==============================] - 18s 47ms/step - loss: 0.1681 - accuracy: 0.9395 - val_loss: 0.2417 - val_accuracy: 0.9246 - lr: 0.0100\n",
            "Epoch 46/60\n",
            "391/391 [==============================] - 20s 50ms/step - loss: 0.1702 - accuracy: 0.9394 - val_loss: 0.2404 - val_accuracy: 0.9232 - lr: 0.0100\n",
            "Epoch 47/60\n",
            "391/391 [==============================] - 18s 47ms/step - loss: 0.1672 - accuracy: 0.9403 - val_loss: 0.2426 - val_accuracy: 0.9227 - lr: 0.0100\n",
            "Epoch 48/60\n",
            "391/391 [==============================] - 19s 48ms/step - loss: 0.1642 - accuracy: 0.9403 - val_loss: 0.2397 - val_accuracy: 0.9260 - lr: 0.0100\n",
            "Epoch 49/60\n",
            "391/391 [==============================] - 19s 47ms/step - loss: 0.1646 - accuracy: 0.9410 - val_loss: 0.2384 - val_accuracy: 0.9258 - lr: 0.0100\n",
            "Epoch 50/60\n",
            "391/391 [==============================] - 19s 48ms/step - loss: 0.1618 - accuracy: 0.9420 - val_loss: 0.2395 - val_accuracy: 0.9258 - lr: 0.0100\n",
            "Epoch 51/60\n",
            "391/391 [==============================] - 19s 48ms/step - loss: 0.1545 - accuracy: 0.9452 - val_loss: 0.2462 - val_accuracy: 0.9236 - lr: 0.0100\n",
            "Epoch 52/60\n",
            "391/391 [==============================] - 19s 48ms/step - loss: 0.1545 - accuracy: 0.9450 - val_loss: 0.2466 - val_accuracy: 0.9248 - lr: 0.0100\n",
            "Epoch 53/60\n",
            "391/391 [==============================] - 18s 47ms/step - loss: 0.1533 - accuracy: 0.9461 - val_loss: 0.2457 - val_accuracy: 0.9260 - lr: 0.0100\n",
            "Epoch 54/60\n",
            "391/391 [==============================] - 19s 48ms/step - loss: 0.1501 - accuracy: 0.9473 - val_loss: 0.2414 - val_accuracy: 0.9266 - lr: 0.0100\n",
            "Epoch 55/60\n",
            "391/391 [==============================] - 18s 47ms/step - loss: 0.1493 - accuracy: 0.9465 - val_loss: 0.2438 - val_accuracy: 0.9262 - lr: 0.0100\n",
            "Epoch 56/60\n",
            "391/391 [==============================] - 19s 47ms/step - loss: 0.1483 - accuracy: 0.9480 - val_loss: 0.2453 - val_accuracy: 0.9259 - lr: 0.0100\n",
            "Epoch 57/60\n",
            "391/391 [==============================] - 19s 48ms/step - loss: 0.1433 - accuracy: 0.9482 - val_loss: 0.2416 - val_accuracy: 0.9271 - lr: 0.0100\n",
            "Epoch 58/60\n",
            "391/391 [==============================] - 20s 51ms/step - loss: 0.1459 - accuracy: 0.9481 - val_loss: 0.2465 - val_accuracy: 0.9262 - lr: 0.0100\n",
            "Epoch 59/60\n",
            "391/391 [==============================] - 18s 47ms/step - loss: 0.1447 - accuracy: 0.9473 - val_loss: 0.2433 - val_accuracy: 0.9277 - lr: 0.0100\n",
            "Epoch 60/60\n",
            "391/391 [==============================] - 19s 50ms/step - loss: 0.1415 - accuracy: 0.9497 - val_loss: 0.2422 - val_accuracy: 0.9289 - lr: 0.0100\n"
          ]
        }
      ],
      "source": [
        "train_model(model_mobilenet)"
      ]
    },
    {
      "cell_type": "code",
      "execution_count": null,
      "metadata": {
        "colab": {
          "base_uri": "https://localhost:8080/"
        },
        "id": "yvX4hMIZ1DRF",
        "outputId": "0f78f303-c7f3-488b-b85f-d8415ab8e9cd"
      },
      "outputs": [
        {
          "name": "stderr",
          "output_type": "stream",
          "text": [
            "<ipython-input-9-f8dcb04fd084>:1: UserWarning: You are saving your model as an HDF5 file via `model.save()`. This file format is considered legacy. We recommend using instead the native Keras format, e.g. `model.save('my_model.keras')`.\n",
            "  tf.keras.models.save_model(model_mobilenet, \"model_mobilenet.h5\", include_optimizer=False)\n"
          ]
        },
        {
          "name": "stdout",
          "output_type": "stream",
          "text": [
            "Total params: 2330186\n",
            "79/79 [==============================] - 1s 13ms/step - loss: 0.2422 - accuracy: 0.9289\n"
          ]
        },
        {
          "data": {
            "text/plain": [
              "[0.24215303361415863, 0.9289000034332275]"
            ]
          },
          "execution_count": 9,
          "metadata": {},
          "output_type": "execute_result"
        }
      ],
      "source": [
        "tf.keras.models.save_model(model_mobilenet, \"model_mobilenet.h5\", include_optimizer=False)\n",
        "hist_mobilenet = model_mobilenet.history.history\n",
        "\n",
        "print(f\"Total params: {model_mobilenet.count_params()}\")\n",
        "model_mobilenet.evaluate(test_data)"
      ]
    },
    {
      "cell_type": "code",
      "execution_count": 8,
      "metadata": {
        "id": "KS9hpDMJ2QHh"
      },
      "outputs": [],
      "source": [
        "def get_gzipped_model_size(file):\n",
        "  # Returns size of gzipped model, in bytes.\n",
        "  import os\n",
        "  import zipfile\n",
        "  import tempfile\n",
        "\n",
        "  _, zipped_file = tempfile.mkstemp('.zip')\n",
        "  with zipfile.ZipFile(zipped_file, 'w', compression=zipfile.ZIP_DEFLATED) as f:\n",
        "    f.write(file)\n",
        "\n",
        "  return os.path.getsize(zipped_file)"
      ]
    },
    {
      "cell_type": "code",
      "execution_count": null,
      "metadata": {
        "colab": {
          "base_uri": "https://localhost:8080/"
        },
        "id": "xpR2pFGr2RV2",
        "outputId": "635d6ebd-98bb-40f3-c595-be55fe8dd37f"
      },
      "outputs": [
        {
          "name": "stdout",
          "output_type": "stream",
          "text": [
            "Keras model (with DepthWiseConv) gzip size (bytes): 8678813\n"
          ]
        }
      ],
      "source": [
        "print(f\"Keras model (with DepthWiseConv) gzip size (bytes): {get_gzipped_model_size('model_mobilenet.h5')}\")"
      ]
    },
    {
      "cell_type": "code",
      "execution_count": null,
      "metadata": {
        "colab": {
          "base_uri": "https://localhost:8080/",
          "height": 408
        },
        "id": "rW8MelZA3J3Y",
        "outputId": "fcd8d6dc-b953-4c17-de7e-c56ae19284ae"
      },
      "outputs": [
        {
          "data": {
            "text/plain": [
              "Text(0.5, 1.0, 'Accuracy vs. Epochs')"
            ]
          },
          "execution_count": 13,
          "metadata": {},
          "output_type": "execute_result"
        },
        {
          "data": {
            "image/png": "[encoded data removed]",
            "text/plain": [
              "<Figure size 600x400 with 1 Axes>"
            ]
          },
          "metadata": {},
          "output_type": "display_data"
        }
      ],
      "source": [
        "import matplotlib.pyplot as plt\n",
        "\n",
        "no_epochs = len(hist_mobilenet['accuracy'])\n",
        "\n",
        "fig = plt.figure(figsize=(6,4))\n",
        "ax = fig.add_subplot(111)\n",
        "ax.plot(range(1, no_epochs + 1), hist_mobilenet['val_accuracy'], label='Val Acc', ls='--', color='blue')\n",
        "ax.plot(range(1, no_epochs + 1), hist_mobilenet['accuracy'], label='Acc', ls='-', color='blue')\n",
        "ax.legend()\n",
        "ax.set_title(\"Accuracy vs. Epochs\")"
      ]
    },
    {
      "cell_type": "code",
      "execution_count": null,
      "metadata": {
        "id": "zvX3rSHUDRJL"
      },
      "outputs": [],
      "source": [
        "import pandas as pd\n",
        "\n",
        "df = pd.DataFrame(hist_mobilenet)\n",
        "df.to_csv('hist_mobilenet.csv', index=False)"
      ]
    },
    {
      "cell_type": "markdown",
      "metadata": {
        "id": "87K82OBWkbJ2"
      },
      "source": [
        "###Defining smaller architectures to serve as student models during knowledge distillation"
      ]
    },
    {
      "cell_type": "code",
      "execution_count": null,
      "metadata": {
        "id": "ojIYyxcEP2Tj"
      },
      "outputs": [],
      "source": [
        "from tensorflow.keras import layers\n",
        "from tensorflow.keras.models import Model\n",
        "\n",
        "def small_mobilenet_v2_like(input_shape=(32, 32, 3), num_classes=10):\n",
        "    def _inverted_res_block(i, filters, alpha, stride, expansion, block_id):\n",
        "        prefix = 'block_{}_'.format(block_id)\n",
        "        in_channels = i.shape[-1]\n",
        "        x = i\n",
        "\n",
        "        # Expand\n",
        "        x = layers.Conv2D(expansion * in_channels, kernel_size=1, padding='valid',\n",
        "                          use_bias=False, activation=None, name=prefix + 'expand')(x)\n",
        "        x = layers.BatchNormalization(name=prefix + 'expand_BN')(x)\n",
        "        x = layers.ReLU(name=prefix + 'expand_relu')(x)\n",
        "\n",
        "        # Depthwise\n",
        "        x = layers.DepthwiseConv2D(kernel_size=3, strides=stride, activation=None,\n",
        "                                   use_bias=False, padding='same', name=prefix + 'depthwise')(x)\n",
        "        x = layers.BatchNormalization(name=prefix + 'depthwise_BN')(x)\n",
        "        x = layers.ReLU(name=prefix + 'depthwise_relu')(x)\n",
        "\n",
        "        # Project\n",
        "        pointwise_filters = int(filters * alpha)\n",
        "        x = layers.Conv2D(pointwise_filters, kernel_size=1, padding='valid', use_bias=False,\n",
        "                          activation=None, name=prefix + 'project')(x)\n",
        "        x = layers.BatchNormalization(name=prefix + 'project_BN')(x)\n",
        "\n",
        "        if stride == 1:\n",
        "            if in_channels != pointwise_filters:\n",
        "                i = layers.Conv2D(pointwise_filters, kernel_size=1, padding='valid', use_bias=False,\n",
        "                                  activation=None, name=prefix + 'adjust')(i)\n",
        "            x = layers.Add(name=prefix + 'add')([i, x])\n",
        "        return x\n",
        "\n",
        "    i = layers.Input(shape=input_shape)\n",
        "    x = i\n",
        "\n",
        "    alpha = 1.0\n",
        "    x = layers.Conv2D(32, kernel_size=3, strides=(1, 1),\n",
        "                      padding='same', use_bias=False, name='Conv1')(x)\n",
        "    x = layers.BatchNormalization(name='bn_Conv1')(x)\n",
        "    x = layers.ReLU(name='Conv1_relu')(x)\n",
        "\n",
        "    x = _inverted_res_block(x, filters=16, alpha=alpha, stride=1, expansion=1, block_id=0)\n",
        "\n",
        "    x = _inverted_res_block(x, filters=24, alpha=alpha, stride=1, expansion=6, block_id=1)\n",
        "    x = _inverted_res_block(x, filters=24, alpha=alpha, stride=1, expansion=6, block_id=2)\n",
        "\n",
        "    x = _inverted_res_block(x, filters=32, alpha=alpha, stride=2, expansion=6, block_id=3)\n",
        "    x = _inverted_res_block(x, filters=32, alpha=alpha, stride=1, expansion=6, block_id=4)\n",
        "    x = _inverted_res_block(x, filters=32, alpha=alpha, stride=1, expansion=6, block_id=5)\n",
        "\n",
        "    x = _inverted_res_block(x, filters=64, alpha=alpha, stride=2, expansion=6, block_id=6)\n",
        "    x = _inverted_res_block(x, filters=64, alpha=alpha, stride=1, expansion=6, block_id=7)\n",
        "    x = _inverted_res_block(x, filters=64, alpha=alpha, stride=1, expansion=6, block_id=9)\n",
        "\n",
        "    x = _inverted_res_block(x, filters=96, alpha=alpha, stride=1, expansion=6, block_id=10)\n",
        "\n",
        "    x = _inverted_res_block(x, filters=160, alpha=alpha, stride=2, expansion=6, block_id=13)\n",
        "\n",
        "    x = _inverted_res_block(x, filters=320, alpha=alpha, stride=1, expansion=6, block_id=16)\n",
        "\n",
        "    x = layers.Conv2D(1280, kernel_size=1, use_bias=False, name='Conv_1', padding=\"valid\")(x)\n",
        "    x = layers.BatchNormalization(name='Conv_1_bn')(x)\n",
        "    x = layers.ReLU(name='out_relu')(x)\n",
        "\n",
        "    x = layers.GlobalAveragePooling2D()(x)\n",
        "    x = layers.Dense(num_classes, name='predictions')(x)\n",
        "\n",
        "    return Model(i, x)\n"
      ]
    },
    {
      "cell_type": "code",
      "execution_count": null,
      "metadata": {
        "id": "yjON4voUFM0r"
      },
      "outputs": [],
      "source": [
        "from tensorflow.keras.callbacks import LearningRateScheduler, TensorBoard\n",
        "from tensorflow.keras.losses import SparseCategoricalCrossentropy\n",
        "from tensorflow.keras.optimizers import SGD\n",
        "\n",
        "tf.config.optimizer.set_jit(True)\n",
        "\n",
        "train_data = train_data.prefetch(1)\n",
        "test_data = test_data.prefetch(1)\n",
        "\n",
        "model = small_mobilenet_v2_like()\n",
        "model.compile(loss=SparseCategoricalCrossentropy(from_logits=True),\n",
        "              optimizer=SGD(learning_rate=0.1, momentum=0.9, weight_decay=0.0, nesterov=False),\n",
        "              metrics=['accuracy'])\n",
        "\n",
        "def train_model(model):\n",
        "    def lr_schedule(epoch):\n",
        "        if 0 <= epoch < 35:\n",
        "            return 0.1\n",
        "        if 35 <= epoch < 65:\n",
        "            return 0.01\n",
        "        return 0.001\n",
        "\n",
        "    model.fit(\n",
        "        train_data, validation_data=test_data,\n",
        "        epochs=60, # Set no. of epochs\n",
        "        callbacks=[\n",
        "            LearningRateScheduler(lr_schedule),\n",
        "            TensorBoard(log_dir=\"./tb_logs\", profile_batch='25, 35')  # Profile between the 25th and 35th forward pass\n",
        "        ])\n",
        "\n",
        "train_model(model)"
      ]
    },
    {
      "cell_type": "code",
      "execution_count": null,
      "metadata": {
        "id": "AKbUj_jrFyhg"
      },
      "outputs": [],
      "source": [
        "# Small 2\n",
        "from tensorflow.keras import layers\n",
        "from tensorflow.keras.models import Model\n",
        "\n",
        "def small2_mobilenet_v2_like(input_shape=(32, 32, 3), num_classes=10):\n",
        "    def _inverted_res_block(i, filters, alpha, stride, expansion, block_id):\n",
        "        prefix = 'block_{}_'.format(block_id)\n",
        "        in_channels = i.shape[-1]\n",
        "        x = i\n",
        "\n",
        "        # Expand\n",
        "        x = layers.Conv2D(expansion * in_channels, kernel_size=1, padding='valid',\n",
        "                          use_bias=False, activation=None, name=prefix + 'expand')(x)\n",
        "        x = layers.BatchNormalization(name=prefix + 'expand_BN')(x)\n",
        "        x = layers.ReLU(name=prefix + 'expand_relu')(x)\n",
        "\n",
        "        # Depthwise\n",
        "        x = layers.DepthwiseConv2D(kernel_size=3, strides=stride, activation=None,\n",
        "                                   use_bias=False, padding='same', name=prefix + 'depthwise')(x)\n",
        "        x = layers.BatchNormalization(name=prefix + 'depthwise_BN')(x)\n",
        "        x = layers.ReLU(name=prefix + 'depthwise_relu')(x)\n",
        "\n",
        "        # Project\n",
        "        pointwise_filters = int(filters * alpha)\n",
        "        x = layers.Conv2D(pointwise_filters, kernel_size=1, padding='valid', use_bias=False,\n",
        "                          activation=None, name=prefix + 'project')(x)\n",
        "        x = layers.BatchNormalization(name=prefix + 'project_BN')(x)\n",
        "\n",
        "        if stride == 1:\n",
        "            if in_channels != pointwise_filters:\n",
        "                i = layers.Conv2D(pointwise_filters, kernel_size=1, padding='valid', use_bias=False,\n",
        "                                  activation=None, name=prefix + 'adjust')(i)\n",
        "            x = layers.Add(name=prefix + 'add')([i, x])\n",
        "        return x\n",
        "\n",
        "    i = layers.Input(shape=input_shape)\n",
        "    x = i\n",
        "\n",
        "    alpha = 1.0\n",
        "    x = layers.Conv2D(32, kernel_size=3, strides=(1, 1),\n",
        "                      padding='same', use_bias=False, name='Conv1')(x)\n",
        "    x = layers.BatchNormalization(name='bn_Conv1')(x)\n",
        "    x = layers.ReLU(name='Conv1_relu')(x)\n",
        "\n",
        "    x = _inverted_res_block(x, filters=16, alpha=alpha, stride=1, expansion=1, block_id=0)\n",
        "\n",
        "    x = _inverted_res_block(x, filters=24, alpha=alpha, stride=1, expansion=6, block_id=1)\n",
        "\n",
        "    x = _inverted_res_block(x, filters=32, alpha=alpha, stride=2, expansion=6, block_id=3)\n",
        "    x = _inverted_res_block(x, filters=32, alpha=alpha, stride=1, expansion=6, block_id=5)\n",
        "\n",
        "    x = _inverted_res_block(x, filters=64, alpha=alpha, stride=2, expansion=6, block_id=6)\n",
        "    x = _inverted_res_block(x, filters=64, alpha=alpha, stride=1, expansion=6, block_id=9)\n",
        "\n",
        "    x = _inverted_res_block(x, filters=96, alpha=alpha, stride=1, expansion=6, block_id=10)\n",
        "\n",
        "    x = _inverted_res_block(x, filters=160, alpha=alpha, stride=2, expansion=6, block_id=13)\n",
        "\n",
        "    x = _inverted_res_block(x, filters=320, alpha=alpha, stride=1, expansion=6, block_id=16)\n",
        "\n",
        "    x = layers.Conv2D(1280, kernel_size=1, use_bias=False, name='Conv_1', padding=\"valid\")(x)\n",
        "    x = layers.BatchNormalization(name='Conv_1_bn')(x)\n",
        "    x = layers.ReLU(name='out_relu')(x)\n",
        "\n",
        "    x = layers.GlobalAveragePooling2D()(x)\n",
        "    x = layers.Dense(num_classes, name='predictions')(x)\n",
        "\n",
        "    return Model(i, x)\n"
      ]
    },
    {
      "cell_type": "code",
      "execution_count": null,
      "metadata": {
        "id": "HvRTez6s8M1z"
      },
      "outputs": [],
      "source": [
        "#small 3\n",
        "from tensorflow.keras import layers\n",
        "from tensorflow.keras.models import Model\n",
        "\n",
        "def small3_mobilenet_v2_like(input_shape=(32, 32, 3), num_classes=10):\n",
        "    def _inverted_res_block(i, filters, alpha, stride, expansion, block_id):\n",
        "        prefix = 'block_{}_'.format(block_id)\n",
        "        in_channels = i.shape[-1]\n",
        "        x = i\n",
        "\n",
        "        # Expand\n",
        "        x = layers.Conv2D(expansion * in_channels, kernel_size=1, padding='valid',\n",
        "                          use_bias=False, activation=None, name=prefix + 'expand')(x)\n",
        "        x = layers.BatchNormalization(name=prefix + 'expand_BN')(x)\n",
        "        x = layers.ReLU(name=prefix + 'expand_relu')(x)\n",
        "\n",
        "        # Depthwise\n",
        "        x = layers.DepthwiseConv2D(kernel_size=3, strides=stride, activation=None,\n",
        "                                   use_bias=False, padding='same', name=prefix + 'depthwise')(x)\n",
        "        x = layers.BatchNormalization(name=prefix + 'depthwise_BN')(x)\n",
        "        x = layers.ReLU(name=prefix + 'depthwise_relu')(x)\n",
        "\n",
        "        # Project\n",
        "        pointwise_filters = int(filters * alpha)\n",
        "        x = layers.Conv2D(pointwise_filters, kernel_size=1, padding='valid', use_bias=False,\n",
        "                          activation=None, name=prefix + 'project')(x)\n",
        "        x = layers.BatchNormalization(name=prefix + 'project_BN')(x)\n",
        "\n",
        "        if stride == 1:\n",
        "            if in_channels != pointwise_filters:\n",
        "                i = layers.Conv2D(pointwise_filters, kernel_size=1, padding='valid', use_bias=False,\n",
        "                                  activation=None, name=prefix + 'adjust')(i)\n",
        "            x = layers.Add(name=prefix + 'add')([i, x])\n",
        "        return x\n",
        "\n",
        "    i = layers.Input(shape=input_shape)\n",
        "    x = i\n",
        "\n",
        "    alpha = 1.0\n",
        "    x = layers.Conv2D(32, kernel_size=3, strides=(1, 1),\n",
        "                      padding='same', use_bias=False, name='Conv1')(x)\n",
        "    x = layers.BatchNormalization(name='bn_Conv1')(x)\n",
        "    x = layers.ReLU(name='Conv1_relu')(x)\n",
        "\n",
        "    x = _inverted_res_block(x, filters=16, alpha=alpha, stride=1, expansion=1, block_id=0)\n",
        "\n",
        "    x = _inverted_res_block(x, filters=32, alpha=alpha, stride=2, expansion=6, block_id=3)\n",
        "\n",
        "    x = _inverted_res_block(x, filters=64, alpha=alpha, stride=2, expansion=6, block_id=6)\n",
        "\n",
        "    x = _inverted_res_block(x, filters=320, alpha=alpha, stride=1, expansion=6, block_id=16)\n",
        "\n",
        "    x = layers.Conv2D(1280, kernel_size=1, use_bias=False, name='Conv_1', padding=\"valid\")(x)\n",
        "    x = layers.BatchNormalization(name='Conv_1_bn')(x)\n",
        "    x = layers.ReLU(name='out_relu')(x)\n",
        "\n",
        "    x = layers.GlobalAveragePooling2D()(x)\n",
        "    x = layers.Dense(num_classes, name='predictions')(x)\n",
        "\n",
        "    return Model(i, x)\n"
      ]
    },
    {
      "cell_type": "code",
      "execution_count": null,
      "metadata": {
        "id": "M8gZ-Qy8QY6D"
      },
      "outputs": [],
      "source": [
        "from tensorflow.keras.callbacks import LearningRateScheduler, TensorBoard\n",
        "from tensorflow.keras.losses import SparseCategoricalCrossentropy\n",
        "from tensorflow.keras.optimizers import SGD\n",
        "\n",
        "tf.config.optimizer.set_jit(True)\n",
        "\n",
        "train_data = train_data.prefetch(1)\n",
        "test_data = test_data.prefetch(1)\n",
        "\n",
        "model = small3_mobilenet_v2_like()\n",
        "model.compile(loss=SparseCategoricalCrossentropy(from_logits=True),\n",
        "              optimizer=SGD(learning_rate=0.1, momentum=0.9, weight_decay=0.0, nesterov=False),\n",
        "              metrics=['accuracy'])\n",
        "\n",
        "def train_model(model):\n",
        "    def lr_schedule(epoch):\n",
        "        if 0 <= epoch < 35:\n",
        "            return 0.1\n",
        "        if 35 <= epoch < 65:\n",
        "            return 0.01\n",
        "        return 0.001\n",
        "\n",
        "    model.fit(\n",
        "        train_data, validation_data=test_data,\n",
        "        epochs=60, # Set no. of epochs\n",
        "        callbacks=[\n",
        "            LearningRateScheduler(lr_schedule),\n",
        "            TensorBoard(log_dir=\"./tb_logs\", profile_batch='25, 35')  # Profile between the 25th and 35th forward pass\n",
        "        ])"
      ]
    },
    {
      "cell_type": "code",
      "execution_count": null,
      "metadata": {
        "colab": {
          "base_uri": "https://localhost:8080/"
        },
        "id": "I7hstQINUpCX",
        "outputId": "3b5090e8-8a11-4af8-a4e7-e2527f6a7672"
      },
      "outputs": [
        {
          "name": "stdout",
          "output_type": "stream",
          "text": [
            "Epoch 1/60\n",
            "391/391 [==============================] - 17s 22ms/step - loss: 1.6986 - accuracy: 0.3838 - val_loss: 2.9148 - val_accuracy: 0.3393 - lr: 0.1000\n",
            "Epoch 2/60\n",
            "391/391 [==============================] - 12s 30ms/step - loss: 1.2752 - accuracy: 0.5388 - val_loss: 1.2791 - val_accuracy: 0.5748 - lr: 0.1000\n",
            "Epoch 3/60\n",
            "391/391 [==============================] - 6s 16ms/step - loss: 1.1210 - accuracy: 0.6002 - val_loss: 1.0079 - val_accuracy: 0.6397 - lr: 0.1000\n",
            "Epoch 4/60\n",
            "391/391 [==============================] - 6s 16ms/step - loss: 1.0389 - accuracy: 0.6296 - val_loss: 1.2950 - val_accuracy: 0.5776 - lr: 0.1000\n",
            "Epoch 5/60\n",
            "391/391 [==============================] - 6s 16ms/step - loss: 0.9784 - accuracy: 0.6513 - val_loss: 1.2214 - val_accuracy: 0.5953 - lr: 0.1000\n",
            "Epoch 6/60\n",
            "391/391 [==============================] - 6s 16ms/step - loss: 0.9318 - accuracy: 0.6685 - val_loss: 0.9206 - val_accuracy: 0.6838 - lr: 0.1000\n",
            "Epoch 7/60\n",
            "391/391 [==============================] - 6s 16ms/step - loss: 0.8952 - accuracy: 0.6812 - val_loss: 1.0073 - val_accuracy: 0.6689 - lr: 0.1000\n",
            "Epoch 8/60\n",
            "391/391 [==============================] - 6s 16ms/step - loss: 0.8492 - accuracy: 0.6975 - val_loss: 0.8458 - val_accuracy: 0.7060 - lr: 0.1000\n",
            "Epoch 9/60\n",
            "391/391 [==============================] - 6s 16ms/step - loss: 0.8153 - accuracy: 0.7102 - val_loss: 0.7736 - val_accuracy: 0.7363 - lr: 0.1000\n",
            "Epoch 10/60\n",
            "391/391 [==============================] - 6s 16ms/step - loss: 0.7815 - accuracy: 0.7232 - val_loss: 0.7893 - val_accuracy: 0.7302 - lr: 0.1000\n",
            "Epoch 11/60\n",
            "391/391 [==============================] - 6s 16ms/step - loss: 0.7534 - accuracy: 0.7352 - val_loss: 0.7375 - val_accuracy: 0.7461 - lr: 0.1000\n",
            "Epoch 12/60\n",
            "391/391 [==============================] - 6s 16ms/step - loss: 0.7312 - accuracy: 0.7420 - val_loss: 0.6202 - val_accuracy: 0.7840 - lr: 0.1000\n",
            "Epoch 13/60\n",
            "391/391 [==============================] - 6s 16ms/step - loss: 0.7119 - accuracy: 0.7484 - val_loss: 0.6684 - val_accuracy: 0.7733 - lr: 0.1000\n",
            "Epoch 14/60\n",
            "391/391 [==============================] - 6s 16ms/step - loss: 0.6927 - accuracy: 0.7558 - val_loss: 0.6720 - val_accuracy: 0.7677 - lr: 0.1000\n",
            "Epoch 15/60\n",
            "391/391 [==============================] - 6s 16ms/step - loss: 0.6753 - accuracy: 0.7613 - val_loss: 0.5983 - val_accuracy: 0.7931 - lr: 0.1000\n",
            "Epoch 16/60\n",
            "391/391 [==============================] - 6s 16ms/step - loss: 0.6500 - accuracy: 0.7719 - val_loss: 0.5737 - val_accuracy: 0.8023 - lr: 0.1000\n",
            "Epoch 17/60\n",
            "391/391 [==============================] - 6s 16ms/step - loss: 0.6428 - accuracy: 0.7733 - val_loss: 0.6576 - val_accuracy: 0.7775 - lr: 0.1000\n",
            "Epoch 18/60\n",
            "391/391 [==============================] - 6s 16ms/step - loss: 0.6361 - accuracy: 0.7774 - val_loss: 0.6051 - val_accuracy: 0.7971 - lr: 0.1000\n",
            "Epoch 19/60\n",
            "391/391 [==============================] - 6s 16ms/step - loss: 0.6149 - accuracy: 0.7835 - val_loss: 0.7180 - val_accuracy: 0.7696 - lr: 0.1000\n",
            "Epoch 20/60\n",
            "391/391 [==============================] - 6s 16ms/step - loss: 0.6088 - accuracy: 0.7866 - val_loss: 0.5538 - val_accuracy: 0.8099 - lr: 0.1000\n",
            "Epoch 21/60\n",
            "391/391 [==============================] - 6s 16ms/step - loss: 0.5959 - accuracy: 0.7931 - val_loss: 0.5507 - val_accuracy: 0.8155 - lr: 0.1000\n",
            "Epoch 22/60\n",
            "391/391 [==============================] - 6s 16ms/step - loss: 0.5782 - accuracy: 0.7967 - val_loss: 0.5622 - val_accuracy: 0.8096 - lr: 0.1000\n",
            "Epoch 23/60\n",
            "391/391 [==============================] - 6s 16ms/step - loss: 0.5738 - accuracy: 0.7997 - val_loss: 0.5911 - val_accuracy: 0.8008 - lr: 0.1000\n",
            "Epoch 24/60\n",
            "391/391 [==============================] - 6s 16ms/step - loss: 0.5569 - accuracy: 0.8046 - val_loss: 0.5046 - val_accuracy: 0.8278 - lr: 0.1000\n",
            "Epoch 25/60\n",
            "391/391 [==============================] - 6s 16ms/step - loss: 0.5512 - accuracy: 0.8075 - val_loss: 0.4720 - val_accuracy: 0.8436 - lr: 0.1000\n",
            "Epoch 26/60\n",
            "391/391 [==============================] - 6s 16ms/step - loss: 0.5426 - accuracy: 0.8100 - val_loss: 0.5295 - val_accuracy: 0.8223 - lr: 0.1000\n",
            "Epoch 27/60\n",
            "391/391 [==============================] - 6s 16ms/step - loss: 0.5246 - accuracy: 0.8150 - val_loss: 0.5296 - val_accuracy: 0.8247 - lr: 0.1000\n",
            "Epoch 28/60\n",
            "391/391 [==============================] - 6s 16ms/step - loss: 0.5224 - accuracy: 0.8168 - val_loss: 0.4820 - val_accuracy: 0.8330 - lr: 0.1000\n",
            "Epoch 29/60\n",
            "391/391 [==============================] - 6s 16ms/step - loss: 0.5174 - accuracy: 0.8176 - val_loss: 0.4894 - val_accuracy: 0.8380 - lr: 0.1000\n",
            "Epoch 30/60\n",
            "391/391 [==============================] - 6s 16ms/step - loss: 0.5097 - accuracy: 0.8216 - val_loss: 0.4696 - val_accuracy: 0.8417 - lr: 0.1000\n",
            "Epoch 31/60\n",
            "391/391 [==============================] - 6s 16ms/step - loss: 0.5007 - accuracy: 0.8231 - val_loss: 0.5278 - val_accuracy: 0.8182 - lr: 0.1000\n",
            "Epoch 32/60\n",
            "391/391 [==============================] - 6s 16ms/step - loss: 0.4986 - accuracy: 0.8268 - val_loss: 0.4641 - val_accuracy: 0.8441 - lr: 0.1000\n",
            "Epoch 33/60\n",
            "391/391 [==============================] - 6s 16ms/step - loss: 0.4867 - accuracy: 0.8288 - val_loss: 0.5052 - val_accuracy: 0.8357 - lr: 0.1000\n",
            "Epoch 34/60\n",
            "391/391 [==============================] - 6s 16ms/step - loss: 0.4851 - accuracy: 0.8299 - val_loss: 0.4395 - val_accuracy: 0.8519 - lr: 0.1000\n",
            "Epoch 35/60\n",
            "391/391 [==============================] - 6s 16ms/step - loss: 0.4769 - accuracy: 0.8321 - val_loss: 0.4381 - val_accuracy: 0.8518 - lr: 0.1000\n",
            "Epoch 36/60\n",
            "391/391 [==============================] - 6s 15ms/step - loss: 0.4221 - accuracy: 0.8516 - val_loss: 0.3634 - val_accuracy: 0.8780 - lr: 0.0100\n",
            "Epoch 37/60\n",
            "391/391 [==============================] - 6s 16ms/step - loss: 0.3994 - accuracy: 0.8601 - val_loss: 0.3593 - val_accuracy: 0.8792 - lr: 0.0100\n",
            "Epoch 38/60\n",
            "391/391 [==============================] - 6s 16ms/step - loss: 0.3915 - accuracy: 0.8626 - val_loss: 0.3599 - val_accuracy: 0.8794 - lr: 0.0100\n",
            "Epoch 39/60\n",
            "391/391 [==============================] - 6s 16ms/step - loss: 0.3826 - accuracy: 0.8655 - val_loss: 0.3592 - val_accuracy: 0.8785 - lr: 0.0100\n",
            "Epoch 40/60\n",
            "391/391 [==============================] - 6s 16ms/step - loss: 0.3788 - accuracy: 0.8673 - val_loss: 0.3580 - val_accuracy: 0.8802 - lr: 0.0100\n",
            "Epoch 41/60\n",
            "391/391 [==============================] - 6s 16ms/step - loss: 0.3727 - accuracy: 0.8696 - val_loss: 0.3571 - val_accuracy: 0.8814 - lr: 0.0100\n",
            "Epoch 42/60\n",
            "391/391 [==============================] - 6s 15ms/step - loss: 0.3747 - accuracy: 0.8678 - val_loss: 0.3579 - val_accuracy: 0.8802 - lr: 0.0100\n",
            "Epoch 43/60\n",
            "391/391 [==============================] - 6s 16ms/step - loss: 0.3755 - accuracy: 0.8699 - val_loss: 0.3562 - val_accuracy: 0.8810 - lr: 0.0100\n",
            "Epoch 44/60\n",
            "391/391 [==============================] - 6s 16ms/step - loss: 0.3700 - accuracy: 0.8706 - val_loss: 0.3546 - val_accuracy: 0.8807 - lr: 0.0100\n",
            "Epoch 45/60\n",
            "391/391 [==============================] - 6s 16ms/step - loss: 0.3697 - accuracy: 0.8697 - val_loss: 0.3541 - val_accuracy: 0.8794 - lr: 0.0100\n",
            "Epoch 46/60\n",
            "391/391 [==============================] - 6s 16ms/step - loss: 0.3712 - accuracy: 0.8691 - val_loss: 0.3489 - val_accuracy: 0.8823 - lr: 0.0100\n",
            "Epoch 47/60\n",
            "391/391 [==============================] - 6s 16ms/step - loss: 0.3630 - accuracy: 0.8717 - val_loss: 0.3530 - val_accuracy: 0.8825 - lr: 0.0100\n",
            "Epoch 48/60\n",
            "391/391 [==============================] - 6s 16ms/step - loss: 0.3625 - accuracy: 0.8725 - val_loss: 0.3487 - val_accuracy: 0.8850 - lr: 0.0100\n",
            "Epoch 49/60\n",
            "391/391 [==============================] - 6s 16ms/step - loss: 0.3558 - accuracy: 0.8736 - val_loss: 0.3534 - val_accuracy: 0.8823 - lr: 0.0100\n",
            "Epoch 50/60\n",
            "391/391 [==============================] - 6s 16ms/step - loss: 0.3613 - accuracy: 0.8745 - val_loss: 0.3515 - val_accuracy: 0.8836 - lr: 0.0100\n",
            "Epoch 51/60\n",
            "391/391 [==============================] - 6s 16ms/step - loss: 0.3556 - accuracy: 0.8746 - val_loss: 0.3515 - val_accuracy: 0.8832 - lr: 0.0100\n",
            "Epoch 52/60\n",
            "391/391 [==============================] - 6s 16ms/step - loss: 0.3554 - accuracy: 0.8748 - val_loss: 0.3485 - val_accuracy: 0.8835 - lr: 0.0100\n",
            "Epoch 53/60\n",
            "391/391 [==============================] - 6s 16ms/step - loss: 0.3524 - accuracy: 0.8760 - val_loss: 0.3475 - val_accuracy: 0.8837 - lr: 0.0100\n",
            "Epoch 54/60\n",
            "391/391 [==============================] - 6s 16ms/step - loss: 0.3528 - accuracy: 0.8763 - val_loss: 0.3481 - val_accuracy: 0.8844 - lr: 0.0100\n",
            "Epoch 55/60\n",
            "391/391 [==============================] - 6s 15ms/step - loss: 0.3535 - accuracy: 0.8759 - val_loss: 0.3476 - val_accuracy: 0.8830 - lr: 0.0100\n",
            "Epoch 56/60\n",
            "391/391 [==============================] - 6s 16ms/step - loss: 0.3508 - accuracy: 0.8783 - val_loss: 0.3432 - val_accuracy: 0.8858 - lr: 0.0100\n",
            "Epoch 57/60\n",
            "391/391 [==============================] - 6s 15ms/step - loss: 0.3510 - accuracy: 0.8777 - val_loss: 0.3491 - val_accuracy: 0.8842 - lr: 0.0100\n",
            "Epoch 58/60\n",
            "391/391 [==============================] - 6s 16ms/step - loss: 0.3480 - accuracy: 0.8780 - val_loss: 0.3462 - val_accuracy: 0.8859 - lr: 0.0100\n",
            "Epoch 59/60\n",
            "391/391 [==============================] - 6s 16ms/step - loss: 0.3482 - accuracy: 0.8779 - val_loss: 0.3588 - val_accuracy: 0.8813 - lr: 0.0100\n",
            "Epoch 60/60\n",
            "391/391 [==============================] - 6s 16ms/step - loss: 0.3495 - accuracy: 0.8769 - val_loss: 0.3421 - val_accuracy: 0.8854 - lr: 0.0100\n"
          ]
        }
      ],
      "source": [
        "train_model(model)"
      ]
    },
    {
      "cell_type": "markdown",
      "metadata": {
        "id": "4pv02g3Olaun"
      },
      "source": [
        "#Knowledge Distillation"
      ]
    },
    {
      "cell_type": "code",
      "execution_count": null,
      "metadata": {
        "id": "1DU1y4sFldbR"
      },
      "outputs": [],
      "source": [
        "# Create the Distiller Class\n",
        "@tf.keras.saving.register_keras_serializable()\n",
        "class Distiller(tf.keras.Model):\n",
        "    def __init__(self, student, teacher):\n",
        "        super().__init__()\n",
        "        self.student = student\n",
        "        self.teacher = teacher\n",
        "\n",
        "    def compile(\n",
        "        self,\n",
        "        optimizer,\n",
        "        metrics,\n",
        "        student_loss_fn,\n",
        "        distillation_loss_fn,\n",
        "        alpha=0.1,\n",
        "        temperature=3,\n",
        "    ):\n",
        "\n",
        "        super().compile(optimizer=optimizer, metrics=metrics)\n",
        "        self.optimizer = optimizer#\n",
        "        self.met = metrics#\n",
        "        self.student_loss_fn = student_loss_fn\n",
        "        self.distillation_loss_fn = distillation_loss_fn\n",
        "        self.alpha = alpha\n",
        "        self.temperature = temperature\n",
        "        self.student.compile(optimizer=self.optimizer, loss=self.student_loss_fn, metrics=self.met)\n",
        "\n",
        "    def get_compile_config(self):\n",
        "        # These parameters will be serialized at saving time.\n",
        "        return {\n",
        "            \"optimizer\": self.optimizer,\n",
        "            \"metrics\": self.met,\n",
        "            \"student_loss_fn\": self.student_loss_fn,\n",
        "            \"distillation_loss_fn\": self.distillation_loss_fn,\n",
        "            \"alpha\": self.alpha,\n",
        "            \"temperature\": self.temperature\n",
        "        }\n",
        "\n",
        "    def compile_from_config(self, config):\n",
        "        optimizer = tf.keras.utils.deserialize_keras_object(config[\"optimizer\"])\n",
        "        met = tf.keras.utils.deserialize_keras_object(config[\"metrics\"])\n",
        "        student_loss_fn = tf.keras.utils.deserialize_keras_object(config[\"student_loss_fn\"])\n",
        "        distillation_loss_fn = tf.keras.utils.deserialize_keras_object(config[\"distillation_loss_fn\"])\n",
        "        alpha = tf.keras.utils.deserialize_keras_object(config[\"alpha\"])\n",
        "        temperature = tf.keras.utils.deserialize_keras_object(config[\"temperature\"])\n",
        "\n",
        "        # Calls compile with the deserialized parameters\n",
        "        self.compile(optimizer=optimizer, metrics=met, student_loss_fn=student_loss_fn,\n",
        "                     distillation_loss_fn=distillation_loss_fn, alpha=alpha, temperature=temperature)\n",
        "\n",
        "    def train_step(self, data):\n",
        "        # Unpack data\n",
        "        x, y = data\n",
        "\n",
        "        # Forward pass of teacher\n",
        "        teacher_predictions = self.teacher(x, training=False)\n",
        "\n",
        "        with tf.GradientTape() as tape:\n",
        "            # Forward pass of student\n",
        "            student_predictions = self.student(x, training=True)\n",
        "\n",
        "            # Compute losses\n",
        "            student_loss = self.student_loss_fn(y, student_predictions)\n",
        "\n",
        "            # Compute scaled distillation loss\n",
        "            distillation_loss = (\n",
        "                self.distillation_loss_fn(\n",
        "                    tf.nn.softmax(teacher_predictions / self.temperature, axis=1),\n",
        "                    tf.nn.softmax(student_predictions / self.temperature, axis=1),\n",
        "                )\n",
        "                * self.temperature**2\n",
        "            )\n",
        "\n",
        "            loss = self.alpha * student_loss + (1 - self.alpha) * distillation_loss\n",
        "\n",
        "        # Compute gradients\n",
        "        trainable_vars = self.student.trainable_variables\n",
        "        gradients = tape.gradient(loss, trainable_vars)\n",
        "\n",
        "        # Update weights\n",
        "        self.optimizer.apply_gradients(zip(gradients, trainable_vars))\n",
        "\n",
        "        # Update the metrics configured in `compile()`.\n",
        "        self.compiled_metrics.update_state(y, student_predictions)\n",
        "\n",
        "        # Return a dict of performance\n",
        "        results = {m.name: m.result() for m in self.metrics}\n",
        "        results.update(\n",
        "            {\"student_loss\": student_loss, \"distillation_loss\": distillation_loss}\n",
        "        )\n",
        "        return results\n",
        "\n",
        "    def test_step(self, data):\n",
        "        # Unpack the data\n",
        "        x, y = data\n",
        "\n",
        "        # Compute predictions\n",
        "        y_prediction = self.student(x, training=False)\n",
        "\n",
        "        # Calculate the loss\n",
        "        student_loss = self.student_loss_fn(y, y_prediction)\n",
        "\n",
        "        # Update the metrics.\n",
        "        self.compiled_metrics.update_state(y, y_prediction)\n",
        "\n",
        "        # Return a dict of performance\n",
        "        results = {m.name: m.result() for m in self.metrics}\n",
        "        results.update({\"student_loss\": student_loss})\n",
        "        return results\n",
        "\n",
        "    def call(self, X):\n",
        "        return self.student(X)\n",
        "\n",
        "    def get_config(self):\n",
        "        base_config = super().get_config()\n",
        "        config = {\n",
        "            \"student\": tf.keras.saving.serialize_keras_object(self.student),\n",
        "            \"teacher\": tf.keras.saving.serialize_keras_object(self.teacher)\n",
        "        }\n",
        "        return {**base_config, **config}\n",
        "\n",
        "    @classmethod\n",
        "    def from_config(cls, config):\n",
        "        student_config = config.pop(\"student\")\n",
        "        teacher_config = config.pop(\"teacher\")\n",
        "        student = tf.keras.saving.deserialize_keras_object(student_config)\n",
        "        teacher = tf.keras.saving.deserialize_keras_object(teacher_config)\n",
        "        return cls(student, teacher, **config)"
      ]
    },
    {
      "cell_type": "code",
      "execution_count": null,
      "metadata": {
        "colab": {
          "base_uri": "https://localhost:8080/"
        },
        "id": "_zDKyVChmU0u",
        "outputId": "53ddf728-0528-4f20-9178-ae4e32457cc6"
      },
      "outputs": [
        {
          "name": "stderr",
          "output_type": "stream",
          "text": [
            "WARNING:tensorflow:No training configuration found in the save file, so the model was *not* compiled. Compile it manually.\n"
          ]
        },
        {
          "name": "stdout",
          "output_type": "stream",
          "text": [
            "79/79 [==============================] - 10s 18ms/step - loss: 0.2421 - accuracy: 0.9289\n"
          ]
        }
      ],
      "source": [
        "# Small\n",
        "# Create Teacher\n",
        "#teacher_model = model_mobilenet\n",
        "teacher_model = tf.keras.models.load_model(\"model_mobilenet.h5\")\n",
        "teacher_model.compile(loss=SparseCategoricalCrossentropy(from_logits=True),\n",
        "              optimizer=SGD(learning_rate=0.1, momentum=0.9, weight_decay=0.0, nesterov=False),\n",
        "              metrics=['accuracy'])\n",
        "teacher_model.evaluate(test_data)\n",
        "teacher_model.trainable = False\n",
        "\n",
        "input_shape = (32, 32, 3)\n",
        "num_classes = 10\n",
        "\n",
        "# Create Student\n",
        "student_model = small_mobilenet_v2_like()"
      ]
    },
    {
      "cell_type": "code",
      "execution_count": null,
      "metadata": {
        "colab": {
          "base_uri": "https://localhost:8080/"
        },
        "id": "EZ0kCFRHmggt",
        "outputId": "72751143-7489-4681-ad7e-6050c0fd55ca"
      },
      "outputs": [
        {
          "name": "stdout",
          "output_type": "stream",
          "text": [
            "Epoch 1/60\n",
            "391/391 [==============================] - 74s 121ms/step - sparse_categorical_accuracy: 0.4446 - student_loss: 2.6764 - distillation_loss: 14.0310 - val_sparse_categorical_accuracy: 0.1000 - val_student_loss: 8.8317\n",
            "Epoch 2/60\n",
            "391/391 [==============================] - 54s 137ms/step - sparse_categorical_accuracy: 0.5097 - student_loss: 2.0746 - distillation_loss: 11.4416 - val_sparse_categorical_accuracy: 0.2534 - val_student_loss: 4.1293\n",
            "Epoch 3/60\n",
            "391/391 [==============================] - 44s 112ms/step - sparse_categorical_accuracy: 0.5441 - student_loss: 2.1326 - distillation_loss: 10.2657 - val_sparse_categorical_accuracy: 0.6482 - val_student_loss: 2.0780\n",
            "Epoch 4/60\n",
            "391/391 [==============================] - 43s 109ms/step - sparse_categorical_accuracy: 0.6272 - student_loss: 2.0076 - distillation_loss: 7.8267 - val_sparse_categorical_accuracy: 0.6935 - val_student_loss: 1.9421\n",
            "Epoch 5/60\n",
            "391/391 [==============================] - 44s 112ms/step - sparse_categorical_accuracy: 0.6681 - student_loss: 1.9014 - distillation_loss: 6.6083 - val_sparse_categorical_accuracy: 0.7233 - val_student_loss: 1.7451\n",
            "Epoch 6/60\n",
            "391/391 [==============================] - 43s 109ms/step - sparse_categorical_accuracy: 0.7033 - student_loss: 1.7916 - distillation_loss: 5.7218 - val_sparse_categorical_accuracy: 0.7482 - val_student_loss: 1.5449\n",
            "Epoch 7/60\n",
            "391/391 [==============================] - 44s 112ms/step - sparse_categorical_accuracy: 0.6882 - student_loss: 1.8109 - distillation_loss: 6.3426 - val_sparse_categorical_accuracy: 0.6680 - val_student_loss: 1.7339\n",
            "Epoch 8/60\n",
            "391/391 [==============================] - 44s 111ms/step - sparse_categorical_accuracy: 0.7221 - student_loss: 1.7615 - distillation_loss: 5.2918 - val_sparse_categorical_accuracy: 0.7742 - val_student_loss: 1.4463\n",
            "Epoch 9/60\n",
            "391/391 [==============================] - 44s 112ms/step - sparse_categorical_accuracy: 0.7554 - student_loss: 1.6162 - distillation_loss: 4.4112 - val_sparse_categorical_accuracy: 0.7938 - val_student_loss: 1.2489\n",
            "Epoch 10/60\n",
            "391/391 [==============================] - 43s 109ms/step - sparse_categorical_accuracy: 0.7710 - student_loss: 1.5282 - distillation_loss: 4.0022 - val_sparse_categorical_accuracy: 0.8048 - val_student_loss: 1.1780\n",
            "Epoch 11/60\n",
            "391/391 [==============================] - 43s 110ms/step - sparse_categorical_accuracy: 0.7855 - student_loss: 1.4863 - distillation_loss: 3.7078 - val_sparse_categorical_accuracy: 0.8212 - val_student_loss: 0.9121\n",
            "Epoch 12/60\n",
            "391/391 [==============================] - 43s 109ms/step - sparse_categorical_accuracy: 0.7856 - student_loss: 1.5016 - distillation_loss: 3.6593 - val_sparse_categorical_accuracy: 0.8099 - val_student_loss: 0.8027\n",
            "Epoch 13/60\n",
            "391/391 [==============================] - 43s 110ms/step - sparse_categorical_accuracy: 0.8030 - student_loss: 1.4270 - distillation_loss: 3.2917 - val_sparse_categorical_accuracy: 0.8405 - val_student_loss: 0.7497\n",
            "Epoch 14/60\n",
            "391/391 [==============================] - 43s 109ms/step - sparse_categorical_accuracy: 0.7596 - student_loss: 1.7625 - distillation_loss: 4.4455 - val_sparse_categorical_accuracy: 0.7382 - val_student_loss: 1.7426\n",
            "Epoch 15/60\n",
            "391/391 [==============================] - 43s 110ms/step - sparse_categorical_accuracy: 0.7319 - student_loss: 1.9879 - distillation_loss: 5.1952 - val_sparse_categorical_accuracy: 0.4121 - val_student_loss: 3.9029\n",
            "Epoch 16/60\n",
            "391/391 [==============================] - 43s 110ms/step - sparse_categorical_accuracy: 0.7182 - student_loss: 1.8167 - distillation_loss: 5.3786 - val_sparse_categorical_accuracy: 0.7963 - val_student_loss: 1.1884\n",
            "Epoch 17/60\n",
            "391/391 [==============================] - 44s 111ms/step - sparse_categorical_accuracy: 0.7882 - student_loss: 1.4472 - distillation_loss: 3.6341 - val_sparse_categorical_accuracy: 0.8293 - val_student_loss: 0.8634\n",
            "Epoch 18/60\n",
            "391/391 [==============================] - 43s 111ms/step - sparse_categorical_accuracy: 0.8039 - student_loss: 1.3768 - distillation_loss: 3.3182 - val_sparse_categorical_accuracy: 0.8396 - val_student_loss: 0.7537\n",
            "Epoch 19/60\n",
            "391/391 [==============================] - 43s 110ms/step - sparse_categorical_accuracy: 0.8186 - student_loss: 1.2705 - distillation_loss: 2.8957 - val_sparse_categorical_accuracy: 0.8472 - val_student_loss: 0.4892\n",
            "Epoch 20/60\n",
            "391/391 [==============================] - 43s 110ms/step - sparse_categorical_accuracy: 0.8274 - student_loss: 1.2761 - distillation_loss: 2.7414 - val_sparse_categorical_accuracy: 0.8649 - val_student_loss: 0.6720\n",
            "Epoch 21/60\n",
            "391/391 [==============================] - 43s 109ms/step - sparse_categorical_accuracy: 0.8228 - student_loss: 1.3039 - distillation_loss: 2.9080 - val_sparse_categorical_accuracy: 0.1002 - val_student_loss: 15.1107\n",
            "Epoch 22/60\n",
            "391/391 [==============================] - 44s 112ms/step - sparse_categorical_accuracy: 0.7452 - student_loss: 2.0632 - distillation_loss: 4.8725 - val_sparse_categorical_accuracy: 0.8228 - val_student_loss: 2.4326\n",
            "Epoch 23/60\n",
            "391/391 [==============================] - 43s 110ms/step - sparse_categorical_accuracy: 0.8129 - student_loss: 1.4682 - distillation_loss: 3.0680 - val_sparse_categorical_accuracy: 0.8602 - val_student_loss: 0.9501\n",
            "Epoch 24/60\n",
            "391/391 [==============================] - 44s 112ms/step - sparse_categorical_accuracy: 0.8394 - student_loss: 1.3275 - distillation_loss: 2.5239 - val_sparse_categorical_accuracy: 0.8636 - val_student_loss: 1.1929\n",
            "Epoch 25/60\n",
            "391/391 [==============================] - 44s 112ms/step - sparse_categorical_accuracy: 0.8457 - student_loss: 1.3713 - distillation_loss: 2.3327 - val_sparse_categorical_accuracy: 0.8732 - val_student_loss: 1.0074\n",
            "Epoch 26/60\n",
            "391/391 [==============================] - 44s 113ms/step - sparse_categorical_accuracy: 0.8457 - student_loss: 1.4613 - distillation_loss: 2.3454 - val_sparse_categorical_accuracy: 0.8251 - val_student_loss: 2.0148\n",
            "Epoch 27/60\n",
            "391/391 [==============================] - 44s 113ms/step - sparse_categorical_accuracy: 0.8483 - student_loss: 1.6334 - distillation_loss: 2.2883 - val_sparse_categorical_accuracy: 0.8887 - val_student_loss: 1.2952\n",
            "Epoch 28/60\n",
            "391/391 [==============================] - 44s 112ms/step - sparse_categorical_accuracy: 0.8601 - student_loss: 1.6315 - distillation_loss: 2.0423 - val_sparse_categorical_accuracy: 0.8798 - val_student_loss: 1.5830\n",
            "Epoch 29/60\n",
            "391/391 [==============================] - 44s 112ms/step - sparse_categorical_accuracy: 0.8649 - student_loss: 1.6717 - distillation_loss: 1.9566 - val_sparse_categorical_accuracy: 0.8853 - val_student_loss: 1.5830\n",
            "Epoch 30/60\n",
            "391/391 [==============================] - 44s 112ms/step - sparse_categorical_accuracy: 0.8674 - student_loss: 1.6765 - distillation_loss: 1.9131 - val_sparse_categorical_accuracy: 0.8873 - val_student_loss: 1.4391\n",
            "Epoch 31/60\n",
            "391/391 [==============================] - 43s 111ms/step - sparse_categorical_accuracy: 0.8728 - student_loss: 1.6816 - distillation_loss: 1.8595 - val_sparse_categorical_accuracy: 0.8901 - val_student_loss: 1.5830\n",
            "Epoch 32/60\n",
            "391/391 [==============================] - 44s 112ms/step - sparse_categorical_accuracy: 0.8730 - student_loss: 1.6905 - distillation_loss: 1.8319 - val_sparse_categorical_accuracy: 0.8915 - val_student_loss: 1.7269\n",
            "Epoch 33/60\n",
            "391/391 [==============================] - 44s 113ms/step - sparse_categorical_accuracy: 0.8639 - student_loss: 1.6744 - distillation_loss: 2.0250 - val_sparse_categorical_accuracy: 0.8428 - val_student_loss: 1.4391\n",
            "Epoch 34/60\n",
            "391/391 [==============================] - 43s 110ms/step - sparse_categorical_accuracy: 0.8705 - student_loss: 1.4595 - distillation_loss: 1.9374 - val_sparse_categorical_accuracy: 0.8767 - val_student_loss: 1.4391\n",
            "Epoch 35/60\n",
            "391/391 [==============================] - 44s 113ms/step - sparse_categorical_accuracy: 0.8694 - student_loss: 1.5870 - distillation_loss: 1.8923 - val_sparse_categorical_accuracy: 0.8895 - val_student_loss: 1.1513\n",
            "Epoch 36/60\n",
            "391/391 [==============================] - 44s 113ms/step - sparse_categorical_accuracy: 0.8774 - student_loss: 1.6318 - distillation_loss: 1.6917 - val_sparse_categorical_accuracy: 0.8961 - val_student_loss: 1.2952\n",
            "Epoch 37/60\n",
            "391/391 [==============================] - 44s 113ms/step - sparse_categorical_accuracy: 0.8821 - student_loss: 1.6201 - distillation_loss: 1.6542 - val_sparse_categorical_accuracy: 0.8951 - val_student_loss: 1.4391\n",
            "Epoch 38/60\n",
            "391/391 [==============================] - 43s 111ms/step - sparse_categorical_accuracy: 0.8865 - student_loss: 1.5956 - distillation_loss: 1.5745 - val_sparse_categorical_accuracy: 0.8974 - val_student_loss: 1.4391\n",
            "Epoch 39/60\n",
            "391/391 [==============================] - 44s 112ms/step - sparse_categorical_accuracy: 0.8888 - student_loss: 1.6145 - distillation_loss: 1.5848 - val_sparse_categorical_accuracy: 0.9075 - val_student_loss: 1.4391\n",
            "Epoch 40/60\n",
            "391/391 [==============================] - 44s 112ms/step - sparse_categorical_accuracy: 0.8886 - student_loss: 1.6073 - distillation_loss: 1.5280 - val_sparse_categorical_accuracy: 0.9050 - val_student_loss: 1.4391\n",
            "Epoch 41/60\n",
            "391/391 [==============================] - 44s 113ms/step - sparse_categorical_accuracy: 0.8888 - student_loss: 1.5760 - distillation_loss: 1.5477 - val_sparse_categorical_accuracy: 0.9048 - val_student_loss: 1.4391\n",
            "Epoch 42/60\n",
            "391/391 [==============================] - 43s 109ms/step - sparse_categorical_accuracy: 0.8916 - student_loss: 1.5351 - distillation_loss: 1.4773 - val_sparse_categorical_accuracy: 0.9051 - val_student_loss: 1.4391\n",
            "Epoch 43/60\n",
            "391/391 [==============================] - 43s 109ms/step - sparse_categorical_accuracy: 0.8937 - student_loss: 1.5034 - distillation_loss: 1.4780 - val_sparse_categorical_accuracy: 0.9059 - val_student_loss: 1.4391\n",
            "Epoch 44/60\n",
            "391/391 [==============================] - 44s 112ms/step - sparse_categorical_accuracy: 0.8800 - student_loss: 1.5099 - distillation_loss: 1.7843 - val_sparse_categorical_accuracy: 0.8989 - val_student_loss: 1.1513\n",
            "Epoch 45/60\n",
            "391/391 [==============================] - 44s 113ms/step - sparse_categorical_accuracy: 0.8932 - student_loss: 1.3699 - distillation_loss: 1.4897 - val_sparse_categorical_accuracy: 0.9129 - val_student_loss: 1.0074\n",
            "Epoch 46/60\n",
            "391/391 [==============================] - 44s 112ms/step - sparse_categorical_accuracy: 0.8912 - student_loss: 1.3172 - distillation_loss: 1.5243 - val_sparse_categorical_accuracy: 0.9074 - val_student_loss: 1.1513\n",
            "Epoch 47/60\n",
            "391/391 [==============================] - 43s 110ms/step - sparse_categorical_accuracy: 0.8979 - student_loss: 1.3579 - distillation_loss: 1.3932 - val_sparse_categorical_accuracy: 0.9097 - val_student_loss: 1.4391\n",
            "Epoch 48/60\n",
            "391/391 [==============================] - 44s 112ms/step - sparse_categorical_accuracy: 0.8927 - student_loss: 1.5336 - distillation_loss: 1.4459 - val_sparse_categorical_accuracy: 0.9096 - val_student_loss: 1.4391\n",
            "Epoch 49/60\n",
            "391/391 [==============================] - 44s 112ms/step - sparse_categorical_accuracy: 0.8996 - student_loss: 1.5214 - distillation_loss: 1.3401 - val_sparse_categorical_accuracy: 0.9015 - val_student_loss: 1.4391\n",
            "Epoch 50/60\n",
            "391/391 [==============================] - 44s 112ms/step - sparse_categorical_accuracy: 0.8945 - student_loss: 1.4809 - distillation_loss: 1.4666 - val_sparse_categorical_accuracy: 0.9083 - val_student_loss: 1.4391\n",
            "Epoch 51/60\n",
            "391/391 [==============================] - 44s 112ms/step - sparse_categorical_accuracy: 0.8997 - student_loss: 1.4958 - distillation_loss: 1.3325 - val_sparse_categorical_accuracy: 0.8984 - val_student_loss: 1.4391\n",
            "Epoch 52/60\n",
            "391/391 [==============================] - 44s 112ms/step - sparse_categorical_accuracy: 0.9017 - student_loss: 1.4776 - distillation_loss: 1.2876 - val_sparse_categorical_accuracy: 0.9094 - val_student_loss: 1.4391\n",
            "Epoch 53/60\n",
            "391/391 [==============================] - 43s 110ms/step - sparse_categorical_accuracy: 0.9034 - student_loss: 1.4788 - distillation_loss: 1.2823 - val_sparse_categorical_accuracy: 0.9112 - val_student_loss: 1.4391\n",
            "Epoch 54/60\n",
            "391/391 [==============================] - 43s 109ms/step - sparse_categorical_accuracy: 0.9043 - student_loss: 1.4955 - distillation_loss: 1.2801 - val_sparse_categorical_accuracy: 0.9073 - val_student_loss: 1.4391\n",
            "Epoch 55/60\n",
            "391/391 [==============================] - 44s 112ms/step - sparse_categorical_accuracy: 0.9029 - student_loss: 1.5135 - distillation_loss: 1.2686 - val_sparse_categorical_accuracy: 0.9082 - val_student_loss: 1.5830\n",
            "Epoch 56/60\n",
            "391/391 [==============================] - 43s 109ms/step - sparse_categorical_accuracy: 0.9060 - student_loss: 1.5149 - distillation_loss: 1.2561 - val_sparse_categorical_accuracy: 0.9143 - val_student_loss: 1.4391\n",
            "Epoch 57/60\n",
            "391/391 [==============================] - 44s 112ms/step - sparse_categorical_accuracy: 0.9029 - student_loss: 1.5266 - distillation_loss: 1.2491 - val_sparse_categorical_accuracy: 0.9169 - val_student_loss: 1.2952\n",
            "Epoch 58/60\n",
            "391/391 [==============================] - 44s 112ms/step - sparse_categorical_accuracy: 0.8978 - student_loss: 1.5033 - distillation_loss: 1.3444 - val_sparse_categorical_accuracy: 0.9143 - val_student_loss: 1.0074\n",
            "Epoch 59/60\n",
            "391/391 [==============================] - 43s 110ms/step - sparse_categorical_accuracy: 0.9016 - student_loss: 1.4362 - distillation_loss: 1.3165 - val_sparse_categorical_accuracy: 0.9164 - val_student_loss: 1.1513\n",
            "Epoch 60/60\n",
            "391/391 [==============================] - 43s 110ms/step - sparse_categorical_accuracy: 0.9065 - student_loss: 1.4558 - distillation_loss: 1.1971 - val_sparse_categorical_accuracy: 0.9165 - val_student_loss: 1.1513\n"
          ]
        },
        {
          "data": {
            "text/plain": [
              "<keras.src.callbacks.History at 0x784a46f096f0>"
            ]
          },
          "execution_count": 24,
          "metadata": {},
          "output_type": "execute_result"
        }
      ],
      "source": [
        "# Distill teacher to student\n",
        "# Initialize and compile distiller\n",
        "distiller = Distiller(student=student_model, teacher=teacher_model)\n",
        "distiller.compile(\n",
        "    optimizer=tf.keras.optimizers.Adam(),\n",
        "    metrics=[tf.keras.metrics.SparseCategoricalAccuracy()],\n",
        "    student_loss_fn=tf.keras.losses.SparseCategoricalCrossentropy(from_logits=False),\n",
        "    distillation_loss_fn=tf.keras.losses.KLDivergence(),\n",
        "    alpha=0.1,\n",
        "    temperature=10,\n",
        ")\n",
        "\n",
        "# Distill teacher to student\n",
        "distiller.fit(train_data, validation_data=test_data, epochs=60)"
      ]
    },
    {
      "cell_type": "code",
      "execution_count": null,
      "metadata": {
        "colab": {
          "base_uri": "https://localhost:8080/"
        },
        "id": "tPx6CB0cz2d2",
        "outputId": "c295f1fa-36dc-4c99-b10b-c5482af9f171"
      },
      "outputs": [
        {
          "name": "stdout",
          "output_type": "stream",
          "text": [
            "Total params: 1384394\n"
          ]
        },
        {
          "name": "stderr",
          "output_type": "stream",
          "text": [
            "<ipython-input-15-383234aeafb2>:1: UserWarning: You are saving your model as an HDF5 file via `model.save()`. This file format is considered legacy. We recommend using instead the native Keras format, e.g. `model.save('my_model.keras')`.\n",
            "  tf.keras.models.save_model(distiller.student, \"model_student1.h5\", include_optimizer=False)\n"
          ]
        }
      ],
      "source": [
        "tf.keras.models.save_model(distiller.student, \"model_student1.h5\", include_optimizer=False)\n",
        "\n",
        "hist_distil1 = distiller.history.history\n",
        "#hist_student = distiller.student.history.history\n",
        "\n",
        "print(f\"Total params: {distiller.student.count_params()}\")"
      ]
    },
    {
      "cell_type": "code",
      "execution_count": null,
      "metadata": {
        "id": "6tVPbcNi1jMC"
      },
      "outputs": [],
      "source": [
        "hist_distil1"
      ]
    },
    {
      "cell_type": "code",
      "execution_count": null,
      "metadata": {
        "colab": {
          "base_uri": "https://localhost:8080/"
        },
        "id": "lNA-1fR0vJbY",
        "outputId": "c13150d6-fc1b-48d2-b72f-4e95072acf8a"
      },
      "outputs": [
        {
          "name": "stdout",
          "output_type": "stream",
          "text": [
            "79/79 [==============================] - 5s 23ms/step - loss: 0.2982 - accuracy: 0.9165\n"
          ]
        },
        {
          "data": {
            "text/plain": [
              "[0.29816925525665283, 0.9164999723434448]"
            ]
          },
          "execution_count": 20,
          "metadata": {},
          "output_type": "execute_result"
        }
      ],
      "source": [
        "distiller.student.evaluate(test_data)"
      ]
    },
    {
      "cell_type": "code",
      "execution_count": null,
      "metadata": {
        "colab": {
          "base_uri": "https://localhost:8080/"
        },
        "id": "C9w1cuKW1BbG",
        "outputId": "a92ef194-1d7a-43d8-cfd6-2f18b345ca80"
      },
      "outputs": [
        {
          "name": "stdout",
          "output_type": "stream",
          "text": [
            "Student1 model size (bytes): 5181651\n",
            "Baseline model size (bytes): 8678813\n"
          ]
        }
      ],
      "source": [
        "print(f\"Student1 model size (bytes): {get_gzipped_model_size('model_student1.h5')}\")\n",
        "print(\"Baseline model size (bytes):\", get_gzipped_model_size(\"model_mobilenet.h5\"))"
      ]
    },
    {
      "cell_type": "code",
      "execution_count": null,
      "metadata": {
        "colab": {
          "base_uri": "https://localhost:8080/",
          "height": 408
        },
        "id": "GBbAc2kx1bWY",
        "outputId": "0942c182-fea4-4dc7-f728-4d5ef3b41f14"
      },
      "outputs": [
        {
          "data": {
            "text/plain": [
              "Text(0.5, 1.0, 'Accuracy vs. Epochs')"
            ]
          },
          "execution_count": 28,
          "metadata": {},
          "output_type": "execute_result"
        },
        {
          "data": {
            "image/png": "[encoded data removed]",
            "text/plain": [
              "<Figure size 600x400 with 1 Axes>"
            ]
          },
          "metadata": {},
          "output_type": "display_data"
        }
      ],
      "source": [
        "import matplotlib.pyplot as plt\n",
        "\n",
        "no_epochs = len(hist_distil1['sparse_categorical_accuracy'])\n",
        "\n",
        "fig = plt.figure(figsize=(6,4))\n",
        "ax = fig.add_subplot(111)\n",
        "ax.plot(range(1, no_epochs + 1), hist_distil1['val_sparse_categorical_accuracy'], label='Val Acc', ls='--', color='blue')\n",
        "ax.plot(range(1, no_epochs + 1), hist_distil1['sparse_categorical_accuracy'], label='Acc', ls='-', color='blue')\n",
        "ax.legend()\n",
        "ax.set_title(\"Accuracy vs. Epochs\")"
      ]
    },
    {
      "cell_type": "code",
      "execution_count": null,
      "metadata": {
        "id": "r0HIXZZiLRCm"
      },
      "outputs": [],
      "source": [
        "import pandas as pd\n",
        "\n",
        "df = pd.DataFrame(hist_distil1)\n",
        "df.to_csv('hist_distil1.csv', index=False)"
      ]
    },
    {
      "cell_type": "code",
      "execution_count": null,
      "metadata": {
        "colab": {
          "base_uri": "https://localhost:8080/"
        },
        "id": "kFOGyXTPG1OB",
        "outputId": "fd0861e0-7442-4b64-80b1-3c2f77b4126c"
      },
      "outputs": [
        {
          "name": "stderr",
          "output_type": "stream",
          "text": [
            "WARNING:tensorflow:No training configuration found in the save file, so the model was *not* compiled. Compile it manually.\n"
          ]
        },
        {
          "name": "stdout",
          "output_type": "stream",
          "text": [
            "79/79 [==============================] - 4s 11ms/step - loss: 0.2421 - accuracy: 0.9289\n",
            "Epoch 1/60\n",
            "391/391 [==============================] - 32s 30ms/step - sparse_categorical_accuracy: 0.4558 - student_loss: 2.8043 - distillation_loss: 13.5374 - val_sparse_categorical_accuracy: 0.1000 - val_student_loss: 7.9800\n",
            "Epoch 2/60\n",
            "391/391 [==============================] - 18s 45ms/step - sparse_categorical_accuracy: 0.5958 - student_loss: 2.0272 - distillation_loss: 8.7274 - val_sparse_categorical_accuracy: 0.6731 - val_student_loss: 2.2531\n",
            "Epoch 3/60\n",
            "391/391 [==============================] - 9s 24ms/step - sparse_categorical_accuracy: 0.6410 - student_loss: 1.8190 - distillation_loss: 7.4541 - val_sparse_categorical_accuracy: 0.7122 - val_student_loss: 1.4126\n",
            "Epoch 4/60\n",
            "391/391 [==============================] - 9s 24ms/step - sparse_categorical_accuracy: 0.6641 - student_loss: 1.7634 - distillation_loss: 6.8400 - val_sparse_categorical_accuracy: 0.7246 - val_student_loss: 1.5626\n",
            "Epoch 5/60\n",
            "391/391 [==============================] - 9s 24ms/step - sparse_categorical_accuracy: 0.7226 - student_loss: 1.6112 - distillation_loss: 5.1928 - val_sparse_categorical_accuracy: 0.7662 - val_student_loss: 1.0815\n",
            "Epoch 6/60\n",
            "391/391 [==============================] - 9s 24ms/step - sparse_categorical_accuracy: 0.7510 - student_loss: 1.5497 - distillation_loss: 4.5030 - val_sparse_categorical_accuracy: 0.7953 - val_student_loss: 1.0863\n",
            "Epoch 7/60\n",
            "391/391 [==============================] - 9s 24ms/step - sparse_categorical_accuracy: 0.7746 - student_loss: 1.5000 - distillation_loss: 3.9052 - val_sparse_categorical_accuracy: 0.8168 - val_student_loss: 0.7761\n",
            "Epoch 8/60\n",
            "391/391 [==============================] - 9s 24ms/step - sparse_categorical_accuracy: 0.7881 - student_loss: 1.4959 - distillation_loss: 3.5856 - val_sparse_categorical_accuracy: 0.8148 - val_student_loss: 1.6758\n",
            "Epoch 9/60\n",
            "391/391 [==============================] - 9s 24ms/step - sparse_categorical_accuracy: 0.6585 - student_loss: 1.9046 - distillation_loss: 7.2911 - val_sparse_categorical_accuracy: 0.7590 - val_student_loss: 2.3580\n",
            "Epoch 10/60\n",
            "391/391 [==============================] - 9s 24ms/step - sparse_categorical_accuracy: 0.7133 - student_loss: 1.6512 - distillation_loss: 5.5223 - val_sparse_categorical_accuracy: 0.7950 - val_student_loss: 1.5333\n",
            "Epoch 11/60\n",
            "391/391 [==============================] - 9s 24ms/step - sparse_categorical_accuracy: 0.7705 - student_loss: 1.4822 - distillation_loss: 4.0548 - val_sparse_categorical_accuracy: 0.8293 - val_student_loss: 2.2120\n",
            "Epoch 12/60\n",
            "391/391 [==============================] - 9s 24ms/step - sparse_categorical_accuracy: 0.7919 - student_loss: 1.3847 - distillation_loss: 3.5030 - val_sparse_categorical_accuracy: 0.8335 - val_student_loss: 0.9689\n",
            "Epoch 13/60\n",
            "391/391 [==============================] - 9s 24ms/step - sparse_categorical_accuracy: 0.8052 - student_loss: 1.3847 - distillation_loss: 3.2261 - val_sparse_categorical_accuracy: 0.8467 - val_student_loss: 0.6932\n",
            "Epoch 14/60\n",
            "391/391 [==============================] - 10s 25ms/step - sparse_categorical_accuracy: 0.6838 - student_loss: 1.9262 - distillation_loss: 6.7891 - val_sparse_categorical_accuracy: 0.6824 - val_student_loss: 2.4437\n",
            "Epoch 15/60\n",
            "391/391 [==============================] - 9s 24ms/step - sparse_categorical_accuracy: 0.7415 - student_loss: 1.6485 - distillation_loss: 4.8389 - val_sparse_categorical_accuracy: 0.8209 - val_student_loss: 1.5041\n",
            "Epoch 16/60\n",
            "391/391 [==============================] - 9s 24ms/step - sparse_categorical_accuracy: 0.7881 - student_loss: 1.4899 - distillation_loss: 3.6734 - val_sparse_categorical_accuracy: 0.8323 - val_student_loss: 1.3010\n",
            "Epoch 17/60\n",
            "391/391 [==============================] - 10s 25ms/step - sparse_categorical_accuracy: 0.8049 - student_loss: 1.4032 - distillation_loss: 3.2092 - val_sparse_categorical_accuracy: 0.8430 - val_student_loss: 1.0564\n",
            "Epoch 18/60\n",
            "391/391 [==============================] - 10s 25ms/step - sparse_categorical_accuracy: 0.7973 - student_loss: 1.4022 - distillation_loss: 3.4037 - val_sparse_categorical_accuracy: 0.8312 - val_student_loss: 1.0481\n",
            "Epoch 19/60\n",
            "391/391 [==============================] - 10s 25ms/step - sparse_categorical_accuracy: 0.5824 - student_loss: 2.0275 - distillation_loss: 9.6210 - val_sparse_categorical_accuracy: 0.6996 - val_student_loss: 1.8540\n",
            "Epoch 20/60\n",
            "391/391 [==============================] - 10s 25ms/step - sparse_categorical_accuracy: 0.6963 - student_loss: 1.8618 - distillation_loss: 5.9375 - val_sparse_categorical_accuracy: 0.7734 - val_student_loss: 1.8051\n",
            "Epoch 21/60\n",
            "391/391 [==============================] - 10s 25ms/step - sparse_categorical_accuracy: 0.7464 - student_loss: 1.7572 - distillation_loss: 4.6602 - val_sparse_categorical_accuracy: 0.8031 - val_student_loss: 1.6545\n",
            "Epoch 22/60\n",
            "391/391 [==============================] - 10s 25ms/step - sparse_categorical_accuracy: 0.7692 - student_loss: 1.6417 - distillation_loss: 4.0329 - val_sparse_categorical_accuracy: 0.8222 - val_student_loss: 1.5351\n",
            "Epoch 23/60\n",
            "391/391 [==============================] - 10s 25ms/step - sparse_categorical_accuracy: 0.7813 - student_loss: 1.5281 - distillation_loss: 3.6883 - val_sparse_categorical_accuracy: 0.8289 - val_student_loss: 1.3175\n",
            "Epoch 24/60\n",
            "391/391 [==============================] - 10s 25ms/step - sparse_categorical_accuracy: 0.7920 - student_loss: 1.4373 - distillation_loss: 3.4548 - val_sparse_categorical_accuracy: 0.8372 - val_student_loss: 1.2067\n",
            "Epoch 25/60\n",
            "391/391 [==============================] - 10s 25ms/step - sparse_categorical_accuracy: 0.8033 - student_loss: 1.3507 - distillation_loss: 3.1841 - val_sparse_categorical_accuracy: 0.8437 - val_student_loss: 0.9913\n",
            "Epoch 26/60\n",
            "391/391 [==============================] - 10s 26ms/step - sparse_categorical_accuracy: 0.8088 - student_loss: 1.3214 - distillation_loss: 3.0937 - val_sparse_categorical_accuracy: 0.8316 - val_student_loss: 0.9342\n",
            "Epoch 27/60\n",
            "391/391 [==============================] - 10s 25ms/step - sparse_categorical_accuracy: 0.8183 - student_loss: 1.3287 - distillation_loss: 2.8719 - val_sparse_categorical_accuracy: 0.8524 - val_student_loss: 0.7051\n",
            "Epoch 28/60\n",
            "391/391 [==============================] - 10s 25ms/step - sparse_categorical_accuracy: 0.8142 - student_loss: 1.4726 - distillation_loss: 3.0128 - val_sparse_categorical_accuracy: 0.8489 - val_student_loss: 1.4827\n",
            "Epoch 29/60\n",
            "391/391 [==============================] - 10s 25ms/step - sparse_categorical_accuracy: 0.7823 - student_loss: 1.6999 - distillation_loss: 3.9235 - val_sparse_categorical_accuracy: 0.8113 - val_student_loss: 0.7837\n",
            "Epoch 30/60\n",
            "391/391 [==============================] - 9s 24ms/step - sparse_categorical_accuracy: 0.8103 - student_loss: 1.5461 - distillation_loss: 3.1261 - val_sparse_categorical_accuracy: 0.8616 - val_student_loss: 0.6455\n",
            "Epoch 31/60\n",
            "391/391 [==============================] - 10s 24ms/step - sparse_categorical_accuracy: 0.8325 - student_loss: 1.4078 - distillation_loss: 2.6105 - val_sparse_categorical_accuracy: 0.8696 - val_student_loss: 0.5874\n",
            "Epoch 32/60\n",
            "391/391 [==============================] - 10s 25ms/step - sparse_categorical_accuracy: 0.7541 - student_loss: 1.8642 - distillation_loss: 4.8514 - val_sparse_categorical_accuracy: 0.8313 - val_student_loss: 1.1618\n",
            "Epoch 33/60\n",
            "391/391 [==============================] - 10s 26ms/step - sparse_categorical_accuracy: 0.8114 - student_loss: 1.8573 - distillation_loss: 3.1127 - val_sparse_categorical_accuracy: 0.8318 - val_student_loss: 1.2952\n",
            "Epoch 34/60\n",
            "391/391 [==============================] - 10s 26ms/step - sparse_categorical_accuracy: 0.8303 - student_loss: 1.8539 - distillation_loss: 2.6653 - val_sparse_categorical_accuracy: 0.8593 - val_student_loss: 1.0074\n",
            "Epoch 35/60\n",
            "391/391 [==============================] - 10s 25ms/step - sparse_categorical_accuracy: 0.8399 - student_loss: 1.8542 - distillation_loss: 2.4536 - val_sparse_categorical_accuracy: 0.8719 - val_student_loss: 1.1513\n",
            "Epoch 36/60\n",
            "391/391 [==============================] - 10s 25ms/step - sparse_categorical_accuracy: 0.8437 - student_loss: 1.8824 - distillation_loss: 2.3289 - val_sparse_categorical_accuracy: 0.8735 - val_student_loss: 1.1513\n",
            "Epoch 37/60\n",
            "391/391 [==============================] - 9s 24ms/step - sparse_categorical_accuracy: 0.8481 - student_loss: 1.8719 - distillation_loss: 2.2195 - val_sparse_categorical_accuracy: 0.8716 - val_student_loss: 1.0074\n",
            "Epoch 38/60\n",
            "391/391 [==============================] - 10s 25ms/step - sparse_categorical_accuracy: 0.8545 - student_loss: 1.8729 - distillation_loss: 2.1340 - val_sparse_categorical_accuracy: 0.8719 - val_student_loss: 1.1513\n",
            "Epoch 39/60\n",
            "391/391 [==============================] - 10s 24ms/step - sparse_categorical_accuracy: 0.8602 - student_loss: 1.8636 - distillation_loss: 2.0537 - val_sparse_categorical_accuracy: 0.8861 - val_student_loss: 1.0074\n",
            "Epoch 40/60\n",
            "391/391 [==============================] - 10s 25ms/step - sparse_categorical_accuracy: 0.8524 - student_loss: 1.8198 - distillation_loss: 2.1564 - val_sparse_categorical_accuracy: 0.8847 - val_student_loss: 1.2952\n",
            "Epoch 41/60\n",
            "391/391 [==============================] - 10s 25ms/step - sparse_categorical_accuracy: 0.8626 - student_loss: 1.7734 - distillation_loss: 1.9612 - val_sparse_categorical_accuracy: 0.8899 - val_student_loss: 1.1513\n",
            "Epoch 42/60\n",
            "391/391 [==============================] - 10s 25ms/step - sparse_categorical_accuracy: 0.8657 - student_loss: 1.7857 - distillation_loss: 1.9187 - val_sparse_categorical_accuracy: 0.8908 - val_student_loss: 1.1513\n",
            "Epoch 43/60\n",
            "391/391 [==============================] - 10s 25ms/step - sparse_categorical_accuracy: 0.8530 - student_loss: 1.8503 - distillation_loss: 2.3119 - val_sparse_categorical_accuracy: 0.4127 - val_student_loss: 2.3026\n",
            "Epoch 44/60\n",
            "391/391 [==============================] - 9s 24ms/step - sparse_categorical_accuracy: 0.8025 - student_loss: 1.8076 - distillation_loss: 3.2858 - val_sparse_categorical_accuracy: 0.8648 - val_student_loss: 1.1513\n",
            "Epoch 45/60\n",
            "391/391 [==============================] - 10s 25ms/step - sparse_categorical_accuracy: 0.8528 - student_loss: 1.7025 - distillation_loss: 2.1973 - val_sparse_categorical_accuracy: 0.8797 - val_student_loss: 0.8635\n",
            "Epoch 46/60\n",
            "391/391 [==============================] - 10s 25ms/step - sparse_categorical_accuracy: 0.8600 - student_loss: 1.7120 - distillation_loss: 1.9894 - val_sparse_categorical_accuracy: 0.8857 - val_student_loss: 1.1513\n",
            "Epoch 47/60\n",
            "391/391 [==============================] - 10s 25ms/step - sparse_categorical_accuracy: 0.8671 - student_loss: 1.6795 - distillation_loss: 1.8814 - val_sparse_categorical_accuracy: 0.8951 - val_student_loss: 1.1513\n",
            "Epoch 48/60\n",
            "391/391 [==============================] - 10s 25ms/step - sparse_categorical_accuracy: 0.8704 - student_loss: 1.6505 - distillation_loss: 1.8038 - val_sparse_categorical_accuracy: 0.8915 - val_student_loss: 1.4391\n",
            "Epoch 49/60\n",
            "391/391 [==============================] - 10s 24ms/step - sparse_categorical_accuracy: 0.8751 - student_loss: 1.6713 - distillation_loss: 1.7296 - val_sparse_categorical_accuracy: 0.8923 - val_student_loss: 1.4391\n",
            "Epoch 50/60\n",
            "391/391 [==============================] - 10s 25ms/step - sparse_categorical_accuracy: 0.8780 - student_loss: 1.6772 - distillation_loss: 1.7005 - val_sparse_categorical_accuracy: 0.8919 - val_student_loss: 1.1513\n",
            "Epoch 51/60\n",
            "391/391 [==============================] - 10s 26ms/step - sparse_categorical_accuracy: 0.8798 - student_loss: 1.6867 - distillation_loss: 1.6519 - val_sparse_categorical_accuracy: 0.8987 - val_student_loss: 1.0074\n",
            "Epoch 52/60\n",
            "391/391 [==============================] - 10s 26ms/step - sparse_categorical_accuracy: 0.8543 - student_loss: 1.8302 - distillation_loss: 2.2789 - val_sparse_categorical_accuracy: 0.8892 - val_student_loss: 1.5830\n",
            "Epoch 53/60\n",
            "391/391 [==============================] - 10s 25ms/step - sparse_categorical_accuracy: 0.8693 - student_loss: 1.9699 - distillation_loss: 1.8306 - val_sparse_categorical_accuracy: 0.8950 - val_student_loss: 1.5830\n",
            "Epoch 54/60\n",
            "391/391 [==============================] - 10s 25ms/step - sparse_categorical_accuracy: 0.8765 - student_loss: 1.9775 - distillation_loss: 1.6676 - val_sparse_categorical_accuracy: 0.8946 - val_student_loss: 1.8709\n",
            "Epoch 55/60\n",
            "391/391 [==============================] - 10s 26ms/step - sparse_categorical_accuracy: 0.8834 - student_loss: 1.9720 - distillation_loss: 1.5951 - val_sparse_categorical_accuracy: 0.9028 - val_student_loss: 1.7269\n",
            "Epoch 56/60\n",
            "391/391 [==============================] - 10s 25ms/step - sparse_categorical_accuracy: 0.8832 - student_loss: 1.9703 - distillation_loss: 1.5717 - val_sparse_categorical_accuracy: 0.9044 - val_student_loss: 1.7269\n",
            "Epoch 57/60\n",
            "391/391 [==============================] - 10s 25ms/step - sparse_categorical_accuracy: 0.8694 - student_loss: 1.9541 - distillation_loss: 1.9165 - val_sparse_categorical_accuracy: 0.7913 - val_student_loss: 2.0148\n",
            "Epoch 58/60\n",
            "391/391 [==============================] - 10s 25ms/step - sparse_categorical_accuracy: 0.8719 - student_loss: 1.7323 - distillation_loss: 1.8534 - val_sparse_categorical_accuracy: 0.8949 - val_student_loss: 1.5830\n",
            "Epoch 59/60\n",
            "391/391 [==============================] - 10s 25ms/step - sparse_categorical_accuracy: 0.8788 - student_loss: 1.6859 - distillation_loss: 1.7316 - val_sparse_categorical_accuracy: 0.8946 - val_student_loss: 1.2952\n",
            "Epoch 60/60\n",
            "391/391 [==============================] - 10s 24ms/step - sparse_categorical_accuracy: 0.8811 - student_loss: 1.6029 - distillation_loss: 1.6583 - val_sparse_categorical_accuracy: 0.8926 - val_student_loss: 1.2952\n"
          ]
        },
        {
          "data": {
            "text/plain": [
              "<keras.src.callbacks.History at 0x7b052b5fb250>"
            ]
          },
          "execution_count": 18,
          "metadata": {},
          "output_type": "execute_result"
        }
      ],
      "source": [
        "# small2\n",
        "# Create Teacher\n",
        "#teacher_model = model_mobilenet\n",
        "teacher_model = tf.keras.models.load_model(\"model_mobilenet.h5\")\n",
        "teacher_model.compile(loss=SparseCategoricalCrossentropy(from_logits=True),\n",
        "              optimizer=SGD(learning_rate=0.1, momentum=0.9, weight_decay=0.0, nesterov=False),\n",
        "              metrics=['accuracy'])\n",
        "teacher_model.evaluate(test_data)\n",
        "teacher_model.trainable = False\n",
        "\n",
        "input_shape = (32, 32, 3)\n",
        "num_classes = 10\n",
        "\n",
        "# Create Student\n",
        "student_model = small2_mobilenet_v2_like()\n",
        "\n",
        "# Distill teacher to student\n",
        "# Initialize and compile distiller\n",
        "distiller = Distiller(student=student_model, teacher=teacher_model)\n",
        "distiller.compile(\n",
        "    optimizer=tf.keras.optimizers.Adam(),\n",
        "    metrics=[tf.keras.metrics.SparseCategoricalAccuracy()],\n",
        "    student_loss_fn=tf.keras.losses.SparseCategoricalCrossentropy(from_logits=False),\n",
        "    distillation_loss_fn=tf.keras.losses.KLDivergence(),\n",
        "    alpha=0.1,\n",
        "    temperature=10,\n",
        ")\n",
        "\n",
        "# Distill teacher to student\n",
        "distiller.fit(train_data, validation_data=test_data, epochs=60)"
      ]
    },
    {
      "cell_type": "code",
      "execution_count": null,
      "metadata": {
        "colab": {
          "base_uri": "https://localhost:8080/"
        },
        "id": "hGJfbDHsHkFf",
        "outputId": "95858aec-89fc-43f8-a8f6-0e722e6c5f39"
      },
      "outputs": [
        {
          "name": "stdout",
          "output_type": "stream",
          "text": [
            "Total params: 1303322\n"
          ]
        },
        {
          "name": "stderr",
          "output_type": "stream",
          "text": [
            "<ipython-input-19-f95a2f057f54>:1: UserWarning: You are saving your model as an HDF5 file via `model.save()`. This file format is considered legacy. We recommend using instead the native Keras format, e.g. `model.save('my_model.keras')`.\n",
            "  tf.keras.models.save_model(distiller.student, \"model_student2.h5\", include_optimizer=False)\n"
          ]
        }
      ],
      "source": [
        "tf.keras.models.save_model(distiller.student, \"model_student2.h5\", include_optimizer=False)\n",
        "\n",
        "hist_distil2 = distiller.history.history\n",
        "#hist_student = distiller.student.history.history\n",
        "\n",
        "print(f\"Total params: {distiller.student.count_params()}\")"
      ]
    },
    {
      "cell_type": "code",
      "execution_count": null,
      "metadata": {
        "colab": {
          "base_uri": "https://localhost:8080/"
        },
        "id": "8nzA7UH0Hqtt",
        "outputId": "dd51b6b6-b8ba-42c1-cfbd-1d44ed18f89a"
      },
      "outputs": [
        {
          "name": "stdout",
          "output_type": "stream",
          "text": [
            "79/79 [==============================] - 2s 8ms/step - loss: 1.3715 - sparse_categorical_accuracy: 0.8926\n"
          ]
        },
        {
          "data": {
            "text/plain": [
              "[1.371538758277893, 0.8925999999046326]"
            ]
          },
          "execution_count": 20,
          "metadata": {},
          "output_type": "execute_result"
        }
      ],
      "source": [
        "distiller.student.evaluate(test_data)"
      ]
    },
    {
      "cell_type": "code",
      "execution_count": null,
      "metadata": {
        "colab": {
          "base_uri": "https://localhost:8080/"
        },
        "id": "Ta5nYBbFrG0v",
        "outputId": "f80265a5-a007-4bd3-9352-30456b3d5b70"
      },
      "outputs": [
        {
          "name": "stdout",
          "output_type": "stream",
          "text": [
            "Student2 model size (bytes): 4872856\n",
            "Baseline model size (bytes): 8678813\n"
          ]
        }
      ],
      "source": [
        "print(f\"Student2 model size (bytes): {get_gzipped_model_size('model_student2.h5')}\")\n",
        "print(\"Baseline model size (bytes):\", get_gzipped_model_size(\"model_mobilenet.h5\"))"
      ]
    },
    {
      "cell_type": "code",
      "execution_count": null,
      "metadata": {
        "id": "6_RajKKrH1wv"
      },
      "outputs": [],
      "source": [
        "import pandas as pd\n",
        "\n",
        "df = pd.DataFrame(hist_distil2)\n",
        "df.to_csv('hist_distil2.csv', index=False)"
      ]
    },
    {
      "cell_type": "code",
      "execution_count": null,
      "metadata": {
        "colab": {
          "base_uri": "https://localhost:8080/"
        },
        "id": "_xZrDnmuNF6T",
        "outputId": "b5f18193-e5f2-4e17-825f-2fdd00496884"
      },
      "outputs": [
        {
          "name": "stderr",
          "output_type": "stream",
          "text": [
            "WARNING:tensorflow:No training configuration found in the save file, so the model was *not* compiled. Compile it manually.\n"
          ]
        },
        {
          "name": "stdout",
          "output_type": "stream",
          "text": [
            "79/79 [==============================] - 4s 11ms/step - loss: 0.2421 - accuracy: 0.9289\n",
            "Epoch 1/60\n",
            "391/391 [==============================] - 22s 22ms/step - sparse_categorical_accuracy: 0.4395 - student_loss: 2.4296 - distillation_loss: 14.3418 - val_sparse_categorical_accuracy: 0.1074 - val_student_loss: 7.7093\n",
            "Epoch 2/60\n",
            "391/391 [==============================] - 13s 34ms/step - sparse_categorical_accuracy: 0.5500 - student_loss: 2.0424 - distillation_loss: 10.5600 - val_sparse_categorical_accuracy: 0.5240 - val_student_loss: 2.7956\n",
            "Epoch 3/60\n",
            "391/391 [==============================] - 6s 17ms/step - sparse_categorical_accuracy: 0.6022 - student_loss: 1.8965 - distillation_loss: 8.9257 - val_sparse_categorical_accuracy: 0.6341 - val_student_loss: 1.6785\n",
            "Epoch 4/60\n",
            "391/391 [==============================] - 6s 16ms/step - sparse_categorical_accuracy: 0.6330 - student_loss: 1.8346 - distillation_loss: 7.9476 - val_sparse_categorical_accuracy: 0.6410 - val_student_loss: 1.6004\n",
            "Epoch 5/60\n",
            "391/391 [==============================] - 6s 16ms/step - sparse_categorical_accuracy: 0.6594 - student_loss: 1.7810 - distillation_loss: 7.2202 - val_sparse_categorical_accuracy: 0.7008 - val_student_loss: 1.3772\n",
            "Epoch 6/60\n",
            "391/391 [==============================] - 6s 16ms/step - sparse_categorical_accuracy: 0.6800 - student_loss: 1.7799 - distillation_loss: 6.6861 - val_sparse_categorical_accuracy: 0.6966 - val_student_loss: 3.2387\n",
            "Epoch 7/60\n",
            "391/391 [==============================] - 6s 17ms/step - sparse_categorical_accuracy: 0.6766 - student_loss: 1.7813 - distillation_loss: 6.9848 - val_sparse_categorical_accuracy: 0.7257 - val_student_loss: 1.4626\n",
            "Epoch 8/60\n",
            "391/391 [==============================] - 6s 16ms/step - sparse_categorical_accuracy: 0.7078 - student_loss: 1.6973 - distillation_loss: 6.0250 - val_sparse_categorical_accuracy: 0.7501 - val_student_loss: 1.1758\n",
            "Epoch 9/60\n",
            "391/391 [==============================] - 6s 16ms/step - sparse_categorical_accuracy: 0.6604 - student_loss: 1.9095 - distillation_loss: 7.4804 - val_sparse_categorical_accuracy: 0.6354 - val_student_loss: 1.8066\n",
            "Epoch 10/60\n",
            "391/391 [==============================] - 6s 16ms/step - sparse_categorical_accuracy: 0.6746 - student_loss: 1.8133 - distillation_loss: 6.9457 - val_sparse_categorical_accuracy: 0.7380 - val_student_loss: 1.6430\n",
            "Epoch 11/60\n",
            "391/391 [==============================] - 6s 16ms/step - sparse_categorical_accuracy: 0.7113 - student_loss: 1.6949 - distillation_loss: 5.8418 - val_sparse_categorical_accuracy: 0.7618 - val_student_loss: 1.3372\n",
            "Epoch 12/60\n",
            "391/391 [==============================] - 7s 17ms/step - sparse_categorical_accuracy: 0.7264 - student_loss: 1.6415 - distillation_loss: 5.4337 - val_sparse_categorical_accuracy: 0.7733 - val_student_loss: 1.1688\n",
            "Epoch 13/60\n",
            "391/391 [==============================] - 6s 16ms/step - sparse_categorical_accuracy: 0.7307 - student_loss: 1.7241 - distillation_loss: 5.4242 - val_sparse_categorical_accuracy: 0.7349 - val_student_loss: 1.1030\n",
            "Epoch 14/60\n",
            "391/391 [==============================] - 6s 17ms/step - sparse_categorical_accuracy: 0.6682 - student_loss: 1.8561 - distillation_loss: 7.4024 - val_sparse_categorical_accuracy: 0.7459 - val_student_loss: 1.7654\n",
            "Epoch 15/60\n",
            "391/391 [==============================] - 6s 16ms/step - sparse_categorical_accuracy: 0.7213 - student_loss: 1.7096 - distillation_loss: 5.6484 - val_sparse_categorical_accuracy: 0.7685 - val_student_loss: 1.3919\n",
            "Epoch 16/60\n",
            "391/391 [==============================] - 6s 16ms/step - sparse_categorical_accuracy: 0.7382 - student_loss: 1.6044 - distillation_loss: 5.1285 - val_sparse_categorical_accuracy: 0.7738 - val_student_loss: 1.1887\n",
            "Epoch 17/60\n",
            "391/391 [==============================] - 6s 16ms/step - sparse_categorical_accuracy: 0.7487 - student_loss: 1.5728 - distillation_loss: 4.9124 - val_sparse_categorical_accuracy: 0.7861 - val_student_loss: 1.1844\n",
            "Epoch 18/60\n",
            "391/391 [==============================] - 7s 17ms/step - sparse_categorical_accuracy: 0.7579 - student_loss: 1.6251 - distillation_loss: 4.7183 - val_sparse_categorical_accuracy: 0.7961 - val_student_loss: 0.9881\n",
            "Epoch 19/60\n",
            "391/391 [==============================] - 6s 16ms/step - sparse_categorical_accuracy: 0.7611 - student_loss: 1.6340 - distillation_loss: 4.7252 - val_sparse_categorical_accuracy: 0.8017 - val_student_loss: 1.0257\n",
            "Epoch 20/60\n",
            "391/391 [==============================] - 6s 16ms/step - sparse_categorical_accuracy: 0.7634 - student_loss: 1.6171 - distillation_loss: 4.5849 - val_sparse_categorical_accuracy: 0.7763 - val_student_loss: 1.1006\n",
            "Epoch 21/60\n",
            "391/391 [==============================] - 6s 16ms/step - sparse_categorical_accuracy: 0.7691 - student_loss: 1.5557 - distillation_loss: 4.3443 - val_sparse_categorical_accuracy: 0.6616 - val_student_loss: 1.0274\n",
            "Epoch 22/60\n",
            "391/391 [==============================] - 6s 16ms/step - sparse_categorical_accuracy: 0.7651 - student_loss: 1.6480 - distillation_loss: 4.5940 - val_sparse_categorical_accuracy: 0.8113 - val_student_loss: 0.9372\n",
            "Epoch 23/60\n",
            "391/391 [==============================] - 6s 16ms/step - sparse_categorical_accuracy: 0.7724 - student_loss: 1.6073 - distillation_loss: 4.3582 - val_sparse_categorical_accuracy: 0.8195 - val_student_loss: 0.8247\n",
            "Epoch 24/60\n",
            "391/391 [==============================] - 6s 16ms/step - sparse_categorical_accuracy: 0.7459 - student_loss: 1.7883 - distillation_loss: 5.2247 - val_sparse_categorical_accuracy: 0.5778 - val_student_loss: 1.3524\n",
            "Epoch 25/60\n",
            "391/391 [==============================] - 6s 16ms/step - sparse_categorical_accuracy: 0.7571 - student_loss: 1.5870 - distillation_loss: 4.8383 - val_sparse_categorical_accuracy: 0.7712 - val_student_loss: 1.1329\n",
            "Epoch 26/60\n",
            "391/391 [==============================] - 6s 16ms/step - sparse_categorical_accuracy: 0.7838 - student_loss: 1.5171 - distillation_loss: 4.1261 - val_sparse_categorical_accuracy: 0.8162 - val_student_loss: 1.9084\n",
            "Epoch 27/60\n",
            "391/391 [==============================] - 6s 16ms/step - sparse_categorical_accuracy: 0.7839 - student_loss: 1.6099 - distillation_loss: 3.9676 - val_sparse_categorical_accuracy: 0.8212 - val_student_loss: 1.7971\n",
            "Epoch 28/60\n",
            "391/391 [==============================] - 6s 16ms/step - sparse_categorical_accuracy: 0.7915 - student_loss: 1.6468 - distillation_loss: 3.9062 - val_sparse_categorical_accuracy: 0.8158 - val_student_loss: 1.8288\n",
            "Epoch 29/60\n",
            "391/391 [==============================] - 6s 16ms/step - sparse_categorical_accuracy: 0.7904 - student_loss: 1.5812 - distillation_loss: 3.9329 - val_sparse_categorical_accuracy: 0.8427 - val_student_loss: 0.8642\n",
            "Epoch 30/60\n",
            "391/391 [==============================] - 7s 17ms/step - sparse_categorical_accuracy: 0.7935 - student_loss: 1.6020 - distillation_loss: 3.8417 - val_sparse_categorical_accuracy: 0.8363 - val_student_loss: 1.8668\n",
            "Epoch 31/60\n",
            "391/391 [==============================] - 6s 17ms/step - sparse_categorical_accuracy: 0.8013 - student_loss: 1.6527 - distillation_loss: 3.6675 - val_sparse_categorical_accuracy: 0.8388 - val_student_loss: 1.2952\n",
            "Epoch 32/60\n",
            "391/391 [==============================] - 6s 16ms/step - sparse_categorical_accuracy: 0.8024 - student_loss: 1.6733 - distillation_loss: 3.5960 - val_sparse_categorical_accuracy: 0.8392 - val_student_loss: 1.2952\n",
            "Epoch 33/60\n",
            "391/391 [==============================] - 6s 16ms/step - sparse_categorical_accuracy: 0.8068 - student_loss: 1.7266 - distillation_loss: 3.5382 - val_sparse_categorical_accuracy: 0.8305 - val_student_loss: 1.2952\n",
            "Epoch 34/60\n",
            "391/391 [==============================] - 6s 16ms/step - sparse_categorical_accuracy: 0.8025 - student_loss: 1.7560 - distillation_loss: 3.5347 - val_sparse_categorical_accuracy: 0.8467 - val_student_loss: 1.2952\n",
            "Epoch 35/60\n",
            "391/391 [==============================] - 6s 16ms/step - sparse_categorical_accuracy: 0.8102 - student_loss: 1.7460 - distillation_loss: 3.4245 - val_sparse_categorical_accuracy: 0.8483 - val_student_loss: 1.1513\n",
            "Epoch 36/60\n",
            "391/391 [==============================] - 6s 16ms/step - sparse_categorical_accuracy: 0.8074 - student_loss: 1.8119 - distillation_loss: 3.5211 - val_sparse_categorical_accuracy: 0.8501 - val_student_loss: 1.5830\n",
            "Epoch 37/60\n",
            "391/391 [==============================] - 6s 16ms/step - sparse_categorical_accuracy: 0.8125 - student_loss: 1.8671 - distillation_loss: 3.3787 - val_sparse_categorical_accuracy: 0.8421 - val_student_loss: 1.5830\n",
            "Epoch 38/60\n",
            "391/391 [==============================] - 6s 16ms/step - sparse_categorical_accuracy: 0.8176 - student_loss: 1.8938 - distillation_loss: 3.2834 - val_sparse_categorical_accuracy: 0.8410 - val_student_loss: 1.5830\n",
            "Epoch 39/60\n",
            "391/391 [==============================] - 6s 16ms/step - sparse_categorical_accuracy: 0.8174 - student_loss: 1.8947 - distillation_loss: 3.2671 - val_sparse_categorical_accuracy: 0.8532 - val_student_loss: 1.2952\n",
            "Epoch 40/60\n",
            "391/391 [==============================] - 6s 16ms/step - sparse_categorical_accuracy: 0.8204 - student_loss: 1.8910 - distillation_loss: 3.2444 - val_sparse_categorical_accuracy: 0.8531 - val_student_loss: 1.5830\n",
            "Epoch 41/60\n",
            "391/391 [==============================] - 6s 16ms/step - sparse_categorical_accuracy: 0.8228 - student_loss: 1.9173 - distillation_loss: 3.1682 - val_sparse_categorical_accuracy: 0.8544 - val_student_loss: 1.8709\n",
            "Epoch 42/60\n",
            "391/391 [==============================] - 7s 17ms/step - sparse_categorical_accuracy: 0.8215 - student_loss: 1.9686 - distillation_loss: 3.2315 - val_sparse_categorical_accuracy: 0.8515 - val_student_loss: 1.8709\n",
            "Epoch 43/60\n",
            "391/391 [==============================] - 6s 16ms/step - sparse_categorical_accuracy: 0.8266 - student_loss: 1.9801 - distillation_loss: 3.1073 - val_sparse_categorical_accuracy: 0.8572 - val_student_loss: 1.7269\n",
            "Epoch 44/60\n",
            "391/391 [==============================] - 6s 16ms/step - sparse_categorical_accuracy: 0.8274 - student_loss: 1.9790 - distillation_loss: 3.0677 - val_sparse_categorical_accuracy: 0.8529 - val_student_loss: 1.7269\n",
            "Epoch 45/60\n",
            "391/391 [==============================] - 6s 16ms/step - sparse_categorical_accuracy: 0.8279 - student_loss: 1.9815 - distillation_loss: 3.0615 - val_sparse_categorical_accuracy: 0.8582 - val_student_loss: 1.7269\n",
            "Epoch 46/60\n",
            "391/391 [==============================] - 6s 16ms/step - sparse_categorical_accuracy: 0.8318 - student_loss: 1.9759 - distillation_loss: 3.0040 - val_sparse_categorical_accuracy: 0.8647 - val_student_loss: 1.8709\n",
            "Epoch 47/60\n",
            "391/391 [==============================] - 6s 16ms/step - sparse_categorical_accuracy: 0.8320 - student_loss: 1.9838 - distillation_loss: 2.9150 - val_sparse_categorical_accuracy: 0.8557 - val_student_loss: 1.7269\n",
            "Epoch 48/60\n",
            "391/391 [==============================] - 6s 16ms/step - sparse_categorical_accuracy: 0.8303 - student_loss: 1.9718 - distillation_loss: 2.9585 - val_sparse_categorical_accuracy: 0.8650 - val_student_loss: 1.7269\n",
            "Epoch 49/60\n",
            "391/391 [==============================] - 6s 16ms/step - sparse_categorical_accuracy: 0.8326 - student_loss: 1.9515 - distillation_loss: 2.9282 - val_sparse_categorical_accuracy: 0.8542 - val_student_loss: 1.7269\n",
            "Epoch 50/60\n",
            "391/391 [==============================] - 6s 16ms/step - sparse_categorical_accuracy: 0.8387 - student_loss: 1.9535 - distillation_loss: 2.8800 - val_sparse_categorical_accuracy: 0.8677 - val_student_loss: 1.7269\n",
            "Epoch 51/60\n",
            "391/391 [==============================] - 6s 16ms/step - sparse_categorical_accuracy: 0.8369 - student_loss: 1.9488 - distillation_loss: 2.8269 - val_sparse_categorical_accuracy: 0.8637 - val_student_loss: 1.8709\n",
            "Epoch 52/60\n",
            "391/391 [==============================] - 6s 16ms/step - sparse_categorical_accuracy: 0.8372 - student_loss: 1.9306 - distillation_loss: 2.8335 - val_sparse_categorical_accuracy: 0.8631 - val_student_loss: 1.7269\n",
            "Epoch 53/60\n",
            "391/391 [==============================] - 6s 16ms/step - sparse_categorical_accuracy: 0.8392 - student_loss: 1.9533 - distillation_loss: 2.8245 - val_sparse_categorical_accuracy: 0.8702 - val_student_loss: 1.8709\n",
            "Epoch 54/60\n",
            "391/391 [==============================] - 7s 17ms/step - sparse_categorical_accuracy: 0.8436 - student_loss: 1.9427 - distillation_loss: 2.7565 - val_sparse_categorical_accuracy: 0.8605 - val_student_loss: 1.7269\n",
            "Epoch 55/60\n",
            "391/391 [==============================] - 6s 16ms/step - sparse_categorical_accuracy: 0.8397 - student_loss: 1.9633 - distillation_loss: 2.7360 - val_sparse_categorical_accuracy: 0.8701 - val_student_loss: 1.7269\n",
            "Epoch 56/60\n",
            "391/391 [==============================] - 6s 17ms/step - sparse_categorical_accuracy: 0.8450 - student_loss: 1.9611 - distillation_loss: 2.7166 - val_sparse_categorical_accuracy: 0.8558 - val_student_loss: 1.7269\n",
            "Epoch 57/60\n",
            "391/391 [==============================] - 6s 16ms/step - sparse_categorical_accuracy: 0.8458 - student_loss: 1.9595 - distillation_loss: 2.6901 - val_sparse_categorical_accuracy: 0.8679 - val_student_loss: 1.8709\n",
            "Epoch 58/60\n",
            "391/391 [==============================] - 6s 16ms/step - sparse_categorical_accuracy: 0.8404 - student_loss: 1.9804 - distillation_loss: 2.6808 - val_sparse_categorical_accuracy: 0.8752 - val_student_loss: 1.8709\n",
            "Epoch 59/60\n",
            "391/391 [==============================] - 6s 16ms/step - sparse_categorical_accuracy: 0.8438 - student_loss: 2.0043 - distillation_loss: 2.7391 - val_sparse_categorical_accuracy: 0.8744 - val_student_loss: 1.8709\n",
            "Epoch 60/60\n",
            "391/391 [==============================] - 6s 16ms/step - sparse_categorical_accuracy: 0.8487 - student_loss: 1.9951 - distillation_loss: 2.6261 - val_sparse_categorical_accuracy: 0.8717 - val_student_loss: 1.8709\n"
          ]
        },
        {
          "data": {
            "text/plain": [
              "<keras.src.callbacks.History at 0x7b0528c2c6a0>"
            ]
          },
          "execution_count": 22,
          "metadata": {},
          "output_type": "execute_result"
        }
      ],
      "source": [
        "# small 3\n",
        "# Create Teacher\n",
        "#teacher_model = model_mobilenet\n",
        "teacher_model = tf.keras.models.load_model(\"model_mobilenet.h5\")\n",
        "teacher_model.compile(loss=SparseCategoricalCrossentropy(from_logits=True),\n",
        "              optimizer=SGD(learning_rate=0.1, momentum=0.9, weight_decay=0.0, nesterov=False),\n",
        "              metrics=['accuracy'])\n",
        "teacher_model.evaluate(test_data)\n",
        "teacher_model.trainable = False\n",
        "\n",
        "input_shape = (32, 32, 3)\n",
        "num_classes = 10\n",
        "\n",
        "# Create Student\n",
        "student_model = small3_mobilenet_v2_like()\n",
        "\n",
        "# Distill teacher to student\n",
        "# Initialize and compile distiller\n",
        "distiller = Distiller(student=student_model, teacher=teacher_model)\n",
        "distiller.compile(\n",
        "    optimizer=tf.keras.optimizers.Adam(),\n",
        "    metrics=[tf.keras.metrics.SparseCategoricalAccuracy()],\n",
        "    student_loss_fn=tf.keras.losses.SparseCategoricalCrossentropy(from_logits=False),\n",
        "    distillation_loss_fn=tf.keras.losses.KLDivergence(),\n",
        "    alpha=0.1,\n",
        "    temperature=10,\n",
        ")\n",
        "\n",
        "# Distill teacher to student\n",
        "distiller.fit(train_data, validation_data=test_data, epochs=60)"
      ]
    },
    {
      "cell_type": "code",
      "execution_count": null,
      "metadata": {
        "colab": {
          "base_uri": "https://localhost:8080/"
        },
        "id": "Hb1vZZcTNOKr",
        "outputId": "5eb9fea2-ad50-4c9a-c96a-da8a0460cf09"
      },
      "outputs": [
        {
          "name": "stdout",
          "output_type": "stream",
          "text": [
            "Total params: 635242\n"
          ]
        },
        {
          "name": "stderr",
          "output_type": "stream",
          "text": [
            "<ipython-input-23-16819fb2206e>:1: UserWarning: You are saving your model as an HDF5 file via `model.save()`. This file format is considered legacy. We recommend using instead the native Keras format, e.g. `model.save('my_model.keras')`.\n",
            "  tf.keras.models.save_model(distiller.student, \"model_student3.h5\", include_optimizer=False)\n"
          ]
        }
      ],
      "source": [
        "tf.keras.models.save_model(distiller.student, \"model_student3.h5\", include_optimizer=False)\n",
        "\n",
        "hist_distil3 = distiller.history.history\n",
        "#hist_student = distiller.student.history.history\n",
        "\n",
        "print(f\"Total params: {distiller.student.count_params()}\")"
      ]
    },
    {
      "cell_type": "code",
      "execution_count": null,
      "metadata": {
        "colab": {
          "base_uri": "https://localhost:8080/"
        },
        "id": "NlMNiLn-NSMz",
        "outputId": "9cba8e35-8e0d-4375-cf4d-5722ad47933b"
      },
      "outputs": [
        {
          "name": "stdout",
          "output_type": "stream",
          "text": [
            "79/79 [==============================] - 1s 5ms/step - loss: 1.6962 - sparse_categorical_accuracy: 0.8717\n"
          ]
        },
        {
          "data": {
            "text/plain": [
              "[1.6961795091629028, 0.8716999888420105]"
            ]
          },
          "execution_count": 24,
          "metadata": {},
          "output_type": "execute_result"
        }
      ],
      "source": [
        "distiller.student.evaluate(test_data)"
      ]
    },
    {
      "cell_type": "code",
      "execution_count": null,
      "metadata": {
        "colab": {
          "base_uri": "https://localhost:8080/"
        },
        "id": "KlJvVCiyrckP",
        "outputId": "3ab588c9-15b1-464c-fdc7-03258d141d88"
      },
      "outputs": [
        {
          "name": "stdout",
          "output_type": "stream",
          "text": [
            "Student3 model size (bytes): 2373536\n",
            "Baseline model size (bytes): 8678813\n"
          ]
        }
      ],
      "source": [
        "print(f\"Student3 model size (bytes): {get_gzipped_model_size('model_student3.h5')}\")\n",
        "print(\"Baseline model size (bytes):\", get_gzipped_model_size(\"model_mobilenet.h5\"))"
      ]
    },
    {
      "cell_type": "code",
      "execution_count": null,
      "metadata": {
        "id": "WauPw_MbNVjC"
      },
      "outputs": [],
      "source": [
        "import pandas as pd\n",
        "\n",
        "df = pd.DataFrame(hist_distil3)\n",
        "df.to_csv('hist_distil3.csv', index=False)"
      ]
    },
    {
      "cell_type": "code",
      "execution_count": null,
      "metadata": {
        "colab": {
          "base_uri": "https://localhost:8080/",
          "height": 713
        },
        "id": "Iw8jPoPeOvGJ",
        "outputId": "071df54b-c26e-4635-f298-b0cab4414799"
      },
      "outputs": [
        {
          "data": {
            "text/plain": [
              "<function matplotlib.pyplot.show(close=None, block=None)>"
            ]
          },
          "execution_count": 13,
          "metadata": {},
          "output_type": "execute_result"
        },
        {
          "data": {
            "image/png": "[encoded data removed]",
            "text/plain": [
              "<Figure size 1200x800 with 1 Axes>"
            ]
          },
          "metadata": {},
          "output_type": "display_data"
        }
      ],
      "source": [
        "import matplotlib.pyplot as plt\n",
        "import pandas as pd\n",
        "\n",
        "df_baseline = pd.read_csv(\"hist_mobilenet.csv\")\n",
        "df_distil1 = pd.read_csv(\"hist_distil.csv\")\n",
        "df_distil2 = pd.read_csv(\"hist_distil2.csv\")\n",
        "df_distil3 = pd.read_csv(\"hist_distil3.csv\")\n",
        "\n",
        "no_epochs = len(df_baseline['accuracy'])\n",
        "\n",
        "fig = plt.figure(figsize=(12,8))\n",
        "ax = fig.add_subplot(111)\n",
        "\n",
        "ax.plot(range(1, no_epochs + 1), df_baseline['val_accuracy'], label='Baseline (17-Layer)', ls='-', color='black')\n",
        "ax.plot(range(1, no_epochs + 1), df_distil1['val_sparse_categorical_accuracy'], label='12-Layer Student', ls='-', color='red')\n",
        "ax.plot(range(1, no_epochs + 1), df_distil2['val_sparse_categorical_accuracy'], label='9-Layer Student', ls='-', color='green')\n",
        "ax.plot(range(1, no_epochs + 1), df_distil3['val_sparse_categorical_accuracy'], label='4-Layer Student', ls='-', color='blue')\n",
        "\n",
        "# ax.plot(range(1, no_epochs + 1), df_baseline['accuracy'], label='Baseline (17-Layer)', ls='-', color='black')\n",
        "# ax.plot(range(1, no_epochs + 1), df_distil1['sparse_categorical_accuracy'], label='12-Layer Student', ls='-', color='red')\n",
        "# ax.plot(range(1, no_epochs + 1), df_distil2['sparse_categorical_accuracy'], label='9-Layer Student', ls='-', color='green')\n",
        "# ax.plot(range(1, no_epochs + 1), df_distil3['sparse_categorical_accuracy'], label='4-Layer Student', ls='-', color='blue')\n",
        "\n",
        "ax.set_xlabel(\"Epochs\")\n",
        "ax.set_ylabel(\"Accuracy\")\n",
        "#ax.set_ylim(0.5, 1.0)\n",
        "ax.legend()\n",
        "#ax.set_title(\"Validation Accuracy vs. Epochs\")\n",
        "\n",
        "plt.savefig('kd-val-acc.png', bbox_inches='tight')\n",
        "plt.show"
      ]
    },
    {
      "cell_type": "markdown",
      "metadata": {
        "id": "Ijm3W8jU3leC"
      },
      "source": [
        "#Pruning"
      ]
    },
    {
      "cell_type": "code",
      "execution_count": null,
      "metadata": {
        "colab": {
          "base_uri": "https://localhost:8080/"
        },
        "id": "aqlvpO2y3oD9",
        "outputId": "793805c5-ea95-4864-802c-83a8bd014542"
      },
      "outputs": [
        {
          "name": "stdout",
          "output_type": "stream",
          "text": [
            "79/79 [==============================] - 1s 14ms/step - loss: 0.2422 - accuracy: 0.9289\n",
            "Total params: 2330186\n"
          ]
        }
      ],
      "source": [
        "model_mobilenet.evaluate(test_data)\n",
        "#model_mobilenet.summary()\n",
        "print(f\"Total params: {model_mobilenet.count_params()}\")\n",
        "#tf.keras.models.save_model(model_mobilenet, \"keras_file.h5\", include_optimizer=False)\n",
        "model = model_mobilenet"
      ]
    },
    {
      "cell_type": "code",
      "execution_count": null,
      "metadata": {
        "colab": {
          "base_uri": "https://localhost:8080/"
        },
        "id": "BxUl2EFx_L0e",
        "outputId": "01746964-7573-4359-e481-e0ce80181d27"
      },
      "outputs": [
        {
          "name": "stderr",
          "output_type": "stream",
          "text": [
            "WARNING:tensorflow:No training configuration found in the save file, so the model was *not* compiled. Compile it manually.\n"
          ]
        },
        {
          "name": "stdout",
          "output_type": "stream",
          "text": [
            "79/79 [==============================] - 4s 13ms/step - loss: 0.2421 - accuracy: 0.9289\n",
            "Total params: 2330186\n"
          ]
        }
      ],
      "source": [
        "model = tf.keras.models.load_model(\"model_mobilenet.h5\")\n",
        "model.compile(loss=SparseCategoricalCrossentropy(from_logits=True),\n",
        "              optimizer=SGD(learning_rate=0.1, momentum=0.9, weight_decay=0.0, nesterov=False),\n",
        "              metrics=['accuracy'])\n",
        "model.evaluate(test_data)\n",
        "print(f\"Total params: {model_mobilenet.count_params()}\")"
      ]
    },
    {
      "cell_type": "code",
      "execution_count": null,
      "metadata": {
        "id": "nbPbgp6j8LPf"
      },
      "outputs": [],
      "source": [
        "# Sparsity = 0.80\n",
        "import tensorflow_model_optimization as tfmot\n",
        "import tempfile\n",
        "import os\n",
        "\n",
        "prune_low_magnitude = tfmot.sparsity.keras.prune_low_magnitude\n",
        "\n",
        "# Compute end step to finish pruning after 2 epochs.\n",
        "batch_size = 128\n",
        "epochs = 12\n",
        "#validation_split = 0.1 # 10% of training set will be used for validation set.\n",
        "\n",
        "num_images = x_train.shape[0] #* (1 - validation_split)\n",
        "end_step = np.ceil(num_images / batch_size).astype(np.int32) * epochs\n",
        "\n",
        "# Define model for pruning.\n",
        "pruning_params = {\n",
        "      'pruning_schedule': tfmot.sparsity.keras.PolynomialDecay(initial_sparsity=0.50,\n",
        "                                                               final_sparsity=0.80, #0.80,\n",
        "                                                               begin_step=0,\n",
        "                                                               end_step=end_step)\n",
        "}\n",
        "\n",
        "model_for_pruning = prune_low_magnitude(model, **pruning_params)\n",
        "\n",
        "# `prune_low_magnitude` requires a recompile.\n",
        "model_for_pruning.compile(optimizer=SGD(learning_rate=0.1, momentum=0.9, weight_decay=0.0, nesterov=False), #'adam',\n",
        "              loss=tf.keras.losses.SparseCategoricalCrossentropy(from_logits=True),\n",
        "              metrics=['accuracy'])\n",
        "\n",
        "#model_for_pruning.summary()"
      ]
    },
    {
      "cell_type": "code",
      "execution_count": null,
      "metadata": {
        "colab": {
          "base_uri": "https://localhost:8080/"
        },
        "id": "dzJ5F1Kq9nFN",
        "outputId": "8bc52918-176a-4a4c-a592-f01d0bb9a524"
      },
      "outputs": [
        {
          "name": "stdout",
          "output_type": "stream",
          "text": [
            "Epoch 1/12\n",
            "  6/391 [..............................] - ETA: 25s - loss: 0.1272 - accuracy: 0.9596"
          ]
        },
        {
          "name": "stderr",
          "output_type": "stream",
          "text": [
            "WARNING:tensorflow:Callback method `on_train_batch_end` is slow compared to the batch time (batch time: 0.0627s vs `on_train_batch_end` time: 0.1472s). Check your callbacks.\n"
          ]
        },
        {
          "name": "stdout",
          "output_type": "stream",
          "text": [
            "391/391 [==============================] - 89s 88ms/step - loss: 0.2756 - accuracy: 0.9024 - val_loss: 0.3037 - val_accuracy: 0.8984\n",
            "Epoch 2/12\n",
            "391/391 [==============================] - 36s 93ms/step - loss: 0.2859 - accuracy: 0.8978 - val_loss: 0.3183 - val_accuracy: 0.8941\n",
            "Epoch 3/12\n",
            "391/391 [==============================] - 28s 73ms/step - loss: 0.2919 - accuracy: 0.8950 - val_loss: 0.3369 - val_accuracy: 0.8891\n",
            "Epoch 4/12\n",
            "391/391 [==============================] - 28s 70ms/step - loss: 0.2931 - accuracy: 0.8959 - val_loss: 0.3206 - val_accuracy: 0.8914\n",
            "Epoch 5/12\n",
            "391/391 [==============================] - 28s 71ms/step - loss: 0.2967 - accuracy: 0.8931 - val_loss: 0.3601 - val_accuracy: 0.8815\n",
            "Epoch 6/12\n",
            "391/391 [==============================] - 27s 70ms/step - loss: 0.2887 - accuracy: 0.8973 - val_loss: 0.3287 - val_accuracy: 0.8915\n",
            "Epoch 7/12\n",
            "391/391 [==============================] - 28s 71ms/step - loss: 0.2912 - accuracy: 0.8949 - val_loss: 0.3242 - val_accuracy: 0.8901\n",
            "Epoch 8/12\n",
            "391/391 [==============================] - 27s 70ms/step - loss: 0.2852 - accuracy: 0.8987 - val_loss: 0.3318 - val_accuracy: 0.8924\n",
            "Epoch 9/12\n",
            "391/391 [==============================] - 27s 70ms/step - loss: 0.2832 - accuracy: 0.8994 - val_loss: 0.3282 - val_accuracy: 0.8905\n",
            "Epoch 10/12\n",
            "391/391 [==============================] - 28s 70ms/step - loss: 0.2652 - accuracy: 0.9062 - val_loss: 0.3212 - val_accuracy: 0.8945\n",
            "Epoch 11/12\n",
            "391/391 [==============================] - 28s 71ms/step - loss: 0.2573 - accuracy: 0.9088 - val_loss: 0.2997 - val_accuracy: 0.9050\n",
            "Epoch 12/12\n",
            "391/391 [==============================] - 28s 71ms/step - loss: 0.2526 - accuracy: 0.9105 - val_loss: 0.2953 - val_accuracy: 0.9046\n"
          ]
        },
        {
          "data": {
            "text/plain": [
              "<keras.src.callbacks.History at 0x78bb23f6ff10>"
            ]
          },
          "execution_count": 14,
          "metadata": {},
          "output_type": "execute_result"
        }
      ],
      "source": [
        "logdir = \"./tfmot_logs\" #tempfile.mkdtemp()\n",
        "\n",
        "model_for_pruning.fit(train_data,\n",
        "                  epochs=epochs, validation_data=test_data, #validation_split=validation_split,\n",
        "                  callbacks=[tfmot.sparsity.keras.UpdatePruningStep(),\n",
        "                             tfmot.sparsity.keras.PruningSummaries(log_dir=logdir)]\n",
        "                      )"
      ]
    },
    {
      "cell_type": "code",
      "execution_count": null,
      "metadata": {
        "colab": {
          "base_uri": "https://localhost:8080/"
        },
        "id": "9h96vYniCgDo",
        "outputId": "873e76f6-2b8d-4fdd-edcb-4d109262584d"
      },
      "outputs": [
        {
          "name": "stdout",
          "output_type": "stream",
          "text": [
            "Model: \"model\"\n",
            "__________________________________________________________________________________________________\n",
            " Layer (type)                Output Shape                 Param #   Connected to                  \n",
            "==================================================================================================\n",
            " input_1 (InputLayer)        [(None, 32, 32, 3)]          0         []                            \n",
            "                                                                                                  \n",
            " prune_low_magnitude_Conv1   (None, 32, 32, 32)           1730      ['input_1[0][0]']             \n",
            " (PruneLowMagnitude)                                                                              \n",
            "                                                                                                  \n",
            " prune_low_magnitude_bn_Con  (None, 32, 32, 32)           129       ['prune_low_magnitude_Conv1[0]\n",
            " v1 (PruneLowMagnitude)                                             [0]']                         \n",
            "                                                                                                  \n",
            " prune_low_magnitude_Conv1_  (None, 32, 32, 32)           1         ['prune_low_magnitude_bn_Conv1\n",
            " relu (PruneLowMagnitude)                                           [0][0]']                      \n",
            "                                                                                                  \n",
            " prune_low_magnitude_block_  (None, 32, 32, 32)           2050      ['prune_low_magnitude_Conv1_re\n",
            " 0_expand (PruneLowMagnitud                                         lu[0][0]']                    \n",
            " e)                                                                                               \n",
            "                                                                                                  \n",
            " prune_low_magnitude_block_  (None, 32, 32, 32)           129       ['prune_low_magnitude_block_0_\n",
            " 0_expand_BN (PruneLowMagni                                         expand[0][0]']                \n",
            " tude)                                                                                            \n",
            "                                                                                                  \n",
            " prune_low_magnitude_block_  (None, 32, 32, 32)           1         ['prune_low_magnitude_block_0_\n",
            " 0_expand_relu (PruneLowMag                                         expand_BN[0][0]']             \n",
            " nitude)                                                                                          \n",
            "                                                                                                  \n",
            " prune_low_magnitude_block_  (None, 32, 32, 32)           289       ['prune_low_magnitude_block_0_\n",
            " 0_depthwise (PruneLowMagni                                         expand_relu[0][0]']           \n",
            " tude)                                                                                            \n",
            "                                                                                                  \n",
            " prune_low_magnitude_block_  (None, 32, 32, 32)           129       ['prune_low_magnitude_block_0_\n",
            " 0_depthwise_BN (PruneLowMa                                         depthwise[0][0]']             \n",
            " gnitude)                                                                                         \n",
            "                                                                                                  \n",
            " prune_low_magnitude_block_  (None, 32, 32, 32)           1         ['prune_low_magnitude_block_0_\n",
            " 0_depthwise_relu (PruneLow                                         depthwise_BN[0][0]']          \n",
            " Magnitude)                                                                                       \n",
            "                                                                                                  \n",
            " prune_low_magnitude_block_  (None, 32, 32, 16)           1026      ['prune_low_magnitude_block_0_\n",
            " 0_project (PruneLowMagnitu                                         depthwise_relu[0][0]']        \n",
            " de)                                                                                              \n",
            "                                                                                                  \n",
            " prune_low_magnitude_block_  (None, 32, 32, 16)           1026      ['prune_low_magnitude_Conv1_re\n",
            " 0_adjust (PruneLowMagnitud                                         lu[0][0]']                    \n",
            " e)                                                                                               \n",
            "                                                                                                  \n",
            " prune_low_magnitude_block_  (None, 32, 32, 16)           65        ['prune_low_magnitude_block_0_\n",
            " 0_project_BN (PruneLowMagn                                         project[0][0]']               \n",
            " itude)                                                                                           \n",
            "                                                                                                  \n",
            " prune_low_magnitude_block_  (None, 32, 32, 16)           1         ['prune_low_magnitude_block_0_\n",
            " 0_add (PruneLowMagnitude)                                          adjust[0][0]',                \n",
            "                                                                     'prune_low_magnitude_block_0_\n",
            "                                                                    project_BN[0][0]']            \n",
            "                                                                                                  \n",
            " prune_low_magnitude_block_  (None, 32, 32, 96)           3074      ['prune_low_magnitude_block_0_\n",
            " 1_expand (PruneLowMagnitud                                         add[0][0]']                   \n",
            " e)                                                                                               \n",
            "                                                                                                  \n",
            " prune_low_magnitude_block_  (None, 32, 32, 96)           385       ['prune_low_magnitude_block_1_\n",
            " 1_expand_BN (PruneLowMagni                                         expand[0][0]']                \n",
            " tude)                                                                                            \n",
            "                                                                                                  \n",
            " prune_low_magnitude_block_  (None, 32, 32, 96)           1         ['prune_low_magnitude_block_1_\n",
            " 1_expand_relu (PruneLowMag                                         expand_BN[0][0]']             \n",
            " nitude)                                                                                          \n",
            "                                                                                                  \n",
            " prune_low_magnitude_block_  (None, 32, 32, 96)           865       ['prune_low_magnitude_block_1_\n",
            " 1_depthwise (PruneLowMagni                                         expand_relu[0][0]']           \n",
            " tude)                                                                                            \n",
            "                                                                                                  \n",
            " prune_low_magnitude_block_  (None, 32, 32, 96)           385       ['prune_low_magnitude_block_1_\n",
            " 1_depthwise_BN (PruneLowMa                                         depthwise[0][0]']             \n",
            " gnitude)                                                                                         \n",
            "                                                                                                  \n",
            " prune_low_magnitude_block_  (None, 32, 32, 96)           1         ['prune_low_magnitude_block_1_\n",
            " 1_depthwise_relu (PruneLow                                         depthwise_BN[0][0]']          \n",
            " Magnitude)                                                                                       \n",
            "                                                                                                  \n",
            " prune_low_magnitude_block_  (None, 32, 32, 24)           4610      ['prune_low_magnitude_block_1_\n",
            " 1_project (PruneLowMagnitu                                         depthwise_relu[0][0]']        \n",
            " de)                                                                                              \n",
            "                                                                                                  \n",
            " prune_low_magnitude_block_  (None, 32, 32, 24)           770       ['prune_low_magnitude_block_0_\n",
            " 1_adjust (PruneLowMagnitud                                         add[0][0]']                   \n",
            " e)                                                                                               \n",
            "                                                                                                  \n",
            " prune_low_magnitude_block_  (None, 32, 32, 24)           97        ['prune_low_magnitude_block_1_\n",
            " 1_project_BN (PruneLowMagn                                         project[0][0]']               \n",
            " itude)                                                                                           \n",
            "                                                                                                  \n",
            " prune_low_magnitude_block_  (None, 32, 32, 24)           1         ['prune_low_magnitude_block_1_\n",
            " 1_add (PruneLowMagnitude)                                          adjust[0][0]',                \n",
            "                                                                     'prune_low_magnitude_block_1_\n",
            "                                                                    project_BN[0][0]']            \n",
            "                                                                                                  \n",
            " prune_low_magnitude_block_  (None, 32, 32, 144)          6914      ['prune_low_magnitude_block_1_\n",
            " 2_expand (PruneLowMagnitud                                         add[0][0]']                   \n",
            " e)                                                                                               \n",
            "                                                                                                  \n",
            " prune_low_magnitude_block_  (None, 32, 32, 144)          577       ['prune_low_magnitude_block_2_\n",
            " 2_expand_BN (PruneLowMagni                                         expand[0][0]']                \n",
            " tude)                                                                                            \n",
            "                                                                                                  \n",
            " prune_low_magnitude_block_  (None, 32, 32, 144)          1         ['prune_low_magnitude_block_2_\n",
            " 2_expand_relu (PruneLowMag                                         expand_BN[0][0]']             \n",
            " nitude)                                                                                          \n",
            "                                                                                                  \n",
            " prune_low_magnitude_block_  (None, 32, 32, 144)          1297      ['prune_low_magnitude_block_2_\n",
            " 2_depthwise (PruneLowMagni                                         expand_relu[0][0]']           \n",
            " tude)                                                                                            \n",
            "                                                                                                  \n",
            " prune_low_magnitude_block_  (None, 32, 32, 144)          577       ['prune_low_magnitude_block_2_\n",
            " 2_depthwise_BN (PruneLowMa                                         depthwise[0][0]']             \n",
            " gnitude)                                                                                         \n",
            "                                                                                                  \n",
            " prune_low_magnitude_block_  (None, 32, 32, 144)          1         ['prune_low_magnitude_block_2_\n",
            " 2_depthwise_relu (PruneLow                                         depthwise_BN[0][0]']          \n",
            " Magnitude)                                                                                       \n",
            "                                                                                                  \n",
            " prune_low_magnitude_block_  (None, 32, 32, 24)           6914      ['prune_low_magnitude_block_2_\n",
            " 2_project (PruneLowMagnitu                                         depthwise_relu[0][0]']        \n",
            " de)                                                                                              \n",
            "                                                                                                  \n",
            " prune_low_magnitude_block_  (None, 32, 32, 24)           97        ['prune_low_magnitude_block_2_\n",
            " 2_project_BN (PruneLowMagn                                         project[0][0]']               \n",
            " itude)                                                                                           \n",
            "                                                                                                  \n",
            " prune_low_magnitude_block_  (None, 32, 32, 24)           1         ['prune_low_magnitude_block_1_\n",
            " 2_add (PruneLowMagnitude)                                          add[0][0]',                   \n",
            "                                                                     'prune_low_magnitude_block_2_\n",
            "                                                                    project_BN[0][0]']            \n",
            "                                                                                                  \n",
            " prune_low_magnitude_block_  (None, 32, 32, 144)          6914      ['prune_low_magnitude_block_2_\n",
            " 3_expand (PruneLowMagnitud                                         add[0][0]']                   \n",
            " e)                                                                                               \n",
            "                                                                                                  \n",
            " prune_low_magnitude_block_  (None, 32, 32, 144)          577       ['prune_low_magnitude_block_3_\n",
            " 3_expand_BN (PruneLowMagni                                         expand[0][0]']                \n",
            " tude)                                                                                            \n",
            "                                                                                                  \n",
            " prune_low_magnitude_block_  (None, 32, 32, 144)          1         ['prune_low_magnitude_block_3_\n",
            " 3_expand_relu (PruneLowMag                                         expand_BN[0][0]']             \n",
            " nitude)                                                                                          \n",
            "                                                                                                  \n",
            " prune_low_magnitude_block_  (None, 16, 16, 144)          1297      ['prune_low_magnitude_block_3_\n",
            " 3_depthwise (PruneLowMagni                                         expand_relu[0][0]']           \n",
            " tude)                                                                                            \n",
            "                                                                                                  \n",
            " prune_low_magnitude_block_  (None, 16, 16, 144)          577       ['prune_low_magnitude_block_3_\n",
            " 3_depthwise_BN (PruneLowMa                                         depthwise[0][0]']             \n",
            " gnitude)                                                                                         \n",
            "                                                                                                  \n",
            " prune_low_magnitude_block_  (None, 16, 16, 144)          1         ['prune_low_magnitude_block_3_\n",
            " 3_depthwise_relu (PruneLow                                         depthwise_BN[0][0]']          \n",
            " Magnitude)                                                                                       \n",
            "                                                                                                  \n",
            " prune_low_magnitude_block_  (None, 16, 16, 32)           9218      ['prune_low_magnitude_block_3_\n",
            " 3_project (PruneLowMagnitu                                         depthwise_relu[0][0]']        \n",
            " de)                                                                                              \n",
            "                                                                                                  \n",
            " prune_low_magnitude_block_  (None, 16, 16, 32)           129       ['prune_low_magnitude_block_3_\n",
            " 3_project_BN (PruneLowMagn                                         project[0][0]']               \n",
            " itude)                                                                                           \n",
            "                                                                                                  \n",
            " prune_low_magnitude_block_  (None, 16, 16, 192)          12290     ['prune_low_magnitude_block_3_\n",
            " 4_expand (PruneLowMagnitud                                         project_BN[0][0]']            \n",
            " e)                                                                                               \n",
            "                                                                                                  \n",
            " prune_low_magnitude_block_  (None, 16, 16, 192)          769       ['prune_low_magnitude_block_4_\n",
            " 4_expand_BN (PruneLowMagni                                         expand[0][0]']                \n",
            " tude)                                                                                            \n",
            "                                                                                                  \n",
            " prune_low_magnitude_block_  (None, 16, 16, 192)          1         ['prune_low_magnitude_block_4_\n",
            " 4_expand_relu (PruneLowMag                                         expand_BN[0][0]']             \n",
            " nitude)                                                                                          \n",
            "                                                                                                  \n",
            " prune_low_magnitude_block_  (None, 16, 16, 192)          1729      ['prune_low_magnitude_block_4_\n",
            " 4_depthwise (PruneLowMagni                                         expand_relu[0][0]']           \n",
            " tude)                                                                                            \n",
            "                                                                                                  \n",
            " prune_low_magnitude_block_  (None, 16, 16, 192)          769       ['prune_low_magnitude_block_4_\n",
            " 4_depthwise_BN (PruneLowMa                                         depthwise[0][0]']             \n",
            " gnitude)                                                                                         \n",
            "                                                                                                  \n",
            " prune_low_magnitude_block_  (None, 16, 16, 192)          1         ['prune_low_magnitude_block_4_\n",
            " 4_depthwise_relu (PruneLow                                         depthwise_BN[0][0]']          \n",
            " Magnitude)                                                                                       \n",
            "                                                                                                  \n",
            " prune_low_magnitude_block_  (None, 16, 16, 32)           12290     ['prune_low_magnitude_block_4_\n",
            " 4_project (PruneLowMagnitu                                         depthwise_relu[0][0]']        \n",
            " de)                                                                                              \n",
            "                                                                                                  \n",
            " prune_low_magnitude_block_  (None, 16, 16, 32)           129       ['prune_low_magnitude_block_4_\n",
            " 4_project_BN (PruneLowMagn                                         project[0][0]']               \n",
            " itude)                                                                                           \n",
            "                                                                                                  \n",
            " prune_low_magnitude_block_  (None, 16, 16, 32)           1         ['prune_low_magnitude_block_3_\n",
            " 4_add (PruneLowMagnitude)                                          project_BN[0][0]',            \n",
            "                                                                     'prune_low_magnitude_block_4_\n",
            "                                                                    project_BN[0][0]']            \n",
            "                                                                                                  \n",
            " prune_low_magnitude_block_  (None, 16, 16, 192)          12290     ['prune_low_magnitude_block_4_\n",
            " 5_expand (PruneLowMagnitud                                         add[0][0]']                   \n",
            " e)                                                                                               \n",
            "                                                                                                  \n",
            " prune_low_magnitude_block_  (None, 16, 16, 192)          769       ['prune_low_magnitude_block_5_\n",
            " 5_expand_BN (PruneLowMagni                                         expand[0][0]']                \n",
            " tude)                                                                                            \n",
            "                                                                                                  \n",
            " prune_low_magnitude_block_  (None, 16, 16, 192)          1         ['prune_low_magnitude_block_5_\n",
            " 5_expand_relu (PruneLowMag                                         expand_BN[0][0]']             \n",
            " nitude)                                                                                          \n",
            "                                                                                                  \n",
            " prune_low_magnitude_block_  (None, 16, 16, 192)          1729      ['prune_low_magnitude_block_5_\n",
            " 5_depthwise (PruneLowMagni                                         expand_relu[0][0]']           \n",
            " tude)                                                                                            \n",
            "                                                                                                  \n",
            " prune_low_magnitude_block_  (None, 16, 16, 192)          769       ['prune_low_magnitude_block_5_\n",
            " 5_depthwise_BN (PruneLowMa                                         depthwise[0][0]']             \n",
            " gnitude)                                                                                         \n",
            "                                                                                                  \n",
            " prune_low_magnitude_block_  (None, 16, 16, 192)          1         ['prune_low_magnitude_block_5_\n",
            " 5_depthwise_relu (PruneLow                                         depthwise_BN[0][0]']          \n",
            " Magnitude)                                                                                       \n",
            "                                                                                                  \n",
            " prune_low_magnitude_block_  (None, 16, 16, 32)           12290     ['prune_low_magnitude_block_5_\n",
            " 5_project (PruneLowMagnitu                                         depthwise_relu[0][0]']        \n",
            " de)                                                                                              \n",
            "                                                                                                  \n",
            " prune_low_magnitude_block_  (None, 16, 16, 32)           129       ['prune_low_magnitude_block_5_\n",
            " 5_project_BN (PruneLowMagn                                         project[0][0]']               \n",
            " itude)                                                                                           \n",
            "                                                                                                  \n",
            " prune_low_magnitude_block_  (None, 16, 16, 32)           1         ['prune_low_magnitude_block_4_\n",
            " 5_add (PruneLowMagnitude)                                          add[0][0]',                   \n",
            "                                                                     'prune_low_magnitude_block_5_\n",
            "                                                                    project_BN[0][0]']            \n",
            "                                                                                                  \n",
            " prune_low_magnitude_block_  (None, 16, 16, 192)          12290     ['prune_low_magnitude_block_5_\n",
            " 6_expand (PruneLowMagnitud                                         add[0][0]']                   \n",
            " e)                                                                                               \n",
            "                                                                                                  \n",
            " prune_low_magnitude_block_  (None, 16, 16, 192)          769       ['prune_low_magnitude_block_6_\n",
            " 6_expand_BN (PruneLowMagni                                         expand[0][0]']                \n",
            " tude)                                                                                            \n",
            "                                                                                                  \n",
            " prune_low_magnitude_block_  (None, 16, 16, 192)          1         ['prune_low_magnitude_block_6_\n",
            " 6_expand_relu (PruneLowMag                                         expand_BN[0][0]']             \n",
            " nitude)                                                                                          \n",
            "                                                                                                  \n",
            " prune_low_magnitude_block_  (None, 8, 8, 192)            1729      ['prune_low_magnitude_block_6_\n",
            " 6_depthwise (PruneLowMagni                                         expand_relu[0][0]']           \n",
            " tude)                                                                                            \n",
            "                                                                                                  \n",
            " prune_low_magnitude_block_  (None, 8, 8, 192)            769       ['prune_low_magnitude_block_6_\n",
            " 6_depthwise_BN (PruneLowMa                                         depthwise[0][0]']             \n",
            " gnitude)                                                                                         \n",
            "                                                                                                  \n",
            " prune_low_magnitude_block_  (None, 8, 8, 192)            1         ['prune_low_magnitude_block_6_\n",
            " 6_depthwise_relu (PruneLow                                         depthwise_BN[0][0]']          \n",
            " Magnitude)                                                                                       \n",
            "                                                                                                  \n",
            " prune_low_magnitude_block_  (None, 8, 8, 64)             24578     ['prune_low_magnitude_block_6_\n",
            " 6_project (PruneLowMagnitu                                         depthwise_relu[0][0]']        \n",
            " de)                                                                                              \n",
            "                                                                                                  \n",
            " prune_low_magnitude_block_  (None, 8, 8, 64)             257       ['prune_low_magnitude_block_6_\n",
            " 6_project_BN (PruneLowMagn                                         project[0][0]']               \n",
            " itude)                                                                                           \n",
            "                                                                                                  \n",
            " prune_low_magnitude_block_  (None, 8, 8, 384)            49154     ['prune_low_magnitude_block_6_\n",
            " 7_expand (PruneLowMagnitud                                         project_BN[0][0]']            \n",
            " e)                                                                                               \n",
            "                                                                                                  \n",
            " prune_low_magnitude_block_  (None, 8, 8, 384)            1537      ['prune_low_magnitude_block_7_\n",
            " 7_expand_BN (PruneLowMagni                                         expand[0][0]']                \n",
            " tude)                                                                                            \n",
            "                                                                                                  \n",
            " prune_low_magnitude_block_  (None, 8, 8, 384)            1         ['prune_low_magnitude_block_7_\n",
            " 7_expand_relu (PruneLowMag                                         expand_BN[0][0]']             \n",
            " nitude)                                                                                          \n",
            "                                                                                                  \n",
            " prune_low_magnitude_block_  (None, 8, 8, 384)            3457      ['prune_low_magnitude_block_7_\n",
            " 7_depthwise (PruneLowMagni                                         expand_relu[0][0]']           \n",
            " tude)                                                                                            \n",
            "                                                                                                  \n",
            " prune_low_magnitude_block_  (None, 8, 8, 384)            1537      ['prune_low_magnitude_block_7_\n",
            " 7_depthwise_BN (PruneLowMa                                         depthwise[0][0]']             \n",
            " gnitude)                                                                                         \n",
            "                                                                                                  \n",
            " prune_low_magnitude_block_  (None, 8, 8, 384)            1         ['prune_low_magnitude_block_7_\n",
            " 7_depthwise_relu (PruneLow                                         depthwise_BN[0][0]']          \n",
            " Magnitude)                                                                                       \n",
            "                                                                                                  \n",
            " prune_low_magnitude_block_  (None, 8, 8, 64)             49154     ['prune_low_magnitude_block_7_\n",
            " 7_project (PruneLowMagnitu                                         depthwise_relu[0][0]']        \n",
            " de)                                                                                              \n",
            "                                                                                                  \n",
            " prune_low_magnitude_block_  (None, 8, 8, 64)             257       ['prune_low_magnitude_block_7_\n",
            " 7_project_BN (PruneLowMagn                                         project[0][0]']               \n",
            " itude)                                                                                           \n",
            "                                                                                                  \n",
            " prune_low_magnitude_block_  (None, 8, 8, 64)             1         ['prune_low_magnitude_block_6_\n",
            " 7_add (PruneLowMagnitude)                                          project_BN[0][0]',            \n",
            "                                                                     'prune_low_magnitude_block_7_\n",
            "                                                                    project_BN[0][0]']            \n",
            "                                                                                                  \n",
            " prune_low_magnitude_block_  (None, 8, 8, 384)            49154     ['prune_low_magnitude_block_7_\n",
            " 8_expand (PruneLowMagnitud                                         add[0][0]']                   \n",
            " e)                                                                                               \n",
            "                                                                                                  \n",
            " prune_low_magnitude_block_  (None, 8, 8, 384)            1537      ['prune_low_magnitude_block_8_\n",
            " 8_expand_BN (PruneLowMagni                                         expand[0][0]']                \n",
            " tude)                                                                                            \n",
            "                                                                                                  \n",
            " prune_low_magnitude_block_  (None, 8, 8, 384)            1         ['prune_low_magnitude_block_8_\n",
            " 8_expand_relu (PruneLowMag                                         expand_BN[0][0]']             \n",
            " nitude)                                                                                          \n",
            "                                                                                                  \n",
            " prune_low_magnitude_block_  (None, 8, 8, 384)            3457      ['prune_low_magnitude_block_8_\n",
            " 8_depthwise (PruneLowMagni                                         expand_relu[0][0]']           \n",
            " tude)                                                                                            \n",
            "                                                                                                  \n",
            " prune_low_magnitude_block_  (None, 8, 8, 384)            1537      ['prune_low_magnitude_block_8_\n",
            " 8_depthwise_BN (PruneLowMa                                         depthwise[0][0]']             \n",
            " gnitude)                                                                                         \n",
            "                                                                                                  \n",
            " prune_low_magnitude_block_  (None, 8, 8, 384)            1         ['prune_low_magnitude_block_8_\n",
            " 8_depthwise_relu (PruneLow                                         depthwise_BN[0][0]']          \n",
            " Magnitude)                                                                                       \n",
            "                                                                                                  \n",
            " prune_low_magnitude_block_  (None, 8, 8, 64)             49154     ['prune_low_magnitude_block_8_\n",
            " 8_project (PruneLowMagnitu                                         depthwise_relu[0][0]']        \n",
            " de)                                                                                              \n",
            "                                                                                                  \n",
            " prune_low_magnitude_block_  (None, 8, 8, 64)             257       ['prune_low_magnitude_block_8_\n",
            " 8_project_BN (PruneLowMagn                                         project[0][0]']               \n",
            " itude)                                                                                           \n",
            "                                                                                                  \n",
            " prune_low_magnitude_block_  (None, 8, 8, 64)             1         ['prune_low_magnitude_block_7_\n",
            " 8_add (PruneLowMagnitude)                                          add[0][0]',                   \n",
            "                                                                     'prune_low_magnitude_block_8_\n",
            "                                                                    project_BN[0][0]']            \n",
            "                                                                                                  \n",
            " prune_low_magnitude_block_  (None, 8, 8, 384)            49154     ['prune_low_magnitude_block_8_\n",
            " 9_expand (PruneLowMagnitud                                         add[0][0]']                   \n",
            " e)                                                                                               \n",
            "                                                                                                  \n",
            " prune_low_magnitude_block_  (None, 8, 8, 384)            1537      ['prune_low_magnitude_block_9_\n",
            " 9_expand_BN (PruneLowMagni                                         expand[0][0]']                \n",
            " tude)                                                                                            \n",
            "                                                                                                  \n",
            " prune_low_magnitude_block_  (None, 8, 8, 384)            1         ['prune_low_magnitude_block_9_\n",
            " 9_expand_relu (PruneLowMag                                         expand_BN[0][0]']             \n",
            " nitude)                                                                                          \n",
            "                                                                                                  \n",
            " prune_low_magnitude_block_  (None, 8, 8, 384)            3457      ['prune_low_magnitude_block_9_\n",
            " 9_depthwise (PruneLowMagni                                         expand_relu[0][0]']           \n",
            " tude)                                                                                            \n",
            "                                                                                                  \n",
            " prune_low_magnitude_block_  (None, 8, 8, 384)            1537      ['prune_low_magnitude_block_9_\n",
            " 9_depthwise_BN (PruneLowMa                                         depthwise[0][0]']             \n",
            " gnitude)                                                                                         \n",
            "                                                                                                  \n",
            " prune_low_magnitude_block_  (None, 8, 8, 384)            1         ['prune_low_magnitude_block_9_\n",
            " 9_depthwise_relu (PruneLow                                         depthwise_BN[0][0]']          \n",
            " Magnitude)                                                                                       \n",
            "                                                                                                  \n",
            " prune_low_magnitude_block_  (None, 8, 8, 64)             49154     ['prune_low_magnitude_block_9_\n",
            " 9_project (PruneLowMagnitu                                         depthwise_relu[0][0]']        \n",
            " de)                                                                                              \n",
            "                                                                                                  \n",
            " prune_low_magnitude_block_  (None, 8, 8, 64)             257       ['prune_low_magnitude_block_9_\n",
            " 9_project_BN (PruneLowMagn                                         project[0][0]']               \n",
            " itude)                                                                                           \n",
            "                                                                                                  \n",
            " prune_low_magnitude_block_  (None, 8, 8, 64)             1         ['prune_low_magnitude_block_8_\n",
            " 9_add (PruneLowMagnitude)                                          add[0][0]',                   \n",
            "                                                                     'prune_low_magnitude_block_9_\n",
            "                                                                    project_BN[0][0]']            \n",
            "                                                                                                  \n",
            " prune_low_magnitude_block_  (None, 8, 8, 384)            49154     ['prune_low_magnitude_block_9_\n",
            " 10_expand (PruneLowMagnitu                                         add[0][0]']                   \n",
            " de)                                                                                              \n",
            "                                                                                                  \n",
            " prune_low_magnitude_block_  (None, 8, 8, 384)            1537      ['prune_low_magnitude_block_10\n",
            " 10_expand_BN (PruneLowMagn                                         _expand[0][0]']               \n",
            " itude)                                                                                           \n",
            "                                                                                                  \n",
            " prune_low_magnitude_block_  (None, 8, 8, 384)            1         ['prune_low_magnitude_block_10\n",
            " 10_expand_relu (PruneLowMa                                         _expand_BN[0][0]']            \n",
            " gnitude)                                                                                         \n",
            "                                                                                                  \n",
            " prune_low_magnitude_block_  (None, 8, 8, 384)            3457      ['prune_low_magnitude_block_10\n",
            " 10_depthwise (PruneLowMagn                                         _expand_relu[0][0]']          \n",
            " itude)                                                                                           \n",
            "                                                                                                  \n",
            " prune_low_magnitude_block_  (None, 8, 8, 384)            1537      ['prune_low_magnitude_block_10\n",
            " 10_depthwise_BN (PruneLowM                                         _depthwise[0][0]']            \n",
            " agnitude)                                                                                        \n",
            "                                                                                                  \n",
            " prune_low_magnitude_block_  (None, 8, 8, 384)            1         ['prune_low_magnitude_block_10\n",
            " 10_depthwise_relu (PruneLo                                         _depthwise_BN[0][0]']         \n",
            " wMagnitude)                                                                                      \n",
            "                                                                                                  \n",
            " prune_low_magnitude_block_  (None, 8, 8, 96)             73730     ['prune_low_magnitude_block_10\n",
            " 10_project (PruneLowMagnit                                         _depthwise_relu[0][0]']       \n",
            " ude)                                                                                             \n",
            "                                                                                                  \n",
            " prune_low_magnitude_block_  (None, 8, 8, 96)             12290     ['prune_low_magnitude_block_9_\n",
            " 10_adjust (PruneLowMagnitu                                         add[0][0]']                   \n",
            " de)                                                                                              \n",
            "                                                                                                  \n",
            " prune_low_magnitude_block_  (None, 8, 8, 96)             385       ['prune_low_magnitude_block_10\n",
            " 10_project_BN (PruneLowMag                                         _project[0][0]']              \n",
            " nitude)                                                                                          \n",
            "                                                                                                  \n",
            " prune_low_magnitude_block_  (None, 8, 8, 96)             1         ['prune_low_magnitude_block_10\n",
            " 10_add (PruneLowMagnitude)                                         _adjust[0][0]',               \n",
            "                                                                     'prune_low_magnitude_block_10\n",
            "                                                                    _project_BN[0][0]']           \n",
            "                                                                                                  \n",
            " prune_low_magnitude_block_  (None, 8, 8, 576)            110594    ['prune_low_magnitude_block_10\n",
            " 11_expand (PruneLowMagnitu                                         _add[0][0]']                  \n",
            " de)                                                                                              \n",
            "                                                                                                  \n",
            " prune_low_magnitude_block_  (None, 8, 8, 576)            2305      ['prune_low_magnitude_block_11\n",
            " 11_expand_BN (PruneLowMagn                                         _expand[0][0]']               \n",
            " itude)                                                                                           \n",
            "                                                                                                  \n",
            " prune_low_magnitude_block_  (None, 8, 8, 576)            1         ['prune_low_magnitude_block_11\n",
            " 11_expand_relu (PruneLowMa                                         _expand_BN[0][0]']            \n",
            " gnitude)                                                                                         \n",
            "                                                                                                  \n",
            " prune_low_magnitude_block_  (None, 8, 8, 576)            5185      ['prune_low_magnitude_block_11\n",
            " 11_depthwise (PruneLowMagn                                         _expand_relu[0][0]']          \n",
            " itude)                                                                                           \n",
            "                                                                                                  \n",
            " prune_low_magnitude_block_  (None, 8, 8, 576)            2305      ['prune_low_magnitude_block_11\n",
            " 11_depthwise_BN (PruneLowM                                         _depthwise[0][0]']            \n",
            " agnitude)                                                                                        \n",
            "                                                                                                  \n",
            " prune_low_magnitude_block_  (None, 8, 8, 576)            1         ['prune_low_magnitude_block_11\n",
            " 11_depthwise_relu (PruneLo                                         _depthwise_BN[0][0]']         \n",
            " wMagnitude)                                                                                      \n",
            "                                                                                                  \n",
            " prune_low_magnitude_block_  (None, 8, 8, 96)             110594    ['prune_low_magnitude_block_11\n",
            " 11_project (PruneLowMagnit                                         _depthwise_relu[0][0]']       \n",
            " ude)                                                                                             \n",
            "                                                                                                  \n",
            " prune_low_magnitude_block_  (None, 8, 8, 96)             385       ['prune_low_magnitude_block_11\n",
            " 11_project_BN (PruneLowMag                                         _project[0][0]']              \n",
            " nitude)                                                                                          \n",
            "                                                                                                  \n",
            " prune_low_magnitude_block_  (None, 8, 8, 96)             1         ['prune_low_magnitude_block_10\n",
            " 11_add (PruneLowMagnitude)                                         _add[0][0]',                  \n",
            "                                                                     'prune_low_magnitude_block_11\n",
            "                                                                    _project_BN[0][0]']           \n",
            "                                                                                                  \n",
            " prune_low_magnitude_block_  (None, 8, 8, 576)            110594    ['prune_low_magnitude_block_11\n",
            " 12_expand (PruneLowMagnitu                                         _add[0][0]']                  \n",
            " de)                                                                                              \n",
            "                                                                                                  \n",
            " prune_low_magnitude_block_  (None, 8, 8, 576)            2305      ['prune_low_magnitude_block_12\n",
            " 12_expand_BN (PruneLowMagn                                         _expand[0][0]']               \n",
            " itude)                                                                                           \n",
            "                                                                                                  \n",
            " prune_low_magnitude_block_  (None, 8, 8, 576)            1         ['prune_low_magnitude_block_12\n",
            " 12_expand_relu (PruneLowMa                                         _expand_BN[0][0]']            \n",
            " gnitude)                                                                                         \n",
            "                                                                                                  \n",
            " prune_low_magnitude_block_  (None, 8, 8, 576)            5185      ['prune_low_magnitude_block_12\n",
            " 12_depthwise (PruneLowMagn                                         _expand_relu[0][0]']          \n",
            " itude)                                                                                           \n",
            "                                                                                                  \n",
            " prune_low_magnitude_block_  (None, 8, 8, 576)            2305      ['prune_low_magnitude_block_12\n",
            " 12_depthwise_BN (PruneLowM                                         _depthwise[0][0]']            \n",
            " agnitude)                                                                                        \n",
            "                                                                                                  \n",
            " prune_low_magnitude_block_  (None, 8, 8, 576)            1         ['prune_low_magnitude_block_12\n",
            " 12_depthwise_relu (PruneLo                                         _depthwise_BN[0][0]']         \n",
            " wMagnitude)                                                                                      \n",
            "                                                                                                  \n",
            " prune_low_magnitude_block_  (None, 8, 8, 96)             110594    ['prune_low_magnitude_block_12\n",
            " 12_project (PruneLowMagnit                                         _depthwise_relu[0][0]']       \n",
            " ude)                                                                                             \n",
            "                                                                                                  \n",
            " prune_low_magnitude_block_  (None, 8, 8, 96)             385       ['prune_low_magnitude_block_12\n",
            " 12_project_BN (PruneLowMag                                         _project[0][0]']              \n",
            " nitude)                                                                                          \n",
            "                                                                                                  \n",
            " prune_low_magnitude_block_  (None, 8, 8, 96)             1         ['prune_low_magnitude_block_11\n",
            " 12_add (PruneLowMagnitude)                                         _add[0][0]',                  \n",
            "                                                                     'prune_low_magnitude_block_12\n",
            "                                                                    _project_BN[0][0]']           \n",
            "                                                                                                  \n",
            " prune_low_magnitude_block_  (None, 8, 8, 576)            110594    ['prune_low_magnitude_block_12\n",
            " 13_expand (PruneLowMagnitu                                         _add[0][0]']                  \n",
            " de)                                                                                              \n",
            "                                                                                                  \n",
            " prune_low_magnitude_block_  (None, 8, 8, 576)            2305      ['prune_low_magnitude_block_13\n",
            " 13_expand_BN (PruneLowMagn                                         _expand[0][0]']               \n",
            " itude)                                                                                           \n",
            "                                                                                                  \n",
            " prune_low_magnitude_block_  (None, 8, 8, 576)            1         ['prune_low_magnitude_block_13\n",
            " 13_expand_relu (PruneLowMa                                         _expand_BN[0][0]']            \n",
            " gnitude)                                                                                         \n",
            "                                                                                                  \n",
            " prune_low_magnitude_block_  (None, 4, 4, 576)            5185      ['prune_low_magnitude_block_13\n",
            " 13_depthwise (PruneLowMagn                                         _expand_relu[0][0]']          \n",
            " itude)                                                                                           \n",
            "                                                                                                  \n",
            " prune_low_magnitude_block_  (None, 4, 4, 576)            2305      ['prune_low_magnitude_block_13\n",
            " 13_depthwise_BN (PruneLowM                                         _depthwise[0][0]']            \n",
            " agnitude)                                                                                        \n",
            "                                                                                                  \n",
            " prune_low_magnitude_block_  (None, 4, 4, 576)            1         ['prune_low_magnitude_block_13\n",
            " 13_depthwise_relu (PruneLo                                         _depthwise_BN[0][0]']         \n",
            " wMagnitude)                                                                                      \n",
            "                                                                                                  \n",
            " prune_low_magnitude_block_  (None, 4, 4, 160)            184322    ['prune_low_magnitude_block_13\n",
            " 13_project (PruneLowMagnit                                         _depthwise_relu[0][0]']       \n",
            " ude)                                                                                             \n",
            "                                                                                                  \n",
            " prune_low_magnitude_block_  (None, 4, 4, 160)            641       ['prune_low_magnitude_block_13\n",
            " 13_project_BN (PruneLowMag                                         _project[0][0]']              \n",
            " nitude)                                                                                          \n",
            "                                                                                                  \n",
            " prune_low_magnitude_block_  (None, 4, 4, 960)            307202    ['prune_low_magnitude_block_13\n",
            " 14_expand (PruneLowMagnitu                                         _project_BN[0][0]']           \n",
            " de)                                                                                              \n",
            "                                                                                                  \n",
            " prune_low_magnitude_block_  (None, 4, 4, 960)            3841      ['prune_low_magnitude_block_14\n",
            " 14_expand_BN (PruneLowMagn                                         _expand[0][0]']               \n",
            " itude)                                                                                           \n",
            "                                                                                                  \n",
            " prune_low_magnitude_block_  (None, 4, 4, 960)            1         ['prune_low_magnitude_block_14\n",
            " 14_expand_relu (PruneLowMa                                         _expand_BN[0][0]']            \n",
            " gnitude)                                                                                         \n",
            "                                                                                                  \n",
            " prune_low_magnitude_block_  (None, 4, 4, 960)            8641      ['prune_low_magnitude_block_14\n",
            " 14_depthwise (PruneLowMagn                                         _expand_relu[0][0]']          \n",
            " itude)                                                                                           \n",
            "                                                                                                  \n",
            " prune_low_magnitude_block_  (None, 4, 4, 960)            3841      ['prune_low_magnitude_block_14\n",
            " 14_depthwise_BN (PruneLowM                                         _depthwise[0][0]']            \n",
            " agnitude)                                                                                        \n",
            "                                                                                                  \n",
            " prune_low_magnitude_block_  (None, 4, 4, 960)            1         ['prune_low_magnitude_block_14\n",
            " 14_depthwise_relu (PruneLo                                         _depthwise_BN[0][0]']         \n",
            " wMagnitude)                                                                                      \n",
            "                                                                                                  \n",
            " prune_low_magnitude_block_  (None, 4, 4, 160)            307202    ['prune_low_magnitude_block_14\n",
            " 14_project (PruneLowMagnit                                         _depthwise_relu[0][0]']       \n",
            " ude)                                                                                             \n",
            "                                                                                                  \n",
            " prune_low_magnitude_block_  (None, 4, 4, 160)            641       ['prune_low_magnitude_block_14\n",
            " 14_project_BN (PruneLowMag                                         _project[0][0]']              \n",
            " nitude)                                                                                          \n",
            "                                                                                                  \n",
            " prune_low_magnitude_block_  (None, 4, 4, 160)            1         ['prune_low_magnitude_block_13\n",
            " 14_add (PruneLowMagnitude)                                         _project_BN[0][0]',           \n",
            "                                                                     'prune_low_magnitude_block_14\n",
            "                                                                    _project_BN[0][0]']           \n",
            "                                                                                                  \n",
            " prune_low_magnitude_block_  (None, 4, 4, 960)            307202    ['prune_low_magnitude_block_14\n",
            " 15_expand (PruneLowMagnitu                                         _add[0][0]']                  \n",
            " de)                                                                                              \n",
            "                                                                                                  \n",
            " prune_low_magnitude_block_  (None, 4, 4, 960)            3841      ['prune_low_magnitude_block_15\n",
            " 15_expand_BN (PruneLowMagn                                         _expand[0][0]']               \n",
            " itude)                                                                                           \n",
            "                                                                                                  \n",
            " prune_low_magnitude_block_  (None, 4, 4, 960)            1         ['prune_low_magnitude_block_15\n",
            " 15_expand_relu (PruneLowMa                                         _expand_BN[0][0]']            \n",
            " gnitude)                                                                                         \n",
            "                                                                                                  \n",
            " prune_low_magnitude_block_  (None, 4, 4, 960)            8641      ['prune_low_magnitude_block_15\n",
            " 15_depthwise (PruneLowMagn                                         _expand_relu[0][0]']          \n",
            " itude)                                                                                           \n",
            "                                                                                                  \n",
            " prune_low_magnitude_block_  (None, 4, 4, 960)            3841      ['prune_low_magnitude_block_15\n",
            " 15_depthwise_BN (PruneLowM                                         _depthwise[0][0]']            \n",
            " agnitude)                                                                                        \n",
            "                                                                                                  \n",
            " prune_low_magnitude_block_  (None, 4, 4, 960)            1         ['prune_low_magnitude_block_15\n",
            " 15_depthwise_relu (PruneLo                                         _depthwise_BN[0][0]']         \n",
            " wMagnitude)                                                                                      \n",
            "                                                                                                  \n",
            " prune_low_magnitude_block_  (None, 4, 4, 160)            307202    ['prune_low_magnitude_block_15\n",
            " 15_project (PruneLowMagnit                                         _depthwise_relu[0][0]']       \n",
            " ude)                                                                                             \n",
            "                                                                                                  \n",
            " prune_low_magnitude_block_  (None, 4, 4, 160)            641       ['prune_low_magnitude_block_15\n",
            " 15_project_BN (PruneLowMag                                         _project[0][0]']              \n",
            " nitude)                                                                                          \n",
            "                                                                                                  \n",
            " prune_low_magnitude_block_  (None, 4, 4, 160)            1         ['prune_low_magnitude_block_14\n",
            " 15_add (PruneLowMagnitude)                                         _add[0][0]',                  \n",
            "                                                                     'prune_low_magnitude_block_15\n",
            "                                                                    _project_BN[0][0]']           \n",
            "                                                                                                  \n",
            " prune_low_magnitude_block_  (None, 4, 4, 960)            307202    ['prune_low_magnitude_block_15\n",
            " 16_expand (PruneLowMagnitu                                         _add[0][0]']                  \n",
            " de)                                                                                              \n",
            "                                                                                                  \n",
            " prune_low_magnitude_block_  (None, 4, 4, 960)            3841      ['prune_low_magnitude_block_16\n",
            " 16_expand_BN (PruneLowMagn                                         _expand[0][0]']               \n",
            " itude)                                                                                           \n",
            "                                                                                                  \n",
            " prune_low_magnitude_block_  (None, 4, 4, 960)            1         ['prune_low_magnitude_block_16\n",
            " 16_expand_relu (PruneLowMa                                         _expand_BN[0][0]']            \n",
            " gnitude)                                                                                         \n",
            "                                                                                                  \n",
            " prune_low_magnitude_block_  (None, 4, 4, 960)            8641      ['prune_low_magnitude_block_16\n",
            " 16_depthwise (PruneLowMagn                                         _expand_relu[0][0]']          \n",
            " itude)                                                                                           \n",
            "                                                                                                  \n",
            " prune_low_magnitude_block_  (None, 4, 4, 960)            3841      ['prune_low_magnitude_block_16\n",
            " 16_depthwise_BN (PruneLowM                                         _depthwise[0][0]']            \n",
            " agnitude)                                                                                        \n",
            "                                                                                                  \n",
            " prune_low_magnitude_block_  (None, 4, 4, 960)            1         ['prune_low_magnitude_block_16\n",
            " 16_depthwise_relu (PruneLo                                         _depthwise_BN[0][0]']         \n",
            " wMagnitude)                                                                                      \n",
            "                                                                                                  \n",
            " prune_low_magnitude_block_  (None, 4, 4, 320)            614402    ['prune_low_magnitude_block_16\n",
            " 16_project (PruneLowMagnit                                         _depthwise_relu[0][0]']       \n",
            " ude)                                                                                             \n",
            "                                                                                                  \n",
            " prune_low_magnitude_block_  (None, 4, 4, 320)            102402    ['prune_low_magnitude_block_15\n",
            " 16_adjust (PruneLowMagnitu                                         _add[0][0]']                  \n",
            " de)                                                                                              \n",
            "                                                                                                  \n",
            " prune_low_magnitude_block_  (None, 4, 4, 320)            1281      ['prune_low_magnitude_block_16\n",
            " 16_project_BN (PruneLowMag                                         _project[0][0]']              \n",
            " nitude)                                                                                          \n",
            "                                                                                                  \n",
            " prune_low_magnitude_block_  (None, 4, 4, 320)            1         ['prune_low_magnitude_block_16\n",
            " 16_add (PruneLowMagnitude)                                         _adjust[0][0]',               \n",
            "                                                                     'prune_low_magnitude_block_16\n",
            "                                                                    _project_BN[0][0]']           \n",
            "                                                                                                  \n",
            " prune_low_magnitude_Conv_1  (None, 4, 4, 1280)           819202    ['prune_low_magnitude_block_16\n",
            "  (PruneLowMagnitude)                                               _add[0][0]']                  \n",
            "                                                                                                  \n",
            " prune_low_magnitude_Conv_1  (None, 4, 4, 1280)           5121      ['prune_low_magnitude_Conv_1[0\n",
            " _bn (PruneLowMagnitude)                                            ][0]']                        \n",
            "                                                                                                  \n",
            " prune_low_magnitude_out_re  (None, 4, 4, 1280)           1         ['prune_low_magnitude_Conv_1_b\n",
            " lu (PruneLowMagnitude)                                             n[0][0]']                     \n",
            "                                                                                                  \n",
            " prune_low_magnitude_global  (None, 1280)                 1         ['prune_low_magnitude_out_relu\n",
            " _average_pooling2d (PruneL                                         [0][0]']                      \n",
            " owMagnitude)                                                                                     \n",
            "                                                                                                  \n",
            " prune_low_magnitude_predic  (None, 10)                   25612     ['prune_low_magnitude_global_a\n",
            " tions (PruneLowMagnitude)                                          verage_pooling2d[0][0]']      \n",
            "                                                                                                  \n",
            "==================================================================================================\n",
            "Total params: 4527989 (17.27 MB)\n",
            "Trainable params: 2296010 (8.76 MB)\n",
            "Non-trainable params: 2231979 (8.51 MB)\n",
            "__________________________________________________________________________________________________\n"
          ]
        }
      ],
      "source": [
        "model_for_pruning.summary()"
      ]
    },
    {
      "cell_type": "code",
      "execution_count": null,
      "metadata": {
        "colab": {
          "base_uri": "https://localhost:8080/"
        },
        "id": "EE9YUc7tPj4K",
        "outputId": "19a4c083-c6c5-4f40-aeb6-41d26baba977"
      },
      "outputs": [
        {
          "name": "stderr",
          "output_type": "stream",
          "text": [
            "<ipython-input-16-672c4e65d1d9>:1: UserWarning: You are saving your model as an HDF5 file via `model.save()`. This file format is considered legacy. We recommend using instead the native Keras format, e.g. `model.save('my_model.keras')`.\n",
            "  tf.keras.models.save_model(model_for_pruning, \"model_for_pruning80.h5\", include_optimizer=False)\n"
          ]
        },
        {
          "name": "stdout",
          "output_type": "stream",
          "text": [
            "Total params: 4527989\n",
            "79/79 [==============================] - 1s 12ms/step - loss: 0.2953 - accuracy: 0.9046\n"
          ]
        },
        {
          "data": {
            "text/plain": [
              "[0.2952952980995178, 0.9046000242233276]"
            ]
          },
          "execution_count": 16,
          "metadata": {},
          "output_type": "execute_result"
        }
      ],
      "source": [
        "tf.keras.models.save_model(model_for_pruning, \"model_for_pruning80.h5\", include_optimizer=False)\n",
        "\n",
        "hist_for_pruning80 = model_for_pruning.history.history\n",
        "\n",
        "import pandas as pd\n",
        "\n",
        "df = pd.DataFrame(hist_for_pruning80)\n",
        "df.to_csv('hist_for_pruning80.csv', index=False)\n",
        "\n",
        "print(f\"Total params: {model_for_pruning.count_params()}\")\n",
        "model_for_pruning.evaluate(test_data)"
      ]
    },
    {
      "cell_type": "code",
      "execution_count": null,
      "metadata": {
        "colab": {
          "base_uri": "https://localhost:8080/"
        },
        "id": "RWodrIvrFwRs",
        "outputId": "c7f89205-8c2d-4688-deef-e1d5ad1e4119"
      },
      "outputs": [
        {
          "name": "stderr",
          "output_type": "stream",
          "text": [
            "<ipython-input-18-361131d00e51>:7: UserWarning: You are saving your model as an HDF5 file via `model.save()`. This file format is considered legacy. We recommend using instead the native Keras format, e.g. `model.save('my_model.keras')`.\n",
            "  tf.keras.models.save_model(model_for_export, \"model_pruned80.h5\", include_optimizer=False)\n",
            "WARNING:tensorflow:Compiled the loaded model, but the compiled metrics have yet to be built. `model.compile_metrics` will be empty until you train or evaluate the model.\n"
          ]
        }
      ],
      "source": [
        "model_for_export = tfmot.sparsity.keras.strip_pruning(model_for_pruning)\n",
        "# model_for_export.compile(optimizer=SGD(learning_rate=0.1, momentum=0.9, weight_decay=0.0, nesterov=False), #'adam',\n",
        "#               loss=tf.keras.losses.SparseCategoricalCrossentropy(from_logits=True),\n",
        "#               metrics=['accuracy'])\n",
        "# model_for_export.evaluate(test_data)\n",
        "\n",
        "tf.keras.models.save_model(model_for_export, \"model_pruned80.h5\", include_optimizer=False)"
      ]
    },
    {
      "cell_type": "code",
      "execution_count": null,
      "metadata": {
        "colab": {
          "base_uri": "https://localhost:8080/"
        },
        "id": "MPsNTNfvGqoc",
        "outputId": "4b36fed5-3679-4612-972c-1ac065fbae27"
      },
      "outputs": [
        {
          "name": "stdout",
          "output_type": "stream",
          "text": [
            "Model: \"model\"\n",
            "__________________________________________________________________________________________________\n",
            " Layer (type)                Output Shape                 Param #   Connected to                  \n",
            "==================================================================================================\n",
            " input_1 (InputLayer)        [(None, 32, 32, 3)]          0         []                            \n",
            "                                                                                                  \n",
            " Conv1 (Conv2D)              (None, 32, 32, 32)           864       ['input_1[0][0]']             \n",
            "                                                                                                  \n",
            " bn_Conv1 (BatchNormalizati  (None, 32, 32, 32)           128       ['Conv1[1][0]']               \n",
            " on)                                                                                              \n",
            "                                                                                                  \n",
            " Conv1_relu (ReLU)           (None, 32, 32, 32)           0         ['bn_Conv1[1][0]']            \n",
            "                                                                                                  \n",
            " block_0_expand (Conv2D)     (None, 32, 32, 32)           1024      ['Conv1_relu[1][0]']          \n",
            "                                                                                                  \n",
            " block_0_expand_BN (BatchNo  (None, 32, 32, 32)           128       ['block_0_expand[1][0]']      \n",
            " rmalization)                                                                                     \n",
            "                                                                                                  \n",
            " block_0_expand_relu (ReLU)  (None, 32, 32, 32)           0         ['block_0_expand_BN[1][0]']   \n",
            "                                                                                                  \n",
            " block_0_depthwise (Depthwi  (None, 32, 32, 32)           288       ['block_0_expand_relu[1][0]'] \n",
            " seConv2D)                                                                                        \n",
            "                                                                                                  \n",
            " block_0_depthwise_BN (Batc  (None, 32, 32, 32)           128       ['block_0_depthwise[1][0]']   \n",
            " hNormalization)                                                                                  \n",
            "                                                                                                  \n",
            " block_0_depthwise_relu (Re  (None, 32, 32, 32)           0         ['block_0_depthwise_BN[1][0]']\n",
            " LU)                                                                                              \n",
            "                                                                                                  \n",
            " block_0_project (Conv2D)    (None, 32, 32, 16)           512       ['block_0_depthwise_relu[1][0]\n",
            "                                                                    ']                            \n",
            "                                                                                                  \n",
            " block_0_adjust (Conv2D)     (None, 32, 32, 16)           512       ['Conv1_relu[1][0]']          \n",
            "                                                                                                  \n",
            " block_0_project_BN (BatchN  (None, 32, 32, 16)           64        ['block_0_project[1][0]']     \n",
            " ormalization)                                                                                    \n",
            "                                                                                                  \n",
            " block_0_add (Add)           (None, 32, 32, 16)           0         ['block_0_adjust[1][0]',      \n",
            "                                                                     'block_0_project_BN[1][0]']  \n",
            "                                                                                                  \n",
            " block_1_expand (Conv2D)     (None, 32, 32, 96)           1536      ['block_0_add[1][0]']         \n",
            "                                                                                                  \n",
            " block_1_expand_BN (BatchNo  (None, 32, 32, 96)           384       ['block_1_expand[1][0]']      \n",
            " rmalization)                                                                                     \n",
            "                                                                                                  \n",
            " block_1_expand_relu (ReLU)  (None, 32, 32, 96)           0         ['block_1_expand_BN[1][0]']   \n",
            "                                                                                                  \n",
            " block_1_depthwise (Depthwi  (None, 32, 32, 96)           864       ['block_1_expand_relu[1][0]'] \n",
            " seConv2D)                                                                                        \n",
            "                                                                                                  \n",
            " block_1_depthwise_BN (Batc  (None, 32, 32, 96)           384       ['block_1_depthwise[1][0]']   \n",
            " hNormalization)                                                                                  \n",
            "                                                                                                  \n",
            " block_1_depthwise_relu (Re  (None, 32, 32, 96)           0         ['block_1_depthwise_BN[1][0]']\n",
            " LU)                                                                                              \n",
            "                                                                                                  \n",
            " block_1_project (Conv2D)    (None, 32, 32, 24)           2304      ['block_1_depthwise_relu[1][0]\n",
            "                                                                    ']                            \n",
            "                                                                                                  \n",
            " block_1_adjust (Conv2D)     (None, 32, 32, 24)           384       ['block_0_add[1][0]']         \n",
            "                                                                                                  \n",
            " block_1_project_BN (BatchN  (None, 32, 32, 24)           96        ['block_1_project[1][0]']     \n",
            " ormalization)                                                                                    \n",
            "                                                                                                  \n",
            " block_1_add (Add)           (None, 32, 32, 24)           0         ['block_1_adjust[1][0]',      \n",
            "                                                                     'block_1_project_BN[1][0]']  \n",
            "                                                                                                  \n",
            " block_2_expand (Conv2D)     (None, 32, 32, 144)          3456      ['block_1_add[1][0]']         \n",
            "                                                                                                  \n",
            " block_2_expand_BN (BatchNo  (None, 32, 32, 144)          576       ['block_2_expand[1][0]']      \n",
            " rmalization)                                                                                     \n",
            "                                                                                                  \n",
            " block_2_expand_relu (ReLU)  (None, 32, 32, 144)          0         ['block_2_expand_BN[1][0]']   \n",
            "                                                                                                  \n",
            " block_2_depthwise (Depthwi  (None, 32, 32, 144)          1296      ['block_2_expand_relu[1][0]'] \n",
            " seConv2D)                                                                                        \n",
            "                                                                                                  \n",
            " block_2_depthwise_BN (Batc  (None, 32, 32, 144)          576       ['block_2_depthwise[1][0]']   \n",
            " hNormalization)                                                                                  \n",
            "                                                                                                  \n",
            " block_2_depthwise_relu (Re  (None, 32, 32, 144)          0         ['block_2_depthwise_BN[1][0]']\n",
            " LU)                                                                                              \n",
            "                                                                                                  \n",
            " block_2_project (Conv2D)    (None, 32, 32, 24)           3456      ['block_2_depthwise_relu[1][0]\n",
            "                                                                    ']                            \n",
            "                                                                                                  \n",
            " block_2_project_BN (BatchN  (None, 32, 32, 24)           96        ['block_2_project[1][0]']     \n",
            " ormalization)                                                                                    \n",
            "                                                                                                  \n",
            " block_2_add (Add)           (None, 32, 32, 24)           0         ['block_1_add[1][0]',         \n",
            "                                                                     'block_2_project_BN[1][0]']  \n",
            "                                                                                                  \n",
            " block_3_expand (Conv2D)     (None, 32, 32, 144)          3456      ['block_2_add[1][0]']         \n",
            "                                                                                                  \n",
            " block_3_expand_BN (BatchNo  (None, 32, 32, 144)          576       ['block_3_expand[1][0]']      \n",
            " rmalization)                                                                                     \n",
            "                                                                                                  \n",
            " block_3_expand_relu (ReLU)  (None, 32, 32, 144)          0         ['block_3_expand_BN[1][0]']   \n",
            "                                                                                                  \n",
            " block_3_depthwise (Depthwi  (None, 16, 16, 144)          1296      ['block_3_expand_relu[1][0]'] \n",
            " seConv2D)                                                                                        \n",
            "                                                                                                  \n",
            " block_3_depthwise_BN (Batc  (None, 16, 16, 144)          576       ['block_3_depthwise[1][0]']   \n",
            " hNormalization)                                                                                  \n",
            "                                                                                                  \n",
            " block_3_depthwise_relu (Re  (None, 16, 16, 144)          0         ['block_3_depthwise_BN[1][0]']\n",
            " LU)                                                                                              \n",
            "                                                                                                  \n",
            " block_3_project (Conv2D)    (None, 16, 16, 32)           4608      ['block_3_depthwise_relu[1][0]\n",
            "                                                                    ']                            \n",
            "                                                                                                  \n",
            " block_3_project_BN (BatchN  (None, 16, 16, 32)           128       ['block_3_project[1][0]']     \n",
            " ormalization)                                                                                    \n",
            "                                                                                                  \n",
            " block_4_expand (Conv2D)     (None, 16, 16, 192)          6144      ['block_3_project_BN[1][0]']  \n",
            "                                                                                                  \n",
            " block_4_expand_BN (BatchNo  (None, 16, 16, 192)          768       ['block_4_expand[1][0]']      \n",
            " rmalization)                                                                                     \n",
            "                                                                                                  \n",
            " block_4_expand_relu (ReLU)  (None, 16, 16, 192)          0         ['block_4_expand_BN[1][0]']   \n",
            "                                                                                                  \n",
            " block_4_depthwise (Depthwi  (None, 16, 16, 192)          1728      ['block_4_expand_relu[1][0]'] \n",
            " seConv2D)                                                                                        \n",
            "                                                                                                  \n",
            " block_4_depthwise_BN (Batc  (None, 16, 16, 192)          768       ['block_4_depthwise[1][0]']   \n",
            " hNormalization)                                                                                  \n",
            "                                                                                                  \n",
            " block_4_depthwise_relu (Re  (None, 16, 16, 192)          0         ['block_4_depthwise_BN[1][0]']\n",
            " LU)                                                                                              \n",
            "                                                                                                  \n",
            " block_4_project (Conv2D)    (None, 16, 16, 32)           6144      ['block_4_depthwise_relu[1][0]\n",
            "                                                                    ']                            \n",
            "                                                                                                  \n",
            " block_4_project_BN (BatchN  (None, 16, 16, 32)           128       ['block_4_project[1][0]']     \n",
            " ormalization)                                                                                    \n",
            "                                                                                                  \n",
            " block_4_add (Add)           (None, 16, 16, 32)           0         ['block_3_project_BN[1][0]',  \n",
            "                                                                     'block_4_project_BN[1][0]']  \n",
            "                                                                                                  \n",
            " block_5_expand (Conv2D)     (None, 16, 16, 192)          6144      ['block_4_add[1][0]']         \n",
            "                                                                                                  \n",
            " block_5_expand_BN (BatchNo  (None, 16, 16, 192)          768       ['block_5_expand[1][0]']      \n",
            " rmalization)                                                                                     \n",
            "                                                                                                  \n",
            " block_5_expand_relu (ReLU)  (None, 16, 16, 192)          0         ['block_5_expand_BN[1][0]']   \n",
            "                                                                                                  \n",
            " block_5_depthwise (Depthwi  (None, 16, 16, 192)          1728      ['block_5_expand_relu[1][0]'] \n",
            " seConv2D)                                                                                        \n",
            "                                                                                                  \n",
            " block_5_depthwise_BN (Batc  (None, 16, 16, 192)          768       ['block_5_depthwise[1][0]']   \n",
            " hNormalization)                                                                                  \n",
            "                                                                                                  \n",
            " block_5_depthwise_relu (Re  (None, 16, 16, 192)          0         ['block_5_depthwise_BN[1][0]']\n",
            " LU)                                                                                              \n",
            "                                                                                                  \n",
            " block_5_project (Conv2D)    (None, 16, 16, 32)           6144      ['block_5_depthwise_relu[1][0]\n",
            "                                                                    ']                            \n",
            "                                                                                                  \n",
            " block_5_project_BN (BatchN  (None, 16, 16, 32)           128       ['block_5_project[1][0]']     \n",
            " ormalization)                                                                                    \n",
            "                                                                                                  \n",
            " block_5_add (Add)           (None, 16, 16, 32)           0         ['block_4_add[1][0]',         \n",
            "                                                                     'block_5_project_BN[1][0]']  \n",
            "                                                                                                  \n",
            " block_6_expand (Conv2D)     (None, 16, 16, 192)          6144      ['block_5_add[1][0]']         \n",
            "                                                                                                  \n",
            " block_6_expand_BN (BatchNo  (None, 16, 16, 192)          768       ['block_6_expand[1][0]']      \n",
            " rmalization)                                                                                     \n",
            "                                                                                                  \n",
            " block_6_expand_relu (ReLU)  (None, 16, 16, 192)          0         ['block_6_expand_BN[1][0]']   \n",
            "                                                                                                  \n",
            " block_6_depthwise (Depthwi  (None, 8, 8, 192)            1728      ['block_6_expand_relu[1][0]'] \n",
            " seConv2D)                                                                                        \n",
            "                                                                                                  \n",
            " block_6_depthwise_BN (Batc  (None, 8, 8, 192)            768       ['block_6_depthwise[1][0]']   \n",
            " hNormalization)                                                                                  \n",
            "                                                                                                  \n",
            " block_6_depthwise_relu (Re  (None, 8, 8, 192)            0         ['block_6_depthwise_BN[1][0]']\n",
            " LU)                                                                                              \n",
            "                                                                                                  \n",
            " block_6_project (Conv2D)    (None, 8, 8, 64)             12288     ['block_6_depthwise_relu[1][0]\n",
            "                                                                    ']                            \n",
            "                                                                                                  \n",
            " block_6_project_BN (BatchN  (None, 8, 8, 64)             256       ['block_6_project[1][0]']     \n",
            " ormalization)                                                                                    \n",
            "                                                                                                  \n",
            " block_7_expand (Conv2D)     (None, 8, 8, 384)            24576     ['block_6_project_BN[1][0]']  \n",
            "                                                                                                  \n",
            " block_7_expand_BN (BatchNo  (None, 8, 8, 384)            1536      ['block_7_expand[1][0]']      \n",
            " rmalization)                                                                                     \n",
            "                                                                                                  \n",
            " block_7_expand_relu (ReLU)  (None, 8, 8, 384)            0         ['block_7_expand_BN[1][0]']   \n",
            "                                                                                                  \n",
            " block_7_depthwise (Depthwi  (None, 8, 8, 384)            3456      ['block_7_expand_relu[1][0]'] \n",
            " seConv2D)                                                                                        \n",
            "                                                                                                  \n",
            " block_7_depthwise_BN (Batc  (None, 8, 8, 384)            1536      ['block_7_depthwise[1][0]']   \n",
            " hNormalization)                                                                                  \n",
            "                                                                                                  \n",
            " block_7_depthwise_relu (Re  (None, 8, 8, 384)            0         ['block_7_depthwise_BN[1][0]']\n",
            " LU)                                                                                              \n",
            "                                                                                                  \n",
            " block_7_project (Conv2D)    (None, 8, 8, 64)             24576     ['block_7_depthwise_relu[1][0]\n",
            "                                                                    ']                            \n",
            "                                                                                                  \n",
            " block_7_project_BN (BatchN  (None, 8, 8, 64)             256       ['block_7_project[1][0]']     \n",
            " ormalization)                                                                                    \n",
            "                                                                                                  \n",
            " block_7_add (Add)           (None, 8, 8, 64)             0         ['block_6_project_BN[1][0]',  \n",
            "                                                                     'block_7_project_BN[1][0]']  \n",
            "                                                                                                  \n",
            " block_8_expand (Conv2D)     (None, 8, 8, 384)            24576     ['block_7_add[1][0]']         \n",
            "                                                                                                  \n",
            " block_8_expand_BN (BatchNo  (None, 8, 8, 384)            1536      ['block_8_expand[1][0]']      \n",
            " rmalization)                                                                                     \n",
            "                                                                                                  \n",
            " block_8_expand_relu (ReLU)  (None, 8, 8, 384)            0         ['block_8_expand_BN[1][0]']   \n",
            "                                                                                                  \n",
            " block_8_depthwise (Depthwi  (None, 8, 8, 384)            3456      ['block_8_expand_relu[1][0]'] \n",
            " seConv2D)                                                                                        \n",
            "                                                                                                  \n",
            " block_8_depthwise_BN (Batc  (None, 8, 8, 384)            1536      ['block_8_depthwise[1][0]']   \n",
            " hNormalization)                                                                                  \n",
            "                                                                                                  \n",
            " block_8_depthwise_relu (Re  (None, 8, 8, 384)            0         ['block_8_depthwise_BN[1][0]']\n",
            " LU)                                                                                              \n",
            "                                                                                                  \n",
            " block_8_project (Conv2D)    (None, 8, 8, 64)             24576     ['block_8_depthwise_relu[1][0]\n",
            "                                                                    ']                            \n",
            "                                                                                                  \n",
            " block_8_project_BN (BatchN  (None, 8, 8, 64)             256       ['block_8_project[1][0]']     \n",
            " ormalization)                                                                                    \n",
            "                                                                                                  \n",
            " block_8_add (Add)           (None, 8, 8, 64)             0         ['block_7_add[1][0]',         \n",
            "                                                                     'block_8_project_BN[1][0]']  \n",
            "                                                                                                  \n",
            " block_9_expand (Conv2D)     (None, 8, 8, 384)            24576     ['block_8_add[1][0]']         \n",
            "                                                                                                  \n",
            " block_9_expand_BN (BatchNo  (None, 8, 8, 384)            1536      ['block_9_expand[1][0]']      \n",
            " rmalization)                                                                                     \n",
            "                                                                                                  \n",
            " block_9_expand_relu (ReLU)  (None, 8, 8, 384)            0         ['block_9_expand_BN[1][0]']   \n",
            "                                                                                                  \n",
            " block_9_depthwise (Depthwi  (None, 8, 8, 384)            3456      ['block_9_expand_relu[1][0]'] \n",
            " seConv2D)                                                                                        \n",
            "                                                                                                  \n",
            " block_9_depthwise_BN (Batc  (None, 8, 8, 384)            1536      ['block_9_depthwise[1][0]']   \n",
            " hNormalization)                                                                                  \n",
            "                                                                                                  \n",
            " block_9_depthwise_relu (Re  (None, 8, 8, 384)            0         ['block_9_depthwise_BN[1][0]']\n",
            " LU)                                                                                              \n",
            "                                                                                                  \n",
            " block_9_project (Conv2D)    (None, 8, 8, 64)             24576     ['block_9_depthwise_relu[1][0]\n",
            "                                                                    ']                            \n",
            "                                                                                                  \n",
            " block_9_project_BN (BatchN  (None, 8, 8, 64)             256       ['block_9_project[1][0]']     \n",
            " ormalization)                                                                                    \n",
            "                                                                                                  \n",
            " block_9_add (Add)           (None, 8, 8, 64)             0         ['block_8_add[1][0]',         \n",
            "                                                                     'block_9_project_BN[1][0]']  \n",
            "                                                                                                  \n",
            " block_10_expand (Conv2D)    (None, 8, 8, 384)            24576     ['block_9_add[1][0]']         \n",
            "                                                                                                  \n",
            " block_10_expand_BN (BatchN  (None, 8, 8, 384)            1536      ['block_10_expand[1][0]']     \n",
            " ormalization)                                                                                    \n",
            "                                                                                                  \n",
            " block_10_expand_relu (ReLU  (None, 8, 8, 384)            0         ['block_10_expand_BN[1][0]']  \n",
            " )                                                                                                \n",
            "                                                                                                  \n",
            " block_10_depthwise (Depthw  (None, 8, 8, 384)            3456      ['block_10_expand_relu[1][0]']\n",
            " iseConv2D)                                                                                       \n",
            "                                                                                                  \n",
            " block_10_depthwise_BN (Bat  (None, 8, 8, 384)            1536      ['block_10_depthwise[1][0]']  \n",
            " chNormalization)                                                                                 \n",
            "                                                                                                  \n",
            " block_10_depthwise_relu (R  (None, 8, 8, 384)            0         ['block_10_depthwise_BN[1][0]'\n",
            " eLU)                                                               ]                             \n",
            "                                                                                                  \n",
            " block_10_project (Conv2D)   (None, 8, 8, 96)             36864     ['block_10_depthwise_relu[1][0\n",
            "                                                                    ]']                           \n",
            "                                                                                                  \n",
            " block_10_adjust (Conv2D)    (None, 8, 8, 96)             6144      ['block_9_add[1][0]']         \n",
            "                                                                                                  \n",
            " block_10_project_BN (Batch  (None, 8, 8, 96)             384       ['block_10_project[1][0]']    \n",
            " Normalization)                                                                                   \n",
            "                                                                                                  \n",
            " block_10_add (Add)          (None, 8, 8, 96)             0         ['block_10_adjust[1][0]',     \n",
            "                                                                     'block_10_project_BN[1][0]'] \n",
            "                                                                                                  \n",
            " block_11_expand (Conv2D)    (None, 8, 8, 576)            55296     ['block_10_add[1][0]']        \n",
            "                                                                                                  \n",
            " block_11_expand_BN (BatchN  (None, 8, 8, 576)            2304      ['block_11_expand[1][0]']     \n",
            " ormalization)                                                                                    \n",
            "                                                                                                  \n",
            " block_11_expand_relu (ReLU  (None, 8, 8, 576)            0         ['block_11_expand_BN[1][0]']  \n",
            " )                                                                                                \n",
            "                                                                                                  \n",
            " block_11_depthwise (Depthw  (None, 8, 8, 576)            5184      ['block_11_expand_relu[1][0]']\n",
            " iseConv2D)                                                                                       \n",
            "                                                                                                  \n",
            " block_11_depthwise_BN (Bat  (None, 8, 8, 576)            2304      ['block_11_depthwise[1][0]']  \n",
            " chNormalization)                                                                                 \n",
            "                                                                                                  \n",
            " block_11_depthwise_relu (R  (None, 8, 8, 576)            0         ['block_11_depthwise_BN[1][0]'\n",
            " eLU)                                                               ]                             \n",
            "                                                                                                  \n",
            " block_11_project (Conv2D)   (None, 8, 8, 96)             55296     ['block_11_depthwise_relu[1][0\n",
            "                                                                    ]']                           \n",
            "                                                                                                  \n",
            " block_11_project_BN (Batch  (None, 8, 8, 96)             384       ['block_11_project[1][0]']    \n",
            " Normalization)                                                                                   \n",
            "                                                                                                  \n",
            " block_11_add (Add)          (None, 8, 8, 96)             0         ['block_10_add[1][0]',        \n",
            "                                                                     'block_11_project_BN[1][0]'] \n",
            "                                                                                                  \n",
            " block_12_expand (Conv2D)    (None, 8, 8, 576)            55296     ['block_11_add[1][0]']        \n",
            "                                                                                                  \n",
            " block_12_expand_BN (BatchN  (None, 8, 8, 576)            2304      ['block_12_expand[1][0]']     \n",
            " ormalization)                                                                                    \n",
            "                                                                                                  \n",
            " block_12_expand_relu (ReLU  (None, 8, 8, 576)            0         ['block_12_expand_BN[1][0]']  \n",
            " )                                                                                                \n",
            "                                                                                                  \n",
            " block_12_depthwise (Depthw  (None, 8, 8, 576)            5184      ['block_12_expand_relu[1][0]']\n",
            " iseConv2D)                                                                                       \n",
            "                                                                                                  \n",
            " block_12_depthwise_BN (Bat  (None, 8, 8, 576)            2304      ['block_12_depthwise[1][0]']  \n",
            " chNormalization)                                                                                 \n",
            "                                                                                                  \n",
            " block_12_depthwise_relu (R  (None, 8, 8, 576)            0         ['block_12_depthwise_BN[1][0]'\n",
            " eLU)                                                               ]                             \n",
            "                                                                                                  \n",
            " block_12_project (Conv2D)   (None, 8, 8, 96)             55296     ['block_12_depthwise_relu[1][0\n",
            "                                                                    ]']                           \n",
            "                                                                                                  \n",
            " block_12_project_BN (Batch  (None, 8, 8, 96)             384       ['block_12_project[1][0]']    \n",
            " Normalization)                                                                                   \n",
            "                                                                                                  \n",
            " block_12_add (Add)          (None, 8, 8, 96)             0         ['block_11_add[1][0]',        \n",
            "                                                                     'block_12_project_BN[1][0]'] \n",
            "                                                                                                  \n",
            " block_13_expand (Conv2D)    (None, 8, 8, 576)            55296     ['block_12_add[1][0]']        \n",
            "                                                                                                  \n",
            " block_13_expand_BN (BatchN  (None, 8, 8, 576)            2304      ['block_13_expand[1][0]']     \n",
            " ormalization)                                                                                    \n",
            "                                                                                                  \n",
            " block_13_expand_relu (ReLU  (None, 8, 8, 576)            0         ['block_13_expand_BN[1][0]']  \n",
            " )                                                                                                \n",
            "                                                                                                  \n",
            " block_13_depthwise (Depthw  (None, 4, 4, 576)            5184      ['block_13_expand_relu[1][0]']\n",
            " iseConv2D)                                                                                       \n",
            "                                                                                                  \n",
            " block_13_depthwise_BN (Bat  (None, 4, 4, 576)            2304      ['block_13_depthwise[1][0]']  \n",
            " chNormalization)                                                                                 \n",
            "                                                                                                  \n",
            " block_13_depthwise_relu (R  (None, 4, 4, 576)            0         ['block_13_depthwise_BN[1][0]'\n",
            " eLU)                                                               ]                             \n",
            "                                                                                                  \n",
            " block_13_project (Conv2D)   (None, 4, 4, 160)            92160     ['block_13_depthwise_relu[1][0\n",
            "                                                                    ]']                           \n",
            "                                                                                                  \n",
            " block_13_project_BN (Batch  (None, 4, 4, 160)            640       ['block_13_project[1][0]']    \n",
            " Normalization)                                                                                   \n",
            "                                                                                                  \n",
            " block_14_expand (Conv2D)    (None, 4, 4, 960)            153600    ['block_13_project_BN[1][0]'] \n",
            "                                                                                                  \n",
            " block_14_expand_BN (BatchN  (None, 4, 4, 960)            3840      ['block_14_expand[1][0]']     \n",
            " ormalization)                                                                                    \n",
            "                                                                                                  \n",
            " block_14_expand_relu (ReLU  (None, 4, 4, 960)            0         ['block_14_expand_BN[1][0]']  \n",
            " )                                                                                                \n",
            "                                                                                                  \n",
            " block_14_depthwise (Depthw  (None, 4, 4, 960)            8640      ['block_14_expand_relu[1][0]']\n",
            " iseConv2D)                                                                                       \n",
            "                                                                                                  \n",
            " block_14_depthwise_BN (Bat  (None, 4, 4, 960)            3840      ['block_14_depthwise[1][0]']  \n",
            " chNormalization)                                                                                 \n",
            "                                                                                                  \n",
            " block_14_depthwise_relu (R  (None, 4, 4, 960)            0         ['block_14_depthwise_BN[1][0]'\n",
            " eLU)                                                               ]                             \n",
            "                                                                                                  \n",
            " block_14_project (Conv2D)   (None, 4, 4, 160)            153600    ['block_14_depthwise_relu[1][0\n",
            "                                                                    ]']                           \n",
            "                                                                                                  \n",
            " block_14_project_BN (Batch  (None, 4, 4, 160)            640       ['block_14_project[1][0]']    \n",
            " Normalization)                                                                                   \n",
            "                                                                                                  \n",
            " block_14_add (Add)          (None, 4, 4, 160)            0         ['block_13_project_BN[1][0]', \n",
            "                                                                     'block_14_project_BN[1][0]'] \n",
            "                                                                                                  \n",
            " block_15_expand (Conv2D)    (None, 4, 4, 960)            153600    ['block_14_add[1][0]']        \n",
            "                                                                                                  \n",
            " block_15_expand_BN (BatchN  (None, 4, 4, 960)            3840      ['block_15_expand[1][0]']     \n",
            " ormalization)                                                                                    \n",
            "                                                                                                  \n",
            " block_15_expand_relu (ReLU  (None, 4, 4, 960)            0         ['block_15_expand_BN[1][0]']  \n",
            " )                                                                                                \n",
            "                                                                                                  \n",
            " block_15_depthwise (Depthw  (None, 4, 4, 960)            8640      ['block_15_expand_relu[1][0]']\n",
            " iseConv2D)                                                                                       \n",
            "                                                                                                  \n",
            " block_15_depthwise_BN (Bat  (None, 4, 4, 960)            3840      ['block_15_depthwise[1][0]']  \n",
            " chNormalization)                                                                                 \n",
            "                                                                                                  \n",
            " block_15_depthwise_relu (R  (None, 4, 4, 960)            0         ['block_15_depthwise_BN[1][0]'\n",
            " eLU)                                                               ]                             \n",
            "                                                                                                  \n",
            " block_15_project (Conv2D)   (None, 4, 4, 160)            153600    ['block_15_depthwise_relu[1][0\n",
            "                                                                    ]']                           \n",
            "                                                                                                  \n",
            " block_15_project_BN (Batch  (None, 4, 4, 160)            640       ['block_15_project[1][0]']    \n",
            " Normalization)                                                                                   \n",
            "                                                                                                  \n",
            " block_15_add (Add)          (None, 4, 4, 160)            0         ['block_14_add[1][0]',        \n",
            "                                                                     'block_15_project_BN[1][0]'] \n",
            "                                                                                                  \n",
            " block_16_expand (Conv2D)    (None, 4, 4, 960)            153600    ['block_15_add[1][0]']        \n",
            "                                                                                                  \n",
            " block_16_expand_BN (BatchN  (None, 4, 4, 960)            3840      ['block_16_expand[1][0]']     \n",
            " ormalization)                                                                                    \n",
            "                                                                                                  \n",
            " block_16_expand_relu (ReLU  (None, 4, 4, 960)            0         ['block_16_expand_BN[1][0]']  \n",
            " )                                                                                                \n",
            "                                                                                                  \n",
            " block_16_depthwise (Depthw  (None, 4, 4, 960)            8640      ['block_16_expand_relu[1][0]']\n",
            " iseConv2D)                                                                                       \n",
            "                                                                                                  \n",
            " block_16_depthwise_BN (Bat  (None, 4, 4, 960)            3840      ['block_16_depthwise[1][0]']  \n",
            " chNormalization)                                                                                 \n",
            "                                                                                                  \n",
            " block_16_depthwise_relu (R  (None, 4, 4, 960)            0         ['block_16_depthwise_BN[1][0]'\n",
            " eLU)                                                               ]                             \n",
            "                                                                                                  \n",
            " block_16_project (Conv2D)   (None, 4, 4, 320)            307200    ['block_16_depthwise_relu[1][0\n",
            "                                                                    ]']                           \n",
            "                                                                                                  \n",
            " block_16_adjust (Conv2D)    (None, 4, 4, 320)            51200     ['block_15_add[1][0]']        \n",
            "                                                                                                  \n",
            " block_16_project_BN (Batch  (None, 4, 4, 320)            1280      ['block_16_project[1][0]']    \n",
            " Normalization)                                                                                   \n",
            "                                                                                                  \n",
            " block_16_add (Add)          (None, 4, 4, 320)            0         ['block_16_adjust[1][0]',     \n",
            "                                                                     'block_16_project_BN[1][0]'] \n",
            "                                                                                                  \n",
            " Conv_1 (Conv2D)             (None, 4, 4, 1280)           409600    ['block_16_add[1][0]']        \n",
            "                                                                                                  \n",
            " Conv_1_bn (BatchNormalizat  (None, 4, 4, 1280)           5120      ['Conv_1[1][0]']              \n",
            " ion)                                                                                             \n",
            "                                                                                                  \n",
            " out_relu (ReLU)             (None, 4, 4, 1280)           0         ['Conv_1_bn[1][0]']           \n",
            "                                                                                                  \n",
            " global_average_pooling2d (  (None, 1280)                 0         ['out_relu[1][0]']            \n",
            " GlobalAveragePooling2D)                                                                          \n",
            "                                                                                                  \n",
            " predictions (Dense)         (None, 10)                   12810     ['global_average_pooling2d[1][\n",
            "                                                                    0]']                          \n",
            "                                                                                                  \n",
            "==================================================================================================\n",
            "Total params: 2330186 (8.89 MB)\n",
            "Trainable params: 2296010 (8.76 MB)\n",
            "Non-trainable params: 34176 (133.50 KB)\n",
            "__________________________________________________________________________________________________\n"
          ]
        }
      ],
      "source": [
        "model_for_export.summary()"
      ]
    },
    {
      "cell_type": "code",
      "execution_count": null,
      "metadata": {
        "colab": {
          "base_uri": "https://localhost:8080/"
        },
        "id": "s3ajJUcWURpS",
        "outputId": "ea0a7631-67e5-4e1c-b02f-025c6d585596"
      },
      "outputs": [
        {
          "name": "stdout",
          "output_type": "stream",
          "text": [
            "Baseline model size (bytes): 8678813\n",
            "Model for pruning size (bytes): 3625837\n",
            "Pruned model (sparsity=0.8) size (bytes): 3142002\n"
          ]
        }
      ],
      "source": [
        "print(f\"Baseline model size (bytes): {get_gzipped_model_size('model_mobilenet.h5')}\")\n",
        "print(f\"Model for pruning size (bytes): {get_gzipped_model_size('model_for_pruning80.h5')}\")\n",
        "print(f\"Pruned model (sparsity=0.8) size (bytes): {get_gzipped_model_size('model_pruned80.h5')}\")"
      ]
    },
    {
      "cell_type": "code",
      "execution_count": null,
      "metadata": {
        "colab": {
          "base_uri": "https://localhost:8080/"
        },
        "id": "ekKF4nVKUnuX",
        "outputId": "ae7907af-7957-456a-c979-5d9fbce0e820"
      },
      "outputs": [
        {
          "name": "stdout",
          "output_type": "stream",
          "text": [
            "Baseline model size (bytes): 8678813\n",
            "Pruned model (sparsity=0.8) size (bytes): 3142002\n"
          ]
        }
      ],
      "source": [
        "print(f\"Baseline model size (bytes): {get_gzipped_model_size('model_mobilenet.h5')}\")\n",
        "#print(f\"Model for pruning size (bytes): {get_gzipped_model_size('model_for_pruning.h5')}\")\n",
        "print(f\"Pruned model (sparsity=0.8) size (bytes): {get_gzipped_model_size('model_pruned80.h5')}\")"
      ]
    },
    {
      "cell_type": "code",
      "execution_count": null,
      "metadata": {
        "colab": {
          "base_uri": "https://localhost:8080/"
        },
        "id": "PBFBOCGKmY0w",
        "outputId": "a01b64b9-60d0-4481-a8d8-cc3d4df92887"
      },
      "outputs": [
        {
          "name": "stdout",
          "output_type": "stream",
          "text": [
            "79/79 [==============================] - 1s 11ms/step - loss: 0.2953 - accuracy: 0.9046\n"
          ]
        },
        {
          "data": {
            "text/plain": [
              "[0.2952952980995178, 0.9046000242233276]"
            ]
          },
          "execution_count": 25,
          "metadata": {},
          "output_type": "execute_result"
        }
      ],
      "source": [
        "model_for_pruning.evaluate(test_data)"
      ]
    },
    {
      "cell_type": "code",
      "execution_count": null,
      "metadata": {
        "colab": {
          "base_uri": "https://localhost:8080/"
        },
        "id": "yZfAqDufdu9e",
        "outputId": "9d7f489b-4107-4116-ce56-758fd50f2845"
      },
      "outputs": [
        {
          "name": "stderr",
          "output_type": "stream",
          "text": [
            "WARNING:tensorflow:No training configuration found in the save file, so the model was *not* compiled. Compile it manually.\n"
          ]
        },
        {
          "name": "stdout",
          "output_type": "stream",
          "text": [
            "79/79 [==============================] - 10s 18ms/step - loss: 0.2421 - accuracy: 0.9289\n",
            "Total params: 2330186\n",
            "Epoch 1/12\n",
            "  6/391 [..............................] - ETA: 26s - loss: 0.1313 - accuracy: 0.9453"
          ]
        },
        {
          "name": "stderr",
          "output_type": "stream",
          "text": [
            "WARNING:tensorflow:Callback method `on_train_batch_end` is slow compared to the batch time (batch time: 0.0641s vs `on_train_batch_end` time: 0.1479s). Check your callbacks.\n"
          ]
        },
        {
          "name": "stdout",
          "output_type": "stream",
          "text": [
            "391/391 [==============================] - 99s 97ms/step - loss: 0.2674 - accuracy: 0.9031 - val_loss: 0.3419 - val_accuracy: 0.8905\n",
            "Epoch 2/12\n",
            "391/391 [==============================] - 45s 115ms/step - loss: 0.2684 - accuracy: 0.9043 - val_loss: 0.3726 - val_accuracy: 0.8844\n",
            "Epoch 3/12\n",
            "391/391 [==============================] - 27s 70ms/step - loss: 0.2704 - accuracy: 0.9050 - val_loss: 0.3118 - val_accuracy: 0.9009\n",
            "Epoch 4/12\n",
            "391/391 [==============================] - 27s 68ms/step - loss: 0.2688 - accuracy: 0.9042 - val_loss: 0.2979 - val_accuracy: 0.8997\n",
            "Epoch 5/12\n",
            "391/391 [==============================] - 27s 69ms/step - loss: 0.2615 - accuracy: 0.9069 - val_loss: 0.3660 - val_accuracy: 0.8855\n",
            "Epoch 6/12\n",
            "391/391 [==============================] - 27s 68ms/step - loss: 0.2612 - accuracy: 0.9073 - val_loss: 0.3207 - val_accuracy: 0.8958\n",
            "Epoch 7/12\n",
            "391/391 [==============================] - 27s 68ms/step - loss: 0.2536 - accuracy: 0.9100 - val_loss: 0.3101 - val_accuracy: 0.9015\n",
            "Epoch 8/12\n",
            "391/391 [==============================] - 27s 68ms/step - loss: 0.2440 - accuracy: 0.9130 - val_loss: 0.3130 - val_accuracy: 0.9028\n",
            "Epoch 9/12\n",
            "391/391 [==============================] - 27s 69ms/step - loss: 0.2442 - accuracy: 0.9122 - val_loss: 0.3203 - val_accuracy: 0.9014\n",
            "Epoch 10/12\n",
            "391/391 [==============================] - 27s 69ms/step - loss: 0.2332 - accuracy: 0.9172 - val_loss: 0.2879 - val_accuracy: 0.9085\n",
            "Epoch 11/12\n",
            "391/391 [==============================] - 27s 68ms/step - loss: 0.2190 - accuracy: 0.9218 - val_loss: 0.3030 - val_accuracy: 0.9043\n",
            "Epoch 12/12\n",
            "391/391 [==============================] - 27s 68ms/step - loss: 0.2158 - accuracy: 0.9238 - val_loss: 0.3015 - val_accuracy: 0.9059\n"
          ]
        },
        {
          "data": {
            "text/plain": [
              "<keras.src.callbacks.History at 0x7aa2e85a9a50>"
            ]
          },
          "execution_count": 8,
          "metadata": {},
          "output_type": "execute_result"
        }
      ],
      "source": [
        "# Sparsity 0.70\n",
        "model = tf.keras.models.load_model(\"model_mobilenet.h5\")\n",
        "model.compile(loss=SparseCategoricalCrossentropy(from_logits=True),\n",
        "              optimizer=SGD(learning_rate=0.1, momentum=0.9, weight_decay=0.0, nesterov=False),\n",
        "              metrics=['accuracy'])\n",
        "model.evaluate(test_data)\n",
        "print(f\"Total params: {model_mobilenet.count_params()}\")\n",
        "\n",
        "import tensorflow_model_optimization as tfmot\n",
        "import tempfile\n",
        "import os\n",
        "\n",
        "prune_low_magnitude = tfmot.sparsity.keras.prune_low_magnitude\n",
        "\n",
        "# Compute end step to finish pruning after 2 epochs.\n",
        "batch_size = 128\n",
        "epochs = 12\n",
        "#validation_split = 0.1 # 10% of training set will be used for validation set.\n",
        "\n",
        "num_images = x_train.shape[0] #* (1 - validation_split)\n",
        "end_step = np.ceil(num_images / batch_size).astype(np.int32) * epochs\n",
        "\n",
        "# Define model for pruning.\n",
        "pruning_params = {\n",
        "      'pruning_schedule': tfmot.sparsity.keras.PolynomialDecay(initial_sparsity=0.50,\n",
        "                                                               final_sparsity=0.70, #0.80,\n",
        "                                                               begin_step=0,\n",
        "                                                               end_step=end_step)\n",
        "}\n",
        "\n",
        "model_for_pruning = prune_low_magnitude(model, **pruning_params)\n",
        "\n",
        "# `prune_low_magnitude` requires a recompile.\n",
        "model_for_pruning.compile(optimizer=SGD(learning_rate=0.1, momentum=0.9, weight_decay=0.0, nesterov=False), #'adam',\n",
        "              loss=tf.keras.losses.SparseCategoricalCrossentropy(from_logits=True),\n",
        "              metrics=['accuracy'])\n",
        "\n",
        "logdir = \"./tfmot_logs\" #tempfile.mkdtemp()\n",
        "\n",
        "model_for_pruning.fit(train_data,\n",
        "                  epochs=epochs, validation_data=test_data, #validation_split=validation_split,\n",
        "                  callbacks=[tfmot.sparsity.keras.UpdatePruningStep(),\n",
        "                             tfmot.sparsity.keras.PruningSummaries(log_dir=logdir)]\n",
        "                      )"
      ]
    },
    {
      "cell_type": "code",
      "execution_count": null,
      "metadata": {
        "colab": {
          "base_uri": "https://localhost:8080/"
        },
        "id": "VJTRSZUWeZmm",
        "outputId": "8f167886-cae9-4cc0-85a9-a82d1f0b09f3"
      },
      "outputs": [
        {
          "name": "stdout",
          "output_type": "stream",
          "text": [
            "Model: \"model\"\n",
            "__________________________________________________________________________________________________\n",
            " Layer (type)                Output Shape                 Param #   Connected to                  \n",
            "==================================================================================================\n",
            " input_1 (InputLayer)        [(None, 32, 32, 3)]          0         []                            \n",
            "                                                                                                  \n",
            " prune_low_magnitude_Conv1   (None, 32, 32, 32)           1730      ['input_1[0][0]']             \n",
            " (PruneLowMagnitude)                                                                              \n",
            "                                                                                                  \n",
            " prune_low_magnitude_bn_Con  (None, 32, 32, 32)           129       ['prune_low_magnitude_Conv1[0]\n",
            " v1 (PruneLowMagnitude)                                             [0]']                         \n",
            "                                                                                                  \n",
            " prune_low_magnitude_Conv1_  (None, 32, 32, 32)           1         ['prune_low_magnitude_bn_Conv1\n",
            " relu (PruneLowMagnitude)                                           [0][0]']                      \n",
            "                                                                                                  \n",
            " prune_low_magnitude_block_  (None, 32, 32, 32)           2050      ['prune_low_magnitude_Conv1_re\n",
            " 0_expand (PruneLowMagnitud                                         lu[0][0]']                    \n",
            " e)                                                                                               \n",
            "                                                                                                  \n",
            " prune_low_magnitude_block_  (None, 32, 32, 32)           129       ['prune_low_magnitude_block_0_\n",
            " 0_expand_BN (PruneLowMagni                                         expand[0][0]']                \n",
            " tude)                                                                                            \n",
            "                                                                                                  \n",
            " prune_low_magnitude_block_  (None, 32, 32, 32)           1         ['prune_low_magnitude_block_0_\n",
            " 0_expand_relu (PruneLowMag                                         expand_BN[0][0]']             \n",
            " nitude)                                                                                          \n",
            "                                                                                                  \n",
            " prune_low_magnitude_block_  (None, 32, 32, 32)           289       ['prune_low_magnitude_block_0_\n",
            " 0_depthwise (PruneLowMagni                                         expand_relu[0][0]']           \n",
            " tude)                                                                                            \n",
            "                                                                                                  \n",
            " prune_low_magnitude_block_  (None, 32, 32, 32)           129       ['prune_low_magnitude_block_0_\n",
            " 0_depthwise_BN (PruneLowMa                                         depthwise[0][0]']             \n",
            " gnitude)                                                                                         \n",
            "                                                                                                  \n",
            " prune_low_magnitude_block_  (None, 32, 32, 32)           1         ['prune_low_magnitude_block_0_\n",
            " 0_depthwise_relu (PruneLow                                         depthwise_BN[0][0]']          \n",
            " Magnitude)                                                                                       \n",
            "                                                                                                  \n",
            " prune_low_magnitude_block_  (None, 32, 32, 16)           1026      ['prune_low_magnitude_block_0_\n",
            " 0_project (PruneLowMagnitu                                         depthwise_relu[0][0]']        \n",
            " de)                                                                                              \n",
            "                                                                                                  \n",
            " prune_low_magnitude_block_  (None, 32, 32, 16)           1026      ['prune_low_magnitude_Conv1_re\n",
            " 0_adjust (PruneLowMagnitud                                         lu[0][0]']                    \n",
            " e)                                                                                               \n",
            "                                                                                                  \n",
            " prune_low_magnitude_block_  (None, 32, 32, 16)           65        ['prune_low_magnitude_block_0_\n",
            " 0_project_BN (PruneLowMagn                                         project[0][0]']               \n",
            " itude)                                                                                           \n",
            "                                                                                                  \n",
            " prune_low_magnitude_block_  (None, 32, 32, 16)           1         ['prune_low_magnitude_block_0_\n",
            " 0_add (PruneLowMagnitude)                                          adjust[0][0]',                \n",
            "                                                                     'prune_low_magnitude_block_0_\n",
            "                                                                    project_BN[0][0]']            \n",
            "                                                                                                  \n",
            " prune_low_magnitude_block_  (None, 32, 32, 96)           3074      ['prune_low_magnitude_block_0_\n",
            " 1_expand (PruneLowMagnitud                                         add[0][0]']                   \n",
            " e)                                                                                               \n",
            "                                                                                                  \n",
            " prune_low_magnitude_block_  (None, 32, 32, 96)           385       ['prune_low_magnitude_block_1_\n",
            " 1_expand_BN (PruneLowMagni                                         expand[0][0]']                \n",
            " tude)                                                                                            \n",
            "                                                                                                  \n",
            " prune_low_magnitude_block_  (None, 32, 32, 96)           1         ['prune_low_magnitude_block_1_\n",
            " 1_expand_relu (PruneLowMag                                         expand_BN[0][0]']             \n",
            " nitude)                                                                                          \n",
            "                                                                                                  \n",
            " prune_low_magnitude_block_  (None, 32, 32, 96)           865       ['prune_low_magnitude_block_1_\n",
            " 1_depthwise (PruneLowMagni                                         expand_relu[0][0]']           \n",
            " tude)                                                                                            \n",
            "                                                                                                  \n",
            " prune_low_magnitude_block_  (None, 32, 32, 96)           385       ['prune_low_magnitude_block_1_\n",
            " 1_depthwise_BN (PruneLowMa                                         depthwise[0][0]']             \n",
            " gnitude)                                                                                         \n",
            "                                                                                                  \n",
            " prune_low_magnitude_block_  (None, 32, 32, 96)           1         ['prune_low_magnitude_block_1_\n",
            " 1_depthwise_relu (PruneLow                                         depthwise_BN[0][0]']          \n",
            " Magnitude)                                                                                       \n",
            "                                                                                                  \n",
            " prune_low_magnitude_block_  (None, 32, 32, 24)           4610      ['prune_low_magnitude_block_1_\n",
            " 1_project (PruneLowMagnitu                                         depthwise_relu[0][0]']        \n",
            " de)                                                                                              \n",
            "                                                                                                  \n",
            " prune_low_magnitude_block_  (None, 32, 32, 24)           770       ['prune_low_magnitude_block_0_\n",
            " 1_adjust (PruneLowMagnitud                                         add[0][0]']                   \n",
            " e)                                                                                               \n",
            "                                                                                                  \n",
            " prune_low_magnitude_block_  (None, 32, 32, 24)           97        ['prune_low_magnitude_block_1_\n",
            " 1_project_BN (PruneLowMagn                                         project[0][0]']               \n",
            " itude)                                                                                           \n",
            "                                                                                                  \n",
            " prune_low_magnitude_block_  (None, 32, 32, 24)           1         ['prune_low_magnitude_block_1_\n",
            " 1_add (PruneLowMagnitude)                                          adjust[0][0]',                \n",
            "                                                                     'prune_low_magnitude_block_1_\n",
            "                                                                    project_BN[0][0]']            \n",
            "                                                                                                  \n",
            " prune_low_magnitude_block_  (None, 32, 32, 144)          6914      ['prune_low_magnitude_block_1_\n",
            " 2_expand (PruneLowMagnitud                                         add[0][0]']                   \n",
            " e)                                                                                               \n",
            "                                                                                                  \n",
            " prune_low_magnitude_block_  (None, 32, 32, 144)          577       ['prune_low_magnitude_block_2_\n",
            " 2_expand_BN (PruneLowMagni                                         expand[0][0]']                \n",
            " tude)                                                                                            \n",
            "                                                                                                  \n",
            " prune_low_magnitude_block_  (None, 32, 32, 144)          1         ['prune_low_magnitude_block_2_\n",
            " 2_expand_relu (PruneLowMag                                         expand_BN[0][0]']             \n",
            " nitude)                                                                                          \n",
            "                                                                                                  \n",
            " prune_low_magnitude_block_  (None, 32, 32, 144)          1297      ['prune_low_magnitude_block_2_\n",
            " 2_depthwise (PruneLowMagni                                         expand_relu[0][0]']           \n",
            " tude)                                                                                            \n",
            "                                                                                                  \n",
            " prune_low_magnitude_block_  (None, 32, 32, 144)          577       ['prune_low_magnitude_block_2_\n",
            " 2_depthwise_BN (PruneLowMa                                         depthwise[0][0]']             \n",
            " gnitude)                                                                                         \n",
            "                                                                                                  \n",
            " prune_low_magnitude_block_  (None, 32, 32, 144)          1         ['prune_low_magnitude_block_2_\n",
            " 2_depthwise_relu (PruneLow                                         depthwise_BN[0][0]']          \n",
            " Magnitude)                                                                                       \n",
            "                                                                                                  \n",
            " prune_low_magnitude_block_  (None, 32, 32, 24)           6914      ['prune_low_magnitude_block_2_\n",
            " 2_project (PruneLowMagnitu                                         depthwise_relu[0][0]']        \n",
            " de)                                                                                              \n",
            "                                                                                                  \n",
            " prune_low_magnitude_block_  (None, 32, 32, 24)           97        ['prune_low_magnitude_block_2_\n",
            " 2_project_BN (PruneLowMagn                                         project[0][0]']               \n",
            " itude)                                                                                           \n",
            "                                                                                                  \n",
            " prune_low_magnitude_block_  (None, 32, 32, 24)           1         ['prune_low_magnitude_block_1_\n",
            " 2_add (PruneLowMagnitude)                                          add[0][0]',                   \n",
            "                                                                     'prune_low_magnitude_block_2_\n",
            "                                                                    project_BN[0][0]']            \n",
            "                                                                                                  \n",
            " prune_low_magnitude_block_  (None, 32, 32, 144)          6914      ['prune_low_magnitude_block_2_\n",
            " 3_expand (PruneLowMagnitud                                         add[0][0]']                   \n",
            " e)                                                                                               \n",
            "                                                                                                  \n",
            " prune_low_magnitude_block_  (None, 32, 32, 144)          577       ['prune_low_magnitude_block_3_\n",
            " 3_expand_BN (PruneLowMagni                                         expand[0][0]']                \n",
            " tude)                                                                                            \n",
            "                                                                                                  \n",
            " prune_low_magnitude_block_  (None, 32, 32, 144)          1         ['prune_low_magnitude_block_3_\n",
            " 3_expand_relu (PruneLowMag                                         expand_BN[0][0]']             \n",
            " nitude)                                                                                          \n",
            "                                                                                                  \n",
            " prune_low_magnitude_block_  (None, 16, 16, 144)          1297      ['prune_low_magnitude_block_3_\n",
            " 3_depthwise (PruneLowMagni                                         expand_relu[0][0]']           \n",
            " tude)                                                                                            \n",
            "                                                                                                  \n",
            " prune_low_magnitude_block_  (None, 16, 16, 144)          577       ['prune_low_magnitude_block_3_\n",
            " 3_depthwise_BN (PruneLowMa                                         depthwise[0][0]']             \n",
            " gnitude)                                                                                         \n",
            "                                                                                                  \n",
            " prune_low_magnitude_block_  (None, 16, 16, 144)          1         ['prune_low_magnitude_block_3_\n",
            " 3_depthwise_relu (PruneLow                                         depthwise_BN[0][0]']          \n",
            " Magnitude)                                                                                       \n",
            "                                                                                                  \n",
            " prune_low_magnitude_block_  (None, 16, 16, 32)           9218      ['prune_low_magnitude_block_3_\n",
            " 3_project (PruneLowMagnitu                                         depthwise_relu[0][0]']        \n",
            " de)                                                                                              \n",
            "                                                                                                  \n",
            " prune_low_magnitude_block_  (None, 16, 16, 32)           129       ['prune_low_magnitude_block_3_\n",
            " 3_project_BN (PruneLowMagn                                         project[0][0]']               \n",
            " itude)                                                                                           \n",
            "                                                                                                  \n",
            " prune_low_magnitude_block_  (None, 16, 16, 192)          12290     ['prune_low_magnitude_block_3_\n",
            " 4_expand (PruneLowMagnitud                                         project_BN[0][0]']            \n",
            " e)                                                                                               \n",
            "                                                                                                  \n",
            " prune_low_magnitude_block_  (None, 16, 16, 192)          769       ['prune_low_magnitude_block_4_\n",
            " 4_expand_BN (PruneLowMagni                                         expand[0][0]']                \n",
            " tude)                                                                                            \n",
            "                                                                                                  \n",
            " prune_low_magnitude_block_  (None, 16, 16, 192)          1         ['prune_low_magnitude_block_4_\n",
            " 4_expand_relu (PruneLowMag                                         expand_BN[0][0]']             \n",
            " nitude)                                                                                          \n",
            "                                                                                                  \n",
            " prune_low_magnitude_block_  (None, 16, 16, 192)          1729      ['prune_low_magnitude_block_4_\n",
            " 4_depthwise (PruneLowMagni                                         expand_relu[0][0]']           \n",
            " tude)                                                                                            \n",
            "                                                                                                  \n",
            " prune_low_magnitude_block_  (None, 16, 16, 192)          769       ['prune_low_magnitude_block_4_\n",
            " 4_depthwise_BN (PruneLowMa                                         depthwise[0][0]']             \n",
            " gnitude)                                                                                         \n",
            "                                                                                                  \n",
            " prune_low_magnitude_block_  (None, 16, 16, 192)          1         ['prune_low_magnitude_block_4_\n",
            " 4_depthwise_relu (PruneLow                                         depthwise_BN[0][0]']          \n",
            " Magnitude)                                                                                       \n",
            "                                                                                                  \n",
            " prune_low_magnitude_block_  (None, 16, 16, 32)           12290     ['prune_low_magnitude_block_4_\n",
            " 4_project (PruneLowMagnitu                                         depthwise_relu[0][0]']        \n",
            " de)                                                                                              \n",
            "                                                                                                  \n",
            " prune_low_magnitude_block_  (None, 16, 16, 32)           129       ['prune_low_magnitude_block_4_\n",
            " 4_project_BN (PruneLowMagn                                         project[0][0]']               \n",
            " itude)                                                                                           \n",
            "                                                                                                  \n",
            " prune_low_magnitude_block_  (None, 16, 16, 32)           1         ['prune_low_magnitude_block_3_\n",
            " 4_add (PruneLowMagnitude)                                          project_BN[0][0]',            \n",
            "                                                                     'prune_low_magnitude_block_4_\n",
            "                                                                    project_BN[0][0]']            \n",
            "                                                                                                  \n",
            " prune_low_magnitude_block_  (None, 16, 16, 192)          12290     ['prune_low_magnitude_block_4_\n",
            " 5_expand (PruneLowMagnitud                                         add[0][0]']                   \n",
            " e)                                                                                               \n",
            "                                                                                                  \n",
            " prune_low_magnitude_block_  (None, 16, 16, 192)          769       ['prune_low_magnitude_block_5_\n",
            " 5_expand_BN (PruneLowMagni                                         expand[0][0]']                \n",
            " tude)                                                                                            \n",
            "                                                                                                  \n",
            " prune_low_magnitude_block_  (None, 16, 16, 192)          1         ['prune_low_magnitude_block_5_\n",
            " 5_expand_relu (PruneLowMag                                         expand_BN[0][0]']             \n",
            " nitude)                                                                                          \n",
            "                                                                                                  \n",
            " prune_low_magnitude_block_  (None, 16, 16, 192)          1729      ['prune_low_magnitude_block_5_\n",
            " 5_depthwise (PruneLowMagni                                         expand_relu[0][0]']           \n",
            " tude)                                                                                            \n",
            "                                                                                                  \n",
            " prune_low_magnitude_block_  (None, 16, 16, 192)          769       ['prune_low_magnitude_block_5_\n",
            " 5_depthwise_BN (PruneLowMa                                         depthwise[0][0]']             \n",
            " gnitude)                                                                                         \n",
            "                                                                                                  \n",
            " prune_low_magnitude_block_  (None, 16, 16, 192)          1         ['prune_low_magnitude_block_5_\n",
            " 5_depthwise_relu (PruneLow                                         depthwise_BN[0][0]']          \n",
            " Magnitude)                                                                                       \n",
            "                                                                                                  \n",
            " prune_low_magnitude_block_  (None, 16, 16, 32)           12290     ['prune_low_magnitude_block_5_\n",
            " 5_project (PruneLowMagnitu                                         depthwise_relu[0][0]']        \n",
            " de)                                                                                              \n",
            "                                                                                                  \n",
            " prune_low_magnitude_block_  (None, 16, 16, 32)           129       ['prune_low_magnitude_block_5_\n",
            " 5_project_BN (PruneLowMagn                                         project[0][0]']               \n",
            " itude)                                                                                           \n",
            "                                                                                                  \n",
            " prune_low_magnitude_block_  (None, 16, 16, 32)           1         ['prune_low_magnitude_block_4_\n",
            " 5_add (PruneLowMagnitude)                                          add[0][0]',                   \n",
            "                                                                     'prune_low_magnitude_block_5_\n",
            "                                                                    project_BN[0][0]']            \n",
            "                                                                                                  \n",
            " prune_low_magnitude_block_  (None, 16, 16, 192)          12290     ['prune_low_magnitude_block_5_\n",
            " 6_expand (PruneLowMagnitud                                         add[0][0]']                   \n",
            " e)                                                                                               \n",
            "                                                                                                  \n",
            " prune_low_magnitude_block_  (None, 16, 16, 192)          769       ['prune_low_magnitude_block_6_\n",
            " 6_expand_BN (PruneLowMagni                                         expand[0][0]']                \n",
            " tude)                                                                                            \n",
            "                                                                                                  \n",
            " prune_low_magnitude_block_  (None, 16, 16, 192)          1         ['prune_low_magnitude_block_6_\n",
            " 6_expand_relu (PruneLowMag                                         expand_BN[0][0]']             \n",
            " nitude)                                                                                          \n",
            "                                                                                                  \n",
            " prune_low_magnitude_block_  (None, 8, 8, 192)            1729      ['prune_low_magnitude_block_6_\n",
            " 6_depthwise (PruneLowMagni                                         expand_relu[0][0]']           \n",
            " tude)                                                                                            \n",
            "                                                                                                  \n",
            " prune_low_magnitude_block_  (None, 8, 8, 192)            769       ['prune_low_magnitude_block_6_\n",
            " 6_depthwise_BN (PruneLowMa                                         depthwise[0][0]']             \n",
            " gnitude)                                                                                         \n",
            "                                                                                                  \n",
            " prune_low_magnitude_block_  (None, 8, 8, 192)            1         ['prune_low_magnitude_block_6_\n",
            " 6_depthwise_relu (PruneLow                                         depthwise_BN[0][0]']          \n",
            " Magnitude)                                                                                       \n",
            "                                                                                                  \n",
            " prune_low_magnitude_block_  (None, 8, 8, 64)             24578     ['prune_low_magnitude_block_6_\n",
            " 6_project (PruneLowMagnitu                                         depthwise_relu[0][0]']        \n",
            " de)                                                                                              \n",
            "                                                                                                  \n",
            " prune_low_magnitude_block_  (None, 8, 8, 64)             257       ['prune_low_magnitude_block_6_\n",
            " 6_project_BN (PruneLowMagn                                         project[0][0]']               \n",
            " itude)                                                                                           \n",
            "                                                                                                  \n",
            " prune_low_magnitude_block_  (None, 8, 8, 384)            49154     ['prune_low_magnitude_block_6_\n",
            " 7_expand (PruneLowMagnitud                                         project_BN[0][0]']            \n",
            " e)                                                                                               \n",
            "                                                                                                  \n",
            " prune_low_magnitude_block_  (None, 8, 8, 384)            1537      ['prune_low_magnitude_block_7_\n",
            " 7_expand_BN (PruneLowMagni                                         expand[0][0]']                \n",
            " tude)                                                                                            \n",
            "                                                                                                  \n",
            " prune_low_magnitude_block_  (None, 8, 8, 384)            1         ['prune_low_magnitude_block_7_\n",
            " 7_expand_relu (PruneLowMag                                         expand_BN[0][0]']             \n",
            " nitude)                                                                                          \n",
            "                                                                                                  \n",
            " prune_low_magnitude_block_  (None, 8, 8, 384)            3457      ['prune_low_magnitude_block_7_\n",
            " 7_depthwise (PruneLowMagni                                         expand_relu[0][0]']           \n",
            " tude)                                                                                            \n",
            "                                                                                                  \n",
            " prune_low_magnitude_block_  (None, 8, 8, 384)            1537      ['prune_low_magnitude_block_7_\n",
            " 7_depthwise_BN (PruneLowMa                                         depthwise[0][0]']             \n",
            " gnitude)                                                                                         \n",
            "                                                                                                  \n",
            " prune_low_magnitude_block_  (None, 8, 8, 384)            1         ['prune_low_magnitude_block_7_\n",
            " 7_depthwise_relu (PruneLow                                         depthwise_BN[0][0]']          \n",
            " Magnitude)                                                                                       \n",
            "                                                                                                  \n",
            " prune_low_magnitude_block_  (None, 8, 8, 64)             49154     ['prune_low_magnitude_block_7_\n",
            " 7_project (PruneLowMagnitu                                         depthwise_relu[0][0]']        \n",
            " de)                                                                                              \n",
            "                                                                                                  \n",
            " prune_low_magnitude_block_  (None, 8, 8, 64)             257       ['prune_low_magnitude_block_7_\n",
            " 7_project_BN (PruneLowMagn                                         project[0][0]']               \n",
            " itude)                                                                                           \n",
            "                                                                                                  \n",
            " prune_low_magnitude_block_  (None, 8, 8, 64)             1         ['prune_low_magnitude_block_6_\n",
            " 7_add (PruneLowMagnitude)                                          project_BN[0][0]',            \n",
            "                                                                     'prune_low_magnitude_block_7_\n",
            "                                                                    project_BN[0][0]']            \n",
            "                                                                                                  \n",
            " prune_low_magnitude_block_  (None, 8, 8, 384)            49154     ['prune_low_magnitude_block_7_\n",
            " 8_expand (PruneLowMagnitud                                         add[0][0]']                   \n",
            " e)                                                                                               \n",
            "                                                                                                  \n",
            " prune_low_magnitude_block_  (None, 8, 8, 384)            1537      ['prune_low_magnitude_block_8_\n",
            " 8_expand_BN (PruneLowMagni                                         expand[0][0]']                \n",
            " tude)                                                                                            \n",
            "                                                                                                  \n",
            " prune_low_magnitude_block_  (None, 8, 8, 384)            1         ['prune_low_magnitude_block_8_\n",
            " 8_expand_relu (PruneLowMag                                         expand_BN[0][0]']             \n",
            " nitude)                                                                                          \n",
            "                                                                                                  \n",
            " prune_low_magnitude_block_  (None, 8, 8, 384)            3457      ['prune_low_magnitude_block_8_\n",
            " 8_depthwise (PruneLowMagni                                         expand_relu[0][0]']           \n",
            " tude)                                                                                            \n",
            "                                                                                                  \n",
            " prune_low_magnitude_block_  (None, 8, 8, 384)            1537      ['prune_low_magnitude_block_8_\n",
            " 8_depthwise_BN (PruneLowMa                                         depthwise[0][0]']             \n",
            " gnitude)                                                                                         \n",
            "                                                                                                  \n",
            " prune_low_magnitude_block_  (None, 8, 8, 384)            1         ['prune_low_magnitude_block_8_\n",
            " 8_depthwise_relu (PruneLow                                         depthwise_BN[0][0]']          \n",
            " Magnitude)                                                                                       \n",
            "                                                                                                  \n",
            " prune_low_magnitude_block_  (None, 8, 8, 64)             49154     ['prune_low_magnitude_block_8_\n",
            " 8_project (PruneLowMagnitu                                         depthwise_relu[0][0]']        \n",
            " de)                                                                                              \n",
            "                                                                                                  \n",
            " prune_low_magnitude_block_  (None, 8, 8, 64)             257       ['prune_low_magnitude_block_8_\n",
            " 8_project_BN (PruneLowMagn                                         project[0][0]']               \n",
            " itude)                                                                                           \n",
            "                                                                                                  \n",
            " prune_low_magnitude_block_  (None, 8, 8, 64)             1         ['prune_low_magnitude_block_7_\n",
            " 8_add (PruneLowMagnitude)                                          add[0][0]',                   \n",
            "                                                                     'prune_low_magnitude_block_8_\n",
            "                                                                    project_BN[0][0]']            \n",
            "                                                                                                  \n",
            " prune_low_magnitude_block_  (None, 8, 8, 384)            49154     ['prune_low_magnitude_block_8_\n",
            " 9_expand (PruneLowMagnitud                                         add[0][0]']                   \n",
            " e)                                                                                               \n",
            "                                                                                                  \n",
            " prune_low_magnitude_block_  (None, 8, 8, 384)            1537      ['prune_low_magnitude_block_9_\n",
            " 9_expand_BN (PruneLowMagni                                         expand[0][0]']                \n",
            " tude)                                                                                            \n",
            "                                                                                                  \n",
            " prune_low_magnitude_block_  (None, 8, 8, 384)            1         ['prune_low_magnitude_block_9_\n",
            " 9_expand_relu (PruneLowMag                                         expand_BN[0][0]']             \n",
            " nitude)                                                                                          \n",
            "                                                                                                  \n",
            " prune_low_magnitude_block_  (None, 8, 8, 384)            3457      ['prune_low_magnitude_block_9_\n",
            " 9_depthwise (PruneLowMagni                                         expand_relu[0][0]']           \n",
            " tude)                                                                                            \n",
            "                                                                                                  \n",
            " prune_low_magnitude_block_  (None, 8, 8, 384)            1537      ['prune_low_magnitude_block_9_\n",
            " 9_depthwise_BN (PruneLowMa                                         depthwise[0][0]']             \n",
            " gnitude)                                                                                         \n",
            "                                                                                                  \n",
            " prune_low_magnitude_block_  (None, 8, 8, 384)            1         ['prune_low_magnitude_block_9_\n",
            " 9_depthwise_relu (PruneLow                                         depthwise_BN[0][0]']          \n",
            " Magnitude)                                                                                       \n",
            "                                                                                                  \n",
            " prune_low_magnitude_block_  (None, 8, 8, 64)             49154     ['prune_low_magnitude_block_9_\n",
            " 9_project (PruneLowMagnitu                                         depthwise_relu[0][0]']        \n",
            " de)                                                                                              \n",
            "                                                                                                  \n",
            " prune_low_magnitude_block_  (None, 8, 8, 64)             257       ['prune_low_magnitude_block_9_\n",
            " 9_project_BN (PruneLowMagn                                         project[0][0]']               \n",
            " itude)                                                                                           \n",
            "                                                                                                  \n",
            " prune_low_magnitude_block_  (None, 8, 8, 64)             1         ['prune_low_magnitude_block_8_\n",
            " 9_add (PruneLowMagnitude)                                          add[0][0]',                   \n",
            "                                                                     'prune_low_magnitude_block_9_\n",
            "                                                                    project_BN[0][0]']            \n",
            "                                                                                                  \n",
            " prune_low_magnitude_block_  (None, 8, 8, 384)            49154     ['prune_low_magnitude_block_9_\n",
            " 10_expand (PruneLowMagnitu                                         add[0][0]']                   \n",
            " de)                                                                                              \n",
            "                                                                                                  \n",
            " prune_low_magnitude_block_  (None, 8, 8, 384)            1537      ['prune_low_magnitude_block_10\n",
            " 10_expand_BN (PruneLowMagn                                         _expand[0][0]']               \n",
            " itude)                                                                                           \n",
            "                                                                                                  \n",
            " prune_low_magnitude_block_  (None, 8, 8, 384)            1         ['prune_low_magnitude_block_10\n",
            " 10_expand_relu (PruneLowMa                                         _expand_BN[0][0]']            \n",
            " gnitude)                                                                                         \n",
            "                                                                                                  \n",
            " prune_low_magnitude_block_  (None, 8, 8, 384)            3457      ['prune_low_magnitude_block_10\n",
            " 10_depthwise (PruneLowMagn                                         _expand_relu[0][0]']          \n",
            " itude)                                                                                           \n",
            "                                                                                                  \n",
            " prune_low_magnitude_block_  (None, 8, 8, 384)            1537      ['prune_low_magnitude_block_10\n",
            " 10_depthwise_BN (PruneLowM                                         _depthwise[0][0]']            \n",
            " agnitude)                                                                                        \n",
            "                                                                                                  \n",
            " prune_low_magnitude_block_  (None, 8, 8, 384)            1         ['prune_low_magnitude_block_10\n",
            " 10_depthwise_relu (PruneLo                                         _depthwise_BN[0][0]']         \n",
            " wMagnitude)                                                                                      \n",
            "                                                                                                  \n",
            " prune_low_magnitude_block_  (None, 8, 8, 96)             73730     ['prune_low_magnitude_block_10\n",
            " 10_project (PruneLowMagnit                                         _depthwise_relu[0][0]']       \n",
            " ude)                                                                                             \n",
            "                                                                                                  \n",
            " prune_low_magnitude_block_  (None, 8, 8, 96)             12290     ['prune_low_magnitude_block_9_\n",
            " 10_adjust (PruneLowMagnitu                                         add[0][0]']                   \n",
            " de)                                                                                              \n",
            "                                                                                                  \n",
            " prune_low_magnitude_block_  (None, 8, 8, 96)             385       ['prune_low_magnitude_block_10\n",
            " 10_project_BN (PruneLowMag                                         _project[0][0]']              \n",
            " nitude)                                                                                          \n",
            "                                                                                                  \n",
            " prune_low_magnitude_block_  (None, 8, 8, 96)             1         ['prune_low_magnitude_block_10\n",
            " 10_add (PruneLowMagnitude)                                         _adjust[0][0]',               \n",
            "                                                                     'prune_low_magnitude_block_10\n",
            "                                                                    _project_BN[0][0]']           \n",
            "                                                                                                  \n",
            " prune_low_magnitude_block_  (None, 8, 8, 576)            110594    ['prune_low_magnitude_block_10\n",
            " 11_expand (PruneLowMagnitu                                         _add[0][0]']                  \n",
            " de)                                                                                              \n",
            "                                                                                                  \n",
            " prune_low_magnitude_block_  (None, 8, 8, 576)            2305      ['prune_low_magnitude_block_11\n",
            " 11_expand_BN (PruneLowMagn                                         _expand[0][0]']               \n",
            " itude)                                                                                           \n",
            "                                                                                                  \n",
            " prune_low_magnitude_block_  (None, 8, 8, 576)            1         ['prune_low_magnitude_block_11\n",
            " 11_expand_relu (PruneLowMa                                         _expand_BN[0][0]']            \n",
            " gnitude)                                                                                         \n",
            "                                                                                                  \n",
            " prune_low_magnitude_block_  (None, 8, 8, 576)            5185      ['prune_low_magnitude_block_11\n",
            " 11_depthwise (PruneLowMagn                                         _expand_relu[0][0]']          \n",
            " itude)                                                                                           \n",
            "                                                                                                  \n",
            " prune_low_magnitude_block_  (None, 8, 8, 576)            2305      ['prune_low_magnitude_block_11\n",
            " 11_depthwise_BN (PruneLowM                                         _depthwise[0][0]']            \n",
            " agnitude)                                                                                        \n",
            "                                                                                                  \n",
            " prune_low_magnitude_block_  (None, 8, 8, 576)            1         ['prune_low_magnitude_block_11\n",
            " 11_depthwise_relu (PruneLo                                         _depthwise_BN[0][0]']         \n",
            " wMagnitude)                                                                                      \n",
            "                                                                                                  \n",
            " prune_low_magnitude_block_  (None, 8, 8, 96)             110594    ['prune_low_magnitude_block_11\n",
            " 11_project (PruneLowMagnit                                         _depthwise_relu[0][0]']       \n",
            " ude)                                                                                             \n",
            "                                                                                                  \n",
            " prune_low_magnitude_block_  (None, 8, 8, 96)             385       ['prune_low_magnitude_block_11\n",
            " 11_project_BN (PruneLowMag                                         _project[0][0]']              \n",
            " nitude)                                                                                          \n",
            "                                                                                                  \n",
            " prune_low_magnitude_block_  (None, 8, 8, 96)             1         ['prune_low_magnitude_block_10\n",
            " 11_add (PruneLowMagnitude)                                         _add[0][0]',                  \n",
            "                                                                     'prune_low_magnitude_block_11\n",
            "                                                                    _project_BN[0][0]']           \n",
            "                                                                                                  \n",
            " prune_low_magnitude_block_  (None, 8, 8, 576)            110594    ['prune_low_magnitude_block_11\n",
            " 12_expand (PruneLowMagnitu                                         _add[0][0]']                  \n",
            " de)                                                                                              \n",
            "                                                                                                  \n",
            " prune_low_magnitude_block_  (None, 8, 8, 576)            2305      ['prune_low_magnitude_block_12\n",
            " 12_expand_BN (PruneLowMagn                                         _expand[0][0]']               \n",
            " itude)                                                                                           \n",
            "                                                                                                  \n",
            " prune_low_magnitude_block_  (None, 8, 8, 576)            1         ['prune_low_magnitude_block_12\n",
            " 12_expand_relu (PruneLowMa                                         _expand_BN[0][0]']            \n",
            " gnitude)                                                                                         \n",
            "                                                                                                  \n",
            " prune_low_magnitude_block_  (None, 8, 8, 576)            5185      ['prune_low_magnitude_block_12\n",
            " 12_depthwise (PruneLowMagn                                         _expand_relu[0][0]']          \n",
            " itude)                                                                                           \n",
            "                                                                                                  \n",
            " prune_low_magnitude_block_  (None, 8, 8, 576)            2305      ['prune_low_magnitude_block_12\n",
            " 12_depthwise_BN (PruneLowM                                         _depthwise[0][0]']            \n",
            " agnitude)                                                                                        \n",
            "                                                                                                  \n",
            " prune_low_magnitude_block_  (None, 8, 8, 576)            1         ['prune_low_magnitude_block_12\n",
            " 12_depthwise_relu (PruneLo                                         _depthwise_BN[0][0]']         \n",
            " wMagnitude)                                                                                      \n",
            "                                                                                                  \n",
            " prune_low_magnitude_block_  (None, 8, 8, 96)             110594    ['prune_low_magnitude_block_12\n",
            " 12_project (PruneLowMagnit                                         _depthwise_relu[0][0]']       \n",
            " ude)                                                                                             \n",
            "                                                                                                  \n",
            " prune_low_magnitude_block_  (None, 8, 8, 96)             385       ['prune_low_magnitude_block_12\n",
            " 12_project_BN (PruneLowMag                                         _project[0][0]']              \n",
            " nitude)                                                                                          \n",
            "                                                                                                  \n",
            " prune_low_magnitude_block_  (None, 8, 8, 96)             1         ['prune_low_magnitude_block_11\n",
            " 12_add (PruneLowMagnitude)                                         _add[0][0]',                  \n",
            "                                                                     'prune_low_magnitude_block_12\n",
            "                                                                    _project_BN[0][0]']           \n",
            "                                                                                                  \n",
            " prune_low_magnitude_block_  (None, 8, 8, 576)            110594    ['prune_low_magnitude_block_12\n",
            " 13_expand (PruneLowMagnitu                                         _add[0][0]']                  \n",
            " de)                                                                                              \n",
            "                                                                                                  \n",
            " prune_low_magnitude_block_  (None, 8, 8, 576)            2305      ['prune_low_magnitude_block_13\n",
            " 13_expand_BN (PruneLowMagn                                         _expand[0][0]']               \n",
            " itude)                                                                                           \n",
            "                                                                                                  \n",
            " prune_low_magnitude_block_  (None, 8, 8, 576)            1         ['prune_low_magnitude_block_13\n",
            " 13_expand_relu (PruneLowMa                                         _expand_BN[0][0]']            \n",
            " gnitude)                                                                                         \n",
            "                                                                                                  \n",
            " prune_low_magnitude_block_  (None, 4, 4, 576)            5185      ['prune_low_magnitude_block_13\n",
            " 13_depthwise (PruneLowMagn                                         _expand_relu[0][0]']          \n",
            " itude)                                                                                           \n",
            "                                                                                                  \n",
            " prune_low_magnitude_block_  (None, 4, 4, 576)            2305      ['prune_low_magnitude_block_13\n",
            " 13_depthwise_BN (PruneLowM                                         _depthwise[0][0]']            \n",
            " agnitude)                                                                                        \n",
            "                                                                                                  \n",
            " prune_low_magnitude_block_  (None, 4, 4, 576)            1         ['prune_low_magnitude_block_13\n",
            " 13_depthwise_relu (PruneLo                                         _depthwise_BN[0][0]']         \n",
            " wMagnitude)                                                                                      \n",
            "                                                                                                  \n",
            " prune_low_magnitude_block_  (None, 4, 4, 160)            184322    ['prune_low_magnitude_block_13\n",
            " 13_project (PruneLowMagnit                                         _depthwise_relu[0][0]']       \n",
            " ude)                                                                                             \n",
            "                                                                                                  \n",
            " prune_low_magnitude_block_  (None, 4, 4, 160)            641       ['prune_low_magnitude_block_13\n",
            " 13_project_BN (PruneLowMag                                         _project[0][0]']              \n",
            " nitude)                                                                                          \n",
            "                                                                                                  \n",
            " prune_low_magnitude_block_  (None, 4, 4, 960)            307202    ['prune_low_magnitude_block_13\n",
            " 14_expand (PruneLowMagnitu                                         _project_BN[0][0]']           \n",
            " de)                                                                                              \n",
            "                                                                                                  \n",
            " prune_low_magnitude_block_  (None, 4, 4, 960)            3841      ['prune_low_magnitude_block_14\n",
            " 14_expand_BN (PruneLowMagn                                         _expand[0][0]']               \n",
            " itude)                                                                                           \n",
            "                                                                                                  \n",
            " prune_low_magnitude_block_  (None, 4, 4, 960)            1         ['prune_low_magnitude_block_14\n",
            " 14_expand_relu (PruneLowMa                                         _expand_BN[0][0]']            \n",
            " gnitude)                                                                                         \n",
            "                                                                                                  \n",
            " prune_low_magnitude_block_  (None, 4, 4, 960)            8641      ['prune_low_magnitude_block_14\n",
            " 14_depthwise (PruneLowMagn                                         _expand_relu[0][0]']          \n",
            " itude)                                                                                           \n",
            "                                                                                                  \n",
            " prune_low_magnitude_block_  (None, 4, 4, 960)            3841      ['prune_low_magnitude_block_14\n",
            " 14_depthwise_BN (PruneLowM                                         _depthwise[0][0]']            \n",
            " agnitude)                                                                                        \n",
            "                                                                                                  \n",
            " prune_low_magnitude_block_  (None, 4, 4, 960)            1         ['prune_low_magnitude_block_14\n",
            " 14_depthwise_relu (PruneLo                                         _depthwise_BN[0][0]']         \n",
            " wMagnitude)                                                                                      \n",
            "                                                                                                  \n",
            " prune_low_magnitude_block_  (None, 4, 4, 160)            307202    ['prune_low_magnitude_block_14\n",
            " 14_project (PruneLowMagnit                                         _depthwise_relu[0][0]']       \n",
            " ude)                                                                                             \n",
            "                                                                                                  \n",
            " prune_low_magnitude_block_  (None, 4, 4, 160)            641       ['prune_low_magnitude_block_14\n",
            " 14_project_BN (PruneLowMag                                         _project[0][0]']              \n",
            " nitude)                                                                                          \n",
            "                                                                                                  \n",
            " prune_low_magnitude_block_  (None, 4, 4, 160)            1         ['prune_low_magnitude_block_13\n",
            " 14_add (PruneLowMagnitude)                                         _project_BN[0][0]',           \n",
            "                                                                     'prune_low_magnitude_block_14\n",
            "                                                                    _project_BN[0][0]']           \n",
            "                                                                                                  \n",
            " prune_low_magnitude_block_  (None, 4, 4, 960)            307202    ['prune_low_magnitude_block_14\n",
            " 15_expand (PruneLowMagnitu                                         _add[0][0]']                  \n",
            " de)                                                                                              \n",
            "                                                                                                  \n",
            " prune_low_magnitude_block_  (None, 4, 4, 960)            3841      ['prune_low_magnitude_block_15\n",
            " 15_expand_BN (PruneLowMagn                                         _expand[0][0]']               \n",
            " itude)                                                                                           \n",
            "                                                                                                  \n",
            " prune_low_magnitude_block_  (None, 4, 4, 960)            1         ['prune_low_magnitude_block_15\n",
            " 15_expand_relu (PruneLowMa                                         _expand_BN[0][0]']            \n",
            " gnitude)                                                                                         \n",
            "                                                                                                  \n",
            " prune_low_magnitude_block_  (None, 4, 4, 960)            8641      ['prune_low_magnitude_block_15\n",
            " 15_depthwise (PruneLowMagn                                         _expand_relu[0][0]']          \n",
            " itude)                                                                                           \n",
            "                                                                                                  \n",
            " prune_low_magnitude_block_  (None, 4, 4, 960)            3841      ['prune_low_magnitude_block_15\n",
            " 15_depthwise_BN (PruneLowM                                         _depthwise[0][0]']            \n",
            " agnitude)                                                                                        \n",
            "                                                                                                  \n",
            " prune_low_magnitude_block_  (None, 4, 4, 960)            1         ['prune_low_magnitude_block_15\n",
            " 15_depthwise_relu (PruneLo                                         _depthwise_BN[0][0]']         \n",
            " wMagnitude)                                                                                      \n",
            "                                                                                                  \n",
            " prune_low_magnitude_block_  (None, 4, 4, 160)            307202    ['prune_low_magnitude_block_15\n",
            " 15_project (PruneLowMagnit                                         _depthwise_relu[0][0]']       \n",
            " ude)                                                                                             \n",
            "                                                                                                  \n",
            " prune_low_magnitude_block_  (None, 4, 4, 160)            641       ['prune_low_magnitude_block_15\n",
            " 15_project_BN (PruneLowMag                                         _project[0][0]']              \n",
            " nitude)                                                                                          \n",
            "                                                                                                  \n",
            " prune_low_magnitude_block_  (None, 4, 4, 160)            1         ['prune_low_magnitude_block_14\n",
            " 15_add (PruneLowMagnitude)                                         _add[0][0]',                  \n",
            "                                                                     'prune_low_magnitude_block_15\n",
            "                                                                    _project_BN[0][0]']           \n",
            "                                                                                                  \n",
            " prune_low_magnitude_block_  (None, 4, 4, 960)            307202    ['prune_low_magnitude_block_15\n",
            " 16_expand (PruneLowMagnitu                                         _add[0][0]']                  \n",
            " de)                                                                                              \n",
            "                                                                                                  \n",
            " prune_low_magnitude_block_  (None, 4, 4, 960)            3841      ['prune_low_magnitude_block_16\n",
            " 16_expand_BN (PruneLowMagn                                         _expand[0][0]']               \n",
            " itude)                                                                                           \n",
            "                                                                                                  \n",
            " prune_low_magnitude_block_  (None, 4, 4, 960)            1         ['prune_low_magnitude_block_16\n",
            " 16_expand_relu (PruneLowMa                                         _expand_BN[0][0]']            \n",
            " gnitude)                                                                                         \n",
            "                                                                                                  \n",
            " prune_low_magnitude_block_  (None, 4, 4, 960)            8641      ['prune_low_magnitude_block_16\n",
            " 16_depthwise (PruneLowMagn                                         _expand_relu[0][0]']          \n",
            " itude)                                                                                           \n",
            "                                                                                                  \n",
            " prune_low_magnitude_block_  (None, 4, 4, 960)            3841      ['prune_low_magnitude_block_16\n",
            " 16_depthwise_BN (PruneLowM                                         _depthwise[0][0]']            \n",
            " agnitude)                                                                                        \n",
            "                                                                                                  \n",
            " prune_low_magnitude_block_  (None, 4, 4, 960)            1         ['prune_low_magnitude_block_16\n",
            " 16_depthwise_relu (PruneLo                                         _depthwise_BN[0][0]']         \n",
            " wMagnitude)                                                                                      \n",
            "                                                                                                  \n",
            " prune_low_magnitude_block_  (None, 4, 4, 320)            614402    ['prune_low_magnitude_block_16\n",
            " 16_project (PruneLowMagnit                                         _depthwise_relu[0][0]']       \n",
            " ude)                                                                                             \n",
            "                                                                                                  \n",
            " prune_low_magnitude_block_  (None, 4, 4, 320)            102402    ['prune_low_magnitude_block_15\n",
            " 16_adjust (PruneLowMagnitu                                         _add[0][0]']                  \n",
            " de)                                                                                              \n",
            "                                                                                                  \n",
            " prune_low_magnitude_block_  (None, 4, 4, 320)            1281      ['prune_low_magnitude_block_16\n",
            " 16_project_BN (PruneLowMag                                         _project[0][0]']              \n",
            " nitude)                                                                                          \n",
            "                                                                                                  \n",
            " prune_low_magnitude_block_  (None, 4, 4, 320)            1         ['prune_low_magnitude_block_16\n",
            " 16_add (PruneLowMagnitude)                                         _adjust[0][0]',               \n",
            "                                                                     'prune_low_magnitude_block_16\n",
            "                                                                    _project_BN[0][0]']           \n",
            "                                                                                                  \n",
            " prune_low_magnitude_Conv_1  (None, 4, 4, 1280)           819202    ['prune_low_magnitude_block_16\n",
            "  (PruneLowMagnitude)                                               _add[0][0]']                  \n",
            "                                                                                                  \n",
            " prune_low_magnitude_Conv_1  (None, 4, 4, 1280)           5121      ['prune_low_magnitude_Conv_1[0\n",
            " _bn (PruneLowMagnitude)                                            ][0]']                        \n",
            "                                                                                                  \n",
            " prune_low_magnitude_out_re  (None, 4, 4, 1280)           1         ['prune_low_magnitude_Conv_1_b\n",
            " lu (PruneLowMagnitude)                                             n[0][0]']                     \n",
            "                                                                                                  \n",
            " prune_low_magnitude_global  (None, 1280)                 1         ['prune_low_magnitude_out_relu\n",
            " _average_pooling2d (PruneL                                         [0][0]']                      \n",
            " owMagnitude)                                                                                     \n",
            "                                                                                                  \n",
            " prune_low_magnitude_predic  (None, 10)                   25612     ['prune_low_magnitude_global_a\n",
            " tions (PruneLowMagnitude)                                          verage_pooling2d[0][0]']      \n",
            "                                                                                                  \n",
            "==================================================================================================\n",
            "Total params: 4527989 (17.27 MB)\n",
            "Trainable params: 2296010 (8.76 MB)\n",
            "Non-trainable params: 2231979 (8.51 MB)\n",
            "__________________________________________________________________________________________________\n"
          ]
        }
      ],
      "source": [
        "model_for_pruning.summary()"
      ]
    },
    {
      "cell_type": "code",
      "execution_count": null,
      "metadata": {
        "colab": {
          "base_uri": "https://localhost:8080/"
        },
        "id": "V6WgNQ82efth",
        "outputId": "a547c18e-8dc0-4974-9b73-b3514999f6e4"
      },
      "outputs": [
        {
          "name": "stderr",
          "output_type": "stream",
          "text": [
            "<ipython-input-10-6aba5a0cf5ea>:1: UserWarning: You are saving your model as an HDF5 file via `model.save()`. This file format is considered legacy. We recommend using instead the native Keras format, e.g. `model.save('my_model.keras')`.\n",
            "  tf.keras.models.save_model(model_for_pruning, \"model_for_pruning70.h5\", include_optimizer=False)\n"
          ]
        },
        {
          "name": "stdout",
          "output_type": "stream",
          "text": [
            "Total params: 4527989\n",
            "79/79 [==============================] - 1s 11ms/step - loss: 0.3015 - accuracy: 0.9059\n"
          ]
        },
        {
          "name": "stderr",
          "output_type": "stream",
          "text": [
            "<ipython-input-10-6aba5a0cf5ea>:19: UserWarning: You are saving your model as an HDF5 file via `model.save()`. This file format is considered legacy. We recommend using instead the native Keras format, e.g. `model.save('my_model.keras')`.\n",
            "  tf.keras.models.save_model(model_for_export, \"model_pruned70.h5\", include_optimizer=False)\n",
            "WARNING:tensorflow:Compiled the loaded model, but the compiled metrics have yet to be built. `model.compile_metrics` will be empty until you train or evaluate the model.\n"
          ]
        }
      ],
      "source": [
        "tf.keras.models.save_model(model_for_pruning, \"model_for_pruning70.h5\", include_optimizer=False)\n",
        "\n",
        "hist_for_pruning70 = model_for_pruning.history.history\n",
        "\n",
        "import pandas as pd\n",
        "\n",
        "df = pd.DataFrame(hist_for_pruning70)\n",
        "df.to_csv('hist_for_pruning70.csv', index=False)\n",
        "\n",
        "print(f\"Total params: {model_for_pruning.count_params()}\")\n",
        "model_for_pruning.evaluate(test_data)\n",
        "\n",
        "model_for_export = tfmot.sparsity.keras.strip_pruning(model_for_pruning)\n",
        "# model_for_export.compile(optimizer=SGD(learning_rate=0.1, momentum=0.9, weight_decay=0.0, nesterov=False), #'adam',\n",
        "#               loss=tf.keras.losses.SparseCategoricalCrossentropy(from_logits=True),\n",
        "#               metrics=['accuracy'])\n",
        "# model_for_export.evaluate(test_data)\n",
        "\n",
        "tf.keras.models.save_model(model_for_export, \"model_pruned70.h5\", include_optimizer=False)"
      ]
    },
    {
      "cell_type": "code",
      "execution_count": null,
      "metadata": {
        "colab": {
          "base_uri": "https://localhost:8080/"
        },
        "id": "NV75TmtvfEk8",
        "outputId": "4c116f78-f6b2-46d8-c8d2-f8c781ff5322"
      },
      "outputs": [
        {
          "name": "stdout",
          "output_type": "stream",
          "text": [
            "Baseline model size (bytes): 8678813\n",
            "Pruned model (sparsity=0.7) size (bytes): 3976862\n"
          ]
        }
      ],
      "source": [
        "print(f\"Baseline model size (bytes): {get_gzipped_model_size('model_mobilenet.h5')}\")\n",
        "#print(f\"Model for pruning size (bytes): {get_gzipped_model_size('model_for_pruning70.h5')}\")\n",
        "print(f\"Pruned model (sparsity=0.7) size (bytes): {get_gzipped_model_size('model_pruned70.h5')}\")"
      ]
    },
    {
      "cell_type": "code",
      "execution_count": null,
      "metadata": {
        "colab": {
          "base_uri": "https://localhost:8080/"
        },
        "id": "i6YambpxmCtH",
        "outputId": "89fc0408-721b-4014-8b3e-f2e2900eb86d"
      },
      "outputs": [
        {
          "name": "stderr",
          "output_type": "stream",
          "text": [
            "WARNING:tensorflow:No training configuration found in the save file, so the model was *not* compiled. Compile it manually.\n"
          ]
        },
        {
          "name": "stdout",
          "output_type": "stream",
          "text": [
            "79/79 [==============================] - 4s 12ms/step - loss: 0.2421 - accuracy: 0.9289\n",
            "Total params: 2330186\n",
            "Epoch 1/12\n",
            "  6/391 [..............................] - ETA: 26s - loss: 0.1198 - accuracy: 0.9570"
          ]
        },
        {
          "name": "stderr",
          "output_type": "stream",
          "text": [
            "WARNING:tensorflow:Callback method `on_train_batch_end` is slow compared to the batch time (batch time: 0.0649s vs `on_train_batch_end` time: 0.1434s). Check your callbacks.\n"
          ]
        },
        {
          "name": "stdout",
          "output_type": "stream",
          "text": [
            "391/391 [==============================] - 86s 86ms/step - loss: 0.2580 - accuracy: 0.9080 - val_loss: 0.3062 - val_accuracy: 0.8994\n",
            "Epoch 2/12\n",
            "391/391 [==============================] - 36s 93ms/step - loss: 0.2564 - accuracy: 0.9062 - val_loss: 0.3612 - val_accuracy: 0.8881\n",
            "Epoch 3/12\n",
            "391/391 [==============================] - 27s 70ms/step - loss: 0.2560 - accuracy: 0.9092 - val_loss: 0.3921 - val_accuracy: 0.8767\n",
            "Epoch 4/12\n",
            "391/391 [==============================] - 27s 70ms/step - loss: 0.2452 - accuracy: 0.9123 - val_loss: 0.3020 - val_accuracy: 0.9009\n",
            "Epoch 5/12\n",
            "391/391 [==============================] - 27s 69ms/step - loss: 0.2385 - accuracy: 0.9157 - val_loss: 0.2893 - val_accuracy: 0.9059\n",
            "Epoch 6/12\n",
            "391/391 [==============================] - 27s 69ms/step - loss: 0.2351 - accuracy: 0.9166 - val_loss: 0.3064 - val_accuracy: 0.9001\n",
            "Epoch 7/12\n",
            "391/391 [==============================] - 27s 70ms/step - loss: 0.2319 - accuracy: 0.9162 - val_loss: 0.3014 - val_accuracy: 0.9059\n",
            "Epoch 8/12\n",
            "391/391 [==============================] - 28s 70ms/step - loss: 0.2235 - accuracy: 0.9205 - val_loss: 0.2780 - val_accuracy: 0.9138\n",
            "Epoch 9/12\n",
            "391/391 [==============================] - 28s 71ms/step - loss: 0.2225 - accuracy: 0.9204 - val_loss: 0.2834 - val_accuracy: 0.9077\n",
            "Epoch 10/12\n",
            "391/391 [==============================] - 28s 72ms/step - loss: 0.2163 - accuracy: 0.9236 - val_loss: 0.3126 - val_accuracy: 0.9003\n",
            "Epoch 11/12\n",
            "391/391 [==============================] - 27s 70ms/step - loss: 0.2160 - accuracy: 0.9236 - val_loss: 0.2981 - val_accuracy: 0.9070\n",
            "Epoch 12/12\n",
            "391/391 [==============================] - 27s 69ms/step - loss: 0.2069 - accuracy: 0.9270 - val_loss: 0.2920 - val_accuracy: 0.9115\n"
          ]
        },
        {
          "data": {
            "text/plain": [
              "<keras.src.callbacks.History at 0x7aa204721660>"
            ]
          },
          "execution_count": 30,
          "metadata": {},
          "output_type": "execute_result"
        }
      ],
      "source": [
        "# Sparsity 0.6\n",
        "model = tf.keras.models.load_model(\"model_mobilenet.h5\")\n",
        "model.compile(loss=SparseCategoricalCrossentropy(from_logits=True),\n",
        "              optimizer=SGD(learning_rate=0.1, momentum=0.9, weight_decay=0.0, nesterov=False),\n",
        "              metrics=['accuracy'])\n",
        "model.evaluate(test_data)\n",
        "print(f\"Total params: {model_mobilenet.count_params()}\")\n",
        "\n",
        "import tensorflow_model_optimization as tfmot\n",
        "import tempfile\n",
        "import os\n",
        "\n",
        "prune_low_magnitude = tfmot.sparsity.keras.prune_low_magnitude\n",
        "\n",
        "# Compute end step to finish pruning after 2 epochs.\n",
        "batch_size = 128\n",
        "epochs = 12\n",
        "#validation_split = 0.1 # 10% of training set will be used for validation set.\n",
        "\n",
        "num_images = x_train.shape[0] #* (1 - validation_split)\n",
        "end_step = np.ceil(num_images / batch_size).astype(np.int32) * epochs\n",
        "\n",
        "# Define model for pruning.\n",
        "pruning_params = {\n",
        "      'pruning_schedule': tfmot.sparsity.keras.PolynomialDecay(initial_sparsity=0.50,\n",
        "                                                               final_sparsity=0.60,\n",
        "                                                               begin_step=0,\n",
        "                                                               end_step=end_step)\n",
        "}\n",
        "\n",
        "model_for_pruning = prune_low_magnitude(model, **pruning_params)\n",
        "\n",
        "# `prune_low_magnitude` requires a recompile.\n",
        "model_for_pruning.compile(optimizer=SGD(learning_rate=0.1, momentum=0.9, weight_decay=0.0, nesterov=False), #'adam',\n",
        "              loss=tf.keras.losses.SparseCategoricalCrossentropy(from_logits=True),\n",
        "              metrics=['accuracy'])\n",
        "\n",
        "logdir = \"./tfmot_logs\" #tempfile.mkdtemp()\n",
        "\n",
        "model_for_pruning.fit(train_data,\n",
        "                  epochs=epochs, validation_data=test_data, #validation_split=validation_split,\n",
        "                  callbacks=[tfmot.sparsity.keras.UpdatePruningStep(),\n",
        "                             tfmot.sparsity.keras.PruningSummaries(log_dir=logdir)]\n",
        "                      )"
      ]
    },
    {
      "cell_type": "code",
      "execution_count": null,
      "metadata": {
        "colab": {
          "base_uri": "https://localhost:8080/"
        },
        "id": "TB9U6-NN3QhS",
        "outputId": "c5e25148-18d9-470e-8f04-568e6cceabc7"
      },
      "outputs": [
        {
          "name": "stderr",
          "output_type": "stream",
          "text": [
            "<ipython-input-31-ce91722647a0>:1: UserWarning: You are saving your model as an HDF5 file via `model.save()`. This file format is considered legacy. We recommend using instead the native Keras format, e.g. `model.save('my_model.keras')`.\n",
            "  tf.keras.models.save_model(model_for_pruning, \"model_for_pruning60.h5\", include_optimizer=False)\n"
          ]
        },
        {
          "name": "stdout",
          "output_type": "stream",
          "text": [
            "Total params: 4527989\n",
            "79/79 [==============================] - 1s 11ms/step - loss: 0.2920 - accuracy: 0.9115\n"
          ]
        },
        {
          "name": "stderr",
          "output_type": "stream",
          "text": [
            "<ipython-input-31-ce91722647a0>:19: UserWarning: You are saving your model as an HDF5 file via `model.save()`. This file format is considered legacy. We recommend using instead the native Keras format, e.g. `model.save('my_model.keras')`.\n",
            "  tf.keras.models.save_model(model_for_export, \"model_pruned60.h5\", include_optimizer=False)\n",
            "WARNING:tensorflow:Compiled the loaded model, but the compiled metrics have yet to be built. `model.compile_metrics` will be empty until you train or evaluate the model.\n"
          ]
        }
      ],
      "source": [
        "tf.keras.models.save_model(model_for_pruning, \"model_for_pruning60.h5\", include_optimizer=False)\n",
        "\n",
        "hist_for_pruning60 = model_for_pruning.history.history\n",
        "\n",
        "import pandas as pd\n",
        "\n",
        "df = pd.DataFrame(hist_for_pruning60)\n",
        "df.to_csv('hist_for_pruning60.csv', index=False)\n",
        "\n",
        "print(f\"Total params: {model_for_pruning.count_params()}\")\n",
        "model_for_pruning.evaluate(test_data)\n",
        "\n",
        "model_for_export = tfmot.sparsity.keras.strip_pruning(model_for_pruning)\n",
        "# model_for_export.compile(optimizer=SGD(learning_rate=0.1, momentum=0.9, weight_decay=0.0, nesterov=False), #'adam',\n",
        "#               loss=tf.keras.losses.SparseCategoricalCrossentropy(from_logits=True),\n",
        "#               metrics=['accuracy'])\n",
        "# model_for_export.evaluate(test_data)\n",
        "\n",
        "tf.keras.models.save_model(model_for_export, \"model_pruned60.h5\", include_optimizer=False)"
      ]
    },
    {
      "cell_type": "code",
      "execution_count": null,
      "metadata": {
        "colab": {
          "base_uri": "https://localhost:8080/"
        },
        "id": "oER-zBv43Zf-",
        "outputId": "70081521-d38b-4cba-93bc-56ef6a0c1455"
      },
      "outputs": [
        {
          "name": "stdout",
          "output_type": "stream",
          "text": [
            "Baseline model size (bytes): 8678813\n",
            "Pruned model (sparsity=0.6) size (bytes): 4767631\n"
          ]
        }
      ],
      "source": [
        "print(f\"Baseline model size (bytes): {get_gzipped_model_size('model_mobilenet.h5')}\")\n",
        "#print(f\"Model for pruning size (bytes): {get_gzipped_model_size('model_for_pruning60.h5')}\")\n",
        "print(f\"Pruned model (sparsity=0.6) size (bytes): {get_gzipped_model_size('model_pruned60.h5')}\")"
      ]
    },
    {
      "cell_type": "code",
      "execution_count": null,
      "metadata": {
        "colab": {
          "base_uri": "https://localhost:8080/"
        },
        "id": "idFQ7qO3-ki3",
        "outputId": "02c9fb79-8c80-406a-9c1e-b25a119544b7"
      },
      "outputs": [
        {
          "name": "stderr",
          "output_type": "stream",
          "text": [
            "WARNING:tensorflow:No training configuration found in the save file, so the model was *not* compiled. Compile it manually.\n"
          ]
        },
        {
          "name": "stdout",
          "output_type": "stream",
          "text": [
            "79/79 [==============================] - 4s 11ms/step - loss: 0.2421 - accuracy: 0.9289\n",
            "Total params: 2330186\n",
            "Epoch 1/12\n",
            "  6/391 [..............................] - ETA: 26s - loss: 0.1257 - accuracy: 0.9440"
          ]
        },
        {
          "name": "stderr",
          "output_type": "stream",
          "text": [
            "WARNING:tensorflow:Callback method `on_train_batch_end` is slow compared to the batch time (batch time: 0.0637s vs `on_train_batch_end` time: 0.1427s). Check your callbacks.\n"
          ]
        },
        {
          "name": "stdout",
          "output_type": "stream",
          "text": [
            "391/391 [==============================] - 87s 89ms/step - loss: 0.2687 - accuracy: 0.9054 - val_loss: 0.3397 - val_accuracy: 0.8869\n",
            "Epoch 2/12\n",
            "391/391 [==============================] - 36s 91ms/step - loss: 0.3001 - accuracy: 0.8922 - val_loss: 0.3057 - val_accuracy: 0.8960\n",
            "Epoch 3/12\n",
            "391/391 [==============================] - 27s 70ms/step - loss: 0.3116 - accuracy: 0.8885 - val_loss: 0.3157 - val_accuracy: 0.8931\n",
            "Epoch 4/12\n",
            "391/391 [==============================] - 27s 70ms/step - loss: 0.3376 - accuracy: 0.8816 - val_loss: 0.3354 - val_accuracy: 0.8872\n",
            "Epoch 5/12\n",
            "391/391 [==============================] - 28s 71ms/step - loss: 0.3441 - accuracy: 0.8774 - val_loss: 0.3591 - val_accuracy: 0.8774\n",
            "Epoch 6/12\n",
            "391/391 [==============================] - 28s 71ms/step - loss: 0.3670 - accuracy: 0.8709 - val_loss: 0.3655 - val_accuracy: 0.8790\n",
            "Epoch 7/12\n",
            "391/391 [==============================] - 28s 72ms/step - loss: 0.3827 - accuracy: 0.8645 - val_loss: 0.4028 - val_accuracy: 0.8615\n",
            "Epoch 8/12\n",
            "391/391 [==============================] - 28s 71ms/step - loss: 0.3822 - accuracy: 0.8651 - val_loss: 0.3658 - val_accuracy: 0.8779\n",
            "Epoch 9/12\n",
            "391/391 [==============================] - 28s 70ms/step - loss: 0.3808 - accuracy: 0.8667 - val_loss: 0.3958 - val_accuracy: 0.8704\n",
            "Epoch 10/12\n",
            "391/391 [==============================] - 27s 70ms/step - loss: 0.3700 - accuracy: 0.8690 - val_loss: 0.3707 - val_accuracy: 0.8760\n",
            "Epoch 11/12\n",
            "391/391 [==============================] - 27s 70ms/step - loss: 0.3524 - accuracy: 0.8748 - val_loss: 0.4014 - val_accuracy: 0.8696\n",
            "Epoch 12/12\n",
            "391/391 [==============================] - 27s 70ms/step - loss: 0.3391 - accuracy: 0.8805 - val_loss: 0.3622 - val_accuracy: 0.8807\n"
          ]
        },
        {
          "data": {
            "text/plain": [
              "<keras.src.callbacks.History at 0x7a9ed1ca48b0>"
            ]
          },
          "execution_count": 44,
          "metadata": {},
          "output_type": "execute_result"
        }
      ],
      "source": [
        "# Sparsity 0.9\n",
        "model = tf.keras.models.load_model(\"model_mobilenet.h5\")\n",
        "model.compile(loss=SparseCategoricalCrossentropy(from_logits=True),\n",
        "              optimizer=SGD(learning_rate=0.1, momentum=0.9, weight_decay=0.0, nesterov=False),\n",
        "              metrics=['accuracy'])\n",
        "model.evaluate(test_data)\n",
        "print(f\"Total params: {model_mobilenet.count_params()}\")\n",
        "\n",
        "import tensorflow_model_optimization as tfmot\n",
        "import tempfile\n",
        "import os\n",
        "\n",
        "prune_low_magnitude = tfmot.sparsity.keras.prune_low_magnitude\n",
        "\n",
        "# Compute end step to finish pruning after 2 epochs.\n",
        "batch_size = 128\n",
        "epochs = 12\n",
        "#validation_split = 0.1 # 10% of training set will be used for validation set.\n",
        "\n",
        "num_images = x_train.shape[0] #* (1 - validation_split)\n",
        "end_step = np.ceil(num_images / batch_size).astype(np.int32) * epochs\n",
        "\n",
        "# Define model for pruning.\n",
        "pruning_params = {\n",
        "      'pruning_schedule': tfmot.sparsity.keras.PolynomialDecay(initial_sparsity=0.50,\n",
        "                                                               final_sparsity=0.90, #\n",
        "                                                               begin_step=0,\n",
        "                                                               end_step=end_step)\n",
        "}\n",
        "\n",
        "model_for_pruning = prune_low_magnitude(model, **pruning_params)\n",
        "\n",
        "# `prune_low_magnitude` requires a recompile.\n",
        "model_for_pruning.compile(optimizer=SGD(learning_rate=0.1, momentum=0.9, weight_decay=0.0, nesterov=False), #'adam',\n",
        "              loss=tf.keras.losses.SparseCategoricalCrossentropy(from_logits=True),\n",
        "              metrics=['accuracy'])\n",
        "\n",
        "logdir = \"./tfmot_logs\" #tempfile.mkdtemp()\n",
        "\n",
        "model_for_pruning.fit(train_data,\n",
        "                  epochs=epochs, validation_data=test_data, #validation_split=validation_split,\n",
        "                  callbacks=[tfmot.sparsity.keras.UpdatePruningStep(),\n",
        "                             tfmot.sparsity.keras.PruningSummaries(log_dir=logdir)]\n",
        "                      )"
      ]
    },
    {
      "cell_type": "code",
      "execution_count": null,
      "metadata": {
        "colab": {
          "base_uri": "https://localhost:8080/"
        },
        "id": "yDWrT46Z_HfL",
        "outputId": "027c6559-01fa-4be7-f198-9569d586ce5d"
      },
      "outputs": [
        {
          "name": "stderr",
          "output_type": "stream",
          "text": [
            "<ipython-input-45-19ab1358a1d2>:1: UserWarning: You are saving your model as an HDF5 file via `model.save()`. This file format is considered legacy. We recommend using instead the native Keras format, e.g. `model.save('my_model.keras')`.\n",
            "  tf.keras.models.save_model(model_for_pruning, \"model_for_pruning90.h5\", include_optimizer=False)\n"
          ]
        },
        {
          "name": "stdout",
          "output_type": "stream",
          "text": [
            "Total params: 4527989\n",
            "79/79 [==============================] - 1s 12ms/step - loss: 0.3622 - accuracy: 0.8807\n"
          ]
        },
        {
          "name": "stderr",
          "output_type": "stream",
          "text": [
            "<ipython-input-45-19ab1358a1d2>:19: UserWarning: You are saving your model as an HDF5 file via `model.save()`. This file format is considered legacy. We recommend using instead the native Keras format, e.g. `model.save('my_model.keras')`.\n",
            "  tf.keras.models.save_model(model_for_export, \"model_pruned90.h5\", include_optimizer=False)\n",
            "WARNING:tensorflow:Compiled the loaded model, but the compiled metrics have yet to be built. `model.compile_metrics` will be empty until you train or evaluate the model.\n"
          ]
        }
      ],
      "source": [
        "tf.keras.models.save_model(model_for_pruning, \"model_for_pruning90.h5\", include_optimizer=False)\n",
        "\n",
        "hist_for_pruning90 = model_for_pruning.history.history\n",
        "\n",
        "import pandas as pd\n",
        "\n",
        "df = pd.DataFrame(hist_for_pruning90)\n",
        "df.to_csv('hist_for_pruning90.csv', index=False)\n",
        "\n",
        "print(f\"Total params: {model_for_pruning.count_params()}\")\n",
        "model_for_pruning.evaluate(test_data)\n",
        "\n",
        "model_for_export = tfmot.sparsity.keras.strip_pruning(model_for_pruning)\n",
        "# model_for_export.compile(optimizer=SGD(learning_rate=0.1, momentum=0.9, weight_decay=0.0, nesterov=False), #'adam',\n",
        "#               loss=tf.keras.losses.SparseCategoricalCrossentropy(from_logits=True),\n",
        "#               metrics=['accuracy'])\n",
        "# model_for_export.evaluate(test_data)\n",
        "\n",
        "tf.keras.models.save_model(model_for_export, \"model_pruned90.h5\", include_optimizer=False)"
      ]
    },
    {
      "cell_type": "code",
      "execution_count": null,
      "metadata": {
        "colab": {
          "base_uri": "https://localhost:8080/"
        },
        "id": "27oobKr3_IQf",
        "outputId": "f705c346-da72-4607-dea2-95937369a920"
      },
      "outputs": [
        {
          "name": "stdout",
          "output_type": "stream",
          "text": [
            "Baseline model size (bytes): 8678813\n",
            "Pruned model (sparsity=0.9) size (bytes): 2248330\n"
          ]
        }
      ],
      "source": [
        "print(f\"Baseline model size (bytes): {get_gzipped_model_size('model_mobilenet.h5')}\")\n",
        "#print(f\"Model for pruning size (bytes): {get_gzipped_model_size('model_for_pruning60.h5')}\")\n",
        "print(f\"Pruned model (sparsity=0.9) size (bytes): {get_gzipped_model_size('model_pruned90.h5')}\")"
      ]
    },
    {
      "cell_type": "code",
      "execution_count": null,
      "metadata": {
        "colab": {
          "base_uri": "https://localhost:8080/"
        },
        "id": "CA3swGXNCS14",
        "outputId": "4d80a73e-0a40-4d75-ff53-4895bdf84e5c"
      },
      "outputs": [
        {
          "name": "stderr",
          "output_type": "stream",
          "text": [
            "WARNING:tensorflow:No training configuration found in the save file, so the model was *not* compiled. Compile it manually.\n"
          ]
        },
        {
          "name": "stdout",
          "output_type": "stream",
          "text": [
            "79/79 [==============================] - 4s 11ms/step - loss: 0.2421 - accuracy: 0.9289\n",
            "Total params: 2330186\n",
            "Epoch 1/12\n",
            "  6/391 [..............................] - ETA: 25s - loss: 0.1500 - accuracy: 0.9518"
          ]
        },
        {
          "name": "stderr",
          "output_type": "stream",
          "text": [
            "WARNING:tensorflow:Callback method `on_train_batch_end` is slow compared to the batch time (batch time: 0.0627s vs `on_train_batch_end` time: 0.1435s). Check your callbacks.\n"
          ]
        },
        {
          "name": "stdout",
          "output_type": "stream",
          "text": [
            "391/391 [==============================] - 86s 86ms/step - loss: 0.2748 - accuracy: 0.9017 - val_loss: 0.3024 - val_accuracy: 0.8980\n",
            "Epoch 2/12\n",
            "391/391 [==============================] - 35s 90ms/step - loss: 0.3061 - accuracy: 0.8918 - val_loss: 0.3687 - val_accuracy: 0.8800\n",
            "Epoch 3/12\n",
            "391/391 [==============================] - 27s 69ms/step - loss: 0.3336 - accuracy: 0.8810 - val_loss: 0.3333 - val_accuracy: 0.8880\n",
            "Epoch 4/12\n",
            "391/391 [==============================] - 27s 69ms/step - loss: 0.3581 - accuracy: 0.8739 - val_loss: 0.3525 - val_accuracy: 0.8795\n",
            "Epoch 5/12\n",
            "391/391 [==============================] - 27s 69ms/step - loss: 0.3960 - accuracy: 0.8616 - val_loss: 0.3758 - val_accuracy: 0.8714\n",
            "Epoch 6/12\n",
            "391/391 [==============================] - 27s 69ms/step - loss: 0.4360 - accuracy: 0.8463 - val_loss: 0.5027 - val_accuracy: 0.8323\n",
            "Epoch 7/12\n",
            "391/391 [==============================] - 27s 69ms/step - loss: 0.4815 - accuracy: 0.8312 - val_loss: 0.6114 - val_accuracy: 0.7888\n",
            "Epoch 8/12\n",
            "391/391 [==============================] - 27s 69ms/step - loss: 0.5750 - accuracy: 0.7996 - val_loss: 3.5244 - val_accuracy: 0.1015\n",
            "Epoch 9/12\n",
            "391/391 [==============================] - 27s 69ms/step - loss: 0.8209 - accuracy: 0.7126 - val_loss: 3.7675 - val_accuracy: 0.2092\n",
            "Epoch 10/12\n",
            "391/391 [==============================] - 27s 69ms/step - loss: 0.6448 - accuracy: 0.7739 - val_loss: 1.0919 - val_accuracy: 0.6668\n",
            "Epoch 11/12\n",
            "391/391 [==============================] - 27s 69ms/step - loss: 0.6027 - accuracy: 0.7879 - val_loss: 1.7600 - val_accuracy: 0.5056\n",
            "Epoch 12/12\n",
            "391/391 [==============================] - 27s 69ms/step - loss: 0.7967 - accuracy: 0.7212 - val_loss: 2.6033 - val_accuracy: 0.3200\n"
          ]
        },
        {
          "data": {
            "text/plain": [
              "<keras.src.callbacks.History at 0x7a9ece657760>"
            ]
          },
          "execution_count": 56,
          "metadata": {},
          "output_type": "execute_result"
        }
      ],
      "source": [
        "# Sparsity 0.95\n",
        "model = tf.keras.models.load_model(\"model_mobilenet.h5\")\n",
        "model.compile(loss=SparseCategoricalCrossentropy(from_logits=True),\n",
        "              optimizer=SGD(learning_rate=0.1, momentum=0.9, weight_decay=0.0, nesterov=False),\n",
        "              metrics=['accuracy'])\n",
        "model.evaluate(test_data)\n",
        "print(f\"Total params: {model_mobilenet.count_params()}\")\n",
        "\n",
        "import tensorflow_model_optimization as tfmot\n",
        "import tempfile\n",
        "import os\n",
        "\n",
        "prune_low_magnitude = tfmot.sparsity.keras.prune_low_magnitude\n",
        "\n",
        "# Compute end step to finish pruning after 2 epochs.\n",
        "batch_size = 128\n",
        "epochs = 12\n",
        "#validation_split = 0.1 # 10% of training set will be used for validation set.\n",
        "\n",
        "num_images = x_train.shape[0] #* (1 - validation_split)\n",
        "end_step = np.ceil(num_images / batch_size).astype(np.int32) * epochs\n",
        "\n",
        "# Define model for pruning.\n",
        "pruning_params = {\n",
        "      'pruning_schedule': tfmot.sparsity.keras.PolynomialDecay(initial_sparsity=0.50,\n",
        "                                                               final_sparsity=0.95, #\n",
        "                                                               begin_step=0,\n",
        "                                                               end_step=end_step)\n",
        "}\n",
        "\n",
        "model_for_pruning = prune_low_magnitude(model, **pruning_params)\n",
        "\n",
        "# `prune_low_magnitude` requires a recompile.\n",
        "model_for_pruning.compile(optimizer=SGD(learning_rate=0.1, momentum=0.9, weight_decay=0.0, nesterov=False), #'adam',\n",
        "              loss=tf.keras.losses.SparseCategoricalCrossentropy(from_logits=True),\n",
        "              metrics=['accuracy'])\n",
        "\n",
        "logdir = \"./tfmot_logs\" #tempfile.mkdtemp()\n",
        "\n",
        "model_for_pruning.fit(train_data,\n",
        "                  epochs=epochs, validation_data=test_data, #validation_split=validation_split,\n",
        "                  callbacks=[tfmot.sparsity.keras.UpdatePruningStep(),\n",
        "                             tfmot.sparsity.keras.PruningSummaries(log_dir=logdir)]\n",
        "                      )"
      ]
    },
    {
      "cell_type": "code",
      "execution_count": null,
      "metadata": {
        "colab": {
          "base_uri": "https://localhost:8080/"
        },
        "id": "UgRYlS5RCdMF",
        "outputId": "b8108e27-8aa1-4e08-ea93-33a4141b1c2c"
      },
      "outputs": [
        {
          "name": "stderr",
          "output_type": "stream",
          "text": [
            "<ipython-input-57-3ade2aa15002>:1: UserWarning: You are saving your model as an HDF5 file via `model.save()`. This file format is considered legacy. We recommend using instead the native Keras format, e.g. `model.save('my_model.keras')`.\n",
            "  tf.keras.models.save_model(model_for_pruning, \"model_for_pruning95.h5\", include_optimizer=False)\n"
          ]
        },
        {
          "name": "stdout",
          "output_type": "stream",
          "text": [
            "Total params: 4527989\n",
            "79/79 [==============================] - 1s 11ms/step - loss: 2.6033 - accuracy: 0.3200\n"
          ]
        },
        {
          "name": "stderr",
          "output_type": "stream",
          "text": [
            "<ipython-input-57-3ade2aa15002>:19: UserWarning: You are saving your model as an HDF5 file via `model.save()`. This file format is considered legacy. We recommend using instead the native Keras format, e.g. `model.save('my_model.keras')`.\n",
            "  tf.keras.models.save_model(model_for_export, \"model_pruned95.h5\", include_optimizer=False)\n",
            "WARNING:tensorflow:Compiled the loaded model, but the compiled metrics have yet to be built. `model.compile_metrics` will be empty until you train or evaluate the model.\n"
          ]
        }
      ],
      "source": [
        "tf.keras.models.save_model(model_for_pruning, \"model_for_pruning95.h5\", include_optimizer=False)\n",
        "\n",
        "hist_for_pruning95 = model_for_pruning.history.history\n",
        "\n",
        "import pandas as pd\n",
        "\n",
        "df = pd.DataFrame(hist_for_pruning95)\n",
        "df.to_csv('hist_for_pruning95.csv', index=False)\n",
        "\n",
        "print(f\"Total params: {model_for_pruning.count_params()}\")\n",
        "model_for_pruning.evaluate(test_data)\n",
        "\n",
        "model_for_export = tfmot.sparsity.keras.strip_pruning(model_for_pruning)\n",
        "# model_for_export.compile(optimizer=SGD(learning_rate=0.1, momentum=0.9, weight_decay=0.0, nesterov=False), #'adam',\n",
        "#               loss=tf.keras.losses.SparseCategoricalCrossentropy(from_logits=True),\n",
        "#               metrics=['accuracy'])\n",
        "# model_for_export.evaluate(test_data)\n",
        "\n",
        "tf.keras.models.save_model(model_for_export, \"model_pruned95.h5\", include_optimizer=False)"
      ]
    },
    {
      "cell_type": "code",
      "execution_count": null,
      "metadata": {
        "colab": {
          "base_uri": "https://localhost:8080/"
        },
        "id": "mfPBUXBNCn4E",
        "outputId": "fb0c0b84-0bf9-4e3c-afc0-3cc57460f500"
      },
      "outputs": [
        {
          "name": "stdout",
          "output_type": "stream",
          "text": [
            "Baseline model size (bytes): 8678813\n",
            "Pruned model (sparsity=0.95) size (bytes): 1756749\n"
          ]
        }
      ],
      "source": [
        "print(f\"Baseline model size (bytes): {get_gzipped_model_size('model_mobilenet.h5')}\")\n",
        "#print(f\"Model for pruning size (bytes): {get_gzipped_model_size('model_for_pruning60.h5')}\")\n",
        "print(f\"Pruned model (sparsity=0.95) size (bytes): {get_gzipped_model_size('model_pruned95.h5')}\")"
      ]
    },
    {
      "cell_type": "markdown",
      "metadata": {
        "id": "iw7Lzn0HezdV"
      },
      "source": [
        "###Analysis of weight distribution"
      ]
    },
    {
      "cell_type": "code",
      "execution_count": null,
      "metadata": {
        "colab": {
          "base_uri": "https://localhost:8080/"
        },
        "id": "2W_Hjk4xnovg",
        "outputId": "4b8ee6fb-47d5-45b7-b8f8-5167c0bd2bbc"
      },
      "outputs": [
        {
          "name": "stdout",
          "output_type": "stream",
          "text": [
            "(4527989,) -7622.1728515625 299940160.0\n"
          ]
        }
      ],
      "source": [
        "weights = []\n",
        "for i in model_for_pruning.get_weights():\n",
        "#for i in m.get_weights():\n",
        "    tmp = i.reshape(-1)\n",
        "    for j in tmp:\n",
        "        weights.append(j)\n",
        "\n",
        "weights = np.array(weights)\n",
        "#weights = weights.flatten()\n",
        "print(weights.shape, weights.min(), weights.max())"
      ]
    },
    {
      "cell_type": "code",
      "execution_count": null,
      "metadata": {
        "colab": {
          "base_uri": "https://localhost:8080/"
        },
        "id": "EosDefhurbmN",
        "outputId": "d2d1f838-e325-4219-b1d6-d47c0a68a9b7"
      },
      "outputs": [
        {
          "data": {
            "text/plain": [
              "120.77991916309574"
            ]
          },
          "execution_count": 61,
          "metadata": {},
          "output_type": "execute_result"
        }
      ],
      "source": [
        "weights.mean()"
      ]
    },
    {
      "cell_type": "code",
      "execution_count": null,
      "metadata": {
        "colab": {
          "base_uri": "https://localhost:8080/"
        },
        "id": "Vl_JsyqqwqEr",
        "outputId": "6b2bca88-0ba6-4029-ecf8-3828a35cf568"
      },
      "outputs": [
        {
          "name": "stdout",
          "output_type": "stream",
          "text": [
            "4175424 zeros out of 4527989\n"
          ]
        }
      ],
      "source": [
        "noz = len(weights) - np.count_nonzero(weights)\n",
        "print(f\"{noz} zeros out of {len(weights)}\")"
      ]
    },
    {
      "cell_type": "code",
      "execution_count": null,
      "metadata": {
        "id": "TgBYm9aITPAZ"
      },
      "outputs": [],
      "source": [
        "import pandas as pd\n",
        "\n",
        "df = pd.DataFrame({\"weights\": weights})\n",
        "df.to_csv('weights_after_pruning95.csv', index=False)"
      ]
    },
    {
      "cell_type": "code",
      "execution_count": null,
      "metadata": {
        "colab": {
          "base_uri": "https://localhost:8080/"
        },
        "id": "PamYMAwFxGEC",
        "outputId": "1b81238c-8b06-4baf-ab13-5fd0f36dc561"
      },
      "outputs": [
        {
          "name": "stderr",
          "output_type": "stream",
          "text": [
            "WARNING:tensorflow:No training configuration found in the save file, so the model was *not* compiled. Compile it manually.\n"
          ]
        }
      ],
      "source": [
        "m = tf.keras.models.load_model(\"model_mobilenet.h5\")"
      ]
    },
    {
      "cell_type": "code",
      "execution_count": null,
      "metadata": {
        "colab": {
          "base_uri": "https://localhost:8080/"
        },
        "id": "uZCUf6FFxnvZ",
        "outputId": "a9e6e8a4-58f9-4a58-b148-068e064372ab"
      },
      "outputs": [
        {
          "name": "stdout",
          "output_type": "stream",
          "text": [
            "(2330186,) -85.66016 894.27356\n"
          ]
        }
      ],
      "source": [
        "weights = []\n",
        "#for i in model_for_pruning.get_weights():\n",
        "for i in m.get_weights():\n",
        "    tmp = i.reshape(-1)\n",
        "    for j in tmp:\n",
        "        weights.append(j)\n",
        "\n",
        "weights = np.array(weights)\n",
        "#weights = weights.flatten()\n",
        "print(weights.shape, weights.min(), weights.max())"
      ]
    },
    {
      "cell_type": "code",
      "execution_count": null,
      "metadata": {
        "colab": {
          "base_uri": "https://localhost:8080/"
        },
        "id": "HpbxvOMgWmhi",
        "outputId": "1a5a29a8-312b-474b-ec08-0b3879c86b7b"
      },
      "outputs": [
        {
          "data": {
            "text/plain": [
              "0.14117032"
            ]
          },
          "execution_count": 33,
          "metadata": {},
          "output_type": "execute_result"
        }
      ],
      "source": [
        "weights.mean()"
      ]
    },
    {
      "cell_type": "code",
      "execution_count": null,
      "metadata": {
        "colab": {
          "base_uri": "https://localhost:8080/"
        },
        "id": "Mx4R99WmW6Eb",
        "outputId": "87ae1ccf-e796-4b74-bed4-ae9c92f386d2"
      },
      "outputs": [
        {
          "name": "stdout",
          "output_type": "stream",
          "text": [
            "0 zeros out of 2330186\n"
          ]
        }
      ],
      "source": [
        "noz = len(weights) - np.count_nonzero(weights)\n",
        "print(f\"{noz} zeros out of {len(weights)}\")"
      ]
    },
    {
      "cell_type": "code",
      "execution_count": null,
      "metadata": {
        "id": "VzCxLVuJW9Cc"
      },
      "outputs": [],
      "source": [
        "df = pd.DataFrame({\"weights\": weights})\n",
        "df.to_csv('weights_baseline.csv', index=False)"
      ]
    },
    {
      "cell_type": "code",
      "execution_count": null,
      "metadata": {
        "colab": {
          "base_uri": "https://localhost:8080/"
        },
        "id": "2u5o_xIZXV1P",
        "outputId": "b227a5b1-061e-4950-d74c-1addb3ca559c"
      },
      "outputs": [
        {
          "name": "stdout",
          "output_type": "stream",
          "text": [
            "(2330186,) -7622.173 299940160.0\n"
          ]
        }
      ],
      "source": [
        "weights = []\n",
        "for i in model_for_export.get_weights():\n",
        "#for i in m.get_weights():\n",
        "    tmp = i.reshape(-1)\n",
        "    for j in tmp:\n",
        "        weights.append(j)\n",
        "\n",
        "weights = np.array(weights)\n",
        "#weights = weights.flatten()\n",
        "print(weights.shape, weights.min(), weights.max())"
      ]
    },
    {
      "cell_type": "code",
      "execution_count": null,
      "metadata": {
        "colab": {
          "base_uri": "https://localhost:8080/"
        },
        "id": "j5trW4LOXi6g",
        "outputId": "5774dda3-d693-4d8f-d7ba-c8527eebbb60"
      },
      "outputs": [
        {
          "data": {
            "text/plain": [
              "234.3247"
            ]
          },
          "execution_count": 65,
          "metadata": {},
          "output_type": "execute_result"
        }
      ],
      "source": [
        "weights.mean()"
      ]
    },
    {
      "cell_type": "code",
      "execution_count": null,
      "metadata": {
        "colab": {
          "base_uri": "https://localhost:8080/"
        },
        "id": "Qk-TkojyXorH",
        "outputId": "6419a8bd-80df-4bd6-a405-c9d42d0e6db2"
      },
      "outputs": [
        {
          "name": "stdout",
          "output_type": "stream",
          "text": [
            "2087712 zeros out of 2330186\n"
          ]
        }
      ],
      "source": [
        "noz = len(weights) - np.count_nonzero(weights)\n",
        "print(f\"{noz} zeros out of {len(weights)}\")"
      ]
    },
    {
      "cell_type": "code",
      "execution_count": null,
      "metadata": {
        "id": "8PUpjhWNYe6K"
      },
      "outputs": [],
      "source": [
        "df = pd.DataFrame({\"weights\": weights})\n",
        "df.to_csv('weights_after_pruning(export)95.csv', index=False)"
      ]
    },
    {
      "cell_type": "code",
      "execution_count": null,
      "metadata": {
        "id": "jl2r96o1jRQn"
      },
      "outputs": [],
      "source": [
        "hist_for_pruning60"
      ]
    },
    {
      "cell_type": "code",
      "execution_count": null,
      "metadata": {
        "colab": {
          "base_uri": "https://localhost:8080/",
          "height": 408
        },
        "id": "vTfEJTb7itsB",
        "outputId": "338d80d3-dc85-4b77-eeef-dbcd9076986d"
      },
      "outputs": [
        {
          "data": {
            "text/plain": [
              "Text(0.5, 1.0, 'Accuracy vs. Epochs')"
            ]
          },
          "execution_count": 68,
          "metadata": {},
          "output_type": "execute_result"
        },
        {
          "data": {
            "image/png": "[encoded data removed]",
            "text/plain": [
              "<Figure size 600x400 with 1 Axes>"
            ]
          },
          "metadata": {},
          "output_type": "display_data"
        }
      ],
      "source": [
        "import matplotlib.pyplot as plt\n",
        "\n",
        "no_epochs = len(hist_for_pruning95[\"accuracy\"])\n",
        "\n",
        "fig = plt.figure(figsize=(6,4))\n",
        "ax = fig.add_subplot(111)\n",
        "ax.plot(range(1, no_epochs + 1), hist_for_pruning95['val_accuracy'], label='Val Acc', ls='--', color='blue')\n",
        "ax.plot(range(1, no_epochs + 1), hist_for_pruning95['accuracy'], label='Acc', ls='-', color='blue')\n",
        "ax.legend()\n",
        "ax.set_title(\"Accuracy vs. Epochs\")"
      ]
    },
    {
      "cell_type": "code",
      "source": [
        "import pandas as pd\n",
        "\n",
        "df_list = []\n",
        "df60 = pd.read_csv(\"/content/hist_for_pruning60.csv\")\n",
        "df70 = pd.read_csv(\"/content/hist_for_pruning70.csv\")\n",
        "df80 = pd.read_csv(\"/content/hist_for_pruning80.csv\")\n",
        "df90 = pd.read_csv(\"/content/hist_for_pruning90.csv\")\n",
        "df95 = pd.read_csv(\"/content/hist_for_pruning95.csv\")\n",
        "df_list.append(df60)\n",
        "df_list.append(df70)\n",
        "df_list.append(df80)\n",
        "df_list.append(df90)\n",
        "df_list.append(df95)"
      ],
      "metadata": {
        "id": "T6AAj_3OyIXl"
      },
      "execution_count": null,
      "outputs": []
    },
    {
      "cell_type": "code",
      "source": [
        "tmp = [0.9289]\n",
        "[ tmp.append(df['val_accuracy'].iloc[-1]) for df in df_list]\n",
        "data = {\n",
        "    #\"Initial Validation Accuracy\":[df['val_accuracy'].iloc[0] for df in df_list],\n",
        "    \"Final Validation Accuracy\": tmp\n",
        "}"
      ],
      "metadata": {
        "id": "roHU8erq0tER"
      },
      "execution_count": null,
      "outputs": []
    },
    {
      "cell_type": "code",
      "source": [
        "import matplotlib.pyplot as plt\n",
        "import numpy as np\n",
        "\n",
        "def grouped_plot(data, title):\n",
        "\n",
        "    x = np.arange(len(data[\"Final Validation Accuracy\"]))  # the label locations\n",
        "    width = 0.17  # the width of the bars\n",
        "    multiplier = 0\n",
        "\n",
        "    # plt.figure(figsize=(12,6))\n",
        "    # fig, ax = plt.subplots(layout='constrained')\n",
        "    fig = plt.figure(figsize=(10,4))\n",
        "    ax = fig.add_subplot(111)\n",
        "\n",
        "    for key, acc in data.items():\n",
        "        offset = width * multiplier\n",
        "        rects = ax.bar(x + offset, acc, width, label=key)\n",
        "        #ax.bar_label(rects, padding=6)\n",
        "        multiplier += 1\n",
        "\n",
        "    ax.plot(x,[data[\"Final Validation Accuracy\"][0]]*6, ls='--', color='black')\n",
        "\n",
        "    ax.set_ylabel('Accuracy')\n",
        "    ax.set_title(title)\n",
        "    #ax.set_xticks(x + width, feats) # use if multiple methods\n",
        "    ax.set_xticks(x, labels=['Baseline', '60% Sparsity', '70% Sparsity', '80% Sparsity', '90% Sparsity', '95% Sparsity'])\n",
        "    ax.set_yticks(np.arange(11)/10)#, np.arange(11))\n",
        "    ###ax.legend()#loc='upper left')\n",
        "    #ax.set_ylim(0, 250)\n",
        "\n",
        "    plt.savefig('pruning-acc-trade-off.png', bbox_inches='tight')\n",
        "    plt.show()\n"
      ],
      "metadata": {
        "id": "xBTXylJdz6YP"
      },
      "execution_count": null,
      "outputs": []
    },
    {
      "cell_type": "code",
      "source": [
        "grouped_plot(data, \"Accuracy with increasing sparsity\")"
      ],
      "metadata": {
        "colab": {
          "base_uri": "https://localhost:8080/",
          "height": 391
        },
        "id": "D2uGUALb3q4H",
        "outputId": "9ad4ae33-08c6-4b9b-863c-5fcbd4d2f910"
      },
      "execution_count": null,
      "outputs": [
        {
          "output_type": "display_data",
          "data": {
            "text/plain": [
              "<Figure size 1000x400 with 1 Axes>"
            ],
            "image/png": "[encoded data removed]"
          },
          "metadata": {}
        }
      ]
    },
    {
      "cell_type": "code",
      "execution_count": null,
      "metadata": {
        "id": "Da3HjEsCjxD0",
        "colab": {
          "base_uri": "https://localhost:8080/"
        },
        "outputId": "1f5911c7-71e8-4839-9b2e-f68c5b174b0c"
      },
      "outputs": [
        {
          "output_type": "stream",
          "name": "stdout",
          "text": [
            "2330186\n",
            "2330186\n",
            "2330186\n",
            "2330186\n",
            "2330186\n",
            "2330186\n"
          ]
        }
      ],
      "source": [
        "import pandas as pd\n",
        "\n",
        "df60 = pd.read_csv(\"/content/weights_after_pruning(export)60.csv\")\n",
        "print(len(df60))\n",
        "df70 = pd.read_csv(\"/content/weights_after_pruning(export)70.csv\")\n",
        "print(len(df70))\n",
        "df80 = pd.read_csv(\"/content/weights_after_pruning(export)80.csv\")\n",
        "print(len(df80))\n",
        "df90 = pd.read_csv(\"/content/weights_after_pruning(export)90.csv\")\n",
        "print(len(df90))\n",
        "df95 = pd.read_csv(\"/content/weights_after_pruning(export)95.csv\")\n",
        "print(len(df95))\n",
        "df_baseline = pd.read_csv(\"/content/weights_baseline.csv\")\n",
        "print(len(df_baseline))\n",
        "\n",
        "df = pd.DataFrame()\n",
        "df['weights60'] = df60['weights']\n",
        "df['weights70'] = df70['weights']\n",
        "df['weights80'] = df80['weights']\n",
        "df['weights90'] = df90['weights']\n",
        "df['weights95'] = df95['weights']\n",
        "df['weights_baseline'] = df_baseline['weights']"
      ]
    },
    {
      "cell_type": "code",
      "execution_count": null,
      "metadata": {
        "colab": {
          "base_uri": "https://localhost:8080/"
        },
        "id": "JPg5cFqkwleY",
        "outputId": "82f15896-ca46-4551-ef00-a0889a6e0e15"
      },
      "outputs": [
        {
          "output_type": "stream",
          "name": "stdout",
          "text": [
            "No. non-zero baseline 2330186\n",
            "No. non-zero weights60 1011624\n",
            "No. non-zero weights70 791868\n",
            "No. non-zero weights80 572107\n",
            "No. non-zero weights90 352351\n",
            "No. non-zero weights95 242474\n"
          ]
        }
      ],
      "source": [
        "print('No. non-zero baseline', len(df) - (df['weights_baseline'] == 0).sum())\n",
        "print('No. non-zero weights60', len(df) - (df['weights60'] == 0).sum())\n",
        "print('No. non-zero weights70', len(df) - (df['weights70'] == 0).sum())\n",
        "print('No. non-zero weights80', len(df) - (df['weights80'] == 0).sum())\n",
        "print('No. non-zero weights90', len(df) - (df['weights90'] == 0).sum())\n",
        "print('No. non-zero weights95', len(df) - (df['weights95'] == 0).sum())\n"
      ]
    },
    {
      "cell_type": "code",
      "execution_count": null,
      "metadata": {
        "id": "eSg9DP5CCx9G",
        "colab": {
          "base_uri": "https://localhost:8080/",
          "height": 472
        },
        "outputId": "ab23acce-776d-42a5-89bb-5c90a8e8ca6a"
      },
      "outputs": [
        {
          "output_type": "display_data",
          "data": {
            "text/plain": [
              "<Figure size 640x480 with 1 Axes>"
            ],
            "image/png": "[encoded data removed]"
          },
          "metadata": {}
        }
      ],
      "source": [
        "import matplotlib.pyplot as plt\n",
        "import seaborn as sns\n",
        "\n",
        "plt.xlim(-1.5, 1.5)\n",
        "plt.ylim(0, 2.1e6)\n",
        "ax = sns.histplot(x=df['weights_baseline'], bins=20000)\n",
        "ax.set(xlabel='Weights', ylabel='Count', title='Baseline')\n",
        "\n",
        "plt.savefig('wt-baseline.png', bbox_inches='tight')\n",
        "plt.show()"
      ]
    },
    {
      "cell_type": "code",
      "execution_count": null,
      "metadata": {
        "colab": {
          "base_uri": "https://localhost:8080/",
          "height": 472
        },
        "id": "INJ_4b0DtF20",
        "outputId": "6d4c7c09-ca3d-4d93-d5da-fb7956af5f3e"
      },
      "outputs": [
        {
          "output_type": "display_data",
          "data": {
            "text/plain": [
              "<Figure size 640x480 with 1 Axes>"
            ],
            "image/png": "[encoded data removed]"
          },
          "metadata": {}
        }
      ],
      "source": [
        "import matplotlib.pyplot as plt\n",
        "import seaborn as sns\n",
        "\n",
        "plt.xlim(-1.5, 1.5)\n",
        "plt.ylim(0, 2.1e6)\n",
        "ax = sns.histplot(x=df['weights60'], bins=20000)\n",
        "ax.set(xlabel='Weights', ylabel='Count', title='60% final sparsity')\n",
        "\n",
        "plt.savefig('wt-dist60.png', bbox_inches='tight')\n",
        "plt.show()"
      ]
    },
    {
      "cell_type": "code",
      "execution_count": null,
      "metadata": {
        "id": "dEyxk-w7BfQ9",
        "colab": {
          "base_uri": "https://localhost:8080/",
          "height": 472
        },
        "outputId": "3dfc3280-e3be-4030-9cee-b1bd800704a5"
      },
      "outputs": [
        {
          "output_type": "display_data",
          "data": {
            "text/plain": [
              "<Figure size 640x480 with 1 Axes>"
            ],
            "image/png": "[encoded data removed]"
          },
          "metadata": {}
        }
      ],
      "source": [
        "import matplotlib.pyplot as plt\n",
        "import seaborn as sns\n",
        "\n",
        "plt.xlim(-1.5, 1.5)\n",
        "plt.ylim(0, 2.1e6)\n",
        "ax = sns.histplot(x=df['weights70'], bins=20000)\n",
        "ax.set(xlabel='Weights', ylabel='Count', title='70% final sparsity')\n",
        "\n",
        "plt.savefig('wt-dist70.png', bbox_inches='tight')\n",
        "plt.show()"
      ]
    },
    {
      "cell_type": "code",
      "execution_count": null,
      "metadata": {
        "id": "5Johm88cBmlr",
        "colab": {
          "base_uri": "https://localhost:8080/",
          "height": 472
        },
        "outputId": "9a098aaf-fc4e-4172-faa6-c4dfb4fcfe46"
      },
      "outputs": [
        {
          "output_type": "display_data",
          "data": {
            "text/plain": [
              "<Figure size 640x480 with 1 Axes>"
            ],
            "image/png": "[encoded data removed]"
          },
          "metadata": {}
        }
      ],
      "source": [
        "import matplotlib.pyplot as plt\n",
        "import seaborn as sns\n",
        "\n",
        "plt.xlim(-1.5, 1.5)\n",
        "plt.ylim(0, 2.1e6)\n",
        "ax = sns.histplot(x=df['weights80'], bins=20000)\n",
        "ax.set(xlabel='Weights', ylabel='Count', title='80% final sparsity')\n",
        "\n",
        "plt.savefig('wt-dist80.png', bbox_inches='tight')\n",
        "plt.show()"
      ]
    },
    {
      "cell_type": "code",
      "execution_count": null,
      "metadata": {
        "id": "2WJg0jxnBqTo",
        "colab": {
          "base_uri": "https://localhost:8080/",
          "height": 472
        },
        "outputId": "f3fe81b5-c9bd-402b-bf9c-392c98884419"
      },
      "outputs": [
        {
          "output_type": "display_data",
          "data": {
            "text/plain": [
              "<Figure size 640x480 with 1 Axes>"
            ],
            "image/png": "[encoded data removed]"
          },
          "metadata": {}
        }
      ],
      "source": [
        "import matplotlib.pyplot as plt\n",
        "import seaborn as sns\n",
        "\n",
        "plt.xlim(-1.5, 1.5)\n",
        "plt.ylim(0, 2.1e6)\n",
        "ax = sns.histplot(x=df['weights90'], bins=20000)\n",
        "ax.set(xlabel='Weights', ylabel='Count', title='90% final sparsity')\n",
        "\n",
        "plt.savefig('wt-dist90.png', bbox_inches='tight')\n",
        "plt.show()"
      ]
    },
    {
      "cell_type": "code",
      "execution_count": null,
      "metadata": {
        "id": "JM62xO_aBt9l",
        "colab": {
          "base_uri": "https://localhost:8080/",
          "height": 472
        },
        "outputId": "86c92979-42e9-4600-868d-8bd4ebb216dd"
      },
      "outputs": [
        {
          "output_type": "display_data",
          "data": {
            "text/plain": [
              "<Figure size 640x480 with 1 Axes>"
            ],
            "image/png": "[encoded data removed]"
          },
          "metadata": {}
        }
      ],
      "source": [
        "import matplotlib.pyplot as plt\n",
        "import seaborn as sns\n",
        "\n",
        "plt.xlim(-1.5, 1.5)\n",
        "plt.ylim(0, 2.1e6)\n",
        "ax = sns.histplot(x=df['weights90'], bins=40000)\n",
        "ax.set(xlabel='Weights', ylabel='Count', title='95% final sparsity')\n",
        "\n",
        "plt.savefig('wt-dist95.png', bbox_inches='tight')\n",
        "plt.show()"
      ]
    },
    {
      "cell_type": "markdown",
      "metadata": {
        "id": "5ny-HuB1yC5v"
      },
      "source": [
        "#Quantization"
      ]
    },
    {
      "cell_type": "markdown",
      "source": [
        "###QAT"
      ],
      "metadata": {
        "id": "hteGDt101lpf"
      }
    },
    {
      "cell_type": "code",
      "execution_count": 9,
      "metadata": {
        "id": "Qwm0mobDnqn8"
      },
      "outputs": [],
      "source": [
        "import tensorflow_model_optimization as tfmot\n",
        "import tempfile\n",
        "import os"
      ]
    },
    {
      "cell_type": "code",
      "execution_count": 10,
      "metadata": {
        "colab": {
          "base_uri": "https://localhost:8080/"
        },
        "id": "SI7PBg41n02a",
        "outputId": "290defa2-c31b-47d0-a1b4-3f6e61993698"
      },
      "outputs": [
        {
          "output_type": "stream",
          "name": "stderr",
          "text": [
            "WARNING:tensorflow:No training configuration found in the save file, so the model was *not* compiled. Compile it manually.\n"
          ]
        },
        {
          "output_type": "stream",
          "name": "stdout",
          "text": [
            "79/79 [==============================] - 10s 19ms/step - loss: 0.2421 - accuracy: 0.9289\n"
          ]
        },
        {
          "output_type": "execute_result",
          "data": {
            "text/plain": [
              "[0.24213388562202454, 0.9289000034332275]"
            ]
          },
          "metadata": {},
          "execution_count": 10
        }
      ],
      "source": [
        "model_base = tf.keras.models.load_model(\"model_mobilenet.h5\")\n",
        "model_base.compile(loss=SparseCategoricalCrossentropy(from_logits=True),\n",
        "              optimizer=SGD(learning_rate=0.1, momentum=0.9, weight_decay=0.0, nesterov=False),\n",
        "              metrics=['accuracy'])\n",
        "model_base.evaluate(test_data)"
      ]
    },
    {
      "cell_type": "code",
      "execution_count": 11,
      "metadata": {
        "colab": {
          "base_uri": "https://localhost:8080/"
        },
        "id": "u7xeb_xgnije",
        "outputId": "76e4d5e7-3236-4f41-8554-aa7abca36124"
      },
      "outputs": [
        {
          "output_type": "stream",
          "name": "stdout",
          "text": [
            "Model: \"model\"\n",
            "__________________________________________________________________________________________________\n",
            " Layer (type)                Output Shape                 Param #   Connected to                  \n",
            "==================================================================================================\n",
            " input_1 (InputLayer)        [(None, 32, 32, 3)]          0         []                            \n",
            "                                                                                                  \n",
            " quantize_layer (QuantizeLa  (None, 32, 32, 3)            3         ['input_1[0][0]']             \n",
            " yer)                                                                                             \n",
            "                                                                                                  \n",
            " quant_Conv1 (QuantizeWrapp  (None, 32, 32, 32)           929       ['quantize_layer[0][0]']      \n",
            " erV2)                                                                                            \n",
            "                                                                                                  \n",
            " quant_bn_Conv1 (QuantizeWr  (None, 32, 32, 32)           129       ['quant_Conv1[0][0]']         \n",
            " apperV2)                                                                                         \n",
            "                                                                                                  \n",
            " quant_Conv1_relu (Quantize  (None, 32, 32, 32)           3         ['quant_bn_Conv1[0][0]']      \n",
            " WrapperV2)                                                                                       \n",
            "                                                                                                  \n",
            " quant_block_0_expand (Quan  (None, 32, 32, 32)           1089      ['quant_Conv1_relu[0][0]']    \n",
            " tizeWrapperV2)                                                                                   \n",
            "                                                                                                  \n",
            " quant_block_0_expand_BN (Q  (None, 32, 32, 32)           129       ['quant_block_0_expand[0][0]']\n",
            " uantizeWrapperV2)                                                                                \n",
            "                                                                                                  \n",
            " quant_block_0_expand_relu   (None, 32, 32, 32)           3         ['quant_block_0_expand_BN[0][0\n",
            " (QuantizeWrapperV2)                                                ]']                           \n",
            "                                                                                                  \n",
            " quant_block_0_depthwise (Q  (None, 32, 32, 32)           291       ['quant_block_0_expand_relu[0]\n",
            " uantizeWrapperV2)                                                  [0]']                         \n",
            "                                                                                                  \n",
            " quant_block_0_depthwise_BN  (None, 32, 32, 32)           129       ['quant_block_0_depthwise[0][0\n",
            "  (QuantizeWrapperV2)                                               ]']                           \n",
            "                                                                                                  \n",
            " quant_block_0_depthwise_re  (None, 32, 32, 32)           3         ['quant_block_0_depthwise_BN[0\n",
            " lu (QuantizeWrapperV2)                                             ][0]']                        \n",
            "                                                                                                  \n",
            " quant_block_0_project (Qua  (None, 32, 32, 16)           545       ['quant_block_0_depthwise_relu\n",
            " ntizeWrapperV2)                                                    [0][0]']                      \n",
            "                                                                                                  \n",
            " quant_block_0_adjust (Quan  (None, 32, 32, 16)           547       ['quant_Conv1_relu[0][0]']    \n",
            " tizeWrapperV2)                                                                                   \n",
            "                                                                                                  \n",
            " quant_block_0_project_BN (  (None, 32, 32, 16)           67        ['quant_block_0_project[0][0]'\n",
            " QuantizeWrapperV2)                                                 ]                             \n",
            "                                                                                                  \n",
            " quant_block_0_add (Quantiz  (None, 32, 32, 16)           3         ['quant_block_0_adjust[0][0]',\n",
            " eWrapperV2)                                                         'quant_block_0_project_BN[0][\n",
            "                                                                    0]']                          \n",
            "                                                                                                  \n",
            " quant_block_1_expand (Quan  (None, 32, 32, 96)           1729      ['quant_block_0_add[0][0]']   \n",
            " tizeWrapperV2)                                                                                   \n",
            "                                                                                                  \n",
            " quant_block_1_expand_BN (Q  (None, 32, 32, 96)           385       ['quant_block_1_expand[0][0]']\n",
            " uantizeWrapperV2)                                                                                \n",
            "                                                                                                  \n",
            " quant_block_1_expand_relu   (None, 32, 32, 96)           3         ['quant_block_1_expand_BN[0][0\n",
            " (QuantizeWrapperV2)                                                ]']                           \n",
            "                                                                                                  \n",
            " quant_block_1_depthwise (Q  (None, 32, 32, 96)           867       ['quant_block_1_expand_relu[0]\n",
            " uantizeWrapperV2)                                                  [0]']                         \n",
            "                                                                                                  \n",
            " quant_block_1_depthwise_BN  (None, 32, 32, 96)           385       ['quant_block_1_depthwise[0][0\n",
            "  (QuantizeWrapperV2)                                               ]']                           \n",
            "                                                                                                  \n",
            " quant_block_1_depthwise_re  (None, 32, 32, 96)           3         ['quant_block_1_depthwise_BN[0\n",
            " lu (QuantizeWrapperV2)                                             ][0]']                        \n",
            "                                                                                                  \n",
            " quant_block_1_project (Qua  (None, 32, 32, 24)           2353      ['quant_block_1_depthwise_relu\n",
            " ntizeWrapperV2)                                                    [0][0]']                      \n",
            "                                                                                                  \n",
            " quant_block_1_adjust (Quan  (None, 32, 32, 24)           435       ['quant_block_0_add[0][0]']   \n",
            " tizeWrapperV2)                                                                                   \n",
            "                                                                                                  \n",
            " quant_block_1_project_BN (  (None, 32, 32, 24)           99        ['quant_block_1_project[0][0]'\n",
            " QuantizeWrapperV2)                                                 ]                             \n",
            "                                                                                                  \n",
            " quant_block_1_add (Quantiz  (None, 32, 32, 24)           3         ['quant_block_1_adjust[0][0]',\n",
            " eWrapperV2)                                                         'quant_block_1_project_BN[0][\n",
            "                                                                    0]']                          \n",
            "                                                                                                  \n",
            " quant_block_2_expand (Quan  (None, 32, 32, 144)          3745      ['quant_block_1_add[0][0]']   \n",
            " tizeWrapperV2)                                                                                   \n",
            "                                                                                                  \n",
            " quant_block_2_expand_BN (Q  (None, 32, 32, 144)          577       ['quant_block_2_expand[0][0]']\n",
            " uantizeWrapperV2)                                                                                \n",
            "                                                                                                  \n",
            " quant_block_2_expand_relu   (None, 32, 32, 144)          3         ['quant_block_2_expand_BN[0][0\n",
            " (QuantizeWrapperV2)                                                ]']                           \n",
            "                                                                                                  \n",
            " quant_block_2_depthwise (Q  (None, 32, 32, 144)          1299      ['quant_block_2_expand_relu[0]\n",
            " uantizeWrapperV2)                                                  [0]']                         \n",
            "                                                                                                  \n",
            " quant_block_2_depthwise_BN  (None, 32, 32, 144)          577       ['quant_block_2_depthwise[0][0\n",
            "  (QuantizeWrapperV2)                                               ]']                           \n",
            "                                                                                                  \n",
            " quant_block_2_depthwise_re  (None, 32, 32, 144)          3         ['quant_block_2_depthwise_BN[0\n",
            " lu (QuantizeWrapperV2)                                             ][0]']                        \n",
            "                                                                                                  \n",
            " quant_block_2_project (Qua  (None, 32, 32, 24)           3505      ['quant_block_2_depthwise_relu\n",
            " ntizeWrapperV2)                                                    [0][0]']                      \n",
            "                                                                                                  \n",
            " quant_block_2_project_BN (  (None, 32, 32, 24)           99        ['quant_block_2_project[0][0]'\n",
            " QuantizeWrapperV2)                                                 ]                             \n",
            "                                                                                                  \n",
            " quant_block_2_add (Quantiz  (None, 32, 32, 24)           3         ['quant_block_1_add[0][0]',   \n",
            " eWrapperV2)                                                         'quant_block_2_project_BN[0][\n",
            "                                                                    0]']                          \n",
            "                                                                                                  \n",
            " quant_block_3_expand (Quan  (None, 32, 32, 144)          3745      ['quant_block_2_add[0][0]']   \n",
            " tizeWrapperV2)                                                                                   \n",
            "                                                                                                  \n",
            " quant_block_3_expand_BN (Q  (None, 32, 32, 144)          577       ['quant_block_3_expand[0][0]']\n",
            " uantizeWrapperV2)                                                                                \n",
            "                                                                                                  \n",
            " quant_block_3_expand_relu   (None, 32, 32, 144)          3         ['quant_block_3_expand_BN[0][0\n",
            " (QuantizeWrapperV2)                                                ]']                           \n",
            "                                                                                                  \n",
            " quant_block_3_depthwise (Q  (None, 16, 16, 144)          1299      ['quant_block_3_expand_relu[0]\n",
            " uantizeWrapperV2)                                                  [0]']                         \n",
            "                                                                                                  \n",
            " quant_block_3_depthwise_BN  (None, 16, 16, 144)          577       ['quant_block_3_depthwise[0][0\n",
            "  (QuantizeWrapperV2)                                               ]']                           \n",
            "                                                                                                  \n",
            " quant_block_3_depthwise_re  (None, 16, 16, 144)          3         ['quant_block_3_depthwise_BN[0\n",
            " lu (QuantizeWrapperV2)                                             ][0]']                        \n",
            "                                                                                                  \n",
            " quant_block_3_project (Qua  (None, 16, 16, 32)           4673      ['quant_block_3_depthwise_relu\n",
            " ntizeWrapperV2)                                                    [0][0]']                      \n",
            "                                                                                                  \n",
            " quant_block_3_project_BN (  (None, 16, 16, 32)           131       ['quant_block_3_project[0][0]'\n",
            " QuantizeWrapperV2)                                                 ]                             \n",
            "                                                                                                  \n",
            " quant_block_4_expand (Quan  (None, 16, 16, 192)          6529      ['quant_block_3_project_BN[0][\n",
            " tizeWrapperV2)                                                     0]']                          \n",
            "                                                                                                  \n",
            " quant_block_4_expand_BN (Q  (None, 16, 16, 192)          769       ['quant_block_4_expand[0][0]']\n",
            " uantizeWrapperV2)                                                                                \n",
            "                                                                                                  \n",
            " quant_block_4_expand_relu   (None, 16, 16, 192)          3         ['quant_block_4_expand_BN[0][0\n",
            " (QuantizeWrapperV2)                                                ]']                           \n",
            "                                                                                                  \n",
            " quant_block_4_depthwise (Q  (None, 16, 16, 192)          1731      ['quant_block_4_expand_relu[0]\n",
            " uantizeWrapperV2)                                                  [0]']                         \n",
            "                                                                                                  \n",
            " quant_block_4_depthwise_BN  (None, 16, 16, 192)          769       ['quant_block_4_depthwise[0][0\n",
            "  (QuantizeWrapperV2)                                               ]']                           \n",
            "                                                                                                  \n",
            " quant_block_4_depthwise_re  (None, 16, 16, 192)          3         ['quant_block_4_depthwise_BN[0\n",
            " lu (QuantizeWrapperV2)                                             ][0]']                        \n",
            "                                                                                                  \n",
            " quant_block_4_project (Qua  (None, 16, 16, 32)           6209      ['quant_block_4_depthwise_relu\n",
            " ntizeWrapperV2)                                                    [0][0]']                      \n",
            "                                                                                                  \n",
            " quant_block_4_project_BN (  (None, 16, 16, 32)           131       ['quant_block_4_project[0][0]'\n",
            " QuantizeWrapperV2)                                                 ]                             \n",
            "                                                                                                  \n",
            " quant_block_4_add (Quantiz  (None, 16, 16, 32)           3         ['quant_block_3_project_BN[0][\n",
            " eWrapperV2)                                                        0]',                          \n",
            "                                                                     'quant_block_4_project_BN[0][\n",
            "                                                                    0]']                          \n",
            "                                                                                                  \n",
            " quant_block_5_expand (Quan  (None, 16, 16, 192)          6529      ['quant_block_4_add[0][0]']   \n",
            " tizeWrapperV2)                                                                                   \n",
            "                                                                                                  \n",
            " quant_block_5_expand_BN (Q  (None, 16, 16, 192)          769       ['quant_block_5_expand[0][0]']\n",
            " uantizeWrapperV2)                                                                                \n",
            "                                                                                                  \n",
            " quant_block_5_expand_relu   (None, 16, 16, 192)          3         ['quant_block_5_expand_BN[0][0\n",
            " (QuantizeWrapperV2)                                                ]']                           \n",
            "                                                                                                  \n",
            " quant_block_5_depthwise (Q  (None, 16, 16, 192)          1731      ['quant_block_5_expand_relu[0]\n",
            " uantizeWrapperV2)                                                  [0]']                         \n",
            "                                                                                                  \n",
            " quant_block_5_depthwise_BN  (None, 16, 16, 192)          769       ['quant_block_5_depthwise[0][0\n",
            "  (QuantizeWrapperV2)                                               ]']                           \n",
            "                                                                                                  \n",
            " quant_block_5_depthwise_re  (None, 16, 16, 192)          3         ['quant_block_5_depthwise_BN[0\n",
            " lu (QuantizeWrapperV2)                                             ][0]']                        \n",
            "                                                                                                  \n",
            " quant_block_5_project (Qua  (None, 16, 16, 32)           6209      ['quant_block_5_depthwise_relu\n",
            " ntizeWrapperV2)                                                    [0][0]']                      \n",
            "                                                                                                  \n",
            " quant_block_5_project_BN (  (None, 16, 16, 32)           131       ['quant_block_5_project[0][0]'\n",
            " QuantizeWrapperV2)                                                 ]                             \n",
            "                                                                                                  \n",
            " quant_block_5_add (Quantiz  (None, 16, 16, 32)           3         ['quant_block_4_add[0][0]',   \n",
            " eWrapperV2)                                                         'quant_block_5_project_BN[0][\n",
            "                                                                    0]']                          \n",
            "                                                                                                  \n",
            " quant_block_6_expand (Quan  (None, 16, 16, 192)          6529      ['quant_block_5_add[0][0]']   \n",
            " tizeWrapperV2)                                                                                   \n",
            "                                                                                                  \n",
            " quant_block_6_expand_BN (Q  (None, 16, 16, 192)          769       ['quant_block_6_expand[0][0]']\n",
            " uantizeWrapperV2)                                                                                \n",
            "                                                                                                  \n",
            " quant_block_6_expand_relu   (None, 16, 16, 192)          3         ['quant_block_6_expand_BN[0][0\n",
            " (QuantizeWrapperV2)                                                ]']                           \n",
            "                                                                                                  \n",
            " quant_block_6_depthwise (Q  (None, 8, 8, 192)            1731      ['quant_block_6_expand_relu[0]\n",
            " uantizeWrapperV2)                                                  [0]']                         \n",
            "                                                                                                  \n",
            " quant_block_6_depthwise_BN  (None, 8, 8, 192)            769       ['quant_block_6_depthwise[0][0\n",
            "  (QuantizeWrapperV2)                                               ]']                           \n",
            "                                                                                                  \n",
            " quant_block_6_depthwise_re  (None, 8, 8, 192)            3         ['quant_block_6_depthwise_BN[0\n",
            " lu (QuantizeWrapperV2)                                             ][0]']                        \n",
            "                                                                                                  \n",
            " quant_block_6_project (Qua  (None, 8, 8, 64)             12417     ['quant_block_6_depthwise_relu\n",
            " ntizeWrapperV2)                                                    [0][0]']                      \n",
            "                                                                                                  \n",
            " quant_block_6_project_BN (  (None, 8, 8, 64)             259       ['quant_block_6_project[0][0]'\n",
            " QuantizeWrapperV2)                                                 ]                             \n",
            "                                                                                                  \n",
            " quant_block_7_expand (Quan  (None, 8, 8, 384)            25345     ['quant_block_6_project_BN[0][\n",
            " tizeWrapperV2)                                                     0]']                          \n",
            "                                                                                                  \n",
            " quant_block_7_expand_BN (Q  (None, 8, 8, 384)            1537      ['quant_block_7_expand[0][0]']\n",
            " uantizeWrapperV2)                                                                                \n",
            "                                                                                                  \n",
            " quant_block_7_expand_relu   (None, 8, 8, 384)            3         ['quant_block_7_expand_BN[0][0\n",
            " (QuantizeWrapperV2)                                                ]']                           \n",
            "                                                                                                  \n",
            " quant_block_7_depthwise (Q  (None, 8, 8, 384)            3459      ['quant_block_7_expand_relu[0]\n",
            " uantizeWrapperV2)                                                  [0]']                         \n",
            "                                                                                                  \n",
            " quant_block_7_depthwise_BN  (None, 8, 8, 384)            1537      ['quant_block_7_depthwise[0][0\n",
            "  (QuantizeWrapperV2)                                               ]']                           \n",
            "                                                                                                  \n",
            " quant_block_7_depthwise_re  (None, 8, 8, 384)            3         ['quant_block_7_depthwise_BN[0\n",
            " lu (QuantizeWrapperV2)                                             ][0]']                        \n",
            "                                                                                                  \n",
            " quant_block_7_project (Qua  (None, 8, 8, 64)             24705     ['quant_block_7_depthwise_relu\n",
            " ntizeWrapperV2)                                                    [0][0]']                      \n",
            "                                                                                                  \n",
            " quant_block_7_project_BN (  (None, 8, 8, 64)             259       ['quant_block_7_project[0][0]'\n",
            " QuantizeWrapperV2)                                                 ]                             \n",
            "                                                                                                  \n",
            " quant_block_7_add (Quantiz  (None, 8, 8, 64)             3         ['quant_block_6_project_BN[0][\n",
            " eWrapperV2)                                                        0]',                          \n",
            "                                                                     'quant_block_7_project_BN[0][\n",
            "                                                                    0]']                          \n",
            "                                                                                                  \n",
            " quant_block_8_expand (Quan  (None, 8, 8, 384)            25345     ['quant_block_7_add[0][0]']   \n",
            " tizeWrapperV2)                                                                                   \n",
            "                                                                                                  \n",
            " quant_block_8_expand_BN (Q  (None, 8, 8, 384)            1537      ['quant_block_8_expand[0][0]']\n",
            " uantizeWrapperV2)                                                                                \n",
            "                                                                                                  \n",
            " quant_block_8_expand_relu   (None, 8, 8, 384)            3         ['quant_block_8_expand_BN[0][0\n",
            " (QuantizeWrapperV2)                                                ]']                           \n",
            "                                                                                                  \n",
            " quant_block_8_depthwise (Q  (None, 8, 8, 384)            3459      ['quant_block_8_expand_relu[0]\n",
            " uantizeWrapperV2)                                                  [0]']                         \n",
            "                                                                                                  \n",
            " quant_block_8_depthwise_BN  (None, 8, 8, 384)            1537      ['quant_block_8_depthwise[0][0\n",
            "  (QuantizeWrapperV2)                                               ]']                           \n",
            "                                                                                                  \n",
            " quant_block_8_depthwise_re  (None, 8, 8, 384)            3         ['quant_block_8_depthwise_BN[0\n",
            " lu (QuantizeWrapperV2)                                             ][0]']                        \n",
            "                                                                                                  \n",
            " quant_block_8_project (Qua  (None, 8, 8, 64)             24705     ['quant_block_8_depthwise_relu\n",
            " ntizeWrapperV2)                                                    [0][0]']                      \n",
            "                                                                                                  \n",
            " quant_block_8_project_BN (  (None, 8, 8, 64)             259       ['quant_block_8_project[0][0]'\n",
            " QuantizeWrapperV2)                                                 ]                             \n",
            "                                                                                                  \n",
            " quant_block_8_add (Quantiz  (None, 8, 8, 64)             3         ['quant_block_7_add[0][0]',   \n",
            " eWrapperV2)                                                         'quant_block_8_project_BN[0][\n",
            "                                                                    0]']                          \n",
            "                                                                                                  \n",
            " quant_block_9_expand (Quan  (None, 8, 8, 384)            25345     ['quant_block_8_add[0][0]']   \n",
            " tizeWrapperV2)                                                                                   \n",
            "                                                                                                  \n",
            " quant_block_9_expand_BN (Q  (None, 8, 8, 384)            1537      ['quant_block_9_expand[0][0]']\n",
            " uantizeWrapperV2)                                                                                \n",
            "                                                                                                  \n",
            " quant_block_9_expand_relu   (None, 8, 8, 384)            3         ['quant_block_9_expand_BN[0][0\n",
            " (QuantizeWrapperV2)                                                ]']                           \n",
            "                                                                                                  \n",
            " quant_block_9_depthwise (Q  (None, 8, 8, 384)            3459      ['quant_block_9_expand_relu[0]\n",
            " uantizeWrapperV2)                                                  [0]']                         \n",
            "                                                                                                  \n",
            " quant_block_9_depthwise_BN  (None, 8, 8, 384)            1537      ['quant_block_9_depthwise[0][0\n",
            "  (QuantizeWrapperV2)                                               ]']                           \n",
            "                                                                                                  \n",
            " quant_block_9_depthwise_re  (None, 8, 8, 384)            3         ['quant_block_9_depthwise_BN[0\n",
            " lu (QuantizeWrapperV2)                                             ][0]']                        \n",
            "                                                                                                  \n",
            " quant_block_9_project (Qua  (None, 8, 8, 64)             24705     ['quant_block_9_depthwise_relu\n",
            " ntizeWrapperV2)                                                    [0][0]']                      \n",
            "                                                                                                  \n",
            " quant_block_9_project_BN (  (None, 8, 8, 64)             259       ['quant_block_9_project[0][0]'\n",
            " QuantizeWrapperV2)                                                 ]                             \n",
            "                                                                                                  \n",
            " quant_block_9_add (Quantiz  (None, 8, 8, 64)             3         ['quant_block_8_add[0][0]',   \n",
            " eWrapperV2)                                                         'quant_block_9_project_BN[0][\n",
            "                                                                    0]']                          \n",
            "                                                                                                  \n",
            " quant_block_10_expand (Qua  (None, 8, 8, 384)            25345     ['quant_block_9_add[0][0]']   \n",
            " ntizeWrapperV2)                                                                                  \n",
            "                                                                                                  \n",
            " quant_block_10_expand_BN (  (None, 8, 8, 384)            1537      ['quant_block_10_expand[0][0]'\n",
            " QuantizeWrapperV2)                                                 ]                             \n",
            "                                                                                                  \n",
            " quant_block_10_expand_relu  (None, 8, 8, 384)            3         ['quant_block_10_expand_BN[0][\n",
            "  (QuantizeWrapperV2)                                               0]']                          \n",
            "                                                                                                  \n",
            " quant_block_10_depthwise (  (None, 8, 8, 384)            3459      ['quant_block_10_expand_relu[0\n",
            " QuantizeWrapperV2)                                                 ][0]']                        \n",
            "                                                                                                  \n",
            " quant_block_10_depthwise_B  (None, 8, 8, 384)            1537      ['quant_block_10_depthwise[0][\n",
            " N (QuantizeWrapperV2)                                              0]']                          \n",
            "                                                                                                  \n",
            " quant_block_10_depthwise_r  (None, 8, 8, 384)            3         ['quant_block_10_depthwise_BN[\n",
            " elu (QuantizeWrapperV2)                                            0][0]']                       \n",
            "                                                                                                  \n",
            " quant_block_10_project (Qu  (None, 8, 8, 96)             37057     ['quant_block_10_depthwise_rel\n",
            " antizeWrapperV2)                                                   u[0][0]']                     \n",
            "                                                                                                  \n",
            " quant_block_10_adjust (Qua  (None, 8, 8, 96)             6339      ['quant_block_9_add[0][0]']   \n",
            " ntizeWrapperV2)                                                                                  \n",
            "                                                                                                  \n",
            " quant_block_10_project_BN   (None, 8, 8, 96)             387       ['quant_block_10_project[0][0]\n",
            " (QuantizeWrapperV2)                                                ']                            \n",
            "                                                                                                  \n",
            " quant_block_10_add (Quanti  (None, 8, 8, 96)             3         ['quant_block_10_adjust[0][0]'\n",
            " zeWrapperV2)                                                       , 'quant_block_10_project_BN[0\n",
            "                                                                    ][0]']                        \n",
            "                                                                                                  \n",
            " quant_block_11_expand (Qua  (None, 8, 8, 576)            56449     ['quant_block_10_add[0][0]']  \n",
            " ntizeWrapperV2)                                                                                  \n",
            "                                                                                                  \n",
            " quant_block_11_expand_BN (  (None, 8, 8, 576)            2305      ['quant_block_11_expand[0][0]'\n",
            " QuantizeWrapperV2)                                                 ]                             \n",
            "                                                                                                  \n",
            " quant_block_11_expand_relu  (None, 8, 8, 576)            3         ['quant_block_11_expand_BN[0][\n",
            "  (QuantizeWrapperV2)                                               0]']                          \n",
            "                                                                                                  \n",
            " quant_block_11_depthwise (  (None, 8, 8, 576)            5187      ['quant_block_11_expand_relu[0\n",
            " QuantizeWrapperV2)                                                 ][0]']                        \n",
            "                                                                                                  \n",
            " quant_block_11_depthwise_B  (None, 8, 8, 576)            2305      ['quant_block_11_depthwise[0][\n",
            " N (QuantizeWrapperV2)                                              0]']                          \n",
            "                                                                                                  \n",
            " quant_block_11_depthwise_r  (None, 8, 8, 576)            3         ['quant_block_11_depthwise_BN[\n",
            " elu (QuantizeWrapperV2)                                            0][0]']                       \n",
            "                                                                                                  \n",
            " quant_block_11_project (Qu  (None, 8, 8, 96)             55489     ['quant_block_11_depthwise_rel\n",
            " antizeWrapperV2)                                                   u[0][0]']                     \n",
            "                                                                                                  \n",
            " quant_block_11_project_BN   (None, 8, 8, 96)             387       ['quant_block_11_project[0][0]\n",
            " (QuantizeWrapperV2)                                                ']                            \n",
            "                                                                                                  \n",
            " quant_block_11_add (Quanti  (None, 8, 8, 96)             3         ['quant_block_10_add[0][0]',  \n",
            " zeWrapperV2)                                                        'quant_block_11_project_BN[0]\n",
            "                                                                    [0]']                         \n",
            "                                                                                                  \n",
            " quant_block_12_expand (Qua  (None, 8, 8, 576)            56449     ['quant_block_11_add[0][0]']  \n",
            " ntizeWrapperV2)                                                                                  \n",
            "                                                                                                  \n",
            " quant_block_12_expand_BN (  (None, 8, 8, 576)            2305      ['quant_block_12_expand[0][0]'\n",
            " QuantizeWrapperV2)                                                 ]                             \n",
            "                                                                                                  \n",
            " quant_block_12_expand_relu  (None, 8, 8, 576)            3         ['quant_block_12_expand_BN[0][\n",
            "  (QuantizeWrapperV2)                                               0]']                          \n",
            "                                                                                                  \n",
            " quant_block_12_depthwise (  (None, 8, 8, 576)            5187      ['quant_block_12_expand_relu[0\n",
            " QuantizeWrapperV2)                                                 ][0]']                        \n",
            "                                                                                                  \n",
            " quant_block_12_depthwise_B  (None, 8, 8, 576)            2305      ['quant_block_12_depthwise[0][\n",
            " N (QuantizeWrapperV2)                                              0]']                          \n",
            "                                                                                                  \n",
            " quant_block_12_depthwise_r  (None, 8, 8, 576)            3         ['quant_block_12_depthwise_BN[\n",
            " elu (QuantizeWrapperV2)                                            0][0]']                       \n",
            "                                                                                                  \n",
            " quant_block_12_project (Qu  (None, 8, 8, 96)             55489     ['quant_block_12_depthwise_rel\n",
            " antizeWrapperV2)                                                   u[0][0]']                     \n",
            "                                                                                                  \n",
            " quant_block_12_project_BN   (None, 8, 8, 96)             387       ['quant_block_12_project[0][0]\n",
            " (QuantizeWrapperV2)                                                ']                            \n",
            "                                                                                                  \n",
            " quant_block_12_add (Quanti  (None, 8, 8, 96)             3         ['quant_block_11_add[0][0]',  \n",
            " zeWrapperV2)                                                        'quant_block_12_project_BN[0]\n",
            "                                                                    [0]']                         \n",
            "                                                                                                  \n",
            " quant_block_13_expand (Qua  (None, 8, 8, 576)            56449     ['quant_block_12_add[0][0]']  \n",
            " ntizeWrapperV2)                                                                                  \n",
            "                                                                                                  \n",
            " quant_block_13_expand_BN (  (None, 8, 8, 576)            2305      ['quant_block_13_expand[0][0]'\n",
            " QuantizeWrapperV2)                                                 ]                             \n",
            "                                                                                                  \n",
            " quant_block_13_expand_relu  (None, 8, 8, 576)            3         ['quant_block_13_expand_BN[0][\n",
            "  (QuantizeWrapperV2)                                               0]']                          \n",
            "                                                                                                  \n",
            " quant_block_13_depthwise (  (None, 4, 4, 576)            5187      ['quant_block_13_expand_relu[0\n",
            " QuantizeWrapperV2)                                                 ][0]']                        \n",
            "                                                                                                  \n",
            " quant_block_13_depthwise_B  (None, 4, 4, 576)            2305      ['quant_block_13_depthwise[0][\n",
            " N (QuantizeWrapperV2)                                              0]']                          \n",
            "                                                                                                  \n",
            " quant_block_13_depthwise_r  (None, 4, 4, 576)            3         ['quant_block_13_depthwise_BN[\n",
            " elu (QuantizeWrapperV2)                                            0][0]']                       \n",
            "                                                                                                  \n",
            " quant_block_13_project (Qu  (None, 4, 4, 160)            92481     ['quant_block_13_depthwise_rel\n",
            " antizeWrapperV2)                                                   u[0][0]']                     \n",
            "                                                                                                  \n",
            " quant_block_13_project_BN   (None, 4, 4, 160)            643       ['quant_block_13_project[0][0]\n",
            " (QuantizeWrapperV2)                                                ']                            \n",
            "                                                                                                  \n",
            " quant_block_14_expand (Qua  (None, 4, 4, 960)            155521    ['quant_block_13_project_BN[0]\n",
            " ntizeWrapperV2)                                                    [0]']                         \n",
            "                                                                                                  \n",
            " quant_block_14_expand_BN (  (None, 4, 4, 960)            3841      ['quant_block_14_expand[0][0]'\n",
            " QuantizeWrapperV2)                                                 ]                             \n",
            "                                                                                                  \n",
            " quant_block_14_expand_relu  (None, 4, 4, 960)            3         ['quant_block_14_expand_BN[0][\n",
            "  (QuantizeWrapperV2)                                               0]']                          \n",
            "                                                                                                  \n",
            " quant_block_14_depthwise (  (None, 4, 4, 960)            8643      ['quant_block_14_expand_relu[0\n",
            " QuantizeWrapperV2)                                                 ][0]']                        \n",
            "                                                                                                  \n",
            " quant_block_14_depthwise_B  (None, 4, 4, 960)            3841      ['quant_block_14_depthwise[0][\n",
            " N (QuantizeWrapperV2)                                              0]']                          \n",
            "                                                                                                  \n",
            " quant_block_14_depthwise_r  (None, 4, 4, 960)            3         ['quant_block_14_depthwise_BN[\n",
            " elu (QuantizeWrapperV2)                                            0][0]']                       \n",
            "                                                                                                  \n",
            " quant_block_14_project (Qu  (None, 4, 4, 160)            153921    ['quant_block_14_depthwise_rel\n",
            " antizeWrapperV2)                                                   u[0][0]']                     \n",
            "                                                                                                  \n",
            " quant_block_14_project_BN   (None, 4, 4, 160)            643       ['quant_block_14_project[0][0]\n",
            " (QuantizeWrapperV2)                                                ']                            \n",
            "                                                                                                  \n",
            " quant_block_14_add (Quanti  (None, 4, 4, 160)            3         ['quant_block_13_project_BN[0]\n",
            " zeWrapperV2)                                                       [0]',                         \n",
            "                                                                     'quant_block_14_project_BN[0]\n",
            "                                                                    [0]']                         \n",
            "                                                                                                  \n",
            " quant_block_15_expand (Qua  (None, 4, 4, 960)            155521    ['quant_block_14_add[0][0]']  \n",
            " ntizeWrapperV2)                                                                                  \n",
            "                                                                                                  \n",
            " quant_block_15_expand_BN (  (None, 4, 4, 960)            3841      ['quant_block_15_expand[0][0]'\n",
            " QuantizeWrapperV2)                                                 ]                             \n",
            "                                                                                                  \n",
            " quant_block_15_expand_relu  (None, 4, 4, 960)            3         ['quant_block_15_expand_BN[0][\n",
            "  (QuantizeWrapperV2)                                               0]']                          \n",
            "                                                                                                  \n",
            " quant_block_15_depthwise (  (None, 4, 4, 960)            8643      ['quant_block_15_expand_relu[0\n",
            " QuantizeWrapperV2)                                                 ][0]']                        \n",
            "                                                                                                  \n",
            " quant_block_15_depthwise_B  (None, 4, 4, 960)            3841      ['quant_block_15_depthwise[0][\n",
            " N (QuantizeWrapperV2)                                              0]']                          \n",
            "                                                                                                  \n",
            " quant_block_15_depthwise_r  (None, 4, 4, 960)            3         ['quant_block_15_depthwise_BN[\n",
            " elu (QuantizeWrapperV2)                                            0][0]']                       \n",
            "                                                                                                  \n",
            " quant_block_15_project (Qu  (None, 4, 4, 160)            153921    ['quant_block_15_depthwise_rel\n",
            " antizeWrapperV2)                                                   u[0][0]']                     \n",
            "                                                                                                  \n",
            " quant_block_15_project_BN   (None, 4, 4, 160)            643       ['quant_block_15_project[0][0]\n",
            " (QuantizeWrapperV2)                                                ']                            \n",
            "                                                                                                  \n",
            " quant_block_15_add (Quanti  (None, 4, 4, 160)            3         ['quant_block_14_add[0][0]',  \n",
            " zeWrapperV2)                                                        'quant_block_15_project_BN[0]\n",
            "                                                                    [0]']                         \n",
            "                                                                                                  \n",
            " quant_block_16_expand (Qua  (None, 4, 4, 960)            155521    ['quant_block_15_add[0][0]']  \n",
            " ntizeWrapperV2)                                                                                  \n",
            "                                                                                                  \n",
            " quant_block_16_expand_BN (  (None, 4, 4, 960)            3841      ['quant_block_16_expand[0][0]'\n",
            " QuantizeWrapperV2)                                                 ]                             \n",
            "                                                                                                  \n",
            " quant_block_16_expand_relu  (None, 4, 4, 960)            3         ['quant_block_16_expand_BN[0][\n",
            "  (QuantizeWrapperV2)                                               0]']                          \n",
            "                                                                                                  \n",
            " quant_block_16_depthwise (  (None, 4, 4, 960)            8643      ['quant_block_16_expand_relu[0\n",
            " QuantizeWrapperV2)                                                 ][0]']                        \n",
            "                                                                                                  \n",
            " quant_block_16_depthwise_B  (None, 4, 4, 960)            3841      ['quant_block_16_depthwise[0][\n",
            " N (QuantizeWrapperV2)                                              0]']                          \n",
            "                                                                                                  \n",
            " quant_block_16_depthwise_r  (None, 4, 4, 960)            3         ['quant_block_16_depthwise_BN[\n",
            " elu (QuantizeWrapperV2)                                            0][0]']                       \n",
            "                                                                                                  \n",
            " quant_block_16_project (Qu  (None, 4, 4, 320)            307841    ['quant_block_16_depthwise_rel\n",
            " antizeWrapperV2)                                                   u[0][0]']                     \n",
            "                                                                                                  \n",
            " quant_block_16_adjust (Qua  (None, 4, 4, 320)            51843     ['quant_block_15_add[0][0]']  \n",
            " ntizeWrapperV2)                                                                                  \n",
            "                                                                                                  \n",
            " quant_block_16_project_BN   (None, 4, 4, 320)            1283      ['quant_block_16_project[0][0]\n",
            " (QuantizeWrapperV2)                                                ']                            \n",
            "                                                                                                  \n",
            " quant_block_16_add (Quanti  (None, 4, 4, 320)            3         ['quant_block_16_adjust[0][0]'\n",
            " zeWrapperV2)                                                       , 'quant_block_16_project_BN[0\n",
            "                                                                    ][0]']                        \n",
            "                                                                                                  \n",
            " quant_Conv_1 (QuantizeWrap  (None, 4, 4, 1280)           412161    ['quant_block_16_add[0][0]']  \n",
            " perV2)                                                                                           \n",
            "                                                                                                  \n",
            " quant_Conv_1_bn (QuantizeW  (None, 4, 4, 1280)           5121      ['quant_Conv_1[0][0]']        \n",
            " rapperV2)                                                                                        \n",
            "                                                                                                  \n",
            " quant_out_relu (QuantizeWr  (None, 4, 4, 1280)           3         ['quant_Conv_1_bn[0][0]']     \n",
            " apperV2)                                                                                         \n",
            "                                                                                                  \n",
            " quant_global_average_pooli  (None, 1280)                 3         ['quant_out_relu[0][0]']      \n",
            " ng2d (QuantizeWrapperV2)                                                                         \n",
            "                                                                                                  \n",
            " quant_predictions (Quantiz  (None, 10)                   12815     ['quant_global_average_pooling\n",
            " eWrapperV2)                                                        2d[0][0]']                    \n",
            "                                                                                                  \n",
            "==================================================================================================\n",
            "Total params: 2351349 (8.97 MB)\n",
            "Trainable params: 2296010 (8.76 MB)\n",
            "Non-trainable params: 55339 (216.17 KB)\n",
            "__________________________________________________________________________________________________\n"
          ]
        }
      ],
      "source": [
        "quantize_model = tfmot.quantization.keras.quantize_model\n",
        "\n",
        "# q_aware stands for for quantization aware.\n",
        "q_aware_model = quantize_model(model_base)\n",
        "\n",
        "# `quantize_model` requires a recompile.\n",
        "q_aware_model.compile(optimizer=SGD(learning_rate=0.1, momentum=0.9, weight_decay=0.0, nesterov=False),#'adam',\n",
        "              loss=tf.keras.losses.SparseCategoricalCrossentropy(from_logits=True),\n",
        "              metrics=['accuracy'])\n",
        "\n",
        "q_aware_model.summary()"
      ]
    },
    {
      "cell_type": "code",
      "source": [
        "q_aware_model.fit(train_data, validation_data=test_data,\n",
        "                  epochs=40)"
      ],
      "metadata": {
        "colab": {
          "base_uri": "https://localhost:8080/"
        },
        "id": "7cKbvvMR47_g",
        "outputId": "6f94abd2-a750-47ed-91fd-0e94507b6664"
      },
      "execution_count": 12,
      "outputs": [
        {
          "output_type": "stream",
          "name": "stdout",
          "text": [
            "Epoch 1/40\n",
            "391/391 [==============================] - 85s 78ms/step - loss: 0.4606 - accuracy: 0.8411 - val_loss: 0.3501 - val_accuracy: 0.8832\n",
            "Epoch 2/40\n",
            "391/391 [==============================] - 55s 141ms/step - loss: 0.2975 - accuracy: 0.8949 - val_loss: 0.3663 - val_accuracy: 0.8887\n",
            "Epoch 3/40\n",
            "391/391 [==============================] - 21s 53ms/step - loss: 0.2789 - accuracy: 0.9010 - val_loss: 0.3275 - val_accuracy: 0.8995\n",
            "Epoch 4/40\n",
            "391/391 [==============================] - 21s 52ms/step - loss: 0.2679 - accuracy: 0.9047 - val_loss: 0.3283 - val_accuracy: 0.8913\n",
            "Epoch 5/40\n",
            "391/391 [==============================] - 21s 53ms/step - loss: 0.2609 - accuracy: 0.9068 - val_loss: 0.2955 - val_accuracy: 0.9017\n",
            "Epoch 6/40\n",
            "391/391 [==============================] - 21s 54ms/step - loss: 0.2502 - accuracy: 0.9112 - val_loss: 0.3180 - val_accuracy: 0.8971\n",
            "Epoch 7/40\n",
            "391/391 [==============================] - 21s 54ms/step - loss: 0.2455 - accuracy: 0.9122 - val_loss: 0.3706 - val_accuracy: 0.8892\n",
            "Epoch 8/40\n",
            "391/391 [==============================] - 20s 51ms/step - loss: 0.2445 - accuracy: 0.9137 - val_loss: 0.2972 - val_accuracy: 0.9031\n",
            "Epoch 9/40\n",
            "391/391 [==============================] - 21s 53ms/step - loss: 0.2402 - accuracy: 0.9141 - val_loss: 0.3190 - val_accuracy: 0.9006\n",
            "Epoch 10/40\n",
            "391/391 [==============================] - 20s 52ms/step - loss: 0.2351 - accuracy: 0.9168 - val_loss: 0.3018 - val_accuracy: 0.9056\n",
            "Epoch 11/40\n",
            "391/391 [==============================] - 21s 53ms/step - loss: 0.2347 - accuracy: 0.9161 - val_loss: 0.3377 - val_accuracy: 0.8985\n",
            "Epoch 12/40\n",
            "391/391 [==============================] - 20s 52ms/step - loss: 0.2319 - accuracy: 0.9168 - val_loss: 0.3405 - val_accuracy: 0.8915\n",
            "Epoch 13/40\n",
            "391/391 [==============================] - 20s 51ms/step - loss: 0.2209 - accuracy: 0.9207 - val_loss: 0.3266 - val_accuracy: 0.8995\n",
            "Epoch 14/40\n",
            "391/391 [==============================] - 21s 53ms/step - loss: 0.2243 - accuracy: 0.9205 - val_loss: 0.3693 - val_accuracy: 0.8913\n",
            "Epoch 15/40\n",
            "391/391 [==============================] - 20s 52ms/step - loss: 0.2136 - accuracy: 0.9244 - val_loss: 0.3087 - val_accuracy: 0.9021\n",
            "Epoch 16/40\n",
            "391/391 [==============================] - 21s 53ms/step - loss: 0.2135 - accuracy: 0.9230 - val_loss: 0.2948 - val_accuracy: 0.9076\n",
            "Epoch 17/40\n",
            "391/391 [==============================] - 20s 52ms/step - loss: 0.2116 - accuracy: 0.9254 - val_loss: 0.3084 - val_accuracy: 0.9053\n",
            "Epoch 18/40\n",
            "391/391 [==============================] - 20s 52ms/step - loss: 0.2044 - accuracy: 0.9278 - val_loss: 0.3076 - val_accuracy: 0.9068\n",
            "Epoch 19/40\n",
            "391/391 [==============================] - 20s 52ms/step - loss: 0.1996 - accuracy: 0.9292 - val_loss: 0.3153 - val_accuracy: 0.9066\n",
            "Epoch 20/40\n",
            "391/391 [==============================] - 20s 51ms/step - loss: 0.1993 - accuracy: 0.9284 - val_loss: 0.2705 - val_accuracy: 0.9140\n",
            "Epoch 21/40\n",
            "391/391 [==============================] - 20s 52ms/step - loss: 0.2031 - accuracy: 0.9276 - val_loss: 0.3338 - val_accuracy: 0.8991\n",
            "Epoch 22/40\n",
            "391/391 [==============================] - 20s 51ms/step - loss: 0.1957 - accuracy: 0.9294 - val_loss: 0.2793 - val_accuracy: 0.9127\n",
            "Epoch 23/40\n",
            "391/391 [==============================] - 20s 51ms/step - loss: 0.1893 - accuracy: 0.9328 - val_loss: 0.3317 - val_accuracy: 0.9025\n",
            "Epoch 24/40\n",
            "391/391 [==============================] - 20s 52ms/step - loss: 0.1907 - accuracy: 0.9321 - val_loss: 0.2820 - val_accuracy: 0.9121\n",
            "Epoch 25/40\n",
            "391/391 [==============================] - 21s 53ms/step - loss: 0.1810 - accuracy: 0.9349 - val_loss: 0.2979 - val_accuracy: 0.9075\n",
            "Epoch 26/40\n",
            "391/391 [==============================] - 20s 52ms/step - loss: 0.1836 - accuracy: 0.9338 - val_loss: 0.2940 - val_accuracy: 0.9100\n",
            "Epoch 27/40\n",
            "391/391 [==============================] - 20s 51ms/step - loss: 0.1817 - accuracy: 0.9351 - val_loss: 0.3025 - val_accuracy: 0.9095\n",
            "Epoch 28/40\n",
            "391/391 [==============================] - 20s 52ms/step - loss: 0.1827 - accuracy: 0.9338 - val_loss: 0.3070 - val_accuracy: 0.9072\n",
            "Epoch 29/40\n",
            "391/391 [==============================] - 20s 52ms/step - loss: 0.1794 - accuracy: 0.9360 - val_loss: 0.3119 - val_accuracy: 0.9094\n",
            "Epoch 30/40\n",
            "391/391 [==============================] - 20s 51ms/step - loss: 0.1701 - accuracy: 0.9390 - val_loss: 0.2940 - val_accuracy: 0.9111\n",
            "Epoch 31/40\n",
            "391/391 [==============================] - 20s 52ms/step - loss: 0.1729 - accuracy: 0.9379 - val_loss: 0.2707 - val_accuracy: 0.9212\n",
            "Epoch 32/40\n",
            "391/391 [==============================] - 20s 52ms/step - loss: 0.1690 - accuracy: 0.9387 - val_loss: 0.2925 - val_accuracy: 0.9140\n",
            "Epoch 33/40\n",
            "391/391 [==============================] - 20s 52ms/step - loss: 0.1657 - accuracy: 0.9403 - val_loss: 0.2996 - val_accuracy: 0.9083\n",
            "Epoch 34/40\n",
            "391/391 [==============================] - 20s 51ms/step - loss: 0.1639 - accuracy: 0.9420 - val_loss: 0.2725 - val_accuracy: 0.9174\n",
            "Epoch 35/40\n",
            "391/391 [==============================] - 20s 52ms/step - loss: 0.1589 - accuracy: 0.9421 - val_loss: 0.3015 - val_accuracy: 0.9118\n",
            "Epoch 36/40\n",
            "391/391 [==============================] - 20s 51ms/step - loss: 0.1590 - accuracy: 0.9424 - val_loss: 0.2681 - val_accuracy: 0.9194\n",
            "Epoch 37/40\n",
            "391/391 [==============================] - 20s 51ms/step - loss: 0.1603 - accuracy: 0.9432 - val_loss: 0.2770 - val_accuracy: 0.9142\n",
            "Epoch 38/40\n",
            "391/391 [==============================] - 20s 51ms/step - loss: 0.1568 - accuracy: 0.9431 - val_loss: 0.2781 - val_accuracy: 0.9165\n",
            "Epoch 39/40\n",
            "391/391 [==============================] - 20s 51ms/step - loss: 0.1524 - accuracy: 0.9457 - val_loss: 0.3078 - val_accuracy: 0.9121\n",
            "Epoch 40/40\n",
            "391/391 [==============================] - 20s 51ms/step - loss: 0.1525 - accuracy: 0.9440 - val_loss: 0.3008 - val_accuracy: 0.9147\n"
          ]
        },
        {
          "output_type": "execute_result",
          "data": {
            "text/plain": [
              "<keras.src.callbacks.History at 0x7d0b02b5a920>"
            ]
          },
          "metadata": {},
          "execution_count": 12
        }
      ]
    },
    {
      "cell_type": "code",
      "execution_count": 14,
      "metadata": {
        "colab": {
          "base_uri": "https://localhost:8080/"
        },
        "id": "1VFD6K9Qq9-s",
        "outputId": "3ea4e58c-60e6-415e-99e1-f0074aaada0f"
      },
      "outputs": [
        {
          "output_type": "stream",
          "name": "stderr",
          "text": [
            "<ipython-input-14-77b86b463da0>:1: UserWarning: You are saving your model as an HDF5 file via `model.save()`. This file format is considered legacy. We recommend using instead the native Keras format, e.g. `model.save('my_model.keras')`.\n",
            "  tf.keras.models.save_model(q_aware_model, \"q_aware_model.h5\", include_optimizer=False)\n"
          ]
        },
        {
          "output_type": "stream",
          "name": "stdout",
          "text": [
            "Total params quant aware model: 2351349\n",
            "Total params base model: 2330186\n"
          ]
        }
      ],
      "source": [
        "tf.keras.models.save_model(q_aware_model, \"q_aware_model.h5\", include_optimizer=False)\n",
        "\n",
        "hist_q_aware_model = q_aware_model.history.history\n",
        "\n",
        "print(f\"Total params quant aware model: {q_aware_model.count_params()}\")\n",
        "print(f\"Total params base model: {model_base.count_params()}\")"
      ]
    },
    {
      "cell_type": "code",
      "execution_count": 15,
      "metadata": {
        "colab": {
          "base_uri": "https://localhost:8080/"
        },
        "id": "FZ6vLHgcrPfP",
        "outputId": "e759f71d-9e64-48bf-b452-78488e6b6525"
      },
      "outputs": [
        {
          "output_type": "stream",
          "name": "stdout",
          "text": [
            "keras model gzip size (bytes): 8678813\n",
            "Keras quant aware model gzip size (bytes): 8787687\n"
          ]
        }
      ],
      "source": [
        "print(f\"keras model gzip size (bytes): {get_gzipped_model_size('model_mobilenet.h5')}\")\n",
        "print(f\"Keras quant aware model gzip size (bytes): {get_gzipped_model_size('q_aware_model.h5')}\")"
      ]
    },
    {
      "cell_type": "code",
      "execution_count": null,
      "metadata": {
        "id": "lBMG7JCB8yTp"
      },
      "outputs": [],
      "source": [
        "hist_q_aware_model"
      ]
    },
    {
      "cell_type": "code",
      "execution_count": 16,
      "metadata": {
        "colab": {
          "base_uri": "https://localhost:8080/"
        },
        "id": "ntVqYogtpeeM",
        "outputId": "c3e43d7a-f1f0-4346-8cd3-fa51bcf05159"
      },
      "outputs": [
        {
          "output_type": "stream",
          "name": "stdout",
          "text": [
            "79/79 [==============================] - 1s 13ms/step - loss: 0.3008 - accuracy: 0.9147\n"
          ]
        },
        {
          "output_type": "execute_result",
          "data": {
            "text/plain": [
              "[0.30080947279930115, 0.9146999716758728]"
            ]
          },
          "metadata": {},
          "execution_count": 16
        }
      ],
      "source": [
        "q_aware_model.evaluate(test_data)"
      ]
    },
    {
      "cell_type": "code",
      "source": [
        "import pathlib"
      ],
      "metadata": {
        "id": "c_vt-CE089Py"
      },
      "execution_count": 18,
      "outputs": []
    },
    {
      "cell_type": "code",
      "execution_count": 19,
      "metadata": {
        "colab": {
          "base_uri": "https://localhost:8080/"
        },
        "id": "NYrptcOFtL3-",
        "outputId": "5d1b5c98-3e30-4a43-d2e0-747c1a5f1f52"
      },
      "outputs": [
        {
          "output_type": "stream",
          "name": "stderr",
          "text": [
            "/usr/local/lib/python3.10/dist-packages/tensorflow/lite/python/convert.py:953: UserWarning: Statistics for quantized inputs were expected, but not specified; continuing anyway.\n",
            "  warnings.warn(\n"
          ]
        },
        {
          "output_type": "execute_result",
          "data": {
            "text/plain": [
              "2796368"
            ]
          },
          "metadata": {},
          "execution_count": 19
        }
      ],
      "source": [
        "converter = tf.lite.TFLiteConverter.from_keras_model(q_aware_model)\n",
        "converter.optimizations = [tf.lite.Optimize.DEFAULT]\n",
        "\n",
        "quantized_tflite_model = converter.convert()\n",
        "\n",
        "models_dir = pathlib.Path(\"./models/\")\n",
        "models_dir.mkdir(exist_ok=True, parents=True)\n",
        "\n",
        "models_dir = pathlib.Path(\"./models/\")\n",
        "model_tflite_file = models_dir/\"model_qat.tflite\"\n",
        "model_tflite_file.write_bytes(quantized_tflite_model)"
      ]
    },
    {
      "cell_type": "code",
      "execution_count": 20,
      "metadata": {
        "colab": {
          "base_uri": "https://localhost:8080/"
        },
        "id": "aE5nkyiWtWhk",
        "outputId": "69b1f0cd-0f03-4863-db19-e1f9b2a62bd3"
      },
      "outputs": [
        {
          "output_type": "stream",
          "name": "stdout",
          "text": [
            "Quant TFLite test_accuracy: 0.9139636075949367\n"
          ]
        }
      ],
      "source": [
        "interpreter = tf.lite.Interpreter(model_path='/content/models/model_qat.tflite')#model_content=quantized_tflite_model)\n",
        "interpreter.allocate_tensors()\n",
        "\n",
        "accuracy = evaluate_model(interpreter)\n",
        "\n",
        "print('Quant TFLite test_accuracy:', accuracy)\n",
        "#print('Quant TF test accuracy:', q_aware_model_accuracy)"
      ]
    },
    {
      "cell_type": "code",
      "execution_count": 21,
      "metadata": {
        "colab": {
          "base_uri": "https://localhost:8080/"
        },
        "id": "Qq4FYSAd4ch8",
        "outputId": "d34d9aad-28c8-491e-a82f-864e77e280a2"
      },
      "outputs": [
        {
          "output_type": "stream",
          "name": "stdout",
          "text": [
            "Float model in bytes: 9149704\n",
            "Quantized model in bytes: 2796368\n"
          ]
        }
      ],
      "source": [
        "# Create float TFLite model.\n",
        "float_converter = tf.lite.TFLiteConverter.from_keras_model(model_base)\n",
        "float_tflite_model = float_converter.convert()\n",
        "\n",
        "# Measure sizes of models.\n",
        "_, float_file = tempfile.mkstemp('.tflite')\n",
        "_, quant_file = tempfile.mkstemp('.tflite')\n",
        "\n",
        "with open(quant_file, 'wb') as f:\n",
        "  f.write(quantized_tflite_model)\n",
        "\n",
        "with open(float_file, 'wb') as f:\n",
        "  f.write(float_tflite_model)\n",
        "\n",
        "print(\"Float model in bytes:\", os.path.getsize(float_file))\n",
        "print(\"Quantized model in bytes:\", os.path.getsize(quant_file))"
      ]
    },
    {
      "cell_type": "markdown",
      "metadata": {
        "id": "Lb_5yfIM-4X3"
      },
      "source": [
        "###Post-training quantization"
      ]
    },
    {
      "cell_type": "code",
      "execution_count": 12,
      "metadata": {
        "id": "uAL1eeSp9QBk"
      },
      "outputs": [],
      "source": [
        "import pathlib\n",
        "import os"
      ]
    },
    {
      "cell_type": "code",
      "execution_count": 13,
      "metadata": {
        "colab": {
          "base_uri": "https://localhost:8080/"
        },
        "id": "z_OFVygE_phz",
        "outputId": "8cf6d475-1fdc-42bc-e452-aed7a2329427"
      },
      "outputs": [
        {
          "output_type": "stream",
          "name": "stderr",
          "text": [
            "WARNING:tensorflow:No training configuration found in the save file, so the model was *not* compiled. Compile it manually.\n"
          ]
        },
        {
          "output_type": "stream",
          "name": "stdout",
          "text": [
            "79/79 [==============================] - 5s 30ms/step - loss: 0.2422 - accuracy: 0.9289\n"
          ]
        },
        {
          "output_type": "execute_result",
          "data": {
            "text/plain": [
              "[0.24215303361415863, 0.9289000034332275]"
            ]
          },
          "metadata": {},
          "execution_count": 13
        }
      ],
      "source": [
        "model_base = tf.keras.models.load_model(\"model_mobilenet.h5\")\n",
        "model_base.compile(loss=SparseCategoricalCrossentropy(from_logits=True),\n",
        "              optimizer=SGD(learning_rate=0.1, momentum=0.9, weight_decay=0.0, nesterov=False),\n",
        "              metrics=['accuracy'])\n",
        "model_base.evaluate(test_data)"
      ]
    },
    {
      "cell_type": "code",
      "execution_count": 14,
      "metadata": {
        "id": "cBGXaWAlByIH"
      },
      "outputs": [],
      "source": [
        "models_dir = pathlib.Path(\"./models/\")\n",
        "models_dir.mkdir(exist_ok=True, parents=True)"
      ]
    },
    {
      "cell_type": "code",
      "execution_count": 15,
      "metadata": {
        "colab": {
          "base_uri": "https://localhost:8080/"
        },
        "id": "axIEQehHApUK",
        "outputId": "790c0318-2ed1-49d6-b71b-9b947b08a1c4"
      },
      "outputs": [
        {
          "output_type": "execute_result",
          "data": {
            "text/plain": [
              "9149704"
            ]
          },
          "metadata": {},
          "execution_count": 15
        }
      ],
      "source": [
        "# Convert base model to a TensorFlow Lite model and save\n",
        "converter = tf.lite.TFLiteConverter.from_keras_model(model_base)\n",
        "model_base_tflite = converter.convert()\n",
        "model_base_tflite_file = models_dir/\"model_mobilenet.tflite\"\n",
        "model_base_tflite_file.write_bytes(model_base_tflite)"
      ]
    },
    {
      "cell_type": "code",
      "source": [
        "# Quantize base model (FP16) while converting to a TensorFlow Lite model and then save\n",
        "converter = tf.lite.TFLiteConverter.from_keras_model(model_base)\n",
        "converter.optimizations = [tf.lite.Optimize.DEFAULT]\n",
        "converter.target_spec.supported_types = [tf.float16]\n",
        "\n",
        "model_quant_fp16 = converter.convert()\n",
        "model_quant_fp16_file = models_dir/\"model_quant_fp16.tflite\"\n",
        "model_quant_fp16_file.write_bytes(model_quant_fp16)"
      ],
      "metadata": {
        "colab": {
          "base_uri": "https://localhost:8080/"
        },
        "id": "eS4ViT8wBuDz",
        "outputId": "f5d7748c-0c9e-4120-f342-76b6d116ebb9"
      },
      "execution_count": 16,
      "outputs": [
        {
          "output_type": "execute_result",
          "data": {
            "text/plain": [
              "4607748"
            ]
          },
          "metadata": {},
          "execution_count": 16
        }
      ]
    },
    {
      "cell_type": "code",
      "execution_count": 17,
      "metadata": {
        "colab": {
          "base_uri": "https://localhost:8080/"
        },
        "id": "YN7xbLvOCnCx",
        "outputId": "bae6e4e7-00cd-4eb7-8ad9-274f43c24bec"
      },
      "outputs": [
        {
          "output_type": "execute_result",
          "data": {
            "text/plain": [
              "2583688"
            ]
          },
          "metadata": {},
          "execution_count": 17
        }
      ],
      "source": [
        "# Quantize base model (DR) while converting to a TensorFlow Lite model and then save\n",
        "converter = tf.lite.TFLiteConverter.from_keras_model(model_base)\n",
        "converter.optimizations = [tf.lite.Optimize.DEFAULT]\n",
        "model_quant_dr = converter.convert()\n",
        "model_quant_dr_file = models_dir/\"model_quant_dr.tflite\"\n",
        "model_quant_dr_file.write_bytes(model_quant_dr)"
      ]
    },
    {
      "cell_type": "code",
      "execution_count": 18,
      "metadata": {
        "colab": {
          "base_uri": "https://localhost:8080/"
        },
        "id": "LXTb76-Yxbrc",
        "outputId": "e420f400-e792-495c-90b6-ffd24a2a1538"
      },
      "outputs": [
        {
          "output_type": "stream",
          "name": "stdout",
          "text": [
            "Base model (tflite) size (bytes): 9149704\n",
            "Quantized model FP16 (tflite) size (bytes): 4607748\n",
            "Quantized model DR (tflite) size (bytes): 2583688\n"
          ]
        }
      ],
      "source": [
        "print(f\"Base model (tflite) size (bytes): {os.path.getsize(str(model_base_tflite_file))}\")\n",
        "print(f\"Quantized model FP16 (tflite) size (bytes): {os.path.getsize(str(model_quant_fp16_file))}\")\n",
        "print(f\"Quantized model DR (tflite) size (bytes): {os.path.getsize(str(model_quant_dr_file))}\")\n",
        "#print(f\"Quantized model INT8 (tflite) size (bytes): {os.path.getsize(str(model_quant_int8_file))}\")\n",
        "# print(f\"Base model (tflite) size (bytes): {get_gzipped_model_size('model_student.h5')}\")"
      ]
    },
    {
      "cell_type": "code",
      "execution_count": null,
      "metadata": {
        "id": "L-iJ7cQq0m7o"
      },
      "outputs": [],
      "source": [
        "print(f\"Base model (keras) gzip size (bytes): {get_gzipped_model_size('/content/model_mobilenet.h5')}\")\n",
        "print(f\"Base model (tflite) gzip size (bytes): {get_gzipped_model_size('/content/models/model_mobilenet.tflite')}\")\n",
        "\n",
        "print(f\"Quantized model FP16 (tflite) gzip size (bytes): {get_gzipped_model_size('/content/models/model_quant_fp16.tflite')}\")\n",
        "print(f\"Quantized model DR (tflite) gzip size (bytes): {get_gzipped_model_size('/content/models/model_quant_dr.tflite')}\")\n",
        "#print(f\"Quantized model INT8 (tflite) gzip size (bytes): {get_gzipped_model_size('/content/models/model_quant_int8.tflite')}\")"
      ]
    },
    {
      "cell_type": "code",
      "execution_count": 13,
      "metadata": {
        "id": "awItOkQ5H8KE"
      },
      "outputs": [],
      "source": [
        "# Helper function to evaluate the TF Lite model using \"test\" dataset.\n",
        "def evaluate_model(interpreter):\n",
        "  input_index = interpreter.get_input_details()[0][\"index\"]\n",
        "  output_index = interpreter.get_output_details()[0][\"index\"]\n",
        "\n",
        "  # Run predictions on every image in the \"test\" dataset.\n",
        "  td = list(test_data.as_numpy_iterator())\n",
        "\n",
        "  accuracy_list = []\n",
        "  for i in td:\n",
        "    prediction_digits = []\n",
        "    #for test_image in x_test:\n",
        "    for test_image in i[0]:\n",
        "      # Pre-processing: add batch dimension and convert to float32 to match with\n",
        "      # the model's input data format.\n",
        "      test_image = np.expand_dims(test_image, axis=0).astype(np.float32)\n",
        "      interpreter.set_tensor(input_index, test_image)\n",
        "\n",
        "      # Run inference.\n",
        "      interpreter.invoke()\n",
        "\n",
        "      # Post-processing: remove batch dimension and find the digit with highest\n",
        "      # probability.\n",
        "      output = interpreter.tensor(output_index)\n",
        "      digit = np.argmax(output()[0])\n",
        "      prediction_digits.append(digit)\n",
        "\n",
        "    # Compare prediction results with ground truth labels to calculate accuracy.\n",
        "    prediction_digits = np.array(prediction_digits).reshape(-1,1)\n",
        "    accuracy = (prediction_digits == i[1]).mean()\n",
        "    #print(accuracy)\n",
        "    accuracy_list.append(accuracy)\n",
        "\n",
        "  return np.mean(accuracy_list)"
      ]
    },
    {
      "cell_type": "code",
      "execution_count": 20,
      "metadata": {
        "id": "JnJjAUdpFlqy"
      },
      "outputs": [],
      "source": [
        "# Evaluate accuracy\n",
        "interpreter = tf.lite.Interpreter(model_path=str(model_base_tflite_file))\n",
        "interpreter.allocate_tensors()\n",
        "\n",
        "interpreter_quant_fp16 = tf.lite.Interpreter(model_path=str(model_quant_fp16_file))\n",
        "interpreter_quant_fp16.allocate_tensors()\n",
        "\n",
        "interpreter_quant_dr = tf.lite.Interpreter(model_path=str(model_quant_dr_file))\n",
        "interpreter_quant_dr.allocate_tensors()\n",
        "\n",
        "# interpreter_quant_int8 = tf.lite.Interpreter(model_path=str(model_quant_int8_file))\n",
        "# interpreter_quant_int8.allocate_tensors()"
      ]
    },
    {
      "cell_type": "code",
      "execution_count": 21,
      "metadata": {
        "colab": {
          "base_uri": "https://localhost:8080/"
        },
        "id": "nQpGKSCpJ5Eo",
        "outputId": "ebb3e7eb-14ee-4d09-dc65-472c947a6e39"
      },
      "outputs": [
        {
          "output_type": "stream",
          "name": "stdout",
          "text": [
            "Base model (tflite) accuracy: 0.928995253164557\n",
            "Quantized model FP16 (tflite) accuracy: 0.9288963607594937\n",
            "Quantized model DR (tflite) accuracy: 0.928995253164557\n"
          ]
        }
      ],
      "source": [
        "print(f\"Base model (tflite) accuracy: {evaluate_model(interpreter)}\")\n",
        "print(f\"Quantized model FP16 (tflite) accuracy: {evaluate_model(interpreter_quant_fp16)}\")\n",
        "print(f\"Quantized model DR (tflite) accuracy: {evaluate_model(interpreter_quant_dr)}\")\n",
        "#print(f\"Quantized model INT8 (tflite) accuracy: {evaluate_model(interpreter_quant_int8)}\")"
      ]
    }
  ],
  "metadata": {
    "colab": {
      "provenance": []
    },
    "kernelspec": {
      "display_name": "Python 3",
      "name": "python3"
    },
    "language_info": {
      "name": "python"
    }
  },
  "nbformat": 4,
  "nbformat_minor": 0
}