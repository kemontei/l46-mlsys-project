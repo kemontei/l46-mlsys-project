{
  "nbformat": 4,
  "nbformat_minor": 0,
  "metadata": {
    "colab": {
      "provenance": [],
      "gpuType": "T4"
    },
    "kernelspec": {
      "name": "python3",
      "display_name": "Python 3"
    },
    "language_info": {
      "name": "python"
    },
    "accelerator": "GPU"
  },
  "cells": [
    {
      "cell_type": "markdown",
      "source": [
        "#Setup"
      ],
      "metadata": {
        "id": "tN5UuYQH4FwV"
      }
    },
    {
      "cell_type": "code",
      "execution_count": 1,
      "metadata": {
        "colab": {
          "base_uri": "https://localhost:8080/"
        },
        "id": "LzGJysaydYqN",
        "outputId": "ccb5ed4f-06ec-4ec8-f0f5-4e66e57371ee"
      },
      "outputs": [
        {
          "output_type": "stream",
          "name": "stdout",
          "text": [
            "Collecting tensorboard_plugin_profile\n",
            "  Downloading tensorboard_plugin_profile-2.15.0-py3-none-any.whl (5.6 MB)\n",
            "\u001b[2K     \u001b[90m━━━━━━━━━━━━━━━━━━━━━━━━━━━━━━━━━━━━━━━━\u001b[0m \u001b[32m5.6/5.6 MB\u001b[0m \u001b[31m17.9 MB/s\u001b[0m eta \u001b[36m0:00:00\u001b[0m\n",
            "\u001b[?25hCollecting tensorflow-addons\n",
            "  Downloading tensorflow_addons-0.23.0-cp310-cp310-manylinux_2_17_x86_64.manylinux2014_x86_64.whl (611 kB)\n",
            "\u001b[2K     \u001b[90m━━━━━━━━━━━━━━━━━━━━━━━━━━━━━━━━━━━━━━━━\u001b[0m \u001b[32m611.8/611.8 kB\u001b[0m \u001b[31m24.1 MB/s\u001b[0m eta \u001b[36m0:00:00\u001b[0m\n",
            "\u001b[?25hCollecting gviz-api>=1.9.0 (from tensorboard_plugin_profile)\n",
            "  Downloading gviz_api-1.10.0-py2.py3-none-any.whl (13 kB)\n",
            "Requirement already satisfied: protobuf<5.0.0dev,>=3.19.6 in /usr/local/lib/python3.10/dist-packages (from tensorboard_plugin_profile) (3.20.3)\n",
            "Requirement already satisfied: setuptools>=41.0.0 in /usr/local/lib/python3.10/dist-packages (from tensorboard_plugin_profile) (67.7.2)\n",
            "Requirement already satisfied: six>=1.10.0 in /usr/local/lib/python3.10/dist-packages (from tensorboard_plugin_profile) (1.16.0)\n",
            "Requirement already satisfied: werkzeug>=0.11.15 in /usr/local/lib/python3.10/dist-packages (from tensorboard_plugin_profile) (3.0.1)\n",
            "Requirement already satisfied: packaging in /usr/local/lib/python3.10/dist-packages (from tensorflow-addons) (23.2)\n",
            "Collecting typeguard<3.0.0,>=2.7 (from tensorflow-addons)\n",
            "  Downloading typeguard-2.13.3-py3-none-any.whl (17 kB)\n",
            "Requirement already satisfied: MarkupSafe>=2.1.1 in /usr/local/lib/python3.10/dist-packages (from werkzeug>=0.11.15->tensorboard_plugin_profile) (2.1.3)\n",
            "Installing collected packages: typeguard, gviz-api, tensorflow-addons, tensorboard_plugin_profile\n",
            "Successfully installed gviz-api-1.10.0 tensorboard_plugin_profile-2.15.0 tensorflow-addons-0.23.0 typeguard-2.13.3\n",
            "\u001b[2K     \u001b[90m━━━━━━━━━━━━━━━━━━━━━━━━━━━━━━━━━━━━━━━━\u001b[0m \u001b[32m241.2/241.2 kB\u001b[0m \u001b[31m3.6 MB/s\u001b[0m eta \u001b[36m0:00:00\u001b[0m\n",
            "\u001b[?25h"
          ]
        }
      ],
      "source": [
        "!pip install -U tensorboard_plugin_profile tensorflow-addons\n",
        "!pip install -q tensorflow-model-optimization\n",
        "\n",
        "%load_ext tensorboard"
      ]
    },
    {
      "cell_type": "code",
      "source": [
        "!pip install flatbuffers prettytable\n",
        "!git clone https://github.com/eliberis/tflite-tools.git tflite_tools"
      ],
      "metadata": {
        "colab": {
          "base_uri": "https://localhost:8080/"
        },
        "id": "iRtHocsaenn1",
        "outputId": "562c6dc7-d93c-446b-9859-8043d91c3b9b"
      },
      "execution_count": 2,
      "outputs": [
        {
          "output_type": "stream",
          "name": "stdout",
          "text": [
            "Requirement already satisfied: flatbuffers in /usr/local/lib/python3.10/dist-packages (23.5.26)\n",
            "Requirement already satisfied: prettytable in /usr/local/lib/python3.10/dist-packages (3.9.0)\n",
            "Requirement already satisfied: wcwidth in /usr/local/lib/python3.10/dist-packages (from prettytable) (0.2.12)\n",
            "Cloning into 'tflite_tools'...\n",
            "remote: Enumerating objects: 320, done.\u001b[K\n",
            "remote: Counting objects: 100% (320/320), done.\u001b[K\n",
            "remote: Compressing objects: 100% (81/81), done.\u001b[K\n",
            "remote: Total 320 (delta 262), reused 283 (delta 236), pack-reused 0\u001b[K\n",
            "Receiving objects: 100% (320/320), 164.03 KiB | 6.83 MiB/s, done.\n",
            "Resolving deltas: 100% (262/262), done.\n"
          ]
        }
      ]
    },
    {
      "cell_type": "code",
      "source": [
        "import tensorflow as tf\n",
        "import tensorflow_addons as tfa\n",
        "import numpy as np\n",
        "import os"
      ],
      "metadata": {
        "colab": {
          "base_uri": "https://localhost:8080/"
        },
        "id": "939nlpR6di-C",
        "outputId": "cb36e06a-3847-4141-cae2-9e90f2d5b10b"
      },
      "execution_count": 3,
      "outputs": [
        {
          "output_type": "stream",
          "name": "stderr",
          "text": [
            "/usr/local/lib/python3.10/dist-packages/tensorflow_addons/utils/tfa_eol_msg.py:23: UserWarning: \n",
            "\n",
            "TensorFlow Addons (TFA) has ended development and introduction of new features.\n",
            "TFA has entered a minimal maintenance and release mode until a planned end of life in May 2024.\n",
            "Please modify downstream libraries to take dependencies from other repositories in our TensorFlow community (e.g. Keras, Keras-CV, and Keras-NLP). \n",
            "\n",
            "For more information see: https://github.com/tensorflow/addons/issues/2807 \n",
            "\n",
            "  warnings.warn(\n"
          ]
        }
      ]
    },
    {
      "cell_type": "markdown",
      "source": [
        "#Data Preprocessing"
      ],
      "metadata": {
        "id": "NCrf5lpB4LnE"
      }
    },
    {
      "cell_type": "code",
      "source": [
        "class_map = {\n",
        "    0: \"airplane\",\n",
        "    1: \"automobile\",\n",
        "    2: \"bird\",\n",
        "    3: \"cat\",\n",
        "    4: \"deer\",\n",
        "    5: \"dog\",\n",
        "    6: \"frog\",\n",
        "    7: \"horse\",\n",
        "    8: \"ship\",\n",
        "    9: \"truck\"\n",
        "}\n",
        "\n",
        "(x_train, y_train), (x_test, y_test) = tf.keras.datasets.cifar10.load_data()\n",
        "\n",
        "def preprocess(x):\n",
        "    x = x.astype('float32') / 255\n",
        "    return x\n",
        "\n",
        "x_train = preprocess(x_train)\n",
        "x_test = preprocess(x_test)\n",
        "\n",
        "subsample_ratio = 1.0\n",
        "subsample_index = int(len(x_train) * subsample_ratio)\n",
        "x_train = x_train[:subsample_index]\n",
        "y_train = y_train[:subsample_index]\n",
        "\n",
        "subsample_index = int(len(x_test) * subsample_ratio)\n",
        "x_test = x_test[:subsample_index]\n",
        "y_test = y_test[:subsample_index]\n"
      ],
      "metadata": {
        "colab": {
          "base_uri": "https://localhost:8080/"
        },
        "id": "1ozPWrJSdlLr",
        "outputId": "15558341-4e38-435d-d014-c45a759784d8"
      },
      "execution_count": 4,
      "outputs": [
        {
          "output_type": "stream",
          "name": "stdout",
          "text": [
            "Downloading data from https://www.cs.toronto.edu/~kriz/cifar-10-python.tar.gz\n",
            "170498071/170498071 [==============================] - 6s 0us/step\n"
          ]
        }
      ]
    },
    {
      "cell_type": "code",
      "source": [
        "train_data = tf.data.Dataset.from_tensor_slices((x_train, y_train))\n",
        "test_data = tf.data.Dataset.from_tensor_slices((x_test, y_test))\n",
        "\n",
        "batch_size = 128\n",
        "\n",
        "train_data = train_data.shuffle(16 * batch_size)\n",
        "\n",
        "train_data = train_data.batch(batch_size)\n",
        "test_data = test_data.batch(batch_size)\n",
        "\n",
        "cifar10_means = np.array([np.mean(x_train[:, :, :, 0]), np.mean(x_train[:, :, :, 1]), np.mean(x_train[:, :, :, 2])])\n",
        "cifar10_stds = np.array([np.std(x_train[:, :, :, 0]), np.std(x_train[:, :, :, 1]), np.std(x_train[:, :, :, 2])])\n",
        "\n",
        "def random_shift(x, shift_amount):\n",
        "    \"\"\" Randomly shifts images by up to HxW pixels = `shift_amount`. \"\"\"\n",
        "    h_pixels, w_pixels = shift_amount\n",
        "    orig = tf.shape(x)\n",
        "    paddings = tf.constant([[0, 0], [w_pixels, w_pixels], [h_pixels, h_pixels], [0, 0]])\n",
        "    x = tf.pad(x, mode=\"SYMMETRIC\", paddings=paddings)\n",
        "    return tf.image.random_crop(x, size=orig)\n",
        "\n",
        "def transform_data(xs, ys):\n",
        "\n",
        "    xs = tf.image.random_flip_left_right(xs)\n",
        "    xs = tfa.image.random_cutout(xs, mask_size=(12, 12))\n",
        "    xs = random_shift(xs, (4, 4))\n",
        "\n",
        "    return xs, ys\n",
        "\n",
        "def normalise(xs, ys):\n",
        "\n",
        "    xs = (xs - cifar10_means) / cifar10_stds\n",
        "    return xs, ys\n",
        "\n",
        "def undo_normalisation(x):\n",
        "    return np.clip(x * cifar10_stds + cifar10_means, 0.0, 1.0)\n",
        "\n",
        "# Augmentation and normalisation\n",
        "train_data = train_data.map(transform_data).map(normalise)\n",
        "test_data = test_data.map(normalise)"
      ],
      "metadata": {
        "id": "pCBFGouQdo3i"
      },
      "execution_count": 5,
      "outputs": []
    },
    {
      "cell_type": "code",
      "source": [
        "# Visualise data\n",
        "import matplotlib.pyplot as plt\n",
        "import numpy as np\n",
        "\n",
        "train_batch, train_target = next(train_data.as_numpy_iterator())\n",
        "test_batch, test_target = next(test_data.as_numpy_iterator())\n",
        "\n",
        "print(\"Train batch:\")\n",
        "for i in range(3):\n",
        "    print(f\"\\t{class_map[train_target[i][0]]}\")\n",
        "    plt.imshow(undo_normalisation(train_batch[i]))\n",
        "    plt.show()\n",
        "\n",
        "print(\"Test batch:\")\n",
        "for i in range(3):\n",
        "    print(f\"\\t{class_map[test_target[i][0]]}\")\n",
        "    plt.imshow(undo_normalisation(test_batch[i]))\n",
        "    plt.show()"
      ],
      "metadata": {
        "colab": {
          "base_uri": "https://localhost:8080/",
          "height": 1000
        },
        "id": "-MtJ21YSdrJu",
        "outputId": "a5ce7396-7fd9-46f9-b156-91a866494565"
      },
      "execution_count": 6,
      "outputs": [
        {
          "output_type": "stream",
          "name": "stdout",
          "text": [
            "Train batch:\n",
            "\tship\n"
          ]
        },
        {
          "output_type": "display_data",
          "data": {
            "text/plain": [
              "<Figure size 640x480 with 1 Axes>"
            ],
            "image/png": "[encoded data removed]"
          },
          "metadata": {}
        },
        {
          "output_type": "stream",
          "name": "stdout",
          "text": [
            "\tautomobile\n"
          ]
        },
        {
          "output_type": "display_data",
          "data": {
            "text/plain": [
              "<Figure size 640x480 with 1 Axes>"
            ],
            "image/png": "[encoded data removed]"
          },
          "metadata": {}
        },
        {
          "output_type": "stream",
          "name": "stdout",
          "text": [
            "\tautomobile\n"
          ]
        },
        {
          "output_type": "display_data",
          "data": {
            "text/plain": [
              "<Figure size 640x480 with 1 Axes>"
            ],
            "image/png": "[encoded data removed]"
          },
          "metadata": {}
        },
        {
          "output_type": "stream",
          "name": "stdout",
          "text": [
            "Test batch:\n",
            "\tcat\n"
          ]
        },
        {
          "output_type": "display_data",
          "data": {
            "text/plain": [
              "<Figure size 640x480 with 1 Axes>"
            ],
            "image/png": "[encoded data removed]"
          },
          "metadata": {}
        },
        {
          "output_type": "stream",
          "name": "stdout",
          "text": [
            "\tship\n"
          ]
        },
        {
          "output_type": "display_data",
          "data": {
            "text/plain": [
              "<Figure size 640x480 with 1 Axes>"
            ],
            "image/png": "[encoded data removed]"
          },
          "metadata": {}
        },
        {
          "output_type": "stream",
          "name": "stdout",
          "text": [
            "\tship\n"
          ]
        },
        {
          "output_type": "display_data",
          "data": {
            "text/plain": [
              "<Figure size 640x480 with 1 Axes>"
            ],
            "image/png": "[encoded data removed]"
          },
          "metadata": {}
        }
      ]
    },
    {
      "cell_type": "code",
      "source": [
        "from tensorflow.keras import layers\n",
        "from tensorflow.keras.models import Model\n",
        "\n",
        "def mobilenet_v2_like(input_shape=(32, 32, 3), num_classes=10):\n",
        "    def _inverted_res_block(i, filters, alpha, stride, expansion, block_id):\n",
        "        prefix = 'block_{}_'.format(block_id)\n",
        "        in_channels = i.shape[-1]\n",
        "        x = i\n",
        "\n",
        "        # Expand\n",
        "        x = layers.Conv2D(expansion * in_channels, kernel_size=1, padding='valid',\n",
        "                          use_bias=False, activation=None, name=prefix + 'expand')(x)\n",
        "        x = layers.BatchNormalization(name=prefix + 'expand_BN')(x)\n",
        "        x = layers.ReLU(name=prefix + 'expand_relu')(x)\n",
        "\n",
        "        # Depthwise\n",
        "        x = layers.DepthwiseConv2D(kernel_size=3, strides=stride, activation=None,\n",
        "                                   use_bias=False, padding='same', name=prefix + 'depthwise')(x)\n",
        "        x = layers.BatchNormalization(name=prefix + 'depthwise_BN')(x)\n",
        "        x = layers.ReLU(name=prefix + 'depthwise_relu')(x)\n",
        "\n",
        "        # Project\n",
        "        pointwise_filters = int(filters * alpha)\n",
        "        x = layers.Conv2D(pointwise_filters, kernel_size=1, padding='valid', use_bias=False,\n",
        "                          activation=None, name=prefix + 'project')(x)\n",
        "        x = layers.BatchNormalization(name=prefix + 'project_BN')(x)\n",
        "\n",
        "        if stride == 1:\n",
        "            if in_channels != pointwise_filters:\n",
        "                i = layers.Conv2D(pointwise_filters, kernel_size=1, padding='valid', use_bias=False,\n",
        "                                  activation=None, name=prefix + 'adjust')(i)\n",
        "            x = layers.Add(name=prefix + 'add')([i, x])\n",
        "        return x\n",
        "\n",
        "    i = layers.Input(shape=input_shape)\n",
        "    x = i\n",
        "\n",
        "    alpha = 1.0\n",
        "    x = layers.Conv2D(32, kernel_size=3, strides=(1, 1),\n",
        "                      padding='same', use_bias=False, name='Conv1')(x)\n",
        "    x = layers.BatchNormalization(name='bn_Conv1')(x)\n",
        "    x = layers.ReLU(name='Conv1_relu')(x)\n",
        "\n",
        "    x = _inverted_res_block(x, filters=16, alpha=alpha, stride=1, expansion=1, block_id=0)\n",
        "\n",
        "    x = _inverted_res_block(x, filters=24, alpha=alpha, stride=1, expansion=6, block_id=1)\n",
        "    x = _inverted_res_block(x, filters=24, alpha=alpha, stride=1, expansion=6, block_id=2)\n",
        "\n",
        "    x = _inverted_res_block(x, filters=32, alpha=alpha, stride=2, expansion=6, block_id=3)\n",
        "    x = _inverted_res_block(x, filters=32, alpha=alpha, stride=1, expansion=6, block_id=4)\n",
        "    x = _inverted_res_block(x, filters=32, alpha=alpha, stride=1, expansion=6, block_id=5)\n",
        "\n",
        "    x = _inverted_res_block(x, filters=64, alpha=alpha, stride=2, expansion=6, block_id=6)\n",
        "    x = _inverted_res_block(x, filters=64, alpha=alpha, stride=1, expansion=6, block_id=7)\n",
        "    x = _inverted_res_block(x, filters=64, alpha=alpha, stride=1, expansion=6, block_id=8)\n",
        "    x = _inverted_res_block(x, filters=64, alpha=alpha, stride=1, expansion=6, block_id=9)\n",
        "\n",
        "    x = _inverted_res_block(x, filters=96, alpha=alpha, stride=1, expansion=6, block_id=10)\n",
        "    x = _inverted_res_block(x, filters=96, alpha=alpha, stride=1, expansion=6, block_id=11)\n",
        "    x = _inverted_res_block(x, filters=96, alpha=alpha, stride=1, expansion=6, block_id=12)\n",
        "\n",
        "    x = _inverted_res_block(x, filters=160, alpha=alpha, stride=2, expansion=6, block_id=13)\n",
        "    x = _inverted_res_block(x, filters=160, alpha=alpha, stride=1, expansion=6, block_id=14)\n",
        "    x = _inverted_res_block(x, filters=160, alpha=alpha, stride=1, expansion=6, block_id=15)\n",
        "\n",
        "    x = _inverted_res_block(x, filters=320, alpha=alpha, stride=1, expansion=6, block_id=16)\n",
        "\n",
        "    x = layers.Conv2D(1280, kernel_size=1, use_bias=False, name='Conv_1', padding=\"valid\")(x)\n",
        "    x = layers.BatchNormalization(name='Conv_1_bn')(x)\n",
        "    x = layers.ReLU(name='out_relu')(x)\n",
        "\n",
        "    x = layers.GlobalAveragePooling2D()(x)\n",
        "    x = layers.Dense(num_classes, name='predictions')(x)\n",
        "\n",
        "    return Model(i, x)\n"
      ],
      "metadata": {
        "id": "jMdQheVTdt2U"
      },
      "execution_count": 7,
      "outputs": []
    },
    {
      "cell_type": "code",
      "source": [
        "from tensorflow.keras.callbacks import LearningRateScheduler, TensorBoard\n",
        "from tensorflow.keras.losses import SparseCategoricalCrossentropy\n",
        "from tensorflow.keras.optimizers import SGD\n",
        "\n",
        "tf.config.optimizer.set_jit(True)\n",
        "\n",
        "train_data = train_data.prefetch(1)\n",
        "test_data = test_data.prefetch(1)\n",
        "\n",
        "model_mobilenet = mobilenet_v2_like()\n",
        "model_mobilenet.compile(loss=SparseCategoricalCrossentropy(from_logits=True),\n",
        "              optimizer=SGD(learning_rate=0.1, momentum=0.9, weight_decay=0.0, nesterov=False),\n",
        "              metrics=['accuracy'])\n",
        "\n",
        "def train_model(model):\n",
        "    def lr_schedule(epoch):\n",
        "        if 0 <= epoch < 35:\n",
        "            return 0.1\n",
        "        if 35 <= epoch < 65:\n",
        "            return 0.01\n",
        "        return 0.001\n",
        "\n",
        "    model.fit(\n",
        "        train_data, validation_data=test_data,\n",
        "        epochs=60, # Set no. of epochs\n",
        "        callbacks=[\n",
        "            LearningRateScheduler(lr_schedule),\n",
        "            TensorBoard(log_dir=\"./tb_logs\", profile_batch='25, 35')  # Profile between the 25th and 35th forward pass\n",
        "        ])"
      ],
      "metadata": {
        "id": "jKMIB9HYdv2L"
      },
      "execution_count": 8,
      "outputs": []
    },
    {
      "cell_type": "code",
      "source": [
        "import pathlib\n",
        "import os"
      ],
      "metadata": {
        "id": "jD0mihaadxrV"
      },
      "execution_count": 9,
      "outputs": []
    },
    {
      "cell_type": "code",
      "source": [
        "# Helper function to evaluate the TF Lite model using \"test\" dataset.\n",
        "def evaluate_model(interpreter):\n",
        "  input_index = interpreter.get_input_details()[0][\"index\"]\n",
        "  output_index = interpreter.get_output_details()[0][\"index\"]\n",
        "\n",
        "  # Run predictions on every image in the \"test\" dataset.\n",
        "  td = list(test_data.as_numpy_iterator())\n",
        "\n",
        "  accuracy_list = []\n",
        "  for i in td:\n",
        "    prediction_digits = []\n",
        "    #for test_image in x_test:\n",
        "    for test_image in i[0]:\n",
        "      # Pre-processing: add batch dimension and convert to float32 to match with\n",
        "      # the model's input data format.\n",
        "      test_image = np.expand_dims(test_image, axis=0).astype(np.float32)\n",
        "      interpreter.set_tensor(input_index, test_image)\n",
        "\n",
        "      # Run inference.\n",
        "      interpreter.invoke()\n",
        "\n",
        "      # Post-processing: remove batch dimension and find the digit with highest\n",
        "      # probability.\n",
        "      output = interpreter.tensor(output_index)\n",
        "      digit = np.argmax(output()[0])\n",
        "      prediction_digits.append(digit)\n",
        "\n",
        "    # Compare prediction results with ground truth labels to calculate accuracy.\n",
        "    prediction_digits = np.array(prediction_digits).reshape(-1,1)\n",
        "    accuracy = (prediction_digits == i[1]).mean()\n",
        "    #print(accuracy)\n",
        "    accuracy_list.append(accuracy)\n",
        "\n",
        "  return np.mean(accuracy_list)"
      ],
      "metadata": {
        "id": "sP__MiPMd-tW"
      },
      "execution_count": 10,
      "outputs": []
    },
    {
      "cell_type": "markdown",
      "source": [
        "#Knowledge distillation and quantization"
      ],
      "metadata": {
        "id": "XWzUxQZ_d2X6"
      }
    },
    {
      "cell_type": "code",
      "source": [
        "\n",
        "model = tf.keras.models.load_model(\"/content/model_student.h5\")\n",
        "model.compile(loss=SparseCategoricalCrossentropy(from_logits=True),\n",
        "              optimizer=SGD(learning_rate=0.1, momentum=0.9, weight_decay=0.0, nesterov=False),\n",
        "              metrics=['accuracy'])\n",
        "model.evaluate(test_data)\n",
        "print(f\"Total params: {model.count_params()}\")"
      ],
      "metadata": {
        "colab": {
          "base_uri": "https://localhost:8080/"
        },
        "id": "s9lJdmoId1iF",
        "outputId": "52e0f640-eb4c-418e-98be-e2fb8db15b1d"
      },
      "execution_count": 19,
      "outputs": [
        {
          "output_type": "stream",
          "name": "stderr",
          "text": [
            "WARNING:tensorflow:No training configuration found in the save file, so the model was *not* compiled. Compile it manually.\n"
          ]
        },
        {
          "output_type": "stream",
          "name": "stdout",
          "text": [
            "79/79 [==============================] - 4s 24ms/step - loss: 0.2982 - accuracy: 0.9165\n",
            "Total params: 1384394\n"
          ]
        }
      ]
    },
    {
      "cell_type": "code",
      "source": [
        "models_dir = pathlib.Path(\"./models/\")\n",
        "models_dir.mkdir(exist_ok=True, parents=True)"
      ],
      "metadata": {
        "id": "0FP0Ktp1e3mN"
      },
      "execution_count": 12,
      "outputs": []
    },
    {
      "cell_type": "code",
      "source": [
        "# Quantize base model (DR) while converting to a TensorFlow Lite model and then save\n",
        "converter = tf.lite.TFLiteConverter.from_keras_model(model)\n",
        "converter.optimizations = [tf.lite.Optimize.DEFAULT]\n",
        "model_quant_dr = converter.convert()\n",
        "model_quant_dr_file = models_dir/\"student1_quant_dr.tflite\"\n",
        "model_quant_dr_file.write_bytes(model_quant_dr)\n",
        "\n",
        "print(f\"Quantized model DR (tflite) size (bytes): {os.path.getsize(str(model_quant_dr_file))}\")"
      ],
      "metadata": {
        "colab": {
          "base_uri": "https://localhost:8080/"
        },
        "id": "-ql5gAUie4Uo",
        "outputId": "9585a949-901f-4aaf-cb93-22f359db16fa"
      },
      "execution_count": 20,
      "outputs": [
        {
          "output_type": "stream",
          "name": "stdout",
          "text": [
            "Quantized model DR (tflite) size (bytes): 1539488\n"
          ]
        }
      ]
    },
    {
      "cell_type": "code",
      "source": [
        "#Acc\n",
        "interpreter_quant_dr = tf.lite.Interpreter(model_path=str(model_quant_dr_file))\n",
        "interpreter_quant_dr.allocate_tensors()\n",
        "print(f\"Quantized model DR (tflite) accuracy: {evaluate_model(interpreter_quant_dr)}\")"
      ],
      "metadata": {
        "colab": {
          "base_uri": "https://localhost:8080/"
        },
        "id": "5Uq_VZ6qfLde",
        "outputId": "6cfbe8a6-219b-4aef-ba08-8e28f3bc8df2"
      },
      "execution_count": 21,
      "outputs": [
        {
          "output_type": "stream",
          "name": "stdout",
          "text": [
            "Quantized model DR (tflite) accuracy: 0.9160403481012658\n"
          ]
        }
      ]
    },
    {
      "cell_type": "code",
      "source": [
        "!python tflite_tools/tflite_tools.py -i /content/models/student1_quant_dr.tflite --calc-macs --calc-size"
      ],
      "metadata": {
        "colab": {
          "base_uri": "https://localhost:8080/"
        },
        "id": "uhzafzZ0hHIz",
        "outputId": "26a06e7f-806c-4d71-d74c-75b841ffc24a"
      },
      "execution_count": 15,
      "outputs": [
        {
          "output_type": "stream",
          "name": "stdout",
          "text": [
            "Tensor information (weights excluded):\n",
            "+-----+----------------------------------------------------------------------------------+------------------+-----------------+\n",
            "|  Id |                                      Tensor                                      |      Shape       | Size in RAM (B) |\n",
            "+-----+----------------------------------------------------------------------------------+------------------+-----------------+\n",
            "|   0 |                            serving_default_input_4:0                             |  (1, 32, 32, 3)  |          12,288 |\n",
            "|  88 | model_3/Conv1_relu/Relu;model_3/bn_Con...k_5_project/Conv2D;model_3/Conv1/Conv2D | (1, 32, 32, 32)  |         131,072 |\n",
            "|  89 |                          model_3/block_0_adjust/Conv2D1                          | (1, 32, 32, 16)  |          65,536 |\n",
            "|  90 | model_3/block_0_expand_relu/Relu;model...ct/Conv2D;model_3/block_0_expand/Conv2D | (1, 32, 32, 32)  |         131,072 |\n",
            "|  91 | model_3/block_0_depthwise_relu/Relu;mo...v2D;model_3/block_0_depthwise/depthwise | (1, 32, 32, 32)  |         131,072 |\n",
            "|  92 |    model_3/block_0_project_BN/FusedBatchNormV3;model_3/block_0_project/Conv2D    | (1, 32, 32, 16)  |          65,536 |\n",
            "|  93 |                             model_3/block_0_add/add                              | (1, 32, 32, 16)  |          65,536 |\n",
            "|  94 |                          model_3/block_1_adjust/Conv2D1                          | (1, 32, 32, 24)  |          98,304 |\n",
            "|  95 | model_3/block_1_expand_relu/Relu;model...ct/Conv2D;model_3/block_1_expand/Conv2D | (1, 32, 32, 96)  |         393,216 |\n",
            "|  96 | model_3/block_1_depthwise_relu/Relu;mo...v2D;model_3/block_1_depthwise/depthwise | (1, 32, 32, 96)  |         393,216 |\n",
            "|  97 | model_3/block_1_project_BN/FusedBatchN...t/Conv2D;model_3/block_1_project/Conv2D | (1, 32, 32, 24)  |          98,304 |\n",
            "|  98 |                             model_3/block_1_add/add                              | (1, 32, 32, 24)  |          98,304 |\n",
            "|  99 | model_3/block_2_expand_relu/Relu;model...depthwise;model_3/block_2_expand/Conv2D | (1, 32, 32, 144) |         589,824 |\n",
            "| 100 | model_3/block_2_depthwise_relu/Relu;mo...ise;model_3/block_2_depthwise/depthwise | (1, 32, 32, 144) |         589,824 |\n",
            "| 101 |    model_3/block_2_project_BN/FusedBatchNormV3;model_3/block_2_project/Conv2D    | (1, 32, 32, 24)  |          98,304 |\n",
            "| 102 |                             model_3/block_2_add/add                              | (1, 32, 32, 24)  |          98,304 |\n",
            "| 103 | model_3/block_3_expand_relu/Relu;model...depthwise;model_3/block_3_expand/Conv2D | (1, 32, 32, 144) |         589,824 |\n",
            "| 104 | model_3/block_3_depthwise_relu/Relu;mo...mV3;model_3/block_3_depthwise/depthwise | (1, 16, 16, 144) |         147,456 |\n",
            "| 105 | model_3/block_3_project_BN/FusedBatchN...t/Conv2D;model_3/block_3_project/Conv2D | (1, 16, 16, 32)  |          32,768 |\n",
            "| 106 | model_3/block_4_expand_relu/Relu;model...depthwise;model_3/block_4_expand/Conv2D | (1, 16, 16, 192) |         196,608 |\n",
            "| 107 | model_3/block_4_depthwise_relu/Relu;mo...ise;model_3/block_4_depthwise/depthwise | (1, 16, 16, 192) |         196,608 |\n",
            "| 108 | model_3/block_4_project_BN/FusedBatchN...t/Conv2D;model_3/block_4_project/Conv2D | (1, 16, 16, 32)  |          32,768 |\n",
            "| 109 |                             model_3/block_4_add/add                              | (1, 16, 16, 32)  |          32,768 |\n",
            "| 110 | model_3/block_5_expand_relu/Relu;model...depthwise;model_3/block_5_expand/Conv2D | (1, 16, 16, 192) |         196,608 |\n",
            "| 111 | model_3/block_5_depthwise_relu/Relu;mo...ise;model_3/block_5_depthwise/depthwise | (1, 16, 16, 192) |         196,608 |\n",
            "| 112 |    model_3/block_5_project_BN/FusedBatchNormV3;model_3/block_5_project/Conv2D    | (1, 16, 16, 32)  |          32,768 |\n",
            "| 113 |                             model_3/block_5_add/add                              | (1, 16, 16, 32)  |          32,768 |\n",
            "| 114 | model_3/block_6_expand_relu/Relu;model...depthwise;model_3/block_6_expand/Conv2D | (1, 16, 16, 192) |         196,608 |\n",
            "| 115 | model_3/block_6_depthwise_relu/Relu;mo...mV3;model_3/block_6_depthwise/depthwise |  (1, 8, 8, 192)  |          49,152 |\n",
            "| 116 | model_3/block_6_project_BN/FusedBatchN...t/Conv2D;model_3/block_6_project/Conv2D |  (1, 8, 8, 64)   |          16,384 |\n",
            "| 117 | model_3/block_7_expand_relu/Relu;model...depthwise;model_3/block_7_expand/Conv2D |  (1, 8, 8, 384)  |          98,304 |\n",
            "| 118 | model_3/block_7_depthwise_relu/Relu;mo...ise;model_3/block_7_depthwise/depthwise |  (1, 8, 8, 384)  |          98,304 |\n",
            "| 119 | model_3/block_7_project_BN/FusedBatchN...t/Conv2D;model_3/block_7_project/Conv2D |  (1, 8, 8, 64)   |          16,384 |\n",
            "| 120 |                             model_3/block_7_add/add                              |  (1, 8, 8, 64)   |          16,384 |\n",
            "| 121 | model_3/block_9_expand_relu/Relu;model...depthwise;model_3/block_9_expand/Conv2D |  (1, 8, 8, 384)  |          98,304 |\n",
            "| 122 | model_3/block_9_depthwise_relu/Relu;mo...ise;model_3/block_9_depthwise/depthwise |  (1, 8, 8, 384)  |          98,304 |\n",
            "| 123 |    model_3/block_9_project_BN/FusedBatchNormV3;model_3/block_9_project/Conv2D    |  (1, 8, 8, 64)   |          16,384 |\n",
            "| 124 |                             model_3/block_9_add/add                              |  (1, 8, 8, 64)   |          16,384 |\n",
            "| 125 |                         model_3/block_10_adjust/Conv2D1                          |  (1, 8, 8, 96)   |          24,576 |\n",
            "| 126 | model_3/block_10_expand_relu/Relu;mode...epthwise;model_3/block_10_expand/Conv2D |  (1, 8, 8, 384)  |          98,304 |\n",
            "| 127 | model_3/block_10_depthwise_relu/Relu;m...V3;model_3/block_10_depthwise/depthwise |  (1, 8, 8, 384)  |          98,304 |\n",
            "| 128 |   model_3/block_10_project_BN/FusedBatchNormV3;model_3/block_10_project/Conv2D   |  (1, 8, 8, 96)   |          24,576 |\n",
            "| 129 |                             model_3/block_10_add/add                             |  (1, 8, 8, 96)   |          24,576 |\n",
            "| 130 | model_3/block_13_expand_relu/Relu;mode...epthwise;model_3/block_13_expand/Conv2D |  (1, 8, 8, 576)  |         147,456 |\n",
            "| 131 | model_3/block_13_depthwise_relu/Relu;m...V3;model_3/block_13_depthwise/depthwise |  (1, 4, 4, 576)  |          36,864 |\n",
            "| 132 |   model_3/block_13_project_BN/FusedBatchNormV3;model_3/block_13_project/Conv2D   |  (1, 4, 4, 160)  |          10,240 |\n",
            "| 133 |                         model_3/block_16_adjust/Conv2D1                          |  (1, 4, 4, 320)  |          20,480 |\n",
            "| 134 | model_3/block_16_expand_relu/Relu;mode...epthwise;model_3/block_16_expand/Conv2D |  (1, 4, 4, 960)  |          61,440 |\n",
            "| 135 | model_3/block_16_depthwise_relu/Relu;m...V3;model_3/block_16_depthwise/depthwise |  (1, 4, 4, 960)  |          61,440 |\n",
            "| 136 |   model_3/block_16_project_BN/FusedBatchNormV3;model_3/block_16_project/Conv2D   |  (1, 4, 4, 320)  |          20,480 |\n",
            "| 137 |                             model_3/block_16_add/add                             |  (1, 4, 4, 320)  |          20,480 |\n",
            "| 138 |  model_3/out_relu/Relu;model_3/Conv_1_bn/FusedBatchNormV3;model_3/Conv_1/Conv2D  | (1, 4, 4, 1280)  |          81,920 |\n",
            "| 139 |                     model_3/global_average_pooling2d_3/Mean                      |    (1, 1280)     |           5,120 |\n",
            "| 140 |                            StatefulPartitionedCall:0                             |     (1, 10)      |              40 |\n",
            "+-----+----------------------------------------------------------------------------------+------------------+-----------------+\n",
            "\n",
            "Operator execution schedule:\n",
            "+----------------------------------------------------------------------------------+-------------------------+----------------+-----------+---------+\n",
            "|                              Operator (output name)                              | Tensors in memory (IDs) | Memory use (B) |      MACs |    Size |\n",
            "+----------------------------------------------------------------------------------+-------------------------+----------------+-----------+---------+\n",
            "| model_3/Conv1_relu/Relu;model_3/bn_Con...k_5_project/Conv2D;model_3/Conv1/Conv2D |         [0, 88]         |        143,360 |   884,736 |   3,584 |\n",
            "|                          model_3/block_0_adjust/Conv2D1                          |         [88, 89]        |        196,608 |   524,288 |   2,112 |\n",
            "| model_3/block_0_expand_relu/Relu;model...ct/Conv2D;model_3/block_0_expand/Conv2D |       [88, 89, 90]      |        327,680 | 1,048,576 |   1,152 |\n",
            "| model_3/block_0_depthwise_relu/Relu;mo...v2D;model_3/block_0_depthwise/depthwise |       [89, 90, 91]      |        327,680 |   294,912 |   1,280 |\n",
            "|    model_3/block_0_project_BN/FusedBatchNormV3;model_3/block_0_project/Conv2D    |       [89, 91, 92]      |        262,144 |   524,288 |   2,112 |\n",
            "|                             model_3/block_0_add/add                              |       [89, 92, 93]      |        196,608 |    16,384 |       0 |\n",
            "|                          model_3/block_1_adjust/Conv2D1                          |         [93, 94]        |        163,840 |   393,216 |   1,632 |\n",
            "| model_3/block_1_expand_relu/Relu;model...ct/Conv2D;model_3/block_1_expand/Conv2D |       [93, 94, 95]      |        557,056 | 1,572,864 |   1,920 |\n",
            "| model_3/block_1_depthwise_relu/Relu;mo...v2D;model_3/block_1_depthwise/depthwise |       [94, 95, 96]      |        884,736 |   884,736 |   3,840 |\n",
            "| model_3/block_1_project_BN/FusedBatchN...t/Conv2D;model_3/block_1_project/Conv2D |       [94, 96, 97]      |        589,824 | 2,359,296 |   2,400 |\n",
            "|                             model_3/block_1_add/add                              |       [94, 97, 98]      |        294,912 |    24,576 |       0 |\n",
            "| model_3/block_2_expand_relu/Relu;model...depthwise;model_3/block_2_expand/Conv2D |         [98, 99]        |        688,128 | 3,538,944 |   4,032 |\n",
            "| model_3/block_2_depthwise_relu/Relu;mo...ise;model_3/block_2_depthwise/depthwise |      [98, 99, 100]      |      1,277,952 | 1,327,104 |   1,872 |\n",
            "|    model_3/block_2_project_BN/FusedBatchNormV3;model_3/block_2_project/Conv2D    |      [98, 100, 101]     |        786,432 | 3,538,944 |   3,552 |\n",
            "|                             model_3/block_2_add/add                              |      [98, 101, 102]     |        294,912 |    24,576 |       0 |\n",
            "| model_3/block_3_expand_relu/Relu;model...depthwise;model_3/block_3_expand/Conv2D |        [102, 103]       |        688,128 | 3,538,944 |   4,032 |\n",
            "| model_3/block_3_depthwise_relu/Relu;mo...mV3;model_3/block_3_depthwise/depthwise |        [103, 104]       |        737,280 |   331,776 |   1,872 |\n",
            "| model_3/block_3_project_BN/FusedBatchN...t/Conv2D;model_3/block_3_project/Conv2D |        [104, 105]       |        180,224 | 1,179,648 |   4,736 |\n",
            "| model_3/block_4_expand_relu/Relu;model...depthwise;model_3/block_4_expand/Conv2D |        [105, 106]       |        229,376 | 1,572,864 |   6,912 |\n",
            "| model_3/block_4_depthwise_relu/Relu;mo...ise;model_3/block_4_depthwise/depthwise |     [105, 106, 107]     |        425,984 |   442,368 |   2,496 |\n",
            "| model_3/block_4_project_BN/FusedBatchN...t/Conv2D;model_3/block_4_project/Conv2D |     [105, 107, 108]     |        262,144 | 1,572,864 |   6,272 |\n",
            "|                             model_3/block_4_add/add                              |     [105, 108, 109]     |         98,304 |     8,192 |       0 |\n",
            "| model_3/block_5_expand_relu/Relu;model...depthwise;model_3/block_5_expand/Conv2D |        [109, 110]       |        229,376 | 1,572,864 |   6,912 |\n",
            "| model_3/block_5_depthwise_relu/Relu;mo...ise;model_3/block_5_depthwise/depthwise |     [109, 110, 111]     |        425,984 |   442,368 |   2,496 |\n",
            "|    model_3/block_5_project_BN/FusedBatchNormV3;model_3/block_5_project/Conv2D    |     [109, 111, 112]     |        262,144 | 1,572,864 |   6,272 |\n",
            "|                             model_3/block_5_add/add                              |     [109, 112, 113]     |         98,304 |     8,192 |       0 |\n",
            "| model_3/block_6_expand_relu/Relu;model...depthwise;model_3/block_6_expand/Conv2D |        [113, 114]       |        229,376 | 1,572,864 |   6,912 |\n",
            "| model_3/block_6_depthwise_relu/Relu;mo...mV3;model_3/block_6_depthwise/depthwise |        [114, 115]       |        245,760 |   110,592 |   2,496 |\n",
            "| model_3/block_6_project_BN/FusedBatchN...t/Conv2D;model_3/block_6_project/Conv2D |        [115, 116]       |         65,536 |   786,432 |  12,544 |\n",
            "| model_3/block_7_expand_relu/Relu;model...depthwise;model_3/block_7_expand/Conv2D |        [116, 117]       |        114,688 | 1,572,864 |  26,112 |\n",
            "| model_3/block_7_depthwise_relu/Relu;mo...ise;model_3/block_7_depthwise/depthwise |     [116, 117, 118]     |        212,992 |   221,184 |   4,992 |\n",
            "| model_3/block_7_project_BN/FusedBatchN...t/Conv2D;model_3/block_7_project/Conv2D |     [116, 118, 119]     |        131,072 | 1,572,864 |  24,832 |\n",
            "|                             model_3/block_7_add/add                              |     [116, 119, 120]     |         49,152 |     4,096 |       0 |\n",
            "| model_3/block_9_expand_relu/Relu;model...depthwise;model_3/block_9_expand/Conv2D |        [120, 121]       |        114,688 | 1,572,864 |  26,112 |\n",
            "| model_3/block_9_depthwise_relu/Relu;mo...ise;model_3/block_9_depthwise/depthwise |     [120, 121, 122]     |        212,992 |   221,184 |   4,992 |\n",
            "|    model_3/block_9_project_BN/FusedBatchNormV3;model_3/block_9_project/Conv2D    |     [120, 122, 123]     |        131,072 | 1,572,864 |  24,832 |\n",
            "|                             model_3/block_9_add/add                              |     [120, 123, 124]     |         49,152 |     4,096 |       0 |\n",
            "|                         model_3/block_10_adjust/Conv2D1                          |        [124, 125]       |         40,960 |   393,216 |   6,528 |\n",
            "| model_3/block_10_expand_relu/Relu;mode...epthwise;model_3/block_10_expand/Conv2D |     [124, 125, 126]     |        139,264 | 1,572,864 |  26,112 |\n",
            "| model_3/block_10_depthwise_relu/Relu;m...V3;model_3/block_10_depthwise/depthwise |     [125, 126, 127]     |        221,184 |   221,184 |   4,992 |\n",
            "|   model_3/block_10_project_BN/FusedBatchNormV3;model_3/block_10_project/Conv2D   |     [128, 125, 127]     |        147,456 | 2,359,296 |  37,248 |\n",
            "|                             model_3/block_10_add/add                             |     [128, 129, 125]     |         73,728 |     6,144 |       0 |\n",
            "| model_3/block_13_expand_relu/Relu;mode...epthwise;model_3/block_13_expand/Conv2D |        [129, 130]       |        172,032 | 3,538,944 |  57,600 |\n",
            "| model_3/block_13_depthwise_relu/Relu;m...V3;model_3/block_13_depthwise/depthwise |        [130, 131]       |        184,320 |    82,944 |   7,488 |\n",
            "|   model_3/block_13_project_BN/FusedBatchNormV3;model_3/block_13_project/Conv2D   |        [131, 132]       |         47,104 | 1,474,560 |  92,800 |\n",
            "|                         model_3/block_16_adjust/Conv2D1                          |        [132, 133]       |         30,720 |   819,200 |  52,480 |\n",
            "| model_3/block_16_expand_relu/Relu;mode...epthwise;model_3/block_16_expand/Conv2D |     [132, 133, 134]     |         92,160 | 2,457,600 | 157,440 |\n",
            "| model_3/block_16_depthwise_relu/Relu;m...V3;model_3/block_16_depthwise/depthwise |     [133, 134, 135]     |        143,360 |   138,240 |  12,480 |\n",
            "|   model_3/block_16_project_BN/FusedBatchNormV3;model_3/block_16_project/Conv2D   |     [133, 135, 136]     |        102,400 | 4,915,200 | 308,480 |\n",
            "|                             model_3/block_16_add/add                             |     [133, 136, 137]     |         61,440 |     5,120 |       0 |\n",
            "|  model_3/out_relu/Relu;model_3/Conv_1_bn/FusedBatchNormV3;model_3/Conv_1/Conv2D  |        [137, 138]       |        102,400 | 6,553,600 | 414,720 |\n",
            "|                     model_3/global_average_pooling2d_3/Mean                      |        [138, 139]       |         87,040 |    20,480 |       8 |\n",
            "|                            StatefulPartitionedCall:0                             |        [139, 140]       |          5,160 |    12,800 |  12,840 |\n",
            "+----------------------------------------------------------------------------------+-------------------------+----------------+-----------+---------+\n",
            "Current peak memory usage: 1,277,952 B\n",
            "Total MACs: 62,983,680\n",
            "Total weight size: 1,396,528\n",
            "\n"
          ]
        }
      ]
    },
    {
      "cell_type": "markdown",
      "source": [
        "#Pruning and quantization"
      ],
      "metadata": {
        "id": "eP3VD8yLgDUg"
      }
    },
    {
      "cell_type": "code",
      "source": [
        "\n",
        "model = tf.keras.models.load_model(\"/content/model_pruned60.h5\")\n",
        "model.compile(loss=SparseCategoricalCrossentropy(from_logits=True),\n",
        "              optimizer=SGD(learning_rate=0.1, momentum=0.9, weight_decay=0.0, nesterov=False),\n",
        "              metrics=['accuracy'])\n",
        "model.evaluate(test_data)\n",
        "print(f\"Total params: {model.count_params()}\")\n",
        "\n",
        "# Quantize base model (DR) while converting to a TensorFlow Lite model and then save\n",
        "converter = tf.lite.TFLiteConverter.from_keras_model(model)\n",
        "converter.optimizations = [tf.lite.Optimize.DEFAULT]\n",
        "model_quant_dr = converter.convert()\n",
        "model_quant_dr_file = models_dir/\"pruned60_quant_dr.tflite\"\n",
        "model_quant_dr_file.write_bytes(model_quant_dr)\n",
        "\n",
        "print(f\"Quantized model DR (tflite) size (bytes): {os.path.getsize(str(model_quant_dr_file))}\")\n",
        "\n",
        "#Acc\n",
        "interpreter_quant_dr = tf.lite.Interpreter(model_path=str(model_quant_dr_file))\n",
        "interpreter_quant_dr.allocate_tensors()\n",
        "print(f\"Quantized model DR (tflite) accuracy: {evaluate_model(interpreter_quant_dr)}\")"
      ],
      "metadata": {
        "colab": {
          "base_uri": "https://localhost:8080/"
        },
        "id": "FAnWFKOggKcj",
        "outputId": "e94a8670-2835-4e15-dff7-fa12e8d3b1bd"
      },
      "execution_count": 17,
      "outputs": [
        {
          "output_type": "stream",
          "name": "stderr",
          "text": [
            "WARNING:tensorflow:No training configuration found in the save file, so the model was *not* compiled. Compile it manually.\n"
          ]
        },
        {
          "output_type": "stream",
          "name": "stdout",
          "text": [
            "79/79 [==============================] - 5s 29ms/step - loss: 0.2920 - accuracy: 0.9114\n",
            "Total params: 2330186\n",
            "Quantized model DR (tflite) size (bytes): 2583688\n",
            "Quantized model DR (tflite) accuracy: 0.9111946202531646\n"
          ]
        }
      ]
    },
    {
      "cell_type": "code",
      "source": [
        "!python tflite_tools/tflite_tools.py -i /content/models/pruned60_quant_dr.tflite --calc-macs --calc-size"
      ],
      "metadata": {
        "colab": {
          "base_uri": "https://localhost:8080/"
        },
        "id": "Y32FvMsYh7nf",
        "outputId": "c7a657e3-ce9a-44ed-a40a-18c5b0d28107"
      },
      "execution_count": 18,
      "outputs": [
        {
          "output_type": "stream",
          "name": "stdout",
          "text": [
            "Tensor information (weights excluded):\n",
            "+-----+----------------------------------------------------------------------------------+------------------+-----------------+\n",
            "|  Id |                                      Tensor                                      |      Shape       | Size in RAM (B) |\n",
            "+-----+----------------------------------------------------------------------------------+------------------+-----------------+\n",
            "|   0 |                            serving_default_input_1:0                             |  (1, 32, 32, 3)  |          12,288 |\n",
            "| 118 | model/Conv1_relu/Relu;model/bn_Conv1/F...ock_5_project/Conv2D;model/Conv1/Conv2D | (1, 32, 32, 32)  |         131,072 |\n",
            "| 119 |                           model/block_0_adjust/Conv2D1                           | (1, 32, 32, 16)  |          65,536 |\n",
            "| 120 | model/block_0_expand_relu/Relu;model/b...ject/Conv2D;model/block_0_expand/Conv2D | (1, 32, 32, 32)  |         131,072 |\n",
            "| 121 | model/block_0_depthwise_relu/Relu;mode...onv2D;model/block_0_depthwise/depthwise | (1, 32, 32, 32)  |         131,072 |\n",
            "| 122 |      model/block_0_project_BN/FusedBatchNormV3;model/block_0_project/Conv2D      | (1, 32, 32, 16)  |          65,536 |\n",
            "| 123 |                              model/block_0_add/add                               | (1, 32, 32, 16)  |          65,536 |\n",
            "| 124 |                           model/block_1_adjust/Conv2D1                           | (1, 32, 32, 24)  |          98,304 |\n",
            "| 125 | model/block_1_expand_relu/Relu;model/b...ject/Conv2D;model/block_1_expand/Conv2D | (1, 32, 32, 96)  |         393,216 |\n",
            "| 126 | model/block_1_depthwise_relu/Relu;mode...onv2D;model/block_1_depthwise/depthwise | (1, 32, 32, 96)  |         393,216 |\n",
            "| 127 | model/block_1_project_BN/FusedBatchNor...ect/Conv2D;model/block_1_project/Conv2D | (1, 32, 32, 24)  |          98,304 |\n",
            "| 128 |                              model/block_1_add/add                               | (1, 32, 32, 24)  |          98,304 |\n",
            "| 129 | model/block_2_expand_relu/Relu;model/b...e/depthwise;model/block_2_expand/Conv2D | (1, 32, 32, 144) |         589,824 |\n",
            "| 130 | model/block_2_depthwise_relu/Relu;mode...hwise;model/block_2_depthwise/depthwise | (1, 32, 32, 144) |         589,824 |\n",
            "| 131 |      model/block_2_project_BN/FusedBatchNormV3;model/block_2_project/Conv2D      | (1, 32, 32, 24)  |          98,304 |\n",
            "| 132 |                              model/block_2_add/add                               | (1, 32, 32, 24)  |          98,304 |\n",
            "| 133 | model/block_3_expand_relu/Relu;model/b...e/depthwise;model/block_3_expand/Conv2D | (1, 32, 32, 144) |         589,824 |\n",
            "| 134 | model/block_3_depthwise_relu/Relu;mode...ormV3;model/block_3_depthwise/depthwise | (1, 16, 16, 144) |         147,456 |\n",
            "| 135 | model/block_3_project_BN/FusedBatchNor...ect/Conv2D;model/block_3_project/Conv2D | (1, 16, 16, 32)  |          32,768 |\n",
            "| 136 | model/block_4_expand_relu/Relu;model/b...e/depthwise;model/block_4_expand/Conv2D | (1, 16, 16, 192) |         196,608 |\n",
            "| 137 | model/block_4_depthwise_relu/Relu;mode...hwise;model/block_4_depthwise/depthwise | (1, 16, 16, 192) |         196,608 |\n",
            "| 138 | model/block_4_project_BN/FusedBatchNor...ect/Conv2D;model/block_4_project/Conv2D | (1, 16, 16, 32)  |          32,768 |\n",
            "| 139 |                              model/block_4_add/add                               | (1, 16, 16, 32)  |          32,768 |\n",
            "| 140 | model/block_5_expand_relu/Relu;model/b...e/depthwise;model/block_5_expand/Conv2D | (1, 16, 16, 192) |         196,608 |\n",
            "| 141 | model/block_5_depthwise_relu/Relu;mode...hwise;model/block_5_depthwise/depthwise | (1, 16, 16, 192) |         196,608 |\n",
            "| 142 |      model/block_5_project_BN/FusedBatchNormV3;model/block_5_project/Conv2D      | (1, 16, 16, 32)  |          32,768 |\n",
            "| 143 |                              model/block_5_add/add                               | (1, 16, 16, 32)  |          32,768 |\n",
            "| 144 | model/block_6_expand_relu/Relu;model/b...e/depthwise;model/block_6_expand/Conv2D | (1, 16, 16, 192) |         196,608 |\n",
            "| 145 | model/block_6_depthwise_relu/Relu;mode...ormV3;model/block_6_depthwise/depthwise |  (1, 8, 8, 192)  |          49,152 |\n",
            "| 146 | model/block_6_project_BN/FusedBatchNor...ect/Conv2D;model/block_6_project/Conv2D |  (1, 8, 8, 64)   |          16,384 |\n",
            "| 147 | model/block_7_expand_relu/Relu;model/b...e/depthwise;model/block_7_expand/Conv2D |  (1, 8, 8, 384)  |          98,304 |\n",
            "| 148 | model/block_7_depthwise_relu/Relu;mode...hwise;model/block_7_depthwise/depthwise |  (1, 8, 8, 384)  |          98,304 |\n",
            "| 149 | model/block_7_project_BN/FusedBatchNor...ect/Conv2D;model/block_7_project/Conv2D |  (1, 8, 8, 64)   |          16,384 |\n",
            "| 150 |                              model/block_7_add/add                               |  (1, 8, 8, 64)   |          16,384 |\n",
            "| 151 | model/block_8_expand_relu/Relu;model/b...e/depthwise;model/block_8_expand/Conv2D |  (1, 8, 8, 384)  |          98,304 |\n",
            "| 152 | model/block_8_depthwise_relu/Relu;mode...hwise;model/block_8_depthwise/depthwise |  (1, 8, 8, 384)  |          98,304 |\n",
            "| 153 | model/block_8_project_BN/FusedBatchNor...ect/Conv2D;model/block_8_project/Conv2D |  (1, 8, 8, 64)   |          16,384 |\n",
            "| 154 |                              model/block_8_add/add                               |  (1, 8, 8, 64)   |          16,384 |\n",
            "| 155 | model/block_9_expand_relu/Relu;model/b...e/depthwise;model/block_9_expand/Conv2D |  (1, 8, 8, 384)  |          98,304 |\n",
            "| 156 | model/block_9_depthwise_relu/Relu;mode...hwise;model/block_9_depthwise/depthwise |  (1, 8, 8, 384)  |          98,304 |\n",
            "| 157 |      model/block_9_project_BN/FusedBatchNormV3;model/block_9_project/Conv2D      |  (1, 8, 8, 64)   |          16,384 |\n",
            "| 158 |                              model/block_9_add/add                               |  (1, 8, 8, 64)   |          16,384 |\n",
            "| 159 |                          model/block_10_adjust/Conv2D1                           |  (1, 8, 8, 96)   |          24,576 |\n",
            "| 160 | model/block_10_expand_relu/Relu;model/.../depthwise;model/block_10_expand/Conv2D |  (1, 8, 8, 384)  |          98,304 |\n",
            "| 161 | model/block_10_depthwise_relu/Relu;mod...rmV3;model/block_10_depthwise/depthwise |  (1, 8, 8, 384)  |          98,304 |\n",
            "| 162 | model/block_10_project_BN/FusedBatchNo...ct/Conv2D;model/block_10_project/Conv2D |  (1, 8, 8, 96)   |          24,576 |\n",
            "| 163 |                              model/block_10_add/add                              |  (1, 8, 8, 96)   |          24,576 |\n",
            "| 164 | model/block_11_expand_relu/Relu;model/.../depthwise;model/block_11_expand/Conv2D |  (1, 8, 8, 576)  |         147,456 |\n",
            "| 165 | model/block_11_depthwise_relu/Relu;mod...wise;model/block_11_depthwise/depthwise |  (1, 8, 8, 576)  |         147,456 |\n",
            "| 166 | model/block_11_project_BN/FusedBatchNo...ct/Conv2D;model/block_11_project/Conv2D |  (1, 8, 8, 96)   |          24,576 |\n",
            "| 167 |                              model/block_11_add/add                              |  (1, 8, 8, 96)   |          24,576 |\n",
            "| 168 | model/block_12_expand_relu/Relu;model/.../depthwise;model/block_12_expand/Conv2D |  (1, 8, 8, 576)  |         147,456 |\n",
            "| 169 | model/block_12_depthwise_relu/Relu;mod...wise;model/block_12_depthwise/depthwise |  (1, 8, 8, 576)  |         147,456 |\n",
            "| 170 |     model/block_12_project_BN/FusedBatchNormV3;model/block_12_project/Conv2D     |  (1, 8, 8, 96)   |          24,576 |\n",
            "| 171 |                              model/block_12_add/add                              |  (1, 8, 8, 96)   |          24,576 |\n",
            "| 172 | model/block_13_expand_relu/Relu;model/.../depthwise;model/block_13_expand/Conv2D |  (1, 8, 8, 576)  |         147,456 |\n",
            "| 173 | model/block_13_depthwise_relu/Relu;mod...rmV3;model/block_13_depthwise/depthwise |  (1, 4, 4, 576)  |          36,864 |\n",
            "| 174 | model/block_13_project_BN/FusedBatchNo...ct/Conv2D;model/block_13_project/Conv2D |  (1, 4, 4, 160)  |          10,240 |\n",
            "| 175 | model/block_14_expand_relu/Relu;model/.../depthwise;model/block_14_expand/Conv2D |  (1, 4, 4, 960)  |          61,440 |\n",
            "| 176 | model/block_14_depthwise_relu/Relu;mod...wise;model/block_14_depthwise/depthwise |  (1, 4, 4, 960)  |          61,440 |\n",
            "| 177 | model/block_14_project_BN/FusedBatchNo...ct/Conv2D;model/block_14_project/Conv2D |  (1, 4, 4, 160)  |          10,240 |\n",
            "| 178 |                              model/block_14_add/add                              |  (1, 4, 4, 160)  |          10,240 |\n",
            "| 179 | model/block_15_expand_relu/Relu;model/.../depthwise;model/block_15_expand/Conv2D |  (1, 4, 4, 960)  |          61,440 |\n",
            "| 180 | model/block_15_depthwise_relu/Relu;mod...wise;model/block_15_depthwise/depthwise |  (1, 4, 4, 960)  |          61,440 |\n",
            "| 181 |     model/block_15_project_BN/FusedBatchNormV3;model/block_15_project/Conv2D     |  (1, 4, 4, 160)  |          10,240 |\n",
            "| 182 |                              model/block_15_add/add                              |  (1, 4, 4, 160)  |          10,240 |\n",
            "| 183 |                          model/block_16_adjust/Conv2D1                           |  (1, 4, 4, 320)  |          20,480 |\n",
            "| 184 | model/block_16_expand_relu/Relu;model/.../depthwise;model/block_16_expand/Conv2D |  (1, 4, 4, 960)  |          61,440 |\n",
            "| 185 | model/block_16_depthwise_relu/Relu;mod...rmV3;model/block_16_depthwise/depthwise |  (1, 4, 4, 960)  |          61,440 |\n",
            "| 186 |     model/block_16_project_BN/FusedBatchNormV3;model/block_16_project/Conv2D     |  (1, 4, 4, 320)  |          20,480 |\n",
            "| 187 |                              model/block_16_add/add                              |  (1, 4, 4, 320)  |          20,480 |\n",
            "| 188 |     model/out_relu/Relu;model/Conv_1_bn/FusedBatchNormV3;model/Conv_1/Conv2D     | (1, 4, 4, 1280)  |          81,920 |\n",
            "| 189 |                       model/global_average_pooling2d/Mean                        |    (1, 1280)     |           5,120 |\n",
            "| 190 |                            StatefulPartitionedCall:0                             |     (1, 10)      |              40 |\n",
            "+-----+----------------------------------------------------------------------------------+------------------+-----------------+\n",
            "\n",
            "Operator execution schedule:\n",
            "+----------------------------------------------------------------------------------+-------------------------+----------------+-----------+---------+\n",
            "|                              Operator (output name)                              | Tensors in memory (IDs) | Memory use (B) |      MACs |    Size |\n",
            "+----------------------------------------------------------------------------------+-------------------------+----------------+-----------+---------+\n",
            "| model/Conv1_relu/Relu;model/bn_Conv1/F...ock_5_project/Conv2D;model/Conv1/Conv2D |         [0, 118]        |        143,360 |   884,736 |   3,584 |\n",
            "|                           model/block_0_adjust/Conv2D1                           |        [118, 119]       |        196,608 |   524,288 |   2,112 |\n",
            "| model/block_0_expand_relu/Relu;model/b...ject/Conv2D;model/block_0_expand/Conv2D |     [118, 119, 120]     |        327,680 | 1,048,576 |   1,152 |\n",
            "| model/block_0_depthwise_relu/Relu;mode...onv2D;model/block_0_depthwise/depthwise |     [119, 120, 121]     |        327,680 |   294,912 |   1,280 |\n",
            "|      model/block_0_project_BN/FusedBatchNormV3;model/block_0_project/Conv2D      |     [119, 121, 122]     |        262,144 |   524,288 |   2,112 |\n",
            "|                              model/block_0_add/add                               |     [119, 122, 123]     |        196,608 |    16,384 |       0 |\n",
            "|                           model/block_1_adjust/Conv2D1                           |        [123, 124]       |        163,840 |   393,216 |   1,632 |\n",
            "| model/block_1_expand_relu/Relu;model/b...ject/Conv2D;model/block_1_expand/Conv2D |     [123, 124, 125]     |        557,056 | 1,572,864 |   1,920 |\n",
            "| model/block_1_depthwise_relu/Relu;mode...onv2D;model/block_1_depthwise/depthwise |     [124, 125, 126]     |        884,736 |   884,736 |   3,840 |\n",
            "| model/block_1_project_BN/FusedBatchNor...ect/Conv2D;model/block_1_project/Conv2D |     [124, 126, 127]     |        589,824 | 2,359,296 |   2,400 |\n",
            "|                              model/block_1_add/add                               |     [124, 127, 128]     |        294,912 |    24,576 |       0 |\n",
            "| model/block_2_expand_relu/Relu;model/b...e/depthwise;model/block_2_expand/Conv2D |        [128, 129]       |        688,128 | 3,538,944 |   4,032 |\n",
            "| model/block_2_depthwise_relu/Relu;mode...hwise;model/block_2_depthwise/depthwise |     [128, 129, 130]     |      1,277,952 | 1,327,104 |   1,872 |\n",
            "|      model/block_2_project_BN/FusedBatchNormV3;model/block_2_project/Conv2D      |     [128, 130, 131]     |        786,432 | 3,538,944 |   3,552 |\n",
            "|                              model/block_2_add/add                               |     [128, 131, 132]     |        294,912 |    24,576 |       0 |\n",
            "| model/block_3_expand_relu/Relu;model/b...e/depthwise;model/block_3_expand/Conv2D |        [132, 133]       |        688,128 | 3,538,944 |   4,032 |\n",
            "| model/block_3_depthwise_relu/Relu;mode...ormV3;model/block_3_depthwise/depthwise |        [133, 134]       |        737,280 |   331,776 |   1,872 |\n",
            "| model/block_3_project_BN/FusedBatchNor...ect/Conv2D;model/block_3_project/Conv2D |        [134, 135]       |        180,224 | 1,179,648 |   4,736 |\n",
            "| model/block_4_expand_relu/Relu;model/b...e/depthwise;model/block_4_expand/Conv2D |        [135, 136]       |        229,376 | 1,572,864 |   6,912 |\n",
            "| model/block_4_depthwise_relu/Relu;mode...hwise;model/block_4_depthwise/depthwise |     [135, 136, 137]     |        425,984 |   442,368 |   2,496 |\n",
            "| model/block_4_project_BN/FusedBatchNor...ect/Conv2D;model/block_4_project/Conv2D |     [135, 137, 138]     |        262,144 | 1,572,864 |   6,272 |\n",
            "|                              model/block_4_add/add                               |     [135, 138, 139]     |         98,304 |     8,192 |       0 |\n",
            "| model/block_5_expand_relu/Relu;model/b...e/depthwise;model/block_5_expand/Conv2D |        [139, 140]       |        229,376 | 1,572,864 |   6,912 |\n",
            "| model/block_5_depthwise_relu/Relu;mode...hwise;model/block_5_depthwise/depthwise |     [139, 140, 141]     |        425,984 |   442,368 |   2,496 |\n",
            "|      model/block_5_project_BN/FusedBatchNormV3;model/block_5_project/Conv2D      |     [139, 141, 142]     |        262,144 | 1,572,864 |   6,272 |\n",
            "|                              model/block_5_add/add                               |     [139, 142, 143]     |         98,304 |     8,192 |       0 |\n",
            "| model/block_6_expand_relu/Relu;model/b...e/depthwise;model/block_6_expand/Conv2D |        [143, 144]       |        229,376 | 1,572,864 |   6,912 |\n",
            "| model/block_6_depthwise_relu/Relu;mode...ormV3;model/block_6_depthwise/depthwise |        [144, 145]       |        245,760 |   110,592 |   2,496 |\n",
            "| model/block_6_project_BN/FusedBatchNor...ect/Conv2D;model/block_6_project/Conv2D |        [145, 146]       |         65,536 |   786,432 |  12,544 |\n",
            "| model/block_7_expand_relu/Relu;model/b...e/depthwise;model/block_7_expand/Conv2D |        [146, 147]       |        114,688 | 1,572,864 |  26,112 |\n",
            "| model/block_7_depthwise_relu/Relu;mode...hwise;model/block_7_depthwise/depthwise |     [146, 147, 148]     |        212,992 |   221,184 |   4,992 |\n",
            "| model/block_7_project_BN/FusedBatchNor...ect/Conv2D;model/block_7_project/Conv2D |     [146, 148, 149]     |        131,072 | 1,572,864 |  24,832 |\n",
            "|                              model/block_7_add/add                               |     [146, 149, 150]     |         49,152 |     4,096 |       0 |\n",
            "| model/block_8_expand_relu/Relu;model/b...e/depthwise;model/block_8_expand/Conv2D |        [150, 151]       |        114,688 | 1,572,864 |  26,112 |\n",
            "| model/block_8_depthwise_relu/Relu;mode...hwise;model/block_8_depthwise/depthwise |     [150, 151, 152]     |        212,992 |   221,184 |   4,992 |\n",
            "| model/block_8_project_BN/FusedBatchNor...ect/Conv2D;model/block_8_project/Conv2D |     [150, 152, 153]     |        131,072 | 1,572,864 |  24,832 |\n",
            "|                              model/block_8_add/add                               |     [150, 153, 154]     |         49,152 |     4,096 |       0 |\n",
            "| model/block_9_expand_relu/Relu;model/b...e/depthwise;model/block_9_expand/Conv2D |        [154, 155]       |        114,688 | 1,572,864 |  26,112 |\n",
            "| model/block_9_depthwise_relu/Relu;mode...hwise;model/block_9_depthwise/depthwise |     [154, 155, 156]     |        212,992 |   221,184 |   4,992 |\n",
            "|      model/block_9_project_BN/FusedBatchNormV3;model/block_9_project/Conv2D      |     [154, 156, 157]     |        131,072 | 1,572,864 |  24,832 |\n",
            "|                              model/block_9_add/add                               |     [154, 157, 158]     |         49,152 |     4,096 |       0 |\n",
            "|                          model/block_10_adjust/Conv2D1                           |        [158, 159]       |         40,960 |   393,216 |   6,528 |\n",
            "| model/block_10_expand_relu/Relu;model/.../depthwise;model/block_10_expand/Conv2D |     [158, 159, 160]     |        139,264 | 1,572,864 |  26,112 |\n",
            "| model/block_10_depthwise_relu/Relu;mod...rmV3;model/block_10_depthwise/depthwise |     [159, 160, 161]     |        221,184 |   221,184 |   4,992 |\n",
            "| model/block_10_project_BN/FusedBatchNo...ct/Conv2D;model/block_10_project/Conv2D |     [159, 161, 162]     |        147,456 | 2,359,296 |  37,248 |\n",
            "|                              model/block_10_add/add                              |     [159, 162, 163]     |         73,728 |     6,144 |       0 |\n",
            "| model/block_11_expand_relu/Relu;model/.../depthwise;model/block_11_expand/Conv2D |        [163, 164]       |        172,032 | 3,538,944 |  57,600 |\n",
            "| model/block_11_depthwise_relu/Relu;mod...wise;model/block_11_depthwise/depthwise |     [163, 164, 165]     |        319,488 |   331,776 |   7,488 |\n",
            "| model/block_11_project_BN/FusedBatchNo...ct/Conv2D;model/block_11_project/Conv2D |     [163, 165, 166]     |        196,608 | 3,538,944 |  55,680 |\n",
            "|                              model/block_11_add/add                              |     [163, 166, 167]     |         73,728 |     6,144 |       0 |\n",
            "| model/block_12_expand_relu/Relu;model/.../depthwise;model/block_12_expand/Conv2D |        [167, 168]       |        172,032 | 3,538,944 |  57,600 |\n",
            "| model/block_12_depthwise_relu/Relu;mod...wise;model/block_12_depthwise/depthwise |     [167, 168, 169]     |        319,488 |   331,776 |   7,488 |\n",
            "|     model/block_12_project_BN/FusedBatchNormV3;model/block_12_project/Conv2D     |     [167, 169, 170]     |        196,608 | 3,538,944 |  55,680 |\n",
            "|                              model/block_12_add/add                              |     [167, 170, 171]     |         73,728 |     6,144 |       0 |\n",
            "| model/block_13_expand_relu/Relu;model/.../depthwise;model/block_13_expand/Conv2D |        [171, 172]       |        172,032 | 3,538,944 |  57,600 |\n",
            "| model/block_13_depthwise_relu/Relu;mod...rmV3;model/block_13_depthwise/depthwise |        [172, 173]       |        184,320 |    82,944 |   7,488 |\n",
            "| model/block_13_project_BN/FusedBatchNo...ct/Conv2D;model/block_13_project/Conv2D |        [173, 174]       |         47,104 | 1,474,560 |  92,800 |\n",
            "| model/block_14_expand_relu/Relu;model/.../depthwise;model/block_14_expand/Conv2D |        [174, 175]       |         71,680 | 2,457,600 | 157,440 |\n",
            "| model/block_14_depthwise_relu/Relu;mod...wise;model/block_14_depthwise/depthwise |     [174, 175, 176]     |        133,120 |   138,240 |  12,480 |\n",
            "| model/block_14_project_BN/FusedBatchNo...ct/Conv2D;model/block_14_project/Conv2D |     [174, 176, 177]     |         81,920 | 2,457,600 | 154,240 |\n",
            "|                              model/block_14_add/add                              |     [174, 177, 178]     |         30,720 |     2,560 |       0 |\n",
            "| model/block_15_expand_relu/Relu;model/.../depthwise;model/block_15_expand/Conv2D |        [178, 179]       |         71,680 | 2,457,600 | 157,440 |\n",
            "| model/block_15_depthwise_relu/Relu;mod...wise;model/block_15_depthwise/depthwise |     [178, 179, 180]     |        133,120 |   138,240 |  12,480 |\n",
            "|     model/block_15_project_BN/FusedBatchNormV3;model/block_15_project/Conv2D     |     [178, 180, 181]     |         81,920 | 2,457,600 | 154,240 |\n",
            "|                              model/block_15_add/add                              |     [178, 181, 182]     |         30,720 |     2,560 |       0 |\n",
            "|                          model/block_16_adjust/Conv2D1                           |        [182, 183]       |         30,720 |   819,200 |  52,480 |\n",
            "| model/block_16_expand_relu/Relu;model/.../depthwise;model/block_16_expand/Conv2D |     [182, 183, 184]     |         92,160 | 2,457,600 | 157,440 |\n",
            "| model/block_16_depthwise_relu/Relu;mod...rmV3;model/block_16_depthwise/depthwise |     [183, 184, 185]     |        143,360 |   138,240 |  12,480 |\n",
            "|     model/block_16_project_BN/FusedBatchNormV3;model/block_16_project/Conv2D     |     [183, 185, 186]     |        102,400 | 4,915,200 | 308,480 |\n",
            "|                              model/block_16_add/add                              |     [183, 186, 187]     |         61,440 |     5,120 |       0 |\n",
            "|     model/out_relu/Relu;model/Conv_1_bn/FusedBatchNormV3;model/Conv_1/Conv2D     |        [188, 187]       |        102,400 | 6,553,600 | 414,720 |\n",
            "|                       model/global_average_pooling2d/Mean                        |        [188, 189]       |         87,040 |    20,480 |       8 |\n",
            "|                            StatefulPartitionedCall:0                             |        [190, 189]       |          5,160 |    12,800 |  12,840 |\n",
            "+----------------------------------------------------------------------------------+-------------------------+----------------+-----------+---------+\n",
            "Current peak memory usage: 1,277,952 B\n",
            "Total MACs: 91,298,304\n",
            "Total weight size: 2,342,320\n",
            "\n"
          ]
        }
      ]
    },
    {
      "cell_type": "markdown",
      "source": [
        "#Knowledge distillation and pruning"
      ],
      "metadata": {
        "id": "UggvrLhLkh9j"
      }
    },
    {
      "cell_type": "code",
      "source": [
        "\n",
        "model = tf.keras.models.load_model(\"/content/model_student.h5\")\n",
        "model.compile(loss=SparseCategoricalCrossentropy(from_logits=True),\n",
        "              optimizer=SGD(learning_rate=0.1, momentum=0.9, weight_decay=0.0, nesterov=False),\n",
        "              metrics=['accuracy'])\n",
        "model.evaluate(test_data)\n",
        "print(f\"Total params: {model_mobilenet.count_params()}\")\n",
        "\n",
        "import tensorflow_model_optimization as tfmot\n",
        "import tempfile\n",
        "import os\n",
        "\n",
        "prune_low_magnitude = tfmot.sparsity.keras.prune_low_magnitude\n",
        "\n",
        "# Compute end step to finish pruning after 2 epochs.\n",
        "batch_size = 128\n",
        "epochs = 60\n",
        "#validation_split = 0.1 # 10% of training set will be used for validation set.\n",
        "\n",
        "num_images = x_train.shape[0] #* (1 - validation_split)\n",
        "end_step = np.ceil(num_images / batch_size).astype(np.int32) * epochs\n",
        "\n",
        "# Define model for pruning.\n",
        "pruning_params = {\n",
        "      'pruning_schedule': tfmot.sparsity.keras.PolynomialDecay(initial_sparsity=0.50,\n",
        "                                                               final_sparsity=0.60,\n",
        "                                                               begin_step=0,\n",
        "                                                               end_step=end_step)\n",
        "}\n",
        "\n",
        "model_for_pruning = prune_low_magnitude(model, **pruning_params)\n",
        "\n",
        "# `prune_low_magnitude` requires a recompile.\n",
        "model_for_pruning.compile(optimizer=SGD(learning_rate=0.1, momentum=0.9, weight_decay=0.0, nesterov=False), #'adam',\n",
        "              loss=tf.keras.losses.SparseCategoricalCrossentropy(from_logits=True),\n",
        "              metrics=['accuracy'])\n",
        "\n",
        "logdir = \"./tfmot_logs\" #tempfile.mkdtemp()\n",
        "\n",
        "model_for_pruning.fit(train_data,\n",
        "                  epochs=epochs, validation_data=test_data, #validation_split=validation_split,\n",
        "                  callbacks=[tfmot.sparsity.keras.UpdatePruningStep(),\n",
        "                             tfmot.sparsity.keras.PruningSummaries(log_dir=logdir)]\n",
        "                      )"
      ],
      "metadata": {
        "colab": {
          "base_uri": "https://localhost:8080/"
        },
        "id": "xWl_t0eMktmo",
        "outputId": "947026d0-b2ef-43bb-f6a0-8a5789076c66"
      },
      "execution_count": 21,
      "outputs": [
        {
          "output_type": "stream",
          "name": "stderr",
          "text": [
            "WARNING:tensorflow:No training configuration found in the save file, so the model was *not* compiled. Compile it manually.\n"
          ]
        },
        {
          "output_type": "stream",
          "name": "stdout",
          "text": [
            "79/79 [==============================] - 4s 24ms/step - loss: 0.2982 - accuracy: 0.9165\n",
            "Total params: 2330186\n",
            "Epoch 1/60\n",
            "391/391 [==============================] - 110s 177ms/step - loss: 0.4563 - accuracy: 0.8424 - val_loss: 0.4931 - val_accuracy: 0.8394\n",
            "Epoch 2/60\n",
            "391/391 [==============================] - 62s 158ms/step - loss: 0.3649 - accuracy: 0.8708 - val_loss: 0.4766 - val_accuracy: 0.8442\n",
            "Epoch 3/60\n",
            "391/391 [==============================] - 55s 139ms/step - loss: 0.3400 - accuracy: 0.8790 - val_loss: 0.4069 - val_accuracy: 0.8672\n",
            "Epoch 4/60\n",
            "391/391 [==============================] - 53s 136ms/step - loss: 0.3267 - accuracy: 0.8838 - val_loss: 0.3588 - val_accuracy: 0.8819\n",
            "Epoch 5/60\n",
            "391/391 [==============================] - 54s 137ms/step - loss: 0.3100 - accuracy: 0.8906 - val_loss: 0.3434 - val_accuracy: 0.8855\n",
            "Epoch 6/60\n",
            "391/391 [==============================] - 54s 139ms/step - loss: 0.2935 - accuracy: 0.8959 - val_loss: 0.3420 - val_accuracy: 0.8876\n",
            "Epoch 7/60\n",
            "391/391 [==============================] - 54s 139ms/step - loss: 0.2905 - accuracy: 0.8964 - val_loss: 0.3861 - val_accuracy: 0.8748\n",
            "Epoch 8/60\n",
            "391/391 [==============================] - 54s 139ms/step - loss: 0.2862 - accuracy: 0.8977 - val_loss: 0.3159 - val_accuracy: 0.8952\n",
            "Epoch 9/60\n",
            "391/391 [==============================] - 53s 136ms/step - loss: 0.2792 - accuracy: 0.9006 - val_loss: 0.3124 - val_accuracy: 0.8992\n",
            "Epoch 10/60\n",
            "391/391 [==============================] - 54s 137ms/step - loss: 0.2706 - accuracy: 0.9034 - val_loss: 0.3152 - val_accuracy: 0.8964\n",
            "Epoch 11/60\n",
            "391/391 [==============================] - 55s 140ms/step - loss: 0.2586 - accuracy: 0.9069 - val_loss: 0.2841 - val_accuracy: 0.9072\n",
            "Epoch 12/60\n",
            "391/391 [==============================] - 53s 136ms/step - loss: 0.2574 - accuracy: 0.9102 - val_loss: 0.3156 - val_accuracy: 0.9002\n",
            "Epoch 13/60\n",
            "391/391 [==============================] - 54s 138ms/step - loss: 0.2521 - accuracy: 0.9102 - val_loss: 0.2671 - val_accuracy: 0.9095\n",
            "Epoch 14/60\n",
            "391/391 [==============================] - 54s 138ms/step - loss: 0.2464 - accuracy: 0.9111 - val_loss: 0.3315 - val_accuracy: 0.8911\n",
            "Epoch 15/60\n",
            "391/391 [==============================] - 54s 138ms/step - loss: 0.2452 - accuracy: 0.9123 - val_loss: 0.2744 - val_accuracy: 0.9095\n",
            "Epoch 16/60\n",
            "391/391 [==============================] - 55s 140ms/step - loss: 0.2349 - accuracy: 0.9162 - val_loss: 0.2780 - val_accuracy: 0.9088\n",
            "Epoch 17/60\n",
            "391/391 [==============================] - 53s 136ms/step - loss: 0.2327 - accuracy: 0.9178 - val_loss: 0.2941 - val_accuracy: 0.9077\n",
            "Epoch 18/60\n",
            "391/391 [==============================] - 53s 136ms/step - loss: 0.2333 - accuracy: 0.9153 - val_loss: 0.2983 - val_accuracy: 0.9020\n",
            "Epoch 19/60\n",
            "391/391 [==============================] - 54s 138ms/step - loss: 0.2231 - accuracy: 0.9203 - val_loss: 0.2799 - val_accuracy: 0.9102\n",
            "Epoch 20/60\n",
            "391/391 [==============================] - 53s 136ms/step - loss: 0.2196 - accuracy: 0.9212 - val_loss: 0.2712 - val_accuracy: 0.9139\n",
            "Epoch 21/60\n",
            "391/391 [==============================] - 53s 136ms/step - loss: 0.2242 - accuracy: 0.9188 - val_loss: 0.2989 - val_accuracy: 0.9026\n",
            "Epoch 22/60\n",
            "391/391 [==============================] - 54s 138ms/step - loss: 0.2178 - accuracy: 0.9223 - val_loss: 0.2818 - val_accuracy: 0.9097\n",
            "Epoch 23/60\n",
            "391/391 [==============================] - 55s 139ms/step - loss: 0.2117 - accuracy: 0.9241 - val_loss: 0.3141 - val_accuracy: 0.9036\n",
            "Epoch 24/60\n",
            "391/391 [==============================] - 54s 138ms/step - loss: 0.2147 - accuracy: 0.9228 - val_loss: 0.2660 - val_accuracy: 0.9159\n",
            "Epoch 25/60\n",
            "391/391 [==============================] - 54s 138ms/step - loss: 0.2096 - accuracy: 0.9257 - val_loss: 0.3110 - val_accuracy: 0.9029\n",
            "Epoch 26/60\n",
            "391/391 [==============================] - 53s 136ms/step - loss: 0.2116 - accuracy: 0.9246 - val_loss: 0.2818 - val_accuracy: 0.9117\n",
            "Epoch 27/60\n",
            "391/391 [==============================] - 54s 138ms/step - loss: 0.2027 - accuracy: 0.9271 - val_loss: 0.2866 - val_accuracy: 0.9108\n",
            "Epoch 28/60\n",
            "391/391 [==============================] - 54s 138ms/step - loss: 0.2013 - accuracy: 0.9278 - val_loss: 0.2852 - val_accuracy: 0.9096\n",
            "Epoch 29/60\n",
            "391/391 [==============================] - 54s 137ms/step - loss: 0.1976 - accuracy: 0.9296 - val_loss: 0.2646 - val_accuracy: 0.9193\n",
            "Epoch 30/60\n",
            "391/391 [==============================] - 53s 135ms/step - loss: 0.1937 - accuracy: 0.9299 - val_loss: 0.2801 - val_accuracy: 0.9106\n",
            "Epoch 31/60\n",
            "391/391 [==============================] - 53s 134ms/step - loss: 0.1946 - accuracy: 0.9300 - val_loss: 0.3083 - val_accuracy: 0.9015\n",
            "Epoch 32/60\n",
            "391/391 [==============================] - 54s 138ms/step - loss: 0.1960 - accuracy: 0.9298 - val_loss: 0.2936 - val_accuracy: 0.9106\n",
            "Epoch 33/60\n",
            "391/391 [==============================] - 53s 136ms/step - loss: 0.1904 - accuracy: 0.9308 - val_loss: 0.2982 - val_accuracy: 0.9112\n",
            "Epoch 34/60\n",
            "391/391 [==============================] - 54s 137ms/step - loss: 0.1937 - accuracy: 0.9305 - val_loss: 0.2670 - val_accuracy: 0.9197\n",
            "Epoch 35/60\n",
            "391/391 [==============================] - 54s 139ms/step - loss: 0.1848 - accuracy: 0.9332 - val_loss: 0.2751 - val_accuracy: 0.9119\n",
            "Epoch 36/60\n",
            "391/391 [==============================] - 54s 138ms/step - loss: 0.1819 - accuracy: 0.9347 - val_loss: 0.2700 - val_accuracy: 0.9165\n",
            "Epoch 37/60\n",
            "391/391 [==============================] - 52s 134ms/step - loss: 0.1836 - accuracy: 0.9337 - val_loss: 0.2718 - val_accuracy: 0.9162\n",
            "Epoch 38/60\n",
            "391/391 [==============================] - 52s 134ms/step - loss: 0.1795 - accuracy: 0.9354 - val_loss: 0.3034 - val_accuracy: 0.9104\n",
            "Epoch 39/60\n",
            "391/391 [==============================] - 52s 133ms/step - loss: 0.1805 - accuracy: 0.9355 - val_loss: 0.2847 - val_accuracy: 0.9108\n",
            "Epoch 40/60\n",
            "391/391 [==============================] - 52s 134ms/step - loss: 0.1795 - accuracy: 0.9353 - val_loss: 0.2738 - val_accuracy: 0.9182\n",
            "Epoch 41/60\n",
            "391/391 [==============================] - 54s 137ms/step - loss: 0.1719 - accuracy: 0.9381 - val_loss: 0.2686 - val_accuracy: 0.9171\n",
            "Epoch 42/60\n",
            "391/391 [==============================] - 52s 134ms/step - loss: 0.1717 - accuracy: 0.9380 - val_loss: 0.2595 - val_accuracy: 0.9196\n",
            "Epoch 43/60\n",
            "391/391 [==============================] - 53s 135ms/step - loss: 0.1759 - accuracy: 0.9362 - val_loss: 0.2579 - val_accuracy: 0.9211\n",
            "Epoch 44/60\n",
            "391/391 [==============================] - 54s 137ms/step - loss: 0.1725 - accuracy: 0.9383 - val_loss: 0.2543 - val_accuracy: 0.9214\n",
            "Epoch 45/60\n",
            "391/391 [==============================] - 54s 138ms/step - loss: 0.1669 - accuracy: 0.9407 - val_loss: 0.2875 - val_accuracy: 0.9138\n",
            "Epoch 46/60\n",
            "391/391 [==============================] - 53s 134ms/step - loss: 0.1671 - accuracy: 0.9404 - val_loss: 0.2798 - val_accuracy: 0.9139\n",
            "Epoch 47/60\n",
            "391/391 [==============================] - 53s 135ms/step - loss: 0.1706 - accuracy: 0.9387 - val_loss: 0.2744 - val_accuracy: 0.9152\n",
            "Epoch 48/60\n",
            "391/391 [==============================] - 53s 136ms/step - loss: 0.1639 - accuracy: 0.9420 - val_loss: 0.2703 - val_accuracy: 0.9177\n",
            "Epoch 49/60\n",
            "391/391 [==============================] - 54s 138ms/step - loss: 0.1636 - accuracy: 0.9411 - val_loss: 0.2938 - val_accuracy: 0.9104\n",
            "Epoch 50/60\n",
            "391/391 [==============================] - 54s 138ms/step - loss: 0.1585 - accuracy: 0.9437 - val_loss: 0.2776 - val_accuracy: 0.9152\n",
            "Epoch 51/60\n",
            "391/391 [==============================] - 53s 134ms/step - loss: 0.1598 - accuracy: 0.9424 - val_loss: 0.2639 - val_accuracy: 0.9192\n",
            "Epoch 52/60\n",
            "391/391 [==============================] - 54s 138ms/step - loss: 0.1592 - accuracy: 0.9429 - val_loss: 0.2841 - val_accuracy: 0.9160\n",
            "Epoch 53/60\n",
            "391/391 [==============================] - 54s 138ms/step - loss: 0.1599 - accuracy: 0.9423 - val_loss: 0.2991 - val_accuracy: 0.9107\n",
            "Epoch 54/60\n",
            "391/391 [==============================] - 54s 138ms/step - loss: 0.1581 - accuracy: 0.9430 - val_loss: 0.2737 - val_accuracy: 0.9172\n",
            "Epoch 55/60\n",
            "391/391 [==============================] - 54s 138ms/step - loss: 0.1558 - accuracy: 0.9433 - val_loss: 0.3062 - val_accuracy: 0.9116\n",
            "Epoch 56/60\n",
            "391/391 [==============================] - 54s 138ms/step - loss: 0.1567 - accuracy: 0.9438 - val_loss: 0.2608 - val_accuracy: 0.9193\n",
            "Epoch 57/60\n",
            "391/391 [==============================] - 53s 136ms/step - loss: 0.1560 - accuracy: 0.9440 - val_loss: 0.2699 - val_accuracy: 0.9184\n",
            "Epoch 58/60\n",
            "391/391 [==============================] - 53s 136ms/step - loss: 0.1508 - accuracy: 0.9460 - val_loss: 0.2776 - val_accuracy: 0.9183\n",
            "Epoch 59/60\n",
            "391/391 [==============================] - 54s 138ms/step - loss: 0.1534 - accuracy: 0.9450 - val_loss: 0.2807 - val_accuracy: 0.9156\n",
            "Epoch 60/60\n",
            "391/391 [==============================] - 54s 138ms/step - loss: 0.1500 - accuracy: 0.9462 - val_loss: 0.2963 - val_accuracy: 0.9139\n"
          ]
        },
        {
          "output_type": "execute_result",
          "data": {
            "text/plain": [
              "<keras.src.callbacks.History at 0x7ea88b300730>"
            ]
          },
          "metadata": {},
          "execution_count": 21
        }
      ]
    },
    {
      "cell_type": "code",
      "source": [
        "\n",
        "print(f\"Total params: {model_for_pruning.count_params()}\")\n",
        "model_for_pruning.evaluate(test_data)\n",
        "\n",
        "model_for_export = tfmot.sparsity.keras.strip_pruning(model_for_pruning)\n",
        "# model_for_export.compile(optimizer=SGD(learning_rate=0.1, momentum=0.9, weight_decay=0.0, nesterov=False), #'adam',\n",
        "#               loss=tf.keras.losses.SparseCategoricalCrossentropy(from_logits=True),\n",
        "#               metrics=['accuracy'])\n",
        "# model_for_export.evaluate(test_data)\n",
        "\n",
        "tf.keras.models.save_model(model_for_export, \"model_pruned60.h5\", include_optimizer=False)"
      ],
      "metadata": {
        "colab": {
          "base_uri": "https://localhost:8080/"
        },
        "id": "fOkXNl64mrDt",
        "outputId": "68815711-1d44-4b6c-9882-f640a2a56314"
      },
      "execution_count": 22,
      "outputs": [
        {
          "output_type": "stream",
          "name": "stdout",
          "text": [
            "Total params: 2697406\n",
            "79/79 [==============================] - 2s 25ms/step - loss: 0.2963 - accuracy: 0.9139\n"
          ]
        },
        {
          "output_type": "stream",
          "name": "stderr",
          "text": [
            "<ipython-input-22-fcc8e45a03f0>:19: UserWarning: You are saving your model as an HDF5 file via `model.save()`. This file format is considered legacy. We recommend using instead the native Keras format, e.g. `model.save('my_model.keras')`.\n",
            "  tf.keras.models.save_model(model_for_export, \"model_pruned60.h5\", include_optimizer=False)\n",
            "WARNING:tensorflow:Compiled the loaded model, but the compiled metrics have yet to be built. `model.compile_metrics` will be empty until you train or evaluate the model.\n"
          ]
        }
      ]
    },
    {
      "cell_type": "code",
      "source": [
        "models_dir = pathlib.Path(\"./models/\")\n",
        "models_dir.mkdir(exist_ok=True, parents=True)"
      ],
      "metadata": {
        "id": "UyMwTpRImOJA"
      },
      "execution_count": 14,
      "outputs": []
    },
    {
      "cell_type": "code",
      "source": [
        "# Convert base model to a TensorFlow Lite model and save\n",
        "converter = tf.lite.TFLiteConverter.from_keras_model(model_for_export)\n",
        "model_base_tflite = converter.convert()\n",
        "model_base_tflite_file = models_dir/\"student1_pruned60.tflite\"\n",
        "model_base_tflite_file.write_bytes(model_base_tflite)\n",
        "\n",
        "print(f\"Base model (tflite) size (bytes): {os.path.getsize(str(model_base_tflite_file))}\")"
      ],
      "metadata": {
        "colab": {
          "base_uri": "https://localhost:8080/"
        },
        "id": "kzZe1TEAmNGU",
        "outputId": "3d9230f8-eeae-489f-a5e2-1c2a72115e66"
      },
      "execution_count": 23,
      "outputs": [
        {
          "output_type": "stream",
          "name": "stdout",
          "text": [
            "Base model (tflite) size (bytes): 5448180\n"
          ]
        }
      ]
    },
    {
      "cell_type": "code",
      "source": [
        "# Evaluate accuracy\n",
        "interpreter = tf.lite.Interpreter(model_path=str(model_base_tflite_file))\n",
        "interpreter.allocate_tensors()\n",
        "\n",
        "print(f\"Base model (tflite) accuracy: {evaluate_model(interpreter)}\")"
      ],
      "metadata": {
        "colab": {
          "base_uri": "https://localhost:8080/"
        },
        "id": "N4q_1teDmSRs",
        "outputId": "bbd5f43b-4716-4f8b-d4a5-20b298875d8c"
      },
      "execution_count": 24,
      "outputs": [
        {
          "output_type": "stream",
          "name": "stdout",
          "text": [
            "Base model (tflite) accuracy: 0.9148536392405063\n"
          ]
        }
      ]
    },
    {
      "cell_type": "code",
      "source": [
        "!python tflite_tools/tflite_tools.py -i /content/models/student1_pruned60.tflite --calc-macs --calc-size"
      ],
      "metadata": {
        "colab": {
          "base_uri": "https://localhost:8080/"
        },
        "id": "x35aYs2Y0vNe",
        "outputId": "a9354308-ffaa-4245-cbb2-8dd71b9948c6"
      },
      "execution_count": 25,
      "outputs": [
        {
          "output_type": "stream",
          "name": "stdout",
          "text": [
            "Tensor information (weights excluded):\n",
            "+-----+----------------------------------------------------------------------------------+------------------+-----------------+\n",
            "|  Id |                                      Tensor                                      |      Shape       | Size in RAM (B) |\n",
            "+-----+----------------------------------------------------------------------------------+------------------+-----------------+\n",
            "|   0 |                            serving_default_input_4:0                             |  (1, 32, 32, 3)  |          12,288 |\n",
            "|  88 | model_3/Conv1_relu/Relu;model_3/bn_Con...k_5_project/Conv2D;model_3/Conv1/Conv2D | (1, 32, 32, 32)  |         131,072 |\n",
            "|  89 |                          model_3/block_0_adjust/Conv2D1                          | (1, 32, 32, 16)  |          65,536 |\n",
            "|  90 | model_3/block_0_expand_relu/Relu;model...ct/Conv2D;model_3/block_0_expand/Conv2D | (1, 32, 32, 32)  |         131,072 |\n",
            "|  91 | model_3/block_0_depthwise_relu/Relu;mo...v2D;model_3/block_0_depthwise/depthwise | (1, 32, 32, 32)  |         131,072 |\n",
            "|  92 |    model_3/block_0_project_BN/FusedBatchNormV3;model_3/block_0_project/Conv2D    | (1, 32, 32, 16)  |          65,536 |\n",
            "|  93 |                             model_3/block_0_add/add                              | (1, 32, 32, 16)  |          65,536 |\n",
            "|  94 |                          model_3/block_1_adjust/Conv2D1                          | (1, 32, 32, 24)  |          98,304 |\n",
            "|  95 | model_3/block_1_expand_relu/Relu;model...ct/Conv2D;model_3/block_1_expand/Conv2D | (1, 32, 32, 96)  |         393,216 |\n",
            "|  96 | model_3/block_1_depthwise_relu/Relu;mo...v2D;model_3/block_1_depthwise/depthwise | (1, 32, 32, 96)  |         393,216 |\n",
            "|  97 | model_3/block_1_project_BN/FusedBatchN...t/Conv2D;model_3/block_1_project/Conv2D | (1, 32, 32, 24)  |          98,304 |\n",
            "|  98 |                             model_3/block_1_add/add                              | (1, 32, 32, 24)  |          98,304 |\n",
            "|  99 | model_3/block_2_expand_relu/Relu;model...depthwise;model_3/block_2_expand/Conv2D | (1, 32, 32, 144) |         589,824 |\n",
            "| 100 | model_3/block_2_depthwise_relu/Relu;mo...ise;model_3/block_2_depthwise/depthwise | (1, 32, 32, 144) |         589,824 |\n",
            "| 101 |    model_3/block_2_project_BN/FusedBatchNormV3;model_3/block_2_project/Conv2D    | (1, 32, 32, 24)  |          98,304 |\n",
            "| 102 |                             model_3/block_2_add/add                              | (1, 32, 32, 24)  |          98,304 |\n",
            "| 103 | model_3/block_3_expand_relu/Relu;model...depthwise;model_3/block_3_expand/Conv2D | (1, 32, 32, 144) |         589,824 |\n",
            "| 104 | model_3/block_3_depthwise_relu/Relu;mo...mV3;model_3/block_3_depthwise/depthwise | (1, 16, 16, 144) |         147,456 |\n",
            "| 105 | model_3/block_3_project_BN/FusedBatchN...t/Conv2D;model_3/block_3_project/Conv2D | (1, 16, 16, 32)  |          32,768 |\n",
            "| 106 | model_3/block_4_expand_relu/Relu;model...depthwise;model_3/block_4_expand/Conv2D | (1, 16, 16, 192) |         196,608 |\n",
            "| 107 | model_3/block_4_depthwise_relu/Relu;mo...ise;model_3/block_4_depthwise/depthwise | (1, 16, 16, 192) |         196,608 |\n",
            "| 108 | model_3/block_4_project_BN/FusedBatchN...t/Conv2D;model_3/block_4_project/Conv2D | (1, 16, 16, 32)  |          32,768 |\n",
            "| 109 |                             model_3/block_4_add/add                              | (1, 16, 16, 32)  |          32,768 |\n",
            "| 110 | model_3/block_5_expand_relu/Relu;model...depthwise;model_3/block_5_expand/Conv2D | (1, 16, 16, 192) |         196,608 |\n",
            "| 111 | model_3/block_5_depthwise_relu/Relu;mo...ise;model_3/block_5_depthwise/depthwise | (1, 16, 16, 192) |         196,608 |\n",
            "| 112 |    model_3/block_5_project_BN/FusedBatchNormV3;model_3/block_5_project/Conv2D    | (1, 16, 16, 32)  |          32,768 |\n",
            "| 113 |                             model_3/block_5_add/add                              | (1, 16, 16, 32)  |          32,768 |\n",
            "| 114 | model_3/block_6_expand_relu/Relu;model...depthwise;model_3/block_6_expand/Conv2D | (1, 16, 16, 192) |         196,608 |\n",
            "| 115 | model_3/block_6_depthwise_relu/Relu;mo...mV3;model_3/block_6_depthwise/depthwise |  (1, 8, 8, 192)  |          49,152 |\n",
            "| 116 | model_3/block_6_project_BN/FusedBatchN...t/Conv2D;model_3/block_6_project/Conv2D |  (1, 8, 8, 64)   |          16,384 |\n",
            "| 117 | model_3/block_7_expand_relu/Relu;model...depthwise;model_3/block_7_expand/Conv2D |  (1, 8, 8, 384)  |          98,304 |\n",
            "| 118 | model_3/block_7_depthwise_relu/Relu;mo...ise;model_3/block_7_depthwise/depthwise |  (1, 8, 8, 384)  |          98,304 |\n",
            "| 119 | model_3/block_7_project_BN/FusedBatchN...t/Conv2D;model_3/block_7_project/Conv2D |  (1, 8, 8, 64)   |          16,384 |\n",
            "| 120 |                             model_3/block_7_add/add                              |  (1, 8, 8, 64)   |          16,384 |\n",
            "| 121 | model_3/block_9_expand_relu/Relu;model...depthwise;model_3/block_9_expand/Conv2D |  (1, 8, 8, 384)  |          98,304 |\n",
            "| 122 | model_3/block_9_depthwise_relu/Relu;mo...ise;model_3/block_9_depthwise/depthwise |  (1, 8, 8, 384)  |          98,304 |\n",
            "| 123 |    model_3/block_9_project_BN/FusedBatchNormV3;model_3/block_9_project/Conv2D    |  (1, 8, 8, 64)   |          16,384 |\n",
            "| 124 |                             model_3/block_9_add/add                              |  (1, 8, 8, 64)   |          16,384 |\n",
            "| 125 |                         model_3/block_10_adjust/Conv2D1                          |  (1, 8, 8, 96)   |          24,576 |\n",
            "| 126 | model_3/block_10_expand_relu/Relu;mode...epthwise;model_3/block_10_expand/Conv2D |  (1, 8, 8, 384)  |          98,304 |\n",
            "| 127 | model_3/block_10_depthwise_relu/Relu;m...V3;model_3/block_10_depthwise/depthwise |  (1, 8, 8, 384)  |          98,304 |\n",
            "| 128 |   model_3/block_10_project_BN/FusedBatchNormV3;model_3/block_10_project/Conv2D   |  (1, 8, 8, 96)   |          24,576 |\n",
            "| 129 |                             model_3/block_10_add/add                             |  (1, 8, 8, 96)   |          24,576 |\n",
            "| 130 | model_3/block_13_expand_relu/Relu;mode...epthwise;model_3/block_13_expand/Conv2D |  (1, 8, 8, 576)  |         147,456 |\n",
            "| 131 | model_3/block_13_depthwise_relu/Relu;m...V3;model_3/block_13_depthwise/depthwise |  (1, 4, 4, 576)  |          36,864 |\n",
            "| 132 |   model_3/block_13_project_BN/FusedBatchNormV3;model_3/block_13_project/Conv2D   |  (1, 4, 4, 160)  |          10,240 |\n",
            "| 133 |                         model_3/block_16_adjust/Conv2D1                          |  (1, 4, 4, 320)  |          20,480 |\n",
            "| 134 | model_3/block_16_expand_relu/Relu;mode...epthwise;model_3/block_16_expand/Conv2D |  (1, 4, 4, 960)  |          61,440 |\n",
            "| 135 | model_3/block_16_depthwise_relu/Relu;m...V3;model_3/block_16_depthwise/depthwise |  (1, 4, 4, 960)  |          61,440 |\n",
            "| 136 |   model_3/block_16_project_BN/FusedBatchNormV3;model_3/block_16_project/Conv2D   |  (1, 4, 4, 320)  |          20,480 |\n",
            "| 137 |                             model_3/block_16_add/add                             |  (1, 4, 4, 320)  |          20,480 |\n",
            "| 138 |  model_3/out_relu/Relu;model_3/Conv_1_bn/FusedBatchNormV3;model_3/Conv_1/Conv2D  | (1, 4, 4, 1280)  |          81,920 |\n",
            "| 139 |                     model_3/global_average_pooling2d_3/Mean                      |    (1, 1280)     |           5,120 |\n",
            "| 140 |                            StatefulPartitionedCall:0                             |     (1, 10)      |              40 |\n",
            "+-----+----------------------------------------------------------------------------------+------------------+-----------------+\n",
            "\n",
            "Operator execution schedule:\n",
            "+----------------------------------------------------------------------------------+-------------------------+----------------+-----------+-----------+\n",
            "|                              Operator (output name)                              | Tensors in memory (IDs) | Memory use (B) |      MACs |      Size |\n",
            "+----------------------------------------------------------------------------------+-------------------------+----------------+-----------+-----------+\n",
            "| model_3/Conv1_relu/Relu;model_3/bn_Con...k_5_project/Conv2D;model_3/Conv1/Conv2D |         [0, 88]         |        143,360 |   884,736 |     3,584 |\n",
            "|                          model_3/block_0_adjust/Conv2D1                          |         [88, 89]        |        196,608 |   524,288 |     2,112 |\n",
            "| model_3/block_0_expand_relu/Relu;model...ct/Conv2D;model_3/block_0_expand/Conv2D |       [88, 89, 90]      |        327,680 | 1,048,576 |     4,224 |\n",
            "| model_3/block_0_depthwise_relu/Relu;mo...v2D;model_3/block_0_depthwise/depthwise |       [89, 90, 91]      |        327,680 |   294,912 |     1,280 |\n",
            "|    model_3/block_0_project_BN/FusedBatchNormV3;model_3/block_0_project/Conv2D    |       [89, 91, 92]      |        262,144 |   524,288 |     2,112 |\n",
            "|                             model_3/block_0_add/add                              |       [89, 92, 93]      |        196,608 |    16,384 |         0 |\n",
            "|                          model_3/block_1_adjust/Conv2D1                          |         [93, 94]        |        163,840 |   393,216 |     1,632 |\n",
            "| model_3/block_1_expand_relu/Relu;model...ct/Conv2D;model_3/block_1_expand/Conv2D |       [93, 94, 95]      |        557,056 | 1,572,864 |     6,528 |\n",
            "| model_3/block_1_depthwise_relu/Relu;mo...v2D;model_3/block_1_depthwise/depthwise |       [94, 95, 96]      |        884,736 |   884,736 |     3,840 |\n",
            "| model_3/block_1_project_BN/FusedBatchN...t/Conv2D;model_3/block_1_project/Conv2D |       [94, 96, 97]      |        589,824 | 2,359,296 |     9,312 |\n",
            "|                             model_3/block_1_add/add                              |       [94, 97, 98]      |        294,912 |    24,576 |         0 |\n",
            "| model_3/block_2_expand_relu/Relu;model...depthwise;model_3/block_2_expand/Conv2D |         [98, 99]        |        688,128 | 3,538,944 |    14,400 |\n",
            "| model_3/block_2_depthwise_relu/Relu;mo...ise;model_3/block_2_depthwise/depthwise |      [98, 99, 100]      |      1,277,952 | 1,327,104 |     5,760 |\n",
            "|    model_3/block_2_project_BN/FusedBatchNormV3;model_3/block_2_project/Conv2D    |      [98, 100, 101]     |        786,432 | 3,538,944 |    13,920 |\n",
            "|                             model_3/block_2_add/add                              |      [98, 101, 102]     |        294,912 |    24,576 |         0 |\n",
            "| model_3/block_3_expand_relu/Relu;model...depthwise;model_3/block_3_expand/Conv2D |        [102, 103]       |        688,128 | 3,538,944 |    14,400 |\n",
            "| model_3/block_3_depthwise_relu/Relu;mo...mV3;model_3/block_3_depthwise/depthwise |        [103, 104]       |        737,280 |   331,776 |     5,760 |\n",
            "| model_3/block_3_project_BN/FusedBatchN...t/Conv2D;model_3/block_3_project/Conv2D |        [104, 105]       |        180,224 | 1,179,648 |    18,560 |\n",
            "| model_3/block_4_expand_relu/Relu;model...depthwise;model_3/block_4_expand/Conv2D |        [105, 106]       |        229,376 | 1,572,864 |    25,344 |\n",
            "| model_3/block_4_depthwise_relu/Relu;mo...ise;model_3/block_4_depthwise/depthwise |     [105, 106, 107]     |        425,984 |   442,368 |     7,680 |\n",
            "| model_3/block_4_project_BN/FusedBatchN...t/Conv2D;model_3/block_4_project/Conv2D |     [105, 107, 108]     |        262,144 | 1,572,864 |    24,704 |\n",
            "|                             model_3/block_4_add/add                              |     [105, 108, 109]     |         98,304 |     8,192 |         0 |\n",
            "| model_3/block_5_expand_relu/Relu;model...depthwise;model_3/block_5_expand/Conv2D |        [109, 110]       |        229,376 | 1,572,864 |    25,344 |\n",
            "| model_3/block_5_depthwise_relu/Relu;mo...ise;model_3/block_5_depthwise/depthwise |     [109, 110, 111]     |        425,984 |   442,368 |     7,680 |\n",
            "|    model_3/block_5_project_BN/FusedBatchNormV3;model_3/block_5_project/Conv2D    |     [109, 111, 112]     |        262,144 | 1,572,864 |    24,704 |\n",
            "|                             model_3/block_5_add/add                              |     [109, 112, 113]     |         98,304 |     8,192 |         0 |\n",
            "| model_3/block_6_expand_relu/Relu;model...depthwise;model_3/block_6_expand/Conv2D |        [113, 114]       |        229,376 | 1,572,864 |    25,344 |\n",
            "| model_3/block_6_depthwise_relu/Relu;mo...mV3;model_3/block_6_depthwise/depthwise |        [114, 115]       |        245,760 |   110,592 |     7,680 |\n",
            "| model_3/block_6_project_BN/FusedBatchN...t/Conv2D;model_3/block_6_project/Conv2D |        [115, 116]       |         65,536 |   786,432 |    49,408 |\n",
            "| model_3/block_7_expand_relu/Relu;model...depthwise;model_3/block_7_expand/Conv2D |        [116, 117]       |        114,688 | 1,572,864 |    99,840 |\n",
            "| model_3/block_7_depthwise_relu/Relu;mo...ise;model_3/block_7_depthwise/depthwise |     [116, 117, 118]     |        212,992 |   221,184 |    15,360 |\n",
            "| model_3/block_7_project_BN/FusedBatchN...t/Conv2D;model_3/block_7_project/Conv2D |     [116, 118, 119]     |        131,072 | 1,572,864 |    98,560 |\n",
            "|                             model_3/block_7_add/add                              |     [116, 119, 120]     |         49,152 |     4,096 |         0 |\n",
            "| model_3/block_9_expand_relu/Relu;model...depthwise;model_3/block_9_expand/Conv2D |        [120, 121]       |        114,688 | 1,572,864 |    99,840 |\n",
            "| model_3/block_9_depthwise_relu/Relu;mo...ise;model_3/block_9_depthwise/depthwise |     [120, 121, 122]     |        212,992 |   221,184 |    15,360 |\n",
            "|    model_3/block_9_project_BN/FusedBatchNormV3;model_3/block_9_project/Conv2D    |     [120, 122, 123]     |        131,072 | 1,572,864 |    98,560 |\n",
            "|                             model_3/block_9_add/add                              |     [120, 123, 124]     |         49,152 |     4,096 |         0 |\n",
            "|                         model_3/block_10_adjust/Conv2D1                          |        [124, 125]       |         40,960 |   393,216 |    24,960 |\n",
            "| model_3/block_10_expand_relu/Relu;mode...epthwise;model_3/block_10_expand/Conv2D |     [124, 125, 126]     |        139,264 | 1,572,864 |    99,840 |\n",
            "| model_3/block_10_depthwise_relu/Relu;m...V3;model_3/block_10_depthwise/depthwise |     [125, 126, 127]     |        221,184 |   221,184 |    15,360 |\n",
            "|   model_3/block_10_project_BN/FusedBatchNormV3;model_3/block_10_project/Conv2D   |     [128, 125, 127]     |        147,456 | 2,359,296 |   147,840 |\n",
            "|                             model_3/block_10_add/add                             |     [128, 129, 125]     |         73,728 |     6,144 |         0 |\n",
            "| model_3/block_13_expand_relu/Relu;mode...epthwise;model_3/block_13_expand/Conv2D |        [129, 130]       |        172,032 | 3,538,944 |   223,488 |\n",
            "| model_3/block_13_depthwise_relu/Relu;m...V3;model_3/block_13_depthwise/depthwise |        [130, 131]       |        184,320 |    82,944 |    23,040 |\n",
            "|   model_3/block_13_project_BN/FusedBatchNormV3;model_3/block_13_project/Conv2D   |        [131, 132]       |         47,104 | 1,474,560 |   369,280 |\n",
            "|                         model_3/block_16_adjust/Conv2D1                          |        [132, 133]       |         30,720 |   819,200 |   206,080 |\n",
            "| model_3/block_16_expand_relu/Relu;mode...epthwise;model_3/block_16_expand/Conv2D |     [132, 133, 134]     |         92,160 | 2,457,600 |   618,240 |\n",
            "| model_3/block_16_depthwise_relu/Relu;m...V3;model_3/block_16_depthwise/depthwise |     [133, 134, 135]     |        143,360 |   138,240 |    38,400 |\n",
            "|   model_3/block_16_project_BN/FusedBatchNormV3;model_3/block_16_project/Conv2D   |     [133, 135, 136]     |        102,400 | 4,915,200 | 1,230,080 |\n",
            "|                             model_3/block_16_add/add                             |     [133, 136, 137]     |         61,440 |     5,120 |         0 |\n",
            "|  model_3/out_relu/Relu;model_3/Conv_1_bn/FusedBatchNormV3;model_3/Conv_1/Conv2D  |        [137, 138]       |        102,400 | 6,553,600 | 1,643,520 |\n",
            "|                     model_3/global_average_pooling2d_3/Mean                      |        [138, 139]       |         87,040 |    20,480 |         8 |\n",
            "|                            StatefulPartitionedCall:0                             |        [139, 140]       |          5,160 |    12,800 |    51,240 |\n",
            "+----------------------------------------------------------------------------------+-------------------------+----------------+-----------+-----------+\n",
            "Current peak memory usage: 1,277,952 B\n",
            "Total MACs: 62,983,680\n",
            "Total weight size: 5,424,208\n",
            "\n"
          ]
        }
      ]
    },
    {
      "cell_type": "markdown",
      "source": [
        "#Knowledge distillation, Pruning and quantization"
      ],
      "metadata": {
        "id": "FDsaFXbRnnzN"
      }
    },
    {
      "cell_type": "code",
      "source": [
        "print(f\"Total params: {model_for_pruning.count_params()}\")\n",
        "model_for_pruning.evaluate(test_data)\n",
        "\n",
        "model_for_export = tfmot.sparsity.keras.strip_pruning(model_for_pruning)\n",
        "# model_for_export.compile(optimizer=SGD(learning_rate=0.1, momentum=0.9, weight_decay=0.0, nesterov=False), #'adam',\n",
        "#               loss=tf.keras.losses.SparseCategoricalCrossentropy(from_logits=True),\n",
        "#               metrics=['accuracy'])\n",
        "# model_for_export.evaluate(test_data)\n",
        "\n",
        "tf.keras.models.save_model(model_for_export, \"model_pruned60.h5\", include_optimizer=False)"
      ],
      "metadata": {
        "colab": {
          "base_uri": "https://localhost:8080/"
        },
        "id": "7rw3f6BSnsL-",
        "outputId": "3c751be7-cf82-4ba8-8038-da71029ddeda"
      },
      "execution_count": 18,
      "outputs": [
        {
          "output_type": "stream",
          "name": "stdout",
          "text": [
            "Total params: 2697406\n",
            "79/79 [==============================] - 2s 23ms/step - loss: 0.2922 - accuracy: 0.9068\n"
          ]
        },
        {
          "output_type": "stream",
          "name": "stderr",
          "text": [
            "<ipython-input-18-9934653ae21d>:10: UserWarning: You are saving your model as an HDF5 file via `model.save()`. This file format is considered legacy. We recommend using instead the native Keras format, e.g. `model.save('my_model.keras')`.\n",
            "  tf.keras.models.save_model(model_for_export, \"model_pruned60.h5\", include_optimizer=False)\n",
            "WARNING:tensorflow:Compiled the loaded model, but the compiled metrics have yet to be built. `model.compile_metrics` will be empty until you train or evaluate the model.\n"
          ]
        }
      ]
    },
    {
      "cell_type": "code",
      "source": [
        "# Quantize base model (DR) while converting to a TensorFlow Lite model and then save\n",
        "converter = tf.lite.TFLiteConverter.from_keras_model(model_for_export)\n",
        "converter.optimizations = [tf.lite.Optimize.DEFAULT]\n",
        "model_quant_dr = converter.convert()\n",
        "model_quant_dr_file = models_dir/\"student1_pruned60_quant_dr.tflite\"\n",
        "model_quant_dr_file.write_bytes(model_quant_dr)\n",
        "\n",
        "print(f\"Quantized model DR (tflite) size (bytes): {os.path.getsize(str(model_quant_dr_file))}\")\n",
        "\n",
        "#Acc\n",
        "interpreter_quant_dr = tf.lite.Interpreter(model_path=str(model_quant_dr_file))\n",
        "interpreter_quant_dr.allocate_tensors()\n",
        "print(f\"Quantized model DR (tflite) accuracy: {evaluate_model(interpreter_quant_dr)}\")"
      ],
      "metadata": {
        "colab": {
          "base_uri": "https://localhost:8080/"
        },
        "id": "A4TaLWcJ1K3E",
        "outputId": "051c70b7-d79f-4ca5-a4bd-77ae19d5da07"
      },
      "execution_count": 26,
      "outputs": [
        {
          "output_type": "stream",
          "name": "stdout",
          "text": [
            "Quantized model DR (tflite) size (bytes): 1539488\n",
            "Quantized model DR (tflite) accuracy: 0.9151503164556962\n"
          ]
        }
      ]
    },
    {
      "cell_type": "code",
      "source": [
        "!python tflite_tools/tflite_tools.py -i /content/models/student1_pruned60_quant_dr.tflite --calc-macs --calc-size"
      ],
      "metadata": {
        "colab": {
          "base_uri": "https://localhost:8080/"
        },
        "id": "d87BxRnJ2BY3",
        "outputId": "62d79bb4-4c41-4616-9fb9-d9c1b196052d"
      },
      "execution_count": 27,
      "outputs": [
        {
          "output_type": "stream",
          "name": "stdout",
          "text": [
            "Tensor information (weights excluded):\n",
            "+-----+----------------------------------------------------------------------------------+------------------+-----------------+\n",
            "|  Id |                                      Tensor                                      |      Shape       | Size in RAM (B) |\n",
            "+-----+----------------------------------------------------------------------------------+------------------+-----------------+\n",
            "|   0 |                            serving_default_input_4:0                             |  (1, 32, 32, 3)  |          12,288 |\n",
            "|  88 | model_3/Conv1_relu/Relu;model_3/bn_Con...k_5_project/Conv2D;model_3/Conv1/Conv2D | (1, 32, 32, 32)  |         131,072 |\n",
            "|  89 |                          model_3/block_0_adjust/Conv2D1                          | (1, 32, 32, 16)  |          65,536 |\n",
            "|  90 | model_3/block_0_expand_relu/Relu;model...ct/Conv2D;model_3/block_0_expand/Conv2D | (1, 32, 32, 32)  |         131,072 |\n",
            "|  91 | model_3/block_0_depthwise_relu/Relu;mo...v2D;model_3/block_0_depthwise/depthwise | (1, 32, 32, 32)  |         131,072 |\n",
            "|  92 |    model_3/block_0_project_BN/FusedBatchNormV3;model_3/block_0_project/Conv2D    | (1, 32, 32, 16)  |          65,536 |\n",
            "|  93 |                             model_3/block_0_add/add                              | (1, 32, 32, 16)  |          65,536 |\n",
            "|  94 |                          model_3/block_1_adjust/Conv2D1                          | (1, 32, 32, 24)  |          98,304 |\n",
            "|  95 | model_3/block_1_expand_relu/Relu;model...ct/Conv2D;model_3/block_1_expand/Conv2D | (1, 32, 32, 96)  |         393,216 |\n",
            "|  96 | model_3/block_1_depthwise_relu/Relu;mo...v2D;model_3/block_1_depthwise/depthwise | (1, 32, 32, 96)  |         393,216 |\n",
            "|  97 | model_3/block_1_project_BN/FusedBatchN...t/Conv2D;model_3/block_1_project/Conv2D | (1, 32, 32, 24)  |          98,304 |\n",
            "|  98 |                             model_3/block_1_add/add                              | (1, 32, 32, 24)  |          98,304 |\n",
            "|  99 | model_3/block_2_expand_relu/Relu;model...depthwise;model_3/block_2_expand/Conv2D | (1, 32, 32, 144) |         589,824 |\n",
            "| 100 | model_3/block_2_depthwise_relu/Relu;mo...ise;model_3/block_2_depthwise/depthwise | (1, 32, 32, 144) |         589,824 |\n",
            "| 101 |    model_3/block_2_project_BN/FusedBatchNormV3;model_3/block_2_project/Conv2D    | (1, 32, 32, 24)  |          98,304 |\n",
            "| 102 |                             model_3/block_2_add/add                              | (1, 32, 32, 24)  |          98,304 |\n",
            "| 103 | model_3/block_3_expand_relu/Relu;model...depthwise;model_3/block_3_expand/Conv2D | (1, 32, 32, 144) |         589,824 |\n",
            "| 104 | model_3/block_3_depthwise_relu/Relu;mo...mV3;model_3/block_3_depthwise/depthwise | (1, 16, 16, 144) |         147,456 |\n",
            "| 105 | model_3/block_3_project_BN/FusedBatchN...t/Conv2D;model_3/block_3_project/Conv2D | (1, 16, 16, 32)  |          32,768 |\n",
            "| 106 | model_3/block_4_expand_relu/Relu;model...depthwise;model_3/block_4_expand/Conv2D | (1, 16, 16, 192) |         196,608 |\n",
            "| 107 | model_3/block_4_depthwise_relu/Relu;mo...ise;model_3/block_4_depthwise/depthwise | (1, 16, 16, 192) |         196,608 |\n",
            "| 108 | model_3/block_4_project_BN/FusedBatchN...t/Conv2D;model_3/block_4_project/Conv2D | (1, 16, 16, 32)  |          32,768 |\n",
            "| 109 |                             model_3/block_4_add/add                              | (1, 16, 16, 32)  |          32,768 |\n",
            "| 110 | model_3/block_5_expand_relu/Relu;model...depthwise;model_3/block_5_expand/Conv2D | (1, 16, 16, 192) |         196,608 |\n",
            "| 111 | model_3/block_5_depthwise_relu/Relu;mo...ise;model_3/block_5_depthwise/depthwise | (1, 16, 16, 192) |         196,608 |\n",
            "| 112 |    model_3/block_5_project_BN/FusedBatchNormV3;model_3/block_5_project/Conv2D    | (1, 16, 16, 32)  |          32,768 |\n",
            "| 113 |                             model_3/block_5_add/add                              | (1, 16, 16, 32)  |          32,768 |\n",
            "| 114 | model_3/block_6_expand_relu/Relu;model...depthwise;model_3/block_6_expand/Conv2D | (1, 16, 16, 192) |         196,608 |\n",
            "| 115 | model_3/block_6_depthwise_relu/Relu;mo...mV3;model_3/block_6_depthwise/depthwise |  (1, 8, 8, 192)  |          49,152 |\n",
            "| 116 | model_3/block_6_project_BN/FusedBatchN...t/Conv2D;model_3/block_6_project/Conv2D |  (1, 8, 8, 64)   |          16,384 |\n",
            "| 117 | model_3/block_7_expand_relu/Relu;model...depthwise;model_3/block_7_expand/Conv2D |  (1, 8, 8, 384)  |          98,304 |\n",
            "| 118 | model_3/block_7_depthwise_relu/Relu;mo...ise;model_3/block_7_depthwise/depthwise |  (1, 8, 8, 384)  |          98,304 |\n",
            "| 119 | model_3/block_7_project_BN/FusedBatchN...t/Conv2D;model_3/block_7_project/Conv2D |  (1, 8, 8, 64)   |          16,384 |\n",
            "| 120 |                             model_3/block_7_add/add                              |  (1, 8, 8, 64)   |          16,384 |\n",
            "| 121 | model_3/block_9_expand_relu/Relu;model...depthwise;model_3/block_9_expand/Conv2D |  (1, 8, 8, 384)  |          98,304 |\n",
            "| 122 | model_3/block_9_depthwise_relu/Relu;mo...ise;model_3/block_9_depthwise/depthwise |  (1, 8, 8, 384)  |          98,304 |\n",
            "| 123 |    model_3/block_9_project_BN/FusedBatchNormV3;model_3/block_9_project/Conv2D    |  (1, 8, 8, 64)   |          16,384 |\n",
            "| 124 |                             model_3/block_9_add/add                              |  (1, 8, 8, 64)   |          16,384 |\n",
            "| 125 |                         model_3/block_10_adjust/Conv2D1                          |  (1, 8, 8, 96)   |          24,576 |\n",
            "| 126 | model_3/block_10_expand_relu/Relu;mode...epthwise;model_3/block_10_expand/Conv2D |  (1, 8, 8, 384)  |          98,304 |\n",
            "| 127 | model_3/block_10_depthwise_relu/Relu;m...V3;model_3/block_10_depthwise/depthwise |  (1, 8, 8, 384)  |          98,304 |\n",
            "| 128 |   model_3/block_10_project_BN/FusedBatchNormV3;model_3/block_10_project/Conv2D   |  (1, 8, 8, 96)   |          24,576 |\n",
            "| 129 |                             model_3/block_10_add/add                             |  (1, 8, 8, 96)   |          24,576 |\n",
            "| 130 | model_3/block_13_expand_relu/Relu;mode...epthwise;model_3/block_13_expand/Conv2D |  (1, 8, 8, 576)  |         147,456 |\n",
            "| 131 | model_3/block_13_depthwise_relu/Relu;m...V3;model_3/block_13_depthwise/depthwise |  (1, 4, 4, 576)  |          36,864 |\n",
            "| 132 |   model_3/block_13_project_BN/FusedBatchNormV3;model_3/block_13_project/Conv2D   |  (1, 4, 4, 160)  |          10,240 |\n",
            "| 133 |                         model_3/block_16_adjust/Conv2D1                          |  (1, 4, 4, 320)  |          20,480 |\n",
            "| 134 | model_3/block_16_expand_relu/Relu;mode...epthwise;model_3/block_16_expand/Conv2D |  (1, 4, 4, 960)  |          61,440 |\n",
            "| 135 | model_3/block_16_depthwise_relu/Relu;m...V3;model_3/block_16_depthwise/depthwise |  (1, 4, 4, 960)  |          61,440 |\n",
            "| 136 |   model_3/block_16_project_BN/FusedBatchNormV3;model_3/block_16_project/Conv2D   |  (1, 4, 4, 320)  |          20,480 |\n",
            "| 137 |                             model_3/block_16_add/add                             |  (1, 4, 4, 320)  |          20,480 |\n",
            "| 138 |  model_3/out_relu/Relu;model_3/Conv_1_bn/FusedBatchNormV3;model_3/Conv_1/Conv2D  | (1, 4, 4, 1280)  |          81,920 |\n",
            "| 139 |                     model_3/global_average_pooling2d_3/Mean                      |    (1, 1280)     |           5,120 |\n",
            "| 140 |                            StatefulPartitionedCall:0                             |     (1, 10)      |              40 |\n",
            "+-----+----------------------------------------------------------------------------------+------------------+-----------------+\n",
            "\n",
            "Operator execution schedule:\n",
            "+----------------------------------------------------------------------------------+-------------------------+----------------+-----------+---------+\n",
            "|                              Operator (output name)                              | Tensors in memory (IDs) | Memory use (B) |      MACs |    Size |\n",
            "+----------------------------------------------------------------------------------+-------------------------+----------------+-----------+---------+\n",
            "| model_3/Conv1_relu/Relu;model_3/bn_Con...k_5_project/Conv2D;model_3/Conv1/Conv2D |         [0, 88]         |        143,360 |   884,736 |   3,584 |\n",
            "|                          model_3/block_0_adjust/Conv2D1                          |         [88, 89]        |        196,608 |   524,288 |   2,112 |\n",
            "| model_3/block_0_expand_relu/Relu;model...ct/Conv2D;model_3/block_0_expand/Conv2D |       [88, 89, 90]      |        327,680 | 1,048,576 |   1,152 |\n",
            "| model_3/block_0_depthwise_relu/Relu;mo...v2D;model_3/block_0_depthwise/depthwise |       [89, 90, 91]      |        327,680 |   294,912 |   1,280 |\n",
            "|    model_3/block_0_project_BN/FusedBatchNormV3;model_3/block_0_project/Conv2D    |       [89, 91, 92]      |        262,144 |   524,288 |   2,112 |\n",
            "|                             model_3/block_0_add/add                              |       [89, 92, 93]      |        196,608 |    16,384 |       0 |\n",
            "|                          model_3/block_1_adjust/Conv2D1                          |         [93, 94]        |        163,840 |   393,216 |   1,632 |\n",
            "| model_3/block_1_expand_relu/Relu;model...ct/Conv2D;model_3/block_1_expand/Conv2D |       [93, 94, 95]      |        557,056 | 1,572,864 |   1,920 |\n",
            "| model_3/block_1_depthwise_relu/Relu;mo...v2D;model_3/block_1_depthwise/depthwise |       [94, 95, 96]      |        884,736 |   884,736 |   3,840 |\n",
            "| model_3/block_1_project_BN/FusedBatchN...t/Conv2D;model_3/block_1_project/Conv2D |       [94, 96, 97]      |        589,824 | 2,359,296 |   2,400 |\n",
            "|                             model_3/block_1_add/add                              |       [94, 97, 98]      |        294,912 |    24,576 |       0 |\n",
            "| model_3/block_2_expand_relu/Relu;model...depthwise;model_3/block_2_expand/Conv2D |         [98, 99]        |        688,128 | 3,538,944 |   4,032 |\n",
            "| model_3/block_2_depthwise_relu/Relu;mo...ise;model_3/block_2_depthwise/depthwise |      [98, 99, 100]      |      1,277,952 | 1,327,104 |   1,872 |\n",
            "|    model_3/block_2_project_BN/FusedBatchNormV3;model_3/block_2_project/Conv2D    |      [98, 100, 101]     |        786,432 | 3,538,944 |   3,552 |\n",
            "|                             model_3/block_2_add/add                              |      [98, 101, 102]     |        294,912 |    24,576 |       0 |\n",
            "| model_3/block_3_expand_relu/Relu;model...depthwise;model_3/block_3_expand/Conv2D |        [102, 103]       |        688,128 | 3,538,944 |   4,032 |\n",
            "| model_3/block_3_depthwise_relu/Relu;mo...mV3;model_3/block_3_depthwise/depthwise |        [103, 104]       |        737,280 |   331,776 |   1,872 |\n",
            "| model_3/block_3_project_BN/FusedBatchN...t/Conv2D;model_3/block_3_project/Conv2D |        [104, 105]       |        180,224 | 1,179,648 |   4,736 |\n",
            "| model_3/block_4_expand_relu/Relu;model...depthwise;model_3/block_4_expand/Conv2D |        [105, 106]       |        229,376 | 1,572,864 |   6,912 |\n",
            "| model_3/block_4_depthwise_relu/Relu;mo...ise;model_3/block_4_depthwise/depthwise |     [105, 106, 107]     |        425,984 |   442,368 |   2,496 |\n",
            "| model_3/block_4_project_BN/FusedBatchN...t/Conv2D;model_3/block_4_project/Conv2D |     [105, 107, 108]     |        262,144 | 1,572,864 |   6,272 |\n",
            "|                             model_3/block_4_add/add                              |     [105, 108, 109]     |         98,304 |     8,192 |       0 |\n",
            "| model_3/block_5_expand_relu/Relu;model...depthwise;model_3/block_5_expand/Conv2D |        [109, 110]       |        229,376 | 1,572,864 |   6,912 |\n",
            "| model_3/block_5_depthwise_relu/Relu;mo...ise;model_3/block_5_depthwise/depthwise |     [109, 110, 111]     |        425,984 |   442,368 |   2,496 |\n",
            "|    model_3/block_5_project_BN/FusedBatchNormV3;model_3/block_5_project/Conv2D    |     [109, 111, 112]     |        262,144 | 1,572,864 |   6,272 |\n",
            "|                             model_3/block_5_add/add                              |     [109, 112, 113]     |         98,304 |     8,192 |       0 |\n",
            "| model_3/block_6_expand_relu/Relu;model...depthwise;model_3/block_6_expand/Conv2D |        [113, 114]       |        229,376 | 1,572,864 |   6,912 |\n",
            "| model_3/block_6_depthwise_relu/Relu;mo...mV3;model_3/block_6_depthwise/depthwise |        [114, 115]       |        245,760 |   110,592 |   2,496 |\n",
            "| model_3/block_6_project_BN/FusedBatchN...t/Conv2D;model_3/block_6_project/Conv2D |        [115, 116]       |         65,536 |   786,432 |  12,544 |\n",
            "| model_3/block_7_expand_relu/Relu;model...depthwise;model_3/block_7_expand/Conv2D |        [116, 117]       |        114,688 | 1,572,864 |  26,112 |\n",
            "| model_3/block_7_depthwise_relu/Relu;mo...ise;model_3/block_7_depthwise/depthwise |     [116, 117, 118]     |        212,992 |   221,184 |   4,992 |\n",
            "| model_3/block_7_project_BN/FusedBatchN...t/Conv2D;model_3/block_7_project/Conv2D |     [116, 118, 119]     |        131,072 | 1,572,864 |  24,832 |\n",
            "|                             model_3/block_7_add/add                              |     [116, 119, 120]     |         49,152 |     4,096 |       0 |\n",
            "| model_3/block_9_expand_relu/Relu;model...depthwise;model_3/block_9_expand/Conv2D |        [120, 121]       |        114,688 | 1,572,864 |  26,112 |\n",
            "| model_3/block_9_depthwise_relu/Relu;mo...ise;model_3/block_9_depthwise/depthwise |     [120, 121, 122]     |        212,992 |   221,184 |   4,992 |\n",
            "|    model_3/block_9_project_BN/FusedBatchNormV3;model_3/block_9_project/Conv2D    |     [120, 122, 123]     |        131,072 | 1,572,864 |  24,832 |\n",
            "|                             model_3/block_9_add/add                              |     [120, 123, 124]     |         49,152 |     4,096 |       0 |\n",
            "|                         model_3/block_10_adjust/Conv2D1                          |        [124, 125]       |         40,960 |   393,216 |   6,528 |\n",
            "| model_3/block_10_expand_relu/Relu;mode...epthwise;model_3/block_10_expand/Conv2D |     [124, 125, 126]     |        139,264 | 1,572,864 |  26,112 |\n",
            "| model_3/block_10_depthwise_relu/Relu;m...V3;model_3/block_10_depthwise/depthwise |     [125, 126, 127]     |        221,184 |   221,184 |   4,992 |\n",
            "|   model_3/block_10_project_BN/FusedBatchNormV3;model_3/block_10_project/Conv2D   |     [128, 125, 127]     |        147,456 | 2,359,296 |  37,248 |\n",
            "|                             model_3/block_10_add/add                             |     [128, 129, 125]     |         73,728 |     6,144 |       0 |\n",
            "| model_3/block_13_expand_relu/Relu;mode...epthwise;model_3/block_13_expand/Conv2D |        [129, 130]       |        172,032 | 3,538,944 |  57,600 |\n",
            "| model_3/block_13_depthwise_relu/Relu;m...V3;model_3/block_13_depthwise/depthwise |        [130, 131]       |        184,320 |    82,944 |   7,488 |\n",
            "|   model_3/block_13_project_BN/FusedBatchNormV3;model_3/block_13_project/Conv2D   |        [131, 132]       |         47,104 | 1,474,560 |  92,800 |\n",
            "|                         model_3/block_16_adjust/Conv2D1                          |        [132, 133]       |         30,720 |   819,200 |  52,480 |\n",
            "| model_3/block_16_expand_relu/Relu;mode...epthwise;model_3/block_16_expand/Conv2D |     [132, 133, 134]     |         92,160 | 2,457,600 | 157,440 |\n",
            "| model_3/block_16_depthwise_relu/Relu;m...V3;model_3/block_16_depthwise/depthwise |     [133, 134, 135]     |        143,360 |   138,240 |  12,480 |\n",
            "|   model_3/block_16_project_BN/FusedBatchNormV3;model_3/block_16_project/Conv2D   |     [133, 135, 136]     |        102,400 | 4,915,200 | 308,480 |\n",
            "|                             model_3/block_16_add/add                             |     [133, 136, 137]     |         61,440 |     5,120 |       0 |\n",
            "|  model_3/out_relu/Relu;model_3/Conv_1_bn/FusedBatchNormV3;model_3/Conv_1/Conv2D  |        [137, 138]       |        102,400 | 6,553,600 | 414,720 |\n",
            "|                     model_3/global_average_pooling2d_3/Mean                      |        [138, 139]       |         87,040 |    20,480 |       8 |\n",
            "|                            StatefulPartitionedCall:0                             |        [139, 140]       |          5,160 |    12,800 |  12,840 |\n",
            "+----------------------------------------------------------------------------------+-------------------------+----------------+-----------+---------+\n",
            "Current peak memory usage: 1,277,952 B\n",
            "Total MACs: 62,983,680\n",
            "Total weight size: 1,396,528\n",
            "\n"
          ]
        }
      ]
    }
  ]
}